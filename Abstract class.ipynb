{
 "cells": [
  {
   "cell_type": "code",
   "execution_count": 1,
   "id": "27f328ee",
   "metadata": {},
   "outputs": [],
   "source": [
    "import abc\n",
    "class pwskills:\n",
    "    @abc.abstractmethod\n",
    "    def student_details(self):\n",
    "        pass\n",
    "    \n",
    "    @abc.abstractmethod\n",
    "    def student_assignment(self):\n",
    "        pass\n",
    "    \n",
    "    @abc.abstractmethod\n",
    "    def student_marks(self):\n",
    "        pass"
   ]
  },
  {
   "cell_type": "code",
   "execution_count": 3,
   "id": "da3cbb86",
   "metadata": {},
   "outputs": [],
   "source": [
    "class student_details(pwskills):\n",
    "    def student_details(self):\n",
    "        return \"This is a method taking for student details\"\n",
    "    \n",
    "    def student_assignment(self):\n",
    "        return \"This method for assignment details for a particular student\""
   ]
  },
  {
   "cell_type": "code",
   "execution_count": 4,
   "id": "47e6d1a2",
   "metadata": {},
   "outputs": [],
   "source": [
    "class data_science_masters(pwskills):\n",
    "    def student_details(self):\n",
    "        return \"This will be return for data science master student details\"\n",
    "    \n",
    "    def student_assignment(self):\n",
    "        return \"This will be return for data science master student assigmnet details\""
   ]
  },
  {
   "cell_type": "code",
   "execution_count": 5,
   "id": "6236cde0",
   "metadata": {},
   "outputs": [
    {
     "data": {
      "text/plain": [
       "'This will be return for data science master student assigmnet details'"
      ]
     },
     "execution_count": 5,
     "metadata": {},
     "output_type": "execute_result"
    }
   ],
   "source": [
    "dsm=data_science_masters()\n",
    "dsm.student_assignment()"
   ]
  },
  {
   "cell_type": "code",
   "execution_count": 6,
   "id": "6c75c53d",
   "metadata": {},
   "outputs": [
    {
     "data": {
      "text/plain": [
       "'This is a method taking for student details'"
      ]
     },
     "execution_count": 6,
     "metadata": {},
     "output_type": "execute_result"
    }
   ],
   "source": [
    "sd=student_details()\n",
    "sd.student_details()"
   ]
  },
  {
   "cell_type": "code",
   "execution_count": null,
   "id": "9f5581f0",
   "metadata": {},
   "outputs": [],
   "source": []
  }
 ],
 "metadata": {
  "kernelspec": {
   "display_name": "Python 3 (ipykernel)",
   "language": "python",
   "name": "python3"
  },
  "language_info": {
   "codemirror_mode": {
    "name": "ipython",
    "version": 3
   },
   "file_extension": ".py",
   "mimetype": "text/x-python",
   "name": "python",
   "nbconvert_exporter": "python",
   "pygments_lexer": "ipython3",
   "version": "3.9.13"
  }
 },
 "nbformat": 4,
 "nbformat_minor": 5
}
