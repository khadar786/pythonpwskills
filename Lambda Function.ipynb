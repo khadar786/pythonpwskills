{
 "cells": [
  {
   "cell_type": "code",
   "execution_count": 1,
   "id": "12341cba",
   "metadata": {},
   "outputs": [],
   "source": [
    "n=3\n",
    "p=2"
   ]
  },
  {
   "cell_type": "code",
   "execution_count": 2,
   "id": "675995dd",
   "metadata": {},
   "outputs": [],
   "source": [
    "def test(n,p):\n",
    "    return n**p"
   ]
  },
  {
   "cell_type": "code",
   "execution_count": 3,
   "id": "60dbcacf",
   "metadata": {},
   "outputs": [
    {
     "data": {
      "text/plain": [
       "9"
      ]
     },
     "execution_count": 3,
     "metadata": {},
     "output_type": "execute_result"
    }
   ],
   "source": [
    "test(3,2)"
   ]
  },
  {
   "cell_type": "code",
   "execution_count": 4,
   "id": "22bc78b7",
   "metadata": {},
   "outputs": [],
   "source": [
    "a=lambda n,p:n**p"
   ]
  },
  {
   "cell_type": "code",
   "execution_count": 5,
   "id": "6a94bcbe",
   "metadata": {},
   "outputs": [
    {
     "data": {
      "text/plain": [
       "27"
      ]
     },
     "execution_count": 5,
     "metadata": {},
     "output_type": "execute_result"
    }
   ],
   "source": [
    "a(3,3)"
   ]
  },
  {
   "cell_type": "code",
   "execution_count": 6,
   "id": "55eb4b3b",
   "metadata": {},
   "outputs": [],
   "source": [
    "add=lambda a,b:a+b"
   ]
  },
  {
   "cell_type": "code",
   "execution_count": 7,
   "id": "a161650e",
   "metadata": {},
   "outputs": [
    {
     "data": {
      "text/plain": [
       "30"
      ]
     },
     "execution_count": 7,
     "metadata": {},
     "output_type": "execute_result"
    }
   ],
   "source": [
    "add(10,20)"
   ]
  },
  {
   "cell_type": "code",
   "execution_count": 10,
   "id": "e10442b1",
   "metadata": {},
   "outputs": [],
   "source": [
    "c_to_f=lambda c:(9/5)*c+32"
   ]
  },
  {
   "cell_type": "code",
   "execution_count": 11,
   "id": "16a4eacd",
   "metadata": {},
   "outputs": [
    {
     "data": {
      "text/plain": [
       "113.0"
      ]
     },
     "execution_count": 11,
     "metadata": {},
     "output_type": "execute_result"
    }
   ],
   "source": [
    "c_to_f(45)"
   ]
  },
  {
   "cell_type": "code",
   "execution_count": 12,
   "id": "16e2d7f9",
   "metadata": {},
   "outputs": [],
   "source": [
    "finding_max=lambda x,y:x if x>y else y"
   ]
  },
  {
   "cell_type": "code",
   "execution_count": 14,
   "id": "149a693c",
   "metadata": {},
   "outputs": [
    {
     "data": {
      "text/plain": [
       "20"
      ]
     },
     "execution_count": 14,
     "metadata": {},
     "output_type": "execute_result"
    }
   ],
   "source": [
    "finding_max(20,4)"
   ]
  },
  {
   "cell_type": "code",
   "execution_count": null,
   "id": "316bad1a",
   "metadata": {},
   "outputs": [],
   "source": []
  }
 ],
 "metadata": {
  "kernelspec": {
   "display_name": "Python 3 (ipykernel)",
   "language": "python",
   "name": "python3"
  },
  "language_info": {
   "codemirror_mode": {
    "name": "ipython",
    "version": 3
   },
   "file_extension": ".py",
   "mimetype": "text/x-python",
   "name": "python",
   "nbconvert_exporter": "python",
   "pygments_lexer": "ipython3",
   "version": "3.9.13"
  }
 },
 "nbformat": 4,
 "nbformat_minor": 5
}
