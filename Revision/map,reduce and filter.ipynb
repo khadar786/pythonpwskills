{
 "cells": [
  {
   "cell_type": "code",
   "execution_count": 2,
   "id": "cf5d672e",
   "metadata": {},
   "outputs": [],
   "source": [
    "#map(function, iterable, ...)\n",
    "#iterable means sets,lists and tupple ...etc"
   ]
  },
  {
   "cell_type": "code",
   "execution_count": 4,
   "id": "d0aa5471",
   "metadata": {},
   "outputs": [
    {
     "name": "stdout",
     "output_type": "stream",
     "text": [
      "[4, 16, 36, 64, 100]\n"
     ]
    }
   ],
   "source": [
    "numbers=[2,4,6,8,10]\n",
    "\n",
    "def squere(num):\n",
    "    return num*num\n",
    "\n",
    "squre_result=map(squere,numbers)\n",
    "print(list(squre_result))"
   ]
  },
  {
   "cell_type": "code",
   "execution_count": 5,
   "id": "f33c7e70",
   "metadata": {},
   "outputs": [],
   "source": [
    "#Using lambda"
   ]
  },
  {
   "cell_type": "code",
   "execution_count": 6,
   "id": "53856c4c",
   "metadata": {},
   "outputs": [
    {
     "name": "stdout",
     "output_type": "stream",
     "text": [
      "[4, 16, 36, 64, 100]\n"
     ]
    }
   ],
   "source": [
    "result=map(lambda a:a*a,numbers)\n",
    "print(list(result))"
   ]
  },
  {
   "cell_type": "code",
   "execution_count": 7,
   "id": "0aaaa061",
   "metadata": {},
   "outputs": [],
   "source": [
    "#Passing Multiple Iterators to map() Using Lambda"
   ]
  },
  {
   "cell_type": "code",
   "execution_count": 9,
   "id": "353da7b2",
   "metadata": {},
   "outputs": [
    {
     "name": "stdout",
     "output_type": "stream",
     "text": [
      "[9, 11, 13]\n"
     ]
    }
   ],
   "source": [
    "num1 = [4, 5, 6]\n",
    "num2 = [5, 6, 7]\n",
    "\n",
    "result=map(lambda n1,n2:n1+n2,num1,num2)\n",
    "print(list(result))"
   ]
  },
  {
   "cell_type": "code",
   "execution_count": 11,
   "id": "cdb535b8",
   "metadata": {},
   "outputs": [],
   "source": [
    "#reduce(function, iterable) function is used to apply a particular function passed in its argument to all of the list elements\n",
    "#This function is defined in “functools” module."
   ]
  },
  {
   "cell_type": "code",
   "execution_count": 13,
   "id": "12cca40e",
   "metadata": {},
   "outputs": [
    {
     "name": "stdout",
     "output_type": "stream",
     "text": [
      "34\n"
     ]
    }
   ],
   "source": [
    "from functools import reduce\n",
    "lis=[1,3,4,5,6,7,8]\n",
    "\n",
    "def sum(a,b):\n",
    "    return a+b\n",
    "\n",
    "result=reduce(sum,lis)\n",
    "\n",
    "print(result)"
   ]
  },
  {
   "cell_type": "code",
   "execution_count": 14,
   "id": "600afdcc",
   "metadata": {},
   "outputs": [
    {
     "name": "stdout",
     "output_type": "stream",
     "text": [
      "34\n"
     ]
    }
   ],
   "source": [
    "lambda_result=reduce(lambda a,b:a+b,lis)\n",
    "print(lambda_result)"
   ]
  },
  {
   "cell_type": "code",
   "execution_count": 17,
   "id": "e757dcea",
   "metadata": {},
   "outputs": [
    {
     "name": "stdout",
     "output_type": "stream",
     "text": [
      "8\n"
     ]
    }
   ],
   "source": [
    "max_num=reduce(lambda a,b:a if a>b else b,lis)\n",
    "print(max_num)"
   ]
  },
  {
   "cell_type": "code",
   "execution_count": 18,
   "id": "d027798e",
   "metadata": {},
   "outputs": [
    {
     "name": "stdout",
     "output_type": "stream",
     "text": [
      "24\n"
     ]
    }
   ],
   "source": [
    "n=4\n",
    "factorial=reduce(lambda a,b:a*b,range(1,n+1))\n",
    "print(factorial)"
   ]
  },
  {
   "cell_type": "code",
   "execution_count": 21,
   "id": "f336f5bc",
   "metadata": {},
   "outputs": [
    {
     "name": "stdout",
     "output_type": "stream",
     "text": [
      "16\n"
     ]
    }
   ],
   "source": [
    "odd_sum=reduce(lambda a,b:a+b,[i for i in lis if i%2!=0])\n",
    "print(odd_sum)"
   ]
  },
  {
   "cell_type": "code",
   "execution_count": 22,
   "id": "8aae0bc8",
   "metadata": {},
   "outputs": [],
   "source": [
    "#filter(function, iterable)"
   ]
  },
  {
   "cell_type": "code",
   "execution_count": 30,
   "id": "9cf4eb18",
   "metadata": {},
   "outputs": [
    {
     "name": "stdout",
     "output_type": "stream",
     "text": [
      "['a', 'e', 'i', 'o']\n",
      "['a', 'e', 'i', 'o']\n"
     ]
    }
   ],
   "source": [
    "letters = ['a', 'b', 'd', 'e', 'i', 'j', 'o']\n",
    "\n",
    "def findVowel(letter):\n",
    "    if letter in ['a','e','i','o','u']:\n",
    "        return True\n",
    "    else:\n",
    "        return False\n",
    "    \n",
    "vowels_result=filter(findVowel,letters)\n",
    "print(list(vowels_result))\n",
    "\n",
    "lambda_vowels_result=filter(lambda letter:True if letter in ['a','e','i','o','u'] else False,letters)\n",
    "print(list(lambda_vowels_result))"
   ]
  },
  {
   "cell_type": "code",
   "execution_count": 32,
   "id": "5de29c79",
   "metadata": {},
   "outputs": [
    {
     "name": "stdout",
     "output_type": "stream",
     "text": [
      "[0, 2, 4, 6, 8, 10, 12, 14, 16, 18, 20, 22, 24, 26, 28, 30, 32, 34, 36, 38, 40, 42, 44, 46, 48, 50, 52, 54, 56, 58, 60, 62, 64, 66, 68, 70, 72, 74, 76, 78, 80, 82, 84, 86, 88, 90, 92, 94, 96, 98]\n"
     ]
    }
   ],
   "source": [
    "even_number_list=filter(lambda num:True if num%2==0 else False,[i for i in range(0,100)])\n",
    "\n",
    "print(list(even_number_list))"
   ]
  },
  {
   "cell_type": "code",
   "execution_count": null,
   "id": "8f98a6b1",
   "metadata": {},
   "outputs": [],
   "source": []
  }
 ],
 "metadata": {
  "kernelspec": {
   "display_name": "Python 3 (ipykernel)",
   "language": "python",
   "name": "python3"
  },
  "language_info": {
   "codemirror_mode": {
    "name": "ipython",
    "version": 3
   },
   "file_extension": ".py",
   "mimetype": "text/x-python",
   "name": "python",
   "nbconvert_exporter": "python",
   "pygments_lexer": "ipython3",
   "version": "3.9.13"
  }
 },
 "nbformat": 4,
 "nbformat_minor": 5
}
