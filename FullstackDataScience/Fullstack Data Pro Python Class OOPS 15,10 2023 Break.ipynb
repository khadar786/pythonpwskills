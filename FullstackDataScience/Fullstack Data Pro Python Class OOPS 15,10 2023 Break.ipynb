{
 "cells": [
  {
   "cell_type": "code",
   "execution_count": 11,
   "id": "a15adfd2",
   "metadata": {},
   "outputs": [],
   "source": [
    "#protect\n",
    "class queue:\n",
    "    def __init__(self):\n",
    "        self._queue=[]\n",
    "    \n",
    "    def enqueue(self,data):\n",
    "        self._queue.append(data)\n",
    "    \n",
    "    def dequeue(self):\n",
    "        if self._queue:\n",
    "            return self._queue.pop()\n",
    "        else:\n",
    "            return \"its empay\"\n",
    "        \n",
    "    def showdata(self):\n",
    "        return self._queue"
   ]
  },
  {
   "cell_type": "code",
   "execution_count": 12,
   "id": "2ca2a1c4",
   "metadata": {},
   "outputs": [],
   "source": [
    "q=queue()"
   ]
  },
  {
   "cell_type": "code",
   "execution_count": 13,
   "id": "b8646dca",
   "metadata": {},
   "outputs": [],
   "source": [
    "q.enqueue(30)"
   ]
  },
  {
   "cell_type": "code",
   "execution_count": 14,
   "id": "72f194ea",
   "metadata": {},
   "outputs": [
    {
     "data": {
      "text/plain": [
       "[30]"
      ]
     },
     "execution_count": 14,
     "metadata": {},
     "output_type": "execute_result"
    }
   ],
   "source": [
    "q.showdata()"
   ]
  },
  {
   "cell_type": "code",
   "execution_count": 15,
   "id": "fb2bbd10",
   "metadata": {},
   "outputs": [
    {
     "data": {
      "text/plain": [
       "30"
      ]
     },
     "execution_count": 15,
     "metadata": {},
     "output_type": "execute_result"
    }
   ],
   "source": [
    "q.dequeue()"
   ]
  },
  {
   "cell_type": "code",
   "execution_count": 16,
   "id": "c85a9efb",
   "metadata": {},
   "outputs": [
    {
     "data": {
      "text/plain": [
       "'its empay'"
      ]
     },
     "execution_count": 16,
     "metadata": {},
     "output_type": "execute_result"
    }
   ],
   "source": [
    "q.dequeue()"
   ]
  },
  {
   "cell_type": "code",
   "execution_count": 17,
   "id": "b15d6ad8",
   "metadata": {},
   "outputs": [],
   "source": [
    "#abstraction"
   ]
  },
  {
   "cell_type": "code",
   "execution_count": 20,
   "id": "a1615aee",
   "metadata": {},
   "outputs": [],
   "source": [
    "# abstract base class work\n",
    "from abc import ABC, abstractmethod\n",
    "\n",
    "class pwskills(ABC):\n",
    "    \n",
    "    @abstractmethod\n",
    "    def databaseconnect(self):\n",
    "        pass\n",
    "    \n",
    "    @abstractmethod\n",
    "    def checkuserenrollment(self,user_mailid):\n",
    "        pass\n",
    "    \n",
    "    @abstractmethod\n",
    "    def check_completed_lecture(self,user_id,class_id):\n",
    "        pass\n",
    "    \n",
    "    @abstractmethod\n",
    "    def check_lab_usases(self,user_id):\n",
    "        pass\n",
    "    \n",
    "    @abstractmethod\n",
    "    def check_internship(self,user_id):\n",
    "        pass"
   ]
  },
  {
   "cell_type": "code",
   "execution_count": 21,
   "id": "54ae2452",
   "metadata": {},
   "outputs": [],
   "source": [
    "class dabaseconnect(pwskills):\n",
    "    \n",
    "    def databaseconnect(self):\n",
    "        print(\"this is a implementation of database connect\")\n",
    "    \n",
    "    def checkuserenrollment(self,user_mailid):\n",
    "        pass\n",
    "    \n",
    "    def check_completed_lecture(self,user_id,class_id):\n",
    "        pass\n",
    "    \n",
    "    def check_lab_usases(self,user_id):\n",
    "        pass\n",
    "    \n",
    "    def check_internship(self,user_id):\n",
    "        pass"
   ]
  },
  {
   "cell_type": "code",
   "execution_count": 23,
   "id": "4eea40b8",
   "metadata": {},
   "outputs": [],
   "source": [
    "db1=dabaseconnect()"
   ]
  },
  {
   "cell_type": "code",
   "execution_count": 24,
   "id": "9e890c98",
   "metadata": {},
   "outputs": [
    {
     "name": "stdout",
     "output_type": "stream",
     "text": [
      "this is a implementation of database connect\n"
     ]
    }
   ],
   "source": [
    "db1.databaseconnect()"
   ]
  },
  {
   "cell_type": "code",
   "execution_count": 43,
   "id": "645ef782",
   "metadata": {},
   "outputs": [],
   "source": [
    "class calculation:\n",
    "    @staticmethod\n",
    "    def add(x,y):\n",
    "        return x+y\n",
    "    \n",
    "    @staticmethod\n",
    "    def sub(x,y):\n",
    "        return x-y\n",
    "    \n",
    "    def div(self,x,y):\n",
    "        return x/y"
   ]
  },
  {
   "cell_type": "code",
   "execution_count": 44,
   "id": "26a283d9",
   "metadata": {},
   "outputs": [],
   "source": [
    "class cal(calculation):\n",
    "    pass"
   ]
  },
  {
   "cell_type": "code",
   "execution_count": null,
   "id": "65e14a3c",
   "metadata": {},
   "outputs": [],
   "source": [
    "c1=cal()\n",
    "c1.uj"
   ]
  },
  {
   "cell_type": "code",
   "execution_count": 40,
   "id": "a64fb869",
   "metadata": {},
   "outputs": [
    {
     "data": {
      "text/plain": [
       "7"
      ]
     },
     "execution_count": 40,
     "metadata": {},
     "output_type": "execute_result"
    }
   ],
   "source": [
    "calculation.add(3,4)"
   ]
  },
  {
   "cell_type": "code",
   "execution_count": 42,
   "id": "477c6771",
   "metadata": {},
   "outputs": [
    {
     "data": {
      "text/plain": [
       "0.5714285714285714"
      ]
     },
     "execution_count": 42,
     "metadata": {},
     "output_type": "execute_result"
    }
   ],
   "source": [
    "calculation.div(_,4,7)"
   ]
  },
  {
   "cell_type": "code",
   "execution_count": 36,
   "id": "5d6834af",
   "metadata": {},
   "outputs": [],
   "source": [
    "a=calculation()"
   ]
  },
  {
   "cell_type": "code",
   "execution_count": 37,
   "id": "80665442",
   "metadata": {},
   "outputs": [
    {
     "data": {
      "text/plain": [
       "0.75"
      ]
     },
     "execution_count": 37,
     "metadata": {},
     "output_type": "execute_result"
    }
   ],
   "source": [
    "a.div(3,4)"
   ]
  },
  {
   "cell_type": "code",
   "execution_count": 39,
   "id": "62b63fd8",
   "metadata": {},
   "outputs": [
    {
     "data": {
      "text/plain": [
       "0.5714285714285714"
      ]
     },
     "execution_count": 39,
     "metadata": {},
     "output_type": "execute_result"
    }
   ],
   "source": [
    "b=calculation()\n",
    "b.div(4,7)"
   ]
  },
  {
   "cell_type": "code",
   "execution_count": 49,
   "id": "877c245b",
   "metadata": {},
   "outputs": [],
   "source": [
    "class file_ops:\n",
    "    \n",
    "    def __init__(self,filename):\n",
    "        self.filename=filename\n",
    "    \n",
    "    def read_file(self):\n",
    "        with open(self.filename,'r') as file:\n",
    "            return file.read()\n",
    "    \n",
    "    def write_file(self,data):\n",
    "        with open(self.filename,'w') as file:\n",
    "            file.write(data)"
   ]
  },
  {
   "cell_type": "code",
   "execution_count": 50,
   "id": "03a2bd07",
   "metadata": {},
   "outputs": [],
   "source": [
    "sudh_op_file=file_ops('sudhfile.txt')\n",
    "sudh_op_file.write_file(\"afaafafafafaf file\");"
   ]
  },
  {
   "cell_type": "code",
   "execution_count": 51,
   "id": "0d4b506e",
   "metadata": {},
   "outputs": [],
   "source": [
    "kapil=file_ops('kapil.txt')\n",
    "kapil.write_file(\"this is kapil file\");"
   ]
  },
  {
   "cell_type": "code",
   "execution_count": 52,
   "id": "fc5c6c7c",
   "metadata": {},
   "outputs": [],
   "source": [
    "sachin=file_ops('sachin.txt')\n",
    "sachin.write_file(\"this is sachin file\");"
   ]
  },
  {
   "cell_type": "code",
   "execution_count": 53,
   "id": "3f96cc73",
   "metadata": {},
   "outputs": [],
   "source": [
    "#composition"
   ]
  },
  {
   "cell_type": "code",
   "execution_count": 54,
   "id": "63eaadf1",
   "metadata": {},
   "outputs": [],
   "source": [
    "class pwskills:\n",
    "    def student(self):\n",
    "        return \"student details\"\n",
    "    \n",
    "class datascience:\n",
    "    def __init__(self):\n",
    "        self.student=pwskills()"
   ]
  },
  {
   "cell_type": "code",
   "execution_count": 55,
   "id": "3b8c60ab",
   "metadata": {},
   "outputs": [],
   "source": [
    "d1=datascience()"
   ]
  },
  {
   "cell_type": "code",
   "execution_count": 58,
   "id": "7980a21b",
   "metadata": {},
   "outputs": [
    {
     "data": {
      "text/plain": [
       "'student details'"
      ]
     },
     "execution_count": 58,
     "metadata": {},
     "output_type": "execute_result"
    }
   ],
   "source": [
    "d1.student.student()"
   ]
  },
  {
   "cell_type": "code",
   "execution_count": 59,
   "id": "a39d1cc7",
   "metadata": {},
   "outputs": [],
   "source": [
    "class data:\n",
    "    def __init__(self,mentor_name):\n",
    "        self.mentor_name=mentor_name\n",
    "\n",
    "class webdev:\n",
    "    def __init__(self,mentor,lecture_name):\n",
    "        self.mentor=mentor\n",
    "        self.lecture_name=lecture_name"
   ]
  },
  {
   "cell_type": "code",
   "execution_count": 63,
   "id": "16a1ede6",
   "metadata": {},
   "outputs": [],
   "source": [
    "d=data(\"sudh\")\n",
    "w=webdev(d,\"css\")"
   ]
  },
  {
   "cell_type": "code",
   "execution_count": 64,
   "id": "6502f84c",
   "metadata": {},
   "outputs": [
    {
     "data": {
      "text/plain": [
       "'sudh'"
      ]
     },
     "execution_count": 64,
     "metadata": {},
     "output_type": "execute_result"
    }
   ],
   "source": [
    "d.mentor_name"
   ]
  },
  {
   "cell_type": "code",
   "execution_count": 66,
   "id": "19156001",
   "metadata": {},
   "outputs": [
    {
     "data": {
      "text/plain": [
       "'sudh'"
      ]
     },
     "execution_count": 66,
     "metadata": {},
     "output_type": "execute_result"
    }
   ],
   "source": [
    "w.mentor.mentor_name"
   ]
  },
  {
   "cell_type": "code",
   "execution_count": null,
   "id": "f1bf7d23",
   "metadata": {},
   "outputs": [],
   "source": []
  }
 ],
 "metadata": {
  "kernelspec": {
   "display_name": "Python 3 (ipykernel)",
   "language": "python",
   "name": "python3"
  },
  "language_info": {
   "codemirror_mode": {
    "name": "ipython",
    "version": 3
   },
   "file_extension": ".py",
   "mimetype": "text/x-python",
   "name": "python",
   "nbconvert_exporter": "python",
   "pygments_lexer": "ipython3",
   "version": "3.9.13"
  }
 },
 "nbformat": 4,
 "nbformat_minor": 5
}
