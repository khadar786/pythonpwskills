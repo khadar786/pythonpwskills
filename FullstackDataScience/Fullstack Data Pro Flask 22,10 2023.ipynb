{
 "cells": [
  {
   "cell_type": "code",
   "execution_count": 29,
   "id": "402e5f4c",
   "metadata": {},
   "outputs": [],
   "source": [
    "#Project Deployment In Clould\n",
    "\n",
    "#https://openweathermap.org/api\n",
    "#https://openweathermap.org/api/one-call-3\n",
    "\n",
    "#https://api.openweathermap.org/data/3.0/onecall?lat=33.44&lon=-94.04&exclude=hourly,daily&appid={API key}\n",
    "\n",
    "# openweathermap \n",
    "# API Key :8ef065fabaee20d930c7227703f446a2\n",
    "#https://github.com/sudh9931/apitest\n",
    "#https://api.openweathermap.org/data/2.5/weather\n",
    "#https://api.openweathermap.org/data/2.5/weather?q=landon&units=metric&appid=8ef065fabaee20d930c7227703f446a2\n",
    "#https://api.openweathermap.org/data/2.5/weather?q=bengaluru&units=metric&appid=8ef065fabaee20d930c7227703f446a2\n",
    "\n",
    "\n",
    "# 1.build this app in local\n",
    "# 2.push this in git\n",
    "# 3.deploy on cloud\n",
    "# 4.test it"
   ]
  },
  {
   "cell_type": "code",
   "execution_count": 22,
   "id": "ab1e963b",
   "metadata": {},
   "outputs": [],
   "source": [
    "apikey='8ef065fabaee20d930c7227703f446a2'\n",
    "url='https://api.openweathermap.org/data/2.5/weather'\n",
    "url1='https://api.openweathermap.org/data/3.0/onecall?lat={lat}&lon={lon}&exclude={part}&appid={API key}'\n",
    "url2='https://history.openweathermap.org/data/2.5/history/city'"
   ]
  },
  {
   "cell_type": "code",
   "execution_count": 23,
   "id": "753f2ca3",
   "metadata": {},
   "outputs": [
    {
     "data": {
      "text/plain": [
       "{'cod': 401,\n",
       " 'message': 'Please note that using One Call 3.0 requires a separate subscription to the One Call by Call plan. Learn more here https://openweathermap.org/price. If you have a valid subscription to the One Call by Call plan, but still receive this error, then please see https://openweathermap.org/faq#error401 for more info.'}"
      ]
     },
     "execution_count": 23,
     "metadata": {},
     "output_type": "execute_result"
    }
   ],
   "source": [
    "import requests\n",
    "ndata=requests.get(url1,params={'appid':apikey})\n",
    "ndata.json()"
   ]
  },
  {
   "cell_type": "code",
   "execution_count": 24,
   "id": "40e28293",
   "metadata": {},
   "outputs": [
    {
     "data": {
      "text/plain": [
       "{'cod': 401,\n",
       " 'message': 'Invalid API key. Please see http://openweathermap.org/faq#error401 for more info.'}"
      ]
     },
     "execution_count": 24,
     "metadata": {},
     "output_type": "execute_result"
    }
   ],
   "source": [
    "ndata1=requests.get(url2,params={'lat':41.85,'lon':-87.65,'appid':apikey})\n",
    "ndata1.json()"
   ]
  },
  {
   "cell_type": "code",
   "execution_count": 25,
   "id": "50b11f8d",
   "metadata": {},
   "outputs": [],
   "source": [
    "params={'q':'delhi',\n",
    "        'appid':apikey,\n",
    "        'units':'metric'\n",
    "       }"
   ]
  },
  {
   "cell_type": "code",
   "execution_count": 26,
   "id": "76f668bd",
   "metadata": {},
   "outputs": [],
   "source": [
    "import requests"
   ]
  },
  {
   "cell_type": "code",
   "execution_count": 27,
   "id": "cd55383e",
   "metadata": {},
   "outputs": [],
   "source": [
    "data=requests.get(url,params=params)"
   ]
  },
  {
   "cell_type": "code",
   "execution_count": 28,
   "id": "e8c12c1f",
   "metadata": {},
   "outputs": [
    {
     "data": {
      "text/plain": [
       "{'coord': {'lon': 77.2167, 'lat': 28.6667},\n",
       " 'weather': [{'id': 711,\n",
       "   'main': 'Smoke',\n",
       "   'description': 'smoke',\n",
       "   'icon': '50d'}],\n",
       " 'base': 'stations',\n",
       " 'main': {'temp': 23.05,\n",
       "  'feels_like': 23.08,\n",
       "  'temp_min': 23.05,\n",
       "  'temp_max': 23.05,\n",
       "  'pressure': 1020,\n",
       "  'humidity': 64},\n",
       " 'visibility': 1100,\n",
       " 'wind': {'speed': 0, 'deg': 0},\n",
       " 'clouds': {'all': 28},\n",
       " 'dt': 1697949211,\n",
       " 'sys': {'type': 1,\n",
       "  'id': 9165,\n",
       "  'country': 'IN',\n",
       "  'sunrise': 1697936145,\n",
       "  'sunset': 1697976919},\n",
       " 'timezone': 19800,\n",
       " 'id': 1273294,\n",
       " 'name': 'Delhi',\n",
       " 'cod': 200}"
      ]
     },
     "execution_count": 28,
     "metadata": {},
     "output_type": "execute_result"
    }
   ],
   "source": [
    "data.json()"
   ]
  },
  {
   "cell_type": "code",
   "execution_count": 30,
   "id": "48ed9c08",
   "metadata": {},
   "outputs": [],
   "source": [
    "# 1.build this app in local\n",
    "# 2.push this in git\n",
    "# 3.deploy on cloud\n",
    "# 4.test it"
   ]
  },
  {
   "cell_type": "code",
   "execution_count": 31,
   "id": "58b46cc1",
   "metadata": {},
   "outputs": [],
   "source": [
    "#requirements.txt\n",
    "# Flask==1.1.2\n",
    "# gunicorn==20.0.4\n",
    "# requests==2.24.0"
   ]
  },
  {
   "cell_type": "code",
   "execution_count": null,
   "id": "2db4faf7",
   "metadata": {},
   "outputs": [],
   "source": [
    "#https://dashboard.render.com/"
   ]
  }
 ],
 "metadata": {
  "kernelspec": {
   "display_name": "Python 3 (ipykernel)",
   "language": "python",
   "name": "python3"
  },
  "language_info": {
   "codemirror_mode": {
    "name": "ipython",
    "version": 3
   },
   "file_extension": ".py",
   "mimetype": "text/x-python",
   "name": "python",
   "nbconvert_exporter": "python",
   "pygments_lexer": "ipython3",
   "version": "3.9.13"
  }
 },
 "nbformat": 4,
 "nbformat_minor": 5
}
