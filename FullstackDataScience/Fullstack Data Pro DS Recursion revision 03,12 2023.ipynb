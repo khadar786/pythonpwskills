{
 "cells": [
  {
   "cell_type": "code",
   "execution_count": 1,
   "id": "0b1246de",
   "metadata": {},
   "outputs": [],
   "source": [
    "#Search in recursion\n",
    "#1.arr\n",
    "#2.data\n",
    "#3.sIndex"
   ]
  },
  {
   "cell_type": "code",
   "execution_count": 3,
   "id": "6cc3fdc3",
   "metadata": {},
   "outputs": [
    {
     "data": {
      "text/plain": [
       "3"
      ]
     },
     "execution_count": 3,
     "metadata": {},
     "output_type": "execute_result"
    }
   ],
   "source": [
    "def search_rec(arr,sI,data):\n",
    "    #Base condition\n",
    "    if sI>=len(arr):\n",
    "        return -1\n",
    "    \n",
    "    #Logic\n",
    "    if arr[sI]==data:\n",
    "        return sI\n",
    "    else:\n",
    "        #Recursive\n",
    "        return search_rec(arr,sI+1,data)\n",
    "\n",
    "#driver execustion\n",
    "search_rec([4,5,3,2,1,-2],0,2)"
   ]
  },
  {
   "cell_type": "code",
   "execution_count": 17,
   "id": "0b29dc1f",
   "metadata": {},
   "outputs": [
    {
     "name": "stdout",
     "output_type": "stream",
     "text": [
      "1\n"
     ]
    }
   ],
   "source": [
    "#1.mid,startIndex,lastIndex\n",
    "#2.arr\n",
    "#3.data\n",
    "\n",
    "def binarySearch_rec(arr,sI,eI,data):\n",
    "    #Base condition\n",
    "    if sI>eI:\n",
    "        return -1\n",
    "    \n",
    "    #Logic\n",
    "    mid=int(sI+(eI-sI)/2)\n",
    "    if arr[mid]==data:\n",
    "        return mid\n",
    "    elif arr[mid]>data:\n",
    "        #Recursive\n",
    "        return binarySearch_rec(arr,sI,mid-1,data)\n",
    "    else:\n",
    "        #Recursive\n",
    "        return binarySearch_rec(arr,mid+1,eI,data)\n",
    "\n",
    "#driver execustion\n",
    "arr=[1,2,3,4,5] #array should be in sorting order\n",
    "sI=0 #left\n",
    "eI=len(arr)-1 #right\n",
    "print(binarySearch_rec(arr,sI,eI,2))\n",
    "\n",
    "#TC :O(logn)"
   ]
  },
  {
   "cell_type": "code",
   "execution_count": 28,
   "id": "32c90cdd",
   "metadata": {},
   "outputs": [
    {
     "name": "stdout",
     "output_type": "stream",
     "text": [
      "[3, 2, 1, 5, 4]\n"
     ]
    }
   ],
   "source": [
    "#reverse a string\n",
    "def reverseArr(arr):\n",
    "    i=0\n",
    "    j=len(arr)-1\n",
    "    \n",
    "    while i<j:\n",
    "        #swap elements at i and j index\n",
    "        arr[i],arr[j]=arr[j],arr[i]\n",
    "        i+=1\n",
    "        j-=1\n",
    "\n",
    "arr=[4,5,1,2,3]\n",
    "reverseArr(arr)\n",
    "print(arr)"
   ]
  },
  {
   "cell_type": "code",
   "execution_count": 42,
   "id": "f5721a07",
   "metadata": {},
   "outputs": [
    {
     "name": "stdout",
     "output_type": "stream",
     "text": [
      "[3, 2, 1, 5, 4]\n"
     ]
    }
   ],
   "source": [
    "#reverse a string\n",
    "def reverseArr2(arr):\n",
    "    temparr=[]\n",
    "    for i in range(len(arr)-1,-1,-1):\n",
    "        #print(i)\n",
    "        temparr.append(arr[i])\n",
    "    return temparr\n",
    "\n",
    "arr=[4,5,1,2,3]\n",
    "print(reverseArr2(arr))"
   ]
  },
  {
   "cell_type": "code",
   "execution_count": 46,
   "id": "0793a312",
   "metadata": {},
   "outputs": [
    {
     "name": "stdout",
     "output_type": "stream",
     "text": [
      "[5, 4, 3, 2, 1]\n"
     ]
    }
   ],
   "source": [
    "#1.arr\n",
    "#2.startIndex,lastIndex\n",
    "\n",
    "def reverse_rec(arr,startIndex,lastIndex):\n",
    "    #Base condition\n",
    "    if startIndex>lastIndex:\n",
    "        return -1\n",
    "    \n",
    "    #Logic\n",
    "    arr[startIndex],arr[lastIndex]=arr[lastIndex],arr[startIndex]\n",
    "    #Recursive\n",
    "    reverse_rec(arr,startIndex+1,lastIndex-1)\n",
    "\n",
    "#Driver code\n",
    "arr=[1,2,3,4,5]\n",
    "reverse_rec(arr,0,len(arr)-1)\n",
    "print(arr)"
   ]
  },
  {
   "cell_type": "code",
   "execution_count": 49,
   "id": "b93ce431",
   "metadata": {},
   "outputs": [
    {
     "name": "stdout",
     "output_type": "stream",
     "text": [
      "p\n"
     ]
    }
   ],
   "source": [
    "#palindrome\n",
    "#1.arr\n",
    "#2.121 reverse 121\n",
    "num=121\n",
    "revnum=0\n",
    "while num>0:\n",
    "    d=num%10\n",
    "    revnum=revnum*d\n",
    "    num=num//10\n",
    "\n",
    "if num==revnum:\n",
    "    print(\"p\")"
   ]
  },
  {
   "cell_type": "code",
   "execution_count": 50,
   "id": "cee8e125",
   "metadata": {},
   "outputs": [],
   "source": [
    "def isPalindrome(arr):\n",
    "    #2 pointer approach\n",
    "    left =0\n",
    "    right=len(arr)-1\n",
    "    \n",
    "    while left<right:\n",
    "        if arr[left]!=arr[right]:\n",
    "            return False\n",
    "        left+=1\n",
    "        right-=1\n",
    "    return True"
   ]
  },
  {
   "cell_type": "code",
   "execution_count": 54,
   "id": "45d984d7",
   "metadata": {},
   "outputs": [
    {
     "data": {
      "text/plain": [
       "True"
      ]
     },
     "execution_count": 54,
     "metadata": {},
     "output_type": "execute_result"
    }
   ],
   "source": [
    "isPalindrome([1,2,1])"
   ]
  },
  {
   "cell_type": "code",
   "execution_count": 55,
   "id": "c96419e3",
   "metadata": {},
   "outputs": [
    {
     "data": {
      "text/plain": [
       "False"
      ]
     },
     "execution_count": 55,
     "metadata": {},
     "output_type": "execute_result"
    }
   ],
   "source": [
    "isPalindrome([1,2,1,1])"
   ]
  },
  {
   "cell_type": "code",
   "execution_count": 63,
   "id": "f75029ec",
   "metadata": {},
   "outputs": [
    {
     "name": "stdout",
     "output_type": "stream",
     "text": [
      "[5, 1, 2, 3, 4]\n",
      "[5, 5, 2, 3, 4]\n",
      "[5, 5, 2, 3, 4]\n"
     ]
    }
   ],
   "source": [
    "#Rotate it k times -> L->R\n",
    "#[1,2,3,4,5] - rotate 1 time - 5,1,2,3,4\n",
    "#[1,2,3,4,5] - rotate 2 time - [5,1,2,3,4] - [4,5,1,2,3]\n",
    "#k times of you need to rotate k=k%size of array\n",
    "\n",
    "def rotate(arr,k):\n",
    "    k = k%len(arr)\n",
    "    #Num of times the rotation has to take place\n",
    "    for i in range(k) :\n",
    "        #Logic to rotate the array\n",
    "        prev = arr[0]\n",
    "        curr = arr[0]\n",
    "        arr[0] = arr[len(arr)-1]\n",
    "        j=1\n",
    "        \n",
    "    while(j<len(arr)):\n",
    "        curr = arr[j]\n",
    "        arr[j] = prev\n",
    "        prev = curr\n",
    "        j+=1\n",
    "\n",
    "arr1 = [1,2,3,4,5]\n",
    "arr2 = [1,2,3,4,5]\n",
    "arr3 = [1,2,3,4,5]\n",
    "\n",
    "rotate(arr1,1)\n",
    "print(arr1)\n",
    "rotate(arr2,2)\n",
    "print(arr2)\n",
    "rotate(arr3,3)\n",
    "print(arr3)\n",
    "        "
   ]
  },
  {
   "cell_type": "code",
   "execution_count": 64,
   "id": "f3ad4e14",
   "metadata": {},
   "outputs": [],
   "source": [
    "#**Theroy\n",
    "#Rotation\n",
    "#[1,2,3,4,5] -> k=3 times\n",
    "#reverse the entire array\n",
    "#[5,4,3,2,1]\n",
    "#Reverse 1st k elements :3\n",
    "#[4,5,3,2,1]\n",
    "#[4,3,5,2,1]\n",
    "#[3,4,5,21]"
   ]
  },
  {
   "cell_type": "code",
   "execution_count": 65,
   "id": "15bd918e",
   "metadata": {},
   "outputs": [
    {
     "name": "stdout",
     "output_type": "stream",
     "text": [
      "[3, 4, 5, 1, 2]\n"
     ]
    }
   ],
   "source": [
    "def rotate_k_times(arr,k):\n",
    "    k=k%len(arr)\n",
    "    \n",
    "    #reverse the entire arr\n",
    "    reverse_rec(arr,0,len(arr)-1)\n",
    "    \n",
    "    #reverse the first k elements\n",
    "    reverse_rec(arr,0,k-1)\n",
    "    \n",
    "    #reverse the last n-k elements\n",
    "    reverse_rec(arr,k,len(arr)-1)\n",
    "\n",
    "arr=[1,2,3,4,5]\n",
    "rotate_k_times(arr,3)\n",
    "print(arr)"
   ]
  },
  {
   "cell_type": "code",
   "execution_count": null,
   "id": "95a535d5",
   "metadata": {},
   "outputs": [],
   "source": []
  }
 ],
 "metadata": {
  "kernelspec": {
   "display_name": "Python 3 (ipykernel)",
   "language": "python",
   "name": "python3"
  },
  "language_info": {
   "codemirror_mode": {
    "name": "ipython",
    "version": 3
   },
   "file_extension": ".py",
   "mimetype": "text/x-python",
   "name": "python",
   "nbconvert_exporter": "python",
   "pygments_lexer": "ipython3",
   "version": "3.9.13"
  }
 },
 "nbformat": 4,
 "nbformat_minor": 5
}
