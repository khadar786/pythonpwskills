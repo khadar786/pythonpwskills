{
 "cells": [
  {
   "cell_type": "markdown",
   "id": "c6b8ed2a",
   "metadata": {},
   "source": [
    "Arithmetic operators <br>\n",
    "Assignment operators <br>\n",
    "Comparison operators <br>\n",
    "Logical operators <br>\n",
    "Identity operators <br>\n",
    "Membership operators <br>\n",
    "Bitwise operators <br>"
   ]
  },
  {
   "cell_type": "code",
   "execution_count": 1,
   "id": "38c92101",
   "metadata": {},
   "outputs": [],
   "source": [
    "#Arithmetic operators\n",
    "# +,-,*,/,% : Modulus,** :Exponentiation"
   ]
  },
  {
   "cell_type": "code",
   "execution_count": 2,
   "id": "d970d901",
   "metadata": {},
   "outputs": [],
   "source": [
    "#Floor division : // (rounds the result down to the nearest whole number)"
   ]
  },
  {
   "cell_type": "code",
   "execution_count": 3,
   "id": "104e25fb",
   "metadata": {},
   "outputs": [],
   "source": [
    "x=15\n",
    "y=2"
   ]
  },
  {
   "cell_type": "code",
   "execution_count": 4,
   "id": "728bab2d",
   "metadata": {},
   "outputs": [
    {
     "data": {
      "text/plain": [
       "7"
      ]
     },
     "execution_count": 4,
     "metadata": {},
     "output_type": "execute_result"
    }
   ],
   "source": [
    "x//y"
   ]
  },
  {
   "cell_type": "code",
   "execution_count": 5,
   "id": "268c7ef0",
   "metadata": {},
   "outputs": [],
   "source": [
    "#Assignment Operators\n",
    "#=,+=,-=,*= (x *= 3)\n",
    "# /=,%=,//=,**="
   ]
  },
  {
   "cell_type": "code",
   "execution_count": 6,
   "id": "f51a0b30",
   "metadata": {},
   "outputs": [],
   "source": [
    "#Comparison Operators\n",
    "#==,!=,>,<,>=,<="
   ]
  },
  {
   "cell_type": "code",
   "execution_count": 7,
   "id": "d20f29ae",
   "metadata": {},
   "outputs": [],
   "source": [
    "#Logical Operators\n",
    "# and , or , not"
   ]
  },
  {
   "cell_type": "code",
   "execution_count": 9,
   "id": "11148d45",
   "metadata": {},
   "outputs": [],
   "source": [
    "#not :Reverse the result, returns False if the result is true\n",
    "#not(x < 5 and x < 10)"
   ]
  },
  {
   "cell_type": "code",
   "execution_count": 10,
   "id": "0f28d9a9",
   "metadata": {},
   "outputs": [],
   "source": [
    "x=5"
   ]
  },
  {
   "cell_type": "code",
   "execution_count": 13,
   "id": "3913906c",
   "metadata": {},
   "outputs": [
    {
     "data": {
      "text/plain": [
       "False"
      ]
     },
     "execution_count": 13,
     "metadata": {},
     "output_type": "execute_result"
    }
   ],
   "source": [
    "not(x>3 and x<10)"
   ]
  },
  {
   "cell_type": "code",
   "execution_count": 15,
   "id": "36e79742",
   "metadata": {},
   "outputs": [],
   "source": [
    "#Identity Operators\n",
    "#is - Returns True if both variables are the same object\n",
    "#is not - Returns True if both variables are not the same object"
   ]
  },
  {
   "cell_type": "code",
   "execution_count": 16,
   "id": "f4c2da9f",
   "metadata": {},
   "outputs": [],
   "source": [
    "x=[10,20]\n",
    "y=[10,20]\n",
    "z=x"
   ]
  },
  {
   "cell_type": "code",
   "execution_count": 17,
   "id": "c28d849c",
   "metadata": {},
   "outputs": [
    {
     "data": {
      "text/plain": [
       "True"
      ]
     },
     "execution_count": 17,
     "metadata": {},
     "output_type": "execute_result"
    }
   ],
   "source": [
    "x is z"
   ]
  },
  {
   "cell_type": "code",
   "execution_count": 18,
   "id": "ec89c175",
   "metadata": {},
   "outputs": [
    {
     "data": {
      "text/plain": [
       "False"
      ]
     },
     "execution_count": 18,
     "metadata": {},
     "output_type": "execute_result"
    }
   ],
   "source": [
    "x is y"
   ]
  },
  {
   "cell_type": "code",
   "execution_count": 19,
   "id": "3bba5dc8",
   "metadata": {},
   "outputs": [
    {
     "data": {
      "text/plain": [
       "False"
      ]
     },
     "execution_count": 19,
     "metadata": {},
     "output_type": "execute_result"
    }
   ],
   "source": [
    "y is z"
   ]
  },
  {
   "cell_type": "code",
   "execution_count": 20,
   "id": "e2837ad9",
   "metadata": {},
   "outputs": [
    {
     "data": {
      "text/plain": [
       "True"
      ]
     },
     "execution_count": 20,
     "metadata": {},
     "output_type": "execute_result"
    }
   ],
   "source": [
    "x == y"
   ]
  },
  {
   "cell_type": "code",
   "execution_count": 21,
   "id": "e6effb82",
   "metadata": {},
   "outputs": [
    {
     "data": {
      "text/plain": [
       "False"
      ]
     },
     "execution_count": 21,
     "metadata": {},
     "output_type": "execute_result"
    }
   ],
   "source": [
    "x is not z"
   ]
  },
  {
   "cell_type": "code",
   "execution_count": 22,
   "id": "39a4710c",
   "metadata": {},
   "outputs": [
    {
     "data": {
      "text/plain": [
       "True"
      ]
     },
     "execution_count": 22,
     "metadata": {},
     "output_type": "execute_result"
    }
   ],
   "source": [
    "x is not y"
   ]
  },
  {
   "cell_type": "code",
   "execution_count": 23,
   "id": "bbba1acb",
   "metadata": {},
   "outputs": [],
   "source": [
    "#Membership Operators\n",
    "#in - Returns True if a sequence with the specified value is present in the object\n",
    "#not in - Returns True if a sequence with the specified value is not present in the object"
   ]
  },
  {
   "cell_type": "code",
   "execution_count": 24,
   "id": "cd839da5",
   "metadata": {},
   "outputs": [],
   "source": [
    "x =\"Hello\"\n",
    "y={1:'a',2:'b'}"
   ]
  },
  {
   "cell_type": "code",
   "execution_count": 25,
   "id": "a42366d3",
   "metadata": {},
   "outputs": [
    {
     "name": "stdout",
     "output_type": "stream",
     "text": [
      "True\n"
     ]
    }
   ],
   "source": [
    "print('H' in x)"
   ]
  },
  {
   "cell_type": "code",
   "execution_count": 26,
   "id": "b1c33125",
   "metadata": {},
   "outputs": [
    {
     "name": "stdout",
     "output_type": "stream",
     "text": [
      "False\n"
     ]
    }
   ],
   "source": [
    "print('Hello' in y)"
   ]
  },
  {
   "cell_type": "code",
   "execution_count": 28,
   "id": "bdd39590",
   "metadata": {},
   "outputs": [
    {
     "name": "stdout",
     "output_type": "stream",
     "text": [
      "True\n"
     ]
    }
   ],
   "source": [
    "print(1 in y)"
   ]
  },
  {
   "cell_type": "code",
   "execution_count": 29,
   "id": "ca3506ef",
   "metadata": {},
   "outputs": [],
   "source": [
    "#Bitwise operators"
   ]
  },
  {
   "cell_type": "code",
   "execution_count": 30,
   "id": "9b9c73ff",
   "metadata": {},
   "outputs": [],
   "source": [
    "# &\tBitwise AND\tx & y = 0 (0000 0000)\n",
    "# |\tBitwise OR\tx | y = 14 (0000 1110)\n",
    "# ~\tBitwise NOT\t~x = -11 (1111 0101)\n",
    "# ^\tBitwise XOR\tx ^ y = 14 (0000 1110)\n",
    "# >>\tBitwise right shift\tx >> 2 = 2 (0000 0010)\n",
    "# <<\tBitwise left shift\tx << 2 = 40 (0010 1000)"
   ]
  },
  {
   "cell_type": "code",
   "execution_count": 31,
   "id": "02c65543",
   "metadata": {},
   "outputs": [],
   "source": [
    "# & - Bitwise AND\n",
    "# 0 AND 0 = 0\n",
    "# 0 AND 1 = 0\n",
    "# 1 AND 0 = 0\n",
    "# 1 AND 1 = 1"
   ]
  },
  {
   "cell_type": "code",
   "execution_count": 33,
   "id": "442ecc57",
   "metadata": {},
   "outputs": [],
   "source": [
    "a=10\n",
    "b=20"
   ]
  },
  {
   "cell_type": "code",
   "execution_count": 34,
   "id": "f8d6b2b4",
   "metadata": {},
   "outputs": [
    {
     "data": {
      "text/plain": [
       "0"
      ]
     },
     "execution_count": 34,
     "metadata": {},
     "output_type": "execute_result"
    }
   ],
   "source": [
    "a & b"
   ]
  },
  {
   "cell_type": "code",
   "execution_count": 36,
   "id": "ae1c8e79",
   "metadata": {},
   "outputs": [
    {
     "data": {
      "text/plain": [
       "'0b1010'"
      ]
     },
     "execution_count": 36,
     "metadata": {},
     "output_type": "execute_result"
    }
   ],
   "source": [
    "bin(a)"
   ]
  },
  {
   "cell_type": "code",
   "execution_count": 37,
   "id": "2f0e8033",
   "metadata": {},
   "outputs": [
    {
     "data": {
      "text/plain": [
       "'0b10100'"
      ]
     },
     "execution_count": 37,
     "metadata": {},
     "output_type": "execute_result"
    }
   ],
   "source": [
    "bin(b)"
   ]
  },
  {
   "cell_type": "code",
   "execution_count": 38,
   "id": "52d126e5",
   "metadata": {},
   "outputs": [],
   "source": [
    "#a(10) -1010\n",
    "#b(20) -10100\n",
    "#00000"
   ]
  },
  {
   "cell_type": "code",
   "execution_count": 39,
   "id": "a1318037",
   "metadata": {},
   "outputs": [
    {
     "data": {
      "text/plain": [
       "10"
      ]
     },
     "execution_count": 39,
     "metadata": {},
     "output_type": "execute_result"
    }
   ],
   "source": [
    "a=10\n",
    "b=10\n",
    "a & b"
   ]
  },
  {
   "cell_type": "code",
   "execution_count": 40,
   "id": "520c99b1",
   "metadata": {},
   "outputs": [],
   "source": [
    "# | Bitwise OR\n",
    "# 0 OR 0 = 0\n",
    "# 0 OR 1 = 1\n",
    "# 1 OR 0 = 1\n",
    "# 1 OR 1 = 1"
   ]
  },
  {
   "cell_type": "code",
   "execution_count": 41,
   "id": "5285454a",
   "metadata": {},
   "outputs": [],
   "source": [
    "x=5\n",
    "y=8"
   ]
  },
  {
   "cell_type": "code",
   "execution_count": 42,
   "id": "cdee2c44",
   "metadata": {},
   "outputs": [
    {
     "data": {
      "text/plain": [
       "13"
      ]
     },
     "execution_count": 42,
     "metadata": {},
     "output_type": "execute_result"
    }
   ],
   "source": [
    "x | y"
   ]
  },
  {
   "cell_type": "code",
   "execution_count": 43,
   "id": "eea7c8be",
   "metadata": {},
   "outputs": [
    {
     "data": {
      "text/plain": [
       "'0b101'"
      ]
     },
     "execution_count": 43,
     "metadata": {},
     "output_type": "execute_result"
    }
   ],
   "source": [
    "bin(x)"
   ]
  },
  {
   "cell_type": "code",
   "execution_count": 44,
   "id": "dbf9065c",
   "metadata": {},
   "outputs": [
    {
     "data": {
      "text/plain": [
       "'0b1000'"
      ]
     },
     "execution_count": 44,
     "metadata": {},
     "output_type": "execute_result"
    }
   ],
   "source": [
    "bin(y)"
   ]
  },
  {
   "cell_type": "code",
   "execution_count": 45,
   "id": "e51cc98f",
   "metadata": {},
   "outputs": [],
   "source": [
    "# ~ Bitwise NOT\n",
    "# every 1 into a 0 and every 0 becomes a 1"
   ]
  },
  {
   "cell_type": "code",
   "execution_count": 48,
   "id": "11d8d9e8",
   "metadata": {},
   "outputs": [],
   "source": [
    "j=~3"
   ]
  },
  {
   "cell_type": "code",
   "execution_count": 49,
   "id": "9786016b",
   "metadata": {},
   "outputs": [
    {
     "data": {
      "text/plain": [
       "'-0b100'"
      ]
     },
     "execution_count": 49,
     "metadata": {},
     "output_type": "execute_result"
    }
   ],
   "source": [
    "bin(j)"
   ]
  },
  {
   "cell_type": "code",
   "execution_count": 50,
   "id": "4d17b4a7",
   "metadata": {},
   "outputs": [],
   "source": [
    "# ^ Bitwise XOR\n",
    "# 0 XOR 0 = 0\n",
    "# 0 XOR 1 = 1\n",
    "# 1 XOR 0 = 1\n",
    "# 1 XOR 1 = 0"
   ]
  },
  {
   "cell_type": "code",
   "execution_count": 52,
   "id": "bdcf4ca4",
   "metadata": {},
   "outputs": [],
   "source": [
    "l=6\n",
    "m=8"
   ]
  },
  {
   "cell_type": "code",
   "execution_count": 53,
   "id": "2fa0ca7c",
   "metadata": {},
   "outputs": [
    {
     "name": "stdout",
     "output_type": "stream",
     "text": [
      "14\n"
     ]
    }
   ],
   "source": [
    "print(l^m)"
   ]
  },
  {
   "cell_type": "code",
   "execution_count": 54,
   "id": "872ffb78",
   "metadata": {},
   "outputs": [
    {
     "data": {
      "text/plain": [
       "'0b110'"
      ]
     },
     "execution_count": 54,
     "metadata": {},
     "output_type": "execute_result"
    }
   ],
   "source": [
    "bin(l)"
   ]
  },
  {
   "cell_type": "code",
   "execution_count": 55,
   "id": "2e723c9c",
   "metadata": {},
   "outputs": [
    {
     "data": {
      "text/plain": [
       "'0b1000'"
      ]
     },
     "execution_count": 55,
     "metadata": {},
     "output_type": "execute_result"
    }
   ],
   "source": [
    "bin(m)"
   ]
  },
  {
   "cell_type": "code",
   "execution_count": 60,
   "id": "f123c499",
   "metadata": {},
   "outputs": [
    {
     "data": {
      "text/plain": [
       "\"\\nThe >> operator moves each bit the specified number of times to the right. Empty holes at the left are filled with 0's.\\n\\nIf you move each bit 2 times to the right, 8 becomes 2:\\n 8 = 0000000000001000\\nbecomes\\n 2 = 0000000000000010\\n\\nDecimal numbers and their binary values:\\n 0 = 0000000000000000\\n 1 = 0000000000000001\\n 2 = 0000000000000010\\n 3 = 0000000000000011\\n 4 = 0000000000000100\\n 5 = 0000000000000101\\n 6 = 0000000000000110\\n 7 = 0000000000000111\\n 8 = 0000000000001000\\n 9 = 0000000000001001\\n10 = 0000000000001010\\n11 = 0000000000001011\\n12 = 0000000000001100\\n\""
      ]
     },
     "execution_count": 60,
     "metadata": {},
     "output_type": "execute_result"
    }
   ],
   "source": [
    "# >> Bitwise right shift\n",
    "#the bitwise right shift operator shifts the bits right by the bits specified by the right operand. \n",
    "#The positions vacated by the right shift operator are filled with 0.\n",
    "\"\"\"\n",
    "The >> operator moves each bit the specified number of times to the right. Empty holes at the left are filled with 0's.\n",
    "\n",
    "If you move each bit 2 times to the right, 8 becomes 2:\n",
    " 8 = 0000000000001000\n",
    "becomes\n",
    " 2 = 0000000000000010\n",
    "\n",
    "Decimal numbers and their binary values:\n",
    " 0 = 0000000000000000\n",
    " 1 = 0000000000000001\n",
    " 2 = 0000000000000010\n",
    " 3 = 0000000000000011\n",
    " 4 = 0000000000000100\n",
    " 5 = 0000000000000101\n",
    " 6 = 0000000000000110\n",
    " 7 = 0000000000000111\n",
    " 8 = 0000000000001000\n",
    " 9 = 0000000000001001\n",
    "10 = 0000000000001010\n",
    "11 = 0000000000001011\n",
    "12 = 0000000000001100\n",
    "\"\"\""
   ]
  },
  {
   "cell_type": "code",
   "execution_count": 61,
   "id": "61a21147",
   "metadata": {},
   "outputs": [],
   "source": [
    "s=8\n",
    "p=2"
   ]
  },
  {
   "cell_type": "code",
   "execution_count": 65,
   "id": "5497638e",
   "metadata": {},
   "outputs": [
    {
     "name": "stdout",
     "output_type": "stream",
     "text": [
      "0b1000\n",
      "2\n"
     ]
    }
   ],
   "source": [
    "print(bin(s))\n",
    "print(s>>p)"
   ]
  },
  {
   "cell_type": "code",
   "execution_count": 66,
   "id": "d8e6cf90",
   "metadata": {},
   "outputs": [],
   "source": [
    "# << Bitwise left\n",
    "# The bitwise left shift operator shifts the bits left by the bits specified by the right operand. \n",
    "# The positions vacated by the left shift operator are filled with 0."
   ]
  },
  {
   "cell_type": "code",
   "execution_count": 67,
   "id": "3529cff6",
   "metadata": {},
   "outputs": [
    {
     "name": "stdout",
     "output_type": "stream",
     "text": [
      "32\n"
     ]
    }
   ],
   "source": [
    "print(s<<p)"
   ]
  },
  {
   "cell_type": "code",
   "execution_count": null,
   "id": "1f029a90",
   "metadata": {},
   "outputs": [],
   "source": []
  }
 ],
 "metadata": {
  "kernelspec": {
   "display_name": "Python 3 (ipykernel)",
   "language": "python",
   "name": "python3"
  },
  "language_info": {
   "codemirror_mode": {
    "name": "ipython",
    "version": 3
   },
   "file_extension": ".py",
   "mimetype": "text/x-python",
   "name": "python",
   "nbconvert_exporter": "python",
   "pygments_lexer": "ipython3",
   "version": "3.9.13"
  }
 },
 "nbformat": 4,
 "nbformat_minor": 5
}
