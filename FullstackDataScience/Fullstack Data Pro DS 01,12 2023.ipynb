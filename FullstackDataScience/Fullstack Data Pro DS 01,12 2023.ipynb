{
 "cells": [
  {
   "cell_type": "code",
   "execution_count": 1,
   "id": "601b65d1",
   "metadata": {},
   "outputs": [],
   "source": [
    "#sat / sunday : 9 -11 /1 doubt clearing\n",
    "#wednesday night doubt solving\n",
    "#New people flask and python - additional services\n",
    "#class - questionns discuss"
   ]
  },
  {
   "cell_type": "code",
   "execution_count": 2,
   "id": "a3486ee5",
   "metadata": {},
   "outputs": [],
   "source": [
    "#Data 1.storage 2.computation (search)\n",
    "#3 sorting algorithms\n",
    "#1.Bubble sort (boiling water) [5,2,1,3,4]\n",
    "#[2,5,1,3,4] - [2,1,5,3,4]"
   ]
  },
  {
   "cell_type": "code",
   "execution_count": 3,
   "id": "7db65ab5",
   "metadata": {},
   "outputs": [],
   "source": [
    "#Recursion\n",
    "#Graph,Tree,DP\n",
    "#Function calling function\n",
    "#1.Base condition / Termination codition\n",
    "#2.Logic\n",
    "#3.Call the function again (recursive call)"
   ]
  },
  {
   "cell_type": "code",
   "execution_count": 4,
   "id": "f0cab836",
   "metadata": {},
   "outputs": [
    {
     "name": "stdout",
     "output_type": "stream",
     "text": [
      "1\n",
      "2\n",
      "3\n",
      "4\n"
     ]
    }
   ],
   "source": [
    "def printRec(arr,sI):\n",
    "    #Base condition\n",
    "    if sI>=len(arr):\n",
    "        return\n",
    "    \n",
    "    #Logic\n",
    "    print(arr[sI])\n",
    "    \n",
    "    #Recursive Call\n",
    "    printRec(arr,sI+1)\n",
    "\n",
    "printRec([1,2,3,4],0)"
   ]
  },
  {
   "cell_type": "code",
   "execution_count": 5,
   "id": "72a0ef01",
   "metadata": {},
   "outputs": [
    {
     "name": "stdout",
     "output_type": "stream",
     "text": [
      "4\n",
      "3\n",
      "2\n",
      "1\n"
     ]
    }
   ],
   "source": [
    "def printRec(arr,sI):\n",
    "    #Base condition\n",
    "    if sI>=len(arr):\n",
    "        return\n",
    "    \n",
    "    #Recursive Call\n",
    "    printRec(arr,sI+1)\n",
    "    \n",
    "    #Logic\n",
    "    print(arr[sI])\n",
    "\n",
    "printRec([1,2,3,4],0)"
   ]
  },
  {
   "cell_type": "code",
   "execution_count": 6,
   "id": "43e71219",
   "metadata": {},
   "outputs": [],
   "source": [
    "#Recursive function 1->2->3\n",
    "#3->2->1\n",
    "#Base condition\n",
    "#Logic\n",
    "#Recursive call\n",
    "\n",
    "#programing ->execute-> main memory -> call stack(stack kind datastructures) FILO ,LIFO\n",
    "#Restaurant plates\n",
    "#stack /(insert) push,(remove) pop\n",
    "#code : f1(),f2(),f3() "
   ]
  },
  {
   "cell_type": "code",
   "execution_count": 7,
   "id": "1cca838f",
   "metadata": {},
   "outputs": [],
   "source": [
    "#[3,5,2,1,4] find the smallest no in the recursion : 5 minutes\n",
    "\n",
    "# def findSmalletNumber(arr,sI):\n",
    "#     found=False\n",
    "#     num=arr[sI]\n",
    "    \n",
    "#     #Base Condition\n",
    "#     if sI>=len(arr):\n",
    "#         return\n",
    "    \n",
    "#     #Logic\n",
    "#     if num>arr[sI]:\n",
    "#         num=arr[sI]\n",
    "#     else:\n",
    "#         print(num)\n",
    "    \n",
    "#     #Recursion\n",
    "#     findSmalletNumber(arr,sI+1)\n",
    "\n",
    "# findSmalletNumber([3,5,2,1,4],0)"
   ]
  },
  {
   "cell_type": "code",
   "execution_count": 8,
   "id": "9a4597f9",
   "metadata": {},
   "outputs": [
    {
     "name": "stdout",
     "output_type": "stream",
     "text": [
      "2 - 1 - 999999\n",
      "1 - 2 - 1\n",
      "2 - 1 - 999999\n",
      "0 - 3 - 1\n",
      "2 - 1 - 999999\n",
      "1 - 2 - 1\n",
      "2 - 1 - 999999\n"
     ]
    },
    {
     "data": {
      "text/plain": [
       "1"
      ]
     },
     "execution_count": 8,
     "metadata": {},
     "output_type": "execute_result"
    }
   ],
   "source": [
    "def find_min(arr,sI):\n",
    "    #Base Condition\n",
    "    if sI >=len(arr):\n",
    "        return 999999\n",
    "    \n",
    "    print(sI,\"-\",arr[sI],\"-\",find_min(arr,sI+1))\n",
    "    return min(arr[sI],find_min(arr,sI+1))\n",
    "\n",
    "find_min([3,2,1],0)"
   ]
  },
  {
   "cell_type": "code",
   "execution_count": 9,
   "id": "747cd980",
   "metadata": {},
   "outputs": [
    {
     "name": "stdout",
     "output_type": "stream",
     "text": [
      "1\n",
      "3\n",
      "7\n",
      "15\n",
      "1023\n"
     ]
    }
   ],
   "source": [
    "#Tower of Hanoi\n",
    "def moves(n,s,d,a):\n",
    "    #Base condition\n",
    "    if n==1:\n",
    "        return 1\n",
    "    \n",
    "    #move n-1 s->a ,then move 1 biggest coin to s->d and the n-1 coin a-d\n",
    "    return moves(n-1,s,a,d) + 1 + moves(n-1,a,d,s)\n",
    "\n",
    "print(moves(1,'s','d','a'))\n",
    "print(moves(2,'s','d','a'))\n",
    "print(moves(3,'s','d','a'))\n",
    "print(moves(4,'s','d','a'))\n",
    "print(moves(10,'s','d','a'))"
   ]
  },
  {
   "cell_type": "code",
   "execution_count": null,
   "id": "16412ce3",
   "metadata": {},
   "outputs": [],
   "source": []
  }
 ],
 "metadata": {
  "kernelspec": {
   "display_name": "Python 3 (ipykernel)",
   "language": "python",
   "name": "python3"
  },
  "language_info": {
   "codemirror_mode": {
    "name": "ipython",
    "version": 3
   },
   "file_extension": ".py",
   "mimetype": "text/x-python",
   "name": "python",
   "nbconvert_exporter": "python",
   "pygments_lexer": "ipython3",
   "version": "3.9.13"
  }
 },
 "nbformat": 4,
 "nbformat_minor": 5
}
