{
 "cells": [
  {
   "cell_type": "code",
   "execution_count": 1,
   "id": "f295912f",
   "metadata": {},
   "outputs": [],
   "source": [
    "#conditional statement and loops"
   ]
  },
  {
   "cell_type": "code",
   "execution_count": 2,
   "id": "8905bfbb",
   "metadata": {},
   "outputs": [
    {
     "name": "stdout",
     "output_type": "stream",
     "text": [
      "i wont be able to buy\n"
     ]
    }
   ],
   "source": [
    "a=500\n",
    "price=850\n",
    "\n",
    "if price<=100:\n",
    "    print(\"yes i will able to buy\")\n",
    "else:\n",
    "    print(\"i wont be able to buy\")"
   ]
  },
  {
   "cell_type": "code",
   "execution_count": 4,
   "id": "4d993a4d",
   "metadata": {},
   "outputs": [
    {
     "name": "stdout",
     "output_type": "stream",
     "text": [
      "yes its avaible to my budget\n",
      "i will try to buy shirt\n",
      "My favorite color available\n"
     ]
    }
   ],
   "source": [
    "a=500\n",
    "shirt_price=200\n",
    "pant_price=500\n",
    "coat_price=800\n",
    "\n",
    "my_size='M'\n",
    "size_store=['L','XL','XXL','S','XXXL','M']\n",
    "my_fav_clr='white'\n",
    "store_clr=['white','red','blue']\n",
    "\n",
    "if coat_price <= a:\n",
    "    print(\"i will try to buy coat\")\n",
    "elif pant_price <500:\n",
    "    print(\"i will try to buy pant\")\n",
    "elif shirt_price<500:\n",
    "    print(\"yes its avaible to my budget\")\n",
    "    if my_size in size_store:\n",
    "        print(\"i will try to buy shirt\")\n",
    "        if my_fav_clr in store_clr:\n",
    "            print(\"My favorite color available\")\n",
    "else:\n",
    "    print(\"i wont be able to buy\")"
   ]
  },
  {
   "cell_type": "code",
   "execution_count": 5,
   "id": "b4d81fa8",
   "metadata": {},
   "outputs": [
    {
     "name": "stdout",
     "output_type": "stream",
     "text": [
      "I am doing this course\n"
     ]
    }
   ],
   "source": [
    "course=['DSM','DSA','JAVA','BIG DATA','DA']\n",
    "price=20000\n",
    "mentor='sudhanshu kumar'\n",
    "\n",
    "if 'DSM' in course and price==20000 and 'sudhanshu kumar'==mentor:\n",
    "    print('I am doing this course')"
   ]
  },
  {
   "cell_type": "code",
   "execution_count": 6,
   "id": "41b9e2c3",
   "metadata": {},
   "outputs": [
    {
     "name": "stdout",
     "output_type": "stream",
     "text": [
      "its out of my budget\n"
     ]
    }
   ],
   "source": [
    "course_price=20000\n",
    "if 10000<=course_price<=15000:\n",
    "    print(\"I will try to buy a course\")\n",
    "else:\n",
    "    print(\"its out of my budget\")"
   ]
  },
  {
   "cell_type": "code",
   "execution_count": 8,
   "id": "83ea89ad",
   "metadata": {},
   "outputs": [
    {
     "name": "stdout",
     "output_type": "stream",
     "text": [
      "enter user name :khadar\n",
      "enter password :khadar@123\n",
      "Your login successfully !\n"
     ]
    }
   ],
   "source": [
    "user_name=\"khadar\"\n",
    "password=\"khadar@123\"\n",
    "\n",
    "if user_name==input(\"enter user name :\") and password==input(\"enter password :\"):\n",
    "    print(\"Your login successfully !\")\n",
    "else:\n",
    "    print(\"Invalid user or password\")"
   ]
  },
  {
   "cell_type": "code",
   "execution_count": 13,
   "id": "cb4c1436",
   "metadata": {},
   "outputs": [
    {
     "name": "stdout",
     "output_type": "stream",
     "text": [
      "enter your registered mobile no :9505437866\n",
      "yes you are a registered user\n",
      "enter otp that we have sent on your mobile no :1234\n",
      "you have logged in successfully !\n"
     ]
    }
   ],
   "source": [
    "mobile_no=\"9505437866\"\n",
    "otp=\"1234\"\n",
    "\n",
    "if mobile_no==input(\"enter your registered mobile no :\"):\n",
    "    print(\"yes you are a registered user\")\n",
    "    if otp==input(\"enter otp that we have sent on your mobile no :\"):\n",
    "        print(\"you have logged in successfully !\")\n",
    "    else:\n",
    "        print(\"otp is not correct please try to enter again\")\n",
    "else:\n",
    "    print(\"you have not entered a valid mobile no\")"
   ]
  },
  {
   "cell_type": "code",
   "execution_count": 15,
   "id": "5de74bd3",
   "metadata": {},
   "outputs": [
    {
     "name": "stdout",
     "output_type": "stream",
     "text": [
      "enter your registered mobile no :9100223345\n",
      "yes you are a registered user\n",
      "enter otp that we have sent on your mobile no :123\n",
      "you have logged in successfully !\n"
     ]
    }
   ],
   "source": [
    "mobile_no ={9505437000,9505476000,9234560000,9100223345}\n",
    "otp=123\n",
    "\n",
    "if int(input(\"enter your registered mobile no :\")) in mobile_no:\n",
    "    print(\"yes you are a registered user\")\n",
    "    if otp==int(input(\"enter otp that we have sent on your mobile no :\")):\n",
    "        print(\"you have logged in successfully !\")\n",
    "    else:\n",
    "        print(\"otp is not correct please try to enter again\")\n",
    "else:\n",
    "    print(\"you have not entered a valid mobile no\")\n",
    "    "
   ]
  },
  {
   "cell_type": "code",
   "execution_count": 17,
   "id": "db09c7db",
   "metadata": {},
   "outputs": [
    {
     "name": "stdout",
     "output_type": "stream",
     "text": [
      "12\n",
      "4\n",
      "5\n",
      "6\n",
      "7\n",
      "8\n",
      "9\n"
     ]
    }
   ],
   "source": [
    "l=[12,4,5,6,7,8,9]\n",
    "\n",
    "for i in l:\n",
    "    print(i)"
   ]
  },
  {
   "cell_type": "code",
   "execution_count": 20,
   "id": "3ef5ae6b",
   "metadata": {},
   "outputs": [
    {
     "name": "stdout",
     "output_type": "stream",
     "text": [
      "12\n",
      "4\n",
      "5\n",
      "6\n",
      "7\n",
      "8\n",
      "9\n",
      "it's completed\n"
     ]
    }
   ],
   "source": [
    "for i in range(len(l)):\n",
    "    print(l[i])\n",
    "else:\n",
    "    print(\"it's completed\")"
   ]
  },
  {
   "cell_type": "code",
   "execution_count": 23,
   "id": "1dadad32",
   "metadata": {},
   "outputs": [
    {
     "name": "stdout",
     "output_type": "stream",
     "text": [
      "12\n",
      "4\n",
      "5\n",
      "6\n",
      "7\n",
      "8\n",
      "9\n",
      "while loop completed\n"
     ]
    }
   ],
   "source": [
    "i=0;\n",
    "while i<len(l):\n",
    "    print(l[i])\n",
    "    i+=1\n",
    "else:\n",
    "    print(\"while loop completed\")"
   ]
  },
  {
   "cell_type": "code",
   "execution_count": 34,
   "id": "6a65448a",
   "metadata": {},
   "outputs": [
    {
     "name": "stdout",
     "output_type": "stream",
     "text": [
      "9505437000\n",
      "9234560000\n",
      "yes user registered\n",
      "Yes student details available\n",
      "course access to this user  DSM,DSA,JAVA,BIG DATA,DA\n",
      "9505476000\n",
      "9100223345\n"
     ]
    }
   ],
   "source": [
    "mobile_no ={9505437000,9505476000,9234560000,9100223345}\n",
    "student_mobile_no=9234560000\n",
    "student_details={\n",
    "    'mobile_no':9234560000,\n",
    "    'courses':['DSM','DSA','JAVA','BIG DATA','DA']\n",
    "}\n",
    "for i in mobile_no:\n",
    "    print(i)\n",
    "    if i == student_mobile_no:\n",
    "        print(\"yes user registered\")\n",
    "        if(i==student_details['mobile_no']):\n",
    "            print(\"Yes student details available\")\n",
    "            print(\"course access to this user \",\",\".join(student_details['courses']))"
   ]
  },
  {
   "cell_type": "code",
   "execution_count": 40,
   "id": "95cd63df",
   "metadata": {},
   "outputs": [
    {
     "name": "stdout",
     "output_type": "stream",
     "text": [
      "[12, 3, 4, 5, 56]\n",
      "['sudh', 'kumar']\n"
     ]
    }
   ],
   "source": [
    "t=(12,3,4,5,56,\"sudh\",\"kumar\")\n",
    "\n",
    "list_int=[]\n",
    "list_str=[]\n",
    "for i in t:\n",
    "    if type(i) == str:\n",
    "        #print(i)\n",
    "        list_str.append(i)\n",
    "    elif type(i) == int:\n",
    "        list_int.append(i)\n",
    "\n",
    "print(list_int)\n",
    "print(list_str)"
   ]
  },
  {
   "cell_type": "code",
   "execution_count": 41,
   "id": "93f7e6ab",
   "metadata": {},
   "outputs": [],
   "source": [
    "d={\"name\":\"sudh\",\"class\":['big data','data analytics','data science','DSA','architecture','system design'],'mobile_no':123456,'email_id':'test@gmail.com'}"
   ]
  },
  {
   "cell_type": "code",
   "execution_count": 42,
   "id": "ca06f1e2",
   "metadata": {},
   "outputs": [
    {
     "name": "stdout",
     "output_type": "stream",
     "text": [
      "sudh\n",
      "['big data', 'data analytics', 'data science', 'DSA', 'architecture', 'system design']\n",
      "123456\n",
      "test@gmail.com\n"
     ]
    }
   ],
   "source": [
    "for i in d.values():\n",
    "    print(i)"
   ]
  },
  {
   "cell_type": "code",
   "execution_count": 47,
   "id": "e39d057e",
   "metadata": {},
   "outputs": [
    {
     "name": "stdout",
     "output_type": "stream",
     "text": [
      "sudh\n",
      "sudh\n",
      "sudh\n",
      "sudh\n"
     ]
    }
   ],
   "source": [
    "for i in d.values():\n",
    "    print(d['name'])"
   ]
  },
  {
   "cell_type": "code",
   "execution_count": 48,
   "id": "9c0e78fb",
   "metadata": {},
   "outputs": [
    {
     "name": "stdout",
     "output_type": "stream",
     "text": [
      "['big data', 'data analytics', 'data science', 'DSA', 'architecture', 'system design']\n"
     ]
    }
   ],
   "source": [
    "for i in d.values():\n",
    "    if type(i) == list:\n",
    "        print(i)"
   ]
  },
  {
   "cell_type": "code",
   "execution_count": 51,
   "id": "a9af6bb5",
   "metadata": {},
   "outputs": [
    {
     "name": "stdout",
     "output_type": "stream",
     "text": [
      "yes this mentor teach the sytem design\n"
     ]
    }
   ],
   "source": [
    "for i in d.values():\n",
    "    if type(i) == list:\n",
    "        if 'system design' in i:\n",
    "            print('yes this mentor teach the sytem design')"
   ]
  },
  {
   "cell_type": "markdown",
   "id": "806137f6",
   "metadata": {},
   "source": [
    "#Functions 17,09 2023"
   ]
  },
  {
   "cell_type": "code",
   "execution_count": 2,
   "id": "06b82902",
   "metadata": {},
   "outputs": [],
   "source": [
    "def test4():\n",
    "    return 2,\"khadar\",True,[1,2,3,4,5,6]"
   ]
  },
  {
   "cell_type": "code",
   "execution_count": 3,
   "id": "60925d85",
   "metadata": {},
   "outputs": [],
   "source": [
    "a,b,c,d=test4()"
   ]
  },
  {
   "cell_type": "code",
   "execution_count": 4,
   "id": "b92ad928",
   "metadata": {},
   "outputs": [
    {
     "name": "stdout",
     "output_type": "stream",
     "text": [
      "2\n"
     ]
    }
   ],
   "source": [
    "print(a)"
   ]
  },
  {
   "cell_type": "code",
   "execution_count": 5,
   "id": "90c429b7",
   "metadata": {},
   "outputs": [
    {
     "name": "stdout",
     "output_type": "stream",
     "text": [
      "[1, 2, 3, 4, 5, 6]\n"
     ]
    }
   ],
   "source": [
    "print(d)"
   ]
  },
  {
   "cell_type": "code",
   "execution_count": 7,
   "id": "99e126e0",
   "metadata": {},
   "outputs": [
    {
     "data": {
      "text/plain": [
       "(2, 'khadar', True, [1, 2, 3, 4, 5, 6])"
      ]
     },
     "execution_count": 7,
     "metadata": {},
     "output_type": "execute_result"
    }
   ],
   "source": [
    "test4()"
   ]
  },
  {
   "cell_type": "code",
   "execution_count": 8,
   "id": "e919c1b9",
   "metadata": {},
   "outputs": [
    {
     "data": {
      "text/plain": [
       "tuple"
      ]
     },
     "execution_count": 8,
     "metadata": {},
     "output_type": "execute_result"
    }
   ],
   "source": [
    "type(test4())"
   ]
  },
  {
   "cell_type": "code",
   "execution_count": 9,
   "id": "d1a71f11",
   "metadata": {},
   "outputs": [],
   "source": [
    "def test5(x):\n",
    "    return x"
   ]
  },
  {
   "cell_type": "code",
   "execution_count": 10,
   "id": "98a95b0d",
   "metadata": {},
   "outputs": [
    {
     "data": {
      "text/plain": [
       "10"
      ]
     },
     "execution_count": 10,
     "metadata": {},
     "output_type": "execute_result"
    }
   ],
   "source": [
    "test5(10)"
   ]
  },
  {
   "cell_type": "code",
   "execution_count": 12,
   "id": "0d5b879f",
   "metadata": {},
   "outputs": [
    {
     "data": {
      "text/plain": [
       "int"
      ]
     },
     "execution_count": 12,
     "metadata": {},
     "output_type": "execute_result"
    }
   ],
   "source": [
    "type(test5(10))"
   ]
  },
  {
   "cell_type": "code",
   "execution_count": 13,
   "id": "752b3a9d",
   "metadata": {},
   "outputs": [
    {
     "data": {
      "text/plain": [
       "'khadar'"
      ]
     },
     "execution_count": 13,
     "metadata": {},
     "output_type": "execute_result"
    }
   ],
   "source": [
    "test5(\"khadar\")"
   ]
  },
  {
   "cell_type": "code",
   "execution_count": 14,
   "id": "4e587827",
   "metadata": {},
   "outputs": [
    {
     "ename": "TypeError",
     "evalue": "test5() takes 1 positional argument but 2 were given",
     "output_type": "error",
     "traceback": [
      "\u001b[1;31m---------------------------------------------------------------------------\u001b[0m",
      "\u001b[1;31mTypeError\u001b[0m                                 Traceback (most recent call last)",
      "\u001b[1;32m~\\AppData\\Local\\Temp\\ipykernel_15444\\3797324503.py\u001b[0m in \u001b[0;36m<module>\u001b[1;34m\u001b[0m\n\u001b[1;32m----> 1\u001b[1;33m \u001b[0mtest5\u001b[0m\u001b[1;33m(\u001b[0m\u001b[1;36m4\u001b[0m\u001b[1;33m,\u001b[0m\u001b[1;36m5\u001b[0m\u001b[1;33m)\u001b[0m\u001b[1;33m\u001b[0m\u001b[1;33m\u001b[0m\u001b[0m\n\u001b[0m",
      "\u001b[1;31mTypeError\u001b[0m: test5() takes 1 positional argument but 2 were given"
     ]
    }
   ],
   "source": [
    "test5(4,5)"
   ]
  },
  {
   "cell_type": "code",
   "execution_count": 15,
   "id": "3d1f214f",
   "metadata": {},
   "outputs": [],
   "source": [
    "def test6(x,y):\n",
    "    return x,y"
   ]
  },
  {
   "cell_type": "code",
   "execution_count": 16,
   "id": "18bdd534",
   "metadata": {},
   "outputs": [
    {
     "data": {
      "text/plain": [
       "(10, 20)"
      ]
     },
     "execution_count": 16,
     "metadata": {},
     "output_type": "execute_result"
    }
   ],
   "source": [
    "test6(10,20)"
   ]
  },
  {
   "cell_type": "code",
   "execution_count": 17,
   "id": "7879d5ba",
   "metadata": {},
   "outputs": [
    {
     "data": {
      "text/plain": [
       "('khadar', [1, 2, 3, 4])"
      ]
     },
     "execution_count": 17,
     "metadata": {},
     "output_type": "execute_result"
    }
   ],
   "source": [
    "test6(\"khadar\",[1,2,3,4])"
   ]
  },
  {
   "cell_type": "code",
   "execution_count": 18,
   "id": "be0d5add",
   "metadata": {},
   "outputs": [],
   "source": [
    "def test7(a:int,b:int):\n",
    "    return a,b"
   ]
  },
  {
   "cell_type": "code",
   "execution_count": 19,
   "id": "ea330b77",
   "metadata": {},
   "outputs": [
    {
     "data": {
      "text/plain": [
       "(4, 5)"
      ]
     },
     "execution_count": 19,
     "metadata": {},
     "output_type": "execute_result"
    }
   ],
   "source": [
    "test7(4,5)"
   ]
  },
  {
   "cell_type": "code",
   "execution_count": 20,
   "id": "1e12cba8",
   "metadata": {},
   "outputs": [
    {
     "data": {
      "text/plain": [
       "('khadar', [10, 20, 30])"
      ]
     },
     "execution_count": 20,
     "metadata": {},
     "output_type": "execute_result"
    }
   ],
   "source": [
    "test7(\"khadar\",[10,20,30])"
   ]
  },
  {
   "cell_type": "code",
   "execution_count": 23,
   "id": "1584ada2",
   "metadata": {},
   "outputs": [],
   "source": [
    "def test8(x:int,y:int):\n",
    "    if(type(x)==int and type(y)==int):\n",
    "        return x/y\n",
    "    else:\n",
    "        return \"Invalid input\""
   ]
  },
  {
   "cell_type": "code",
   "execution_count": 24,
   "id": "3c094b52",
   "metadata": {},
   "outputs": [
    {
     "data": {
      "text/plain": [
       "'Invalid input'"
      ]
     },
     "execution_count": 24,
     "metadata": {},
     "output_type": "execute_result"
    }
   ],
   "source": [
    "test8(\"sudh\",\"khadar\")"
   ]
  },
  {
   "cell_type": "code",
   "execution_count": 27,
   "id": "47126770",
   "metadata": {},
   "outputs": [],
   "source": [
    "def test9(c,d):\n",
    "    \"\"\"\n",
    "    This is my function which can take two input and return  a addition or concatination\n",
    "    \"\"\"\n",
    "    return c+d"
   ]
  },
  {
   "cell_type": "code",
   "execution_count": 28,
   "id": "771370b4",
   "metadata": {},
   "outputs": [
    {
     "data": {
      "text/plain": [
       "30"
      ]
     },
     "execution_count": 28,
     "metadata": {},
     "output_type": "execute_result"
    }
   ],
   "source": [
    "test9(10,20)"
   ]
  },
  {
   "cell_type": "code",
   "execution_count": 31,
   "id": "594c0f9a",
   "metadata": {},
   "outputs": [],
   "source": [
    "def test10(*args):\n",
    "    return args"
   ]
  },
  {
   "cell_type": "code",
   "execution_count": 32,
   "id": "22f45bd5",
   "metadata": {},
   "outputs": [
    {
     "data": {
      "text/plain": [
       "(10, 20, 'string', [10, 20, 30])"
      ]
     },
     "execution_count": 32,
     "metadata": {},
     "output_type": "execute_result"
    }
   ],
   "source": [
    "test10(10,20,\"string\",[10,20,30])"
   ]
  },
  {
   "cell_type": "code",
   "execution_count": 38,
   "id": "88ce5179",
   "metadata": {},
   "outputs": [],
   "source": [
    "def test12(**kwargs):\n",
    "    return kwargs"
   ]
  },
  {
   "cell_type": "code",
   "execution_count": 43,
   "id": "491b7445",
   "metadata": {},
   "outputs": [
    {
     "data": {
      "text/plain": [
       "{'name': 'khadar', 'email': 'test@gamil.com'}"
      ]
     },
     "execution_count": 43,
     "metadata": {},
     "output_type": "execute_result"
    }
   ],
   "source": [
    "test12(name='khadar',email='test@gamil.com')"
   ]
  },
  {
   "cell_type": "code",
   "execution_count": 44,
   "id": "bfc5d333",
   "metadata": {},
   "outputs": [],
   "source": [
    "def test13(b,a=10,c=20):\n",
    "    return a,b,c"
   ]
  },
  {
   "cell_type": "code",
   "execution_count": 45,
   "id": "08880caa",
   "metadata": {},
   "outputs": [
    {
     "data": {
      "text/plain": [
       "(10, 30, 20)"
      ]
     },
     "execution_count": 45,
     "metadata": {},
     "output_type": "execute_result"
    }
   ],
   "source": [
    "test13(30)"
   ]
  },
  {
   "cell_type": "code",
   "execution_count": 46,
   "id": "2487456d",
   "metadata": {},
   "outputs": [
    {
     "data": {
      "text/plain": [
       "(45, 34, 20)"
      ]
     },
     "execution_count": 46,
     "metadata": {},
     "output_type": "execute_result"
    }
   ],
   "source": [
    "test13(34,45)"
   ]
  },
  {
   "cell_type": "code",
   "execution_count": 47,
   "id": "f2024d1e",
   "metadata": {},
   "outputs": [],
   "source": [
    "#lambda or anonymous function"
   ]
  },
  {
   "cell_type": "code",
   "execution_count": 49,
   "id": "daf81a2d",
   "metadata": {},
   "outputs": [],
   "source": [
    "m=lambda a,b:a+b"
   ]
  },
  {
   "cell_type": "code",
   "execution_count": 50,
   "id": "e0038364",
   "metadata": {},
   "outputs": [
    {
     "data": {
      "text/plain": [
       "30"
      ]
     },
     "execution_count": 50,
     "metadata": {},
     "output_type": "execute_result"
    }
   ],
   "source": [
    "m(10,20)"
   ]
  },
  {
   "cell_type": "code",
   "execution_count": 51,
   "id": "95a74ee6",
   "metadata": {},
   "outputs": [],
   "source": [
    "username=lambda name:name"
   ]
  },
  {
   "cell_type": "code",
   "execution_count": 52,
   "id": "d29d500c",
   "metadata": {},
   "outputs": [
    {
     "data": {
      "text/plain": [
       "'khadar'"
      ]
     },
     "execution_count": 52,
     "metadata": {},
     "output_type": "execute_result"
    }
   ],
   "source": [
    "username(\"khadar\")"
   ]
  },
  {
   "cell_type": "code",
   "execution_count": 53,
   "id": "b136d90a",
   "metadata": {},
   "outputs": [],
   "source": [
    "numbers=lambda:[i for i in range(10)]"
   ]
  },
  {
   "cell_type": "code",
   "execution_count": 55,
   "id": "b9a649af",
   "metadata": {},
   "outputs": [
    {
     "name": "stdout",
     "output_type": "stream",
     "text": [
      "[0, 1, 2, 3, 4, 5, 6, 7, 8, 9]\n"
     ]
    }
   ],
   "source": [
    "print(numbers())"
   ]
  },
  {
   "cell_type": "code",
   "execution_count": 56,
   "id": "d997cd0a",
   "metadata": {},
   "outputs": [],
   "source": [
    "checkEven=lambda num:\"Given number is even \" if num%2==0 else \"Given number is odd\""
   ]
  },
  {
   "cell_type": "code",
   "execution_count": 57,
   "id": "9a1b4178",
   "metadata": {},
   "outputs": [
    {
     "data": {
      "text/plain": [
       "'Given number is even '"
      ]
     },
     "execution_count": 57,
     "metadata": {},
     "output_type": "execute_result"
    }
   ],
   "source": [
    "checkEven(10)"
   ]
  },
  {
   "cell_type": "code",
   "execution_count": 58,
   "id": "334412a5",
   "metadata": {},
   "outputs": [
    {
     "data": {
      "text/plain": [
       "'Given number is odd'"
      ]
     },
     "execution_count": 58,
     "metadata": {},
     "output_type": "execute_result"
    }
   ],
   "source": [
    "checkEven(9)"
   ]
  },
  {
   "cell_type": "code",
   "execution_count": 59,
   "id": "27743878",
   "metadata": {},
   "outputs": [],
   "source": [
    "chekPositiveOrNagetive=lambda num:\"Positive\" if num>=0 else \"Negative\" "
   ]
  },
  {
   "cell_type": "code",
   "execution_count": 61,
   "id": "392e2d10",
   "metadata": {},
   "outputs": [
    {
     "data": {
      "text/plain": [
       "'Negative'"
      ]
     },
     "execution_count": 61,
     "metadata": {},
     "output_type": "execute_result"
    }
   ],
   "source": [
    "chekPositiveOrNagetive(-1)"
   ]
  },
  {
   "cell_type": "code",
   "execution_count": 62,
   "id": "46f122f8",
   "metadata": {},
   "outputs": [
    {
     "data": {
      "text/plain": [
       "'Positive'"
      ]
     },
     "execution_count": 62,
     "metadata": {},
     "output_type": "execute_result"
    }
   ],
   "source": [
    "chekPositiveOrNagetive(1)"
   ]
  },
  {
   "cell_type": "code",
   "execution_count": 63,
   "id": "4af226aa",
   "metadata": {},
   "outputs": [],
   "source": [
    "l=[3,4,5,76,3,2,3,4,5]\n",
    "minValue=lambda l:min(l)"
   ]
  },
  {
   "cell_type": "code",
   "execution_count": 64,
   "id": "a9b0cc17",
   "metadata": {},
   "outputs": [
    {
     "data": {
      "text/plain": [
       "2"
      ]
     },
     "execution_count": 64,
     "metadata": {},
     "output_type": "execute_result"
    }
   ],
   "source": [
    "minValue(l)"
   ]
  },
  {
   "cell_type": "code",
   "execution_count": 65,
   "id": "31b2cb92",
   "metadata": {},
   "outputs": [],
   "source": [
    "division=lambda a,b:a/b"
   ]
  },
  {
   "cell_type": "code",
   "execution_count": 66,
   "id": "078683b2",
   "metadata": {},
   "outputs": [
    {
     "data": {
      "text/plain": [
       "2.0"
      ]
     },
     "execution_count": 66,
     "metadata": {},
     "output_type": "execute_result"
    }
   ],
   "source": [
    "division(10,5)"
   ]
  },
  {
   "cell_type": "code",
   "execution_count": 67,
   "id": "fccea40e",
   "metadata": {},
   "outputs": [],
   "source": [
    "upper=lambda s:s.upper()"
   ]
  },
  {
   "cell_type": "code",
   "execution_count": 68,
   "id": "f963f672",
   "metadata": {},
   "outputs": [
    {
     "data": {
      "text/plain": [
       "'KHADAR'"
      ]
     },
     "execution_count": 68,
     "metadata": {},
     "output_type": "execute_result"
    }
   ],
   "source": [
    "upper(\"khadar\")"
   ]
  },
  {
   "cell_type": "code",
   "execution_count": 71,
   "id": "d7a87375",
   "metadata": {},
   "outputs": [],
   "source": [
    "l=[3,4,5,6,7,2,3,34,5,56]\n",
    "\n",
    "sumofodd=lambda l:sum([i for i in l if i%2!=0])"
   ]
  },
  {
   "cell_type": "code",
   "execution_count": 72,
   "id": "56b8d259",
   "metadata": {},
   "outputs": [
    {
     "data": {
      "text/plain": [
       "23"
      ]
     },
     "execution_count": 72,
     "metadata": {},
     "output_type": "execute_result"
    }
   ],
   "source": [
    "sumofodd(l)"
   ]
  },
  {
   "cell_type": "code",
   "execution_count": 76,
   "id": "58a79007",
   "metadata": {},
   "outputs": [],
   "source": [
    "def sumOfOdd(l):\n",
    "    odd=[]\n",
    "    for num in l:\n",
    "        if num%2!=0:\n",
    "            odd.append(num)\n",
    "    return sum(odd)\n",
    "            "
   ]
  },
  {
   "cell_type": "code",
   "execution_count": 77,
   "id": "cf344cd5",
   "metadata": {},
   "outputs": [
    {
     "data": {
      "text/plain": [
       "23"
      ]
     },
     "execution_count": 77,
     "metadata": {},
     "output_type": "execute_result"
    }
   ],
   "source": [
    "sumOfOdd(l)"
   ]
  },
  {
   "cell_type": "code",
   "execution_count": 82,
   "id": "a1251613",
   "metadata": {},
   "outputs": [],
   "source": [
    "#n!\n",
    "#n*(n-1)*(n-1)\n",
    "\n",
    "#5!=5*(5-1)*(4-1)*(3-1)*(2-1)*(1-1)\n",
    "def fact_number(n):\n",
    "    if n==0:\n",
    "        return 1\n",
    "    else:\n",
    "        return n*fact_number(n-1)"
   ]
  },
  {
   "cell_type": "code",
   "execution_count": 83,
   "id": "4a36a3bd",
   "metadata": {},
   "outputs": [
    {
     "data": {
      "text/plain": [
       "120"
      ]
     },
     "execution_count": 83,
     "metadata": {},
     "output_type": "execute_result"
    }
   ],
   "source": [
    "fact_number(5)"
   ]
  },
  {
   "cell_type": "code",
   "execution_count": 84,
   "id": "8293d337",
   "metadata": {},
   "outputs": [],
   "source": [
    "factorial=lambda num:1 if num==0 else num*factorial(num-1)"
   ]
  },
  {
   "cell_type": "code",
   "execution_count": 85,
   "id": "0fa97e16",
   "metadata": {},
   "outputs": [
    {
     "data": {
      "text/plain": [
       "6"
      ]
     },
     "execution_count": 85,
     "metadata": {},
     "output_type": "execute_result"
    }
   ],
   "source": [
    "factorial(3)"
   ]
  },
  {
   "cell_type": "code",
   "execution_count": 87,
   "id": "3f5028e0",
   "metadata": {},
   "outputs": [],
   "source": [
    "def fact_num(n):\n",
    "    a=1\n",
    "    for i in range(1,n+1):\n",
    "        a=i*a\n",
    "    return a"
   ]
  },
  {
   "cell_type": "code",
   "execution_count": 89,
   "id": "e2d86ee9",
   "metadata": {},
   "outputs": [
    {
     "data": {
      "text/plain": [
       "3628800"
      ]
     },
     "execution_count": 89,
     "metadata": {},
     "output_type": "execute_result"
    }
   ],
   "source": [
    "fact_num(10)"
   ]
  },
  {
   "cell_type": "code",
   "execution_count": 92,
   "id": "1b3e1191",
   "metadata": {},
   "outputs": [
    {
     "name": "stdout",
     "output_type": "stream",
     "text": [
      "range(1, 11)\n"
     ]
    }
   ],
   "source": [
    "print(range(1,10+1))"
   ]
  },
  {
   "cell_type": "code",
   "execution_count": 93,
   "id": "bb00932f",
   "metadata": {},
   "outputs": [],
   "source": [
    "#map,reduce and filter"
   ]
  },
  {
   "cell_type": "code",
   "execution_count": 96,
   "id": "135e0fb7",
   "metadata": {},
   "outputs": [],
   "source": [
    "l=[5,6,7,8,89]\n",
    "l1=[]\n",
    "for i in l:\n",
    "    l1.append(i*2)"
   ]
  },
  {
   "cell_type": "code",
   "execution_count": 97,
   "id": "bfe127c4",
   "metadata": {},
   "outputs": [
    {
     "name": "stdout",
     "output_type": "stream",
     "text": [
      "[10, 12, 14, 16, 178]\n"
     ]
    }
   ],
   "source": [
    "print(l1)"
   ]
  },
  {
   "cell_type": "code",
   "execution_count": 98,
   "id": "ace3aaf5",
   "metadata": {},
   "outputs": [],
   "source": [
    "def add_list(l):\n",
    "    l1=[]\n",
    "    for i in l:\n",
    "        l1.append(i*2)\n",
    "    return l1"
   ]
  },
  {
   "cell_type": "code",
   "execution_count": 99,
   "id": "9c12aabe",
   "metadata": {},
   "outputs": [
    {
     "data": {
      "text/plain": [
       "[10, 12, 14, 16, 178]"
      ]
     },
     "execution_count": 99,
     "metadata": {},
     "output_type": "execute_result"
    }
   ],
   "source": [
    "add_list([5,6,7,8,89])"
   ]
  },
  {
   "cell_type": "code",
   "execution_count": 100,
   "id": "66922eef",
   "metadata": {},
   "outputs": [],
   "source": [
    "v=lambda a:a+2"
   ]
  },
  {
   "cell_type": "code",
   "execution_count": 102,
   "id": "f45475d1",
   "metadata": {},
   "outputs": [
    {
     "data": {
      "text/plain": [
       "12"
      ]
     },
     "execution_count": 102,
     "metadata": {},
     "output_type": "execute_result"
    }
   ],
   "source": [
    "v(10)"
   ]
  },
  {
   "cell_type": "code",
   "execution_count": 105,
   "id": "3628ddc9",
   "metadata": {},
   "outputs": [
    {
     "data": {
      "text/plain": [
       "<map at 0x1fb3b915e20>"
      ]
     },
     "execution_count": 105,
     "metadata": {},
     "output_type": "execute_result"
    }
   ],
   "source": [
    "v=map(lambda a:a+2,l)"
   ]
  },
  {
   "cell_type": "code",
   "execution_count": 106,
   "id": "625e142f",
   "metadata": {},
   "outputs": [
    {
     "data": {
      "text/plain": [
       "[7, 8, 9, 10, 91]"
      ]
     },
     "execution_count": 106,
     "metadata": {},
     "output_type": "execute_result"
    }
   ],
   "source": [
    "list(v)"
   ]
  },
  {
   "cell_type": "code",
   "execution_count": 107,
   "id": "444bb4ee",
   "metadata": {},
   "outputs": [
    {
     "data": {
      "text/plain": [
       "[7, 8, 9, 10, 91]"
      ]
     },
     "execution_count": 107,
     "metadata": {},
     "output_type": "execute_result"
    }
   ],
   "source": [
    "list(map(lambda a:a+2,l))"
   ]
  },
  {
   "cell_type": "code",
   "execution_count": 108,
   "id": "e784f339",
   "metadata": {},
   "outputs": [],
   "source": [
    "def test34(c):\n",
    "    return c+2"
   ]
  },
  {
   "cell_type": "code",
   "execution_count": 110,
   "id": "4ad57cbc",
   "metadata": {},
   "outputs": [
    {
     "data": {
      "text/plain": [
       "[7, 8, 9, 10, 91]"
      ]
     },
     "execution_count": 110,
     "metadata": {},
     "output_type": "execute_result"
    }
   ],
   "source": [
    "list(map(test34,l))"
   ]
  },
  {
   "cell_type": "code",
   "execution_count": 112,
   "id": "b5b82478",
   "metadata": {},
   "outputs": [
    {
     "data": {
      "text/plain": [
       "['Odd', 'Even', 'Odd', 'Even', 'Odd']"
      ]
     },
     "execution_count": 112,
     "metadata": {},
     "output_type": "execute_result"
    }
   ],
   "source": [
    "list(map(lambda a:\"Even\" if a%2==0 else \"Odd\",l))"
   ]
  },
  {
   "cell_type": "code",
   "execution_count": 113,
   "id": "ab570c90",
   "metadata": {},
   "outputs": [],
   "source": [
    "l=[\"sudh\",\"kumar\",\"pwskills\"]"
   ]
  },
  {
   "cell_type": "code",
   "execution_count": 114,
   "id": "c7185b4b",
   "metadata": {},
   "outputs": [
    {
     "data": {
      "text/plain": [
       "[4, 5, 8]"
      ]
     },
     "execution_count": 114,
     "metadata": {},
     "output_type": "execute_result"
    }
   ],
   "source": [
    "list(map(lambda a:len(a),l))"
   ]
  },
  {
   "cell_type": "code",
   "execution_count": 118,
   "id": "e595f0e8",
   "metadata": {},
   "outputs": [],
   "source": [
    "def lengthOfString(a):\n",
    "    l1=[]\n",
    "    for num in a:\n",
    "        l1.append(len(num))\n",
    "    return l1"
   ]
  },
  {
   "cell_type": "code",
   "execution_count": 119,
   "id": "28bc062a",
   "metadata": {},
   "outputs": [
    {
     "data": {
      "text/plain": [
       "[4, 5, 8]"
      ]
     },
     "execution_count": 119,
     "metadata": {},
     "output_type": "execute_result"
    }
   ],
   "source": [
    "lengthOfString(l)"
   ]
  },
  {
   "cell_type": "code",
   "execution_count": 121,
   "id": "4def085c",
   "metadata": {},
   "outputs": [],
   "source": [
    "def findStrLength(userstr):\n",
    "    return len(userstr)"
   ]
  },
  {
   "cell_type": "code",
   "execution_count": 122,
   "id": "2dd5c569",
   "metadata": {},
   "outputs": [
    {
     "data": {
      "text/plain": [
       "[4, 5, 8]"
      ]
     },
     "execution_count": 122,
     "metadata": {},
     "output_type": "execute_result"
    }
   ],
   "source": [
    "list(map(findStrLength,l))"
   ]
  },
  {
   "cell_type": "code",
   "execution_count": 127,
   "id": "ef450c3d",
   "metadata": {},
   "outputs": [
    {
     "data": {
      "text/plain": [
       "['hdus', 'ramuk', 'sllikswp']"
      ]
     },
     "execution_count": 127,
     "metadata": {},
     "output_type": "execute_result"
    }
   ],
   "source": [
    "list(map(lambda a:a[::-1],l))"
   ]
  },
  {
   "cell_type": "code",
   "execution_count": 128,
   "id": "6614d836",
   "metadata": {},
   "outputs": [],
   "source": [
    "#reduce"
   ]
  },
  {
   "cell_type": "code",
   "execution_count": 130,
   "id": "7d211764",
   "metadata": {},
   "outputs": [],
   "source": [
    "l=[2,3,4,5,6,6]\n",
    "from functools import reduce"
   ]
  },
  {
   "cell_type": "code",
   "execution_count": 131,
   "id": "82fe4e79",
   "metadata": {},
   "outputs": [
    {
     "data": {
      "text/plain": [
       "4320"
      ]
     },
     "execution_count": 131,
     "metadata": {},
     "output_type": "execute_result"
    }
   ],
   "source": [
    "reduce(lambda a,b:a*b,l)"
   ]
  },
  {
   "cell_type": "code",
   "execution_count": 132,
   "id": "2eaa1838",
   "metadata": {},
   "outputs": [
    {
     "data": {
      "text/plain": [
       "26"
      ]
     },
     "execution_count": 132,
     "metadata": {},
     "output_type": "execute_result"
    }
   ],
   "source": [
    "reduce(lambda a,b:a+b,l)"
   ]
  },
  {
   "cell_type": "code",
   "execution_count": 134,
   "id": "660602ce",
   "metadata": {},
   "outputs": [
    {
     "data": {
      "text/plain": [
       "6"
      ]
     },
     "execution_count": 134,
     "metadata": {},
     "output_type": "execute_result"
    }
   ],
   "source": [
    "reduce(lambda a,b:a if a>b else b,l)"
   ]
  },
  {
   "cell_type": "code",
   "execution_count": 135,
   "id": "856b3490",
   "metadata": {},
   "outputs": [
    {
     "data": {
      "text/plain": [
       "2"
      ]
     },
     "execution_count": 135,
     "metadata": {},
     "output_type": "execute_result"
    }
   ],
   "source": [
    "reduce(lambda a,b:a if a<b else b,l)"
   ]
  },
  {
   "cell_type": "code",
   "execution_count": 136,
   "id": "ec455fc6",
   "metadata": {},
   "outputs": [],
   "source": [
    "n=4\n",
    "fact=reduce(lambda a,b:a*b,range(1,n+1))"
   ]
  },
  {
   "cell_type": "code",
   "execution_count": 137,
   "id": "0edb5e90",
   "metadata": {},
   "outputs": [
    {
     "data": {
      "text/plain": [
       "24"
      ]
     },
     "execution_count": 137,
     "metadata": {},
     "output_type": "execute_result"
    }
   ],
   "source": [
    "fact"
   ]
  },
  {
   "cell_type": "code",
   "execution_count": 141,
   "id": "88161120",
   "metadata": {},
   "outputs": [
    {
     "data": {
      "text/plain": [
       "2"
      ]
     },
     "execution_count": 141,
     "metadata": {},
     "output_type": "execute_result"
    }
   ],
   "source": [
    "reduce(lambda a,b:a if a%2==0 else b,l)"
   ]
  },
  {
   "cell_type": "code",
   "execution_count": 144,
   "id": "15469203",
   "metadata": {},
   "outputs": [
    {
     "data": {
      "text/plain": [
       "288"
      ]
     },
     "execution_count": 144,
     "metadata": {},
     "output_type": "execute_result"
    }
   ],
   "source": [
    "reduce(lambda a,b:a*b,[i for i in l if i%2==0])"
   ]
  },
  {
   "cell_type": "code",
   "execution_count": 145,
   "id": "330ef799",
   "metadata": {},
   "outputs": [],
   "source": [
    "l=[3,4,5,6,76,3,32,2,4,5,5,5]"
   ]
  },
  {
   "cell_type": "code",
   "execution_count": 147,
   "id": "4cd925e2",
   "metadata": {},
   "outputs": [
    {
     "data": {
      "text/plain": [
       "[4, 6, 76, 32, 2, 4]"
      ]
     },
     "execution_count": 147,
     "metadata": {},
     "output_type": "execute_result"
    }
   ],
   "source": [
    "list(filter(lambda a:a%2==0,l))"
   ]
  },
  {
   "cell_type": "code",
   "execution_count": 148,
   "id": "e94a5f6a",
   "metadata": {},
   "outputs": [
    {
     "data": {
      "text/plain": [
       "['w', 'k', 'i', 'l', 'l', 's']"
      ]
     },
     "execution_count": 148,
     "metadata": {},
     "output_type": "execute_result"
    }
   ],
   "source": [
    "s=\"Pw Skills\"\n",
    "list(filter(lambda a:a.islower(),s))"
   ]
  },
  {
   "cell_type": "code",
   "execution_count": 149,
   "id": "63d32427",
   "metadata": {},
   "outputs": [
    {
     "data": {
      "text/plain": [
       "['pw', 'sudh']"
      ]
     },
     "execution_count": 149,
     "metadata": {},
     "output_type": "execute_result"
    }
   ],
   "source": [
    "l=[\"pw\",\"pwskills\",\"sudh\",\"krish\"]\n",
    "\n",
    "list(filter(lambda a:len(a)<=4,l))"
   ]
  },
  {
   "cell_type": "code",
   "execution_count": 150,
   "id": "c1127468",
   "metadata": {},
   "outputs": [
    {
     "data": {
      "text/plain": [
       "['pw', 'pwskills', 'sudh', 'krish']"
      ]
     },
     "execution_count": 150,
     "metadata": {},
     "output_type": "execute_result"
    }
   ],
   "source": [
    "l"
   ]
  },
  {
   "cell_type": "code",
   "execution_count": 151,
   "id": "dc64d571",
   "metadata": {},
   "outputs": [
    {
     "data": {
      "text/plain": [
       "['pw', 'pwskills']"
      ]
     },
     "execution_count": 151,
     "metadata": {},
     "output_type": "execute_result"
    }
   ],
   "source": [
    "list(filter(lambda a:a[0]==\"p\",l))"
   ]
  },
  {
   "cell_type": "code",
   "execution_count": 152,
   "id": "4321e604",
   "metadata": {},
   "outputs": [],
   "source": [
    "#fibonacci series"
   ]
  },
  {
   "cell_type": "code",
   "execution_count": 155,
   "id": "210801e5",
   "metadata": {},
   "outputs": [
    {
     "name": "stdout",
     "output_type": "stream",
     "text": [
      "0 = 0  i= 1\n",
      "1 = 1  i= 2\n",
      "4 = 4  i= 3\n",
      "11 = 11  i= 4\n",
      "26 = 26  i= 5\n",
      "57 = 57  i= 6\n",
      "120 = 120  i= 7\n",
      "247 = 247  i= 8\n",
      "502 = 502  i= 9\n",
      "1013 = 1013  i= 10\n"
     ]
    }
   ],
   "source": [
    "a=0\n",
    "for i in range(1,11):\n",
    "    print(a,\"=\",a,\" i=\",i)\n",
    "    a+=a+i"
   ]
  },
  {
   "cell_type": "code",
   "execution_count": 154,
   "id": "bfce3c8a",
   "metadata": {},
   "outputs": [
    {
     "name": "stdout",
     "output_type": "stream",
     "text": [
      "2036\n"
     ]
    }
   ],
   "source": [
    "print(a)"
   ]
  },
  {
   "cell_type": "code",
   "execution_count": 158,
   "id": "a1e92668",
   "metadata": {},
   "outputs": [],
   "source": [
    "def gen_fib(n):\n",
    "    if n<=1:\n",
    "        return n\n",
    "    else:\n",
    "        return gen_fib(n-1)+gen_fib(n-2)"
   ]
  },
  {
   "cell_type": "code",
   "execution_count": 159,
   "id": "0cfb3d87",
   "metadata": {},
   "outputs": [
    {
     "data": {
      "text/plain": [
       "55"
      ]
     },
     "execution_count": 159,
     "metadata": {},
     "output_type": "execute_result"
    }
   ],
   "source": [
    "gen_fib(10)"
   ]
  },
  {
   "cell_type": "code",
   "execution_count": 160,
   "id": "75269b2c",
   "metadata": {},
   "outputs": [],
   "source": [
    "def sum_till_n(n):\n",
    "    if n==1:\n",
    "        return 1\n",
    "    else:\n",
    "        return n+sum_till_n(n-1)"
   ]
  },
  {
   "cell_type": "code",
   "execution_count": 161,
   "id": "2063157b",
   "metadata": {},
   "outputs": [
    {
     "data": {
      "text/plain": [
       "15"
      ]
     },
     "execution_count": 161,
     "metadata": {},
     "output_type": "execute_result"
    }
   ],
   "source": [
    "sum_till_n(5)"
   ]
  },
  {
   "cell_type": "code",
   "execution_count": null,
   "id": "1d298826",
   "metadata": {},
   "outputs": [],
   "source": []
  }
 ],
 "metadata": {
  "kernelspec": {
   "display_name": "Python 3 (ipykernel)",
   "language": "python",
   "name": "python3"
  },
  "language_info": {
   "codemirror_mode": {
    "name": "ipython",
    "version": 3
   },
   "file_extension": ".py",
   "mimetype": "text/x-python",
   "name": "python",
   "nbconvert_exporter": "python",
   "pygments_lexer": "ipython3",
   "version": "3.9.13"
  }
 },
 "nbformat": 4,
 "nbformat_minor": 5
}
