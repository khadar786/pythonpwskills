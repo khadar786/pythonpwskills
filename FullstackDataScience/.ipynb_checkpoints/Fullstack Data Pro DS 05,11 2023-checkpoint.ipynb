{
 "cells": [
  {
   "cell_type": "code",
   "execution_count": 3,
   "id": "ae7b1845",
   "metadata": {},
   "outputs": [
    {
     "name": "stdout",
     "output_type": "stream",
     "text": [
      "10\n"
     ]
    }
   ],
   "source": [
    "#Recurence Relation\n",
    "#1.Substitution Method\n",
    "\n",
    "##Time complexity O(n)\n",
    "##Space complexity O(n) [n indicates of number of digits]\n",
    "\n",
    "def sum_of_digits(n):\n",
    "    ## 1.Base condition\n",
    "    if n<=10:\n",
    "        return n\n",
    "    else:\n",
    "    ## recursive function call\n",
    "        return n%10+sum_of_digits(n//10)\n",
    "\n",
    "\n",
    "#Driver code\n",
    "n=1234\n",
    "result=sum_of_digits(n)\n",
    "print(result)"
   ]
  },
  {
   "cell_type": "code",
   "execution_count": 1,
   "id": "06fdc01f",
   "metadata": {},
   "outputs": [
    {
     "name": "stdout",
     "output_type": "stream",
     "text": [
      "524288\n"
     ]
    }
   ],
   "source": [
    "##Power of given numbers\n",
    "##Time complexity O(n)\n",
    "##Space complexity O(n) [n indicates of number of digits]\n",
    "\n",
    "def powerFind(a,n):\n",
    "    ## 1.Base condition\n",
    "    if n==0:\n",
    "        return 1\n",
    "    else:\n",
    "    ## 2.Recursive function call\n",
    "        return a*powerFind(a,n-1)\n",
    "\n",
    "## Driver code\n",
    "a=2\n",
    "n=19\n",
    "result=powerFind(a,n)\n",
    "print(result) "
   ]
  },
  {
   "cell_type": "code",
   "execution_count": 5,
   "id": "ea90566a",
   "metadata": {},
   "outputs": [
    {
     "name": "stdout",
     "output_type": "stream",
     "text": [
      "n value is 2\n",
      "n value is 4\n",
      "524288\n"
     ]
    }
   ],
   "source": [
    "## Method definition\n",
    "def powerFind(a, n):\n",
    "    ## base case condition\n",
    "    if n == 1:\n",
    "        return a\n",
    "    ## recursive function calls\n",
    "    else:\n",
    "        mid = n // 2\n",
    "        result = powerFind(a, mid)\n",
    "        finalResult = result * result\n",
    "        \n",
    "        print(\"n value is\",n)\n",
    "        ## checking whether the value of n is even or odd\n",
    "        if n % 2 == 0:\n",
    "            return finalResult\n",
    "        else:\n",
    "            return a * finalResult\n",
    "\n",
    "## Driver code\n",
    "a = 2\n",
    "n = 19\n",
    "result = powerFind(a, n)\n",
    "print(result)"
   ]
  },
  {
   "cell_type": "code",
   "execution_count": null,
   "id": "71a2c062",
   "metadata": {},
   "outputs": [],
   "source": []
  }
 ],
 "metadata": {
  "kernelspec": {
   "display_name": "Python 3 (ipykernel)",
   "language": "python",
   "name": "python3"
  },
  "language_info": {
   "codemirror_mode": {
    "name": "ipython",
    "version": 3
   },
   "file_extension": ".py",
   "mimetype": "text/x-python",
   "name": "python",
   "nbconvert_exporter": "python",
   "pygments_lexer": "ipython3",
   "version": "3.9.13"
  }
 },
 "nbformat": 4,
 "nbformat_minor": 5
}
