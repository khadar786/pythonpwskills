{
 "cells": [
  {
   "cell_type": "code",
   "execution_count": 48,
   "id": "c1fa3064",
   "metadata": {},
   "outputs": [],
   "source": [
    "#Inheritance - super\n",
    "#Decorator function\n",
    "#Decorator class"
   ]
  },
  {
   "cell_type": "code",
   "execution_count": 2,
   "id": "1937eed4",
   "metadata": {},
   "outputs": [],
   "source": [
    "class pwskills:\n",
    "    \n",
    "    def __init__(self,mentor):\n",
    "        self.mentor=mentor\n",
    "    \n",
    "    def mentor_name(self):\n",
    "        print(self.mentor)\n",
    "\n",
    "class datascience(pwskills):\n",
    "    \n",
    "    def __init__(self,mentor,mentor_mail_id):\n",
    "        self.mentor=mentor\n",
    "        self.mentor_mail_id=mentor_mail_id\n",
    "    \n",
    "    def show_info(self):\n",
    "        print(self.mentor,self.mentor_mail_id)"
   ]
  },
  {
   "cell_type": "code",
   "execution_count": 3,
   "id": "b513f7f1",
   "metadata": {},
   "outputs": [],
   "source": [
    "python_basic= datascience(\"sudh\",\"kadar@gmail.com\")"
   ]
  },
  {
   "cell_type": "code",
   "execution_count": 4,
   "id": "45e7fa65",
   "metadata": {},
   "outputs": [
    {
     "name": "stdout",
     "output_type": "stream",
     "text": [
      "sudh kadar@gmail.com\n"
     ]
    }
   ],
   "source": [
    "python_basic.show_info()"
   ]
  },
  {
   "cell_type": "code",
   "execution_count": 5,
   "id": "2c618245",
   "metadata": {},
   "outputs": [
    {
     "name": "stdout",
     "output_type": "stream",
     "text": [
      "sudh\n"
     ]
    }
   ],
   "source": [
    "python_basic.mentor_name()"
   ]
  },
  {
   "cell_type": "code",
   "execution_count": 6,
   "id": "b8c6ca97",
   "metadata": {},
   "outputs": [],
   "source": [
    "class pwskills:\n",
    "    \n",
    "    def __init__(self,mentor):\n",
    "        self.mentor=mentor\n",
    "    \n",
    "    def mentor_name(self):\n",
    "        print(self.mentor)\n",
    "\n",
    "class datascience(pwskills):\n",
    "    \n",
    "    def __init__(self,mentor,mentor_mail_id):\n",
    "        #self.mentor=mentor\n",
    "        super().__init__(mentor)\n",
    "        self.mentor_mail_id=mentor_mail_id\n",
    "    \n",
    "    def show_info(self):\n",
    "        #self.mentor_name()\n",
    "        super().mentor_name();\n",
    "        print(self.mentor,self.mentor_mail_id)"
   ]
  },
  {
   "cell_type": "code",
   "execution_count": 7,
   "id": "5fa66631",
   "metadata": {},
   "outputs": [],
   "source": [
    "python_basic= datascience(\"sudh\",\"kadar@gmail.com\")"
   ]
  },
  {
   "cell_type": "code",
   "execution_count": 8,
   "id": "4d85999e",
   "metadata": {},
   "outputs": [
    {
     "name": "stdout",
     "output_type": "stream",
     "text": [
      "sudh\n",
      "sudh kadar@gmail.com\n"
     ]
    }
   ],
   "source": [
    "python_basic.show_info()"
   ]
  },
  {
   "cell_type": "code",
   "execution_count": 9,
   "id": "54000b6e",
   "metadata": {},
   "outputs": [
    {
     "name": "stdout",
     "output_type": "stream",
     "text": [
      "sudh\n"
     ]
    }
   ],
   "source": [
    "python_basic.mentor_name()"
   ]
  },
  {
   "cell_type": "code",
   "execution_count": 10,
   "id": "48369c87",
   "metadata": {},
   "outputs": [],
   "source": [
    "class human:\n",
    "    \n",
    "    def __init__(self):\n",
    "        pass\n",
    "    \n",
    "    def eat(self):\n",
    "        print(\"print the eat menthod from human\")"
   ]
  },
  {
   "cell_type": "code",
   "execution_count": 11,
   "id": "f799a234",
   "metadata": {},
   "outputs": [],
   "source": [
    "class male(human):\n",
    "    \n",
    "    def __init__(self,name):\n",
    "        self.name=name\n",
    "    \n",
    "    #method over\n",
    "    def eat(self):\n",
    "        super().eat()\n",
    "        print(self.name)"
   ]
  },
  {
   "cell_type": "code",
   "execution_count": 12,
   "id": "efe9203f",
   "metadata": {},
   "outputs": [],
   "source": [
    "sudh = male(\"sudhanshu\")"
   ]
  },
  {
   "cell_type": "code",
   "execution_count": 13,
   "id": "b8051759",
   "metadata": {},
   "outputs": [
    {
     "name": "stdout",
     "output_type": "stream",
     "text": [
      "print the eat menthod from human\n",
      "sudhanshu\n"
     ]
    }
   ],
   "source": [
    "sudh.eat()"
   ]
  },
  {
   "cell_type": "code",
   "execution_count": 14,
   "id": "88c0037d",
   "metadata": {},
   "outputs": [],
   "source": [
    "class fileopener:\n",
    "    \n",
    "    def __init__(self,filenname):\n",
    "        self.filenname=filenname\n",
    "    \n",
    "    def open_file(self):\n",
    "        print(\"this will open the file \",self.filenname)\n",
    "    \n",
    "    def __del__(self):\n",
    "        print(\"close my file\")"
   ]
  },
  {
   "cell_type": "code",
   "execution_count": 15,
   "id": "44704376",
   "metadata": {},
   "outputs": [],
   "source": [
    "f1=fileopener(\"f1.txt\")"
   ]
  },
  {
   "cell_type": "code",
   "execution_count": 16,
   "id": "8eb80fab",
   "metadata": {},
   "outputs": [
    {
     "name": "stdout",
     "output_type": "stream",
     "text": [
      "this will open the file  f1.txt\n"
     ]
    }
   ],
   "source": [
    "f1.open_file()"
   ]
  },
  {
   "cell_type": "code",
   "execution_count": 17,
   "id": "c8de1b5c",
   "metadata": {},
   "outputs": [],
   "source": [
    "import time\n",
    "\n",
    "class timer:\n",
    "    \n",
    "    def __init__(self):\n",
    "        self.start_time=time.time()\n",
    "        \n",
    "    def task(self):\n",
    "        time_spent=time.time() - self.start_time\n",
    "        print(time_spent)\n",
    "    \n",
    "    def __del__(self):\n",
    "        print(\"\")\n",
    "    \n",
    "    def __str__(self):\n",
    "        return \"this is my class timer\""
   ]
  },
  {
   "cell_type": "code",
   "execution_count": 18,
   "id": "063235f2",
   "metadata": {},
   "outputs": [],
   "source": [
    "t1=timer()"
   ]
  },
  {
   "cell_type": "code",
   "execution_count": 19,
   "id": "4d43f295",
   "metadata": {},
   "outputs": [
    {
     "name": "stdout",
     "output_type": "stream",
     "text": [
      "0.01555943489074707\n"
     ]
    }
   ],
   "source": [
    "t1.task()"
   ]
  },
  {
   "cell_type": "code",
   "execution_count": 20,
   "id": "4a6b8629",
   "metadata": {},
   "outputs": [
    {
     "name": "stdout",
     "output_type": "stream",
     "text": [
      "this is my class timer\n"
     ]
    }
   ],
   "source": [
    "print(t1)"
   ]
  },
  {
   "cell_type": "code",
   "execution_count": 21,
   "id": "6240b7ea",
   "metadata": {},
   "outputs": [],
   "source": [
    "#decorator function\n",
    "\n",
    "def test(func):\n",
    "    \n",
    "    def inner_test():\n",
    "        print(\"this is the start of my inner test\")\n",
    "        func()\n",
    "        print(\"this is the end of my inner test\")\n",
    "    return inner_test\n",
    "\n",
    "@test\n",
    "def test1():\n",
    "    print(\"this is my test1\")"
   ]
  },
  {
   "cell_type": "code",
   "execution_count": 22,
   "id": "2d4d2f9d",
   "metadata": {},
   "outputs": [
    {
     "name": "stdout",
     "output_type": "stream",
     "text": [
      "this is the start of my inner test\n",
      "this is my test1\n",
      "this is the end of my inner test\n"
     ]
    }
   ],
   "source": [
    "test1()"
   ]
  },
  {
   "cell_type": "code",
   "execution_count": 23,
   "id": "2b15d9d0",
   "metadata": {},
   "outputs": [
    {
     "data": {
      "text/plain": [
       "<function __main__.test.<locals>.inner_test()>"
      ]
     },
     "execution_count": 23,
     "metadata": {},
     "output_type": "execute_result"
    }
   ],
   "source": [
    "test(test1)"
   ]
  },
  {
   "cell_type": "code",
   "execution_count": 24,
   "id": "be8c2182",
   "metadata": {},
   "outputs": [],
   "source": [
    "import time"
   ]
  },
  {
   "cell_type": "code",
   "execution_count": 25,
   "id": "b7124ee5",
   "metadata": {},
   "outputs": [],
   "source": [
    "def print_list(l):\n",
    "    start_time=time.time()\n",
    "    for i in l:\n",
    "        print(i)\n",
    "    end_time=time.time()\n",
    "    total_time=end_time-start_time\n",
    "    print(total_time)"
   ]
  },
  {
   "cell_type": "code",
   "execution_count": 26,
   "id": "26b2bddf",
   "metadata": {},
   "outputs": [],
   "source": [
    "def print_key(d):\n",
    "    start_time=time.time()\n",
    "    print(d.keys)\n",
    "    end_time=time.time()\n",
    "    total_time=end_time-start_time\n",
    "    print(total_time)"
   ]
  },
  {
   "cell_type": "code",
   "execution_count": 27,
   "id": "46726397",
   "metadata": {},
   "outputs": [],
   "source": [
    "import time\n",
    "def find_time(func):\n",
    "    def call_time(*args):\n",
    "        start_time=time.time()\n",
    "        func(*args)\n",
    "        end_time=time.time()\n",
    "        total_time=end_time-start_time\n",
    "        print(total_time)\n",
    "    return call_time"
   ]
  },
  {
   "cell_type": "code",
   "execution_count": 28,
   "id": "29b9b128",
   "metadata": {},
   "outputs": [],
   "source": [
    "@find_time\n",
    "def print_key(d):\n",
    "    print(d.keys())"
   ]
  },
  {
   "cell_type": "code",
   "execution_count": 29,
   "id": "2402e7f2",
   "metadata": {},
   "outputs": [
    {
     "name": "stdout",
     "output_type": "stream",
     "text": [
      "dict_keys(['key', 'name'])\n",
      "0.0\n"
     ]
    }
   ],
   "source": [
    "print_key({\"key\":\"value\",\"name\":\"sudh\"})"
   ]
  },
  {
   "cell_type": "code",
   "execution_count": 30,
   "id": "27ce8669",
   "metadata": {},
   "outputs": [],
   "source": [
    "@find_time\n",
    "def print_list(l):\n",
    "    for i in l:\n",
    "        print(i)"
   ]
  },
  {
   "cell_type": "code",
   "execution_count": 31,
   "id": "f891b770",
   "metadata": {},
   "outputs": [
    {
     "name": "stdout",
     "output_type": "stream",
     "text": [
      "1\n",
      "2\n",
      "3\n",
      "4\n",
      "6\n",
      "0.0\n"
     ]
    }
   ],
   "source": [
    "print_list([1,2,3,4,6])"
   ]
  },
  {
   "cell_type": "code",
   "execution_count": 32,
   "id": "4980cb83",
   "metadata": {},
   "outputs": [],
   "source": [
    "import logging\n",
    "def log_fun(func):\n",
    "    def log_inner(*args):\n",
    "        logging.basicConfig(filename=\"test.log\",level=logging.INFO)\n",
    "        logging.info(\"this is the a start of my func\")\n",
    "        func(*args)\n",
    "        logging.info(\"this is the a end of my func\")\n",
    "    return log_inner"
   ]
  },
  {
   "cell_type": "code",
   "execution_count": 33,
   "id": "ed7a5a3d",
   "metadata": {},
   "outputs": [],
   "source": [
    "@log_fun\n",
    "def print_list(l):\n",
    "    for i in l:\n",
    "        print(i)"
   ]
  },
  {
   "cell_type": "code",
   "execution_count": 34,
   "id": "48df848b",
   "metadata": {},
   "outputs": [
    {
     "name": "stdout",
     "output_type": "stream",
     "text": [
      "1\n",
      "2\n",
      "3\n",
      "4\n",
      "6\n"
     ]
    }
   ],
   "source": [
    "print_list([1,2,3,4,6])"
   ]
  },
  {
   "cell_type": "code",
   "execution_count": 35,
   "id": "1001595e",
   "metadata": {},
   "outputs": [],
   "source": [
    "#no under score - public,_ it's a protect,__ it's a private\n",
    "class sudh:\n",
    "    def __init__(self,subject):\n",
    "        self.__subject=subject"
   ]
  },
  {
   "cell_type": "code",
   "execution_count": 36,
   "id": "90cac6e1",
   "metadata": {},
   "outputs": [],
   "source": [
    "s1=sudh(\"data science\")"
   ]
  },
  {
   "cell_type": "code",
   "execution_count": 37,
   "id": "5c007a33",
   "metadata": {},
   "outputs": [
    {
     "data": {
      "text/plain": [
       "'data science'"
      ]
     },
     "execution_count": 37,
     "metadata": {},
     "output_type": "execute_result"
    }
   ],
   "source": [
    "s1._sudh__subject"
   ]
  },
  {
   "cell_type": "code",
   "execution_count": 38,
   "id": "c9a7ed39",
   "metadata": {},
   "outputs": [],
   "source": [
    "s1._sudh__subject = \"Big data\""
   ]
  },
  {
   "cell_type": "code",
   "execution_count": 39,
   "id": "a0e9ff2d",
   "metadata": {},
   "outputs": [
    {
     "data": {
      "text/plain": [
       "'Big data'"
      ]
     },
     "execution_count": 39,
     "metadata": {},
     "output_type": "execute_result"
    }
   ],
   "source": [
    "s1._sudh__subject"
   ]
  },
  {
   "cell_type": "code",
   "execution_count": 40,
   "id": "f1e01f15",
   "metadata": {},
   "outputs": [],
   "source": [
    "class sudh:\n",
    "    def __init__(self,subject):\n",
    "        self.__subject=subject\n",
    "    \n",
    "    @property\n",
    "    def subject(self):\n",
    "        return self.__subject\n",
    "    \n",
    "    @subject.setter\n",
    "    def subject(self,subject):\n",
    "        self.subject=subject\n",
    "        \n",
    "    @subject.getter\n",
    "    def subject(self):\n",
    "        return self.__subject"
   ]
  },
  {
   "cell_type": "code",
   "execution_count": 41,
   "id": "49516706",
   "metadata": {},
   "outputs": [],
   "source": [
    "s2=sudh(\"data analytics\")"
   ]
  },
  {
   "cell_type": "code",
   "execution_count": 42,
   "id": "b18fb9ee",
   "metadata": {},
   "outputs": [
    {
     "data": {
      "text/plain": [
       "'data analytics'"
      ]
     },
     "execution_count": 42,
     "metadata": {},
     "output_type": "execute_result"
    }
   ],
   "source": [
    "s2.subject"
   ]
  },
  {
   "cell_type": "code",
   "execution_count": 43,
   "id": "ff9ddf46",
   "metadata": {},
   "outputs": [],
   "source": [
    "class sudh:\n",
    "    def __init__(self,subject):\n",
    "        self.__subject=subject\n",
    "    \n",
    "    @property\n",
    "    def subject1(self):\n",
    "        return self.__subject\n",
    "    \n",
    "    @subject1.setter\n",
    "    def subject1(self,subject):\n",
    "        self.subject=subject\n",
    "        \n",
    "    @subject1.getter\n",
    "    def subject1(self):\n",
    "        return self.__subject"
   ]
  },
  {
   "cell_type": "code",
   "execution_count": 44,
   "id": "351651b5",
   "metadata": {},
   "outputs": [],
   "source": [
    "s3=sudh(\"data analytics\")"
   ]
  },
  {
   "cell_type": "code",
   "execution_count": 45,
   "id": "8f5a6434",
   "metadata": {},
   "outputs": [
    {
     "data": {
      "text/plain": [
       "'data analytics'"
      ]
     },
     "execution_count": 45,
     "metadata": {},
     "output_type": "execute_result"
    }
   ],
   "source": [
    "s3.subject1"
   ]
  },
  {
   "cell_type": "code",
   "execution_count": 46,
   "id": "17960f67",
   "metadata": {},
   "outputs": [],
   "source": [
    "s3.subject1 = \"block chain\""
   ]
  },
  {
   "cell_type": "code",
   "execution_count": 47,
   "id": "efc528ee",
   "metadata": {},
   "outputs": [
    {
     "data": {
      "text/plain": [
       "'data analytics'"
      ]
     },
     "execution_count": 47,
     "metadata": {},
     "output_type": "execute_result"
    }
   ],
   "source": [
    "s3.subject1"
   ]
  },
  {
   "cell_type": "code",
   "execution_count": null,
   "id": "ae7abb80",
   "metadata": {},
   "outputs": [],
   "source": []
  }
 ],
 "metadata": {
  "kernelspec": {
   "display_name": "Python 3 (ipykernel)",
   "language": "python",
   "name": "python3"
  },
  "language_info": {
   "codemirror_mode": {
    "name": "ipython",
    "version": 3
   },
   "file_extension": ".py",
   "mimetype": "text/x-python",
   "name": "python",
   "nbconvert_exporter": "python",
   "pygments_lexer": "ipython3",
   "version": "3.9.13"
  }
 },
 "nbformat": 4,
 "nbformat_minor": 5
}
