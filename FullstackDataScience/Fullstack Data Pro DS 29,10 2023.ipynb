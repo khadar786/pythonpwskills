{
 "cells": [
  {
   "cell_type": "code",
   "execution_count": 1,
   "id": "cae041da",
   "metadata": {},
   "outputs": [],
   "source": [
    "#Revision\n",
    "#Data structure\n",
    "# 1.Lineer 2.Non Lineer\n",
    "\n",
    "# Recursion \n",
    "# Back tracking\n",
    "# algorithm ->D & C\n"
   ]
  },
  {
   "cell_type": "code",
   "execution_count": 2,
   "id": "f9e476e9",
   "metadata": {},
   "outputs": [],
   "source": [
    "#Asymptotic Notations"
   ]
  },
  {
   "cell_type": "code",
   "execution_count": 12,
   "id": "7a02e29c",
   "metadata": {},
   "outputs": [
    {
     "name": "stdout",
     "output_type": "stream",
     "text": [
      "sum 150\n"
     ]
    }
   ],
   "source": [
    "## Method definitation of the sum function\n",
    "## Time complexity :O(n)\n",
    "## Space complexity :O(1)\n",
    "\n",
    "def summation(l):\n",
    "    sum=0\n",
    "    for i in l:\n",
    "        sum+=i\n",
    "    return sum\n",
    "\n",
    "l=[2,7,9,12,24,27,32,37]\n",
    "print(f\"sum {summation(l)}\")"
   ]
  },
  {
   "cell_type": "code",
   "execution_count": 13,
   "id": "f200e121",
   "metadata": {},
   "outputs": [],
   "source": [
    "def summation2(l):\n",
    "    n=len(l)\n",
    "    sum=2*(n-1)/n\n",
    "    return sum"
   ]
  },
  {
   "cell_type": "code",
   "execution_count": 14,
   "id": "eb5624b2",
   "metadata": {},
   "outputs": [
    {
     "name": "stdout",
     "output_type": "stream",
     "text": [
      "sum 1.75\n"
     ]
    }
   ],
   "source": [
    "l=[2,7,9,12,24,27,32,37]\n",
    "print(f\"sum {summation2(l)}\")"
   ]
  },
  {
   "cell_type": "code",
   "execution_count": 20,
   "id": "976870cc",
   "metadata": {},
   "outputs": [],
   "source": [
    "## built in function you discussed in the list session are available here as well\n",
    "arr=[23,34,56,78,89]\n",
    "arr.insert(1,24)"
   ]
  },
  {
   "cell_type": "code",
   "execution_count": 21,
   "id": "4b4dcd14",
   "metadata": {},
   "outputs": [
    {
     "name": "stdout",
     "output_type": "stream",
     "text": [
      "[23, 24, 34, 56, 78, 89]\n"
     ]
    }
   ],
   "source": [
    "print(arr)"
   ]
  },
  {
   "cell_type": "code",
   "execution_count": 22,
   "id": "ac96fff8",
   "metadata": {},
   "outputs": [],
   "source": [
    "arr.remove(24)"
   ]
  },
  {
   "cell_type": "code",
   "execution_count": 23,
   "id": "18e6779c",
   "metadata": {},
   "outputs": [
    {
     "data": {
      "text/plain": [
       "[23, 34, 56, 78, 89]"
      ]
     },
     "execution_count": 23,
     "metadata": {},
     "output_type": "execute_result"
    }
   ],
   "source": [
    "arr"
   ]
  },
  {
   "cell_type": "code",
   "execution_count": 40,
   "id": "afc535f4",
   "metadata": {},
   "outputs": [
    {
     "name": "stdout",
     "output_type": "stream",
     "text": [
      "4\n"
     ]
    }
   ],
   "source": [
    "## Searching algorithm\n",
    "## time complexity : O(n)\n",
    "## space complexity : O(1)\n",
    "def linearSearch(l,target):\n",
    "    for i in range(0,len(l)):\n",
    "        if l[i]==target:\n",
    "            return i\n",
    "        \n",
    "    return -1\n",
    "\n",
    "target=14\n",
    "arr=[22,24,21,11,14,17,25]\n",
    "result=linearSearch(arr,target)\n",
    "print(result)"
   ]
  },
  {
   "cell_type": "code",
   "execution_count": 46,
   "id": "e34a2f53",
   "metadata": {},
   "outputs": [
    {
     "name": "stdout",
     "output_type": "stream",
     "text": [
      "[2, 18, 22]\n",
      "[5, 11, 13, 15]\n"
     ]
    }
   ],
   "source": [
    "## arr =[2,5,11,13,15,18,22]\n",
    "## even and odd array containg event num and odd num\n",
    "## Time complexity:O(n)\n",
    "## space complexity:O(n)\n",
    "\n",
    "## creating an external data structure [ list [ to store the event and odd values\n",
    "def evenAndodd(arr):\n",
    "    even=[]\n",
    "    odd=[]\n",
    "    for i in arr:\n",
    "        if i%2==0:\n",
    "            even.append(i)\n",
    "        else:\n",
    "            odd.append(i)\n",
    "    return even,odd\n",
    "\n",
    "arr =[2,5,11,13,15,18,22]\n",
    "even,odd=evenAndodd(arr)\n",
    "\n",
    "#Drive code\n",
    "print(even)\n",
    "print(odd)"
   ]
  },
  {
   "cell_type": "code",
   "execution_count": 51,
   "id": "bfd813aa",
   "metadata": {},
   "outputs": [
    {
     "name": "stdout",
     "output_type": "stream",
     "text": [
      "primaryDiagonalSum : 32\n",
      "secondaryDiagonalSum : 31\n"
     ]
    }
   ],
   "source": [
    "## Time complexity:O(n^2)\n",
    "## space complexity:O(1)\n",
    "## function defintion\n",
    "def printDiagonalSum(arr):\n",
    "    n=len(arr)\n",
    "    \n",
    "    primaryDiagonalSum=0\n",
    "    secondaryDiagonalSum=0\n",
    "    \n",
    "    for i in range(n):\n",
    "        for j in range(n):\n",
    "            ##condition to get the elements of primary diagonal\n",
    "            if i==j:\n",
    "                primaryDiagonalSum+=arr[i][j]\n",
    "            \n",
    "            ##condition to get the elements of secondary diagonal\n",
    "            if (i+j)==(n-1):\n",
    "                secondaryDiagonalSum+=arr[i][j]\n",
    "                \n",
    "    return primaryDiagonalSum,secondaryDiagonalSum\n",
    "\n",
    "## Driver Code\n",
    "arr=[[2,4,6],[8,11,13],[14,17,19]]\n",
    "## function calling\n",
    "primaryDiagonalSum,secondaryDiagonalSum=printDiagonalSum(arr)\n",
    "\n",
    "print(f\"primaryDiagonalSum : {primaryDiagonalSum}\")\n",
    "print(f\"secondaryDiagonalSum : {secondaryDiagonalSum}\")"
   ]
  },
  {
   "cell_type": "code",
   "execution_count": 52,
   "id": "6956b736",
   "metadata": {},
   "outputs": [],
   "source": [
    "## Properties of logarithmic\n",
    "## Asymptotic Notations - Mathematical Idea/Intution\n",
    "## Arrays - 1D / 2D Array\n",
    "## Random access - Searching and Sorting\n",
    "## Numerous coding problems [Linear search,EvenOdd,summation,DiagonalSum]\n",
    "## Time and Space complexity\n",
    "##Next Session - Binary Search,Sorting Algorithms\n",
    "## Next Session - Recursion (Can't miss this session)"
   ]
  },
  {
   "cell_type": "code",
   "execution_count": null,
   "id": "27d7b104",
   "metadata": {},
   "outputs": [],
   "source": []
  }
 ],
 "metadata": {
  "kernelspec": {
   "display_name": "Python 3 (ipykernel)",
   "language": "python",
   "name": "python3"
  },
  "language_info": {
   "codemirror_mode": {
    "name": "ipython",
    "version": 3
   },
   "file_extension": ".py",
   "mimetype": "text/x-python",
   "name": "python",
   "nbconvert_exporter": "python",
   "pygments_lexer": "ipython3",
   "version": "3.9.13"
  }
 },
 "nbformat": 4,
 "nbformat_minor": 5
}
