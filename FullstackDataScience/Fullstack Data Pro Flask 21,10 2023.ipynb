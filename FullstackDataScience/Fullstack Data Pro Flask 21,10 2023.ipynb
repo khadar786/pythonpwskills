{
 "cells": [
  {
   "cell_type": "code",
   "execution_count": 1,
   "id": "8a8a7c63",
   "metadata": {},
   "outputs": [],
   "source": [
    "#API - Application programing interface"
   ]
  },
  {
   "cell_type": "code",
   "execution_count": 1,
   "id": "085c56f0",
   "metadata": {},
   "outputs": [],
   "source": [
    "#Flask port 5000,8000\n",
    "\n",
    "# pip install to install the required libraries\n",
    "# requirements.txt\n",
    "\n",
    "# 1.Go to folder through cmd\n",
    "# F:\\Python\\Jupyter\\FlaskProjects\\TEST_API>\n",
    "\n",
    "# 2.conda create -n mynewflaskenv python=3.6\n",
    "\n",
    "# 3.activate environment\n",
    "# activate mynewflaskenv\n",
    "\n",
    "# 4.pip install -r requirements.txt\n",
    "\n",
    "\n",
    "# Using VS CODE\n",
    "# python -m venv testapinew\n",
    "# testapinew\\Scripts\\activate\n",
    "# pip install flask\n",
    "#pip install -r .\\requirements.txt\n",
    "\n",
    "# flask run\n",
    "# Error: Could not locate a Flask application. Use the 'flask --app' option, 'FLASK_APP' environment variable, or a 'wsgi.py' or 'app.py' file in the current directory.\n",
    " \n",
    "# python testapi.py\n",
    "#https://github.com/sudh9931/api_test"
   ]
  },
  {
   "cell_type": "code",
   "execution_count": 3,
   "id": "f576b248",
   "metadata": {},
   "outputs": [],
   "source": [
    "import requests\n",
    "from bs4 import BeautifulSoup\n",
    "from urllib.request import urlopen as uReq\n",
    "import os"
   ]
  },
  {
   "cell_type": "code",
   "execution_count": 4,
   "id": "8db0a7d1",
   "metadata": {},
   "outputs": [],
   "source": [
    "#pip install requests"
   ]
  },
  {
   "cell_type": "code",
   "execution_count": 5,
   "id": "6138ef05",
   "metadata": {},
   "outputs": [],
   "source": [
    "save_dir=\"images/\"\n",
    "if not os.path.exists(save_dir):\n",
    "    os.mkdir(save_dir)"
   ]
  },
  {
   "cell_type": "code",
   "execution_count": 21,
   "id": "861dcd83",
   "metadata": {},
   "outputs": [],
   "source": [
    "query=\"elon musk\"\n",
    "response=requests.get(f\"https://www.google.com/search?q={query}&sca_esv=575400399&hl=en&tbm=isch&sxsrf=AM9HkKniWXa0-BYTaFQvwI0J5iDVlMEj4g%3A1697872198353&source=hp&biw=1536&bih=739&ei=RnkzZcWNE6OB2roPooae-AE&iflsig=AO6bgOgAAAAAZTOHVrhhJpfPsClH2nniyTSnx7DUg8PV&ved=0ahUKEwjFyITqyoaCAxWjgFYBHSKDBx8Q4dUDCAc&uact=5&oq=sudhanshu+kumar&gs_lp=EgNpbWciD3N1ZGhhbnNodSBrdW1hcjIEECMYJzIFEAAYgAQyBRAAGIAEMgUQABiABDIFEAAYgAQyBRAAGIAEMgUQABiABDIFEAAYgAQyBhAAGAUYHjIGEAAYBRgeSPQSUIQLWIQLcAF4AJABAJgBjAGgAYwBqgEDMC4xuAEDyAEA-AEC-AEBigILZ3dzLXdpei1pbWeoAgrCAgcQIxjqAhgn&sclient=img\")"
   ]
  },
  {
   "cell_type": "code",
   "execution_count": 22,
   "id": "24801aae",
   "metadata": {},
   "outputs": [
    {
     "data": {
      "text/plain": [
       "<Response [200]>"
      ]
     },
     "execution_count": 22,
     "metadata": {},
     "output_type": "execute_result"
    }
   ],
   "source": [
    "response"
   ]
  },
  {
   "cell_type": "code",
   "execution_count": 23,
   "id": "01d989d7",
   "metadata": {},
   "outputs": [],
   "source": [
    "soup=BeautifulSoup(response.content,'html.parser')\n",
    "images_tags=soup.find_all(\"img\")"
   ]
  },
  {
   "cell_type": "code",
   "execution_count": 24,
   "id": "b9e07367",
   "metadata": {},
   "outputs": [
    {
     "data": {
      "text/plain": [
       "21"
      ]
     },
     "execution_count": 24,
     "metadata": {},
     "output_type": "execute_result"
    }
   ],
   "source": [
    "len(images_tags)"
   ]
  },
  {
   "cell_type": "code",
   "execution_count": 25,
   "id": "11df42a3",
   "metadata": {},
   "outputs": [],
   "source": [
    "del images_tags[0]"
   ]
  },
  {
   "cell_type": "code",
   "execution_count": 26,
   "id": "3d9c6fbc",
   "metadata": {},
   "outputs": [],
   "source": [
    "for i in images_tags:\n",
    "    images_url=i['src']\n",
    "    #print(images_url)\n",
    "    image_data=requests.get(images_url).content\n",
    "    \n",
    "    with open(os.path.join(save_dir,f\"{query}_{images_tags.index(i)}.jpg\"),\"wb\") as f:\n",
    "        f.write(image_data)"
   ]
  },
  {
   "cell_type": "code",
   "execution_count": null,
   "id": "c99f99c3",
   "metadata": {},
   "outputs": [],
   "source": []
  }
 ],
 "metadata": {
  "kernelspec": {
   "display_name": "Python 3 (ipykernel)",
   "language": "python",
   "name": "python3"
  },
  "language_info": {
   "codemirror_mode": {
    "name": "ipython",
    "version": 3
   },
   "file_extension": ".py",
   "mimetype": "text/x-python",
   "name": "python",
   "nbconvert_exporter": "python",
   "pygments_lexer": "ipython3",
   "version": "3.9.13"
  }
 },
 "nbformat": 4,
 "nbformat_minor": 5
}
