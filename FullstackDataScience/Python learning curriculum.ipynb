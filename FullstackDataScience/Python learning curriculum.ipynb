{
 "cells": [
  {
   "cell_type": "code",
   "execution_count": 1,
   "id": "ee64ad36",
   "metadata": {},
   "outputs": [],
   "source": [
    "#Week 1 August 08,2023 Python Basics\n",
    "#Fullstack Data Pro Python basic variables\n",
    "#Data Types"
   ]
  },
  {
   "cell_type": "code",
   "execution_count": 2,
   "id": "7296d020",
   "metadata": {},
   "outputs": [],
   "source": [
    "#Week 3 August 19,2023 Python data types\n",
    "#Data Types"
   ]
  },
  {
   "cell_type": "code",
   "execution_count": 3,
   "id": "71ea72fa",
   "metadata": {},
   "outputs": [],
   "source": [
    "#Week 5 August 19,2023 Python control statements\n",
    "# there are three forms of the if...else statement.\n",
    "# if statement\n",
    "# if...else statement\n",
    "# if...elif...else statement\n",
    "# Nested if ...\n",
    "# Single statement suites\n",
    "\n",
    "#looping statements\n",
    "#1.while loop\n",
    "#2.for loop\n",
    "#3.nested loops\n",
    "#4.loop control (break,continue and pass)"
   ]
  },
  {
   "cell_type": "code",
   "execution_count": 4,
   "id": "4caada02",
   "metadata": {},
   "outputs": [],
   "source": [
    "#Week 5 August 19,2023 Python operators\n",
    "# Arithmetic operators\n",
    "# Assignment operators\n",
    "# Comparison operators\n",
    "# Logical operators\n",
    "# Identity operators\n",
    "# Membership operators\n",
    "# Bitwise operators"
   ]
  },
  {
   "cell_type": "code",
   "execution_count": 5,
   "id": "5a736b08",
   "metadata": {},
   "outputs": [],
   "source": [
    "#Week 5 August 19,2023 Python functions\n",
    "#Types of function\n",
    "# Standard library functions\n",
    "# User-defined functions"
   ]
  },
  {
   "cell_type": "code",
   "execution_count": 6,
   "id": "94a3a9b2",
   "metadata": {},
   "outputs": [],
   "source": [
    "#Fullstack Data Pro input-out-control-statements 02-09-2023\n",
    "# 1.Numeric - int,float,complex\n",
    "# 2.String - str\n",
    "# 3.List\n",
    "# 4.Tuple\n",
    "# 5.Set\n",
    "# 6.Dict"
   ]
  },
  {
   "cell_type": "code",
   "execution_count": 7,
   "id": "4b31d3c9",
   "metadata": {},
   "outputs": [],
   "source": [
    "#Fullstack Data Pro 09,Sep 2023\n",
    "#keyword arguments\n",
    "#*args and **kargs\n",
    "#lambda functions are anonymous\n",
    "#lambda arguments(s):expressions\n",
    "#comprehension"
   ]
  },
  {
   "cell_type": "code",
   "execution_count": 8,
   "id": "d008f5ff",
   "metadata": {},
   "outputs": [],
   "source": [
    "#Fullstack Data Pro Python Revision Class 16 and 17,09 2023\n",
    "#conditional statement and loops\n",
    "##lambda or anonymous function\n",
    "#map,reduce,filter"
   ]
  },
  {
   "cell_type": "code",
   "execution_count": 9,
   "id": "d8991335",
   "metadata": {},
   "outputs": [],
   "source": [
    "#Fullstack Data Pro Python Class 23 and 24,09 2023\n",
    "##while loop\n",
    "#iterator - one to another | iterable ,next\n",
    "#generator function (range,iter,next,yield)\n",
    "#open('Google.txt', encoding=\"utf8\")"
   ]
  },
  {
   "cell_type": "code",
   "execution_count": 10,
   "id": "956157dc",
   "metadata": {},
   "outputs": [],
   "source": [
    "#Fullstack Data Pro Python Class 30,09 2023\n",
    "#Agenda\n",
    "#Exception Handling try,except,Exception,else,finally,raise,zip,loggin\n",
    "\n",
    "#try:\n",
    "#except Exception as e:\n",
    "#Exception is a global class\n",
    "\n",
    "#else\n",
    "#this will execute itself once try will execute without and error\n",
    "#finally\n",
    "#this will be executed always\n",
    "\n",
    "#Errors:TypeError,ZeroDivisionError,ValueError\n",
    "#raise : we will be write to custom exception handling\n",
    "\n",
    "#logging\n",
    "#zip\n",
    "#decorator"
   ]
  },
  {
   "cell_type": "code",
   "execution_count": 11,
   "id": "ffc920c5",
   "metadata": {},
   "outputs": [],
   "source": [
    "#Fullstack Data Pro Python Class OOPS 01,10 2023\n",
    "#Class is a classification of real world data\n",
    "#Object is a nothing but a variable of class\n",
    "#__init__ constructor or inbuilt method in function"
   ]
  },
  {
   "cell_type": "code",
   "execution_count": 12,
   "id": "02bf9e0f",
   "metadata": {},
   "outputs": [],
   "source": [
    "#Fullstack Data Pro Python Class OOPS 07,10 2023\n",
    "#Agenda\n",
    "#inheritance,method overloading,method overriding\n",
    "\n",
    "#Multi label inheritance (Grand Parents ->Parents ->Childrens)\n",
    "#Multiple Inheritance (Father,Mother ->Child)\n",
    "#https://github.com/sudh9931/opps_assignment/tree/main"
   ]
  },
  {
   "cell_type": "code",
   "execution_count": 13,
   "id": "43daa6dc",
   "metadata": {},
   "outputs": [],
   "source": [
    "#Fullstack Data Pro Python Class OOPS 14,10 2023\n",
    "#Inheritance - super\n",
    "#Decorator function\n",
    "#Decorator class"
   ]
  },
  {
   "cell_type": "code",
   "execution_count": 14,
   "id": "1fd624db",
   "metadata": {},
   "outputs": [],
   "source": [
    "#Fullstack Data Pro Python Class OOPS 15,10 2023"
   ]
  },
  {
   "cell_type": "code",
   "execution_count": null,
   "id": "58ea96a2",
   "metadata": {},
   "outputs": [],
   "source": []
  }
 ],
 "metadata": {
  "kernelspec": {
   "display_name": "Python 3 (ipykernel)",
   "language": "python",
   "name": "python3"
  },
  "language_info": {
   "codemirror_mode": {
    "name": "ipython",
    "version": 3
   },
   "file_extension": ".py",
   "mimetype": "text/x-python",
   "name": "python",
   "nbconvert_exporter": "python",
   "pygments_lexer": "ipython3",
   "version": "3.9.13"
  }
 },
 "nbformat": 4,
 "nbformat_minor": 5
}
