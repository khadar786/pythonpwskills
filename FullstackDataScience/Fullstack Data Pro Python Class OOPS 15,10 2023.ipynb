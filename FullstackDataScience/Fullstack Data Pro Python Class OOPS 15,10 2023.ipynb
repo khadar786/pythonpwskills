{
 "cells": [
  {
   "cell_type": "code",
   "execution_count": 35,
   "id": "b1af02e3",
   "metadata": {},
   "outputs": [],
   "source": [
    "#polymorphism\n",
    "#overriding,overloading\n",
    "#Encapsulation\n",
    "#x public,__x private,_x protected"
   ]
  },
  {
   "cell_type": "code",
   "execution_count": 6,
   "id": "8ad7a3da",
   "metadata": {},
   "outputs": [
    {
     "name": "stdout",
     "output_type": "stream",
     "text": [
      "this will give me a details about data science student\n",
      "this will give me a details about big data student\n"
     ]
    }
   ],
   "source": [
    "class pwskills:\n",
    "    def student(self):\n",
    "        pass\n",
    "\n",
    "class datascience(pwskills):\n",
    "    def student(self):\n",
    "        print(\"this will give me a details about data science student\")\n",
    "\n",
    "class bigdata(pwskills):\n",
    "    def student(self):\n",
    "        print(\"this will give me a details about big data student\")\n",
    "\n",
    "yash=datascience()\n",
    "farhana=bigdata()\n",
    "\n",
    "yash.student()\n",
    "farhana.student()"
   ]
  },
  {
   "cell_type": "code",
   "execution_count": 7,
   "id": "ddaf202d",
   "metadata": {},
   "outputs": [
    {
     "name": "stdout",
     "output_type": "stream",
     "text": [
      "3 22\n"
     ]
    }
   ],
   "source": [
    "#overriding\n",
    "class bigdata:\n",
    "    def __init__(self,number_of_class,number_of_student):\n",
    "        self.number_of_class=number_of_class\n",
    "        self.number_of_student=number_of_student\n",
    "    \n",
    "    def __add__(self,other):\n",
    "        return bigdata(self.number_of_class+other.number_of_class,self.number_of_student+other.number_of_student)\n",
    "\n",
    "\n",
    "c1=bigdata(1,10)\n",
    "c2=bigdata(2,12)\n",
    "result=c1+c2\n",
    "print(result.number_of_class,result.number_of_student)"
   ]
  },
  {
   "cell_type": "code",
   "execution_count": 8,
   "id": "8c60555f",
   "metadata": {},
   "outputs": [],
   "source": [
    "class datascience:\n",
    "    def student(self):\n",
    "        print(\"this will give me a details about data science student\")"
   ]
  },
  {
   "cell_type": "code",
   "execution_count": 9,
   "id": "224bb34c",
   "metadata": {},
   "outputs": [],
   "source": [
    "o1=datascience()\n",
    "o2=datascience()\n",
    "o3=datascience()"
   ]
  },
  {
   "cell_type": "code",
   "execution_count": 10,
   "id": "f78d9b90",
   "metadata": {},
   "outputs": [
    {
     "ename": "TypeError",
     "evalue": "unsupported operand type(s) for +: 'datascience' and 'datascience'",
     "output_type": "error",
     "traceback": [
      "\u001b[1;31m---------------------------------------------------------------------------\u001b[0m",
      "\u001b[1;31mTypeError\u001b[0m                                 Traceback (most recent call last)",
      "\u001b[1;32m~\\AppData\\Local\\Temp\\ipykernel_36748\\1454856217.py\u001b[0m in \u001b[0;36m<module>\u001b[1;34m\u001b[0m\n\u001b[1;32m----> 1\u001b[1;33m \u001b[0mo1\u001b[0m\u001b[1;33m+\u001b[0m\u001b[0mo2\u001b[0m\u001b[1;33m+\u001b[0m\u001b[0mo3\u001b[0m\u001b[1;33m\u001b[0m\u001b[1;33m\u001b[0m\u001b[0m\n\u001b[0m",
      "\u001b[1;31mTypeError\u001b[0m: unsupported operand type(s) for +: 'datascience' and 'datascience'"
     ]
    }
   ],
   "source": [
    "o1+o2+o3"
   ]
  },
  {
   "cell_type": "code",
   "execution_count": 19,
   "id": "2624d9f9",
   "metadata": {},
   "outputs": [],
   "source": [
    "#this fenomina is called as a duck typing\n",
    "class datascience:\n",
    "    def student(self):\n",
    "        print(\"this will give me a details about data science student\")\n",
    "\n",
    "class bigdata:\n",
    "    def student(self):\n",
    "        print(\"this will give me a details about big data student\")\n",
    "\n",
    "def output_class(class_obj):\n",
    "    return class_obj.student()"
   ]
  },
  {
   "cell_type": "code",
   "execution_count": 20,
   "id": "3ff9e412",
   "metadata": {},
   "outputs": [],
   "source": [
    "sesha=datascience()\n",
    "sashi=bigdata()"
   ]
  },
  {
   "cell_type": "code",
   "execution_count": 21,
   "id": "ad32ec0a",
   "metadata": {},
   "outputs": [
    {
     "name": "stdout",
     "output_type": "stream",
     "text": [
      "this will give me a details about data science student\n"
     ]
    }
   ],
   "source": [
    "output_class(sesha)"
   ]
  },
  {
   "cell_type": "code",
   "execution_count": 22,
   "id": "e93c29f7",
   "metadata": {},
   "outputs": [
    {
     "name": "stdout",
     "output_type": "stream",
     "text": [
      "this will give me a details about big data student\n"
     ]
    }
   ],
   "source": [
    "output_class(sashi)"
   ]
  },
  {
   "cell_type": "code",
   "execution_count": 23,
   "id": "22bd9fe8",
   "metadata": {},
   "outputs": [],
   "source": [
    "#method overriding\n",
    "class pwskills:\n",
    "    def student(self):\n",
    "        return \"this is a pwskills student\"\n",
    "\n",
    "class datascience(pwskills):\n",
    "    def student(self):\n",
    "        print(\"this will give me a details about data science student\")"
   ]
  },
  {
   "cell_type": "code",
   "execution_count": 24,
   "id": "46814552",
   "metadata": {},
   "outputs": [
    {
     "name": "stdout",
     "output_type": "stream",
     "text": [
      "this will give me a details about data science student\n"
     ]
    }
   ],
   "source": [
    "ujwal=datascience()\n",
    "ujwal.student()"
   ]
  },
  {
   "cell_type": "code",
   "execution_count": 25,
   "id": "a5df6f76",
   "metadata": {},
   "outputs": [
    {
     "data": {
      "text/plain": [
       "4"
      ]
     },
     "execution_count": 25,
     "metadata": {},
     "output_type": "execute_result"
    }
   ],
   "source": [
    "len(\"sudh\")"
   ]
  },
  {
   "cell_type": "code",
   "execution_count": 26,
   "id": "7e0151a1",
   "metadata": {},
   "outputs": [
    {
     "data": {
      "text/plain": [
       "5"
      ]
     },
     "execution_count": 26,
     "metadata": {},
     "output_type": "execute_result"
    }
   ],
   "source": [
    "len([1,2,3,4,5])"
   ]
  },
  {
   "cell_type": "code",
   "execution_count": 27,
   "id": "5b606467",
   "metadata": {},
   "outputs": [],
   "source": [
    "#Encapsulation"
   ]
  },
  {
   "cell_type": "code",
   "execution_count": 54,
   "id": "7a3f61ea",
   "metadata": {},
   "outputs": [],
   "source": [
    "class test:\n",
    "    def __init__(self):\n",
    "        self.__x=\"sudh\"\n",
    "        self.y=\"kumar\"\n",
    "        self.z=\"pwskills\"\n",
    "    \n",
    "    def __test_meth(self):\n",
    "        return \"this is just a test\"\n",
    "    \n",
    "    def access_var(self):\n",
    "        return self.__x;\n",
    "    \n",
    "    def update_var(self,data):\n",
    "        self.__x=data"
   ]
  },
  {
   "cell_type": "code",
   "execution_count": 56,
   "id": "e5b65670",
   "metadata": {},
   "outputs": [],
   "source": [
    "t1=test()\n",
    "t1.update_var(123)"
   ]
  },
  {
   "cell_type": "code",
   "execution_count": 57,
   "id": "beff46c9",
   "metadata": {},
   "outputs": [
    {
     "data": {
      "text/plain": [
       "123"
      ]
     },
     "execution_count": 57,
     "metadata": {},
     "output_type": "execute_result"
    }
   ],
   "source": [
    "t1._test__x"
   ]
  },
  {
   "cell_type": "code",
   "execution_count": 58,
   "id": "b5e4d366",
   "metadata": {},
   "outputs": [
    {
     "data": {
      "text/plain": [
       "'this is just a test'"
      ]
     },
     "execution_count": 58,
     "metadata": {},
     "output_type": "execute_result"
    }
   ],
   "source": [
    "t1._test__test_meth()"
   ]
  },
  {
   "cell_type": "code",
   "execution_count": 59,
   "id": "7ab59cb0",
   "metadata": {},
   "outputs": [
    {
     "data": {
      "text/plain": [
       "123"
      ]
     },
     "execution_count": 59,
     "metadata": {},
     "output_type": "execute_result"
    }
   ],
   "source": [
    "t1.access_var()"
   ]
  },
  {
   "cell_type": "code",
   "execution_count": null,
   "id": "48215c95",
   "metadata": {},
   "outputs": [],
   "source": []
  }
 ],
 "metadata": {
  "kernelspec": {
   "display_name": "Python 3 (ipykernel)",
   "language": "python",
   "name": "python3"
  },
  "language_info": {
   "codemirror_mode": {
    "name": "ipython",
    "version": 3
   },
   "file_extension": ".py",
   "mimetype": "text/x-python",
   "name": "python",
   "nbconvert_exporter": "python",
   "pygments_lexer": "ipython3",
   "version": "3.9.13"
  }
 },
 "nbformat": 4,
 "nbformat_minor": 5
}
