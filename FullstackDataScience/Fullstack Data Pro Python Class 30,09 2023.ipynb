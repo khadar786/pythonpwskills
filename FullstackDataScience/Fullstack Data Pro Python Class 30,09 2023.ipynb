{
 "cells": [
  {
   "cell_type": "code",
   "execution_count": 18,
   "id": "6a897af0",
   "metadata": {},
   "outputs": [],
   "source": [
    "#Agenda\n",
    "#Exception Handling try,except,Exception,else,finally,raise,zip,loggin\n",
    "\n",
    "#try:\n",
    "#except Exception as e:\n",
    "#Exception is a global class\n",
    "\n",
    "#else\n",
    "#this will execute itself once try will execute without and error\n",
    "#finally\n",
    "#this will be executed always\n",
    "\n",
    "#Errors:TypeError,ZeroDivisionError,ValueError\n",
    "#raise : we will be write to custom exception handling\n",
    "\n",
    "#logging\n",
    "#zip\n",
    "#decorator"
   ]
  },
  {
   "cell_type": "code",
   "execution_count": 3,
   "id": "77d8fbb6",
   "metadata": {},
   "outputs": [],
   "source": [
    "a=10\n",
    "b=5"
   ]
  },
  {
   "cell_type": "code",
   "execution_count": 4,
   "id": "fe9c17c8",
   "metadata": {},
   "outputs": [
    {
     "data": {
      "text/plain": [
       "50"
      ]
     },
     "execution_count": 4,
     "metadata": {},
     "output_type": "execute_result"
    }
   ],
   "source": [
    "a*b"
   ]
  },
  {
   "cell_type": "code",
   "execution_count": 5,
   "id": "b79adab5",
   "metadata": {},
   "outputs": [
    {
     "data": {
      "text/plain": [
       "2.0"
      ]
     },
     "execution_count": 5,
     "metadata": {},
     "output_type": "execute_result"
    }
   ],
   "source": [
    "a/b"
   ]
  },
  {
   "cell_type": "code",
   "execution_count": 6,
   "id": "37fd5c08",
   "metadata": {},
   "outputs": [],
   "source": [
    "b=0"
   ]
  },
  {
   "cell_type": "code",
   "execution_count": 11,
   "id": "c4efae2c",
   "metadata": {},
   "outputs": [],
   "source": [
    "l=[4,5,6,7,8,9,0]\n",
    "l1=[]\n",
    "\n",
    "def even_parser(l):\n",
    "    for i in l:\n",
    "        if i%2==0:\n",
    "            l1.append(i)\n",
    "    return l1"
   ]
  },
  {
   "cell_type": "code",
   "execution_count": 12,
   "id": "fc74ae39",
   "metadata": {},
   "outputs": [
    {
     "data": {
      "text/plain": [
       "[4, 6, 8, 0]"
      ]
     },
     "execution_count": 12,
     "metadata": {},
     "output_type": "execute_result"
    }
   ],
   "source": [
    "even_parser(l)"
   ]
  },
  {
   "cell_type": "code",
   "execution_count": 4,
   "id": "12a3706f",
   "metadata": {},
   "outputs": [
    {
     "name": "stdout",
     "output_type": "stream",
     "text": [
      "enter a value for a :khadar\n",
      "print somthing\n"
     ]
    }
   ],
   "source": [
    "#try,except & finally\n",
    "try :\n",
    "    a=int(input(\"enter a value for a :\"))\n",
    "    b=int(input(\"enter a value for b :\"))\n",
    "    c=a/b\n",
    "    print(c)\n",
    "except:\n",
    "    pass\n",
    "\n",
    "print(\"print somthing\")"
   ]
  },
  {
   "cell_type": "code",
   "execution_count": 11,
   "id": "a5e07451",
   "metadata": {},
   "outputs": [],
   "source": [
    "l=[4,5,6,7,8,9,0]\n",
    "l1=[]\n",
    "\n",
    "def even_parser(l):\n",
    "    try:\n",
    "        \n",
    "        for i in l:\n",
    "            if i%2==0:\n",
    "                l1.append(i)\n",
    "        return l1\n",
    "    except:\n",
    "        pass"
   ]
  },
  {
   "cell_type": "code",
   "execution_count": 12,
   "id": "fcf577cc",
   "metadata": {},
   "outputs": [],
   "source": [
    "even_parser(5)"
   ]
  },
  {
   "cell_type": "code",
   "execution_count": 14,
   "id": "ade575da",
   "metadata": {},
   "outputs": [
    {
     "name": "stdout",
     "output_type": "stream",
     "text": [
      "division by zero\n"
     ]
    }
   ],
   "source": [
    "#Exception is the super class of Exception handing\n",
    "try:\n",
    "    c=6/0\n",
    "except Exception as e:\n",
    "    print(e)"
   ]
  },
  {
   "cell_type": "code",
   "execution_count": 16,
   "id": "a26e0138",
   "metadata": {},
   "outputs": [
    {
     "name": "stdout",
     "output_type": "stream",
     "text": [
      "3\n",
      "0\n",
      "division by zero\n"
     ]
    }
   ],
   "source": [
    "try:\n",
    "    a=int(input())\n",
    "    b=int(input())\n",
    "    c=a/b\n",
    "except Exception as e:\n",
    "    print(e)"
   ]
  },
  {
   "cell_type": "code",
   "execution_count": 19,
   "id": "eb3a63e3",
   "metadata": {},
   "outputs": [
    {
     "name": "stdout",
     "output_type": "stream",
     "text": [
      "khadar\n",
      "invalid literal for int() with base 10: 'khadar'\n"
     ]
    }
   ],
   "source": [
    "#TypeError,ZeroDivisonError and ValueError\n",
    "try:\n",
    "    a=int(input())\n",
    "    b=int(input())\n",
    "    c=a/b\n",
    "except TypeError as t:\n",
    "    print(t)\n",
    "except ZeroDivisionError as z:\n",
    "    print(z)\n",
    "except ValueError as v:\n",
    "    print(v)"
   ]
  },
  {
   "cell_type": "code",
   "execution_count": 21,
   "id": "aebc571f",
   "metadata": {},
   "outputs": [
    {
     "name": "stdout",
     "output_type": "stream",
     "text": [
      "division by zero\n",
      "invalid literal for int() with base 10: 'sudh'\n"
     ]
    }
   ],
   "source": [
    "try :\n",
    "    x=5/0\n",
    "except ZeroDivisionError as z:\n",
    "    print(z)\n",
    "    try:\n",
    "        y = int(\"sudh\")\n",
    "    except Exception as e:\n",
    "        print(e)"
   ]
  },
  {
   "cell_type": "code",
   "execution_count": 22,
   "id": "cc06d298",
   "metadata": {},
   "outputs": [
    {
     "name": "stdout",
     "output_type": "stream",
     "text": [
      "division by zero\n"
     ]
    }
   ],
   "source": [
    "try :\n",
    "    x=5/0\n",
    "except ZeroDivisionError as z:\n",
    "    print(z)\n",
    "else:\n",
    "    print(\"this will execute itself once try will execute without and error\")"
   ]
  },
  {
   "cell_type": "code",
   "execution_count": 23,
   "id": "b76401f6",
   "metadata": {},
   "outputs": [
    {
     "name": "stdout",
     "output_type": "stream",
     "text": [
      "this will execute itself once try will execute without and error\n"
     ]
    }
   ],
   "source": [
    "try :\n",
    "    x=5/1\n",
    "except ZeroDivisionError as z:\n",
    "    print(z)\n",
    "else:\n",
    "    print(\"this will execute itself once try will execute without and error\")"
   ]
  },
  {
   "cell_type": "code",
   "execution_count": 24,
   "id": "c5dee536",
   "metadata": {},
   "outputs": [
    {
     "name": "stdout",
     "output_type": "stream",
     "text": [
      "this will execute itself once try will execute without and error\n",
      "this will be executed always\n"
     ]
    }
   ],
   "source": [
    "#finallly\n",
    "try :\n",
    "    x=5/1\n",
    "except ZeroDivisionError as z:\n",
    "    print(z)\n",
    "else:\n",
    "    print(\"this will execute itself once try will execute without and error\")\n",
    "finally:\n",
    "    print(\"this will be executed always\")"
   ]
  },
  {
   "cell_type": "code",
   "execution_count": 26,
   "id": "12de06a7",
   "metadata": {},
   "outputs": [],
   "source": [
    "#Custom Exceptions"
   ]
  },
  {
   "cell_type": "code",
   "execution_count": 27,
   "id": "636964c1",
   "metadata": {},
   "outputs": [],
   "source": [
    "d={\"name\":\"sudh\",\"mobile_no\":950543,\"email_id\":\"sudh@gmail.com\"}"
   ]
  },
  {
   "cell_type": "code",
   "execution_count": 28,
   "id": "53448abc",
   "metadata": {},
   "outputs": [
    {
     "data": {
      "text/plain": [
       "{'name': 'sudh', 'mobile_no': 950543, 'email_id': 'sudh@gmail.com'}"
      ]
     },
     "execution_count": 28,
     "metadata": {},
     "output_type": "execute_result"
    }
   ],
   "source": [
    "d"
   ]
  },
  {
   "cell_type": "code",
   "execution_count": 32,
   "id": "98b70d24",
   "metadata": {},
   "outputs": [
    {
     "name": "stdout",
     "output_type": "stream",
     "text": [
      "this is a keyerror\n"
     ]
    }
   ],
   "source": [
    "try:\n",
    "    d={\"name\":\"sudh\",\"mobile_no\":950543,\"email_id\":\"sudh@gmail.com\"}\n",
    "    d[\"course\"]\n",
    "except KeyError as k:\n",
    "    print(\"this is a keyerror\")"
   ]
  },
  {
   "cell_type": "code",
   "execution_count": 34,
   "id": "01486a1b",
   "metadata": {},
   "outputs": [
    {
     "name": "stdout",
     "output_type": "stream",
     "text": [
      "list index out of range\n"
     ]
    }
   ],
   "source": [
    "try:\n",
    "    l=[4,5,6,7,7,8]\n",
    "    l[10]\n",
    "except Exception as e:\n",
    "    print(e)"
   ]
  },
  {
   "cell_type": "code",
   "execution_count": 36,
   "id": "98d9e003",
   "metadata": {},
   "outputs": [
    {
     "name": "stdout",
     "output_type": "stream",
     "text": [
      "invalid literal for int() with base 10: 'sudh'\n"
     ]
    }
   ],
   "source": [
    "#ValueError\n",
    "try:\n",
    "    a=\"sudh\"\n",
    "    int(a)\n",
    "except Exception as e:\n",
    "    print(e)"
   ]
  },
  {
   "cell_type": "code",
   "execution_count": 42,
   "id": "865c1819",
   "metadata": {},
   "outputs": [
    {
     "data": {
      "text/plain": [
       "'Google LLC (/ˈɡuːɡəl/ ⓘ) is an American multinational technology company focusing on artificial intelligence,[9] online advertising, search engine technology, cloud computing, computer software, quantum computing, e-commerce, and consumer electronics. It has been referred to as \"the most powerful company in the world\"[10] and as one of the world\\'s most valuable brands due to its market dominance, data collection, and technological advantages in the field of artificial intelligence.[11][12][13] Alongside Amazon, Apple Inc., Meta Platforms, and Microsoft, Google\\'s parent company Alphabet Inc. is one of the five Big Tech companies.\\n\\nGoogle was founded on September 4, 1998, by American computer scientists Larry Page and Sergey Brin while they were PhD students at Stanford University in California. Together they own about 14% of its publicly listed shares and control 56% of its stockholder voting power through super-voting stock. The company went public via an initial public offering (IPO) in 2004. In 2015, Google was reorganized as a wholly owned subsidiary of Alphabet Inc. Google is Alphabet\\'s largest subsidiary and is a holding company for Alphabet\\'s internet properties and interests. Sundar Pichai was appointed CEO of Google on October 24, 2015, replacing Larry Page, who became the CEO of Alphabet. On December 3, 2019, Pichai also became the CEO of Alphabet.[14]\\n\\nThe company has since rapidly grown to offer a multitude of products and services beyond Google Search, many of which hold dominant market positions. These products address a wide range of use cases, including email (Gmail), navigation (Waze & Maps), cloud computing (Cloud), web browsing (Chrome), video sharing (YouTube), productivity (Workspace), operating systems (Android), cloud storage (Drive), language translation (Translate), photo storage (Photos), video calling (Meet), smart home (Nest), smartphones (Pixel), wearable technology (Pixel Watch & Fitbit), music streaming (YouTube Music), video on demand (YouTube TV), artificial intelligence (Google Assistant), machine learning APIs (TensorFlow), AI chips (TPU), and more. Discontinued Google products include gaming (Stadia), Glass, Google+, Reader, Play Music, Nexus, Hangouts, and Inbox by Gmail.[15][16]\\n\\nGoogle\\'s other ventures outside of Internet services and consumer electronics include quantum computing (Sycamore), self-driving cars (Waymo, formerly the Google Self-Driving Car Project), smart cities (Sidewalk Labs), and transformer models (Google Brain).[17]\\n\\nGoogle and YouTube are the two most visited websites worldwide followed by Facebook and Twitter. Google is also the largest search engine, mapping and navigation application, email provider, office suite, video sharing platform, photo and cloud storage provider, mobile operating system, web browser, ML framework, and AI virtual assistant provider in the world as measured by market share. On the list of most valuable brands, Google is ranked second by Forbes[18] and fourth by Interbrand.[19] It has received significant criticism involving issues such as privacy concerns, tax avoidance, censorship, search neutrality, antitrust and abuse of its monopoly position.'"
      ]
     },
     "execution_count": 42,
     "metadata": {},
     "output_type": "execute_result"
    }
   ],
   "source": [
    "#FileNotFoundError\n",
    "file_name=\"Google.txt\"\n",
    "f=open(file_name,encoding=\"utf8\")\n",
    "f.read()"
   ]
  },
  {
   "cell_type": "code",
   "execution_count": 59,
   "id": "6e303d20",
   "metadata": {},
   "outputs": [
    {
     "name": "stdout",
     "output_type": "stream",
     "text": [
      "[Errno 2] No such file or directory: 'test.txt'\n"
     ]
    }
   ],
   "source": [
    "try :\n",
    "    file_name=\"test.txt\"\n",
    "    f=open(file_name,encoding=\"utf8\")\n",
    "    f.read()\n",
    "except Exception as e:\n",
    "    print(e)"
   ]
  },
  {
   "cell_type": "code",
   "execution_count": 52,
   "id": "a84cb4fc",
   "metadata": {},
   "outputs": [],
   "source": [
    "#present working directory"
   ]
  },
  {
   "cell_type": "code",
   "execution_count": 51,
   "id": "29386852",
   "metadata": {},
   "outputs": [
    {
     "data": {
      "text/plain": [
       "'F:\\\\Python\\\\Jupyter\\\\Practice'"
      ]
     },
     "execution_count": 51,
     "metadata": {},
     "output_type": "execute_result"
    }
   ],
   "source": [
    "pwd"
   ]
  },
  {
   "cell_type": "code",
   "execution_count": 66,
   "id": "fc6d7d15",
   "metadata": {},
   "outputs": [],
   "source": [
    "try :\n",
    "    #file_name=\"F:/Python/Jupyter/Practice/pro/test.txt\"\n",
    "    file_name=\"F:\\\\Python\\\\Jupyter\\\\Practice\\\\pro\\\\test.txt\"\n",
    "    f=open(file_name,encoding=\"utf8\")\n",
    "    f.read()\n",
    "except Exception as e:\n",
    "    print(e)"
   ]
  },
  {
   "cell_type": "code",
   "execution_count": 67,
   "id": "78ab668f",
   "metadata": {},
   "outputs": [
    {
     "name": "stdout",
     "output_type": "stream",
     "text": [
      "F:\\Python\\Jupyter\\Practice\\pro\n"
     ]
    }
   ],
   "source": [
    "cd pro"
   ]
  },
  {
   "cell_type": "code",
   "execution_count": 68,
   "id": "5f5317fd",
   "metadata": {},
   "outputs": [
    {
     "data": {
      "text/plain": [
       "'F:\\\\Python\\\\Jupyter\\\\Practice\\\\pro'"
      ]
     },
     "execution_count": 68,
     "metadata": {},
     "output_type": "execute_result"
    }
   ],
   "source": [
    "pwd"
   ]
  },
  {
   "cell_type": "code",
   "execution_count": 69,
   "id": "72076cb4",
   "metadata": {},
   "outputs": [
    {
     "name": "stdout",
     "output_type": "stream",
     "text": [
      "F:\\Python\\Jupyter\\Practice\n"
     ]
    }
   ],
   "source": [
    "cd .."
   ]
  },
  {
   "cell_type": "code",
   "execution_count": 70,
   "id": "0daaa476",
   "metadata": {},
   "outputs": [
    {
     "data": {
      "text/plain": [
       "'F:\\\\Python\\\\Jupyter\\\\Practice'"
      ]
     },
     "execution_count": 70,
     "metadata": {},
     "output_type": "execute_result"
    }
   ],
   "source": [
    "pwd"
   ]
  },
  {
   "cell_type": "code",
   "execution_count": 71,
   "id": "555b0b64",
   "metadata": {},
   "outputs": [
    {
     "name": "stdout",
     "output_type": "stream",
     "text": [
      " Volume in drive F is New Volume\n",
      " Volume Serial Number is 30F0-305D\n",
      "\n",
      " Directory of F:\\Python\\Jupyter\\Practice\n",
      "\n",
      "30-09-2023  11:10    <DIR>          .\n",
      "23-09-2023  07:13    <DIR>          ..\n",
      "30-09-2023  08:52    <DIR>          .ipynb_checkpoints\n",
      "30-08-2023  22:02            11,053 19th_August_Python_Basics.ipynb\n",
      "05-09-2023  23:22            15,907 20th Aug23  Python basics practice test file.ipynb\n",
      "10-09-2023  11:22            22,498 Fullstack Data Pro 09,Sep 2023.ipynb\n",
      "03-09-2023  11:54            16,479 Fullstack Data Pro input-out-control-statements 02-09-2023.ipynb\n",
      "19-08-2023  11:54            18,261 Fullstack Data Pro Python basic variables.ipynb\n",
      "24-09-2023  13:17            48,145 Fullstack Data Pro Python Class 23 and 24,09 2023.ipynb\n",
      "30-09-2023  11:10            14,231 Fullstack Data Pro Python Class 30,09 2023.ipynb\n",
      "20-08-2023  11:56            28,162 Fullstack Data Pro Python data types.ipynb\n",
      "17-09-2023  12:52            40,851 Fullstack Data Pro Python Revision Class 16 and 17,09 2023.ipynb\n",
      "24-09-2023  12:02             3,202 Google.txt\n",
      "30-09-2023  10:53    <DIR>          pro\n",
      "29-08-2023  08:15             8,736 Untitled.ipynb\n",
      "02-09-2023  15:59            24,749 Week 1 August 08,2023 Python Basics.ipynb\n",
      "30-08-2023  22:02            73,438 Week 3 August 19,2023 Python data types.ipynb\n",
      "02-09-2023  17:22            12,760 Week 5 August 19,2023 Python control statements.ipynb\n",
      "13-09-2023  23:15             7,145 Week 5 August 19,2023 Python functions.ipynb\n",
      "02-09-2023  12:12            15,743 Week 5 August 19,2023 Python operators.ipynb\n",
      "              16 File(s)        361,360 bytes\n",
      "               4 Dir(s)  414,750,289,920 bytes free\n"
     ]
    }
   ],
   "source": [
    "ls"
   ]
  },
  {
   "cell_type": "code",
   "execution_count": 72,
   "id": "971b90d1",
   "metadata": {},
   "outputs": [],
   "source": [
    "#nested try"
   ]
  },
  {
   "cell_type": "code",
   "execution_count": 78,
   "id": "1fc77482",
   "metadata": {},
   "outputs": [
    {
     "name": "stdout",
     "output_type": "stream",
     "text": [
      "enter a number0\n",
      "User has entered zero\n"
     ]
    }
   ],
   "source": [
    "try:\n",
    "    n=int(input(\"enter a number\"))\n",
    "    div=342/n\n",
    "    print(div)\n",
    "except ValueError as v:\n",
    "    print(\"User has entered invalid input\")\n",
    "except ZeroDivisionError as z:\n",
    "    print(\"User has entered zero\")\n",
    "    "
   ]
  },
  {
   "cell_type": "code",
   "execution_count": 79,
   "id": "2ac5c2b2",
   "metadata": {},
   "outputs": [
    {
     "name": "stdout",
     "output_type": "stream",
     "text": [
      "enter a numbersudh\n",
      "User has entered invalid input or may be zero\n"
     ]
    }
   ],
   "source": [
    "try:\n",
    "    n=int(input(\"enter a number\"))\n",
    "    div=342/n\n",
    "    print(div)\n",
    "except (ValueError,ZeroDivisionError):\n",
    "    print(\"User has entered invalid input or may be zero\")"
   ]
  },
  {
   "cell_type": "code",
   "execution_count": 82,
   "id": "8fc542fa",
   "metadata": {},
   "outputs": [
    {
     "name": "stdout",
     "output_type": "stream",
     "text": [
      "enter a number 1\n",
      "342.0\n"
     ]
    }
   ],
   "source": [
    "try:\n",
    "    n=int(input(\"enter a number \"))\n",
    "    try:\n",
    "        div=342/n\n",
    "        print(div)\n",
    "    except ZeroDivisionError as z:\n",
    "        print(\"User has entered zero \")    \n",
    "except ValueError as v:\n",
    "    print(\"User has entered invalid input \")"
   ]
  },
  {
   "cell_type": "code",
   "execution_count": 85,
   "id": "5522a5ee",
   "metadata": {},
   "outputs": [
    {
     "name": "stdout",
     "output_type": "stream",
     "text": [
      "enter a number 10\n",
      "34.2\n",
      "34.2\n"
     ]
    }
   ],
   "source": [
    "try:\n",
    "    n=int(input(\"enter a number \"))\n",
    "    div=342/n\n",
    "    print(div)\n",
    "except Exception as e:\n",
    "    print(\"User has entered invalid input or may be zero\")\n",
    "else:\n",
    "    print(div)"
   ]
  },
  {
   "cell_type": "code",
   "execution_count": 92,
   "id": "2e433e1a",
   "metadata": {},
   "outputs": [],
   "source": [
    "#IO input and out buffer\n",
    "f=open(\"F:\\\\Python\\\\Jupyter\\\\Practice\\\\pro\\\\test.txt\",encoding=\"utf-8\")\n",
    "f.read()\n",
    "f.close()"
   ]
  },
  {
   "cell_type": "code",
   "execution_count": 94,
   "id": "7c916a54",
   "metadata": {},
   "outputs": [
    {
     "name": "stdout",
     "output_type": "stream",
     "text": [
      "there is some issue\n"
     ]
    }
   ],
   "source": [
    "try:\n",
    "    f=open(\"F:\\\\Python\\\\Jupyter\\\\Practice\\\\pro\\\\test.txt\",encoding=\"utf-8\")\n",
    "    f.write(\"testingtiestingtesting\")\n",
    "except Exception as e:\n",
    "    print(\"there is some issue\")\n",
    "finally:\n",
    "    f.close()"
   ]
  },
  {
   "cell_type": "code",
   "execution_count": 97,
   "id": "bfac5ee4",
   "metadata": {},
   "outputs": [
    {
     "name": "stdout",
     "output_type": "stream",
     "text": [
      "Google LLC (/ˈɡuːɡəl/ ⓘ) is an American multinational technology company focusing on artificial intelligence,[9] online advertising, search engine technology, cloud computing, computer software, quantum computing, e-commerce, and consumer electronics. It has been referred to as \"the most powerful company in the world\"[10] and as one of the world's most valuable brands due to its market dominance, data collection, and technological advantages in the field of artificial intelligence.[11][12][13] Alongside Amazon, Apple Inc., Meta Platforms, and Microsoft, Google's parent company Alphabet Inc. is one of the five Big Tech companies.\n",
      "\n",
      "Google was founded on September 4, 1998, by American computer scientists Larry Page and Sergey Brin while they were PhD students at Stanford University in California. Together they own about 14% of its publicly listed shares and control 56% of its stockholder voting power through super-voting stock. The company went public via an initial public offering (IPO) in 2004. In 2015, Google was reorganized as a wholly owned subsidiary of Alphabet Inc. Google is Alphabet's largest subsidiary and is a holding company for Alphabet's internet properties and interests. Sundar Pichai was appointed CEO of Google on October 24, 2015, replacing Larry Page, who became the CEO of Alphabet. On December 3, 2019, Pichai also became the CEO of Alphabet.[14]\n",
      "\n",
      "The company has since rapidly grown to offer a multitude of products and services beyond Google Search, many of which hold dominant market positions. These products address a wide range of use cases, including email (Gmail), navigation (Waze & Maps), cloud computing (Cloud), web browsing (Chrome), video sharing (YouTube), productivity (Workspace), operating systems (Android), cloud storage (Drive), language translation (Translate), photo storage (Photos), video calling (Meet), smart home (Nest), smartphones (Pixel), wearable technology (Pixel Watch & Fitbit), music streaming (YouTube Music), video on demand (YouTube TV), artificial intelligence (Google Assistant), machine learning APIs (TensorFlow), AI chips (TPU), and more. Discontinued Google products include gaming (Stadia), Glass, Google+, Reader, Play Music, Nexus, Hangouts, and Inbox by Gmail.[15][16]\n",
      "\n",
      "Google's other ventures outside of Internet services and consumer electronics include quantum computing (Sycamore), self-driving cars (Waymo, formerly the Google Self-Driving Car Project), smart cities (Sidewalk Labs), and transformer models (Google Brain).[17]\n",
      "\n",
      "Google and YouTube are the two most visited websites worldwide followed by Facebook and Twitter. Google is also the largest search engine, mapping and navigation application, email provider, office suite, video sharing platform, photo and cloud storage provider, mobile operating system, web browser, ML framework, and AI virtual assistant provider in the world as measured by market share. On the list of most valuable brands, Google is ranked second by Forbes[18] and fourth by Interbrand.[19] It has received significant criticism involving issues such as privacy concerns, tax avoidance, censorship, search neutrality, antitrust and abuse of its monopoly position.\n"
     ]
    }
   ],
   "source": [
    "try:\n",
    "    f=open(\"F:\\\\Python\\\\Jupyter\\\\Practice\\\\pro\\\\test.txt\",encoding=\"utf-8\")\n",
    "    data=f.read()\n",
    "except Exception as e:\n",
    "    print(\"there is some issue\")\n",
    "else:\n",
    "    print(data)\n",
    "finally:\n",
    "    f.close()"
   ]
  },
  {
   "cell_type": "code",
   "execution_count": 2,
   "id": "0d7c0535",
   "metadata": {},
   "outputs": [
    {
     "name": "stdout",
     "output_type": "stream",
     "text": [
      "there is some issue\n",
      "file closed\n"
     ]
    }
   ],
   "source": [
    "try:\n",
    "    f=open(\"F:\\\\Python\\\\Jupyter\\\\Practice\\\\pro\\\\test.txt\",encoding=\"utf-8\")\n",
    "    data=f.write()\n",
    "except Exception as e:\n",
    "    print(\"there is some issue\")\n",
    "else:\n",
    "    print(data)\n",
    "finally:\n",
    "    try:\n",
    "        print(data)\n",
    "    except:\n",
    "        pass\n",
    "    f.close()\n",
    "    print(\"file closed\")"
   ]
  },
  {
   "cell_type": "code",
   "execution_count": 6,
   "id": "4f8ba108",
   "metadata": {},
   "outputs": [
    {
     "name": "stdout",
     "output_type": "stream",
     "text": [
      "enter hight of the wall :-23\n",
      "enter hight is negative\n"
     ]
    }
   ],
   "source": [
    "try :\n",
    "    a =int(input(\"enter hight of the wall :\"))\n",
    "    if a<0:\n",
    "        raise ValueError(\"enter hight is negative\")\n",
    "except ValueError as v:\n",
    "    print(v)"
   ]
  },
  {
   "cell_type": "code",
   "execution_count": 11,
   "id": "4286f64a",
   "metadata": {},
   "outputs": [
    {
     "name": "stdout",
     "output_type": "stream",
     "text": [
      "Enter your age13\n",
      "user is underrage\n"
     ]
    }
   ],
   "source": [
    "try :\n",
    "    age =int(input(\"Enter your age\"))\n",
    "    if age<0:\n",
    "        raise ValueError(\"User have entered a neagative age which is not valid\")\n",
    "    elif age<18:\n",
    "        raise ValueError(\"user is underrage\")\n",
    "    else:\n",
    "        print(\"Valid user\")\n",
    "except ValueError as v:\n",
    "    print(v)"
   ]
  },
  {
   "cell_type": "code",
   "execution_count": 16,
   "id": "fc8920da",
   "metadata": {},
   "outputs": [
    {
     "name": "stdout",
     "output_type": "stream",
     "text": [
      "Enter your age -4523\n",
      "User have entered a neagative age which is not valid\n"
     ]
    }
   ],
   "source": [
    "try :\n",
    "    age =int(input(\"Enter your age \"))\n",
    "    if age<0:\n",
    "        raise ValueError(\"User have entered a neagative age which is not valid\")\n",
    "    elif age<18:\n",
    "        raise Exception(\"user is underrage\")\n",
    "    else:\n",
    "        print(\"Valid user\")\n",
    "except Exception as e:\n",
    "    print(e)"
   ]
  },
  {
   "cell_type": "code",
   "execution_count": 1,
   "id": "4ab684b2",
   "metadata": {},
   "outputs": [],
   "source": [
    "#logging\n",
    "import logging as log"
   ]
  },
  {
   "cell_type": "code",
   "execution_count": 2,
   "id": "9e7cd93a",
   "metadata": {},
   "outputs": [],
   "source": [
    "# log.basicConfig(filename='test.log',\n",
    "#                 format='%(asctime)s %(message)s',\n",
    "#                     filemode='w')\n",
    "# # Creating an object\n",
    "# logger = log.getLogger()\n",
    " \n",
    "# # Setting the threshold of logger to DEBUG\n",
    "# logger.setLevel(log.DEBUG)"
   ]
  },
  {
   "cell_type": "code",
   "execution_count": 3,
   "id": "1b5be122",
   "metadata": {},
   "outputs": [],
   "source": [
    "log.basicConfig(filename='testinfo.log',level=log.INFO)"
   ]
  },
  {
   "cell_type": "code",
   "execution_count": 4,
   "id": "e2c490f3",
   "metadata": {},
   "outputs": [],
   "source": [
    "log.info(\"store a ne msg\")"
   ]
  },
  {
   "cell_type": "code",
   "execution_count": 16,
   "id": "a3428f1b",
   "metadata": {},
   "outputs": [],
   "source": [
    "#DEBUG-10,INFO-20,WARNING-30,ERROR -40,CRITICAL - 50"
   ]
  },
  {
   "cell_type": "code",
   "execution_count": 5,
   "id": "76f4d60c",
   "metadata": {},
   "outputs": [],
   "source": [
    "log.debug(\"this is a debug msg\")"
   ]
  },
  {
   "cell_type": "code",
   "execution_count": 6,
   "id": "3a6ea521",
   "metadata": {},
   "outputs": [],
   "source": [
    "log.warning(\"this is my warning\")"
   ]
  },
  {
   "cell_type": "code",
   "execution_count": 7,
   "id": "cd849c4b",
   "metadata": {},
   "outputs": [],
   "source": [
    "log.error(\"this is my error\")"
   ]
  },
  {
   "cell_type": "code",
   "execution_count": 8,
   "id": "e3a9b817",
   "metadata": {},
   "outputs": [],
   "source": [
    "log.critical(\"this is a critical msg\")"
   ]
  },
  {
   "cell_type": "code",
   "execution_count": 1,
   "id": "7d5ef9e3",
   "metadata": {},
   "outputs": [
    {
     "name": "stdout",
     "output_type": "stream",
     "text": [
      "Enter your age -235gff\n"
     ]
    }
   ],
   "source": [
    "import logging\n",
    "logging.basicConfig(filename='trytest.log',level=logging.DEBUG,format='%(asctime)s- %(levelname)s %(message)s')\n",
    "\n",
    "try :\n",
    "    logging.info(\"this is a start of my prog\");\n",
    "    logging.info(\"asking user to enter age\")\n",
    "    age =int(input(\"Enter your age \"))\n",
    "    logging.info(\"user has entered the age is %d\",age)\n",
    "    if age<0:\n",
    "        logging.info(\"i am checking negative condition\")\n",
    "        raise ValueError(\"User have entered a neagative age which is not valid\")\n",
    "    elif age<18:\n",
    "        logging.info(\"i am trying to check underage condition\")\n",
    "        raise Exception(\"user is underrage\")\n",
    "    else:\n",
    "        logging.info(\"Valid user\")\n",
    "except Exception as e:\n",
    "    logging.error(e)"
   ]
  },
  {
   "cell_type": "code",
   "execution_count": 4,
   "id": "b04be7aa",
   "metadata": {},
   "outputs": [],
   "source": [
    "import logging\n",
    "logging.basicConfig(filename='even_parse.log',level=logging.DEBUG,format='%(asctime)s- %(levelname)s %(message)s')\n",
    "\n",
    "l=[4,5,6,7,8,9,0]\n",
    "logging.info(l)\n",
    "l1=[]\n",
    "\n",
    "def even_parser(l):\n",
    "    try:\n",
    "        logging.info(\"inside try block\")\n",
    "        for i in l:\n",
    "            logging.info(\"inside for loop i=%d\",i)\n",
    "            if i%2==0:\n",
    "                logging.info(\"checking the value of i \")\n",
    "                l1.append(i)\n",
    "                logging.info(\"appeding the value i =%d\",i)\n",
    "        return l1\n",
    "    except Exception as e:\n",
    "        logging.error(e)"
   ]
  },
  {
   "cell_type": "code",
   "execution_count": 5,
   "id": "0a7fa0ec",
   "metadata": {},
   "outputs": [
    {
     "data": {
      "text/plain": [
       "[4, 6, 8, 0]"
      ]
     },
     "execution_count": 5,
     "metadata": {},
     "output_type": "execute_result"
    }
   ],
   "source": [
    "even_parser(l)"
   ]
  },
  {
   "cell_type": "code",
   "execution_count": 6,
   "id": "2a07fbe2",
   "metadata": {},
   "outputs": [],
   "source": [
    "even_parser(5)"
   ]
  },
  {
   "cell_type": "code",
   "execution_count": null,
   "id": "e66e3ce9",
   "metadata": {},
   "outputs": [],
   "source": [
    "#oops\n",
    "#oops vs scratch\n",
    "#"
   ]
  }
 ],
 "metadata": {
  "kernelspec": {
   "display_name": "Python 3 (ipykernel)",
   "language": "python",
   "name": "python3"
  },
  "language_info": {
   "codemirror_mode": {
    "name": "ipython",
    "version": 3
   },
   "file_extension": ".py",
   "mimetype": "text/x-python",
   "name": "python",
   "nbconvert_exporter": "python",
   "pygments_lexer": "ipython3",
   "version": "3.9.13"
  }
 },
 "nbformat": 4,
 "nbformat_minor": 5
}
