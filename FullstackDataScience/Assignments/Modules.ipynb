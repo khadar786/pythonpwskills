{
 "cells": [
  {
   "cell_type": "code",
   "execution_count": 1,
   "id": "a7670f87",
   "metadata": {},
   "outputs": [],
   "source": [
    "#Regular expressions\n",
    "#import re"
   ]
  },
  {
   "cell_type": "code",
   "execution_count": 2,
   "id": "9e070b6e",
   "metadata": {},
   "outputs": [],
   "source": [
    "# from urllib.parse import urlparse, parse_qs\n",
    "# Import the urlparse and parse_qs methods from the urllib.parse module.\n",
    "# Use the urlparse method to get a parse result object.\n",
    "# Pass the object to the parse_qs method to get a dictionary of the query params."
   ]
  },
  {
   "cell_type": "code",
   "execution_count": null,
   "id": "9ec8fa6b",
   "metadata": {},
   "outputs": [],
   "source": []
  }
 ],
 "metadata": {
  "kernelspec": {
   "display_name": "Python 3 (ipykernel)",
   "language": "python",
   "name": "python3"
  },
  "language_info": {
   "codemirror_mode": {
    "name": "ipython",
    "version": 3
   },
   "file_extension": ".py",
   "mimetype": "text/x-python",
   "name": "python",
   "nbconvert_exporter": "python",
   "pygments_lexer": "ipython3",
   "version": "3.9.13"
  }
 },
 "nbformat": 4,
 "nbformat_minor": 5
}
