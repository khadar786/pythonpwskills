{
 "cells": [
  {
   "cell_type": "markdown",
   "id": "3553d45a",
   "metadata": {},
   "source": [
    "TOPIC: String Based Assignment Problem"
   ]
  },
  {
   "cell_type": "code",
   "execution_count": 1,
   "id": "80c2d8d1",
   "metadata": {},
   "outputs": [],
   "source": [
    "#1. Write a program to reverse a string."
   ]
  },
  {
   "cell_type": "code",
   "execution_count": 2,
   "id": "021e6224",
   "metadata": {},
   "outputs": [],
   "source": [
    "str1=\"khadar basha\""
   ]
  },
  {
   "cell_type": "code",
   "execution_count": 3,
   "id": "63d0f3cb",
   "metadata": {},
   "outputs": [
    {
     "name": "stdout",
     "output_type": "stream",
     "text": [
      "ahsab radahk\n"
     ]
    }
   ],
   "source": [
    "print(str1[::-1])"
   ]
  },
  {
   "cell_type": "code",
   "execution_count": 4,
   "id": "10df80de",
   "metadata": {},
   "outputs": [],
   "source": [
    "#2. Check if a string is a palindrome."
   ]
  },
  {
   "cell_type": "code",
   "execution_count": 5,
   "id": "4b85fd6e",
   "metadata": {},
   "outputs": [],
   "source": [
    "str2=\"madam\""
   ]
  },
  {
   "cell_type": "code",
   "execution_count": 6,
   "id": "ddcfffc4",
   "metadata": {},
   "outputs": [
    {
     "name": "stdout",
     "output_type": "stream",
     "text": [
      "it is a palindrome\n"
     ]
    }
   ],
   "source": [
    "if str2==str2[::-1]:\n",
    "    print(\"it is a palindrome\")\n",
    "else:\n",
    "    print(\"it is not a palindrome\")"
   ]
  },
  {
   "cell_type": "code",
   "execution_count": 7,
   "id": "e8e658d8",
   "metadata": {},
   "outputs": [],
   "source": [
    "#3. Convert a string to uppercase."
   ]
  },
  {
   "cell_type": "code",
   "execution_count": 8,
   "id": "5c1e39c6",
   "metadata": {},
   "outputs": [],
   "source": [
    "str3=\"khadar\""
   ]
  },
  {
   "cell_type": "code",
   "execution_count": 9,
   "id": "de509cac",
   "metadata": {},
   "outputs": [
    {
     "data": {
      "text/plain": [
       "'KHADAR'"
      ]
     },
     "execution_count": 9,
     "metadata": {},
     "output_type": "execute_result"
    }
   ],
   "source": [
    "str3.upper()"
   ]
  },
  {
   "cell_type": "code",
   "execution_count": 10,
   "id": "92e05e06",
   "metadata": {},
   "outputs": [],
   "source": [
    "#4. Convert a string to lowercase."
   ]
  },
  {
   "cell_type": "code",
   "execution_count": 11,
   "id": "efa5f17d",
   "metadata": {},
   "outputs": [],
   "source": [
    "str4=\"KHADAR\""
   ]
  },
  {
   "cell_type": "code",
   "execution_count": 12,
   "id": "f5bf1779",
   "metadata": {},
   "outputs": [
    {
     "data": {
      "text/plain": [
       "'khadar'"
      ]
     },
     "execution_count": 12,
     "metadata": {},
     "output_type": "execute_result"
    }
   ],
   "source": [
    "str3.lower()"
   ]
  },
  {
   "cell_type": "code",
   "execution_count": 13,
   "id": "c9de605a",
   "metadata": {},
   "outputs": [],
   "source": [
    "#5. Count the number of vowels in a string."
   ]
  },
  {
   "cell_type": "code",
   "execution_count": 14,
   "id": "1efea6b3",
   "metadata": {},
   "outputs": [
    {
     "name": "stdout",
     "output_type": "stream",
     "text": [
      "Enter a string \n",
      "pwskills\n"
     ]
    }
   ],
   "source": [
    "vcount=0\n",
    "userInput=input(\"Enter a string \\n\")"
   ]
  },
  {
   "cell_type": "code",
   "execution_count": 15,
   "id": "761674a8",
   "metadata": {},
   "outputs": [],
   "source": [
    "vcount=len([i for i in range(0,len(userInput)) if userInput[i] in [\"a\",\"e\",\"i\",\"o\",\"u\"]])"
   ]
  },
  {
   "cell_type": "code",
   "execution_count": 16,
   "id": "2bee84ba",
   "metadata": {},
   "outputs": [
    {
     "name": "stdout",
     "output_type": "stream",
     "text": [
      "pwskills no of vowels 1 \n"
     ]
    }
   ],
   "source": [
    "print(\"{} no of vowels {} \".format(userInput,vcount))"
   ]
  },
  {
   "cell_type": "code",
   "execution_count": 17,
   "id": "ff3193f5",
   "metadata": {},
   "outputs": [],
   "source": [
    "#6. Count the number of consonants in a string."
   ]
  },
  {
   "cell_type": "code",
   "execution_count": 18,
   "id": "fa01f758",
   "metadata": {},
   "outputs": [
    {
     "name": "stdout",
     "output_type": "stream",
     "text": [
      "Enter a string \n",
      "pwskills\n"
     ]
    }
   ],
   "source": [
    "ccount=0\n",
    "userInput2=input(\"Enter a string \\n\")"
   ]
  },
  {
   "cell_type": "code",
   "execution_count": 19,
   "id": "97c0566a",
   "metadata": {},
   "outputs": [],
   "source": [
    "ccount=len([i for i in range(0,len(userInput2)) if userInput2[i] not in [\"a\",\"e\",\"i\",\"o\",\"u\"]])"
   ]
  },
  {
   "cell_type": "code",
   "execution_count": 20,
   "id": "f5dfc8aa",
   "metadata": {},
   "outputs": [
    {
     "name": "stdout",
     "output_type": "stream",
     "text": [
      "pwskills no of consonants 7 \n"
     ]
    }
   ],
   "source": [
    "print(\"{} no of consonants {} \".format(userInput2,ccount))"
   ]
  },
  {
   "cell_type": "code",
   "execution_count": 21,
   "id": "c343fd95",
   "metadata": {},
   "outputs": [],
   "source": [
    "#7. Remove all whitespaces from a string."
   ]
  },
  {
   "cell_type": "code",
   "execution_count": 22,
   "id": "908a1f08",
   "metadata": {},
   "outputs": [],
   "source": [
    "str3=\" khadar basha \""
   ]
  },
  {
   "cell_type": "code",
   "execution_count": 23,
   "id": "3f493d57",
   "metadata": {},
   "outputs": [
    {
     "data": {
      "text/plain": [
       "'khadar basha'"
      ]
     },
     "execution_count": 23,
     "metadata": {},
     "output_type": "execute_result"
    }
   ],
   "source": [
    "str3.strip()"
   ]
  },
  {
   "cell_type": "code",
   "execution_count": 24,
   "id": "420dbf41",
   "metadata": {},
   "outputs": [],
   "source": [
    "#8. Find the length of a string without using the `len()` function."
   ]
  },
  {
   "cell_type": "code",
   "execution_count": 25,
   "id": "b7eb275b",
   "metadata": {},
   "outputs": [],
   "source": [
    "str4=\"khadar basha\""
   ]
  },
  {
   "cell_type": "code",
   "execution_count": 26,
   "id": "2de5f5fd",
   "metadata": {},
   "outputs": [
    {
     "name": "stdout",
     "output_type": "stream",
     "text": [
      "length of string 12\n"
     ]
    }
   ],
   "source": [
    "print(\"length of string {}\".format(len([i for i in str4])))"
   ]
  },
  {
   "cell_type": "code",
   "execution_count": 27,
   "id": "75344ff7",
   "metadata": {},
   "outputs": [],
   "source": [
    "#9. Check if a string contains a specific word."
   ]
  },
  {
   "cell_type": "code",
   "execution_count": 28,
   "id": "84513400",
   "metadata": {},
   "outputs": [],
   "source": [
    "str5=\"Hello world khadar basha\""
   ]
  },
  {
   "cell_type": "code",
   "execution_count": 29,
   "id": "635603e5",
   "metadata": {},
   "outputs": [
    {
     "name": "stdout",
     "output_type": "stream",
     "text": [
      "given word conatains in string\n"
     ]
    }
   ],
   "source": [
    "if str5.find(\"basha\")!=-1:\n",
    "    print(\"given word conatains in string\")\n",
    "else:\n",
    "    print(\"not find out\")"
   ]
  },
  {
   "cell_type": "code",
   "execution_count": 30,
   "id": "1b1174a2",
   "metadata": {},
   "outputs": [],
   "source": [
    "#10. Replace a word in a string with another word."
   ]
  },
  {
   "cell_type": "code",
   "execution_count": 31,
   "id": "0486e319",
   "metadata": {},
   "outputs": [],
   "source": [
    "str6=\"Hello khadar\""
   ]
  },
  {
   "cell_type": "code",
   "execution_count": 32,
   "id": "0987d80e",
   "metadata": {},
   "outputs": [
    {
     "name": "stdout",
     "output_type": "stream",
     "text": [
      "Hello world\n"
     ]
    }
   ],
   "source": [
    "print(str6.replace(\"khadar\",\"world\"))"
   ]
  },
  {
   "cell_type": "code",
   "execution_count": 33,
   "id": "1b5d4005",
   "metadata": {},
   "outputs": [],
   "source": [
    "#11. Count the occurrences of a word in a string."
   ]
  },
  {
   "cell_type": "code",
   "execution_count": 34,
   "id": "06399681",
   "metadata": {},
   "outputs": [],
   "source": [
    "str7=\"Hello basha Hello khadar\""
   ]
  },
  {
   "cell_type": "code",
   "execution_count": 35,
   "id": "4c16bbe2",
   "metadata": {},
   "outputs": [
    {
     "name": "stdout",
     "output_type": "stream",
     "text": [
      "1\n"
     ]
    }
   ],
   "source": [
    "print(str7.count(\"khadar\"))"
   ]
  },
  {
   "cell_type": "code",
   "execution_count": 36,
   "id": "40078b9b",
   "metadata": {},
   "outputs": [],
   "source": [
    "#12. Find the first occurrence of a word in a string."
   ]
  },
  {
   "cell_type": "code",
   "execution_count": 37,
   "id": "1a526aa0",
   "metadata": {},
   "outputs": [],
   "source": [
    "str8=\"Python Language, Java Language\""
   ]
  },
  {
   "cell_type": "code",
   "execution_count": 38,
   "id": "3fc1dea8",
   "metadata": {},
   "outputs": [
    {
     "name": "stdout",
     "output_type": "stream",
     "text": [
      "7\n"
     ]
    }
   ],
   "source": [
    "print(str8.find(\"Language\"))"
   ]
  },
  {
   "cell_type": "code",
   "execution_count": 39,
   "id": "a45dfb50",
   "metadata": {},
   "outputs": [],
   "source": [
    "#13. Find the last occurrence of a word in a string."
   ]
  },
  {
   "cell_type": "code",
   "execution_count": 40,
   "id": "342922cc",
   "metadata": {},
   "outputs": [
    {
     "name": "stdout",
     "output_type": "stream",
     "text": [
      "22\n"
     ]
    }
   ],
   "source": [
    "#str8.index(\"Language\")\n",
    "print(str8.rindex(\"Language\"))"
   ]
  },
  {
   "cell_type": "code",
   "execution_count": 41,
   "id": "329074a7",
   "metadata": {},
   "outputs": [],
   "source": [
    "#14. Split a string into a list of words."
   ]
  },
  {
   "cell_type": "code",
   "execution_count": 42,
   "id": "3cf969cb",
   "metadata": {},
   "outputs": [],
   "source": [
    "str9=\"Python Language, Java Language\""
   ]
  },
  {
   "cell_type": "code",
   "execution_count": 43,
   "id": "9e72ecd6",
   "metadata": {},
   "outputs": [
    {
     "name": "stdout",
     "output_type": "stream",
     "text": [
      "['Python Language', ' Java Language']\n"
     ]
    }
   ],
   "source": [
    "print(str9.split(\",\"))"
   ]
  },
  {
   "cell_type": "code",
   "execution_count": 44,
   "id": "d3f35793",
   "metadata": {},
   "outputs": [],
   "source": [
    "#15. Join a list of words into a string."
   ]
  },
  {
   "cell_type": "code",
   "execution_count": 45,
   "id": "1d73a72b",
   "metadata": {},
   "outputs": [],
   "source": [
    "words=[\"php\",\"javascript\",\"nodejs\",\"mysql\"]"
   ]
  },
  {
   "cell_type": "code",
   "execution_count": 46,
   "id": "5e038c47",
   "metadata": {},
   "outputs": [
    {
     "name": "stdout",
     "output_type": "stream",
     "text": [
      "php,javascript,nodejs,mysql\n"
     ]
    }
   ],
   "source": [
    "print(\",\".join(words))"
   ]
  },
  {
   "cell_type": "code",
   "execution_count": 47,
   "id": "b0191083",
   "metadata": {},
   "outputs": [],
   "source": [
    "#16. Convert a string where words are separated by spaces to one where words\n",
    "#are separated by underscores."
   ]
  },
  {
   "cell_type": "code",
   "execution_count": 48,
   "id": "0588d1b1",
   "metadata": {},
   "outputs": [
    {
     "name": "stdout",
     "output_type": "stream",
     "text": [
      "['Python', 'is', 'the', 'best', 'programming', 'language']\n"
     ]
    }
   ],
   "source": [
    "str10=\"Python is the best programming language\"\n",
    "words=str10.split(\" \")\n",
    "print(words)"
   ]
  },
  {
   "cell_type": "code",
   "execution_count": 49,
   "id": "f53c17fc",
   "metadata": {},
   "outputs": [
    {
     "name": "stdout",
     "output_type": "stream",
     "text": [
      "['Python', 'is', 'the', 'best', 'programming', 'language']\n"
     ]
    }
   ],
   "source": [
    "str11=\"Python_is_the_best_programming_language\"\n",
    "words=str11.split(\"_\")\n",
    "print(words)"
   ]
  },
  {
   "cell_type": "code",
   "execution_count": 50,
   "id": "c0e4f3ef",
   "metadata": {},
   "outputs": [],
   "source": [
    "#17. Check if a string starts with a specific word or phrase."
   ]
  },
  {
   "cell_type": "code",
   "execution_count": 51,
   "id": "1f1a6f0a",
   "metadata": {},
   "outputs": [
    {
     "name": "stdout",
     "output_type": "stream",
     "text": [
      "True\n"
     ]
    }
   ],
   "source": [
    "text=\"Python is easy to learn\"\n",
    "print(text.startswith(\"Python\"))"
   ]
  },
  {
   "cell_type": "code",
   "execution_count": 52,
   "id": "5685da6c",
   "metadata": {},
   "outputs": [
    {
     "name": "stdout",
     "output_type": "stream",
     "text": [
      "False\n"
     ]
    }
   ],
   "source": [
    "print(text.startswith(\"easy\",0,len(text)))"
   ]
  },
  {
   "cell_type": "code",
   "execution_count": 53,
   "id": "d7454916",
   "metadata": {},
   "outputs": [
    {
     "name": "stdout",
     "output_type": "stream",
     "text": [
      "True\n"
     ]
    }
   ],
   "source": [
    "print(text.startswith(\"easy\",10,len(text)))"
   ]
  },
  {
   "cell_type": "code",
   "execution_count": 54,
   "id": "1c494071",
   "metadata": {},
   "outputs": [],
   "source": [
    "#18. Check if a string ends with a specific word or phrase."
   ]
  },
  {
   "cell_type": "code",
   "execution_count": 55,
   "id": "595c4fec",
   "metadata": {},
   "outputs": [],
   "source": [
    "text=\"Python is easy to learn\""
   ]
  },
  {
   "cell_type": "code",
   "execution_count": 56,
   "id": "b87e4cad",
   "metadata": {},
   "outputs": [
    {
     "data": {
      "text/plain": [
       "True"
      ]
     },
     "execution_count": 56,
     "metadata": {},
     "output_type": "execute_result"
    }
   ],
   "source": [
    "text.endswith(\"learn\")"
   ]
  },
  {
   "cell_type": "code",
   "execution_count": 57,
   "id": "f2867e09",
   "metadata": {},
   "outputs": [],
   "source": [
    "#19. Convert a string to title case (e.g., \"hello world\" to \"Hello World\")."
   ]
  },
  {
   "cell_type": "code",
   "execution_count": 58,
   "id": "12c444f3",
   "metadata": {},
   "outputs": [
    {
     "name": "stdout",
     "output_type": "stream",
     "text": [
      "Hello world\n"
     ]
    }
   ],
   "source": [
    "strTitle=\"hello world\"\n",
    "print(strTitle.capitalize())"
   ]
  },
  {
   "cell_type": "code",
   "execution_count": 59,
   "id": "ebdd1351",
   "metadata": {},
   "outputs": [],
   "source": [
    "#20. Find the longest word in a string."
   ]
  },
  {
   "cell_type": "code",
   "execution_count": 60,
   "id": "3f009b79",
   "metadata": {},
   "outputs": [
    {
     "name": "stdout",
     "output_type": "stream",
     "text": [
      "yourself\n"
     ]
    }
   ],
   "source": [
    "sentence=\"be confident and be yourself\"\n",
    "words=sentence.split(\" \")\n",
    "sorted(words,key=len)\n",
    "longest_word=words[-1::][0]\n",
    "\n",
    "print(longest_word)"
   ]
  },
  {
   "cell_type": "code",
   "execution_count": 61,
   "id": "f928bb36",
   "metadata": {},
   "outputs": [],
   "source": [
    "#using function\n",
    "def find_longest_word(sentence):\n",
    "    words=sentence.split(\" \")\n",
    "    sorted(words,key=len)\n",
    "    return words[-1::][0]"
   ]
  },
  {
   "cell_type": "code",
   "execution_count": 62,
   "id": "25df1d6b",
   "metadata": {},
   "outputs": [
    {
     "name": "stdout",
     "output_type": "stream",
     "text": [
      "Pls enter the sentence :khadar basha sayyad\n",
      "sayyad\n"
     ]
    }
   ],
   "source": [
    "sentence_str=input(\"Pls enter the sentence :\")\n",
    "longest_word=find_longest_word(sentence_str)\n",
    "print(longest_word)"
   ]
  },
  {
   "cell_type": "code",
   "execution_count": 63,
   "id": "d618224e",
   "metadata": {},
   "outputs": [],
   "source": [
    "#21. Find the shortest word in a string."
   ]
  },
  {
   "cell_type": "code",
   "execution_count": 64,
   "id": "5a7baec4",
   "metadata": {},
   "outputs": [
    {
     "name": "stdout",
     "output_type": "stream",
     "text": [
      "be\n"
     ]
    }
   ],
   "source": [
    "sentence=\"be confident and be yourself\"\n",
    "words=sentence.split(\" \")\n",
    "min=\"\"\n",
    "for i in range(len(words)):\n",
    "    for j in range(i):\n",
    "        if len(words[j])<len(words[i]):\n",
    "            min_word=words[j]\n",
    "\n",
    "print(min_word)\n",
    "    "
   ]
  },
  {
   "cell_type": "code",
   "execution_count": 65,
   "id": "f82f452c",
   "metadata": {},
   "outputs": [],
   "source": [
    "def find_short_word(sentence):\n",
    "    words=sentence.split(\" \")\n",
    "    words_sorted=sorted(words,key=len)\n",
    "    return words_sorted[0]\n",
    "    "
   ]
  },
  {
   "cell_type": "code",
   "execution_count": 66,
   "id": "0b82c28e",
   "metadata": {},
   "outputs": [
    {
     "name": "stdout",
     "output_type": "stream",
     "text": [
      "Pls enter the sentence :khadar pwskills datascience\n",
      "khadar\n"
     ]
    }
   ],
   "source": [
    "sentence_str=input(\"Pls enter the sentence :\")\n",
    "short_word=find_short_word(sentence_str)\n",
    "print(short_word)"
   ]
  },
  {
   "cell_type": "code",
   "execution_count": 67,
   "id": "fb682291",
   "metadata": {},
   "outputs": [],
   "source": [
    "#22. Reverse the order of words in a string."
   ]
  },
  {
   "cell_type": "code",
   "execution_count": 68,
   "id": "0c3511dd",
   "metadata": {},
   "outputs": [
    {
     "name": "stdout",
     "output_type": "stream",
     "text": [
      "yourself be and confident be\n"
     ]
    }
   ],
   "source": [
    "sentence=\"be confident and be yourself\"\n",
    "words=sentence.split(\" \")\n",
    "#words[::-1]\n",
    "reverse_str=\" \".join(words[::-1])\n",
    "print(reverse_str)"
   ]
  },
  {
   "cell_type": "code",
   "execution_count": 69,
   "id": "6dc9b41c",
   "metadata": {},
   "outputs": [],
   "source": [
    "def reverseWordsString(sentence):\n",
    "    words=sentence.split(\" \")\n",
    "    reverse_str=\" \".join(words[::-1])\n",
    "    return reverse_str"
   ]
  },
  {
   "cell_type": "code",
   "execution_count": 70,
   "id": "b8c154a6",
   "metadata": {},
   "outputs": [
    {
     "name": "stdout",
     "output_type": "stream",
     "text": [
      "Pls enter the sentence :kharfr afafafaf\n",
      "afafafaf kharfr\n"
     ]
    }
   ],
   "source": [
    "sentence_str=input(\"Pls enter the sentence :\")\n",
    "reverse_str=reverseWordsString(sentence_str)\n",
    "print(reverse_str)"
   ]
  },
  {
   "cell_type": "code",
   "execution_count": 71,
   "id": "cd9fcdc7",
   "metadata": {},
   "outputs": [
    {
     "name": "stdout",
     "output_type": "stream",
     "text": [
      "Given string is alphanumeric\n"
     ]
    }
   ],
   "source": [
    "#23. Check if a string is alphanumeric.\n",
    "given_str=\"alphanumeric123\"\n",
    "\n",
    "if given_str.isalnum()==True:\n",
    "    print(\"Given string is alphanumeric\")\n",
    "else:\n",
    "    print(\"Given string is not a alphanumeric\")"
   ]
  },
  {
   "cell_type": "code",
   "execution_count": 72,
   "id": "2b7c8ad0",
   "metadata": {},
   "outputs": [],
   "source": [
    "#24. Extract all digits from a string."
   ]
  },
  {
   "cell_type": "code",
   "execution_count": 73,
   "id": "9fdfc65f",
   "metadata": {},
   "outputs": [
    {
     "name": "stdout",
     "output_type": "stream",
     "text": [
      "[20, 11, 12]\n"
     ]
    }
   ],
   "source": [
    "given_Str=\"Check 20 if a string 11 is 12 alphanumeric\"\n",
    "digits=[int(i) for i in given_Str.split() if i.isdigit()]\n",
    "print(digits)"
   ]
  },
  {
   "cell_type": "code",
   "execution_count": 74,
   "id": "ea0b0462",
   "metadata": {},
   "outputs": [],
   "source": [
    "#25. Extract all alphabets from a string."
   ]
  },
  {
   "cell_type": "code",
   "execution_count": 75,
   "id": "ab4b2c65",
   "metadata": {},
   "outputs": [
    {
     "name": "stdout",
     "output_type": "stream",
     "text": [
      "['Check', 'if', 'a', 'string', 'is', 'alphanumeric']\n"
     ]
    }
   ],
   "source": [
    "given_Str=\"Check 20 if a string 11 is 12 alphanumeric\"\n",
    "alphabets=[i for i in given_Str.split() if i.isalpha()]\n",
    "print(alphabets)"
   ]
  },
  {
   "cell_type": "code",
   "execution_count": 76,
   "id": "011e65c8",
   "metadata": {},
   "outputs": [],
   "source": [
    "#26. Count the number of uppercase letters in a string."
   ]
  },
  {
   "cell_type": "code",
   "execution_count": 77,
   "id": "1b3f4098",
   "metadata": {},
   "outputs": [
    {
     "data": {
      "text/plain": [
       "2"
      ]
     },
     "execution_count": 77,
     "metadata": {},
     "output_type": "execute_result"
    }
   ],
   "source": [
    "given_Str=\"Khadar Basha\"\n",
    "len([i for i in given_Str if i.isupper()])"
   ]
  },
  {
   "cell_type": "code",
   "execution_count": 78,
   "id": "3f37ba2a",
   "metadata": {},
   "outputs": [],
   "source": [
    "#27. Count the number of lowercase letters in a string."
   ]
  },
  {
   "cell_type": "code",
   "execution_count": 79,
   "id": "5bc96cd4",
   "metadata": {},
   "outputs": [
    {
     "data": {
      "text/plain": [
       "9"
      ]
     },
     "execution_count": 79,
     "metadata": {},
     "output_type": "execute_result"
    }
   ],
   "source": [
    "given_Str=\"Khadar Basha\"\n",
    "len([i for i in given_Str if i.islower()])"
   ]
  },
  {
   "cell_type": "code",
   "execution_count": 80,
   "id": "5d542d80",
   "metadata": {},
   "outputs": [],
   "source": [
    "#28. Swap the case of each character in a string."
   ]
  },
  {
   "cell_type": "code",
   "execution_count": 81,
   "id": "7e1a0f04",
   "metadata": {},
   "outputs": [
    {
     "data": {
      "text/plain": [
       "'kHDAR bASHA'"
      ]
     },
     "execution_count": 81,
     "metadata": {},
     "output_type": "execute_result"
    }
   ],
   "source": [
    "givenStr=\"Khdar Basha\"\n",
    "givenStr.swapcase()"
   ]
  },
  {
   "cell_type": "code",
   "execution_count": 82,
   "id": "c9212078",
   "metadata": {},
   "outputs": [],
   "source": [
    "#29. Remove a specific word from a string."
   ]
  },
  {
   "cell_type": "code",
   "execution_count": 83,
   "id": "47567bf2",
   "metadata": {},
   "outputs": [
    {
     "name": "stdout",
     "output_type": "stream",
     "text": [
      "these meetings are designed to aid the  process\n"
     ]
    }
   ],
   "source": [
    "inputStr=\"these meetings are designed to aid the peace process\"\n",
    "removeStr=\"peace\"\n",
    "newStr=inputStr.replace(removeStr,\"\")\n",
    "print(newStr)"
   ]
  },
  {
   "cell_type": "code",
   "execution_count": 84,
   "id": "6a89d03a",
   "metadata": {},
   "outputs": [],
   "source": [
    "#30. Check if a string is a valid email address."
   ]
  },
  {
   "cell_type": "code",
   "execution_count": 85,
   "id": "226f3276",
   "metadata": {},
   "outputs": [
    {
     "name": "stdout",
     "output_type": "stream",
     "text": [
      "Valid Email\n"
     ]
    }
   ],
   "source": [
    "import re\n",
    "regex = r'\\b[A-Za-z0-9._%+-]+@[A-Za-z0-9.-]+\\.[A-Z|a-z]{2,7}\\b'\n",
    "#email='khadar@gmail'\n",
    "email='khadar@gmail.com'\n",
    "if(re.fullmatch(regex, email)):\n",
    "        print(\"Valid Email\")\n",
    "else:\n",
    "        print(\"Invalid Email\")"
   ]
  },
  {
   "cell_type": "code",
   "execution_count": 86,
   "id": "1945a455",
   "metadata": {},
   "outputs": [],
   "source": [
    "#31. Extract the username from an email address string."
   ]
  },
  {
   "cell_type": "code",
   "execution_count": 87,
   "id": "39329a78",
   "metadata": {},
   "outputs": [
    {
     "name": "stdout",
     "output_type": "stream",
     "text": [
      "khadar\n"
     ]
    }
   ],
   "source": [
    "user_email='khadar@gmail.com'\n",
    "user_name=user_email.split('@')[0]\n",
    "print(user_name)"
   ]
  },
  {
   "cell_type": "code",
   "execution_count": 88,
   "id": "1aa89f7f",
   "metadata": {},
   "outputs": [],
   "source": [
    "#32. Extract the domain name from an email address string."
   ]
  },
  {
   "cell_type": "code",
   "execution_count": 89,
   "id": "b35760c3",
   "metadata": {},
   "outputs": [
    {
     "name": "stdout",
     "output_type": "stream",
     "text": [
      "gmail.com\n"
     ]
    }
   ],
   "source": [
    "user_email='khadar@gmail.com'\n",
    "domain=user_email.split('@')[1]\n",
    "print(domain)"
   ]
  },
  {
   "cell_type": "code",
   "execution_count": 90,
   "id": "2092e1de",
   "metadata": {},
   "outputs": [],
   "source": [
    "#33. Replace multiple spaces in a string with a single space."
   ]
  },
  {
   "cell_type": "code",
   "execution_count": 91,
   "id": "30a7157c",
   "metadata": {},
   "outputs": [
    {
     "name": "stdout",
     "output_type": "stream",
     "text": [
      "bobby hadz com\n"
     ]
    }
   ],
   "source": [
    "my_str = 'bobby   hadz  com'\n",
    "result=\" \".join(my_str.split())\n",
    "print(result)\n",
    "#print(repr(result))"
   ]
  },
  {
   "cell_type": "code",
   "execution_count": 92,
   "id": "6231203b",
   "metadata": {},
   "outputs": [],
   "source": [
    "#34. Check if a string is a valid URL."
   ]
  },
  {
   "cell_type": "code",
   "execution_count": 93,
   "id": "311e1b5d",
   "metadata": {},
   "outputs": [
    {
     "name": "stdout",
     "output_type": "stream",
     "text": [
      "Valid URL!\n"
     ]
    }
   ],
   "source": [
    "import re\n",
    "pattern = re.compile(\n",
    "    r'^(?:http|ftp)s?://'  # Scheme\n",
    "    r'(?:(?:[A-Z0-9](?:[A-Z0-9-]{0,61}[A-Z0-9])?\\.)+(?:[A-Z]{2,6}\\.?|[A-Z0-9-]{2,}\\.?)|'  # Domain\n",
    "    r'localhost|'  # Localhost\n",
    "    r'\\d{1,3}\\.\\d{1,3}\\.\\d{1,3}\\.\\d{1,3})'  # IP address\n",
    "    r'(?::\\d+)?'  # Port (optional)\n",
    "    r'(?:/?|[/?]\\S+)$', re.IGNORECASE)  # Path and query (optional)\n",
    "\n",
    "givenURL=\"https://github.com\"\n",
    "if pattern.match(givenURL):\n",
    "    print(\"Valid URL!\")\n",
    "else:\n",
    "    print(\"Invalid URL!\")"
   ]
  },
  {
   "cell_type": "code",
   "execution_count": 94,
   "id": "f00a29e4",
   "metadata": {},
   "outputs": [],
   "source": [
    "#35. Extract the protocol (http or https) from a URL string."
   ]
  },
  {
   "cell_type": "code",
   "execution_count": 95,
   "id": "56c2e1b5",
   "metadata": {},
   "outputs": [
    {
     "name": "stdout",
     "output_type": "stream",
     "text": [
      "https\n"
     ]
    }
   ],
   "source": [
    "from urllib.parse import urlparse, parse_qs\n",
    "url = 'https://bobbyhadz.com/store?page=10&limit=15&price=ASC'\n",
    "parse_result = urlparse(url)\n",
    "print(parse_result[0])"
   ]
  },
  {
   "cell_type": "code",
   "execution_count": 96,
   "id": "d64e0a6f",
   "metadata": {},
   "outputs": [],
   "source": [
    "#36. Find the frequency of each character in a string."
   ]
  },
  {
   "cell_type": "code",
   "execution_count": 97,
   "id": "a54f4e36",
   "metadata": {},
   "outputs": [
    {
     "name": "stdout",
     "output_type": "stream",
     "text": [
      "{'G': 2, 'e': 4, 'k': 2, 's': 2, 'f': 1, 'o': 1, 'r': 1}\n"
     ]
    }
   ],
   "source": [
    "my_str=\"GeeksforGeeks\"\n",
    "all_freq={}\n",
    "\n",
    "for i in my_str:\n",
    "    if i in all_freq:\n",
    "        all_freq[i]+=1\n",
    "    else:\n",
    "        all_freq[i]=1\n",
    "\n",
    "print(all_freq)"
   ]
  },
  {
   "cell_type": "code",
   "execution_count": 98,
   "id": "b9cfd235",
   "metadata": {},
   "outputs": [],
   "source": [
    "#37. Remove all punctuation from a string."
   ]
  },
  {
   "cell_type": "code",
   "execution_count": 99,
   "id": "04082380",
   "metadata": {},
   "outputs": [
    {
     "name": "stdout",
     "output_type": "stream",
     "text": [
      "Hello he said and went\n"
     ]
    }
   ],
   "source": [
    "#define punctuations\n",
    "punctuations = '''!()-[]{};:'\"\\,<>./?@#$%^&*_~'''\n",
    "my_str = \"Hello!!!, he said ---and went.\"\n",
    "\n",
    "no_punct = \"\"\n",
    "for char in my_str:\n",
    "    if char not in punctuations:\n",
    "        no_punct=no_punct + char\n",
    "\n",
    "print(no_punct)"
   ]
  },
  {
   "cell_type": "code",
   "execution_count": 100,
   "id": "aa6a0214",
   "metadata": {},
   "outputs": [],
   "source": [
    "#38. Check if a string contains only digits."
   ]
  },
  {
   "cell_type": "code",
   "execution_count": 101,
   "id": "f0efb067",
   "metadata": {},
   "outputs": [
    {
     "name": "stdout",
     "output_type": "stream",
     "text": [
      "a string contains only digits\n",
      "a string not contains only digits\n"
     ]
    }
   ],
   "source": [
    "#initialize string\n",
    "ini_string1 = '1234556'\n",
    "ini_string2 = 'ab123bc'\n",
    "\n",
    "if ini_string1.isdigit():\n",
    "    print(\"a string contains only digits\")\n",
    "else:\n",
    "    print(\"a string not contains only digits\")\n",
    "    \n",
    "\n",
    "if ini_string2.isdigit():\n",
    "    print(\"a string contains only digits\")\n",
    "else:\n",
    "    print(\"a string not contains only digits\")"
   ]
  },
  {
   "cell_type": "code",
   "execution_count": 102,
   "id": "dc5ecd61",
   "metadata": {},
   "outputs": [
    {
     "name": "stdout",
     "output_type": "stream",
     "text": [
      "a string contains only alphabets\n",
      "a string not contains only alphabets\n"
     ]
    }
   ],
   "source": [
    "#39. Check if a string contains only alphabets.\n",
    "\n",
    "ini_string1 = 'abcd'\n",
    "ini_string2 = 'ab123bc'\n",
    "\n",
    "if ini_string1.isalpha():\n",
    "    print(\"a string contains only alphabets\")\n",
    "else:\n",
    "    print(\"a string not contains only alphabets\")\n",
    "\n",
    "if ini_string2.isalpha():\n",
    "    print(\"a string contains only alphabets\")\n",
    "else:\n",
    "    print(\"a string not contains only alphabets\")"
   ]
  },
  {
   "cell_type": "code",
   "execution_count": 103,
   "id": "cb16e957",
   "metadata": {},
   "outputs": [],
   "source": [
    "#40. Convert a string to a list of characters."
   ]
  },
  {
   "cell_type": "code",
   "execution_count": 104,
   "id": "ddf1faf3",
   "metadata": {},
   "outputs": [
    {
     "name": "stdout",
     "output_type": "stream",
     "text": [
      "['G', 'e', 'e', 'k', 's', 'f', 'o', 'r', 'G', 'e', 'e', 'k', 's']\n"
     ]
    }
   ],
   "source": [
    "givenStr=\"GeeksforGeeks\"\n",
    "l=list(givenStr)\n",
    "print(l)"
   ]
  },
  {
   "cell_type": "code",
   "execution_count": 105,
   "id": "94930d51",
   "metadata": {},
   "outputs": [],
   "source": [
    "#41. Check if two strings are anagrams."
   ]
  },
  {
   "cell_type": "code",
   "execution_count": 106,
   "id": "1fe8e16f",
   "metadata": {},
   "outputs": [
    {
     "name": "stdout",
     "output_type": "stream",
     "text": [
      "The strings are anagrams\n"
     ]
    }
   ],
   "source": [
    "step1=\"listen\"\n",
    "step2=\"silent\"\n",
    "\n",
    "if sorted(step1)==sorted(step2):\n",
    "    print(\"The strings are anagrams\")\n",
    "else:\n",
    "    print(\"The strings are anagrams\")"
   ]
  },
  {
   "cell_type": "code",
   "execution_count": 107,
   "id": "e6bd0efb",
   "metadata": {},
   "outputs": [],
   "source": [
    "#42. Encode a string using a Caesar cipher."
   ]
  },
  {
   "cell_type": "code",
   "execution_count": 108,
   "id": "798430c4",
   "metadata": {},
   "outputs": [],
   "source": [
    "def encrypt(key, message):\n",
    "    key=int(key)\n",
    "    #message = message.upper()\n",
    "    alpha = \"ABCDEFGHIJKLMNOPQRSTUVWXYZabcdefghijklmnopqrstuvwxyz\"\n",
    "    result = \"\"\n",
    "\n",
    "    for letter in message:\n",
    "        if letter in alpha: #if the letter is actually a letter\n",
    "            #find the corresponding ciphertext letter in the alphabet\n",
    "            letter_index = (alpha.find(letter) + key) % len(alpha)\n",
    "\n",
    "            result = result + alpha[letter_index]\n",
    "        else:\n",
    "            result = result + letter\n",
    "\n",
    "    return result"
   ]
  },
  {
   "cell_type": "code",
   "execution_count": 109,
   "id": "86c5d1c2",
   "metadata": {},
   "outputs": [
    {
     "data": {
      "text/plain": [
       "'spiliz'"
      ]
     },
     "execution_count": 109,
     "metadata": {},
     "output_type": "execute_result"
    }
   ],
   "source": [
    "encrypt(123456,\"khadar\")"
   ]
  },
  {
   "cell_type": "code",
   "execution_count": 110,
   "id": "62005bfa",
   "metadata": {},
   "outputs": [],
   "source": [
    "#43. Decode a Caesar cipher encoded string."
   ]
  },
  {
   "cell_type": "code",
   "execution_count": 111,
   "id": "87577fc3",
   "metadata": {},
   "outputs": [],
   "source": [
    "def decrypt(key, message):\n",
    "    #message = message.upper()\n",
    "    alpha = \"ABCDEFGHIJKLMNOPQRSTUVWXYZabcdefghijklmnopqrstuvwxyz\"\n",
    "    result = \"\"\n",
    "\n",
    "    for letter in message:\n",
    "        if letter in alpha: #if the letter is actually a letter\n",
    "            #find the corresponding ciphertext letter in the alphabet\n",
    "            letter_index = (alpha.find(letter) - key) % len(alpha)\n",
    "\n",
    "            result = result + alpha[letter_index]\n",
    "        else:\n",
    "            result = result + letter\n",
    "\n",
    "    return result"
   ]
  },
  {
   "cell_type": "code",
   "execution_count": 112,
   "id": "77b1c8a4",
   "metadata": {},
   "outputs": [
    {
     "data": {
      "text/plain": [
       "'khadar'"
      ]
     },
     "execution_count": 112,
     "metadata": {},
     "output_type": "execute_result"
    }
   ],
   "source": [
    "decrypt(123456,\"spiliz\")"
   ]
  },
  {
   "cell_type": "code",
   "execution_count": 113,
   "id": "22053b03",
   "metadata": {},
   "outputs": [],
   "source": [
    "#44. Find the most frequent word in a string."
   ]
  },
  {
   "cell_type": "code",
   "execution_count": 114,
   "id": "310688d5",
   "metadata": {},
   "outputs": [
    {
     "name": "stdout",
     "output_type": "stream",
     "text": [
      "('pwskills', 3)\n"
     ]
    }
   ],
   "source": [
    "givenStr=\"datascience data engineer pwskills java c pwskills c++ pwskills\"\n",
    "words=givenStr.split(\" \")\n",
    "counts = dict()\n",
    "\n",
    "for word in words:\n",
    "    if word in counts:\n",
    "        counts[word]+=1\n",
    "    else:\n",
    "        counts[word]=1\n",
    "\n",
    "counts_x = sorted(counts.items(), key=lambda item: item[1],reverse=True)\n",
    "print(counts_x[0])"
   ]
  },
  {
   "cell_type": "code",
   "execution_count": 115,
   "id": "4fbc80e6",
   "metadata": {},
   "outputs": [],
   "source": [
    "#45. Find all unique words in a string."
   ]
  },
  {
   "cell_type": "code",
   "execution_count": 116,
   "id": "7e762e86",
   "metadata": {},
   "outputs": [
    {
     "name": "stdout",
     "output_type": "stream",
     "text": [
      "{'one', 'two'}\n"
     ]
    }
   ],
   "source": [
    "my_str = 'one one two two'\n",
    "unique_words=set(my_str.split())\n",
    "print(unique_words)"
   ]
  },
  {
   "cell_type": "code",
   "execution_count": 117,
   "id": "598b9c74",
   "metadata": {},
   "outputs": [],
   "source": [
    "#46. Count the number of syllables in a string."
   ]
  },
  {
   "cell_type": "code",
   "execution_count": 118,
   "id": "55597b90",
   "metadata": {},
   "outputs": [
    {
     "name": "stdout",
     "output_type": "stream",
     "text": [
      "syllables count - 1\n"
     ]
    }
   ],
   "source": [
    "givenStr=\"pwskills\"\n",
    "syllable_count=0\n",
    "syllables=['a','e','i','o','u']\n",
    "\n",
    "for char in givenStr:\n",
    "    if char in syllables:\n",
    "        syllable_count+=1\n",
    "\n",
    "print(f\"syllables count - {syllable_count}\")"
   ]
  },
  {
   "cell_type": "code",
   "execution_count": 119,
   "id": "60767603",
   "metadata": {},
   "outputs": [],
   "source": [
    "#47. Check if a string contains any special characters."
   ]
  },
  {
   "cell_type": "code",
   "execution_count": 120,
   "id": "434afb0b",
   "metadata": {},
   "outputs": [
    {
     "name": "stdout",
     "output_type": "stream",
     "text": [
      "string contains special characters\n"
     ]
    }
   ],
   "source": [
    "s = '[@_!#$%^&*()<>?/\\|}{~:]'  # special character set\n",
    "mystr=\"khadar@\"\n",
    "counter=0\n",
    "\n",
    "for char in mystr:\n",
    "    if char in s:\n",
    "        counter+=1\n",
    "\n",
    "if(counter>0):\n",
    "    print(\"string contains special characters\")\n",
    "else:\n",
    "    print(\"string not contains special characters\")"
   ]
  },
  {
   "cell_type": "code",
   "execution_count": 121,
   "id": "ba4dbd52",
   "metadata": {},
   "outputs": [],
   "source": [
    "#48. Remove the nth word from a string."
   ]
  },
  {
   "cell_type": "code",
   "execution_count": 122,
   "id": "dce5ac1c",
   "metadata": {},
   "outputs": [
    {
     "name": "stdout",
     "output_type": "stream",
     "text": [
      "['Lorem', 'Ipsum', 'is', 'simply', 'dummy', 'text', 'of', 'the', 'printing', 'and']\n"
     ]
    }
   ],
   "source": [
    "mystr=\"Lorem Ipsum is simply dummy text of the printing and typesetting\"\n",
    "words=mystr.split()\n",
    "nthword=len(words)\n",
    "del words[(nthword-1)]\n",
    "print(words)"
   ]
  },
  {
   "cell_type": "code",
   "execution_count": 123,
   "id": "009c6e9a",
   "metadata": {},
   "outputs": [],
   "source": [
    "#49. Insert a word at the nth position in a string."
   ]
  },
  {
   "cell_type": "code",
   "execution_count": 124,
   "id": "926b7aa5",
   "metadata": {},
   "outputs": [
    {
     "name": "stdout",
     "output_type": "stream",
     "text": [
      "['Lorem', 'Ipsum', 'is', 'simply', 'dummy', 'text', 'of', 'the', 'printing', 'and', 'typesetting', 'khadar']\n"
     ]
    }
   ],
   "source": [
    "mystr=\"Lorem Ipsum is simply dummy text of the printing and typesetting\"\n",
    "words=mystr.split()\n",
    "words.insert(len(words),\"khadar\")\n",
    "print(words)"
   ]
  },
  {
   "cell_type": "code",
   "execution_count": 125,
   "id": "d27a6281",
   "metadata": {},
   "outputs": [],
   "source": [
    "#50. Convert a CSV string to a list of lists."
   ]
  },
  {
   "cell_type": "code",
   "execution_count": 126,
   "id": "188e1af3",
   "metadata": {},
   "outputs": [
    {
     "name": "stdout",
     "output_type": "stream",
     "text": [
      "['Lorem', 'Ipsum', 'is', 'simply', 'dummy', 'text', 'of', 'the', 'printing', 'and', 'typesetting']\n"
     ]
    }
   ],
   "source": [
    "myCsvStr=\"Lorem,Ipsum,is,simply,dummy,text,of,the,printing,and,typesetting\"\n",
    "strList=myCsvStr.split(',')\n",
    "print(strList)"
   ]
  },
  {
   "cell_type": "code",
   "execution_count": 127,
   "id": "b062fea0",
   "metadata": {},
   "outputs": [],
   "source": [
    "#List Based Practice Problem :"
   ]
  },
  {
   "cell_type": "code",
   "execution_count": 128,
   "id": "b7bad4ef",
   "metadata": {},
   "outputs": [],
   "source": [
    "#1. Create a list with integers from 1 to 10."
   ]
  },
  {
   "cell_type": "code",
   "execution_count": 129,
   "id": "164eb29e",
   "metadata": {},
   "outputs": [
    {
     "name": "stdout",
     "output_type": "stream",
     "text": [
      "[1, 2, 3, 4, 5, 6, 7, 8, 9, 10]\n"
     ]
    }
   ],
   "source": [
    "l1=list(range(1,11))\n",
    "print(l1)"
   ]
  },
  {
   "cell_type": "code",
   "execution_count": 130,
   "id": "10fb7415",
   "metadata": {},
   "outputs": [],
   "source": [
    "#2. Find the length of a list without using the `len()` function."
   ]
  },
  {
   "cell_type": "code",
   "execution_count": 131,
   "id": "3a078cbf",
   "metadata": {},
   "outputs": [
    {
     "name": "stdout",
     "output_type": "stream",
     "text": [
      "l2 length is 10\n"
     ]
    }
   ],
   "source": [
    "l2=[1, 2, 3, 4, 5, 6, 7, 8, 9, 10]\n",
    "lsLength=0\n",
    "for i in l2:\n",
    "    lsLength+=1\n",
    "\n",
    "print(f\"l2 length is {lsLength}\")"
   ]
  },
  {
   "cell_type": "code",
   "execution_count": 132,
   "id": "2fc57f77",
   "metadata": {},
   "outputs": [],
   "source": [
    "#3. Append an element to the end of a list."
   ]
  },
  {
   "cell_type": "code",
   "execution_count": 133,
   "id": "626f198d",
   "metadata": {},
   "outputs": [
    {
     "name": "stdout",
     "output_type": "stream",
     "text": [
      "[1, 2, 3, 4, 5, 6, 7, 8, 9, 10, 20]\n"
     ]
    }
   ],
   "source": [
    "l3=[1, 2, 3, 4, 5, 6, 7, 8, 9, 10]\n",
    "l3.append(20)\n",
    "print(l3)"
   ]
  },
  {
   "cell_type": "code",
   "execution_count": 134,
   "id": "31bec1a5",
   "metadata": {},
   "outputs": [],
   "source": [
    "#4. Insert an element at a specific index in a list."
   ]
  },
  {
   "cell_type": "code",
   "execution_count": 138,
   "id": "19b7011f",
   "metadata": {},
   "outputs": [
    {
     "name": "stdout",
     "output_type": "stream",
     "text": [
      "[1, 2, 3, 4, 5, 100, 6, 7, 8, 9, 10]\n"
     ]
    }
   ],
   "source": [
    "l4=[1, 2, 3, 4, 5, 6, 7, 8, 9, 10]\n",
    "l4.insert(5,100)\n",
    "print(l4)"
   ]
  },
  {
   "cell_type": "code",
   "execution_count": 139,
   "id": "0d81244d",
   "metadata": {},
   "outputs": [],
   "source": [
    "#5. Remove an element from a list by its value."
   ]
  },
  {
   "cell_type": "code",
   "execution_count": 140,
   "id": "1c83e90f",
   "metadata": {},
   "outputs": [
    {
     "name": "stdout",
     "output_type": "stream",
     "text": [
      "[1, 2, 3, 4, 5, 6, 7, 8, 9]\n"
     ]
    }
   ],
   "source": [
    "l5=[1, 2, 3, 4, 5, 6, 7, 8, 9, 10]\n",
    "l5.pop()\n",
    "print(l5)"
   ]
  },
  {
   "cell_type": "code",
   "execution_count": 141,
   "id": "79a2728c",
   "metadata": {},
   "outputs": [],
   "source": [
    "#6. Remove an element from a list by its index."
   ]
  },
  {
   "cell_type": "code",
   "execution_count": 144,
   "id": "e4ee4498",
   "metadata": {},
   "outputs": [
    {
     "name": "stdout",
     "output_type": "stream",
     "text": [
      "[1, 2, 3, 4, 5, 6, 8, 9, 10]\n"
     ]
    }
   ],
   "source": [
    "l6=[1, 2, 3, 4, 5, 6, 7, 8, 9, 10]\n",
    "l6.remove(7)\n",
    "print(l6)"
   ]
  },
  {
   "cell_type": "code",
   "execution_count": null,
   "id": "f10d3b87",
   "metadata": {},
   "outputs": [],
   "source": []
  }
 ],
 "metadata": {
  "kernelspec": {
   "display_name": "Python 3 (ipykernel)",
   "language": "python",
   "name": "python3"
  },
  "language_info": {
   "codemirror_mode": {
    "name": "ipython",
    "version": 3
   },
   "file_extension": ".py",
   "mimetype": "text/x-python",
   "name": "python",
   "nbconvert_exporter": "python",
   "pygments_lexer": "ipython3",
   "version": "3.9.13"
  }
 },
 "nbformat": 4,
 "nbformat_minor": 5
}
