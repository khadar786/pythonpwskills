{
 "cells": [
  {
   "cell_type": "code",
   "execution_count": 4,
   "id": "35efb04a",
   "metadata": {},
   "outputs": [
    {
     "name": "stdout",
     "output_type": "stream",
     "text": [
      "120\n"
     ]
    }
   ],
   "source": [
    "## Factorial of a given number\n",
    "## Method definition via the recursion\n",
    "def fact(n):\n",
    "    ## 1.Base case condition\n",
    "    if n<1:\n",
    "        return 1\n",
    "    \n",
    "    ## 2.Recursive function call\n",
    "    return n*fact(n-1)\n",
    "\n",
    "## Driver Code\n",
    "n=5\n",
    "result=fact(5)\n",
    "print(result)"
   ]
  },
  {
   "cell_type": "code",
   "execution_count": 10,
   "id": "2a782b8c",
   "metadata": {},
   "outputs": [],
   "source": [
    "def fibonacciNormal(n):\n",
    "    a,b=0,1\n",
    "    if n<=1:\n",
    "        return n\n",
    "    else:\n",
    "        for i in range(1,n):\n",
    "            c=a+b\n",
    "            a=b\n",
    "            b=c\n",
    "            \n",
    "        return b"
   ]
  },
  {
   "cell_type": "code",
   "execution_count": 11,
   "id": "095d92f4",
   "metadata": {},
   "outputs": [
    {
     "data": {
      "text/plain": [
       "5"
      ]
     },
     "execution_count": 11,
     "metadata": {},
     "output_type": "execute_result"
    }
   ],
   "source": [
    "fibonacciNormal(5)"
   ]
  },
  {
   "cell_type": "code",
   "execution_count": 7,
   "id": "2b489cae",
   "metadata": {},
   "outputs": [],
   "source": [
    "def fib(n):\n",
    "    ## 1.Base case conditon\n",
    "    if n<=1:\n",
    "        return n\n",
    "    \n",
    "    ## 2.Recursive function call\n",
    "    return fib(n-1)+fib(n-2)\n",
    "    "
   ]
  },
  {
   "cell_type": "code",
   "execution_count": 8,
   "id": "ed868da3",
   "metadata": {},
   "outputs": [
    {
     "data": {
      "text/plain": [
       "5"
      ]
     },
     "execution_count": 8,
     "metadata": {},
     "output_type": "execute_result"
    }
   ],
   "source": [
    "fib(5)"
   ]
  },
  {
   "cell_type": "code",
   "execution_count": 12,
   "id": "370ad667",
   "metadata": {},
   "outputs": [],
   "source": [
    "## climbing a staircase\n",
    "def climbStairs(n):\n",
    "    ## 1.Base case condition\n",
    "    if n<=3:\n",
    "        return n\n",
    "    \n",
    "    ## 2.Recursive function call\n",
    "    return climbStairs(n-1)+climbStairs(n-2)"
   ]
  },
  {
   "cell_type": "code",
   "execution_count": 13,
   "id": "5a8d571a",
   "metadata": {},
   "outputs": [
    {
     "data": {
      "text/plain": [
       "5"
      ]
     },
     "execution_count": 13,
     "metadata": {},
     "output_type": "execute_result"
    }
   ],
   "source": [
    "climbStairs(4)"
   ]
  },
  {
   "cell_type": "code",
   "execution_count": 14,
   "id": "b48c2ee9",
   "metadata": {},
   "outputs": [],
   "source": [
    "class Solution:\n",
    "    def climbStairs(self, n: int) -> int:\n",
    "        ## 1.Base case condition\n",
    "        if n<=3:\n",
    "            return n\n",
    "        \n",
    "        ## 2.Recursive function call\n",
    "        return self.climbStairs(n-1)+self.climbStairs(n-2)"
   ]
  },
  {
   "cell_type": "code",
   "execution_count": 15,
   "id": "cec0e00b",
   "metadata": {},
   "outputs": [
    {
     "data": {
      "text/plain": [
       "8"
      ]
     },
     "execution_count": 15,
     "metadata": {},
     "output_type": "execute_result"
    }
   ],
   "source": [
    "sol=Solution()\n",
    "sol.climbStairs(5)"
   ]
  },
  {
   "cell_type": "code",
   "execution_count": 16,
   "id": "ff112867",
   "metadata": {},
   "outputs": [],
   "source": [
    "#Dynamic Programming\n",
    "class Solution2:\n",
    "    def climbStairs(self, n: int) -> int:\n",
    "        a,b=1,2\n",
    "\n",
    "        ## 1.Base condition\n",
    "        if n==1:\n",
    "            return 1\n",
    "        else:\n",
    "        ## 2.Iterative approach\n",
    "            for i in range(3,n+1):\n",
    "                c=a+b\n",
    "                a=b\n",
    "                b=c\n",
    "            return b\n",
    "        # ## 1.Base case condition\n",
    "        # if n<=3:\n",
    "        #     return n\n",
    "        \n",
    "        # ## 2.Recursive function call\n",
    "        # return self.climbStairs(n-1)+self.climbStairs(n-2)"
   ]
  },
  {
   "cell_type": "code",
   "execution_count": null,
   "id": "7b4dbc30",
   "metadata": {},
   "outputs": [],
   "source": []
  }
 ],
 "metadata": {
  "kernelspec": {
   "display_name": "Python 3 (ipykernel)",
   "language": "python",
   "name": "python3"
  },
  "language_info": {
   "codemirror_mode": {
    "name": "ipython",
    "version": 3
   },
   "file_extension": ".py",
   "mimetype": "text/x-python",
   "name": "python",
   "nbconvert_exporter": "python",
   "pygments_lexer": "ipython3",
   "version": "3.9.13"
  }
 },
 "nbformat": 4,
 "nbformat_minor": 5
}
