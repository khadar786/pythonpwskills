{
 "cells": [
  {
   "cell_type": "code",
   "execution_count": 12,
   "id": "8e3b1236",
   "metadata": {},
   "outputs": [],
   "source": [
    "#Sorting\n",
    "#Bubble sort\n",
    "#stable and unstable sorting\n",
    "#Selection Sort\n",
    "#->left to right\n",
    "##Insertion Sort / Online Sorting"
   ]
  },
  {
   "cell_type": "code",
   "execution_count": 5,
   "id": "567dcbf1",
   "metadata": {},
   "outputs": [],
   "source": [
    "#Bubble Sorting\n",
    "#Time complexity :O(n^2)\n",
    "def bubbleSort(arr):\n",
    "    for i in range(len(arr)-1,0,-1):\n",
    "        for j in range(i):\n",
    "            if arr[j]>arr[j+1]:\n",
    "                arr[j],arr[j+1]=arr[j+1],arr[j]"
   ]
  },
  {
   "cell_type": "code",
   "execution_count": 6,
   "id": "9b08ea1b",
   "metadata": {},
   "outputs": [
    {
     "name": "stdout",
     "output_type": "stream",
     "text": [
      "[1, 2, 3, 4, 5]\n"
     ]
    }
   ],
   "source": [
    "arr=[5,4,3,2,1]\n",
    "bubbleSort(arr)\n",
    "print(arr)"
   ]
  },
  {
   "cell_type": "code",
   "execution_count": 8,
   "id": "82cef9c9",
   "metadata": {},
   "outputs": [],
   "source": [
    "def bubbleSortOptimized(arr):\n",
    "    for i in range(len(arr)-1,0,-1):\n",
    "        isSorted=True\n",
    "        for j in range(i):\n",
    "            if arr[j]>arr[j+1]:\n",
    "                isSorted=False\n",
    "                arr[j],arr[j+1]=arr[j+1],arr[j]\n",
    "        \n",
    "        if isSorted:\n",
    "            print(\"Array is already sorted\")\n",
    "            break\n",
    "                "
   ]
  },
  {
   "cell_type": "code",
   "execution_count": 9,
   "id": "5eac34f4",
   "metadata": {},
   "outputs": [
    {
     "name": "stdout",
     "output_type": "stream",
     "text": [
      "[1, 2, 3, 4, 5]\n"
     ]
    }
   ],
   "source": [
    "arr=[5,4,3,2,1]\n",
    "bubbleSortOptimized(arr)\n",
    "print(arr)"
   ]
  },
  {
   "cell_type": "code",
   "execution_count": 10,
   "id": "f15fe6d0",
   "metadata": {},
   "outputs": [],
   "source": [
    "#Given an array, check if the arry issorted\n",
    "\n",
    "def isSorted(arr):\n",
    "    isSorted=True\n",
    "    \n",
    "    for i in range(len(arr)-1):\n",
    "        if arr[i]>arr[i+1]:\n",
    "            isSOrted=False\n",
    "            break\n",
    "            \n",
    "    if isSorted:\n",
    "        print(\"Array is sorted\")\n",
    "    else:\n",
    "        print(\"Array is not sorted\")"
   ]
  },
  {
   "cell_type": "code",
   "execution_count": 11,
   "id": "5e6d01fb",
   "metadata": {},
   "outputs": [],
   "source": [
    "#Selection Sorting\n",
    "def selectionSort(arr):\n",
    "    for i in range(len(arr)):#iterabil\n",
    "        min=i\n",
    "        for j in range(i+1,len(arr)): # finding the minimum value\n",
    "            if arr[j]<arr[min]:\n",
    "                min=j\n",
    "        #Find the smallest values\n",
    "        arr[i],arr[min]=arr[min],arr[i]\n",
    "\n",
    "        \n",
    "#Time complexity Selection Sorting - O(n^2)\n",
    "#Comparisons n^2\n",
    "#Swaps : n\n",
    "\n",
    "#Time complexity Bubble Sorting - O(n^2)\n",
    "#Comparisons n^2\n",
    "##Swaps : n^2"
   ]
  },
  {
   "cell_type": "code",
   "execution_count": 13,
   "id": "0fb846aa",
   "metadata": {},
   "outputs": [],
   "source": [
    "#Insertion Sort / Online Sorting\n",
    "def insertionSort(arr):\n",
    "    for i in range(1,len(arr)):\n",
    "        v=arr[i]\n",
    "        j=i\n",
    "        while j>=1 and arr[j-1]>v:\n",
    "            arr[j]=arr[j-1]\n",
    "            j-=1\n",
    "        arr[j]=v"
   ]
  },
  {
   "cell_type": "code",
   "execution_count": 14,
   "id": "3f93761e",
   "metadata": {},
   "outputs": [
    {
     "name": "stdout",
     "output_type": "stream",
     "text": [
      "[1, 2, 3, 4, 5]\n"
     ]
    }
   ],
   "source": [
    "arr=[5,4,3,2,1]\n",
    "insertionSort(arr)\n",
    "print(arr)"
   ]
  },
  {
   "cell_type": "code",
   "execution_count": 15,
   "id": "c493e8a5",
   "metadata": {},
   "outputs": [],
   "source": [
    "#Time complexity Selection Sorting - O(n^2)\n",
    "#Comparisons n^2\n",
    "#Swaps : n\n",
    "\n",
    "#Time complexity Bubble Sorting - O(n^2)\n",
    "#Comparisons n^2\n",
    "##Swaps : n^2\n",
    "\n",
    "#Time complexity Insertion Sorting - O(n^2)\n",
    "#Comparisons propotional n^2\n",
    "##Swaps : propotional n^2"
   ]
  },
  {
   "cell_type": "code",
   "execution_count": 1,
   "id": "1518e4cf",
   "metadata": {},
   "outputs": [
    {
     "name": "stdout",
     "output_type": "stream",
     "text": [
      "-1\n"
     ]
    }
   ],
   "source": [
    "#Linear Search\n",
    "def linearSearch(arr,num):\n",
    "    for i in range(len(arr)):\n",
    "        if arr[i]==num:\n",
    "            return i\n",
    "    return -1\n",
    "\n",
    "print(linearSearch([4,5,1,3,9,10],7))"
   ]
  },
  {
   "cell_type": "code",
   "execution_count": 3,
   "id": "2b5ac589",
   "metadata": {},
   "outputs": [
    {
     "name": "stdout",
     "output_type": "stream",
     "text": [
      "5\n"
     ]
    }
   ],
   "source": [
    "#Binary Search\n",
    "def binarySearch(arr,num):\n",
    "    left=0\n",
    "    right=len(arr)-1\n",
    "    \n",
    "    while left<=right:\n",
    "        mid=int(left+(right-left)/2)\n",
    "        if arr[mid]==num:\n",
    "            return mid\n",
    "        elif arr[mid]>num:\n",
    "            right=mid-1\n",
    "        else:\n",
    "            left=mid+1\n",
    "    return -1\n",
    "\n",
    "print(binarySearch([4,5,1,3,9,10],10))"
   ]
  },
  {
   "cell_type": "code",
   "execution_count": null,
   "id": "ce727948",
   "metadata": {},
   "outputs": [],
   "source": []
  }
 ],
 "metadata": {
  "kernelspec": {
   "display_name": "Python 3 (ipykernel)",
   "language": "python",
   "name": "python3"
  },
  "language_info": {
   "codemirror_mode": {
    "name": "ipython",
    "version": 3
   },
   "file_extension": ".py",
   "mimetype": "text/x-python",
   "name": "python",
   "nbconvert_exporter": "python",
   "pygments_lexer": "ipython3",
   "version": "3.9.13"
  }
 },
 "nbformat": 4,
 "nbformat_minor": 5
}
