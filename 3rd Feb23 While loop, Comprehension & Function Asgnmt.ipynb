{
 "cells": [
  {
   "cell_type": "raw",
   "id": "a98ceabe",
   "metadata": {},
   "source": [
    "Q1. Which keyword is used to create a function? Create a function to return a list of odd numbers in the\n",
    "range of 1 to 25."
   ]
  },
  {
   "cell_type": "code",
   "execution_count": 6,
   "id": "63e26a8b",
   "metadata": {},
   "outputs": [],
   "source": [
    "def findOddNumbers(lst):\n",
    "    oddList=[]\n",
    "    for i in lst:\n",
    "        if i%2 !=0:\n",
    "            oddList.append(i)\n",
    "    return oddList"
   ]
  },
  {
   "cell_type": "code",
   "execution_count": 8,
   "id": "091395c2",
   "metadata": {},
   "outputs": [
    {
     "name": "stdout",
     "output_type": "stream",
     "text": [
      "[1, 3, 5, 7, 9, 11, 13, 15, 17, 19, 21, 23, 25]\n"
     ]
    }
   ],
   "source": [
    "lst=list(range(1,26))\n",
    "result=findOddNumbers(lst)\n",
    "print(result)"
   ]
  },
  {
   "cell_type": "raw",
   "id": "5c1649d7",
   "metadata": {},
   "source": [
    "Q2. Why *args and **kwargs is used in some functions? Create a function each for *args and **kwargs\n",
    "to demonstrate their use."
   ]
  },
  {
   "cell_type": "raw",
   "id": "48aad006",
   "metadata": {},
   "source": [
    "*args (Non-Keyword Arguments)\n",
    "**kwargs (Keyword Arguments)"
   ]
  },
  {
   "cell_type": "code",
   "execution_count": 12,
   "id": "da5e271d",
   "metadata": {},
   "outputs": [],
   "source": [
    "def myFunArgs1(*args):\n",
    "    for i in args:\n",
    "        print(i)"
   ]
  },
  {
   "cell_type": "code",
   "execution_count": 13,
   "id": "0bfe8058",
   "metadata": {},
   "outputs": [
    {
     "name": "stdout",
     "output_type": "stream",
     "text": [
      "10\n",
      "12.5\n",
      "123.456\n",
      "khadar\n",
      "[12, 23, 56, 89, 78]\n"
     ]
    }
   ],
   "source": [
    "myFunArgs1(10,12.5,123.456,\"khadar\",[12,23,56,89,78])"
   ]
  },
  {
   "cell_type": "code",
   "execution_count": 14,
   "id": "fa6b1648",
   "metadata": {},
   "outputs": [],
   "source": [
    "def myFunArgs2(*args,spec1):\n",
    "    print(\"special parameter :\",spec1)\n",
    "    for i in args:\n",
    "        print(i)"
   ]
  },
  {
   "cell_type": "code",
   "execution_count": 16,
   "id": "a244c98a",
   "metadata": {},
   "outputs": [
    {
     "name": "stdout",
     "output_type": "stream",
     "text": [
      "special parameter : this is spec1\n",
      "10\n",
      "12.5\n",
      "123.456\n",
      "khadar\n",
      "[12, 23, 56, 89, 78]\n"
     ]
    }
   ],
   "source": [
    "myFunArgs2(10,12.5,123.456,\"khadar\",[12,23,56,89,78],spec1=\"this is spec1\")"
   ]
  },
  {
   "cell_type": "code",
   "execution_count": 17,
   "id": "b0e38184",
   "metadata": {},
   "outputs": [],
   "source": [
    "def myFunKWArgs(**kwargs):\n",
    "    return kwargs"
   ]
  },
  {
   "cell_type": "code",
   "execution_count": 18,
   "id": "f2d533af",
   "metadata": {},
   "outputs": [
    {
     "data": {
      "text/plain": [
       "{'a': [10, 20, 30], 'b': 'khadar', 'c': ['pwskills', 'python']}"
      ]
     },
     "execution_count": 18,
     "metadata": {},
     "output_type": "execute_result"
    }
   ],
   "source": [
    "myFunKWArgs(a=[10,20,30],b=\"khadar\",c=[\"pwskills\",\"python\"])"
   ]
  },
  {
   "cell_type": "code",
   "execution_count": null,
   "id": "6375388d",
   "metadata": {},
   "outputs": [],
   "source": []
  }
 ],
 "metadata": {
  "kernelspec": {
   "display_name": "Python 3 (ipykernel)",
   "language": "python",
   "name": "python3"
  },
  "language_info": {
   "codemirror_mode": {
    "name": "ipython",
    "version": 3
   },
   "file_extension": ".py",
   "mimetype": "text/x-python",
   "name": "python",
   "nbconvert_exporter": "python",
   "pygments_lexer": "ipython3",
   "version": "3.9.13"
  }
 },
 "nbformat": 4,
 "nbformat_minor": 5
}
