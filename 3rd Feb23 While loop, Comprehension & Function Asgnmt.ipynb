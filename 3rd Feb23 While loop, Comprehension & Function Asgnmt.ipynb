{
 "cells": [
  {
   "cell_type": "raw",
   "id": "e3ea7162",
   "metadata": {},
   "source": [
    "Q1. Which keyword is used to create a function? Create a function to return a list of odd numbers in the\n",
    "range of 1 to 25."
   ]
  },
  {
   "cell_type": "code",
   "execution_count": 1,
   "id": "ca869c99",
   "metadata": {},
   "outputs": [],
   "source": [
    "def findOddNumbers(lst):\n",
    "    oddList=[]\n",
    "    for i in lst:\n",
    "        if i%2 !=0:\n",
    "            oddList.append(i)\n",
    "    return oddList"
   ]
  },
  {
   "cell_type": "code",
   "execution_count": 2,
   "id": "c6c53827",
   "metadata": {},
   "outputs": [
    {
     "name": "stdout",
     "output_type": "stream",
     "text": [
      "[1, 3, 5, 7, 9, 11, 13, 15, 17, 19, 21, 23, 25]\n"
     ]
    }
   ],
   "source": [
    "lst=list(range(1,26))\n",
    "result=findOddNumbers(lst)\n",
    "print(result)"
   ]
  },
  {
   "cell_type": "raw",
   "id": "83e6484f",
   "metadata": {},
   "source": [
    "Q2. Why *args and **kwargs is used in some functions? Create a function each for *args and **kwargs\n",
    "to demonstrate their use."
   ]
  },
  {
   "cell_type": "raw",
   "id": "136777c5",
   "metadata": {},
   "source": [
    "*args (Non-Keyword Arguments)\n",
    "**kwargs (Keyword Arguments)"
   ]
  },
  {
   "cell_type": "code",
   "execution_count": 3,
   "id": "9f5b09e2",
   "metadata": {},
   "outputs": [],
   "source": [
    "def myFunArgs1(*args):\n",
    "    for i in args:\n",
    "        print(i)"
   ]
  },
  {
   "cell_type": "code",
   "execution_count": 4,
   "id": "19f67015",
   "metadata": {},
   "outputs": [
    {
     "name": "stdout",
     "output_type": "stream",
     "text": [
      "10\n",
      "12.5\n",
      "123.456\n",
      "khadar\n",
      "[12, 23, 56, 89, 78]\n"
     ]
    }
   ],
   "source": [
    "myFunArgs1(10,12.5,123.456,\"khadar\",[12,23,56,89,78])"
   ]
  },
  {
   "cell_type": "code",
   "execution_count": 5,
   "id": "eef601fb",
   "metadata": {},
   "outputs": [],
   "source": [
    "def myFunArgs2(*args,spec1):\n",
    "    print(\"special parameter :\",spec1)\n",
    "    for i in args:\n",
    "        print(i)"
   ]
  },
  {
   "cell_type": "code",
   "execution_count": 6,
   "id": "340410af",
   "metadata": {},
   "outputs": [
    {
     "name": "stdout",
     "output_type": "stream",
     "text": [
      "special parameter : this is spec1\n",
      "10\n",
      "12.5\n",
      "123.456\n",
      "khadar\n",
      "[12, 23, 56, 89, 78]\n"
     ]
    }
   ],
   "source": [
    "myFunArgs2(10,12.5,123.456,\"khadar\",[12,23,56,89,78],spec1=\"this is spec1\")"
   ]
  },
  {
   "cell_type": "code",
   "execution_count": 7,
   "id": "911d2e84",
   "metadata": {},
   "outputs": [],
   "source": [
    "def myFunKWArgs(**kwargs):\n",
    "    return kwargs"
   ]
  },
  {
   "cell_type": "code",
   "execution_count": 8,
   "id": "f99f3b6b",
   "metadata": {},
   "outputs": [
    {
     "data": {
      "text/plain": [
       "{'a': [10, 20, 30], 'b': 'khadar', 'c': ['pwskills', 'python']}"
      ]
     },
     "execution_count": 8,
     "metadata": {},
     "output_type": "execute_result"
    }
   ],
   "source": [
    "myFunKWArgs(a=[10,20,30],b=\"khadar\",c=[\"pwskills\",\"python\"])"
   ]
  },
  {
   "cell_type": "code",
   "execution_count": 9,
   "id": "9ef5e149",
   "metadata": {},
   "outputs": [],
   "source": [
    "ll=dict(a=[10,20,30],b=\"khadar\",c=[\"pwskills\",\"python\"])"
   ]
  },
  {
   "cell_type": "code",
   "execution_count": 66,
   "id": "5e77a207",
   "metadata": {},
   "outputs": [],
   "source": [
    "myFunKWArgs3=lambda **kwargs:kwargs"
   ]
  },
  {
   "cell_type": "code",
   "execution_count": 67,
   "id": "4658e8d8",
   "metadata": {},
   "outputs": [
    {
     "data": {
      "text/plain": [
       "{'a': [10, 20, 30], 'b': 'khadar', 'c': ['pwskills', 'python']}"
      ]
     },
     "execution_count": 67,
     "metadata": {},
     "output_type": "execute_result"
    }
   ],
   "source": [
    "myFunKWArgs3(a=[10,20,30],b=\"khadar\",c=[\"pwskills\",\"python\"])"
   ]
  },
  {
   "cell_type": "code",
   "execution_count": 68,
   "id": "76250e96",
   "metadata": {},
   "outputs": [],
   "source": [
    "myFunArgs3=lambda *args:args"
   ]
  },
  {
   "cell_type": "code",
   "execution_count": 69,
   "id": "ffee3605",
   "metadata": {},
   "outputs": [
    {
     "data": {
      "text/plain": [
       "(10, 12.5, 123.456, 'khadar', [12, 23, 56, 89, 78])"
      ]
     },
     "execution_count": 69,
     "metadata": {},
     "output_type": "execute_result"
    }
   ],
   "source": [
    "myFunArgs3(10,12.5,123.456,\"khadar\",[12,23,56,89,78])"
   ]
  },
  {
   "cell_type": "raw",
   "id": "35afff38",
   "metadata": {},
   "source": [
    "Q4. What is a generator function in python? Why yield keyword is used? Give an example of a generator\n",
    "function."
   ]
  },
  {
   "cell_type": "raw",
   "id": "d563da16",
   "metadata": {},
   "source": [
    "a generator is a function that returns an iterator that produces a sequence of values when iterated over.\n",
    "\n",
    "Generators are useful when we want to produce a large sequence of values, but we don't want to store all of them in memory at once.\n",
    "\n",
    "we can define a generator function using the def keyword, but instead of the return statement we use the yield statement.\n",
    "def generator_name(arg):\n",
    "    # statements\n",
    "    yield something\n",
    "\n",
    "the yield keyword is used to produce a value from the generator"
   ]
  },
  {
   "cell_type": "code",
   "execution_count": 71,
   "id": "728f5d9f",
   "metadata": {},
   "outputs": [],
   "source": [
    "def generateSequenceOfNumbers(n):\n",
    "    value=0\n",
    "    while value<n:\n",
    "        yield value\n",
    "        value=value+1"
   ]
  },
  {
   "cell_type": "code",
   "execution_count": 72,
   "id": "22ea5bde",
   "metadata": {},
   "outputs": [
    {
     "data": {
      "text/plain": [
       "<generator object generateSequenceOfNumbers at 0x000001C93E532DD0>"
      ]
     },
     "execution_count": 72,
     "metadata": {},
     "output_type": "execute_result"
    }
   ],
   "source": [
    "generateSequenceOfNumbers(10)"
   ]
  },
  {
   "cell_type": "code",
   "execution_count": 73,
   "id": "9c256e0c",
   "metadata": {},
   "outputs": [
    {
     "name": "stdout",
     "output_type": "stream",
     "text": [
      "0\n",
      "1\n",
      "2\n",
      "3\n",
      "4\n",
      "5\n",
      "6\n",
      "7\n",
      "8\n",
      "9\n"
     ]
    }
   ],
   "source": [
    "for value in generateSequenceOfNumbers(10):\n",
    "    print(value)"
   ]
  },
  {
   "cell_type": "code",
   "execution_count": 74,
   "id": "84d74db6",
   "metadata": {},
   "outputs": [
    {
     "data": {
      "text/plain": [
       "<generator object generateSequenceOfNumbers at 0x000001C93E53B0B0>"
      ]
     },
     "execution_count": 74,
     "metadata": {},
     "output_type": "execute_result"
    }
   ],
   "source": [
    "generateSequenceOfNumbers(10)"
   ]
  },
  {
   "cell_type": "raw",
   "id": "c60edf0b",
   "metadata": {},
   "source": [
    "Q5. Create a generator function for prime numbers less than 1000. Use the next() method to print the\n",
    "first 20 prime numbers.\n",
    "\n",
    "Prime numbers are a subset of natural numbers whose factors are only 1 and the number itself.\n",
    "Algorithm\n",
    "1.Initialize a for loop starting from 2 and ending at the number \n",
    "2.Check if the number is divisible by 2\n",
    "3.Repeat till the number -1 is checked for\n",
    "4.In case, the number is divisible by any of the numbers, the number is not prime\n",
    "5.Else, it is a prime number"
   ]
  },
  {
   "cell_type": "code",
   "execution_count": 96,
   "id": "5d661155",
   "metadata": {},
   "outputs": [],
   "source": [
    "def checkPrime(n):\n",
    "    for i in range(2,n):\n",
    "        if n%i==0:\n",
    "            break\n",
    "    else:\n",
    "        yield n"
   ]
  },
  {
   "cell_type": "code",
   "execution_count": 100,
   "id": "743af716",
   "metadata": {},
   "outputs": [
    {
     "ename": "StopIteration",
     "evalue": "",
     "output_type": "error",
     "traceback": [
      "\u001b[1;31m---------------------------------------------------------------------------\u001b[0m",
      "\u001b[1;31mStopIteration\u001b[0m                             Traceback (most recent call last)",
      "\u001b[1;32m~\\AppData\\Local\\Temp\\ipykernel_15048\\2589151831.py\u001b[0m in \u001b[0;36m<module>\u001b[1;34m\u001b[0m\n\u001b[0;32m      1\u001b[0m \u001b[1;32mfor\u001b[0m \u001b[0mi\u001b[0m \u001b[1;32min\u001b[0m \u001b[0mrange\u001b[0m\u001b[1;33m(\u001b[0m\u001b[1;36m21\u001b[0m\u001b[1;33m,\u001b[0m\u001b[1;36m1000\u001b[0m\u001b[1;33m)\u001b[0m\u001b[1;33m:\u001b[0m\u001b[1;33m\u001b[0m\u001b[1;33m\u001b[0m\u001b[0m\n\u001b[1;32m----> 2\u001b[1;33m     \u001b[0mprint\u001b[0m\u001b[1;33m(\u001b[0m\u001b[0mnext\u001b[0m\u001b[1;33m(\u001b[0m\u001b[0mcheckPrime\u001b[0m\u001b[1;33m(\u001b[0m\u001b[0mi\u001b[0m\u001b[1;33m)\u001b[0m\u001b[1;33m)\u001b[0m\u001b[1;33m)\u001b[0m\u001b[1;33m\u001b[0m\u001b[1;33m\u001b[0m\u001b[0m\n\u001b[0m",
      "\u001b[1;31mStopIteration\u001b[0m: "
     ]
    }
   ],
   "source": [
    "pgenerator=for i in range(21,1000):\n",
    "    print(next(checkPrime(i)))"
   ]
  },
  {
   "cell_type": "code",
   "execution_count": null,
   "id": "c9e6794a",
   "metadata": {},
   "outputs": [],
   "source": []
  },
  {
   "cell_type": "code",
   "execution_count": null,
   "id": "d03e48eb",
   "metadata": {},
   "outputs": [],
   "source": []
  }
 ],
 "metadata": {
  "kernelspec": {
   "display_name": "Python 3 (ipykernel)",
   "language": "python",
   "name": "python3"
  },
  "language_info": {
   "codemirror_mode": {
    "name": "ipython",
    "version": 3
   },
   "file_extension": ".py",
   "mimetype": "text/x-python",
   "name": "python",
   "nbconvert_exporter": "python",
   "pygments_lexer": "ipython3",
   "version": "3.9.13"
  }
 },
 "nbformat": 4,
 "nbformat_minor": 5
}
