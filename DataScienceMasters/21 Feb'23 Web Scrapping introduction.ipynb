{
 "cells": [
  {
   "cell_type": "code",
   "execution_count": 34,
   "id": "843d354d",
   "metadata": {},
   "outputs": [],
   "source": [
    "# context = ssl._create_unverified_context()\n",
    "# flipcart_url=\"https://www.flipkart.com/search?q=\"+\"iphone12pro\"\n",
    "# flipcart_url = \"https://www.flipkart.com/search?q=\" + \"tv\""
   ]
  },
  {
   "cell_type": "code",
   "execution_count": 35,
   "id": "3ff0ff88",
   "metadata": {},
   "outputs": [],
   "source": [
    "#flipcart_url"
   ]
  },
  {
   "cell_type": "code",
   "execution_count": 36,
   "id": "f5ca6c97",
   "metadata": {},
   "outputs": [],
   "source": [
    "# req = Request(url=flipcart_url,headers={'User-Agent':' Mozilla/5.0 (Windows NT 6.1; WOW64; rv:12.0) Gecko/20100101 Firefox/12.0'})\n",
    "# try:\n",
    "#     urlclient=urlopen(req)\n",
    "# except HTTPError as e:\n",
    "#     print(e)"
   ]
  },
  {
   "cell_type": "code",
   "execution_count": 103,
   "id": "0cdfad28",
   "metadata": {},
   "outputs": [],
   "source": [
    "#from autoscraper import AutoScraper"
   ]
  },
  {
   "cell_type": "code",
   "execution_count": 113,
   "id": "a9146617",
   "metadata": {},
   "outputs": [],
   "source": [
    "# amazon_url=\"https://www.amazon.in/s?k=iphones\"\n",
    "\n",
    "# proxies = {\n",
    "#     \"http\": '127.0.0.1:5000',\n",
    "#     \"http\": '192.168.0.4:5000',\n",
    "# }\n",
    "\n",
    "# wanted_list =[\"New Apple iPhone 11 (128GB) - Black\",\"₹58,400\"]\n",
    "# scraper =AutoScraper()\n",
    "# result=scraper.build(amazon_url,wanted_list)\n",
    "# print(result)"
   ]
  },
  {
   "cell_type": "code",
   "execution_count": 116,
   "id": "e50eac1e",
   "metadata": {},
   "outputs": [
    {
     "name": "stdout",
     "output_type": "stream",
     "text": [
      "<http.client.HTTPResponse object at 0x0000017CE7B3D070>\n"
     ]
    }
   ],
   "source": [
    "import requests\n",
    "from bs4 import BeautifulSoup as bs\n",
    "from urllib.request import urlopen,Request\n",
    "from urllib.error import HTTPError\n",
    "import logging\n",
    "import ssl\n",
    "import random\n",
    "\n",
    "try:\n",
    "    urlclient=urlopen(\"https://en.wikipedia.org/wiki/List_of_largest_companies_in_the_United_States_by_revenue\")\n",
    "    print(urlclient)\n",
    "except HTTPError as e:\n",
    "    print(e)"
   ]
  },
  {
   "cell_type": "code",
   "execution_count": null,
   "id": "addc9692",
   "metadata": {},
   "outputs": [],
   "source": []
  }
 ],
 "metadata": {
  "kernelspec": {
   "display_name": "Python 3 (ipykernel)",
   "language": "python",
   "name": "python3"
  },
  "language_info": {
   "codemirror_mode": {
    "name": "ipython",
    "version": 3
   },
   "file_extension": ".py",
   "mimetype": "text/x-python",
   "name": "python",
   "nbconvert_exporter": "python",
   "pygments_lexer": "ipython3",
   "version": "3.9.13"
  }
 },
 "nbformat": 4,
 "nbformat_minor": 5
}
