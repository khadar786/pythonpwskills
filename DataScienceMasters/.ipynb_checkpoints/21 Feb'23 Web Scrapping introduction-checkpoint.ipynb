{
 "cells": [
  {
   "cell_type": "code",
   "execution_count": 33,
   "id": "c8d96069",
   "metadata": {},
   "outputs": [],
   "source": [
    "# import requests\n",
    "# from bs4 import BeautifulSoup as bs\n",
    "# from urllib.request import urlopen,Request\n",
    "# from urllib.error import HTTPError\n",
    "# import logging\n",
    "# import ssl\n",
    "# import random"
   ]
  },
  {
   "cell_type": "code",
   "execution_count": 34,
   "id": "843d354d",
   "metadata": {},
   "outputs": [],
   "source": [
    "# context = ssl._create_unverified_context()\n",
    "# flipcart_url=\"https://www.flipkart.com/search?q=\"+\"iphone12pro\"\n",
    "# flipcart_url = \"https://www.flipkart.com/search?q=\" + \"tv\""
   ]
  },
  {
   "cell_type": "code",
   "execution_count": 35,
   "id": "3ff0ff88",
   "metadata": {},
   "outputs": [],
   "source": [
    "#flipcart_url"
   ]
  },
  {
   "cell_type": "code",
   "execution_count": 36,
   "id": "f5ca6c97",
   "metadata": {},
   "outputs": [],
   "source": [
    "# req = Request(url=flipcart_url,headers={'User-Agent':' Mozilla/5.0 (Windows NT 6.1; WOW64; rv:12.0) Gecko/20100101 Firefox/12.0'})\n",
    "# try:\n",
    "#     urlclient=urlopen(req)\n",
    "# except HTTPError as e:\n",
    "#     print(e)"
   ]
  },
  {
   "cell_type": "code",
   "execution_count": 38,
   "id": "0cdfad28",
   "metadata": {},
   "outputs": [],
   "source": [
    "from autoscraper import AutoScraper"
   ]
  },
  {
   "cell_type": "code",
   "execution_count": 71,
   "id": "5b9bc90b",
   "metadata": {},
   "outputs": [],
   "source": [
    "flipcart_url=\"https://www.flipkart.com/search?q=iphone11\"\n",
    "\n",
    "proxies = {\n",
    "    \"http\": 'http://50.168.72.113:80',\n",
    "    \"https\": '50.168.163.183:80',\n",
    "}\n"
   ]
  },
  {
   "cell_type": "code",
   "execution_count": 72,
   "id": "9876acff",
   "metadata": {},
   "outputs": [
    {
     "name": "stdout",
     "output_type": "stream",
     "text": [
      "['₹43,900', '₹95,69918% off', '₹1,40,300', '₹48,900', '₹95,699₹1,09,90012% off', '₹95,699₹1,17,10018% off', '₹1,50,800', '₹1,18,199₹1,40,30015% off', '₹87,099₹1,06,60018% off', '₹1,00,699₹1,21,30016% off']\n"
     ]
    }
   ],
   "source": [
    "wanted_list =[\"₹43,900\"]\n",
    "scraper =AutoScraper()\n",
    "result=scraper.build(flipcart_url,wanted_list)\n",
    "print(result)"
   ]
  },
  {
   "cell_type": "code",
   "execution_count": null,
   "id": "a9be270d",
   "metadata": {},
   "outputs": [],
   "source": []
  },
  {
   "cell_type": "code",
   "execution_count": null,
   "id": "c2a56a67",
   "metadata": {},
   "outputs": [],
   "source": []
  }
 ],
 "metadata": {
  "kernelspec": {
   "display_name": "Python 3 (ipykernel)",
   "language": "python",
   "name": "python3"
  },
  "language_info": {
   "codemirror_mode": {
    "name": "ipython",
    "version": 3
   },
   "file_extension": ".py",
   "mimetype": "text/x-python",
   "name": "python",
   "nbconvert_exporter": "python",
   "pygments_lexer": "ipython3",
   "version": "3.9.13"
  }
 },
 "nbformat": 4,
 "nbformat_minor": 5
}
