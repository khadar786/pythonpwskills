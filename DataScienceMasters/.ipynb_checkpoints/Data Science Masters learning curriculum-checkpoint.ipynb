{
 "cells": [
  {
   "cell_type": "code",
   "execution_count": 2,
   "id": "0efb6f26",
   "metadata": {},
   "outputs": [],
   "source": [
    "#Day1 -Data Science MAsters\n",
    "#http://localhost:8888/notebooks/DataScienceMasters/Day1%20-Data%20Science%20MAsters.ipynb\n",
    "\n",
    "#1_Python_Programming_Language_Overview\n",
    "#http://localhost:8888/notebooks/DataScienceMasters/1_Python_Programming_Language_Overview.ipynb"
   ]
  },
  {
   "cell_type": "code",
   "execution_count": 4,
   "id": "6138df0d",
   "metadata": {},
   "outputs": [],
   "source": [
    "# 30th Jan Live Class python Conditions,if,else,ifelif, while,for loops and llop controls\n",
    "\n",
    "#http://localhost:8888/notebooks/DataScienceMasters/Day_2_Control_Flow.ipynb\n",
    "#http://localhost:8888/notebooks/DataScienceMasters/Day%202%20Python%20Condition%20and%20Loops%20.ipynb"
   ]
  },
  {
   "cell_type": "code",
   "execution_count": 6,
   "id": "d01e61c7",
   "metadata": {},
   "outputs": [],
   "source": [
    "#31st Jan Live Class String_manipulation_and_methods ,Expressions,_Operators,_and_Precedence\n",
    "#http://localhost:8888/notebooks/DataScienceMasters/Day%203-%20Python%20Operators%20and%20Lists%20(1).ipynb\n",
    "#http://localhost:8888/notebooks/DataScienceMasters/Expressions%2C_Operators%2C_and_Precedence.ipynb\n",
    "#http://localhost:8888/notebooks/DataScienceMasters/String_manipulation_and_methods.ipynb"
   ]
  },
  {
   "cell_type": "code",
   "execution_count": 7,
   "id": "8631465f",
   "metadata": {},
   "outputs": [],
   "source": [
    "#1st Feb Live Class Strings List\n",
    "#krishnaik\n",
    "#http://localhost:8888/notebooks/DataScienceMasters/Krishnaik/Day%204%20Strings%20List.ipynb\n",
    "#http://localhost:8888/notebooks/DataScienceMasters/%201st%20Feb%20Live%20Class%20Strings%20List.ipynb"
   ]
  },
  {
   "cell_type": "code",
   "execution_count": 8,
   "id": "af8bd5e0",
   "metadata": {},
   "outputs": [],
   "source": [
    "#2 Feb'23 Tuples, Set, Dictionaries & Its Working\n",
    "#http://localhost:8888/notebooks/DataScienceMasters/Sudhanshu/2%20Feb'23%20Tuples%2C%20Set%2C%20Dictionaries%20%26%20Its%20Working/Tuple%20Eng.ipynb\n",
    "#http://localhost:8888/notebooks/DataScienceMasters/Sudhanshu/2%20Feb'23%20Tuples%2C%20Set%2C%20Dictionaries%20%26%20Its%20Working/sets.ipynb\n",
    "#http://localhost:8888/notebooks/DataScienceMasters/Sudhanshu/2%20Feb'23%20Tuples%2C%20Set%2C%20Dictionaries%20%26%20Its%20Working/Dict%20Eng.ipynb"
   ]
  },
  {
   "cell_type": "code",
   "execution_count": 3,
   "id": "9c43bb2a",
   "metadata": {},
   "outputs": [],
   "source": [
    "#3 Feb'23 Function\n",
    "#Functions Basics, Parameter Passing, Iterators.\n",
    "#Generator Functions\n",
    "#http://localhost:8888/notebooks/DataScienceMasters/3%20Feb'23%20Function%20Basics%2C%20Parameter%20Passing%2C%20Iterators%2C%20Generator%20Functions.ipynb"
   ]
  },
  {
   "cell_type": "code",
   "execution_count": 4,
   "id": "fc72bc86",
   "metadata": {},
   "outputs": [],
   "source": [
    "#4 Feb'23 Function\n",
    "#Lambda Functions\n",
    "#Map, Reduce, Filter Functions.\n",
    "#http://localhost:8888/notebooks/DataScienceMasters/4th%20Feb'23%20Functions%20Lambda%2CMap%2CReduce%20and%20Filter.ipynb"
   ]
  },
  {
   "cell_type": "code",
   "execution_count": 1,
   "id": "f84e23c3",
   "metadata": {},
   "outputs": [],
   "source": [
    "#5th Feb'23 OOPS\n",
    "#Polymorphism\n",
    "#Encapsulation\n",
    "#Inheritance\n",
    "#Abstraction\n",
    "#http://localhost:8888/notebooks/DataScienceMasters/5th%20Feb'23%20OOPS.ipynb"
   ]
  },
  {
   "cell_type": "code",
   "execution_count": 2,
   "id": "269c8882",
   "metadata": {},
   "outputs": [],
   "source": [
    "#10th Feb'23 OOPs Concepts\n",
    "#Decorators\n",
    "#Class Methods\n",
    "#Static Method\n",
    "#Special(Magic / Dunder) Methods\n",
    "#http://localhost:8888/notebooks/DataScienceMasters/10th%20Feb'23%20OOPs%20Concepts.ipynb"
   ]
  },
  {
   "cell_type": "code",
   "execution_count": 9,
   "id": "7ee82ab5",
   "metadata": {},
   "outputs": [],
   "source": [
    "#11 Feb'23 Files\n",
    "##########Working With Files\n",
    "#File open,write,append and read\n",
    "#rename,open file with other pattern\n",
    "#Module : os,shutil\n",
    "#import os\n",
    "#import shutil\n",
    "#http://localhost:8888/notebooks/DataScienceMasters/11%20Feb%2023%20Working%20With%20Files.ipynb\n",
    "\n",
    "##########Reading And Writing Files\n",
    "#import json\n",
    "#import csv\n",
    "#binary finle write and read\n",
    "#http://localhost:8888/notebooks/DataScienceMasters/11%20Feb%2023%20Reading%20And%20Writing%20Files.ipynb\n",
    "\n",
    "###############Buffered Read And Write Other File Methods\n",
    "#import io\n",
    "#BufferedWrite,BufferedRead\n",
    "#http://localhost:8888/notebooks/DataScienceMasters/11%20Feb%2023%20Buffered%20Read%20And%20Write%20Other%20File%20Methods.ipynb\n",
    "\n",
    "##############Logging Debugger\n",
    "#import logging\n",
    "##Hierarchy of logging\n",
    "# 1.NOSET\n",
    "# 2.DEBUG\n",
    "# 3.INFO\n",
    "# 4.WARNING\n",
    "# 5.ERROR\n",
    "# 6.CRITICAL\n",
    "#http://localhost:8888/notebooks/DataScienceMasters/11%20Feb%2023%20Logging%20Debugger.ipynb\n",
    "\n",
    "#############Modules And Import Statements\n",
    "#F:\\Python\\Jupyter\\DataScienceMasters\\pwskills\n",
    "# import os,sys\n",
    "# from os.path import dirname,join,abspath\n",
    "# sys.path.insert(0,abspath(join(dirname(__file__),'..')))"
   ]
  },
  {
   "cell_type": "code",
   "execution_count": 2,
   "id": "38f868c6",
   "metadata": {},
   "outputs": [],
   "source": [
    "#12 Feb'23 Exception Handling\n",
    "#Exceptions Handling With Try Except\n",
    "#http://localhost:8888/notebooks/DataScienceMasters/11%20Feb%2023%20Exceptions%20Handling%20With%20Try%20Except.ipynb\n",
    "#Custom Exception Handling\n",
    "#http://localhost:8888/notebooks/DataScienceMasters/11%20Feb%2023%20%20Custom%20Exception%20Handling.ipynb\n",
    "\n",
    "#13 Feb'23 Exception Handling\n",
    "#List Of General Use Exceptions\n",
    "#http://localhost:8888/notebooks/DataScienceMasters/13%20Feb%2023%20List%20Of%20General%20Use%20Exceptions.ipynb\n",
    "#Best Practice Exception Handling\n",
    "#http://localhost:8888/notebooks/DataScienceMasters/13%20Feb%2023%20Best%20Practice%20Exception%20Handling.ipynb"
   ]
  },
  {
   "cell_type": "code",
   "execution_count": 4,
   "id": "35604642",
   "metadata": {},
   "outputs": [],
   "source": [
    "#14th Feb'23 Multithreading\n",
    "#http://localhost:8888/notebooks/DataScienceMasters/14%20Feb%2023%20Multithreading.ipynb"
   ]
  },
  {
   "cell_type": "code",
   "execution_count": 7,
   "id": "e25d5ce3",
   "metadata": {},
   "outputs": [],
   "source": [
    "#15 Feb'23 Memory Management\n",
    "#http://localhost:8888/notebooks/DataScienceMasters/15%20Feb'23%20Memory%20Management.ipynb\n",
    "##F:\\Python\\Jupyter\\DataScienceMasters\\multiprocessing_prog.py\n",
    "#F:\\Python\\Jupyter\\DataScienceMasters\\multiprocessing_prog2.py\n",
    "#https://colab.research.google.com/drive/1ijMu8qK8XcTfDyd10M5FTSBRntPNcg0U#scrollTo=S0MuXwB_eBYT"
   ]
  },
  {
   "cell_type": "code",
   "execution_count": 1,
   "id": "caeb0d39",
   "metadata": {},
   "outputs": [],
   "source": [
    "#16 Feb'23 Database (MySQL)\n",
    "#Working with SQL\n",
    "#F:\\Python\\Jupyter\\DataScienceMasters\\WorkingwithSQL"
   ]
  },
  {
   "cell_type": "code",
   "execution_count": 2,
   "id": "b2720209",
   "metadata": {},
   "outputs": [],
   "source": [
    "#17 Feb'23 Database (MongoDB)\n",
    "#Working with MongoDB\n",
    "#F:\\Python\\Jupyter\\DataScienceMasters\\WorkingwithMongoDB"
   ]
  },
  {
   "cell_type": "code",
   "execution_count": 3,
   "id": "cf88c82a",
   "metadata": {},
   "outputs": [],
   "source": [
    "#19 Feb'23 Flask\n",
    "#F:\\Python\\Jupyter\\FlaskProjects\\FlaskBasics1"
   ]
  },
  {
   "cell_type": "code",
   "execution_count": null,
   "id": "fa589284",
   "metadata": {},
   "outputs": [],
   "source": [
    "#21 Feb'23 Flask\n",
    "#F:\\Python\\Jupyter\\FlaskProjects\\FlaskBasics2"
   ]
  }
 ],
 "metadata": {
  "kernelspec": {
   "display_name": "Python 3 (ipykernel)",
   "language": "python",
   "name": "python3"
  },
  "language_info": {
   "codemirror_mode": {
    "name": "ipython",
    "version": 3
   },
   "file_extension": ".py",
   "mimetype": "text/x-python",
   "name": "python",
   "nbconvert_exporter": "python",
   "pygments_lexer": "ipython3",
   "version": "3.9.13"
  }
 },
 "nbformat": 4,
 "nbformat_minor": 5
}
