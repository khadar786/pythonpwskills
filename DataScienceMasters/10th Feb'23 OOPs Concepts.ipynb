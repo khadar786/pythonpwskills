{
 "cells": [
  {
   "cell_type": "code",
   "execution_count": 1,
   "id": "0973cf10",
   "metadata": {},
   "outputs": [
    {
     "data": {
      "text/plain": [
       "'\\nDecorators are a very powerful and useful tool in Python since it allows programmers to modify \\nthe behaviour of a function or class. Decorators allow us to wrap another function in order to extend \\nthe behaviour of the wrapped function, without permanently modifying it.\\n'"
      ]
     },
     "execution_count": 1,
     "metadata": {},
     "output_type": "execute_result"
    }
   ],
   "source": [
    "#Decorators\n",
    "#Class Methods\n",
    "#Static Method\n",
    "#Special(Magic/Dunder) Methods\n",
    "#Property Decorators - Getters,Setters And Deletes\n",
    "\"\"\"\n",
    "Decorators are a very powerful and useful tool in Python since it allows programmers to modify \n",
    "the behaviour of a function or class. Decorators allow us to wrap another function in order to extend \n",
    "the behaviour of the wrapped function, without permanently modifying it.\n",
    "\"\"\""
   ]
  },
  {
   "cell_type": "code",
   "execution_count": 2,
   "id": "35e190e9",
   "metadata": {},
   "outputs": [],
   "source": [
    "def test():\n",
    "    print(\"this is the start of my fun\")\n",
    "    print(4+5)\n",
    "    print(\"this is the end of my fun\")"
   ]
  },
  {
   "cell_type": "code",
   "execution_count": 3,
   "id": "378dd0c4",
   "metadata": {},
   "outputs": [
    {
     "name": "stdout",
     "output_type": "stream",
     "text": [
      "this is the start of my fun\n",
      "9\n",
      "this is the end of my fun\n"
     ]
    }
   ],
   "source": [
    "test()"
   ]
  },
  {
   "cell_type": "code",
   "execution_count": 4,
   "id": "33f30c8b",
   "metadata": {},
   "outputs": [],
   "source": [
    "def deco(func):\n",
    "    def inner_deco():\n",
    "        print(\"this is the start of my fun\")\n",
    "        func()\n",
    "        print(\"this is the end of my fun\")\n",
    "    return inner_deco"
   ]
  },
  {
   "cell_type": "code",
   "execution_count": 5,
   "id": "dd0fd6dc",
   "metadata": {},
   "outputs": [],
   "source": [
    "@deco\n",
    "def test1():\n",
    "    print(4+5)"
   ]
  },
  {
   "cell_type": "code",
   "execution_count": 6,
   "id": "e55054dd",
   "metadata": {},
   "outputs": [
    {
     "name": "stdout",
     "output_type": "stream",
     "text": [
      "this is the start of my fun\n",
      "9\n",
      "this is the end of my fun\n"
     ]
    }
   ],
   "source": [
    "test1()"
   ]
  },
  {
   "cell_type": "code",
   "execution_count": 7,
   "id": "242b7a7d",
   "metadata": {},
   "outputs": [],
   "source": [
    "import time\n",
    "def timer_test(func):\n",
    "    def timer_test_inner():\n",
    "        start=time.time()\n",
    "        print(\"start time: \",start)\n",
    "        #time.sleep(2)\n",
    "        func()\n",
    "        end=time.time()\n",
    "        print(end-start)\n",
    "        print(\"end time: \",end)\n",
    "    return timer_test_inner"
   ]
  },
  {
   "cell_type": "code",
   "execution_count": 8,
   "id": "454645f3",
   "metadata": {},
   "outputs": [],
   "source": [
    "@timer_test\n",
    "def test2():\n",
    "    print(100+200+100+200+100+200+100+200+100+200+100+200+100+200)"
   ]
  },
  {
   "cell_type": "code",
   "execution_count": 9,
   "id": "5fd9540d",
   "metadata": {},
   "outputs": [
    {
     "name": "stdout",
     "output_type": "stream",
     "text": [
      "start time:  1699810251.69095\n",
      "2100\n",
      "0.0\n",
      "end time:  1699810251.69095\n"
     ]
    }
   ],
   "source": [
    "test2()"
   ]
  },
  {
   "cell_type": "code",
   "execution_count": 10,
   "id": "a402c5ae",
   "metadata": {},
   "outputs": [],
   "source": [
    "@timer_test\n",
    "def test3():\n",
    "    for i in range(100000):\n",
    "        pass"
   ]
  },
  {
   "cell_type": "code",
   "execution_count": 11,
   "id": "dd3a53cb",
   "metadata": {},
   "outputs": [
    {
     "name": "stdout",
     "output_type": "stream",
     "text": [
      "start time:  1699810251.7224896\n",
      "0.0020003318786621094\n",
      "end time:  1699810251.72449\n"
     ]
    }
   ],
   "source": [
    "test3()"
   ]
  },
  {
   "cell_type": "code",
   "execution_count": 12,
   "id": "55ffed1b",
   "metadata": {},
   "outputs": [],
   "source": [
    "#Class Methods\n",
    "#Python has a built-in function called classmethod() that gives a class method of the specified function.\n",
    "#classmethod( function )\n",
    "##\n",
    "#@classmethod\n",
    "#def func(cls, args...)\n",
    "##\n",
    "#The classmethod() methods are bound to a class rather than an object"
   ]
  },
  {
   "cell_type": "code",
   "execution_count": 13,
   "id": "018446d8",
   "metadata": {},
   "outputs": [],
   "source": [
    "class pwskills:\n",
    "    def __init__(self,name,email):\n",
    "        self.name=name\n",
    "        self.email=email\n",
    "    \n",
    "    def student_details(self):\n",
    "        print(self.name,self.email)"
   ]
  },
  {
   "cell_type": "code",
   "execution_count": 14,
   "id": "50150403",
   "metadata": {},
   "outputs": [],
   "source": [
    "pw=pwskills(\"sudh\",\"sudh@gmail.com\")"
   ]
  },
  {
   "cell_type": "code",
   "execution_count": 15,
   "id": "45d14d25",
   "metadata": {},
   "outputs": [
    {
     "data": {
      "text/plain": [
       "'sudh'"
      ]
     },
     "execution_count": 15,
     "metadata": {},
     "output_type": "execute_result"
    }
   ],
   "source": [
    "pw.name"
   ]
  },
  {
   "cell_type": "code",
   "execution_count": 16,
   "id": "bd910135",
   "metadata": {},
   "outputs": [
    {
     "data": {
      "text/plain": [
       "'sudh@gmail.com'"
      ]
     },
     "execution_count": 16,
     "metadata": {},
     "output_type": "execute_result"
    }
   ],
   "source": [
    "pw.email"
   ]
  },
  {
   "cell_type": "code",
   "execution_count": 17,
   "id": "14627b32",
   "metadata": {},
   "outputs": [
    {
     "name": "stdout",
     "output_type": "stream",
     "text": [
      "sudh sudh@gmail.com\n"
     ]
    }
   ],
   "source": [
    "pw.student_details()"
   ]
  },
  {
   "cell_type": "code",
   "execution_count": 18,
   "id": "20f40a93",
   "metadata": {},
   "outputs": [],
   "source": [
    "class pwskills1:\n",
    "    def __init__(self,name,email):\n",
    "        self.name=name\n",
    "        self.email=email\n",
    "    \n",
    "    @classmethod\n",
    "    def details(cls,name,email):\n",
    "        return cls(name,email)\n",
    "    \n",
    "    def student_details(self):\n",
    "        print(self.name,self.email)"
   ]
  },
  {
   "cell_type": "code",
   "execution_count": 19,
   "id": "4ecc0f3a",
   "metadata": {},
   "outputs": [],
   "source": [
    "pw1=pwskills1.details(\"khadar\",\"khadar@gmail.com\")"
   ]
  },
  {
   "cell_type": "code",
   "execution_count": 20,
   "id": "470c389f",
   "metadata": {},
   "outputs": [
    {
     "data": {
      "text/plain": [
       "'khadar'"
      ]
     },
     "execution_count": 20,
     "metadata": {},
     "output_type": "execute_result"
    }
   ],
   "source": [
    "pw1.name"
   ]
  },
  {
   "cell_type": "code",
   "execution_count": 21,
   "id": "273b4983",
   "metadata": {},
   "outputs": [
    {
     "data": {
      "text/plain": [
       "'khadar@gmail.com'"
      ]
     },
     "execution_count": 21,
     "metadata": {},
     "output_type": "execute_result"
    }
   ],
   "source": [
    "pw1.email"
   ]
  },
  {
   "cell_type": "code",
   "execution_count": 22,
   "id": "de408064",
   "metadata": {},
   "outputs": [
    {
     "name": "stdout",
     "output_type": "stream",
     "text": [
      "khadar khadar@gmail.com\n"
     ]
    }
   ],
   "source": [
    "pw1.student_details()"
   ]
  },
  {
   "cell_type": "code",
   "execution_count": 23,
   "id": "b718bd3b",
   "metadata": {},
   "outputs": [],
   "source": [
    "class pwskills2:\n",
    "    mobile_number=950547878787\n",
    "    \n",
    "    def __init__(self,name,email):\n",
    "        self.name=name\n",
    "        self.email=email\n",
    "    \n",
    "    @classmethod\n",
    "    def change_number(cls,mobile):\n",
    "        pwskills2.mobile_number=mobile\n",
    "    \n",
    "    @classmethod\n",
    "    def details(cls,name,email):\n",
    "        return cls(name,email)\n",
    "    \n",
    "    def student_details(self):\n",
    "        print(self.name,self.email,pwskills2.mobile_number)"
   ]
  },
  {
   "cell_type": "code",
   "execution_count": 24,
   "id": "f5ac3a17",
   "metadata": {},
   "outputs": [
    {
     "data": {
      "text/plain": [
       "950547878787"
      ]
     },
     "execution_count": 24,
     "metadata": {},
     "output_type": "execute_result"
    }
   ],
   "source": [
    "pwskills2.mobile_number"
   ]
  },
  {
   "cell_type": "code",
   "execution_count": 25,
   "id": "eccba65c",
   "metadata": {},
   "outputs": [],
   "source": [
    "pwskills2.change_number(9565654654546)"
   ]
  },
  {
   "cell_type": "code",
   "execution_count": 26,
   "id": "5b5b2412",
   "metadata": {},
   "outputs": [
    {
     "data": {
      "text/plain": [
       "9565654654546"
      ]
     },
     "execution_count": 26,
     "metadata": {},
     "output_type": "execute_result"
    }
   ],
   "source": [
    "pwskills2.mobile_number"
   ]
  },
  {
   "cell_type": "code",
   "execution_count": 27,
   "id": "7d68f5c6",
   "metadata": {},
   "outputs": [],
   "source": [
    "pw2=pwskills2.details(\"sha\",\"test@gmail.com\")"
   ]
  },
  {
   "cell_type": "code",
   "execution_count": 28,
   "id": "700e43d7",
   "metadata": {},
   "outputs": [
    {
     "name": "stdout",
     "output_type": "stream",
     "text": [
      "sha test@gmail.com 9565654654546\n"
     ]
    }
   ],
   "source": [
    "pw2.student_details()"
   ]
  },
  {
   "cell_type": "code",
   "execution_count": 29,
   "id": "35164313",
   "metadata": {},
   "outputs": [],
   "source": [
    "pw2_obj=pwskills2(\"sha2\",\"test2@gmail.com\")"
   ]
  },
  {
   "cell_type": "code",
   "execution_count": 30,
   "id": "b7f97c54",
   "metadata": {},
   "outputs": [
    {
     "data": {
      "text/plain": [
       "<__main__.pwskills2 at 0x1d40326b610>"
      ]
     },
     "execution_count": 30,
     "metadata": {},
     "output_type": "execute_result"
    }
   ],
   "source": [
    "pw2_obj.details(\"sudh\",\"sudh@gmail.com\")"
   ]
  },
  {
   "cell_type": "code",
   "execution_count": 31,
   "id": "2a8e3638",
   "metadata": {},
   "outputs": [
    {
     "data": {
      "text/plain": [
       "'sha2'"
      ]
     },
     "execution_count": 31,
     "metadata": {},
     "output_type": "execute_result"
    }
   ],
   "source": [
    "pw2_obj.name"
   ]
  },
  {
   "cell_type": "code",
   "execution_count": 32,
   "id": "b8f9d563",
   "metadata": {},
   "outputs": [],
   "source": [
    "class pwskills3:\n",
    "    mobile_number=950547878787\n",
    "    \n",
    "    def __init__(self,name,email):\n",
    "        self.name=name\n",
    "        self.email=email\n",
    "    \n",
    "    @classmethod\n",
    "    def change_number(cls,mobile):\n",
    "        pwskills2.mobile_number=mobile\n",
    "    \n",
    "    @classmethod\n",
    "    def details(cls,name,email):\n",
    "        return cls(name,email)\n",
    "    \n",
    "    def student_details(self):\n",
    "        print(self.name,self.email,pwskills2.mobile_number)"
   ]
  },
  {
   "cell_type": "code",
   "execution_count": 33,
   "id": "d05f078b",
   "metadata": {},
   "outputs": [],
   "source": [
    "def course_details(cls,course_name):\n",
    "    print(\"course details\",course_name)"
   ]
  },
  {
   "cell_type": "code",
   "execution_count": 34,
   "id": "20a0b148",
   "metadata": {},
   "outputs": [],
   "source": [
    "pwskills3.course_details=classmethod(course_details)"
   ]
  },
  {
   "cell_type": "code",
   "execution_count": 35,
   "id": "a484b00e",
   "metadata": {},
   "outputs": [
    {
     "name": "stdout",
     "output_type": "stream",
     "text": [
      "course details data science masters\n"
     ]
    }
   ],
   "source": [
    "pwskills3.course_details(\"data science masters\")"
   ]
  },
  {
   "cell_type": "code",
   "execution_count": 36,
   "id": "7816cfcf",
   "metadata": {},
   "outputs": [],
   "source": [
    "pw3=pwskills3(\"sudh\",\"sudh@test.com\")"
   ]
  },
  {
   "cell_type": "code",
   "execution_count": 37,
   "id": "80776f25",
   "metadata": {},
   "outputs": [
    {
     "name": "stdout",
     "output_type": "stream",
     "text": [
      "course details Web Development\n"
     ]
    }
   ],
   "source": [
    "pw3.course_details(\"Web Development\")"
   ]
  },
  {
   "cell_type": "code",
   "execution_count": 38,
   "id": "a269c7a7",
   "metadata": {},
   "outputs": [],
   "source": [
    "class pwskills4:\n",
    "    mobile_number=950547878787\n",
    "    \n",
    "    def __init__(self,name,email):\n",
    "        self.name=name\n",
    "        self.email=email\n",
    "    \n",
    "    @classmethod\n",
    "    def change_number(cls,mobile):\n",
    "        pwskills2.mobile_number=mobile\n",
    "    \n",
    "    @classmethod\n",
    "    def details(cls,name,email):\n",
    "        return cls(name,email)\n",
    "    \n",
    "    def student_details(self):\n",
    "        print(self.name,self.email,pwskills2.mobile_number)"
   ]
  },
  {
   "cell_type": "code",
   "execution_count": 39,
   "id": "dbffb64b",
   "metadata": {},
   "outputs": [],
   "source": [
    "del pwskills4.change_number"
   ]
  },
  {
   "cell_type": "code",
   "execution_count": 40,
   "id": "708d3609",
   "metadata": {},
   "outputs": [
    {
     "ename": "AttributeError",
     "evalue": "type object 'pwskills4' has no attribute 'change_number'",
     "output_type": "error",
     "traceback": [
      "\u001b[1;31m---------------------------------------------------------------------------\u001b[0m",
      "\u001b[1;31mAttributeError\u001b[0m                            Traceback (most recent call last)",
      "\u001b[1;32m~\\AppData\\Local\\Temp\\ipykernel_2824\\855979349.py\u001b[0m in \u001b[0;36m<module>\u001b[1;34m\u001b[0m\n\u001b[1;32m----> 1\u001b[1;33m \u001b[0mpwskills4\u001b[0m\u001b[1;33m.\u001b[0m\u001b[0mchange_number\u001b[0m\u001b[1;33m(\u001b[0m\u001b[1;36m123456789\u001b[0m\u001b[1;33m)\u001b[0m\u001b[1;33m\u001b[0m\u001b[1;33m\u001b[0m\u001b[0m\n\u001b[0m",
      "\u001b[1;31mAttributeError\u001b[0m: type object 'pwskills4' has no attribute 'change_number'"
     ]
    }
   ],
   "source": [
    "pwskills4.change_number(123456789)"
   ]
  },
  {
   "cell_type": "code",
   "execution_count": null,
   "id": "6c55002e",
   "metadata": {},
   "outputs": [],
   "source": [
    "delattr(pwskills4,\"details\")"
   ]
  },
  {
   "cell_type": "code",
   "execution_count": null,
   "id": "6e622940",
   "metadata": {},
   "outputs": [],
   "source": [
    "delattr(pwskills4,\"mobile_number\")"
   ]
  },
  {
   "cell_type": "code",
   "execution_count": null,
   "id": "67195eb7",
   "metadata": {},
   "outputs": [],
   "source": [
    "#Static Method"
   ]
  },
  {
   "cell_type": "code",
   "execution_count": null,
   "id": "d4d53827",
   "metadata": {},
   "outputs": [],
   "source": [
    "class pwskills:\n",
    "    def student_details(self,name,mail_id,number):\n",
    "        print(name,mail_id,number)"
   ]
  },
  {
   "cell_type": "code",
   "execution_count": null,
   "id": "92aa8e57",
   "metadata": {},
   "outputs": [],
   "source": [
    "pw=pwskills()"
   ]
  },
  {
   "cell_type": "code",
   "execution_count": null,
   "id": "fbca9fcc",
   "metadata": {},
   "outputs": [],
   "source": [
    "pw.student_details(\"sudh\",\"sudh@gmail.com\",95464787778)"
   ]
  },
  {
   "cell_type": "code",
   "execution_count": null,
   "id": "300accac",
   "metadata": {},
   "outputs": [],
   "source": [
    "class pwskills1:\n",
    "    def student_details(self,name,mail_id,number):\n",
    "        print(name,mail_id,number)\n",
    "    \n",
    "    @staticmethod\n",
    "    def mentor_class(list_mentor):\n",
    "        print(list_mentor)\n",
    "    \n",
    "    def mentor(self,mentor_list):\n",
    "        print(mentor_list)"
   ]
  },
  {
   "cell_type": "code",
   "execution_count": null,
   "id": "87ce984f",
   "metadata": {},
   "outputs": [],
   "source": [
    "pw1=pwskills1()"
   ]
  },
  {
   "cell_type": "code",
   "execution_count": null,
   "id": "1d272883",
   "metadata": {},
   "outputs": [],
   "source": [
    "pw1.mentor([\"sudh\",\"kris\"])"
   ]
  },
  {
   "cell_type": "code",
   "execution_count": null,
   "id": "efd3fc34",
   "metadata": {},
   "outputs": [],
   "source": [
    "pwskills1.mentor_class([\"sudh\",\"kris\"])"
   ]
  },
  {
   "cell_type": "code",
   "execution_count": null,
   "id": "d9081655",
   "metadata": {},
   "outputs": [],
   "source": [
    "class pwskills1:\n",
    "    def student_details(self,name,mail_id,number):\n",
    "        print(name,mail_id,number)\n",
    "    \n",
    "    @staticmethod\n",
    "    def mentor_mail_id(mail_id):\n",
    "        print(mail_id)\n",
    "        \n",
    "    @staticmethod\n",
    "    def mentor_class(list_mentor):\n",
    "        print(list_mentor)\n",
    "        pwskills1.mentor_mail_id([\"k@gmail.com\",\"r@gmail.com\"])\n",
    "        \n",
    "    @classmethod\n",
    "    def class_name(cls,class_name):\n",
    "        cls.mentor_class([\"krish\",\"sudh\"])\n",
    "        \n",
    "    def mentor(self,mentor_list):\n",
    "        print(mentor_list)\n",
    "        self.mentor_class([\"krish\",\"sudh\"])"
   ]
  },
  {
   "cell_type": "code",
   "execution_count": null,
   "id": "e3f1ca83",
   "metadata": {},
   "outputs": [],
   "source": [
    "pw1=pwskills1()"
   ]
  },
  {
   "cell_type": "code",
   "execution_count": null,
   "id": "610f6daa",
   "metadata": {},
   "outputs": [],
   "source": [
    "pw1.student_details(\"mohan\",\"mohan@gmail.com\",958678787878)"
   ]
  },
  {
   "cell_type": "code",
   "execution_count": null,
   "id": "b685a909",
   "metadata": {},
   "outputs": [],
   "source": [
    "pw1.mentor_mail_id([\"k@gmail.com\",\"r@gmail.com\"])"
   ]
  },
  {
   "cell_type": "code",
   "execution_count": null,
   "id": "f73f4854",
   "metadata": {},
   "outputs": [],
   "source": [
    "pw1.class_name(\"data science masters\")"
   ]
  },
  {
   "cell_type": "code",
   "execution_count": null,
   "id": "2c05f8a4",
   "metadata": {},
   "outputs": [],
   "source": [
    "pwskills1.mentor_mail_id([\"k@gmail.com\",\"r@gmail.com\"])"
   ]
  },
  {
   "cell_type": "code",
   "execution_count": null,
   "id": "4d575825",
   "metadata": {},
   "outputs": [],
   "source": [
    "#Special (Magic/Dunder) Methods"
   ]
  },
  {
   "cell_type": "code",
   "execution_count": null,
   "id": "e7c817b7",
   "metadata": {},
   "outputs": [],
   "source": [
    "dir(int)"
   ]
  },
  {
   "cell_type": "code",
   "execution_count": null,
   "id": "fe6a3d61",
   "metadata": {},
   "outputs": [],
   "source": [
    "dir(float)"
   ]
  },
  {
   "cell_type": "code",
   "execution_count": null,
   "id": "dffed77c",
   "metadata": {},
   "outputs": [],
   "source": [
    "dir(range)"
   ]
  },
  {
   "cell_type": "code",
   "execution_count": null,
   "id": "504c03ea",
   "metadata": {},
   "outputs": [],
   "source": [
    "a=10"
   ]
  },
  {
   "cell_type": "code",
   "execution_count": null,
   "id": "d947c7ad",
   "metadata": {},
   "outputs": [],
   "source": [
    "a+6"
   ]
  },
  {
   "cell_type": "code",
   "execution_count": null,
   "id": "0931edce",
   "metadata": {},
   "outputs": [],
   "source": [
    "a.__add__(6)"
   ]
  },
  {
   "cell_type": "code",
   "execution_count": null,
   "id": "fb5a8965",
   "metadata": {},
   "outputs": [],
   "source": [
    "a.__mul__(6)"
   ]
  },
  {
   "cell_type": "code",
   "execution_count": null,
   "id": "36fb1626",
   "metadata": {},
   "outputs": [],
   "source": [
    "a.__sub__(6)"
   ]
  },
  {
   "cell_type": "code",
   "execution_count": null,
   "id": "adaca90f",
   "metadata": {},
   "outputs": [],
   "source": [
    "dir(str)"
   ]
  },
  {
   "cell_type": "code",
   "execution_count": null,
   "id": "74eb1090",
   "metadata": {},
   "outputs": [],
   "source": [
    "class pwskills:\n",
    "    \n",
    "    def __new__(cls):\n",
    "        print(\"this is my new\")\n",
    "        \n",
    "    def __init__(self):\n",
    "        print(\"this is my init\")"
   ]
  },
  {
   "cell_type": "code",
   "execution_count": null,
   "id": "23e478cd",
   "metadata": {},
   "outputs": [],
   "source": [
    "pw=pwskills()"
   ]
  },
  {
   "cell_type": "code",
   "execution_count": null,
   "id": "6930ab00",
   "metadata": {},
   "outputs": [],
   "source": [
    "class pwskills1:\n",
    "    def __init__(self):\n",
    "        self.maobile_number=9504876633\n",
    "    \n",
    "    def __str__(self):\n",
    "        return \"this is a magic method which will print something for object\""
   ]
  },
  {
   "cell_type": "code",
   "execution_count": null,
   "id": "51e4ac1d",
   "metadata": {},
   "outputs": [],
   "source": [
    "pw1=pwskills1()"
   ]
  },
  {
   "cell_type": "code",
   "execution_count": null,
   "id": "42c9acbc",
   "metadata": {},
   "outputs": [],
   "source": [
    "pw1"
   ]
  },
  {
   "cell_type": "code",
   "execution_count": null,
   "id": "928cc13c",
   "metadata": {},
   "outputs": [],
   "source": [
    "print(pw1)"
   ]
  },
  {
   "cell_type": "code",
   "execution_count": null,
   "id": "3962280e",
   "metadata": {},
   "outputs": [],
   "source": [
    "dir(tuple)"
   ]
  },
  {
   "cell_type": "code",
   "execution_count": null,
   "id": "b7a7cc7b",
   "metadata": {},
   "outputs": [],
   "source": [
    "dir(set)"
   ]
  },
  {
   "cell_type": "code",
   "execution_count": null,
   "id": "43c5e4e3",
   "metadata": {},
   "outputs": [],
   "source": [
    "dir(dict)"
   ]
  },
  {
   "cell_type": "code",
   "execution_count": null,
   "id": "a731fc99",
   "metadata": {},
   "outputs": [],
   "source": [
    "#Property Decorators - Getters,Setters And Deletes"
   ]
  },
  {
   "cell_type": "code",
   "execution_count": 42,
   "id": "eb718a36",
   "metadata": {},
   "outputs": [],
   "source": [
    "class pwskills:\n",
    "    \n",
    "    def __init__(self,course_price,course_name):\n",
    "        self.__course_price=course_price\n",
    "        self.course_name=course_name\n",
    "    \n",
    "    @property\n",
    "    def course_price_access(self):\n",
    "        return self.__course_price\n",
    "    \n",
    "    @course_price_access.setter\n",
    "    def course_price_set(self,price):\n",
    "        if price<=3500:\n",
    "            pass\n",
    "        else:\n",
    "            self.__course_price=price\n",
    "    \n",
    "    @course_price_access.deleter\n",
    "    def course_price_del(self):\n",
    "        del self.__course_price"
   ]
  },
  {
   "cell_type": "code",
   "execution_count": 43,
   "id": "7d518807",
   "metadata": {},
   "outputs": [],
   "source": [
    "pw=pwskills(3500,\"data science masters\")"
   ]
  },
  {
   "cell_type": "code",
   "execution_count": 44,
   "id": "ffec2657",
   "metadata": {},
   "outputs": [
    {
     "data": {
      "text/plain": [
       "'data science masters'"
      ]
     },
     "execution_count": 44,
     "metadata": {},
     "output_type": "execute_result"
    }
   ],
   "source": [
    "pw.course_name"
   ]
  },
  {
   "cell_type": "code",
   "execution_count": 45,
   "id": "713fd60b",
   "metadata": {},
   "outputs": [
    {
     "data": {
      "text/plain": [
       "3500"
      ]
     },
     "execution_count": 45,
     "metadata": {},
     "output_type": "execute_result"
    }
   ],
   "source": [
    "pw._pwskills__course_price"
   ]
  },
  {
   "cell_type": "code",
   "execution_count": 46,
   "id": "4bc4e0fe",
   "metadata": {},
   "outputs": [
    {
     "data": {
      "text/plain": [
       "3500"
      ]
     },
     "execution_count": 46,
     "metadata": {},
     "output_type": "execute_result"
    }
   ],
   "source": [
    "pw.course_price_access"
   ]
  },
  {
   "cell_type": "code",
   "execution_count": 47,
   "id": "4e64c147",
   "metadata": {},
   "outputs": [],
   "source": [
    "pw.course_price_set=2300"
   ]
  },
  {
   "cell_type": "code",
   "execution_count": 48,
   "id": "5cf4b278",
   "metadata": {},
   "outputs": [],
   "source": [
    "pw.course_price_set=4500"
   ]
  },
  {
   "cell_type": "code",
   "execution_count": 49,
   "id": "60f77c03",
   "metadata": {},
   "outputs": [
    {
     "data": {
      "text/plain": [
       "4500"
      ]
     },
     "execution_count": 49,
     "metadata": {},
     "output_type": "execute_result"
    }
   ],
   "source": [
    "pw.course_price_set"
   ]
  },
  {
   "cell_type": "code",
   "execution_count": 50,
   "id": "8fe38944",
   "metadata": {},
   "outputs": [],
   "source": [
    "del pw.course_price_del"
   ]
  },
  {
   "cell_type": "code",
   "execution_count": 51,
   "id": "927334eb",
   "metadata": {},
   "outputs": [
    {
     "ename": "AttributeError",
     "evalue": "'pwskills' object has no attribute '_pwskills__course_price'",
     "output_type": "error",
     "traceback": [
      "\u001b[1;31m---------------------------------------------------------------------------\u001b[0m",
      "\u001b[1;31mAttributeError\u001b[0m                            Traceback (most recent call last)",
      "\u001b[1;32m~\\AppData\\Local\\Temp\\ipykernel_2824\\682993649.py\u001b[0m in \u001b[0;36m<module>\u001b[1;34m\u001b[0m\n\u001b[1;32m----> 1\u001b[1;33m \u001b[0mpw\u001b[0m\u001b[1;33m.\u001b[0m\u001b[0mcourse_price_set\u001b[0m\u001b[1;33m\u001b[0m\u001b[1;33m\u001b[0m\u001b[0m\n\u001b[0m",
      "\u001b[1;32m~\\AppData\\Local\\Temp\\ipykernel_2824\\3559110978.py\u001b[0m in \u001b[0;36mcourse_price_access\u001b[1;34m(self)\u001b[0m\n\u001b[0;32m      7\u001b[0m     \u001b[1;33m@\u001b[0m\u001b[0mproperty\u001b[0m\u001b[1;33m\u001b[0m\u001b[1;33m\u001b[0m\u001b[0m\n\u001b[0;32m      8\u001b[0m     \u001b[1;32mdef\u001b[0m \u001b[0mcourse_price_access\u001b[0m\u001b[1;33m(\u001b[0m\u001b[0mself\u001b[0m\u001b[1;33m)\u001b[0m\u001b[1;33m:\u001b[0m\u001b[1;33m\u001b[0m\u001b[1;33m\u001b[0m\u001b[0m\n\u001b[1;32m----> 9\u001b[1;33m         \u001b[1;32mreturn\u001b[0m \u001b[0mself\u001b[0m\u001b[1;33m.\u001b[0m\u001b[0m__course_price\u001b[0m\u001b[1;33m\u001b[0m\u001b[1;33m\u001b[0m\u001b[0m\n\u001b[0m\u001b[0;32m     10\u001b[0m \u001b[1;33m\u001b[0m\u001b[0m\n\u001b[0;32m     11\u001b[0m     \u001b[1;33m@\u001b[0m\u001b[0mcourse_price_access\u001b[0m\u001b[1;33m.\u001b[0m\u001b[0msetter\u001b[0m\u001b[1;33m\u001b[0m\u001b[1;33m\u001b[0m\u001b[0m\n",
      "\u001b[1;31mAttributeError\u001b[0m: 'pwskills' object has no attribute '_pwskills__course_price'"
     ]
    }
   ],
   "source": [
    "pw.course_price_set"
   ]
  },
  {
   "cell_type": "code",
   "execution_count": null,
   "id": "9a1f6eee",
   "metadata": {},
   "outputs": [],
   "source": []
  }
 ],
 "metadata": {
  "kernelspec": {
   "display_name": "Python 3 (ipykernel)",
   "language": "python",
   "name": "python3"
  },
  "language_info": {
   "codemirror_mode": {
    "name": "ipython",
    "version": 3
   },
   "file_extension": ".py",
   "mimetype": "text/x-python",
   "name": "python",
   "nbconvert_exporter": "python",
   "pygments_lexer": "ipython3",
   "version": "3.9.13"
  }
 },
 "nbformat": 4,
 "nbformat_minor": 5
}
