{
 "cells": [
  {
   "cell_type": "code",
   "execution_count": 1,
   "id": "209af0f5",
   "metadata": {},
   "outputs": [],
   "source": [
    "f=open(\"test.txt\",'w')"
   ]
  },
  {
   "cell_type": "code",
   "execution_count": 2,
   "id": "5431f7fe",
   "metadata": {},
   "outputs": [
    {
     "data": {
      "text/plain": [
       "'F:\\\\Python\\\\Jupyter\\\\DataScienceMasters'"
      ]
     },
     "execution_count": 2,
     "metadata": {},
     "output_type": "execute_result"
    }
   ],
   "source": [
    "pwd"
   ]
  },
  {
   "cell_type": "code",
   "execution_count": 3,
   "id": "74866010",
   "metadata": {},
   "outputs": [
    {
     "name": "stdout",
     "output_type": "stream",
     "text": [
      " Volume in drive F is New Volume\n",
      " Volume Serial Number is 30F0-305D\n",
      "\n",
      " Directory of F:\\Python\\Jupyter\\DataScienceMasters\n",
      "\n",
      "06-11-2023  22:41            37,014  1st Feb Live Class Strings List.ipynb\n",
      "05-09-2023  23:37             6,682  31st Jan Live Class String_manipulation_and_methods ,Expressions,_Operators,_and_Precedence.ipynb\n",
      "18-11-2023  10:32    <DIR>          .\n",
      "17-11-2023  22:05    <DIR>          ..\n",
      "18-11-2023  10:11    <DIR>          .ipynb_checkpoints\n",
      "02-09-2023  23:30            11,596 1_Python_Programming_Language_Overview.ipynb\n",
      "12-11-2023  23:03            27,684 10th Feb'23 OOPs Concepts.ipynb\n",
      "18-11-2023  10:32            14,227 11 Feb 23 Working With Files.ipynb\n",
      "09-10-2023  22:45            20,713 2 Feb'23 Tuples, Set, Dictionaries & Its Working.ipynb\n",
      "05-11-2023  09:31               889 23 Feb'23 Pandas Advance Indexing,Selecting,Data statical functions.ipynb\n",
      "05-11-2023  09:31           258,835 23 Feb'23 Pandas Advance.ipynb\n",
      "03-11-2023  10:58           139,577 23 Feb'23 Pandas Basic.ipynb\n",
      "03-11-2023  12:23               843 24 Feb'23 Pandas Advance Indexing,Selecting,Data statical functions.ipynb\n",
      "02-11-2023  21:11            12,515 3 Feb'23 Function Basics, Parameter Passing, Iterators, Generator Functions.ipynb\n",
      "02-11-2023  23:03            12,070 4th Feb'23 Functions Lambda,Map,Reduce and Filter.ipynb\n",
      "11-11-2023  11:24            18,996 5th and 8th Feb'23 OOPS.ipynb\n",
      "02-11-2023  21:12        13,079,276 business-price-indexes-june-2023-quarter-csv.csv\n",
      "18-11-2023  10:13             4,716 Data Science Masters learning curriculum.ipynb\n",
      "12-09-2023  07:44            26,548 Day 2 Python Condition and Loops .ipynb\n",
      "12-09-2023  07:43            59,916 Day 3- Python Operators and Lists (1).ipynb\n",
      "12-09-2023  07:45            26,843 Day_2_Control_Flow.ipynb\n",
      "02-09-2023  17:25            18,042 Day1 -Data Science MAsters.ipynb\n",
      "12-09-2023  07:43            51,665 Expressions,_Operators,_and_Precedence.ipynb\n",
      "22-10-2023  17:20    <DIR>          Krishnaik\n",
      "02-11-2023  21:12           136,632 LUSID Excel - Setting up your market data.xlsx\n",
      "18-11-2023  10:29               728 new_test.txt\n",
      "02-11-2023  21:12            78,962 players.csv\n",
      "24-10-2023  17:31    <DIR>          Revision\n",
      "02-11-2023  21:12            19,128 services.csv\n",
      "02-11-2023  21:12            59,904 SR STAR PTM-4_25-10-2023_13-16-38.xls\n",
      "12-09-2023  07:43            43,968 String_manipulation_and_methods.ipynb\n",
      "02-11-2023  21:12    <DIR>          Sudhanshu\n",
      "18-11-2023  10:32                 0 test.txt\n",
      "18-11-2023  10:22               684 text.txt\n",
      "02-11-2023  21:12            62,894 titanic.csv\n",
      "              29 File(s)     14,231,547 bytes\n",
      "               6 Dir(s)  408,636,051,456 bytes free\n"
     ]
    }
   ],
   "source": [
    "ls"
   ]
  },
  {
   "cell_type": "code",
   "execution_count": 4,
   "id": "834dca67",
   "metadata": {},
   "outputs": [
    {
     "name": "stdout",
     "output_type": "stream",
     "text": [
      "<_io.TextIOWrapper name='test.txt' mode='w' encoding='cp1252'>\n"
     ]
    }
   ],
   "source": [
    "print(f)"
   ]
  },
  {
   "cell_type": "code",
   "execution_count": 5,
   "id": "2e51a5c5",
   "metadata": {},
   "outputs": [
    {
     "data": {
      "text/plain": [
       "44"
      ]
     },
     "execution_count": 5,
     "metadata": {},
     "output_type": "execute_result"
    }
   ],
   "source": [
    "f.write(\"this is my frist write operation in the file\")"
   ]
  },
  {
   "cell_type": "code",
   "execution_count": 6,
   "id": "54f8b169",
   "metadata": {},
   "outputs": [],
   "source": [
    "f.close()"
   ]
  },
  {
   "cell_type": "code",
   "execution_count": 7,
   "id": "8affcb41",
   "metadata": {},
   "outputs": [],
   "source": [
    "f=open(\"test.txt\",'a')"
   ]
  },
  {
   "cell_type": "code",
   "execution_count": 8,
   "id": "ddf58c6e",
   "metadata": {},
   "outputs": [
    {
     "data": {
      "text/plain": [
       "684"
      ]
     },
     "execution_count": 8,
     "metadata": {},
     "output_type": "execute_result"
    }
   ],
   "source": [
    "f.write(\"Lorem ipsum dolor sit amet, consectetur adipiscing elit. Etiam vitae neque sagittis, pharetra eros consequat, fermentum ante. Fusce ultricies aliquet luctus. In pretium neque sed convallis laoreet. Suspendisse nisi lacus, commodo efficitur aliquet nec, auctor eu ligula. Sed efficitur porttitor mauris et molestie. Cras dapibus mollis dolor ut dictum. Nunc vel lectus at mi varius cursus. Maecenas mattis porttitor ex, vel luctus erat volutpat ut. Maecenas odio purus, tristique sit amet suscipit sit amet, maximus vel lectus. Aliquam orci magna, euismod vel aliquet et, luctus sed velit. Vivamus cursus pellentesque odio scelerisque tincidunt. Donec arcu orci, tincidunt ut diam vel.\")"
   ]
  },
  {
   "cell_type": "code",
   "execution_count": 9,
   "id": "96983bab",
   "metadata": {},
   "outputs": [],
   "source": [
    "f.close()"
   ]
  },
  {
   "cell_type": "code",
   "execution_count": 10,
   "id": "1317a740",
   "metadata": {},
   "outputs": [],
   "source": [
    "data=open(\"test.txt\",\"r\")"
   ]
  },
  {
   "cell_type": "code",
   "execution_count": 11,
   "id": "b495dd53",
   "metadata": {},
   "outputs": [
    {
     "data": {
      "text/plain": [
       "'this is my frist write operation in the fileLorem ipsum dolor sit amet, consectetur adipiscing elit. Etiam vitae neque sagittis, pharetra eros consequat, fermentum ante. Fusce ultricies aliquet luctus. In pretium neque sed convallis laoreet. Suspendisse nisi lacus, commodo efficitur aliquet nec, auctor eu ligula. Sed efficitur porttitor mauris et molestie. Cras dapibus mollis dolor ut dictum. Nunc vel lectus at mi varius cursus. Maecenas mattis porttitor ex, vel luctus erat volutpat ut. Maecenas odio purus, tristique sit amet suscipit sit amet, maximus vel lectus. Aliquam orci magna, euismod vel aliquet et, luctus sed velit. Vivamus cursus pellentesque odio scelerisque tincidunt. Donec arcu orci, tincidunt ut diam vel.'"
      ]
     },
     "execution_count": 11,
     "metadata": {},
     "output_type": "execute_result"
    }
   ],
   "source": [
    "data.read()"
   ]
  },
  {
   "cell_type": "code",
   "execution_count": 12,
   "id": "af45d576",
   "metadata": {},
   "outputs": [
    {
     "data": {
      "text/plain": [
       "''"
      ]
     },
     "execution_count": 12,
     "metadata": {},
     "output_type": "execute_result"
    }
   ],
   "source": [
    "data.read()"
   ]
  },
  {
   "cell_type": "code",
   "execution_count": 13,
   "id": "571c27ef",
   "metadata": {},
   "outputs": [
    {
     "data": {
      "text/plain": [
       "0"
      ]
     },
     "execution_count": 13,
     "metadata": {},
     "output_type": "execute_result"
    }
   ],
   "source": [
    "data.seek(0)"
   ]
  },
  {
   "cell_type": "code",
   "execution_count": 14,
   "id": "b14f3da8",
   "metadata": {},
   "outputs": [
    {
     "data": {
      "text/plain": [
       "'this is my frist write operation in the fileLorem ipsum dolor sit amet, consectetur adipiscing elit. Etiam vitae neque sagittis, pharetra eros consequat, fermentum ante. Fusce ultricies aliquet luctus. In pretium neque sed convallis laoreet. Suspendisse nisi lacus, commodo efficitur aliquet nec, auctor eu ligula. Sed efficitur porttitor mauris et molestie. Cras dapibus mollis dolor ut dictum. Nunc vel lectus at mi varius cursus. Maecenas mattis porttitor ex, vel luctus erat volutpat ut. Maecenas odio purus, tristique sit amet suscipit sit amet, maximus vel lectus. Aliquam orci magna, euismod vel aliquet et, luctus sed velit. Vivamus cursus pellentesque odio scelerisque tincidunt. Donec arcu orci, tincidunt ut diam vel.'"
      ]
     },
     "execution_count": 14,
     "metadata": {},
     "output_type": "execute_result"
    }
   ],
   "source": [
    "data.read()"
   ]
  },
  {
   "cell_type": "code",
   "execution_count": 15,
   "id": "ab30cb83",
   "metadata": {},
   "outputs": [
    {
     "data": {
      "text/plain": [
       "100"
      ]
     },
     "execution_count": 15,
     "metadata": {},
     "output_type": "execute_result"
    }
   ],
   "source": [
    "data.seek(100)"
   ]
  },
  {
   "cell_type": "code",
   "execution_count": 16,
   "id": "0439a4e1",
   "metadata": {},
   "outputs": [
    {
     "data": {
      "text/plain": [
       "' Etiam vitae neque sagittis, pharetra eros consequat, fermentum ante. Fusce ultricies aliquet luctus. In pretium neque sed convallis laoreet. Suspendisse nisi lacus, commodo efficitur aliquet nec, auctor eu ligula. Sed efficitur porttitor mauris et molestie. Cras dapibus mollis dolor ut dictum. Nunc vel lectus at mi varius cursus. Maecenas mattis porttitor ex, vel luctus erat volutpat ut. Maecenas odio purus, tristique sit amet suscipit sit amet, maximus vel lectus. Aliquam orci magna, euismod vel aliquet et, luctus sed velit. Vivamus cursus pellentesque odio scelerisque tincidunt. Donec arcu orci, tincidunt ut diam vel.'"
      ]
     },
     "execution_count": 16,
     "metadata": {},
     "output_type": "execute_result"
    }
   ],
   "source": [
    "data.read()"
   ]
  },
  {
   "cell_type": "code",
   "execution_count": 17,
   "id": "ca5d2ed0",
   "metadata": {},
   "outputs": [],
   "source": [
    "data1=open(\"test.txt\",\"r\")"
   ]
  },
  {
   "cell_type": "code",
   "execution_count": 18,
   "id": "8e931303",
   "metadata": {},
   "outputs": [
    {
     "name": "stdout",
     "output_type": "stream",
     "text": [
      "this is my frist write operation in the fileLorem ipsum dolor sit amet, consectetur adipiscing elit. Etiam vitae neque sagittis, pharetra eros consequat, fermentum ante. Fusce ultricies aliquet luctus. In pretium neque sed convallis laoreet. Suspendisse nisi lacus, commodo efficitur aliquet nec, auctor eu ligula. Sed efficitur porttitor mauris et molestie. Cras dapibus mollis dolor ut dictum. Nunc vel lectus at mi varius cursus. Maecenas mattis porttitor ex, vel luctus erat volutpat ut. Maecenas odio purus, tristique sit amet suscipit sit amet, maximus vel lectus. Aliquam orci magna, euismod vel aliquet et, luctus sed velit. Vivamus cursus pellentesque odio scelerisque tincidunt. Donec arcu orci, tincidunt ut diam vel.\n"
     ]
    }
   ],
   "source": [
    "for i in data1:\n",
    "    print(i)"
   ]
  },
  {
   "cell_type": "code",
   "execution_count": 19,
   "id": "ae88c829",
   "metadata": {},
   "outputs": [],
   "source": [
    "import os"
   ]
  },
  {
   "cell_type": "code",
   "execution_count": 20,
   "id": "6c6698f8",
   "metadata": {},
   "outputs": [
    {
     "data": {
      "text/plain": [
       "728"
      ]
     },
     "execution_count": 20,
     "metadata": {},
     "output_type": "execute_result"
    }
   ],
   "source": [
    "os.path.getsize(\"test.txt\")"
   ]
  },
  {
   "cell_type": "code",
   "execution_count": 21,
   "id": "06159d57",
   "metadata": {},
   "outputs": [],
   "source": [
    "import shutil"
   ]
  },
  {
   "cell_type": "code",
   "execution_count": 22,
   "id": "dfbd8bc8",
   "metadata": {},
   "outputs": [
    {
     "data": {
      "text/plain": [
       "'new_test.txt'"
      ]
     },
     "execution_count": 22,
     "metadata": {},
     "output_type": "execute_result"
    }
   ],
   "source": [
    "shutil.copy(\"test.txt\",\"new_test.txt\")"
   ]
  },
  {
   "cell_type": "code",
   "execution_count": 23,
   "id": "decba5f3",
   "metadata": {},
   "outputs": [],
   "source": [
    "data1.close()"
   ]
  },
  {
   "cell_type": "code",
   "execution_count": 25,
   "id": "fa2ce0fb",
   "metadata": {},
   "outputs": [],
   "source": [
    "os.remove(\"text.txt\")"
   ]
  },
  {
   "cell_type": "code",
   "execution_count": 26,
   "id": "1b43c0a4",
   "metadata": {},
   "outputs": [
    {
     "name": "stdout",
     "output_type": "stream",
     "text": [
      "this is my frist write operation in the fileLorem ipsum dolor sit amet, consectetur adipiscing elit. Etiam vitae neque sagittis, pharetra eros consequat, fermentum ante. Fusce ultricies aliquet luctus. In pretium neque sed convallis laoreet. Suspendisse nisi lacus, commodo efficitur aliquet nec, auctor eu ligula. Sed efficitur porttitor mauris et molestie. Cras dapibus mollis dolor ut dictum. Nunc vel lectus at mi varius cursus. Maecenas mattis porttitor ex, vel luctus erat volutpat ut. Maecenas odio purus, tristique sit amet suscipit sit amet, maximus vel lectus. Aliquam orci magna, euismod vel aliquet et, luctus sed velit. Vivamus cursus pellentesque odio scelerisque tincidunt. Donec arcu orci, tincidunt ut diam vel.\n"
     ]
    }
   ],
   "source": [
    "with open(\"test.txt\",\"r\") as f:\n",
    "    print(f.read())"
   ]
  },
  {
   "cell_type": "code",
   "execution_count": 27,
   "id": "68c3806c",
   "metadata": {},
   "outputs": [],
   "source": [
    "os.rename(\"new_test.txt\",\"test1.txt\")"
   ]
  },
  {
   "cell_type": "code",
   "execution_count": null,
   "id": "5dfe62ba",
   "metadata": {},
   "outputs": [],
   "source": []
  }
 ],
 "metadata": {
  "kernelspec": {
   "display_name": "Python 3 (ipykernel)",
   "language": "python",
   "name": "python3"
  },
  "language_info": {
   "codemirror_mode": {
    "name": "ipython",
    "version": 3
   },
   "file_extension": ".py",
   "mimetype": "text/x-python",
   "name": "python",
   "nbconvert_exporter": "python",
   "pygments_lexer": "ipython3",
   "version": "3.9.13"
  }
 },
 "nbformat": 4,
 "nbformat_minor": 5
}
