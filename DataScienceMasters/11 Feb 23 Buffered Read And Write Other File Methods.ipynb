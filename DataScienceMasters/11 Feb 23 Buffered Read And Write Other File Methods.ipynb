{
 "cells": [
  {
   "cell_type": "code",
   "execution_count": 1,
   "id": "e40c8464",
   "metadata": {},
   "outputs": [],
   "source": [
    "import io"
   ]
  },
  {
   "cell_type": "code",
   "execution_count": 5,
   "id": "f80ff442",
   "metadata": {},
   "outputs": [],
   "source": [
    "with open(\"test.txt\",\"wb\") as f:\n",
    "    file=io.BufferedWriter(f)\n",
    "    file.write(b\"\"\"Lorem ipsum dolor sit amet, consectetur adipiscing elit. Pellentesque laoreet ex ac purus faucibus, id sollicitudin tortor congue. In vitae feugiat quam, ut porttitor ex. Proin euismod est et posuere blandit. Pellentesque vulputate mauris eu feugiat tincidunt. In eu quam placerat, vestibulum orci ut, semper est. Praesent hendrerit risus urna, in pulvinar turpis mollis non. Donec non mauris a diam efficitur rhoncus sed eu ex. Pellentesque consequat vulputate est non iaculis. Pellentesque turpis mauris, euismod nec ultrices ut, fringilla viverra nibh. Pellentesque feugiat luctus ornare.Phasellus pharetra ex ac velit dictum venenatis. Integer fringilla et eros ac viverra. Aliquam lectus augue, consequat sed lacus vestibulum, pellentesque scelerisque velit. Pellentesque ligula mauris, sollicitudin non elementum eget, pulvinar tristique justo. Etiam a nibh eget nunc varius vestibulum at eu lacus. Aliquam vel elementum ex. Etiam ex dolor, auctor et diam et, porttitor ultrices risus. Integer ligula nisi, vehicula tincidunt aliquet a, pellentesque quis purus. Donec non gravida tellus. Sed maximus rhoncus est, id vestibulum quam scelerisque non. Sed vitae rutrum odio. Quisque vestibulum pharetra leo, ac viverra purus dignissim ac. Ut rutrum lectus imperdiet, tincidunt lectus quis, varius odio. Phasellus iaculis metus vitae hendrerit fringilla. Aenean facilisis nulla magna, iaculis vulputate turpis vehicula ac. Vivamus id imperdiet orci, consequat porta metusPellentesque rhoncus ornare condimentum. Praesent tempus dictum sodales. In augue dolor, pulvinar vitae porta sed, cursus sed dui. Pellentesque nisi odio, sodales suscipit gravida in, dignissim ut erat. Pellentesque eu cursus sem. Maecenas tincidunt eget elit ut viverra. Nunc tincidunt mauris et auctor interdum. Duis ornare lobortis eros, sit amet ultricies nunc gravida ac. Curabitur venenatis erat sed orci fermentum commodo. Praesent facilisis aliquet lobortis. Lorem ipsum dolor sit amet, consectetur adipiscing elit. Duis eu convallis lorem, vitae tincidunt purus. Duis lorem nisl, elementum et congue sit amet, dignissim malesuada libero. Curabitur congue viverra tellus nec consequat.\n",
    "Mauris placerat nisl quis ex ultricies vehicula. Quisque lacinia eleifend arcu at luctus. Nullam dignissim ligula non suscipit lacinia. Curabitur varius neque eget diam feugiat consectetur. Fusce quis magna dictum, auctor nunc a, mollis risus. Sed quis faucibus neque. Nulla condimentum libero dui, finibus dignissim sem maximus quis. Cras fermentum, felis ac fermentum accumsan, tellus dui rhoncus augue, et auctor dui ligula quis erat. Nullam consequat gravida dictum. Morbi euismod tincidunt velit ut cursus. Phasellus ut egestas dui. Donec vel fringilla lacus. Praesent nisl neque, posuere nec tincidunt id, tincidunt id purus. Ut ac sem sed leo malesuada varius. Sed elementum nec dolor quis volutpat. Integer hendrerit orci in lorem fringilla placerat.\\n\"\"\")\n",
    "    file.write(b\"this is my second line trying to write\\n\")\n",
    "    file.flush()"
   ]
  },
  {
   "cell_type": "code",
   "execution_count": 10,
   "id": "df27ceaf",
   "metadata": {},
   "outputs": [
    {
     "name": "stdout",
     "output_type": "stream",
     "text": [
      "b'Lorem ipsum dolor sit amet, consectetur adipiscing elit. Pellentesque laoreet ex ac purus faucibus, id sollicitudin tortor congue. In vitae feugiat quam, ut porttitor ex. Proin euismod est et posuere blandit. Pellentesque vulputate mauris eu feugiat tincidunt. In eu quam placerat, vestibulum orci ut, semper est. Praesent hendrerit risus urna, in pulvinar turpis mollis non. Donec non mauris a diam efficitur rhoncus sed eu ex. Pellentesque consequat vulputate est non iaculis. Pellentesque turpis mauris, euismod nec ultrices ut, fringilla viverra nibh. Pellentesque feugiat luctus ornare.Phasellus pharetra ex ac velit dictum venenatis. Integer fringilla et eros ac viverra. Aliquam lectus augue, consequat sed lacus vestibulum, pellentesque scelerisque velit. Pellentesque ligula mauris, sollicitudin non elementum eget, pulvinar tristique justo. Etiam a nibh eget nunc varius vestibulum at eu lacus. Aliquam vel elementum ex. Etiam ex dolor, auctor et diam et, porttitor ultrices risus. Integer ligula nisi, vehicula tincidunt aliquet a, pellentesque quis purus. Donec non gravida tellus. Sed maximus rhoncus est, id vestibulum quam scelerisque non. Sed vitae rutrum odio. Quisque vestibulum pharetra leo, ac viverra purus dignissim ac. Ut rutrum lectus imperdiet, tincidunt lectus quis, varius odio. Phasellus iaculis metus vitae hendrerit fringilla. Aenean facilisis nulla magna, iaculis vulputate turpis vehicula ac. Vivamus id imperdiet orci, consequat porta metusPellentesque rhoncus ornare condimentum. Praesent tempus dictum sodales. In augue dolor, pulvinar vitae porta sed, cursus sed dui. Pellentesque nisi odio, sodales suscipit gravida in, dignissim ut erat. Pellentesque eu cursus sem. Maecenas tincidunt eget elit ut viverra. Nunc tincidunt mauris et auctor interdum. Duis ornare lobortis eros, sit amet ultricies nunc gravida ac. Curabitur venenatis erat sed orci fermentum commodo. Praesent facilisis aliquet lobortis. Lorem ipsum dolor sit amet, consectetur adipiscing elit. Duis eu convallis lorem, vitae tincidunt purus. Duis lorem nisl, elementum et congue sit amet, dignissim malesuada libero. Curabitur congue viverra tellus nec consequat.\\nMauris placerat nisl quis ex ultricies vehicula. Quisque lacinia eleifend arcu at luctus. Nullam dignissim ligula non suscipit lacinia. Curabitur varius neque eget diam feugiat consectetur. Fusce quis magna dictum, auctor nunc a, mollis risus. Sed quis faucibus neque. Nulla condimentum libero dui, finibus dignissim sem maximus quis. Cras fermentum, felis ac fermentum accumsan, tellus dui rhoncus augue, et auctor dui ligula quis erat. Nullam consequat gravida dictum. Morbi euismod tincidunt velit ut cursus. Phasellus ut egestas dui. Donec vel fringilla lacus. Praesent nisl neque, posuere nec tincidunt id, tincidunt id purus. Ut ac sem sed leo malesuada varius. Sed elementum nec dolor quis volutpat. Integer hendrerit orci in lorem fringilla placerat.\\nthis is my second line trying to write\\n'\n"
     ]
    }
   ],
   "source": [
    "with open(\"test.txt\",\"rb\") as f:\n",
    "    file=io.BufferedReader(f)\n",
    "    data=file.read(10000)\n",
    "    print(data)"
   ]
  },
  {
   "cell_type": "code",
   "execution_count": null,
   "id": "34a8f204",
   "metadata": {},
   "outputs": [],
   "source": []
  }
 ],
 "metadata": {
  "kernelspec": {
   "display_name": "Python 3 (ipykernel)",
   "language": "python",
   "name": "python3"
  },
  "language_info": {
   "codemirror_mode": {
    "name": "ipython",
    "version": 3
   },
   "file_extension": ".py",
   "mimetype": "text/x-python",
   "name": "python",
   "nbconvert_exporter": "python",
   "pygments_lexer": "ipython3",
   "version": "3.9.13"
  }
 },
 "nbformat": 4,
 "nbformat_minor": 5
}
