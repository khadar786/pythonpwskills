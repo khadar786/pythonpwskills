{
 "cells": [
  {
   "cell_type": "code",
   "execution_count": 1,
   "id": "3f7cb444",
   "metadata": {},
   "outputs": [],
   "source": [
    "#SQL\n",
    "#1.MySql\n",
    "#2.MsSql\n",
    "#3.DB2\n",
    "#4.Oracle\n",
    "\n",
    "#No SQL\n",
    "#1.MongoDB\n",
    "#2.Cassandra\n",
    "#3.Hbase\n",
    "#4.inpux\n",
    "#5.Neo4j"
   ]
  },
  {
   "cell_type": "code",
   "execution_count": 2,
   "id": "e6bbd328",
   "metadata": {},
   "outputs": [],
   "source": [
    "#pip install mysql-connector-python"
   ]
  },
  {
   "cell_type": "code",
   "execution_count": null,
   "id": "fc9d427f",
   "metadata": {},
   "outputs": [],
   "source": []
  }
 ],
 "metadata": {
  "kernelspec": {
   "display_name": "Python 3 (ipykernel)",
   "language": "python",
   "name": "python3"
  },
  "language_info": {
   "codemirror_mode": {
    "name": "ipython",
    "version": 3
   },
   "file_extension": ".py",
   "mimetype": "text/x-python",
   "name": "python",
   "nbconvert_exporter": "python",
   "pygments_lexer": "ipython3",
   "version": "3.9.13"
  }
 },
 "nbformat": 4,
 "nbformat_minor": 5
}
