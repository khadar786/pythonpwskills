{
 "cells": [
  {
   "cell_type": "code",
   "execution_count": 2,
   "id": "ebd29103",
   "metadata": {},
   "outputs": [],
   "source": [
    "# API (TCP,SMTP,HTTP) and Web API (HTTP)\n",
    "\n",
    "# Rest And Soap Architecture\n",
    "# Representational State Transfer(REST)\n",
    "# Simple Object Access Protocol (SOAP)"
   ]
  },
  {
   "cell_type": "code",
   "execution_count": 2,
   "id": "a8003860",
   "metadata": {},
   "outputs": [],
   "source": [
    "# Representational State Transfer(REST)\n",
    "#Used in HTTP\n",
    "#PUT,GET,POST,DELETE\n",
    "#Simplicity\n",
    "#Scalability\n",
    "#Fexibility"
   ]
  },
  {
   "cell_type": "code",
   "execution_count": 3,
   "id": "c52731af",
   "metadata": {},
   "outputs": [],
   "source": [
    "# Simple Object Access Protocol (SOAP)\n",
    "#Used in TCP/SMTP\n",
    "#XML -> WSDL (Web Service Description Language)"
   ]
  },
  {
   "cell_type": "code",
   "execution_count": 4,
   "id": "90e666de",
   "metadata": {},
   "outputs": [],
   "source": [
    "#RESTfull services, also known as RESTful APIs\n",
    "#Client-server architecture\n",
    "#Stateless\n",
    "#Cacheable\n",
    "#Uniform interface\n",
    "#Layered system"
   ]
  },
  {
   "cell_type": "code",
   "execution_count": null,
   "id": "f555a886",
   "metadata": {},
   "outputs": [],
   "source": []
  }
 ],
 "metadata": {
  "kernelspec": {
   "display_name": "Python 3 (ipykernel)",
   "language": "python",
   "name": "python3"
  },
  "language_info": {
   "codemirror_mode": {
    "name": "ipython",
    "version": 3
   },
   "file_extension": ".py",
   "mimetype": "text/x-python",
   "name": "python",
   "nbconvert_exporter": "python",
   "pygments_lexer": "ipython3",
   "version": "3.9.13"
  }
 },
 "nbformat": 4,
 "nbformat_minor": 5
}
