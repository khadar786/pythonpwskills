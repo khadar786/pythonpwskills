{
 "cells": [
  {
   "cell_type": "code",
   "execution_count": 2,
   "id": "ebd29103",
   "metadata": {},
   "outputs": [],
   "source": [
    "# API (TCP,SMTP,HTTP) and Web API (HTTP)\n",
    "\n",
    "# Rest And Soap Architecture\n",
    "# Representational State Transfer(REST)\n",
    "# Simple Object Access Protocol (SOAP)"
   ]
  },
  {
   "cell_type": "code",
   "execution_count": null,
   "id": "a8003860",
   "metadata": {},
   "outputs": [],
   "source": []
  }
 ],
 "metadata": {
  "kernelspec": {
   "display_name": "Python 3 (ipykernel)",
   "language": "python",
   "name": "python3"
  },
  "language_info": {
   "codemirror_mode": {
    "name": "ipython",
    "version": 3
   },
   "file_extension": ".py",
   "mimetype": "text/x-python",
   "name": "python",
   "nbconvert_exporter": "python",
   "pygments_lexer": "ipython3",
   "version": "3.11.4"
  }
 },
 "nbformat": 4,
 "nbformat_minor": 5
}
