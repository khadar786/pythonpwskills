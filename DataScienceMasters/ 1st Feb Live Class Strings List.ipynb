{
 "cells": [
  {
   "cell_type": "code",
   "execution_count": 1,
   "id": "cd7458da",
   "metadata": {},
   "outputs": [],
   "source": [
    "name=\"Data Science Masters\""
   ]
  },
  {
   "cell_type": "code",
   "execution_count": 2,
   "id": "b151549e",
   "metadata": {},
   "outputs": [
    {
     "data": {
      "text/plain": [
       "'dATA sCIENCE mASTERS'"
      ]
     },
     "execution_count": 2,
     "metadata": {},
     "output_type": "execute_result"
    }
   ],
   "source": [
    "name.swapcase()"
   ]
  },
  {
   "cell_type": "code",
   "execution_count": 3,
   "id": "c82ae297",
   "metadata": {},
   "outputs": [
    {
     "data": {
      "text/plain": [
       "'Data Science Masters'"
      ]
     },
     "execution_count": 3,
     "metadata": {},
     "output_type": "execute_result"
    }
   ],
   "source": [
    "name.title()"
   ]
  },
  {
   "cell_type": "code",
   "execution_count": 4,
   "id": "7441db7f",
   "metadata": {},
   "outputs": [
    {
     "data": {
      "text/plain": [
       "'Data science masters'"
      ]
     },
     "execution_count": 4,
     "metadata": {},
     "output_type": "execute_result"
    }
   ],
   "source": [
    "name.capitalize()"
   ]
  },
  {
   "cell_type": "code",
   "execution_count": 5,
   "id": "47c2fa0b",
   "metadata": {},
   "outputs": [],
   "source": [
    "#Reversing a string"
   ]
  },
  {
   "cell_type": "code",
   "execution_count": 6,
   "id": "ae7d32bf",
   "metadata": {},
   "outputs": [
    {
     "data": {
      "text/plain": [
       "<reversed at 0x18f9f3d3fa0>"
      ]
     },
     "execution_count": 6,
     "metadata": {},
     "output_type": "execute_result"
    }
   ],
   "source": [
    "reversed(name)"
   ]
  },
  {
   "cell_type": "code",
   "execution_count": 7,
   "id": "e5d2e631",
   "metadata": {},
   "outputs": [
    {
     "data": {
      "text/plain": [
       "'s r e t s a M   e c n e i c S   a t a D'"
      ]
     },
     "execution_count": 7,
     "metadata": {},
     "output_type": "execute_result"
    }
   ],
   "source": [
    "' '.join(reversed(name))"
   ]
  },
  {
   "cell_type": "code",
   "execution_count": 8,
   "id": "88edeb87",
   "metadata": {},
   "outputs": [
    {
     "data": {
      "text/plain": [
       "'a b c d'"
      ]
     },
     "execution_count": 8,
     "metadata": {},
     "output_type": "execute_result"
    }
   ],
   "source": [
    "\" \".join(\"abcd\")"
   ]
  },
  {
   "cell_type": "code",
   "execution_count": 9,
   "id": "fa9967af",
   "metadata": {},
   "outputs": [
    {
     "data": {
      "text/plain": [
       "'t n a'"
      ]
     },
     "execution_count": 9,
     "metadata": {},
     "output_type": "execute_result"
    }
   ],
   "source": [
    "' '.join(reversed(\"ant\"))"
   ]
  },
  {
   "cell_type": "code",
   "execution_count": 10,
   "id": "8831a119",
   "metadata": {},
   "outputs": [
    {
     "data": {
      "text/plain": [
       "'a Pwskills n Pwskills t'"
      ]
     },
     "execution_count": 10,
     "metadata": {},
     "output_type": "execute_result"
    }
   ],
   "source": [
    "' Pwskills '.join('ant')"
   ]
  },
  {
   "cell_type": "code",
   "execution_count": 11,
   "id": "e887412e",
   "metadata": {},
   "outputs": [],
   "source": [
    "#Removing characters from end of the string"
   ]
  },
  {
   "cell_type": "code",
   "execution_count": 12,
   "id": "47d990c2",
   "metadata": {},
   "outputs": [
    {
     "data": {
      "text/plain": [
       "['s',\n",
       " 'r',\n",
       " 'e',\n",
       " 't',\n",
       " 's',\n",
       " 'a',\n",
       " 'M',\n",
       " ' ',\n",
       " 'e',\n",
       " 'c',\n",
       " 'n',\n",
       " 'e',\n",
       " 'i',\n",
       " 'c',\n",
       " 'S',\n",
       " ' ',\n",
       " 'a',\n",
       " 't',\n",
       " 'a',\n",
       " 'D']"
      ]
     },
     "execution_count": 12,
     "metadata": {},
     "output_type": "execute_result"
    }
   ],
   "source": [
    "list(reversed(name))"
   ]
  },
  {
   "cell_type": "code",
   "execution_count": 13,
   "id": "ea328886",
   "metadata": {},
   "outputs": [
    {
     "name": "stdout",
     "output_type": "stream",
     "text": [
      "sretsaM ecneicS ataD"
     ]
    }
   ],
   "source": [
    "for i in list(reversed(name)):\n",
    "    print(i,end='')"
   ]
  },
  {
   "cell_type": "code",
   "execution_count": 14,
   "id": "dfb2ea5e",
   "metadata": {},
   "outputs": [],
   "source": [
    "#Removing characters from end of the string"
   ]
  },
  {
   "cell_type": "code",
   "execution_count": 15,
   "id": "6d894c62",
   "metadata": {},
   "outputs": [],
   "source": [
    "string_a=\" Pwskills \""
   ]
  },
  {
   "cell_type": "code",
   "execution_count": 16,
   "id": "57d3b344",
   "metadata": {},
   "outputs": [
    {
     "data": {
      "text/plain": [
       "'Pwskills'"
      ]
     },
     "execution_count": 16,
     "metadata": {},
     "output_type": "execute_result"
    }
   ],
   "source": [
    "string_a.strip(\" \")"
   ]
  },
  {
   "cell_type": "code",
   "execution_count": 17,
   "id": "819e1c00",
   "metadata": {},
   "outputs": [
    {
     "data": {
      "text/plain": [
       "'Pwskills '"
      ]
     },
     "execution_count": 17,
     "metadata": {},
     "output_type": "execute_result"
    }
   ],
   "source": [
    "string_a.lstrip(\" \")"
   ]
  },
  {
   "cell_type": "code",
   "execution_count": 18,
   "id": "cc1646b7",
   "metadata": {},
   "outputs": [
    {
     "data": {
      "text/plain": [
       "' Pwskills'"
      ]
     },
     "execution_count": 18,
     "metadata": {},
     "output_type": "execute_result"
    }
   ],
   "source": [
    "string_a.rstrip(\" \")"
   ]
  },
  {
   "cell_type": "code",
   "execution_count": 19,
   "id": "647166ae",
   "metadata": {},
   "outputs": [],
   "source": [
    "string_n=\"Greeting to Pwskills\""
   ]
  },
  {
   "cell_type": "code",
   "execution_count": 20,
   "id": "1e47813e",
   "metadata": {},
   "outputs": [
    {
     "data": {
      "text/plain": [
       "'Greeting from Pwskills'"
      ]
     },
     "execution_count": 20,
     "metadata": {},
     "output_type": "execute_result"
    }
   ],
   "source": [
    "string_n.replace(\"to\",\"from\")"
   ]
  },
  {
   "cell_type": "code",
   "execution_count": 21,
   "id": "6dafc6b6",
   "metadata": {},
   "outputs": [
    {
     "name": "stdout",
     "output_type": "stream",
     "text": [
      "Greeting to Pwskills\n"
     ]
    }
   ],
   "source": [
    "print(string_n)"
   ]
  },
  {
   "cell_type": "code",
   "execution_count": 22,
   "id": "e1c073f2",
   "metadata": {},
   "outputs": [],
   "source": [
    "var_a=string_n.replace(\"G\",\"T\")"
   ]
  },
  {
   "cell_type": "code",
   "execution_count": 23,
   "id": "894fd089",
   "metadata": {},
   "outputs": [
    {
     "name": "stdout",
     "output_type": "stream",
     "text": [
      "Treeting to Pwskills\n"
     ]
    }
   ],
   "source": [
    "print(var_a)"
   ]
  },
  {
   "cell_type": "code",
   "execution_count": 24,
   "id": "16a1b43c",
   "metadata": {},
   "outputs": [
    {
     "name": "stdout",
     "output_type": "stream",
     "text": [
      "1716363948880\n",
      "1716363949760\n"
     ]
    }
   ],
   "source": [
    "print(id(string_n))\n",
    "print(id(var_a))"
   ]
  },
  {
   "cell_type": "code",
   "execution_count": 25,
   "id": "a5e9edf3",
   "metadata": {},
   "outputs": [],
   "source": [
    "string_n=\"test@gmail.com\""
   ]
  },
  {
   "cell_type": "code",
   "execution_count": 26,
   "id": "76b8d83a",
   "metadata": {},
   "outputs": [
    {
     "data": {
      "text/plain": [
       "'test gmail.com'"
      ]
     },
     "execution_count": 26,
     "metadata": {},
     "output_type": "execute_result"
    }
   ],
   "source": [
    "string_n.replace(\"@\",\" \")"
   ]
  },
  {
   "cell_type": "code",
   "execution_count": 27,
   "id": "32785f9e",
   "metadata": {},
   "outputs": [
    {
     "data": {
      "text/plain": [
       "'hello   world'"
      ]
     },
     "execution_count": 27,
     "metadata": {},
     "output_type": "execute_result"
    }
   ],
   "source": [
    "'hello \\tworld'.expandtabs()"
   ]
  },
  {
   "cell_type": "code",
   "execution_count": 28,
   "id": "e748f816",
   "metadata": {},
   "outputs": [],
   "source": [
    "str1=\"Welcome to pwskills.Welcome to Dat cience masters\""
   ]
  },
  {
   "cell_type": "code",
   "execution_count": 29,
   "id": "8ed1c040",
   "metadata": {},
   "outputs": [],
   "source": [
    "str1_a=str1.replace(\"Dat\",\"Data\")"
   ]
  },
  {
   "cell_type": "code",
   "execution_count": 30,
   "id": "7a77461a",
   "metadata": {},
   "outputs": [
    {
     "data": {
      "text/plain": [
       "'Welcome to pwskills.Welcome to Data Science masters'"
      ]
     },
     "execution_count": 30,
     "metadata": {},
     "output_type": "execute_result"
    }
   ],
   "source": [
    "str1_a.replace(\"cience\",\"Science\")"
   ]
  },
  {
   "cell_type": "code",
   "execution_count": 31,
   "id": "29b8bd30",
   "metadata": {},
   "outputs": [
    {
     "data": {
      "text/plain": [
       "'Welcome to pwskills.Welcome to Data Science masters'"
      ]
     },
     "execution_count": 31,
     "metadata": {},
     "output_type": "execute_result"
    }
   ],
   "source": [
    "str1.replace(\"Dat\",\"Data\").replace(\"cience\",\"Science\")"
   ]
  },
  {
   "cell_type": "code",
   "execution_count": 32,
   "id": "5fe9f237",
   "metadata": {},
   "outputs": [
    {
     "data": {
      "text/plain": [
       "False"
      ]
     },
     "execution_count": 32,
     "metadata": {},
     "output_type": "execute_result"
    }
   ],
   "source": [
    "str1.isupper()"
   ]
  },
  {
   "cell_type": "code",
   "execution_count": 33,
   "id": "8dce98f7",
   "metadata": {},
   "outputs": [],
   "source": [
    "str1=\"BASHA\""
   ]
  },
  {
   "cell_type": "code",
   "execution_count": 34,
   "id": "3f169134",
   "metadata": {},
   "outputs": [
    {
     "data": {
      "text/plain": [
       "True"
      ]
     },
     "execution_count": 34,
     "metadata": {},
     "output_type": "execute_result"
    }
   ],
   "source": [
    "str1.isupper()"
   ]
  },
  {
   "cell_type": "code",
   "execution_count": 35,
   "id": "4512a118",
   "metadata": {},
   "outputs": [
    {
     "data": {
      "text/plain": [
       "False"
      ]
     },
     "execution_count": 35,
     "metadata": {},
     "output_type": "execute_result"
    }
   ],
   "source": [
    "str1.islower()"
   ]
  },
  {
   "cell_type": "code",
   "execution_count": 36,
   "id": "08e11940",
   "metadata": {},
   "outputs": [
    {
     "data": {
      "text/plain": [
       "True"
      ]
     },
     "execution_count": 36,
     "metadata": {},
     "output_type": "execute_result"
    }
   ],
   "source": [
    "' '.isspace()"
   ]
  },
  {
   "cell_type": "code",
   "execution_count": 37,
   "id": "3173a52b",
   "metadata": {},
   "outputs": [
    {
     "name": "stdout",
     "output_type": "stream",
     "text": [
      "Hello\n"
     ]
    }
   ],
   "source": [
    "if ' '.isspace():\n",
    "    print(\"Hello\")"
   ]
  },
  {
   "cell_type": "code",
   "execution_count": 38,
   "id": "8d5699ec",
   "metadata": {},
   "outputs": [],
   "source": [
    "str2=\"pwskills\""
   ]
  },
  {
   "cell_type": "code",
   "execution_count": 39,
   "id": "52578fa1",
   "metadata": {},
   "outputs": [
    {
     "data": {
      "text/plain": [
       "True"
      ]
     },
     "execution_count": 39,
     "metadata": {},
     "output_type": "execute_result"
    }
   ],
   "source": [
    "str2.endswith('s')"
   ]
  },
  {
   "cell_type": "code",
   "execution_count": 40,
   "id": "be8a2a71",
   "metadata": {},
   "outputs": [
    {
     "data": {
      "text/plain": [
       "True"
      ]
     },
     "execution_count": 40,
     "metadata": {},
     "output_type": "execute_result"
    }
   ],
   "source": [
    "str2.startswith('pw')"
   ]
  },
  {
   "cell_type": "code",
   "execution_count": 41,
   "id": "3a58e88d",
   "metadata": {},
   "outputs": [],
   "source": [
    "#check if all char in string are alphanumeric\n",
    "a=\"abcd1234\""
   ]
  },
  {
   "cell_type": "code",
   "execution_count": 42,
   "id": "acbcc290",
   "metadata": {},
   "outputs": [
    {
     "data": {
      "text/plain": [
       "True"
      ]
     },
     "execution_count": 42,
     "metadata": {},
     "output_type": "execute_result"
    }
   ],
   "source": [
    "a.isalnum()"
   ]
  },
  {
   "cell_type": "code",
   "execution_count": 43,
   "id": "a3531b70",
   "metadata": {},
   "outputs": [
    {
     "data": {
      "text/plain": [
       "False"
      ]
     },
     "execution_count": 43,
     "metadata": {},
     "output_type": "execute_result"
    }
   ],
   "source": [
    "a.isalpha()"
   ]
  },
  {
   "cell_type": "code",
   "execution_count": 44,
   "id": "b2bbf627",
   "metadata": {},
   "outputs": [
    {
     "data": {
      "text/plain": [
       "False"
      ]
     },
     "execution_count": 44,
     "metadata": {},
     "output_type": "execute_result"
    }
   ],
   "source": [
    "a.isnumeric()"
   ]
  },
  {
   "cell_type": "code",
   "execution_count": 45,
   "id": "313785ab",
   "metadata": {},
   "outputs": [],
   "source": [
    "## to count string number of characters in a string"
   ]
  },
  {
   "cell_type": "code",
   "execution_count": 46,
   "id": "6722d3a2",
   "metadata": {},
   "outputs": [
    {
     "name": "stdout",
     "output_type": "stream",
     "text": [
      "8\n"
     ]
    }
   ],
   "source": [
    "count=0\n",
    "for i in a:\n",
    "    count+=1\n",
    "\n",
    "print(count)"
   ]
  },
  {
   "cell_type": "code",
   "execution_count": 47,
   "id": "aed0f0b5",
   "metadata": {},
   "outputs": [
    {
     "data": {
      "text/plain": [
       "8"
      ]
     },
     "execution_count": 47,
     "metadata": {},
     "output_type": "execute_result"
    }
   ],
   "source": [
    "len(a)"
   ]
  },
  {
   "cell_type": "code",
   "execution_count": 48,
   "id": "fd4066d7",
   "metadata": {},
   "outputs": [
    {
     "name": "stdout",
     "output_type": "stream",
     "text": [
      "a\n",
      "b\n",
      "c\n",
      "d\n",
      "1\n",
      "2\n",
      "3\n",
      "4\n"
     ]
    }
   ],
   "source": [
    "for i in a:\n",
    "    print(i)"
   ]
  },
  {
   "cell_type": "code",
   "execution_count": 49,
   "id": "7185389b",
   "metadata": {},
   "outputs": [
    {
     "name": "stdout",
     "output_type": "stream",
     "text": [
      "0 = a\n",
      "1 = b\n",
      "2 = c\n",
      "3 = d\n",
      "4 = 1\n",
      "5 = 2\n",
      "6 = 3\n",
      "7 = 4\n"
     ]
    }
   ],
   "source": [
    "for i in range(len(a)):\n",
    "    print(i,\"=\",a[i])"
   ]
  },
  {
   "cell_type": "code",
   "execution_count": 50,
   "id": "6abf4dd4",
   "metadata": {},
   "outputs": [],
   "source": [
    "#we use index to iterate string reverse direction"
   ]
  },
  {
   "cell_type": "code",
   "execution_count": 61,
   "id": "fbb9bfd0",
   "metadata": {},
   "outputs": [
    {
     "name": "stdout",
     "output_type": "stream",
     "text": [
      "4\n",
      "3\n",
      "2\n",
      "1\n",
      "d\n",
      "c\n",
      "b\n",
      "a\n"
     ]
    }
   ],
   "source": [
    "a=\"abcd1234\"\n",
    "for i in range(len(a)-1,-1,-1):\n",
    "    print(a[i])"
   ]
  },
  {
   "cell_type": "code",
   "execution_count": 62,
   "id": "0356513a",
   "metadata": {},
   "outputs": [
    {
     "data": {
      "text/plain": [
       "8"
      ]
     },
     "execution_count": 62,
     "metadata": {},
     "output_type": "execute_result"
    }
   ],
   "source": [
    "len(a)"
   ]
  },
  {
   "cell_type": "code",
   "execution_count": 66,
   "id": "5dac82ee",
   "metadata": {},
   "outputs": [
    {
     "name": "stdout",
     "output_type": "stream",
     "text": [
      "s\n",
      "l\n",
      "l\n",
      "i\n",
      "k\n",
      "s\n",
      "w\n",
      "p\n"
     ]
    }
   ],
   "source": [
    "string=\"pwskills\"\n",
    "ch=len(string)-1\n",
    "\n",
    "while ch>=0:\n",
    "    print(string[ch])\n",
    "    ch-=1"
   ]
  },
  {
   "cell_type": "code",
   "execution_count": 67,
   "id": "042fdd7e",
   "metadata": {},
   "outputs": [
    {
     "data": {
      "text/plain": [
       "[0, 1, 2, 3, 4, 5, 6, 7]"
      ]
     },
     "execution_count": 67,
     "metadata": {},
     "output_type": "execute_result"
    }
   ],
   "source": [
    "[i for i in range(len(a))]"
   ]
  },
  {
   "cell_type": "code",
   "execution_count": 68,
   "id": "3359de55",
   "metadata": {},
   "outputs": [],
   "source": [
    "name=\"pwskills\"\n",
    "vowles=\"AaEeIiOoUu\""
   ]
  },
  {
   "cell_type": "code",
   "execution_count": 70,
   "id": "d2c218a3",
   "metadata": {},
   "outputs": [
    {
     "name": "stdout",
     "output_type": "stream",
     "text": [
      "p is not a vowel \n",
      "w is not a vowel \n",
      "s is not a vowel \n",
      "k is not a vowel \n",
      "i is a vowel \n",
      "l is not a vowel \n",
      "l is not a vowel \n",
      "s is not a vowel \n"
     ]
    }
   ],
   "source": [
    "for ch in name:\n",
    "    if ch in vowles:\n",
    "        print('{} is a vowel '.format(ch))\n",
    "    else:\n",
    "        print('{} is not a vowel '.format(ch))"
   ]
  },
  {
   "cell_type": "markdown",
   "id": "25d0faa5",
   "metadata": {},
   "source": [
    "List"
   ]
  },
  {
   "cell_type": "code",
   "execution_count": 71,
   "id": "340d179a",
   "metadata": {},
   "outputs": [
    {
     "data": {
      "text/plain": [
       "list"
      ]
     },
     "execution_count": 71,
     "metadata": {},
     "output_type": "execute_result"
    }
   ],
   "source": [
    "type([])"
   ]
  },
  {
   "cell_type": "code",
   "execution_count": 72,
   "id": "0a23c725",
   "metadata": {},
   "outputs": [
    {
     "data": {
      "text/plain": [
       "['khadar', 'basha', 10, 25]"
      ]
     },
     "execution_count": 72,
     "metadata": {},
     "output_type": "execute_result"
    }
   ],
   "source": [
    "[\"khadar\",\"basha\",10,25]"
   ]
  },
  {
   "cell_type": "code",
   "execution_count": 73,
   "id": "3ad3d638",
   "metadata": {},
   "outputs": [
    {
     "data": {
      "text/plain": [
       "[10, 20, 30, 40]"
      ]
     },
     "execution_count": 73,
     "metadata": {},
     "output_type": "execute_result"
    }
   ],
   "source": [
    "list([10,20,30,40])"
   ]
  },
  {
   "cell_type": "code",
   "execution_count": 74,
   "id": "295ac3e0",
   "metadata": {},
   "outputs": [
    {
     "data": {
      "text/plain": [
       "'pwskills'"
      ]
     },
     "execution_count": 74,
     "metadata": {},
     "output_type": "execute_result"
    }
   ],
   "source": [
    "str2"
   ]
  },
  {
   "cell_type": "code",
   "execution_count": 75,
   "id": "29ba28f4",
   "metadata": {},
   "outputs": [
    {
     "data": {
      "text/plain": [
       "['p', 'w', 's', 'k', 'i', 'l', 'l', 's']"
      ]
     },
     "execution_count": 75,
     "metadata": {},
     "output_type": "execute_result"
    }
   ],
   "source": [
    "list(str2)"
   ]
  },
  {
   "cell_type": "code",
   "execution_count": 76,
   "id": "72dd3653",
   "metadata": {},
   "outputs": [],
   "source": [
    "str1=\"Pwskills Data Science Masters\""
   ]
  },
  {
   "cell_type": "code",
   "execution_count": 77,
   "id": "c3fe3d3b",
   "metadata": {},
   "outputs": [
    {
     "data": {
      "text/plain": [
       "['Pwskills', 'Data', 'Science', 'Masters']"
      ]
     },
     "execution_count": 77,
     "metadata": {},
     "output_type": "execute_result"
    }
   ],
   "source": [
    "list(str1.split(\" \"))"
   ]
  },
  {
   "cell_type": "code",
   "execution_count": 78,
   "id": "0faad3ed",
   "metadata": {},
   "outputs": [
    {
     "data": {
      "text/plain": [
       "['Pwskills', 'Data', 'Science', 'Masters']"
      ]
     },
     "execution_count": 78,
     "metadata": {},
     "output_type": "execute_result"
    }
   ],
   "source": [
    "str1.split(\" \")"
   ]
  },
  {
   "cell_type": "code",
   "execution_count": 79,
   "id": "a015f6be",
   "metadata": {},
   "outputs": [],
   "source": [
    "list1=list(str1.split(\" \"))"
   ]
  },
  {
   "cell_type": "code",
   "execution_count": 80,
   "id": "198c56de",
   "metadata": {},
   "outputs": [
    {
     "data": {
      "text/plain": [
       "['Masters', 'Science', 'Data', 'Pwskills']"
      ]
     },
     "execution_count": 80,
     "metadata": {},
     "output_type": "execute_result"
    }
   ],
   "source": [
    "list1[::-1]"
   ]
  },
  {
   "cell_type": "code",
   "execution_count": 85,
   "id": "f9af5bfe",
   "metadata": {},
   "outputs": [
    {
     "data": {
      "text/plain": [
       "['Pwskills']"
      ]
     },
     "execution_count": 85,
     "metadata": {},
     "output_type": "execute_result"
    }
   ],
   "source": [
    "list1[-4::-1]"
   ]
  },
  {
   "cell_type": "code",
   "execution_count": 86,
   "id": "c8c43092",
   "metadata": {},
   "outputs": [],
   "source": [
    "#concatenate operation"
   ]
  },
  {
   "cell_type": "code",
   "execution_count": 87,
   "id": "bd00e4a5",
   "metadata": {},
   "outputs": [
    {
     "data": {
      "text/plain": [
       "['Pwskills', 'Data', 'Science', 'Masters', 3]"
      ]
     },
     "execution_count": 87,
     "metadata": {},
     "output_type": "execute_result"
    }
   ],
   "source": [
    "list1+[3]"
   ]
  },
  {
   "cell_type": "code",
   "execution_count": 90,
   "id": "efb1fb63",
   "metadata": {},
   "outputs": [],
   "source": [
    "list2=list1+[['new element',3]]"
   ]
  },
  {
   "cell_type": "code",
   "execution_count": 91,
   "id": "dcbf1383",
   "metadata": {},
   "outputs": [
    {
     "data": {
      "text/plain": [
       "['Pwskills', 'Data', 'Science', 'Masters', ['new element', 3]]"
      ]
     },
     "execution_count": 91,
     "metadata": {},
     "output_type": "execute_result"
    }
   ],
   "source": [
    "list2"
   ]
  },
  {
   "cell_type": "code",
   "execution_count": 94,
   "id": "122c3fbb",
   "metadata": {},
   "outputs": [
    {
     "data": {
      "text/plain": [
       "'new element'"
      ]
     },
     "execution_count": 94,
     "metadata": {},
     "output_type": "execute_result"
    }
   ],
   "source": [
    "list2[-1][0]"
   ]
  },
  {
   "cell_type": "code",
   "execution_count": 95,
   "id": "6bdd30b0",
   "metadata": {},
   "outputs": [
    {
     "data": {
      "text/plain": [
       "['Pwskills',\n",
       " 'Data',\n",
       " 'Science',\n",
       " 'Masters',\n",
       " 'Pwskills',\n",
       " 'Data',\n",
       " 'Science',\n",
       " 'Masters']"
      ]
     },
     "execution_count": 95,
     "metadata": {},
     "output_type": "execute_result"
    }
   ],
   "source": [
    "list1*2"
   ]
  },
  {
   "cell_type": "code",
   "execution_count": 103,
   "id": "70f3eccd",
   "metadata": {},
   "outputs": [
    {
     "name": "stdout",
     "output_type": "stream",
     "text": [
      "present\n"
     ]
    }
   ],
   "source": [
    "#print(list1)\n",
    "for i in list1:\n",
    "    if 'Science' in list1:\n",
    "        print(\"present\")\n",
    "        break"
   ]
  },
  {
   "cell_type": "code",
   "execution_count": 101,
   "id": "af336639",
   "metadata": {},
   "outputs": [
    {
     "name": "stdout",
     "output_type": "stream",
     "text": [
      "['Pwskills', 'Data', 'Science', 'Masters']\n"
     ]
    }
   ],
   "source": [
    "print(list1)"
   ]
  },
  {
   "cell_type": "code",
   "execution_count": 104,
   "id": "207f2897",
   "metadata": {},
   "outputs": [
    {
     "name": "stdout",
     "output_type": "stream",
     "text": [
      "Zebra\n"
     ]
    }
   ],
   "source": [
    "list3=['Zebra','Monkey','Donkey','Lion']\n",
    "print(max(list3))"
   ]
  },
  {
   "cell_type": "code",
   "execution_count": 105,
   "id": "3c804e75",
   "metadata": {},
   "outputs": [
    {
     "data": {
      "text/plain": [
       "'Donkey'"
      ]
     },
     "execution_count": 105,
     "metadata": {},
     "output_type": "execute_result"
    }
   ],
   "source": [
    "min(list3)"
   ]
  },
  {
   "cell_type": "code",
   "execution_count": 107,
   "id": "4dbb8941",
   "metadata": {},
   "outputs": [],
   "source": [
    "#Sorting and Reverse method in list"
   ]
  },
  {
   "cell_type": "code",
   "execution_count": 109,
   "id": "54d426e9",
   "metadata": {},
   "outputs": [
    {
     "data": {
      "text/plain": [
       "['q', 'e', 'f', 's', 't', 'u']"
      ]
     },
     "execution_count": 109,
     "metadata": {},
     "output_type": "execute_result"
    }
   ],
   "source": [
    "new_list=['q','e','f','s','t','u']\n",
    "new_list"
   ]
  },
  {
   "cell_type": "code",
   "execution_count": 110,
   "id": "36d7aae4",
   "metadata": {},
   "outputs": [
    {
     "data": {
      "text/plain": [
       "['u', 't', 's', 'f', 'e', 'q']"
      ]
     },
     "execution_count": 110,
     "metadata": {},
     "output_type": "execute_result"
    }
   ],
   "source": [
    "new_list[::-1]"
   ]
  },
  {
   "cell_type": "code",
   "execution_count": 111,
   "id": "358547ad",
   "metadata": {},
   "outputs": [],
   "source": [
    "##inplace operstion\n",
    "new_list.reverse()"
   ]
  },
  {
   "cell_type": "code",
   "execution_count": 112,
   "id": "9e8f244d",
   "metadata": {},
   "outputs": [
    {
     "data": {
      "text/plain": [
       "['u', 't', 's', 'f', 'e', 'q']"
      ]
     },
     "execution_count": 112,
     "metadata": {},
     "output_type": "execute_result"
    }
   ],
   "source": [
    "new_list"
   ]
  },
  {
   "cell_type": "code",
   "execution_count": 113,
   "id": "f7599201",
   "metadata": {},
   "outputs": [],
   "source": [
    "new_list.sort()"
   ]
  },
  {
   "cell_type": "code",
   "execution_count": 115,
   "id": "eb4b03df",
   "metadata": {},
   "outputs": [
    {
     "data": {
      "text/plain": [
       "['e', 'f', 'q', 's', 't', 'u']"
      ]
     },
     "execution_count": 115,
     "metadata": {},
     "output_type": "execute_result"
    }
   ],
   "source": [
    "new_list"
   ]
  },
  {
   "cell_type": "code",
   "execution_count": 117,
   "id": "0f300bec",
   "metadata": {},
   "outputs": [],
   "source": [
    "lst=[1,2,3,4,5,6]\n",
    "lst.append(10)"
   ]
  },
  {
   "cell_type": "code",
   "execution_count": 118,
   "id": "e7bd8a9f",
   "metadata": {},
   "outputs": [
    {
     "data": {
      "text/plain": [
       "[1, 2, 3, 4, 5, 6, 10]"
      ]
     },
     "execution_count": 118,
     "metadata": {},
     "output_type": "execute_result"
    }
   ],
   "source": [
    "lst"
   ]
  },
  {
   "cell_type": "code",
   "execution_count": 119,
   "id": "9e8cbf69",
   "metadata": {},
   "outputs": [],
   "source": [
    "lst.extend(['pwskills','python'])"
   ]
  },
  {
   "cell_type": "code",
   "execution_count": 120,
   "id": "ff94f82b",
   "metadata": {},
   "outputs": [
    {
     "data": {
      "text/plain": [
       "[1, 2, 3, 4, 5, 6, 10, 'pwskills', 'python']"
      ]
     },
     "execution_count": 120,
     "metadata": {},
     "output_type": "execute_result"
    }
   ],
   "source": [
    "lst"
   ]
  },
  {
   "cell_type": "markdown",
   "id": "4317a75e",
   "metadata": {},
   "source": [
    "Nested List"
   ]
  },
  {
   "cell_type": "code",
   "execution_count": 121,
   "id": "5d9c5d9b",
   "metadata": {},
   "outputs": [],
   "source": [
    "#let's make three lists\n",
    "lst_1=[1,2,3]\n",
    "lst_2=[4,5,6]\n",
    "lst_3=[7,8,9]\n",
    "\n",
    "#Make a list of lists to form a matrix\n",
    "matrix=[lst_1,lst_2,lst_3]"
   ]
  },
  {
   "cell_type": "code",
   "execution_count": 122,
   "id": "da466029",
   "metadata": {},
   "outputs": [
    {
     "data": {
      "text/plain": [
       "[[1, 2, 3], [4, 5, 6], [7, 8, 9]]"
      ]
     },
     "execution_count": 122,
     "metadata": {},
     "output_type": "execute_result"
    }
   ],
   "source": [
    "matrix"
   ]
  },
  {
   "cell_type": "code",
   "execution_count": 124,
   "id": "546b8110",
   "metadata": {},
   "outputs": [
    {
     "data": {
      "text/plain": [
       "6"
      ]
     },
     "execution_count": 124,
     "metadata": {},
     "output_type": "execute_result"
    }
   ],
   "source": [
    "matrix[1][2]"
   ]
  },
  {
   "cell_type": "code",
   "execution_count": 127,
   "id": "db06e043",
   "metadata": {},
   "outputs": [
    {
     "data": {
      "text/plain": [
       "[8, 9]"
      ]
     },
     "execution_count": 127,
     "metadata": {},
     "output_type": "execute_result"
    }
   ],
   "source": [
    "matrix[2][1:]"
   ]
  },
  {
   "cell_type": "code",
   "execution_count": 128,
   "id": "23ae1049",
   "metadata": {},
   "outputs": [
    {
     "data": {
      "text/plain": [
       "[[1, 2, 3], [4, 5, 6], [7, 8, 9]]"
      ]
     },
     "execution_count": 128,
     "metadata": {},
     "output_type": "execute_result"
    }
   ],
   "source": [
    "matrix[:]"
   ]
  },
  {
   "cell_type": "code",
   "execution_count": 130,
   "id": "4a6b2669",
   "metadata": {},
   "outputs": [
    {
     "data": {
      "text/plain": [
       "[1, 2, 3]"
      ]
     },
     "execution_count": 130,
     "metadata": {},
     "output_type": "execute_result"
    }
   ],
   "source": [
    "matrix[0:][0]"
   ]
  },
  {
   "cell_type": "code",
   "execution_count": 131,
   "id": "6f026feb",
   "metadata": {},
   "outputs": [],
   "source": [
    "## list comprehension"
   ]
  },
  {
   "cell_type": "code",
   "execution_count": 133,
   "id": "eb1c0d60",
   "metadata": {},
   "outputs": [
    {
     "data": {
      "text/plain": [
       "[0, 1, 2, 3, 4, 5, 6, 7, 8, 9, 10, 11, 12, 13, 14, 15, 16, 17, 18, 19]"
      ]
     },
     "execution_count": 133,
     "metadata": {},
     "output_type": "execute_result"
    }
   ],
   "source": [
    "[i for i in range(20)]"
   ]
  },
  {
   "cell_type": "code",
   "execution_count": 134,
   "id": "39313c47",
   "metadata": {},
   "outputs": [
    {
     "data": {
      "text/plain": [
       "[0, 2, 4, 6, 8, 10, 12, 14, 16, 18]"
      ]
     },
     "execution_count": 134,
     "metadata": {},
     "output_type": "execute_result"
    }
   ],
   "source": [
    "## list comprehension\n",
    "## Even numbers\n",
    "\n",
    "[i for i in range(20) if i%2==0]"
   ]
  },
  {
   "cell_type": "code",
   "execution_count": 136,
   "id": "edb553f8",
   "metadata": {},
   "outputs": [
    {
     "data": {
      "text/plain": [
       "[0,\n",
       " 'ODD',\n",
       " 2,\n",
       " 'ODD',\n",
       " 4,\n",
       " 'ODD',\n",
       " 6,\n",
       " 'ODD',\n",
       " 8,\n",
       " 'ODD',\n",
       " 10,\n",
       " 'ODD',\n",
       " 12,\n",
       " 'ODD',\n",
       " 14,\n",
       " 'ODD',\n",
       " 16,\n",
       " 'ODD',\n",
       " 18,\n",
       " 'ODD']"
      ]
     },
     "execution_count": 136,
     "metadata": {},
     "output_type": "execute_result"
    }
   ],
   "source": [
    "[i if i%2==0 else \"ODD\" for i in range(20)]"
   ]
  },
  {
   "cell_type": "code",
   "execution_count": 137,
   "id": "b5068443",
   "metadata": {},
   "outputs": [
    {
     "name": "stdout",
     "output_type": "stream",
     "text": [
      "Event sum 20 Odd sum 16 \n"
     ]
    }
   ],
   "source": [
    "#Assignment\n",
    "#Sum of even numbers and odd numbers\n",
    "lst=[1,2,3,4,5,6,7,8]\n",
    "\n",
    "even_sum=0\n",
    "odd_sum=0\n",
    "\n",
    "for i in lst:\n",
    "    if i%2==0:\n",
    "        even_sum+=i\n",
    "    else:\n",
    "        odd_sum+=i\n",
    "\n",
    "print(\"Event sum {} Odd sum {} \".format(even_sum,odd_sum))"
   ]
  },
  {
   "cell_type": "code",
   "execution_count": 138,
   "id": "f431cf06",
   "metadata": {},
   "outputs": [],
   "source": [
    "event_sum=sum([i for i in lst if i%2==0])"
   ]
  },
  {
   "cell_type": "code",
   "execution_count": 139,
   "id": "e4c9b643",
   "metadata": {},
   "outputs": [],
   "source": [
    "odd_sum=sum([i for i in lst if i%2!=0])"
   ]
  },
  {
   "cell_type": "code",
   "execution_count": 140,
   "id": "b8b7d334",
   "metadata": {},
   "outputs": [
    {
     "name": "stdout",
     "output_type": "stream",
     "text": [
      "Event sum 20 Odd sum 16 \n"
     ]
    }
   ],
   "source": [
    "print(\"Event sum {} Odd sum {} \".format(even_sum,odd_sum))"
   ]
  },
  {
   "cell_type": "code",
   "execution_count": 141,
   "id": "b2e8e1f9",
   "metadata": {},
   "outputs": [
    {
     "data": {
      "text/plain": [
       "[1, 4, 9, 16, 25, 36, 49, 64, 81, 100]"
      ]
     },
     "execution_count": 141,
     "metadata": {},
     "output_type": "execute_result"
    }
   ],
   "source": [
    "lst=[1,2,3,4,5,6,7,8,9,10]\n",
    "[i**2 for i in lst]"
   ]
  },
  {
   "cell_type": "code",
   "execution_count": 146,
   "id": "90808630",
   "metadata": {},
   "outputs": [
    {
     "data": {
      "text/plain": [
       "[0, 1, 2, 3, 4]"
      ]
     },
     "execution_count": 146,
     "metadata": {},
     "output_type": "execute_result"
    }
   ],
   "source": [
    "#Exampl2\n",
    "#Create a list only a positive numbers from given list\n",
    "numbers=[-2,-1,0,1,2,3,4]\n",
    "\n",
    "[i for i in numbers if i>=0]"
   ]
  },
  {
   "cell_type": "code",
   "execution_count": 148,
   "id": "a6075b7d",
   "metadata": {},
   "outputs": [
    {
     "data": {
      "text/plain": [
       "['a', 'b', 'c', 'd']"
      ]
     },
     "execution_count": 148,
     "metadata": {},
     "output_type": "execute_result"
    }
   ],
   "source": [
    "#Example 3 :Create a list frist letter of words in list\n",
    "words=['apple','banana','cherry','date']\n",
    "\n",
    "[word[0] for word in words]"
   ]
  },
  {
   "cell_type": "code",
   "execution_count": 149,
   "id": "fff401c3",
   "metadata": {},
   "outputs": [],
   "source": [
    "#(9/5)*temp+32"
   ]
  },
  {
   "cell_type": "code",
   "execution_count": 150,
   "id": "02f5466f",
   "metadata": {},
   "outputs": [],
   "source": [
    "#Example 4:\n",
    "#Convert a list of temperatures from celsius to farherenheit using list comprehension\n",
    "celsius_temperatures=[0,10,20,30,40,50]"
   ]
  },
  {
   "cell_type": "code",
   "execution_count": 151,
   "id": "f7a6db66",
   "metadata": {},
   "outputs": [
    {
     "data": {
      "text/plain": [
       "[32.0, 50.0, 68.0, 86.0, 104.0, 122.0]"
      ]
     },
     "execution_count": 151,
     "metadata": {},
     "output_type": "execute_result"
    }
   ],
   "source": [
    "[((9/5)*temp+32) for temp in celsius_temperatures]"
   ]
  },
  {
   "cell_type": "code",
   "execution_count": 153,
   "id": "187147d2",
   "metadata": {},
   "outputs": [],
   "source": [
    "#Example 5\n",
    "#Flatten a list of lists into a single list\n",
    "lists=[[1,2,3],[4,5,6],[7,8,9]]"
   ]
  },
  {
   "cell_type": "code",
   "execution_count": 159,
   "id": "aa0cd27e",
   "metadata": {},
   "outputs": [],
   "source": [
    "new_lst=[]\n",
    "new_lst.extend(lists[0])\n",
    "new_lst.extend(lists[1])\n",
    "new_lst.extend(lists[2])"
   ]
  },
  {
   "cell_type": "code",
   "execution_count": 160,
   "id": "501b7b39",
   "metadata": {},
   "outputs": [
    {
     "data": {
      "text/plain": [
       "[1, 2, 3, 4, 5, 6, 7, 8, 9]"
      ]
     },
     "execution_count": 160,
     "metadata": {},
     "output_type": "execute_result"
    }
   ],
   "source": [
    "new_lst"
   ]
  },
  {
   "cell_type": "code",
   "execution_count": 161,
   "id": "a0b42700",
   "metadata": {},
   "outputs": [
    {
     "data": {
      "text/plain": [
       "[1, 2, 3, 4, 5, 6, 7, 8, 9]"
      ]
     },
     "execution_count": 161,
     "metadata": {},
     "output_type": "execute_result"
    }
   ],
   "source": [
    "[num for sublist in lists for num in sublist]"
   ]
  },
  {
   "cell_type": "code",
   "execution_count": 4,
   "id": "5c6d2d76",
   "metadata": {},
   "outputs": [],
   "source": [
    "from uuid import uuid4 "
   ]
  },
  {
   "cell_type": "code",
   "execution_count": 6,
   "id": "4706e161",
   "metadata": {},
   "outputs": [
    {
     "data": {
      "text/plain": [
       "UUID('288340a0-0f0b-49ed-b48d-8a9f6e1a2274')"
      ]
     },
     "execution_count": 6,
     "metadata": {},
     "output_type": "execute_result"
    }
   ],
   "source": [
    "uuid4()"
   ]
  },
  {
   "cell_type": "code",
   "execution_count": null,
   "id": "59d2c056",
   "metadata": {},
   "outputs": [],
   "source": []
  }
 ],
 "metadata": {
  "kernelspec": {
   "display_name": "Python 3 (ipykernel)",
   "language": "python",
   "name": "python3"
  },
  "language_info": {
   "codemirror_mode": {
    "name": "ipython",
    "version": 3
   },
   "file_extension": ".py",
   "mimetype": "text/x-python",
   "name": "python",
   "nbconvert_exporter": "python",
   "pygments_lexer": "ipython3",
   "version": "3.9.13"
  }
 },
 "nbformat": 4,
 "nbformat_minor": 5
}
