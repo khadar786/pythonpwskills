{
 "cells": [
  {
   "cell_type": "code",
   "execution_count": 2,
   "id": "0efb6f26",
   "metadata": {},
   "outputs": [],
   "source": [
    "#Day1 -Data Science MAsters\n",
    "#http://localhost:8888/notebooks/DataScienceMasters/Day1%20-Data%20Science%20MAsters.ipynb\n",
    "\n",
    "#1_Python_Programming_Language_Overview\n",
    "#http://localhost:8888/notebooks/DataScienceMasters/1_Python_Programming_Language_Overview.ipynb"
   ]
  },
  {
   "cell_type": "code",
   "execution_count": 4,
   "id": "6138df0d",
   "metadata": {},
   "outputs": [],
   "source": [
    "# 30th Jan Live Class python Conditions,if,else,ifelif, while,for loops and llop controls\n",
    "\n",
    "#http://localhost:8888/notebooks/DataScienceMasters/Day_2_Control_Flow.ipynb\n",
    "#http://localhost:8888/notebooks/DataScienceMasters/Day%202%20Python%20Condition%20and%20Loops%20.ipynb"
   ]
  },
  {
   "cell_type": "code",
   "execution_count": 6,
   "id": "d01e61c7",
   "metadata": {},
   "outputs": [],
   "source": [
    "#31st Jan Live Class String_manipulation_and_methods ,Expressions,_Operators,_and_Precedence\n",
    "#http://localhost:8888/notebooks/DataScienceMasters/Day%203-%20Python%20Operators%20and%20Lists%20(1).ipynb\n",
    "#http://localhost:8888/notebooks/DataScienceMasters/Expressions%2C_Operators%2C_and_Precedence.ipynb\n",
    "#http://localhost:8888/notebooks/DataScienceMasters/String_manipulation_and_methods.ipynb"
   ]
  },
  {
   "cell_type": "code",
   "execution_count": 7,
   "id": "8631465f",
   "metadata": {},
   "outputs": [],
   "source": [
    "#1st Feb Live Class Strings List\n",
    "#krishnaik\n",
    "#http://localhost:8888/notebooks/DataScienceMasters/Krishnaik/Day%204%20Strings%20List.ipynb\n",
    "#http://localhost:8888/notebooks/DataScienceMasters/%201st%20Feb%20Live%20Class%20Strings%20List.ipynb"
   ]
  },
  {
   "cell_type": "code",
   "execution_count": 8,
   "id": "af8bd5e0",
   "metadata": {},
   "outputs": [],
   "source": [
    "#2 Feb'23 Tuples, Set, Dictionaries & Its Working\n",
    "#http://localhost:8888/notebooks/DataScienceMasters/Sudhanshu/2%20Feb'23%20Tuples%2C%20Set%2C%20Dictionaries%20%26%20Its%20Working/Tuple%20Eng.ipynb\n",
    "#http://localhost:8888/notebooks/DataScienceMasters/Sudhanshu/2%20Feb'23%20Tuples%2C%20Set%2C%20Dictionaries%20%26%20Its%20Working/sets.ipynb\n",
    "#http://localhost:8888/notebooks/DataScienceMasters/Sudhanshu/2%20Feb'23%20Tuples%2C%20Set%2C%20Dictionaries%20%26%20Its%20Working/Dict%20Eng.ipynb"
   ]
  },
  {
   "cell_type": "code",
   "execution_count": 3,
   "id": "9c43bb2a",
   "metadata": {},
   "outputs": [],
   "source": [
    "#3 Feb'23 Function\n",
    "#Functions Basics, Parameter Passing, Iterators.\n",
    "#Generator Functions\n",
    "#http://localhost:8888/notebooks/DataScienceMasters/3%20Feb'23%20Function%20Basics%2C%20Parameter%20Passing%2C%20Iterators%2C%20Generator%20Functions.ipynb"
   ]
  },
  {
   "cell_type": "code",
   "execution_count": 4,
   "id": "fc72bc86",
   "metadata": {},
   "outputs": [],
   "source": [
    "#4 Feb'23 Function\n",
    "#Lambda Functions\n",
    "#Map, Reduce, Filter Functions.\n",
    "#http://localhost:8888/notebooks/DataScienceMasters/4th%20Feb'23%20Functions%20Lambda%2CMap%2CReduce%20and%20Filter.ipynb"
   ]
  },
  {
   "cell_type": "code",
   "execution_count": 1,
   "id": "f84e23c3",
   "metadata": {},
   "outputs": [],
   "source": [
    "#5th Feb'23 OOPS\n",
    "#http://localhost:8888/notebooks/DataScienceMasters/5th%20Feb'23%20OOPS.ipynb"
   ]
  },
  {
   "cell_type": "code",
   "execution_count": 1,
   "id": "269c8882",
   "metadata": {},
   "outputs": [],
   "source": [
    "#10th Feb'23 OOPs Concepts\n",
    "#http://localhost:8888/notebooks/DataScienceMasters/10th%20Feb'23%20OOPs%20Concepts.ipynb"
   ]
  },
  {
   "cell_type": "code",
   "execution_count": null,
   "id": "7ee82ab5",
   "metadata": {},
   "outputs": [],
   "source": []
  }
 ],
 "metadata": {
  "kernelspec": {
   "display_name": "Python 3 (ipykernel)",
   "language": "python",
   "name": "python3"
  },
  "language_info": {
   "codemirror_mode": {
    "name": "ipython",
    "version": 3
   },
   "file_extension": ".py",
   "mimetype": "text/x-python",
   "name": "python",
   "nbconvert_exporter": "python",
   "pygments_lexer": "ipython3",
   "version": "3.9.13"
  }
 },
 "nbformat": 4,
 "nbformat_minor": 5
}
