{
 "cells": [
  {
   "cell_type": "code",
   "execution_count": 3,
   "id": "d0d6c784",
   "metadata": {},
   "outputs": [],
   "source": [
    "#What isthe module : in folder file is called moudle\n",
    "#What is the package : nothing but a folder\n",
    "#F:\\Python\\Jupyter\\DataScienceMasters\\pwskills"
   ]
  },
  {
   "cell_type": "code",
   "execution_count": null,
   "id": "c414d067",
   "metadata": {},
   "outputs": [],
   "source": []
  }
 ],
 "metadata": {
  "kernelspec": {
   "display_name": "Python 3 (ipykernel)",
   "language": "python",
   "name": "python3"
  },
  "language_info": {
   "codemirror_mode": {
    "name": "ipython",
    "version": 3
   },
   "file_extension": ".py",
   "mimetype": "text/x-python",
   "name": "python",
   "nbconvert_exporter": "python",
   "pygments_lexer": "ipython3",
   "version": "3.9.13"
  }
 },
 "nbformat": 4,
 "nbformat_minor": 5
}
