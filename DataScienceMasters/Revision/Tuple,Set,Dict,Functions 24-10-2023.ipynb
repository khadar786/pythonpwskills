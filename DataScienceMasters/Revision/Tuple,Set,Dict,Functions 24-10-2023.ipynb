{
 "cells": [
  {
   "cell_type": "code",
   "execution_count": 1,
   "id": "475a0165",
   "metadata": {},
   "outputs": [],
   "source": [
    "t=()"
   ]
  },
  {
   "cell_type": "code",
   "execution_count": 2,
   "id": "9de9273d",
   "metadata": {},
   "outputs": [
    {
     "data": {
      "text/plain": [
       "tuple"
      ]
     },
     "execution_count": 2,
     "metadata": {},
     "output_type": "execute_result"
    }
   ],
   "source": [
    "type(t)"
   ]
  },
  {
   "cell_type": "code",
   "execution_count": 3,
   "id": "10446021",
   "metadata": {},
   "outputs": [],
   "source": [
    "t1=(1,2,3,4,45.5,45+7j,\"sudh\",True)"
   ]
  },
  {
   "cell_type": "code",
   "execution_count": 4,
   "id": "c8499bf6",
   "metadata": {},
   "outputs": [
    {
     "data": {
      "text/plain": [
       "tuple"
      ]
     },
     "execution_count": 4,
     "metadata": {},
     "output_type": "execute_result"
    }
   ],
   "source": [
    "type(t1)"
   ]
  },
  {
   "cell_type": "code",
   "execution_count": 5,
   "id": "91edf2b3",
   "metadata": {},
   "outputs": [
    {
     "data": {
      "text/plain": [
       "1"
      ]
     },
     "execution_count": 5,
     "metadata": {},
     "output_type": "execute_result"
    }
   ],
   "source": [
    "t1[0]"
   ]
  },
  {
   "cell_type": "code",
   "execution_count": 6,
   "id": "d4cc188b",
   "metadata": {},
   "outputs": [
    {
     "data": {
      "text/plain": [
       "(True, 'sudh', (45+7j), 45.5, 4, 3, 2, 1)"
      ]
     },
     "execution_count": 6,
     "metadata": {},
     "output_type": "execute_result"
    }
   ],
   "source": [
    "t1[::-1]"
   ]
  },
  {
   "cell_type": "code",
   "execution_count": 7,
   "id": "50c85128",
   "metadata": {},
   "outputs": [
    {
     "data": {
      "text/plain": [
       "(1, 2, 3, 4, 45.5)"
      ]
     },
     "execution_count": 7,
     "metadata": {},
     "output_type": "execute_result"
    }
   ],
   "source": [
    "t1[0:5]"
   ]
  },
  {
   "cell_type": "code",
   "execution_count": 8,
   "id": "6e29c1d1",
   "metadata": {},
   "outputs": [
    {
     "data": {
      "text/plain": [
       "1"
      ]
     },
     "execution_count": 8,
     "metadata": {},
     "output_type": "execute_result"
    }
   ],
   "source": [
    "t1.count(\"sudh\")"
   ]
  },
  {
   "cell_type": "code",
   "execution_count": 9,
   "id": "66d82cfa",
   "metadata": {},
   "outputs": [
    {
     "data": {
      "text/plain": [
       "4"
      ]
     },
     "execution_count": 9,
     "metadata": {},
     "output_type": "execute_result"
    }
   ],
   "source": [
    "t1.index(45.5)"
   ]
  },
  {
   "cell_type": "code",
   "execution_count": 10,
   "id": "b505558c",
   "metadata": {},
   "outputs": [
    {
     "name": "stdout",
     "output_type": "stream",
     "text": [
      "1 <class 'int'>\n",
      "2 <class 'int'>\n",
      "3 <class 'int'>\n",
      "4 <class 'int'>\n",
      "45.5 <class 'float'>\n",
      "(45+7j) <class 'complex'>\n",
      "sudh <class 'str'>\n",
      "True <class 'bool'>\n"
     ]
    }
   ],
   "source": [
    "for i in t1:\n",
    "    print(i,type(i))"
   ]
  },
  {
   "cell_type": "code",
   "execution_count": 11,
   "id": "4f0e1055",
   "metadata": {},
   "outputs": [],
   "source": [
    "t2=(1,2,3,3,4)"
   ]
  },
  {
   "cell_type": "code",
   "execution_count": 12,
   "id": "88f21599",
   "metadata": {},
   "outputs": [
    {
     "data": {
      "text/plain": [
       "(1, 2, 3, 3, 4, 1, 2, 3, 3, 4, 1, 2, 3, 3, 4)"
      ]
     },
     "execution_count": 12,
     "metadata": {},
     "output_type": "execute_result"
    }
   ],
   "source": [
    "t2*3"
   ]
  },
  {
   "cell_type": "code",
   "execution_count": 13,
   "id": "658b6bcc",
   "metadata": {},
   "outputs": [
    {
     "data": {
      "text/plain": [
       "4"
      ]
     },
     "execution_count": 13,
     "metadata": {},
     "output_type": "execute_result"
    }
   ],
   "source": [
    "max(t2)"
   ]
  },
  {
   "cell_type": "code",
   "execution_count": 14,
   "id": "15190022",
   "metadata": {},
   "outputs": [
    {
     "data": {
      "text/plain": [
       "1"
      ]
     },
     "execution_count": 14,
     "metadata": {},
     "output_type": "execute_result"
    }
   ],
   "source": [
    "min(t2)"
   ]
  },
  {
   "cell_type": "code",
   "execution_count": 15,
   "id": "a111ff2f",
   "metadata": {},
   "outputs": [
    {
     "data": {
      "text/plain": [
       "'Tuple are basically follows immutability concepts where it is not going to allow to change any element at a particular index'"
      ]
     },
     "execution_count": 15,
     "metadata": {},
     "output_type": "execute_result"
    }
   ],
   "source": [
    "\"\"\"Tuple are basically follows immutability concepts where it is not going to allow to change any element at a particular index\"\"\""
   ]
  },
  {
   "cell_type": "code",
   "execution_count": 16,
   "id": "c3eb1dbe",
   "metadata": {},
   "outputs": [],
   "source": [
    "# 1.immutability\n",
    "# 2.two methods index,count\n",
    "# max,min"
   ]
  },
  {
   "cell_type": "code",
   "execution_count": 17,
   "id": "650410e1",
   "metadata": {},
   "outputs": [],
   "source": [
    "t1=(1,2,32,4)\n",
    "t2=(4,5,6,7,8)"
   ]
  },
  {
   "cell_type": "code",
   "execution_count": 18,
   "id": "39199867",
   "metadata": {},
   "outputs": [],
   "source": [
    "t3=(t1,t2)"
   ]
  },
  {
   "cell_type": "code",
   "execution_count": 19,
   "id": "eee693d6",
   "metadata": {},
   "outputs": [
    {
     "data": {
      "text/plain": [
       "((1, 2, 32, 4), (4, 5, 6, 7, 8))"
      ]
     },
     "execution_count": 19,
     "metadata": {},
     "output_type": "execute_result"
    }
   ],
   "source": [
    "t3"
   ]
  },
  {
   "cell_type": "code",
   "execution_count": 20,
   "id": "3caf5f27",
   "metadata": {},
   "outputs": [
    {
     "data": {
      "text/plain": [
       "5"
      ]
     },
     "execution_count": 20,
     "metadata": {},
     "output_type": "execute_result"
    }
   ],
   "source": [
    "t3[1][1]"
   ]
  },
  {
   "cell_type": "code",
   "execution_count": 21,
   "id": "db1af8e9",
   "metadata": {},
   "outputs": [],
   "source": [
    "t4=(t1,[10,20,30,50])"
   ]
  },
  {
   "cell_type": "code",
   "execution_count": 22,
   "id": "a1f5e2be",
   "metadata": {},
   "outputs": [
    {
     "data": {
      "text/plain": [
       "((1, 2, 32, 4), [10, 20, 30, 50])"
      ]
     },
     "execution_count": 22,
     "metadata": {},
     "output_type": "execute_result"
    }
   ],
   "source": [
    "t4"
   ]
  },
  {
   "cell_type": "code",
   "execution_count": 23,
   "id": "44bbdd20",
   "metadata": {},
   "outputs": [],
   "source": [
    "del t4"
   ]
  },
  {
   "cell_type": "code",
   "execution_count": 24,
   "id": "4af94546",
   "metadata": {},
   "outputs": [
    {
     "data": {
      "text/plain": [
       "2"
      ]
     },
     "execution_count": 24,
     "metadata": {},
     "output_type": "execute_result"
    }
   ],
   "source": [
    "len(t3)"
   ]
  },
  {
   "cell_type": "code",
   "execution_count": 25,
   "id": "fc91eed6",
   "metadata": {},
   "outputs": [],
   "source": [
    "#Sets"
   ]
  },
  {
   "cell_type": "code",
   "execution_count": 26,
   "id": "643dd394",
   "metadata": {},
   "outputs": [],
   "source": [
    "s={}"
   ]
  },
  {
   "cell_type": "code",
   "execution_count": 27,
   "id": "eaef3f49",
   "metadata": {},
   "outputs": [
    {
     "data": {
      "text/plain": [
       "dict"
      ]
     },
     "execution_count": 27,
     "metadata": {},
     "output_type": "execute_result"
    }
   ],
   "source": [
    "type(s)"
   ]
  },
  {
   "cell_type": "code",
   "execution_count": 28,
   "id": "520d3ad6",
   "metadata": {},
   "outputs": [],
   "source": [
    "s1={10,20}"
   ]
  },
  {
   "cell_type": "code",
   "execution_count": 29,
   "id": "e8434532",
   "metadata": {},
   "outputs": [
    {
     "data": {
      "text/plain": [
       "set"
      ]
     },
     "execution_count": 29,
     "metadata": {},
     "output_type": "execute_result"
    }
   ],
   "source": [
    "type(s1)"
   ]
  },
  {
   "cell_type": "code",
   "execution_count": 30,
   "id": "f4e10820",
   "metadata": {},
   "outputs": [],
   "source": [
    "s2={1,1,12,3,3,4,5,5,10,12,12,15,15,15}"
   ]
  },
  {
   "cell_type": "code",
   "execution_count": 31,
   "id": "e6585179",
   "metadata": {},
   "outputs": [
    {
     "data": {
      "text/plain": [
       "{1, 3, 4, 5, 10, 12, 15}"
      ]
     },
     "execution_count": 31,
     "metadata": {},
     "output_type": "execute_result"
    }
   ],
   "source": [
    "s2"
   ]
  },
  {
   "cell_type": "code",
   "execution_count": 32,
   "id": "c5badab3",
   "metadata": {},
   "outputs": [
    {
     "name": "stdout",
     "output_type": "stream",
     "text": [
      "1\n",
      "3\n",
      "4\n",
      "5\n",
      "10\n",
      "12\n",
      "15\n"
     ]
    }
   ],
   "source": [
    "for i in s2:\n",
    "    print(i)"
   ]
  },
  {
   "cell_type": "code",
   "execution_count": 33,
   "id": "f8c06f3d",
   "metadata": {},
   "outputs": [],
   "source": [
    "#set holds the unique elements"
   ]
  },
  {
   "cell_type": "code",
   "execution_count": 34,
   "id": "38c299e1",
   "metadata": {},
   "outputs": [
    {
     "data": {
      "text/plain": [
       "[1, 3, 4, 5, 10, 12, 15]"
      ]
     },
     "execution_count": 34,
     "metadata": {},
     "output_type": "execute_result"
    }
   ],
   "source": [
    "list(s2)"
   ]
  },
  {
   "cell_type": "code",
   "execution_count": 35,
   "id": "2da7dd1f",
   "metadata": {},
   "outputs": [
    {
     "data": {
      "text/plain": [
       "(1, 3, 4, 5, 10, 12, 15)"
      ]
     },
     "execution_count": 35,
     "metadata": {},
     "output_type": "execute_result"
    }
   ],
   "source": [
    "tuple(s2)"
   ]
  },
  {
   "cell_type": "code",
   "execution_count": 36,
   "id": "faf6f5ba",
   "metadata": {},
   "outputs": [],
   "source": [
    "l=[10,11,12,13,14,15]"
   ]
  },
  {
   "cell_type": "code",
   "execution_count": 37,
   "id": "0b24cba7",
   "metadata": {},
   "outputs": [
    {
     "data": {
      "text/plain": [
       "{10, 11, 12, 13, 14, 15}"
      ]
     },
     "execution_count": 37,
     "metadata": {},
     "output_type": "execute_result"
    }
   ],
   "source": [
    "set(l)"
   ]
  },
  {
   "cell_type": "code",
   "execution_count": 38,
   "id": "5a40bc88",
   "metadata": {},
   "outputs": [
    {
     "ename": "TypeError",
     "evalue": "unhashable type: 'list'",
     "output_type": "error",
     "traceback": [
      "\u001b[1;31m---------------------------------------------------------------------------\u001b[0m",
      "\u001b[1;31mTypeError\u001b[0m                                 Traceback (most recent call last)",
      "\u001b[1;32m~\\AppData\\Local\\Temp\\ipykernel_18448\\2972598887.py\u001b[0m in \u001b[0;36m<module>\u001b[1;34m\u001b[0m\n\u001b[1;32m----> 1\u001b[1;33m \u001b[0ms4\u001b[0m\u001b[1;33m=\u001b[0m\u001b[1;33m{\u001b[0m\u001b[1;36m1\u001b[0m\u001b[1;33m,\u001b[0m\u001b[1;36m2\u001b[0m\u001b[1;33m,\u001b[0m\u001b[1;36m3\u001b[0m\u001b[1;33m,\u001b[0m\u001b[1;36m4\u001b[0m\u001b[1;33m,\u001b[0m\u001b[1;33m[\u001b[0m\u001b[1;36m10\u001b[0m\u001b[1;33m,\u001b[0m\u001b[1;36m11\u001b[0m\u001b[1;33m]\u001b[0m\u001b[1;33m}\u001b[0m\u001b[1;33m\u001b[0m\u001b[1;33m\u001b[0m\u001b[0m\n\u001b[0m",
      "\u001b[1;31mTypeError\u001b[0m: unhashable type: 'list'"
     ]
    }
   ],
   "source": [
    "s4={1,2,3,4,[10,11]}"
   ]
  },
  {
   "cell_type": "code",
   "execution_count": null,
   "id": "c78cf3f0",
   "metadata": {},
   "outputs": [],
   "source": [
    "#Note\n",
    "#list is the mutable element that's why set not allowing the list"
   ]
  },
  {
   "cell_type": "code",
   "execution_count": null,
   "id": "072ca04a",
   "metadata": {},
   "outputs": [],
   "source": [
    "s5={1,2,3,4,(202,30,50)}"
   ]
  },
  {
   "cell_type": "code",
   "execution_count": null,
   "id": "20e41230",
   "metadata": {},
   "outputs": [],
   "source": [
    "s5"
   ]
  },
  {
   "cell_type": "code",
   "execution_count": null,
   "id": "4900408a",
   "metadata": {},
   "outputs": [],
   "source": [
    "s6={\"sudh\",\"Sudh\",\"khadar\",\"khadar\",10,10}"
   ]
  },
  {
   "cell_type": "code",
   "execution_count": null,
   "id": "509a102b",
   "metadata": {},
   "outputs": [],
   "source": [
    "s6"
   ]
  },
  {
   "cell_type": "code",
   "execution_count": null,
   "id": "84825ce2",
   "metadata": {},
   "outputs": [],
   "source": [
    "#set value not accessing based on index\n",
    "#hashable indexes\n",
    "#slice also not working"
   ]
  },
  {
   "cell_type": "code",
   "execution_count": null,
   "id": "534698d3",
   "metadata": {},
   "outputs": [],
   "source": [
    "s2.add(10)"
   ]
  },
  {
   "cell_type": "code",
   "execution_count": null,
   "id": "bca0876f",
   "metadata": {},
   "outputs": [],
   "source": [
    "s2"
   ]
  },
  {
   "cell_type": "code",
   "execution_count": null,
   "id": "18ba1d75",
   "metadata": {},
   "outputs": [],
   "source": [
    "s2.add(10)"
   ]
  },
  {
   "cell_type": "code",
   "execution_count": null,
   "id": "16aa823e",
   "metadata": {},
   "outputs": [],
   "source": [
    "s2"
   ]
  },
  {
   "cell_type": "code",
   "execution_count": null,
   "id": "d5305537",
   "metadata": {},
   "outputs": [],
   "source": [
    "len(s2)"
   ]
  },
  {
   "cell_type": "code",
   "execution_count": null,
   "id": "ceb107f1",
   "metadata": {},
   "outputs": [],
   "source": [
    "s2.pop()"
   ]
  },
  {
   "cell_type": "code",
   "execution_count": null,
   "id": "8c2b790f",
   "metadata": {},
   "outputs": [],
   "source": [
    "s2"
   ]
  },
  {
   "cell_type": "code",
   "execution_count": null,
   "id": "9b15187a",
   "metadata": {},
   "outputs": [],
   "source": [
    "s2.pop()"
   ]
  },
  {
   "cell_type": "code",
   "execution_count": null,
   "id": "fb39922a",
   "metadata": {},
   "outputs": [],
   "source": [
    "s2"
   ]
  },
  {
   "cell_type": "code",
   "execution_count": null,
   "id": "9fe16c59",
   "metadata": {},
   "outputs": [],
   "source": [
    "s2.clear()"
   ]
  },
  {
   "cell_type": "code",
   "execution_count": null,
   "id": "fd80a3e2",
   "metadata": {},
   "outputs": [],
   "source": [
    "s2"
   ]
  },
  {
   "cell_type": "code",
   "execution_count": null,
   "id": "b451abc4",
   "metadata": {},
   "outputs": [],
   "source": [
    "s8={1,2,3,4}\n",
    "s9={1,2,3,5}"
   ]
  },
  {
   "cell_type": "code",
   "execution_count": null,
   "id": "b75445dc",
   "metadata": {},
   "outputs": [],
   "source": [
    "s8.difference(s9)"
   ]
  },
  {
   "cell_type": "code",
   "execution_count": null,
   "id": "5885fff1",
   "metadata": {},
   "outputs": [],
   "source": [
    "s9.difference(s8)"
   ]
  },
  {
   "cell_type": "code",
   "execution_count": null,
   "id": "7bee3417",
   "metadata": {},
   "outputs": [],
   "source": [
    "4 in s8"
   ]
  },
  {
   "cell_type": "code",
   "execution_count": null,
   "id": "51b746a8",
   "metadata": {},
   "outputs": [],
   "source": [
    "if 4 in s8:\n",
    "    print(\"Find out\")\n",
    "else:\n",
    "    print(\"Fail\")"
   ]
  },
  {
   "cell_type": "code",
   "execution_count": null,
   "id": "182bc142",
   "metadata": {},
   "outputs": [],
   "source": [
    "x = 5\n",
    "\n",
    "if x > 7:\n",
    "\n",
    "   print(\"A\")\n",
    "\n",
    "if x > 4:\n",
    "\n",
    "   print(\"B\")\n",
    "\n",
    "else:\n",
    "\n",
    "   print(\"C\")"
   ]
  },
  {
   "cell_type": "code",
   "execution_count": null,
   "id": "2f8babd1",
   "metadata": {},
   "outputs": [],
   "source": [
    "x = 7\n",
    "\n",
    "if x > 5:\n",
    "\n",
    "   print(\"A\")\n",
    "\n",
    "if x > 7:\n",
    "\n",
    "   print(\"B\")"
   ]
  },
  {
   "cell_type": "code",
   "execution_count": null,
   "id": "f2e1f6c8",
   "metadata": {},
   "outputs": [],
   "source": [
    "#Dictionaries"
   ]
  },
  {
   "cell_type": "code",
   "execution_count": null,
   "id": "e42f6aad",
   "metadata": {},
   "outputs": [],
   "source": [
    "d={}"
   ]
  },
  {
   "cell_type": "code",
   "execution_count": null,
   "id": "e1d70eaa",
   "metadata": {},
   "outputs": [],
   "source": [
    "type(d)"
   ]
  },
  {
   "cell_type": "code",
   "execution_count": null,
   "id": "38b4b14e",
   "metadata": {},
   "outputs": [],
   "source": [
    "d1={\"name\":\"sudh\",\"email_id\":\"s@gmail.com\",\"number\":2323213}"
   ]
  },
  {
   "cell_type": "code",
   "execution_count": null,
   "id": "f3beefec",
   "metadata": {},
   "outputs": [],
   "source": [
    "d1[\"name\"]"
   ]
  },
  {
   "cell_type": "code",
   "execution_count": null,
   "id": "81a97e19",
   "metadata": {},
   "outputs": [],
   "source": [
    "d1.items()"
   ]
  },
  {
   "cell_type": "code",
   "execution_count": null,
   "id": "52fe2169",
   "metadata": {},
   "outputs": [],
   "source": [
    "d1.values()"
   ]
  },
  {
   "cell_type": "code",
   "execution_count": null,
   "id": "1d7f6a22",
   "metadata": {},
   "outputs": [],
   "source": [
    "d1.keys()"
   ]
  },
  {
   "cell_type": "code",
   "execution_count": null,
   "id": "e14c855e",
   "metadata": {},
   "outputs": [],
   "source": [
    "for i in d1:\n",
    "    print(i,d1[i])"
   ]
  },
  {
   "cell_type": "code",
   "execution_count": null,
   "id": "36ea867a",
   "metadata": {},
   "outputs": [],
   "source": [
    "#Note dictionaries not allow key as list"
   ]
  },
  {
   "cell_type": "code",
   "execution_count": null,
   "id": "b881af90",
   "metadata": {},
   "outputs": [],
   "source": [
    "d13={\"key\":(1,2,3,4,5)}"
   ]
  },
  {
   "cell_type": "code",
   "execution_count": null,
   "id": "6f18bfdb",
   "metadata": {},
   "outputs": [],
   "source": [
    "d13"
   ]
  },
  {
   "cell_type": "code",
   "execution_count": null,
   "id": "52875723",
   "metadata": {},
   "outputs": [],
   "source": [
    "d14={\"key\":{1,2,3,4}}"
   ]
  },
  {
   "cell_type": "code",
   "execution_count": null,
   "id": "cf02b549",
   "metadata": {},
   "outputs": [],
   "source": [
    "d14"
   ]
  },
  {
   "cell_type": "code",
   "execution_count": null,
   "id": "44ffd1c7",
   "metadata": {},
   "outputs": [],
   "source": [
    "d15=d1.copy()"
   ]
  },
  {
   "cell_type": "code",
   "execution_count": null,
   "id": "4e5c7bc2",
   "metadata": {},
   "outputs": [],
   "source": [
    "d15"
   ]
  },
  {
   "cell_type": "code",
   "execution_count": null,
   "id": "2db85bc1",
   "metadata": {},
   "outputs": [],
   "source": [
    "d15.pop('number')"
   ]
  },
  {
   "cell_type": "code",
   "execution_count": null,
   "id": "179128ba",
   "metadata": {},
   "outputs": [],
   "source": [
    "d15"
   ]
  },
  {
   "cell_type": "code",
   "execution_count": null,
   "id": "9bc0ce91",
   "metadata": {},
   "outputs": [],
   "source": [
    "d15.fromkeys((1,2,3),('a','b','c'))"
   ]
  },
  {
   "cell_type": "code",
   "execution_count": null,
   "id": "8a0d711a",
   "metadata": {},
   "outputs": [],
   "source": [
    "d15"
   ]
  },
  {
   "cell_type": "code",
   "execution_count": null,
   "id": "de4e0523",
   "metadata": {},
   "outputs": [],
   "source": [
    "d19={\"key1\":\"value\",\"key2\":\"value2\"}\n",
    "d20={\"key3\":\"value3\",\"key4\":\"value4\"}"
   ]
  },
  {
   "cell_type": "code",
   "execution_count": null,
   "id": "6719926c",
   "metadata": {},
   "outputs": [],
   "source": [
    "(d19,d20)"
   ]
  },
  {
   "cell_type": "code",
   "execution_count": null,
   "id": "b71d2e99",
   "metadata": {},
   "outputs": [],
   "source": [
    "len((d19,d20))"
   ]
  },
  {
   "cell_type": "code",
   "execution_count": null,
   "id": "15921c40",
   "metadata": {},
   "outputs": [],
   "source": [
    "d19.update(d20)"
   ]
  },
  {
   "cell_type": "code",
   "execution_count": null,
   "id": "ec747196",
   "metadata": {},
   "outputs": [],
   "source": [
    "d19"
   ]
  },
  {
   "cell_type": "code",
   "execution_count": null,
   "id": "a19b2b7c",
   "metadata": {},
   "outputs": [],
   "source": [
    "d20.update(d19)"
   ]
  },
  {
   "cell_type": "code",
   "execution_count": null,
   "id": "f0a3fe51",
   "metadata": {},
   "outputs": [],
   "source": [
    "d20"
   ]
  },
  {
   "cell_type": "code",
   "execution_count": null,
   "id": "90149ed9",
   "metadata": {},
   "outputs": [],
   "source": [
    "d20.get(\"key3\")"
   ]
  },
  {
   "cell_type": "markdown",
   "id": "ec0e07a3",
   "metadata": {},
   "source": [
    "Dictonary Comprehensions"
   ]
  },
  {
   "cell_type": "code",
   "execution_count": 44,
   "id": "e37a7f76",
   "metadata": {},
   "outputs": [
    {
     "data": {
      "text/plain": [
       "[1, 2, 3, 4, 5, 6, 7, 8, 9, 10]"
      ]
     },
     "execution_count": 44,
     "metadata": {},
     "output_type": "execute_result"
    }
   ],
   "source": [
    "list(range(1,11))"
   ]
  },
  {
   "cell_type": "code",
   "execution_count": 45,
   "id": "6060172b",
   "metadata": {},
   "outputs": [
    {
     "data": {
      "text/plain": [
       "{1: 1, 2: 4, 3: 9, 4: 16, 5: 25, 6: 36, 7: 49, 8: 64, 9: 81, 10: 100}"
      ]
     },
     "execution_count": 45,
     "metadata": {},
     "output_type": "execute_result"
    }
   ],
   "source": [
    "{i:i**2 for i in range(1,11)}"
   ]
  },
  {
   "cell_type": "code",
   "execution_count": 50,
   "id": "6dd3ce73",
   "metadata": {},
   "outputs": [],
   "source": [
    "import math\n",
    "d21={i:math.log(i) for i in range(1,11)}"
   ]
  },
  {
   "cell_type": "code",
   "execution_count": 51,
   "id": "8810bab0",
   "metadata": {},
   "outputs": [],
   "source": [
    "d16={'batch_name':['data science masters','web dev','JDS'],'start_date':(28,14,21)}"
   ]
  },
  {
   "cell_type": "code",
   "execution_count": 52,
   "id": "455621d6",
   "metadata": {},
   "outputs": [
    {
     "data": {
      "text/plain": [
       "True"
      ]
     },
     "execution_count": 52,
     "metadata": {},
     "output_type": "execute_result"
    }
   ],
   "source": [
    "'batch_name' in d16"
   ]
  },
  {
   "cell_type": "code",
   "execution_count": 56,
   "id": "86f69462",
   "metadata": {},
   "outputs": [
    {
     "data": {
      "text/plain": [
       "[2, 4, 6, 8, 10]"
      ]
     },
     "execution_count": 56,
     "metadata": {},
     "output_type": "execute_result"
    }
   ],
   "source": [
    "[i for i in d21.keys() if i%2==0]"
   ]
  },
  {
   "cell_type": "code",
   "execution_count": 57,
   "id": "a1c2029c",
   "metadata": {},
   "outputs": [
    {
     "name": "stdout",
     "output_type": "stream",
     "text": [
      "0.6931471805599453\n",
      "1.3862943611198906\n",
      "1.791759469228055\n",
      "2.0794415416798357\n",
      "2.302585092994046\n"
     ]
    }
   ],
   "source": [
    "for i in d21.keys():\n",
    "    if i%2==0:\n",
    "        print(d21[i])"
   ]
  },
  {
   "cell_type": "code",
   "execution_count": 58,
   "id": "34dbd830",
   "metadata": {},
   "outputs": [
    {
     "data": {
      "text/plain": [
       "3.3333333333333335"
      ]
     },
     "execution_count": 58,
     "metadata": {},
     "output_type": "execute_result"
    }
   ],
   "source": [
    "10 / 3"
   ]
  },
  {
   "cell_type": "code",
   "execution_count": 59,
   "id": "e6e96bb6",
   "metadata": {},
   "outputs": [
    {
     "data": {
      "text/plain": [
       "['a', 'b', 'c']"
      ]
     },
     "execution_count": 59,
     "metadata": {},
     "output_type": "execute_result"
    }
   ],
   "source": [
    "list(\"abc\")"
   ]
  },
  {
   "cell_type": "code",
   "execution_count": 60,
   "id": "346e3945",
   "metadata": {},
   "outputs": [
    {
     "data": {
      "text/plain": [
       "[1, 2, 3]"
      ]
     },
     "execution_count": 60,
     "metadata": {},
     "output_type": "execute_result"
    }
   ],
   "source": [
    "\n",
    "list(range(1, 4))"
   ]
  },
  {
   "cell_type": "code",
   "execution_count": 61,
   "id": "bb8d9fea",
   "metadata": {},
   "outputs": [
    {
     "ename": "TypeError",
     "evalue": "list expected at most 1 argument, got 3",
     "output_type": "error",
     "traceback": [
      "\u001b[1;31m---------------------------------------------------------------------------\u001b[0m",
      "\u001b[1;31mTypeError\u001b[0m                                 Traceback (most recent call last)",
      "\u001b[1;32m~\\AppData\\Local\\Temp\\ipykernel_18448\\3397194821.py\u001b[0m in \u001b[0;36m<module>\u001b[1;34m\u001b[0m\n\u001b[1;32m----> 1\u001b[1;33m \u001b[0mlist\u001b[0m\u001b[1;33m(\u001b[0m\u001b[1;36m1\u001b[0m\u001b[1;33m,\u001b[0m \u001b[1;36m2\u001b[0m\u001b[1;33m,\u001b[0m \u001b[1;36m3\u001b[0m\u001b[1;33m)\u001b[0m\u001b[1;33m\u001b[0m\u001b[1;33m\u001b[0m\u001b[0m\n\u001b[0m",
      "\u001b[1;31mTypeError\u001b[0m: list expected at most 1 argument, got 3"
     ]
    }
   ],
   "source": [
    "list(1, 2, 3)"
   ]
  },
  {
   "cell_type": "code",
   "execution_count": 62,
   "id": "eb93f359",
   "metadata": {},
   "outputs": [
    {
     "name": "stdout",
     "output_type": "stream",
     "text": [
      "HelloHelloHello\n"
     ]
    }
   ],
   "source": [
    "print(\"Hello\" * 3)"
   ]
  },
  {
   "cell_type": "code",
   "execution_count": 64,
   "id": "ce2db420",
   "metadata": {},
   "outputs": [
    {
     "data": {
      "text/plain": [
       "'yth'"
      ]
     },
     "execution_count": 64,
     "metadata": {},
     "output_type": "execute_result"
    }
   ],
   "source": [
    "\"Python\"[1:4]"
   ]
  },
  {
   "cell_type": "code",
   "execution_count": 65,
   "id": "9e595582",
   "metadata": {},
   "outputs": [
    {
     "data": {
      "text/plain": [
       "(1,)"
      ]
     },
     "execution_count": 65,
     "metadata": {},
     "output_type": "execute_result"
    }
   ],
   "source": [
    "(1,)"
   ]
  },
  {
   "cell_type": "code",
   "execution_count": 66,
   "id": "8e1dccaa",
   "metadata": {},
   "outputs": [
    {
     "ename": "TypeError",
     "evalue": "tuple expected at most 1 argument, got 2",
     "output_type": "error",
     "traceback": [
      "\u001b[1;31m---------------------------------------------------------------------------\u001b[0m",
      "\u001b[1;31mTypeError\u001b[0m                                 Traceback (most recent call last)",
      "\u001b[1;32m~\\AppData\\Local\\Temp\\ipykernel_18448\\1241600950.py\u001b[0m in \u001b[0;36m<module>\u001b[1;34m\u001b[0m\n\u001b[1;32m----> 1\u001b[1;33m \u001b[0mtuple\u001b[0m\u001b[1;33m(\u001b[0m\u001b[1;36m1\u001b[0m\u001b[1;33m,\u001b[0m\u001b[1;36m2\u001b[0m\u001b[1;33m)\u001b[0m\u001b[1;33m\u001b[0m\u001b[1;33m\u001b[0m\u001b[0m\n\u001b[0m",
      "\u001b[1;31mTypeError\u001b[0m: tuple expected at most 1 argument, got 2"
     ]
    }
   ],
   "source": [
    "tuple(1,2)"
   ]
  },
  {
   "cell_type": "code",
   "execution_count": null,
   "id": "d8e060e3",
   "metadata": {},
   "outputs": [],
   "source": []
  }
 ],
 "metadata": {
  "kernelspec": {
   "display_name": "Python 3 (ipykernel)",
   "language": "python",
   "name": "python3"
  },
  "language_info": {
   "codemirror_mode": {
    "name": "ipython",
    "version": 3
   },
   "file_extension": ".py",
   "mimetype": "text/x-python",
   "name": "python",
   "nbconvert_exporter": "python",
   "pygments_lexer": "ipython3",
   "version": "3.9.13"
  }
 },
 "nbformat": 4,
 "nbformat_minor": 5
}
