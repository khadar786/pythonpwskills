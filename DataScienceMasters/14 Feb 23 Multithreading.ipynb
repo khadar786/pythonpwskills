{
 "cells": [
  {
   "cell_type": "code",
   "execution_count": 1,
   "id": "0a60d240",
   "metadata": {},
   "outputs": [],
   "source": [
    "import threading"
   ]
  },
  {
   "cell_type": "code",
   "execution_count": 3,
   "id": "acf39b8d",
   "metadata": {},
   "outputs": [],
   "source": [
    "def test(id):\n",
    "    print(\"this is my test id %d \"%id)"
   ]
  },
  {
   "cell_type": "code",
   "execution_count": 4,
   "id": "c208ec81",
   "metadata": {},
   "outputs": [
    {
     "name": "stdout",
     "output_type": "stream",
     "text": [
      "this is my test id 10 \n"
     ]
    }
   ],
   "source": [
    "test(10)"
   ]
  },
  {
   "cell_type": "code",
   "execution_count": 5,
   "id": "783eeae5",
   "metadata": {},
   "outputs": [
    {
     "name": "stdout",
     "output_type": "stream",
     "text": [
      "this is my test id 1 \n"
     ]
    }
   ],
   "source": [
    "test(1)"
   ]
  },
  {
   "cell_type": "code",
   "execution_count": 7,
   "id": "1f308946",
   "metadata": {},
   "outputs": [
    {
     "name": "stdout",
     "output_type": "stream",
     "text": [
      "this is my test id 3 \n"
     ]
    }
   ],
   "source": [
    "test(3)"
   ]
  },
  {
   "cell_type": "code",
   "execution_count": 8,
   "id": "123b82af",
   "metadata": {},
   "outputs": [],
   "source": [
    "thred=[threading.Thread(target=test,args=(i,)) for i in [10,1,3]]"
   ]
  },
  {
   "cell_type": "code",
   "execution_count": 9,
   "id": "099ec357",
   "metadata": {},
   "outputs": [
    {
     "data": {
      "text/plain": [
       "[<Thread(Thread-5, initial)>,\n",
       " <Thread(Thread-6, initial)>,\n",
       " <Thread(Thread-7, initial)>]"
      ]
     },
     "execution_count": 9,
     "metadata": {},
     "output_type": "execute_result"
    }
   ],
   "source": [
    "thred"
   ]
  },
  {
   "cell_type": "code",
   "execution_count": 10,
   "id": "cd907396",
   "metadata": {},
   "outputs": [
    {
     "name": "stdout",
     "output_type": "stream",
     "text": [
      "this is my test id 10 \n",
      "this is my test id 1 \n",
      "this is my test id 3 \n"
     ]
    }
   ],
   "source": [
    "for t in thred:\n",
    "    t.start()"
   ]
  },
  {
   "cell_type": "code",
   "execution_count": 11,
   "id": "6b984873",
   "metadata": {},
   "outputs": [],
   "source": [
    "#https://raw.githubusercontent.com/itsfoss/text-files/master/agatha.txt\n",
    "#https://raw.githubusercontent.com/itsfoss/text-files/master/sherlock.txt\n",
    "#https://raw.githubusercontent.com/itsfoss/text-files/master/sample_log_file.txt"
   ]
  },
  {
   "cell_type": "code",
   "execution_count": 14,
   "id": "ff7e7846",
   "metadata": {},
   "outputs": [],
   "source": [
    "import urllib.request\n",
    "\n",
    "def file_download(url,filename):\n",
    "    urllib.request.urlretrieve(url,filename)\n",
    "    "
   ]
  },
  {
   "cell_type": "code",
   "execution_count": 15,
   "id": "b9d1147d",
   "metadata": {},
   "outputs": [],
   "source": [
    "file_download('https://raw.githubusercontent.com/itsfoss/text-files/master/agatha.txt','sample1.txt')"
   ]
  },
  {
   "cell_type": "code",
   "execution_count": 16,
   "id": "46d5e645",
   "metadata": {},
   "outputs": [],
   "source": [
    "url_list=['https://raw.githubusercontent.com/itsfoss/text-files/master/agatha.txt',\n",
    "          'https://raw.githubusercontent.com/itsfoss/text-files/master/sherlock.txt',\n",
    "          'https://raw.githubusercontent.com/itsfoss/text-files/master/sample_log_file.txt'\n",
    "         ]"
   ]
  },
  {
   "cell_type": "code",
   "execution_count": 17,
   "id": "92016125",
   "metadata": {},
   "outputs": [
    {
     "data": {
      "text/plain": [
       "['https://raw.githubusercontent.com/itsfoss/text-files/master/agatha.txt',\n",
       " 'https://raw.githubusercontent.com/itsfoss/text-files/master/sherlock.txt',\n",
       " 'https://raw.githubusercontent.com/itsfoss/text-files/master/sample_log_file.txt']"
      ]
     },
     "execution_count": 17,
     "metadata": {},
     "output_type": "execute_result"
    }
   ],
   "source": [
    "url_list"
   ]
  },
  {
   "cell_type": "code",
   "execution_count": 18,
   "id": "3b434dc4",
   "metadata": {},
   "outputs": [],
   "source": [
    "data_file_list=['data1.txt','data2.txt','data3.txt']"
   ]
  },
  {
   "cell_type": "code",
   "execution_count": 21,
   "id": "1674f42f",
   "metadata": {},
   "outputs": [],
   "source": [
    "thread1=[threading.Thread(target=file_download,args=(url_list[i],data_file_list[i])) for i in range(len(url_list))]"
   ]
  },
  {
   "cell_type": "code",
   "execution_count": 22,
   "id": "061b177b",
   "metadata": {},
   "outputs": [],
   "source": [
    "for t in thread1:\n",
    "    t.start()"
   ]
  },
  {
   "cell_type": "code",
   "execution_count": 23,
   "id": "753cb824",
   "metadata": {},
   "outputs": [
    {
     "data": {
      "text/plain": [
       "[<Thread(Thread-8, stopped 8804)>,\n",
       " <Thread(Thread-9, stopped 24832)>,\n",
       " <Thread(Thread-10, stopped 24584)>]"
      ]
     },
     "execution_count": 23,
     "metadata": {},
     "output_type": "execute_result"
    }
   ],
   "source": [
    "thread1"
   ]
  },
  {
   "cell_type": "code",
   "execution_count": 24,
   "id": "f21a3841",
   "metadata": {},
   "outputs": [],
   "source": [
    "import time"
   ]
  },
  {
   "cell_type": "code",
   "execution_count": 37,
   "id": "0f9b6c34",
   "metadata": {},
   "outputs": [],
   "source": [
    "def test2(x):\n",
    "    for i in range(10):\n",
    "        print(\" test1 print the value of x %d and print the value of i %d \"%(x,i))\n",
    "        time.sleep(1)"
   ]
  },
  {
   "cell_type": "code",
   "execution_count": 38,
   "id": "43535db3",
   "metadata": {},
   "outputs": [
    {
     "name": "stdout",
     "output_type": "stream",
     "text": [
      " test1 print the value of x 10 and print the value of i 0 \n",
      " test1 print the value of x 10 and print the value of i 1 \n",
      " test1 print the value of x 10 and print the value of i 2 \n",
      " test1 print the value of x 10 and print the value of i 3 \n",
      " test1 print the value of x 10 and print the value of i 4 \n",
      " test1 print the value of x 10 and print the value of i 5 \n",
      " test1 print the value of x 10 and print the value of i 6 \n",
      " test1 print the value of x 10 and print the value of i 7 \n",
      " test1 print the value of x 10 and print the value of i 8 \n",
      " test1 print the value of x 10 and print the value of i 9 \n"
     ]
    }
   ],
   "source": [
    "test2(10)"
   ]
  },
  {
   "cell_type": "code",
   "execution_count": 39,
   "id": "4c852a7d",
   "metadata": {},
   "outputs": [],
   "source": [
    "thread2=[threading.Thread(target=test2,args=(i,)) for i in [100,10,20,5]]"
   ]
  },
  {
   "cell_type": "code",
   "execution_count": 36,
   "id": "0cffbe8c",
   "metadata": {},
   "outputs": [
    {
     "name": "stdout",
     "output_type": "stream",
     "text": [
      " test1 print the value of x 100 and print the value of i 0 \n",
      " test1 print the value of x 100 and print the value of i 1 \n",
      " test1 print the value of x 100 and print the value of i 2 \n",
      " test1 print the value of x 100 and print the value of i 3 \n",
      " test1 print the value of x 100 and print the value of i 4 \n",
      " test1 print the value of x 100 and print the value of i 5 \n",
      " test1 print the value of x 100 and print the value of i 6 \n",
      " test1 print the value of x 100 and print the value of i 7 \n",
      " test1 print the value of x 100 and print the value of i 8 \n",
      " test1 print the value of x 100 and print the value of i 9 \n",
      " test1 print the value of x 10 and print the value of i 0 \n",
      " test1 print the value of x 10 and print the value of i 1 \n",
      " test1 print the value of x 10 and print the value of i 2 \n",
      " test1 print the value of x 10 and print the value of i 3 \n",
      " test1 print the value of x 10 and print the value of i 4 \n",
      " test1 print the value of x 10 and print the value of i 5 \n",
      " test1 print the value of x 10 and print the value of i 6 \n",
      " test1 print the value of x 10 and print the value of i 7 \n",
      " test1 print the value of x 10 and print the value of i 8 \n",
      " test1 print the value of x 10 and print the value of i 9 \n",
      " test1 print the value of x 20 and print the value of i 0 \n",
      " test1 print the value of x 20 and print the value of i 1 \n",
      " test1 print the value of x 20 and print the value of i 2 \n",
      " test1 print the value of x 20 and print the value of i 3 \n",
      " test1 print the value of x 20 and print the value of i 4 \n",
      " test1 print the value of x 20 and print the value of i 5 \n",
      " test1 print the value of x 20 and print the value of i 6 \n",
      " test1 print the value of x 20 and print the value of i 7 \n",
      " test1 print the value of x 20 and print the value of i 8 \n",
      " test1 print the value of x 20 and print the value of i 9 \n",
      " test1 print the value of x 5 and print the value of i 0 \n",
      " test1 print the value of x 5 and print the value of i 1 \n",
      " test1 print the value of x 5 and print the value of i 2 \n",
      " test1 print the value of x 5 and print the value of i 3 \n",
      " test1 print the value of x 5 and print the value of i 4 \n",
      " test1 print the value of x 5 and print the value of i 5 \n",
      " test1 print the value of x 5 and print the value of i 6 \n",
      " test1 print the value of x 5 and print the value of i 7 \n",
      " test1 print the value of x 5 and print the value of i 8 \n",
      " test1 print the value of x 5 and print the value of i 9 \n"
     ]
    }
   ],
   "source": [
    "for t in thread2:\n",
    "    t.start()"
   ]
  },
  {
   "cell_type": "code",
   "execution_count": 52,
   "id": "5ac4a1f3",
   "metadata": {},
   "outputs": [
    {
     "name": "stdout",
     "output_type": "stream",
     "text": [
      "value of x 1 and value of shared_var 1 \n",
      "value of x 2 and value of shared_var 2 \n",
      "value of x 3 and value of shared_var 3 \n",
      "value of x 4 and value of shared_var 4 \n",
      "value of x 4 and value of shared_var 5 \n",
      "value of x 5 and value of shared_var 6 \n"
     ]
    }
   ],
   "source": [
    "shared_var=0\n",
    "lock_var=threading.Lock()\n",
    "def test4(x):\n",
    "    global shared_var\n",
    "    with lock_var:\n",
    "        shared_var=shared_var +1\n",
    "        print(\"value of x %d and value of shared_var %d \"%(x,shared_var))\n",
    "        time.sleep(1)\n",
    "\n",
    "thread5=[threading.Thread(target=test4,args=(i,)) for i in [1,2,3,4,4,5]]\n",
    "\n",
    "for t in thread5:\n",
    "    t.start()"
   ]
  },
  {
   "cell_type": "code",
   "execution_count": 49,
   "id": "f8905284",
   "metadata": {},
   "outputs": [
    {
     "name": "stdout",
     "output_type": "stream",
     "text": [
      "value of x 1 and value of shared_var 1 \n"
     ]
    }
   ],
   "source": [
    "test3(1)"
   ]
  },
  {
   "cell_type": "code",
   "execution_count": 50,
   "id": "591aff44",
   "metadata": {},
   "outputs": [
    {
     "name": "stdout",
     "output_type": "stream",
     "text": [
      "value of x 2 and value of shared_var 2 \n"
     ]
    }
   ],
   "source": [
    "test3(2)"
   ]
  },
  {
   "cell_type": "code",
   "execution_count": null,
   "id": "4091eaeb",
   "metadata": {},
   "outputs": [],
   "source": []
  }
 ],
 "metadata": {
  "kernelspec": {
   "display_name": "Python 3 (ipykernel)",
   "language": "python",
   "name": "python3"
  },
  "language_info": {
   "codemirror_mode": {
    "name": "ipython",
    "version": 3
   },
   "file_extension": ".py",
   "mimetype": "text/x-python",
   "name": "python",
   "nbconvert_exporter": "python",
   "pygments_lexer": "ipython3",
   "version": "3.9.13"
  }
 },
 "nbformat": 4,
 "nbformat_minor": 5
}
