{
 "cells": [
  {
   "cell_type": "code",
   "execution_count": 1,
   "id": "1eb87a9b",
   "metadata": {},
   "outputs": [
    {
     "data": {
      "text/plain": [
       "2"
      ]
     },
     "execution_count": 1,
     "metadata": {},
     "output_type": "execute_result"
    }
   ],
   "source": [
    "1+1"
   ]
  },
  {
   "cell_type": "code",
   "execution_count": 2,
   "id": "3cca2625",
   "metadata": {},
   "outputs": [
    {
     "data": {
      "text/plain": [
       "25"
      ]
     },
     "execution_count": 2,
     "metadata": {},
     "output_type": "execute_result"
    }
   ],
   "source": [
    "5*5"
   ]
  },
  {
   "cell_type": "code",
   "execution_count": 3,
   "id": "1a553c88",
   "metadata": {},
   "outputs": [],
   "source": [
    "a=10"
   ]
  },
  {
   "cell_type": "code",
   "execution_count": 4,
   "id": "2cf93d4f",
   "metadata": {},
   "outputs": [
    {
     "data": {
      "text/plain": [
       "300"
      ]
     },
     "execution_count": 4,
     "metadata": {},
     "output_type": "execute_result"
    }
   ],
   "source": [
    "a*30"
   ]
  },
  {
   "cell_type": "code",
   "execution_count": 5,
   "id": "ac23a0d4",
   "metadata": {},
   "outputs": [
    {
     "data": {
      "text/plain": [
       "int"
      ]
     },
     "execution_count": 5,
     "metadata": {},
     "output_type": "execute_result"
    }
   ],
   "source": [
    "type(a)"
   ]
  },
  {
   "cell_type": "code",
   "execution_count": 6,
   "id": "b05a6f21",
   "metadata": {},
   "outputs": [],
   "source": [
    "b=2.90"
   ]
  },
  {
   "cell_type": "code",
   "execution_count": 7,
   "id": "d07580b7",
   "metadata": {},
   "outputs": [
    {
     "data": {
      "text/plain": [
       "float"
      ]
     },
     "execution_count": 7,
     "metadata": {},
     "output_type": "execute_result"
    }
   ],
   "source": [
    "type(b)"
   ]
  },
  {
   "cell_type": "code",
   "execution_count": 8,
   "id": "fdc6eab7",
   "metadata": {},
   "outputs": [],
   "source": [
    "d=\"khadar\""
   ]
  },
  {
   "cell_type": "code",
   "execution_count": 9,
   "id": "65b2f847",
   "metadata": {},
   "outputs": [
    {
     "data": {
      "text/plain": [
       "str"
      ]
     },
     "execution_count": 9,
     "metadata": {},
     "output_type": "execute_result"
    }
   ],
   "source": [
    "type(d)"
   ]
  },
  {
   "cell_type": "code",
   "execution_count": 10,
   "id": "9a4018a7",
   "metadata": {},
   "outputs": [
    {
     "data": {
      "text/plain": [
       "1"
      ]
     },
     "execution_count": 10,
     "metadata": {},
     "output_type": "execute_result"
    }
   ],
   "source": [
    "True * True"
   ]
  },
  {
   "cell_type": "code",
   "execution_count": 11,
   "id": "3a1ef3a1",
   "metadata": {},
   "outputs": [
    {
     "data": {
      "text/plain": [
       "0"
      ]
     },
     "execution_count": 11,
     "metadata": {},
     "output_type": "execute_result"
    }
   ],
   "source": [
    "True * False"
   ]
  },
  {
   "cell_type": "code",
   "execution_count": 12,
   "id": "b61f435d",
   "metadata": {},
   "outputs": [
    {
     "ename": "ZeroDivisionError",
     "evalue": "division by zero",
     "output_type": "error",
     "traceback": [
      "\u001b[1;31m---------------------------------------------------------------------------\u001b[0m",
      "\u001b[1;31mZeroDivisionError\u001b[0m                         Traceback (most recent call last)",
      "\u001b[1;32m~\\AppData\\Local\\Temp\\ipykernel_20212\\2917913318.py\u001b[0m in \u001b[0;36m<module>\u001b[1;34m\u001b[0m\n\u001b[1;32m----> 1\u001b[1;33m \u001b[1;32mTrue\u001b[0m \u001b[1;33m/\u001b[0m \u001b[1;32mFalse\u001b[0m\u001b[1;33m\u001b[0m\u001b[1;33m\u001b[0m\u001b[0m\n\u001b[0m",
      "\u001b[1;31mZeroDivisionError\u001b[0m: division by zero"
     ]
    }
   ],
   "source": [
    "True / False"
   ]
  },
  {
   "cell_type": "code",
   "execution_count": null,
   "id": "ee91f761",
   "metadata": {},
   "outputs": [],
   "source": [
    "1/0"
   ]
  },
  {
   "cell_type": "code",
   "execution_count": null,
   "id": "1a9898f6",
   "metadata": {},
   "outputs": [],
   "source": [
    "v = 5+8j"
   ]
  },
  {
   "cell_type": "code",
   "execution_count": null,
   "id": "6ce8788e",
   "metadata": {},
   "outputs": [],
   "source": [
    "v"
   ]
  },
  {
   "cell_type": "code",
   "execution_count": null,
   "id": "27b50150",
   "metadata": {},
   "outputs": [],
   "source": [
    "type(v)"
   ]
  },
  {
   "cell_type": "code",
   "execution_count": null,
   "id": "aaf680c4",
   "metadata": {},
   "outputs": [],
   "source": [
    "v.real"
   ]
  },
  {
   "cell_type": "code",
   "execution_count": null,
   "id": "df782acb",
   "metadata": {},
   "outputs": [],
   "source": [
    "cp=4+9j"
   ]
  },
  {
   "cell_type": "code",
   "execution_count": null,
   "id": "d45db5d3",
   "metadata": {},
   "outputs": [],
   "source": [
    "type(cp)"
   ]
  },
  {
   "cell_type": "code",
   "execution_count": null,
   "id": "9faa36dd",
   "metadata": {},
   "outputs": [],
   "source": [
    "cp.real"
   ]
  },
  {
   "cell_type": "code",
   "execution_count": null,
   "id": "bbfa2d41",
   "metadata": {},
   "outputs": [],
   "source": [
    "cp.complex"
   ]
  },
  {
   "cell_type": "code",
   "execution_count": null,
   "id": "100f0b77",
   "metadata": {},
   "outputs": [],
   "source": [
    "cp.imag"
   ]
  },
  {
   "cell_type": "code",
   "execution_count": null,
   "id": "3e6393ec",
   "metadata": {},
   "outputs": [],
   "source": [
    "print(\"khadar\")"
   ]
  },
  {
   "cell_type": "code",
   "execution_count": null,
   "id": "73d5587b",
   "metadata": {},
   "outputs": [],
   "source": [
    "str=\"pwskills\""
   ]
  },
  {
   "cell_type": "code",
   "execution_count": null,
   "id": "75bc4503",
   "metadata": {},
   "outputs": [],
   "source": [
    "type(str)"
   ]
  },
  {
   "cell_type": "code",
   "execution_count": null,
   "id": "d22585d6",
   "metadata": {},
   "outputs": [],
   "source": [
    "str[2]"
   ]
  },
  {
   "cell_type": "code",
   "execution_count": null,
   "id": "96b5cc54",
   "metadata": {},
   "outputs": [],
   "source": [
    "str[3]"
   ]
  },
  {
   "cell_type": "code",
   "execution_count": null,
   "id": "4e66c31c",
   "metadata": {},
   "outputs": [],
   "source": [
    "str[-1]"
   ]
  },
  {
   "cell_type": "code",
   "execution_count": null,
   "id": "657af262",
   "metadata": {},
   "outputs": [],
   "source": [
    "str[-1]"
   ]
  },
  {
   "cell_type": "code",
   "execution_count": null,
   "id": "4df7e5a1",
   "metadata": {},
   "outputs": [],
   "source": [
    "str[-2]"
   ]
  },
  {
   "cell_type": "code",
   "execution_count": null,
   "id": "dd9c3af2",
   "metadata": {},
   "outputs": [],
   "source": [
    "str[0-3]"
   ]
  },
  {
   "cell_type": "code",
   "execution_count": null,
   "id": "ee4cc8a3",
   "metadata": {},
   "outputs": [],
   "source": [
    "str[0:3]"
   ]
  },
  {
   "cell_type": "code",
   "execution_count": null,
   "id": "bf4acfd9",
   "metadata": {},
   "outputs": [],
   "source": [
    "str[0:4]"
   ]
  },
  {
   "cell_type": "code",
   "execution_count": null,
   "id": "c8f821a6",
   "metadata": {},
   "outputs": [],
   "source": [
    "str[0:8:2]"
   ]
  },
  {
   "cell_type": "code",
   "execution_count": null,
   "id": "4ae931d0",
   "metadata": {},
   "outputs": [],
   "source": [
    "str[::2]"
   ]
  },
  {
   "cell_type": "code",
   "execution_count": null,
   "id": "9fd30e7d",
   "metadata": {},
   "outputs": [],
   "source": [
    "str[2::0]"
   ]
  },
  {
   "cell_type": "code",
   "execution_count": null,
   "id": "11cfd15a",
   "metadata": {},
   "outputs": [],
   "source": [
    "str[2::1]"
   ]
  },
  {
   "cell_type": "code",
   "execution_count": null,
   "id": "a76cb952",
   "metadata": {},
   "outputs": [],
   "source": [
    "str[::-1]"
   ]
  },
  {
   "cell_type": "code",
   "execution_count": null,
   "id": "03e904e1",
   "metadata": {},
   "outputs": [],
   "source": [
    "str[2:7:-1]"
   ]
  },
  {
   "cell_type": "code",
   "execution_count": null,
   "id": "9a5c7132",
   "metadata": {},
   "outputs": [],
   "source": [
    "str[8:0]"
   ]
  },
  {
   "cell_type": "code",
   "execution_count": null,
   "id": "b9ce8270",
   "metadata": {},
   "outputs": [],
   "source": [
    "str[-2:-8:-1]"
   ]
  },
  {
   "cell_type": "code",
   "execution_count": null,
   "id": "16b5c112",
   "metadata": {},
   "outputs": [],
   "source": [
    "s1=\"this is my string class\""
   ]
  },
  {
   "cell_type": "code",
   "execution_count": null,
   "id": "7bd35601",
   "metadata": {},
   "outputs": [],
   "source": [
    "s1.find(\"s\")"
   ]
  },
  {
   "cell_type": "code",
   "execution_count": null,
   "id": "8e97de9b",
   "metadata": {},
   "outputs": [],
   "source": [
    "s1.find(\"i\")"
   ]
  },
  {
   "cell_type": "code",
   "execution_count": null,
   "id": "0f310178",
   "metadata": {},
   "outputs": [],
   "source": [
    "s1.find(\"iS\")"
   ]
  },
  {
   "cell_type": "code",
   "execution_count": null,
   "id": "3bd6f6a6",
   "metadata": {},
   "outputs": [],
   "source": [
    "s1.count(\"s\")"
   ]
  },
  {
   "cell_type": "code",
   "execution_count": null,
   "id": "7aca4866",
   "metadata": {},
   "outputs": [],
   "source": [
    "len(s1)"
   ]
  },
  {
   "cell_type": "code",
   "execution_count": null,
   "id": "b555a0c6",
   "metadata": {},
   "outputs": [],
   "source": [
    "s1.count(\"k\")"
   ]
  },
  {
   "cell_type": "code",
   "execution_count": null,
   "id": "f2ba1994",
   "metadata": {},
   "outputs": [],
   "source": [
    "s1.upper()"
   ]
  },
  {
   "cell_type": "code",
   "execution_count": null,
   "id": "beccc704",
   "metadata": {},
   "outputs": [],
   "source": [
    "s1.capitalize()"
   ]
  },
  {
   "cell_type": "code",
   "execution_count": null,
   "id": "9dbde3d2",
   "metadata": {},
   "outputs": [],
   "source": [
    "s1+4"
   ]
  },
  {
   "cell_type": "code",
   "execution_count": null,
   "id": "0409637b",
   "metadata": {},
   "outputs": [],
   "source": [
    "s1.str(4)"
   ]
  },
  {
   "cell_type": "code",
   "execution_count": null,
   "id": "e1ab50b2",
   "metadata": {},
   "outputs": [],
   "source": [
    "s1 + str(4)"
   ]
  },
  {
   "cell_type": "code",
   "execution_count": null,
   "id": "ca67ae98",
   "metadata": {},
   "outputs": [],
   "source": [
    "s2= str(10)"
   ]
  },
  {
   "cell_type": "code",
   "execution_count": 13,
   "id": "f5b6fb66",
   "metadata": {},
   "outputs": [
    {
     "ename": "NameError",
     "evalue": "name 's1' is not defined",
     "output_type": "error",
     "traceback": [
      "\u001b[1;31m---------------------------------------------------------------------------\u001b[0m",
      "\u001b[1;31mNameError\u001b[0m                                 Traceback (most recent call last)",
      "\u001b[1;32m~\\AppData\\Local\\Temp\\ipykernel_20212\\1743780635.py\u001b[0m in \u001b[0;36m<module>\u001b[1;34m\u001b[0m\n\u001b[1;32m----> 1\u001b[1;33m \u001b[0ms1\u001b[0m \u001b[1;33m+\u001b[0m \u001b[0ms2\u001b[0m\u001b[1;33m\u001b[0m\u001b[1;33m\u001b[0m\u001b[0m\n\u001b[0m",
      "\u001b[1;31mNameError\u001b[0m: name 's1' is not defined"
     ]
    }
   ],
   "source": [
    "s1 + s2"
   ]
  },
  {
   "cell_type": "code",
   "execution_count": 14,
   "id": "82d048aa",
   "metadata": {},
   "outputs": [
    {
     "ename": "NameError",
     "evalue": "name 's1' is not defined",
     "output_type": "error",
     "traceback": [
      "\u001b[1;31m---------------------------------------------------------------------------\u001b[0m",
      "\u001b[1;31mNameError\u001b[0m                                 Traceback (most recent call last)",
      "\u001b[1;32m~\\AppData\\Local\\Temp\\ipykernel_20212\\1234754133.py\u001b[0m in \u001b[0;36m<module>\u001b[1;34m\u001b[0m\n\u001b[1;32m----> 1\u001b[1;33m \u001b[0ms1\u001b[0m\u001b[1;33m\u001b[0m\u001b[1;33m\u001b[0m\u001b[0m\n\u001b[0m",
      "\u001b[1;31mNameError\u001b[0m: name 's1' is not defined"
     ]
    }
   ],
   "source": [
    "s1"
   ]
  },
  {
   "cell_type": "code",
   "execution_count": 15,
   "id": "f30541e6",
   "metadata": {},
   "outputs": [],
   "source": [
    "s1 =\"pwskills\""
   ]
  },
  {
   "cell_type": "code",
   "execution_count": 16,
   "id": "f25df58e",
   "metadata": {},
   "outputs": [
    {
     "data": {
      "text/plain": [
       "'pwskills10'"
      ]
     },
     "execution_count": 16,
     "metadata": {},
     "output_type": "execute_result"
    }
   ],
   "source": [
    "s1 + str(10)"
   ]
  },
  {
   "cell_type": "code",
   "execution_count": 17,
   "id": "45b37b02",
   "metadata": {},
   "outputs": [
    {
     "data": {
      "text/plain": [
       "'pwskillspwskillspwskillspwskillspwskillspwskillspwskillspwskillspwskillspwskills'"
      ]
     },
     "execution_count": 17,
     "metadata": {},
     "output_type": "execute_result"
    }
   ],
   "source": [
    "s1 * 10"
   ]
  },
  {
   "cell_type": "code",
   "execution_count": 18,
   "id": "3c162021",
   "metadata": {},
   "outputs": [
    {
     "ename": "TypeError",
     "evalue": "unsupported operand type(s) for /: 'str' and 'int'",
     "output_type": "error",
     "traceback": [
      "\u001b[1;31m---------------------------------------------------------------------------\u001b[0m",
      "\u001b[1;31mTypeError\u001b[0m                                 Traceback (most recent call last)",
      "\u001b[1;32m~\\AppData\\Local\\Temp\\ipykernel_20212\\3644054316.py\u001b[0m in \u001b[0;36m<module>\u001b[1;34m\u001b[0m\n\u001b[1;32m----> 1\u001b[1;33m \u001b[0ms1\u001b[0m \u001b[1;33m/\u001b[0m \u001b[1;36m10\u001b[0m\u001b[1;33m\u001b[0m\u001b[1;33m\u001b[0m\u001b[0m\n\u001b[0m",
      "\u001b[1;31mTypeError\u001b[0m: unsupported operand type(s) for /: 'str' and 'int'"
     ]
    }
   ],
   "source": [
    "s1 / 10"
   ]
  },
  {
   "cell_type": "code",
   "execution_count": 19,
   "id": "e2568ca9",
   "metadata": {},
   "outputs": [
    {
     "data": {
      "text/plain": [
       "'This is my first programs for python basics\\nThis course have good stuff'"
      ]
     },
     "execution_count": 19,
     "metadata": {},
     "output_type": "execute_result"
    }
   ],
   "source": [
    "\"\"\"This is my first programs for python basics\n",
    "This course have good stuff\"\"\""
   ]
  },
  {
   "cell_type": "code",
   "execution_count": 20,
   "id": "9eb55751",
   "metadata": {},
   "outputs": [],
   "source": [
    "# This is my first programs for python basics\n",
    "# This course have good stuff"
   ]
  },
  {
   "cell_type": "code",
   "execution_count": 21,
   "id": "d1c96ad3",
   "metadata": {},
   "outputs": [],
   "source": [
    "l = [1,345,45,\"khadar\",True,5+8j,345.689]"
   ]
  },
  {
   "cell_type": "code",
   "execution_count": 22,
   "id": "1ae9be88",
   "metadata": {},
   "outputs": [
    {
     "data": {
      "text/plain": [
       "list"
      ]
     },
     "execution_count": 22,
     "metadata": {},
     "output_type": "execute_result"
    }
   ],
   "source": [
    "type(l)"
   ]
  },
  {
   "cell_type": "code",
   "execution_count": 23,
   "id": "1762a365",
   "metadata": {},
   "outputs": [
    {
     "data": {
      "text/plain": [
       "[1, 345, 45]"
      ]
     },
     "execution_count": 23,
     "metadata": {},
     "output_type": "execute_result"
    }
   ],
   "source": [
    "l[0:3]"
   ]
  },
  {
   "cell_type": "code",
   "execution_count": 24,
   "id": "22c5efd3",
   "metadata": {},
   "outputs": [
    {
     "data": {
      "text/plain": [
       "345.689"
      ]
     },
     "execution_count": 24,
     "metadata": {},
     "output_type": "execute_result"
    }
   ],
   "source": [
    "l[-1]"
   ]
  },
  {
   "cell_type": "code",
   "execution_count": 25,
   "id": "153aeb49",
   "metadata": {},
   "outputs": [
    {
     "data": {
      "text/plain": [
       "[345.689, (5+8j), True, 'khadar', 45, 345, 1]"
      ]
     },
     "execution_count": 25,
     "metadata": {},
     "output_type": "execute_result"
    }
   ],
   "source": [
    "l[::-1]"
   ]
  },
  {
   "cell_type": "code",
   "execution_count": 26,
   "id": "a7e041f4",
   "metadata": {},
   "outputs": [
    {
     "data": {
      "text/plain": [
       "[1, 45, True, 345.689]"
      ]
     },
     "execution_count": 26,
     "metadata": {},
     "output_type": "execute_result"
    }
   ],
   "source": [
    "l[::2]"
   ]
  },
  {
   "cell_type": "code",
   "execution_count": 27,
   "id": "f3c4cca9",
   "metadata": {},
   "outputs": [],
   "source": [
    "ns=\"pwskills\""
   ]
  },
  {
   "cell_type": "code",
   "execution_count": 28,
   "id": "0a57e729",
   "metadata": {},
   "outputs": [
    {
     "data": {
      "text/plain": [
       "['p', 'w', 's', 'k', 'i', 'l', 'l', 's']"
      ]
     },
     "execution_count": 28,
     "metadata": {},
     "output_type": "execute_result"
    }
   ],
   "source": [
    "list(ns)"
   ]
  },
  {
   "cell_type": "code",
   "execution_count": 29,
   "id": "69515791",
   "metadata": {},
   "outputs": [
    {
     "ename": "TypeError",
     "evalue": "can only concatenate str (not \"list\") to str",
     "output_type": "error",
     "traceback": [
      "\u001b[1;31m---------------------------------------------------------------------------\u001b[0m",
      "\u001b[1;31mTypeError\u001b[0m                                 Traceback (most recent call last)",
      "\u001b[1;32m~\\AppData\\Local\\Temp\\ipykernel_20212\\7636941.py\u001b[0m in \u001b[0;36m<module>\u001b[1;34m\u001b[0m\n\u001b[1;32m----> 1\u001b[1;33m \u001b[0mns\u001b[0m\u001b[1;33m+\u001b[0m\u001b[0ml\u001b[0m\u001b[1;33m\u001b[0m\u001b[1;33m\u001b[0m\u001b[0m\n\u001b[0m",
      "\u001b[1;31mTypeError\u001b[0m: can only concatenate str (not \"list\") to str"
     ]
    }
   ],
   "source": [
    "ns+l"
   ]
  },
  {
   "cell_type": "code",
   "execution_count": 30,
   "id": "7ca5ea3a",
   "metadata": {},
   "outputs": [
    {
     "data": {
      "text/plain": [
       "['p',\n",
       " 'w',\n",
       " 's',\n",
       " 'k',\n",
       " 'i',\n",
       " 'l',\n",
       " 'l',\n",
       " 's',\n",
       " 1,\n",
       " 345,\n",
       " 45,\n",
       " 'khadar',\n",
       " True,\n",
       " (5+8j),\n",
       " 345.689]"
      ]
     },
     "execution_count": 30,
     "metadata": {},
     "output_type": "execute_result"
    }
   ],
   "source": [
    "list(ns)+l"
   ]
  },
  {
   "cell_type": "code",
   "execution_count": 31,
   "id": "011400e7",
   "metadata": {},
   "outputs": [],
   "source": [
    "newl=l[3]"
   ]
  },
  {
   "cell_type": "code",
   "execution_count": 32,
   "id": "ba1994c0",
   "metadata": {},
   "outputs": [
    {
     "data": {
      "text/plain": [
       "'kh'"
      ]
     },
     "execution_count": 32,
     "metadata": {},
     "output_type": "execute_result"
    }
   ],
   "source": [
    "newl[0:2]"
   ]
  },
  {
   "cell_type": "code",
   "execution_count": 33,
   "id": "c85600f1",
   "metadata": {},
   "outputs": [
    {
     "data": {
      "text/plain": [
       "'Tr'"
      ]
     },
     "execution_count": 33,
     "metadata": {},
     "output_type": "execute_result"
    }
   ],
   "source": [
    "str(l[4])[0:2]"
   ]
  },
  {
   "cell_type": "code",
   "execution_count": 34,
   "id": "26a83ce9",
   "metadata": {},
   "outputs": [],
   "source": [
    "l1=[3,4,5]"
   ]
  },
  {
   "cell_type": "code",
   "execution_count": 35,
   "id": "66fcd6a3",
   "metadata": {},
   "outputs": [
    {
     "data": {
      "text/plain": [
       "[1, 345, 45, 'khadar', True, (5+8j), 345.689, 3, 4, 5]"
      ]
     },
     "execution_count": 35,
     "metadata": {},
     "output_type": "execute_result"
    }
   ],
   "source": [
    "l+l1"
   ]
  },
  {
   "cell_type": "code",
   "execution_count": 36,
   "id": "98bb23bc",
   "metadata": {},
   "outputs": [
    {
     "data": {
      "text/plain": [
       "[3, 4, 5, 3, 4, 5, 3, 4, 5]"
      ]
     },
     "execution_count": 36,
     "metadata": {},
     "output_type": "execute_result"
    }
   ],
   "source": [
    "l1*3"
   ]
  },
  {
   "cell_type": "code",
   "execution_count": 37,
   "id": "aa5002fd",
   "metadata": {},
   "outputs": [
    {
     "data": {
      "text/plain": [
       "7"
      ]
     },
     "execution_count": 37,
     "metadata": {},
     "output_type": "execute_result"
    }
   ],
   "source": [
    "len(l)"
   ]
  },
  {
   "cell_type": "code",
   "execution_count": 38,
   "id": "86c7fa7b",
   "metadata": {},
   "outputs": [
    {
     "data": {
      "text/plain": [
       "[1, 345, 45, 'khadar', True, (5+8j), 345.689]"
      ]
     },
     "execution_count": 38,
     "metadata": {},
     "output_type": "execute_result"
    }
   ],
   "source": [
    "l"
   ]
  },
  {
   "cell_type": "code",
   "execution_count": 39,
   "id": "4623011e",
   "metadata": {},
   "outputs": [],
   "source": [
    "l.append(5)"
   ]
  },
  {
   "cell_type": "code",
   "execution_count": 40,
   "id": "02a643b0",
   "metadata": {},
   "outputs": [
    {
     "data": {
      "text/plain": [
       "[1, 345, 45, 'khadar', True, (5+8j), 345.689, 5]"
      ]
     },
     "execution_count": 40,
     "metadata": {},
     "output_type": "execute_result"
    }
   ],
   "source": [
    "l"
   ]
  },
  {
   "cell_type": "code",
   "execution_count": 41,
   "id": "12f248ee",
   "metadata": {},
   "outputs": [],
   "source": [
    "l.append(\"pwskills\")"
   ]
  },
  {
   "cell_type": "code",
   "execution_count": 42,
   "id": "355c90a7",
   "metadata": {},
   "outputs": [
    {
     "data": {
      "text/plain": [
       "[1, 345, 45, 'khadar', True, (5+8j), 345.689, 5, 'pwskills']"
      ]
     },
     "execution_count": 42,
     "metadata": {},
     "output_type": "execute_result"
    }
   ],
   "source": [
    "l"
   ]
  },
  {
   "cell_type": "code",
   "execution_count": 43,
   "id": "eb74008e",
   "metadata": {},
   "outputs": [],
   "source": [
    "l.append(l1)"
   ]
  },
  {
   "cell_type": "code",
   "execution_count": 44,
   "id": "46b96b9e",
   "metadata": {},
   "outputs": [
    {
     "data": {
      "text/plain": [
       "[1, 345, 45, 'khadar', True, (5+8j), 345.689, 5, 'pwskills', [3, 4, 5]]"
      ]
     },
     "execution_count": 44,
     "metadata": {},
     "output_type": "execute_result"
    }
   ],
   "source": [
    "l"
   ]
  },
  {
   "cell_type": "code",
   "execution_count": 45,
   "id": "e1b5047a",
   "metadata": {},
   "outputs": [
    {
     "data": {
      "text/plain": [
       "4"
      ]
     },
     "execution_count": 45,
     "metadata": {},
     "output_type": "execute_result"
    }
   ],
   "source": [
    "l[-1][1]"
   ]
  },
  {
   "cell_type": "code",
   "execution_count": 46,
   "id": "08c263bb",
   "metadata": {},
   "outputs": [],
   "source": [
    "l.extend(\"khadar\")"
   ]
  },
  {
   "cell_type": "code",
   "execution_count": 47,
   "id": "99c75688",
   "metadata": {},
   "outputs": [
    {
     "data": {
      "text/plain": [
       "[1,\n",
       " 345,\n",
       " 45,\n",
       " 'khadar',\n",
       " True,\n",
       " (5+8j),\n",
       " 345.689,\n",
       " 5,\n",
       " 'pwskills',\n",
       " [3, 4, 5],\n",
       " 'k',\n",
       " 'h',\n",
       " 'a',\n",
       " 'd',\n",
       " 'a',\n",
       " 'r']"
      ]
     },
     "execution_count": 47,
     "metadata": {},
     "output_type": "execute_result"
    }
   ],
   "source": [
    "l"
   ]
  },
  {
   "cell_type": "code",
   "execution_count": 48,
   "id": "6620743f",
   "metadata": {},
   "outputs": [],
   "source": [
    "l.extend(l1)"
   ]
  },
  {
   "cell_type": "code",
   "execution_count": 49,
   "id": "904030af",
   "metadata": {},
   "outputs": [
    {
     "data": {
      "text/plain": [
       "[1,\n",
       " 345,\n",
       " 45,\n",
       " 'khadar',\n",
       " True,\n",
       " (5+8j),\n",
       " 345.689,\n",
       " 5,\n",
       " 'pwskills',\n",
       " [3, 4, 5],\n",
       " 'k',\n",
       " 'h',\n",
       " 'a',\n",
       " 'd',\n",
       " 'a',\n",
       " 'r',\n",
       " 3,\n",
       " 4,\n",
       " 5]"
      ]
     },
     "execution_count": 49,
     "metadata": {},
     "output_type": "execute_result"
    }
   ],
   "source": [
    "l"
   ]
  },
  {
   "cell_type": "code",
   "execution_count": 50,
   "id": "82e3f047",
   "metadata": {},
   "outputs": [],
   "source": [
    "l1.insert(1,\"khadar\")"
   ]
  },
  {
   "cell_type": "code",
   "execution_count": 51,
   "id": "0cc47b99",
   "metadata": {},
   "outputs": [
    {
     "data": {
      "text/plain": [
       "[3, 'khadar', 4, 5]"
      ]
     },
     "execution_count": 51,
     "metadata": {},
     "output_type": "execute_result"
    }
   ],
   "source": [
    "l1"
   ]
  },
  {
   "cell_type": "code",
   "execution_count": 52,
   "id": "5c13134d",
   "metadata": {},
   "outputs": [],
   "source": [
    "l1.insert(2,[10,20,30])"
   ]
  },
  {
   "cell_type": "code",
   "execution_count": 53,
   "id": "8ff67e38",
   "metadata": {},
   "outputs": [
    {
     "data": {
      "text/plain": [
       "[3, 'khadar', [10, 20, 30], 4, 5]"
      ]
     },
     "execution_count": 53,
     "metadata": {},
     "output_type": "execute_result"
    }
   ],
   "source": [
    "l1"
   ]
  },
  {
   "cell_type": "code",
   "execution_count": 54,
   "id": "ba5f807e",
   "metadata": {},
   "outputs": [],
   "source": [
    "l1.insert(-1,45)"
   ]
  },
  {
   "cell_type": "code",
   "execution_count": 55,
   "id": "abad773b",
   "metadata": {},
   "outputs": [
    {
     "data": {
      "text/plain": [
       "[3, 'khadar', [10, 20, 30], 4, 45, 5]"
      ]
     },
     "execution_count": 55,
     "metadata": {},
     "output_type": "execute_result"
    }
   ],
   "source": [
    "l1"
   ]
  },
  {
   "cell_type": "code",
   "execution_count": 56,
   "id": "ef4abe08",
   "metadata": {},
   "outputs": [
    {
     "data": {
      "text/plain": [
       "5"
      ]
     },
     "execution_count": 56,
     "metadata": {},
     "output_type": "execute_result"
    }
   ],
   "source": [
    "l1.pop()"
   ]
  },
  {
   "cell_type": "code",
   "execution_count": 57,
   "id": "d778bdfc",
   "metadata": {},
   "outputs": [
    {
     "data": {
      "text/plain": [
       "[3, 'khadar', [10, 20, 30], 4, 45]"
      ]
     },
     "execution_count": 57,
     "metadata": {},
     "output_type": "execute_result"
    }
   ],
   "source": [
    "l1"
   ]
  },
  {
   "cell_type": "code",
   "execution_count": 58,
   "id": "4ff96e78",
   "metadata": {},
   "outputs": [
    {
     "data": {
      "text/plain": [
       "[10, 20, 30]"
      ]
     },
     "execution_count": 58,
     "metadata": {},
     "output_type": "execute_result"
    }
   ],
   "source": [
    "l1.pop(2)"
   ]
  },
  {
   "cell_type": "code",
   "execution_count": 59,
   "id": "b7ee114b",
   "metadata": {},
   "outputs": [
    {
     "data": {
      "text/plain": [
       "[3, 'khadar', 4, 45]"
      ]
     },
     "execution_count": 59,
     "metadata": {},
     "output_type": "execute_result"
    }
   ],
   "source": [
    "l1"
   ]
  },
  {
   "cell_type": "code",
   "execution_count": 60,
   "id": "7fd596a2",
   "metadata": {},
   "outputs": [
    {
     "ename": "TypeError",
     "evalue": "list.remove() takes exactly one argument (0 given)",
     "output_type": "error",
     "traceback": [
      "\u001b[1;31m---------------------------------------------------------------------------\u001b[0m",
      "\u001b[1;31mTypeError\u001b[0m                                 Traceback (most recent call last)",
      "\u001b[1;32m~\\AppData\\Local\\Temp\\ipykernel_20212\\1494271905.py\u001b[0m in \u001b[0;36m<module>\u001b[1;34m\u001b[0m\n\u001b[1;32m----> 1\u001b[1;33m \u001b[0ml1\u001b[0m\u001b[1;33m.\u001b[0m\u001b[0mremove\u001b[0m\u001b[1;33m(\u001b[0m\u001b[1;33m)\u001b[0m\u001b[1;33m\u001b[0m\u001b[1;33m\u001b[0m\u001b[0m\n\u001b[0m",
      "\u001b[1;31mTypeError\u001b[0m: list.remove() takes exactly one argument (0 given)"
     ]
    }
   ],
   "source": [
    "l1.remove()"
   ]
  },
  {
   "cell_type": "code",
   "execution_count": 61,
   "id": "857f61dd",
   "metadata": {},
   "outputs": [],
   "source": [
    "l1.remove(3)"
   ]
  },
  {
   "cell_type": "code",
   "execution_count": 62,
   "id": "858dba04",
   "metadata": {},
   "outputs": [
    {
     "data": {
      "text/plain": [
       "['khadar', 4, 45]"
      ]
     },
     "execution_count": 62,
     "metadata": {},
     "output_type": "execute_result"
    }
   ],
   "source": [
    "l1"
   ]
  },
  {
   "cell_type": "code",
   "execution_count": 63,
   "id": "581ddabc",
   "metadata": {},
   "outputs": [],
   "source": [
    "l1.extend([2,3,5])"
   ]
  },
  {
   "cell_type": "code",
   "execution_count": 64,
   "id": "b79dc17b",
   "metadata": {},
   "outputs": [
    {
     "data": {
      "text/plain": [
       "['khadar', 4, 45, 2, 3, 5]"
      ]
     },
     "execution_count": 64,
     "metadata": {},
     "output_type": "execute_result"
    }
   ],
   "source": [
    "l1"
   ]
  },
  {
   "cell_type": "code",
   "execution_count": 65,
   "id": "e50efd00",
   "metadata": {},
   "outputs": [],
   "source": [
    "l1.append([10,20,30])"
   ]
  },
  {
   "cell_type": "code",
   "execution_count": 66,
   "id": "f3454d50",
   "metadata": {},
   "outputs": [
    {
     "data": {
      "text/plain": [
       "['khadar', 4, 45, 2, 3, 5, [10, 20, 30]]"
      ]
     },
     "execution_count": 66,
     "metadata": {},
     "output_type": "execute_result"
    }
   ],
   "source": [
    "l1"
   ]
  },
  {
   "cell_type": "code",
   "execution_count": 67,
   "id": "0d140f2f",
   "metadata": {},
   "outputs": [
    {
     "data": {
      "text/plain": [
       "[10, 20, 30]"
      ]
     },
     "execution_count": 67,
     "metadata": {},
     "output_type": "execute_result"
    }
   ],
   "source": [
    "l1[6]"
   ]
  },
  {
   "cell_type": "code",
   "execution_count": 68,
   "id": "e064df3c",
   "metadata": {},
   "outputs": [],
   "source": [
    "l1[6].remove(20)"
   ]
  },
  {
   "cell_type": "code",
   "execution_count": 69,
   "id": "09c02878",
   "metadata": {},
   "outputs": [
    {
     "data": {
      "text/plain": [
       "['khadar', 4, 45, 2, 3, 5, [10, 30]]"
      ]
     },
     "execution_count": 69,
     "metadata": {},
     "output_type": "execute_result"
    }
   ],
   "source": [
    "l1"
   ]
  },
  {
   "cell_type": "code",
   "execution_count": 70,
   "id": "7274eed4",
   "metadata": {},
   "outputs": [],
   "source": [
    "l1.reverse()"
   ]
  },
  {
   "cell_type": "code",
   "execution_count": 71,
   "id": "5dd4be04",
   "metadata": {},
   "outputs": [
    {
     "data": {
      "text/plain": [
       "[[10, 30], 5, 3, 2, 45, 4, 'khadar']"
      ]
     },
     "execution_count": 71,
     "metadata": {},
     "output_type": "execute_result"
    }
   ],
   "source": [
    "l1"
   ]
  },
  {
   "cell_type": "code",
   "execution_count": 72,
   "id": "e70086a1",
   "metadata": {},
   "outputs": [],
   "source": [
    "l2=[30,15,29,15,9,7,28]"
   ]
  },
  {
   "cell_type": "code",
   "execution_count": 73,
   "id": "b8a9d478",
   "metadata": {},
   "outputs": [],
   "source": [
    "l2.sort()"
   ]
  },
  {
   "cell_type": "code",
   "execution_count": 74,
   "id": "bcd42f4d",
   "metadata": {},
   "outputs": [
    {
     "data": {
      "text/plain": [
       "[7, 9, 15, 15, 28, 29, 30]"
      ]
     },
     "execution_count": 74,
     "metadata": {},
     "output_type": "execute_result"
    }
   ],
   "source": [
    "l2"
   ]
  },
  {
   "cell_type": "code",
   "execution_count": 75,
   "id": "697df9a7",
   "metadata": {},
   "outputs": [],
   "source": [
    "l3=[\"khadar\",\"basha\",\"nagoor\",\"nawaz\"]"
   ]
  },
  {
   "cell_type": "code",
   "execution_count": 76,
   "id": "fee9adf0",
   "metadata": {},
   "outputs": [
    {
     "data": {
      "text/plain": [
       "2"
      ]
     },
     "execution_count": 76,
     "metadata": {},
     "output_type": "execute_result"
    }
   ],
   "source": [
    "l3.index(\"nagoor\")"
   ]
  },
  {
   "cell_type": "code",
   "execution_count": 77,
   "id": "9c65309d",
   "metadata": {},
   "outputs": [
    {
     "data": {
      "text/plain": [
       "0"
      ]
     },
     "execution_count": 77,
     "metadata": {},
     "output_type": "execute_result"
    }
   ],
   "source": [
    "l3.count(\"r\")"
   ]
  },
  {
   "cell_type": "code",
   "execution_count": 78,
   "id": "ef8b3c86",
   "metadata": {},
   "outputs": [
    {
     "data": {
      "text/plain": [
       "1"
      ]
     },
     "execution_count": 78,
     "metadata": {},
     "output_type": "execute_result"
    }
   ],
   "source": [
    "l3.count(\"basha\")"
   ]
  },
  {
   "cell_type": "code",
   "execution_count": 79,
   "id": "46cf7b98",
   "metadata": {},
   "outputs": [],
   "source": [
    "s=\"khadar\""
   ]
  },
  {
   "cell_type": "code",
   "execution_count": 80,
   "id": "db54479d",
   "metadata": {},
   "outputs": [
    {
     "data": {
      "text/plain": [
       "'k'"
      ]
     },
     "execution_count": 80,
     "metadata": {},
     "output_type": "execute_result"
    }
   ],
   "source": [
    "s[0]"
   ]
  },
  {
   "cell_type": "code",
   "execution_count": 81,
   "id": "a2a81ce0",
   "metadata": {},
   "outputs": [
    {
     "ename": "TypeError",
     "evalue": "'str' object does not support item assignment",
     "output_type": "error",
     "traceback": [
      "\u001b[1;31m---------------------------------------------------------------------------\u001b[0m",
      "\u001b[1;31mTypeError\u001b[0m                                 Traceback (most recent call last)",
      "\u001b[1;32m~\\AppData\\Local\\Temp\\ipykernel_20212\\1542711339.py\u001b[0m in \u001b[0;36m<module>\u001b[1;34m\u001b[0m\n\u001b[1;32m----> 1\u001b[1;33m \u001b[0ms\u001b[0m\u001b[1;33m[\u001b[0m\u001b[1;36m0\u001b[0m\u001b[1;33m]\u001b[0m\u001b[1;33m=\u001b[0m\u001b[1;34m\"a\"\u001b[0m\u001b[1;33m\u001b[0m\u001b[1;33m\u001b[0m\u001b[0m\n\u001b[0m",
      "\u001b[1;31mTypeError\u001b[0m: 'str' object does not support item assignment"
     ]
    }
   ],
   "source": [
    "s[0]=\"a\""
   ]
  },
  {
   "cell_type": "code",
   "execution_count": 82,
   "id": "f7402b78",
   "metadata": {},
   "outputs": [],
   "source": [
    "l4=[10,20,30,40]"
   ]
  },
  {
   "cell_type": "code",
   "execution_count": 83,
   "id": "9c38dc93",
   "metadata": {},
   "outputs": [],
   "source": [
    "l4[0]=30"
   ]
  },
  {
   "cell_type": "code",
   "execution_count": 84,
   "id": "217683bd",
   "metadata": {},
   "outputs": [
    {
     "data": {
      "text/plain": [
       "[30, 20, 30, 40]"
      ]
     },
     "execution_count": 84,
     "metadata": {},
     "output_type": "execute_result"
    }
   ],
   "source": [
    "l4"
   ]
  },
  {
   "cell_type": "code",
   "execution_count": 85,
   "id": "d76543e0",
   "metadata": {},
   "outputs": [
    {
     "data": {
      "text/plain": [
       "'ahadar'"
      ]
     },
     "execution_count": 85,
     "metadata": {},
     "output_type": "execute_result"
    }
   ],
   "source": [
    "s.replace('k','a')"
   ]
  },
  {
   "cell_type": "code",
   "execution_count": 86,
   "id": "4aa35add",
   "metadata": {},
   "outputs": [],
   "source": [
    "t=(2,3,4,5,6,\"khadar\",5+8j,[10,20,30])"
   ]
  },
  {
   "cell_type": "code",
   "execution_count": 87,
   "id": "dfd8e8f3",
   "metadata": {},
   "outputs": [
    {
     "data": {
      "text/plain": [
       "(2, 3, 4, 5, 6, 'khadar', (5+8j), [10, 20, 30])"
      ]
     },
     "execution_count": 87,
     "metadata": {},
     "output_type": "execute_result"
    }
   ],
   "source": [
    "t"
   ]
  },
  {
   "cell_type": "code",
   "execution_count": 88,
   "id": "b5dac0c3",
   "metadata": {},
   "outputs": [
    {
     "data": {
      "text/plain": [
       "tuple"
      ]
     },
     "execution_count": 88,
     "metadata": {},
     "output_type": "execute_result"
    }
   ],
   "source": [
    "type(t)"
   ]
  },
  {
   "cell_type": "code",
   "execution_count": 89,
   "id": "fbf08dac",
   "metadata": {},
   "outputs": [
    {
     "data": {
      "text/plain": [
       "8"
      ]
     },
     "execution_count": 89,
     "metadata": {},
     "output_type": "execute_result"
    }
   ],
   "source": [
    "len(t)"
   ]
  },
  {
   "cell_type": "code",
   "execution_count": 90,
   "id": "18231836",
   "metadata": {},
   "outputs": [
    {
     "data": {
      "text/plain": [
       "2"
      ]
     },
     "execution_count": 90,
     "metadata": {},
     "output_type": "execute_result"
    }
   ],
   "source": [
    "t[0]"
   ]
  },
  {
   "cell_type": "code",
   "execution_count": 91,
   "id": "879da6f4",
   "metadata": {},
   "outputs": [
    {
     "data": {
      "text/plain": [
       "[10, 20, 30]"
      ]
     },
     "execution_count": 91,
     "metadata": {},
     "output_type": "execute_result"
    }
   ],
   "source": [
    "t[-1]"
   ]
  },
  {
   "cell_type": "code",
   "execution_count": 92,
   "id": "821f73b9",
   "metadata": {},
   "outputs": [
    {
     "data": {
      "text/plain": [
       "([10, 20, 30], (5+8j), 'khadar', 6, 5, 4, 3, 2)"
      ]
     },
     "execution_count": 92,
     "metadata": {},
     "output_type": "execute_result"
    }
   ],
   "source": [
    "t[::-1]"
   ]
  },
  {
   "cell_type": "code",
   "execution_count": 93,
   "id": "18d85248",
   "metadata": {},
   "outputs": [
    {
     "ename": "TypeError",
     "evalue": "'tuple' object does not support item assignment",
     "output_type": "error",
     "traceback": [
      "\u001b[1;31m---------------------------------------------------------------------------\u001b[0m",
      "\u001b[1;31mTypeError\u001b[0m                                 Traceback (most recent call last)",
      "\u001b[1;32m~\\AppData\\Local\\Temp\\ipykernel_20212\\728715869.py\u001b[0m in \u001b[0;36m<module>\u001b[1;34m\u001b[0m\n\u001b[1;32m----> 1\u001b[1;33m \u001b[0mt\u001b[0m\u001b[1;33m[\u001b[0m\u001b[1;36m0\u001b[0m\u001b[1;33m]\u001b[0m\u001b[1;33m=\u001b[0m\u001b[1;36m50\u001b[0m\u001b[1;33m\u001b[0m\u001b[1;33m\u001b[0m\u001b[0m\n\u001b[0m",
      "\u001b[1;31mTypeError\u001b[0m: 'tuple' object does not support item assignment"
     ]
    }
   ],
   "source": [
    "t[0]=50"
   ]
  },
  {
   "cell_type": "code",
   "execution_count": 94,
   "id": "5c1c22c0",
   "metadata": {},
   "outputs": [],
   "source": [
    "s11={}"
   ]
  },
  {
   "cell_type": "code",
   "execution_count": 95,
   "id": "26244293",
   "metadata": {},
   "outputs": [
    {
     "data": {
      "text/plain": [
       "dict"
      ]
     },
     "execution_count": 95,
     "metadata": {},
     "output_type": "execute_result"
    }
   ],
   "source": [
    "type(s11)"
   ]
  },
  {
   "cell_type": "code",
   "execution_count": 96,
   "id": "6710e352",
   "metadata": {},
   "outputs": [],
   "source": [
    "s12={10,20,30,56}"
   ]
  },
  {
   "cell_type": "code",
   "execution_count": 97,
   "id": "946892e2",
   "metadata": {},
   "outputs": [
    {
     "data": {
      "text/plain": [
       "set"
      ]
     },
     "execution_count": 97,
     "metadata": {},
     "output_type": "execute_result"
    }
   ],
   "source": [
    "type(s12)"
   ]
  },
  {
   "cell_type": "code",
   "execution_count": 101,
   "id": "ea7351ca",
   "metadata": {},
   "outputs": [],
   "source": [
    "s13={10,20,30,40,50,\"khadar\",10+5j,25.36,(25,36)}"
   ]
  },
  {
   "cell_type": "code",
   "execution_count": 102,
   "id": "e7c2a355",
   "metadata": {},
   "outputs": [
    {
     "data": {
      "text/plain": [
       "{(10+5j), (25, 36), 10, 20, 25.36, 30, 40, 50, 'khadar'}"
      ]
     },
     "execution_count": 102,
     "metadata": {},
     "output_type": "execute_result"
    }
   ],
   "source": [
    "s13"
   ]
  },
  {
   "cell_type": "code",
   "execution_count": 103,
   "id": "785aa3ad",
   "metadata": {},
   "outputs": [],
   "source": [
    "s14={1,2,3,1,2,3,5,6,7,8,10,1,6,7,8,9}"
   ]
  },
  {
   "cell_type": "code",
   "execution_count": 104,
   "id": "ca36730a",
   "metadata": {},
   "outputs": [
    {
     "data": {
      "text/plain": [
       "{1, 2, 3, 5, 6, 7, 8, 9, 10}"
      ]
     },
     "execution_count": 104,
     "metadata": {},
     "output_type": "execute_result"
    }
   ],
   "source": [
    "s14"
   ]
  },
  {
   "cell_type": "code",
   "execution_count": 105,
   "id": "07b442da",
   "metadata": {},
   "outputs": [],
   "source": [
    "l6={1,2,3,1,2,3,5,6,7,8,10,1,6,7,8,9}"
   ]
  },
  {
   "cell_type": "code",
   "execution_count": 107,
   "id": "a4e0410c",
   "metadata": {},
   "outputs": [
    {
     "data": {
      "text/plain": [
       "[1, 2, 3, 5, 6, 7, 8, 9, 10]"
      ]
     },
     "execution_count": 107,
     "metadata": {},
     "output_type": "execute_result"
    }
   ],
   "source": [
    "list(set(l6))"
   ]
  },
  {
   "cell_type": "code",
   "execution_count": 108,
   "id": "13f9d6e7",
   "metadata": {},
   "outputs": [],
   "source": [
    "s15={225,20,50,\"abc\",4+8j}"
   ]
  },
  {
   "cell_type": "code",
   "execution_count": 109,
   "id": "2397bd4b",
   "metadata": {},
   "outputs": [
    {
     "data": {
      "text/plain": [
       "{(4+8j), 20, 225, 50, 'abc'}"
      ]
     },
     "execution_count": 109,
     "metadata": {},
     "output_type": "execute_result"
    }
   ],
   "source": [
    "s15"
   ]
  },
  {
   "cell_type": "code",
   "execution_count": 110,
   "id": "39435895",
   "metadata": {},
   "outputs": [],
   "source": [
    "s15.add(33)"
   ]
  },
  {
   "cell_type": "code",
   "execution_count": 111,
   "id": "ee134961",
   "metadata": {},
   "outputs": [
    {
     "data": {
      "text/plain": [
       "{(4+8j), 20, 225, 33, 50, 'abc'}"
      ]
     },
     "execution_count": 111,
     "metadata": {},
     "output_type": "execute_result"
    }
   ],
   "source": [
    "s15"
   ]
  },
  {
   "cell_type": "code",
   "execution_count": 112,
   "id": "89ea2a26",
   "metadata": {},
   "outputs": [],
   "source": [
    "s15.remove('abc')"
   ]
  },
  {
   "cell_type": "code",
   "execution_count": 113,
   "id": "f8044f02",
   "metadata": {},
   "outputs": [
    {
     "data": {
      "text/plain": [
       "{(4+8j), 20, 225, 33, 50}"
      ]
     },
     "execution_count": 113,
     "metadata": {},
     "output_type": "execute_result"
    }
   ],
   "source": [
    "s15"
   ]
  },
  {
   "cell_type": "code",
   "execution_count": 117,
   "id": "9f378644",
   "metadata": {},
   "outputs": [],
   "source": [
    "d1={\"fname\":\"khadar\",\"lname\":\"basha\",\"email\":\"khadarsayyad@gmail.com\",\"mobile\":9505437866,\"courses\":[\"c\",\"c++\",\"java\"]}"
   ]
  },
  {
   "cell_type": "code",
   "execution_count": 118,
   "id": "cedc8fad",
   "metadata": {},
   "outputs": [
    {
     "data": {
      "text/plain": [
       "{'fname': 'khadar',\n",
       " 'lname': 'basha',\n",
       " 'email': 'khadarsayyad@gmail.com',\n",
       " 'mobile': 9505437866,\n",
       " 'courses': ['c', 'c++', 'java']}"
      ]
     },
     "execution_count": 118,
     "metadata": {},
     "output_type": "execute_result"
    }
   ],
   "source": [
    "d1"
   ]
  },
  {
   "cell_type": "code",
   "execution_count": 119,
   "id": "54645f1b",
   "metadata": {},
   "outputs": [
    {
     "data": {
      "text/plain": [
       "9505437866"
      ]
     },
     "execution_count": 119,
     "metadata": {},
     "output_type": "execute_result"
    }
   ],
   "source": [
    "d1[\"mobile\"]"
   ]
  },
  {
   "cell_type": "code",
   "execution_count": 121,
   "id": "282796fd",
   "metadata": {},
   "outputs": [
    {
     "data": {
      "text/plain": [
       "'java'"
      ]
     },
     "execution_count": 121,
     "metadata": {},
     "output_type": "execute_result"
    }
   ],
   "source": [
    "d1[\"courses\"][2]"
   ]
  },
  {
   "cell_type": "code",
   "execution_count": 122,
   "id": "e31d0b1e",
   "metadata": {},
   "outputs": [],
   "source": [
    "d2={\"numbers\":[10,20,30,40,50,60],\"assignment\":(1,2,3,4,5),\"lunch_dates\":{28,12,14},\"class_time\":{\"webdev\":7,\"python\":8,\"javascript\":6}}"
   ]
  },
  {
   "cell_type": "code",
   "execution_count": 123,
   "id": "6f1dd87c",
   "metadata": {},
   "outputs": [
    {
     "data": {
      "text/plain": [
       "{'numbers': [10, 20, 30, 40, 50, 60],\n",
       " 'assignment': (1, 2, 3, 4, 5),\n",
       " 'lunch_dates': {12, 14, 28},\n",
       " 'class_time': {'webdev': 7, 'python': 8, 'javascript': 6}}"
      ]
     },
     "execution_count": 123,
     "metadata": {},
     "output_type": "execute_result"
    }
   ],
   "source": [
    "d2"
   ]
  },
  {
   "cell_type": "code",
   "execution_count": 124,
   "id": "bd032ec8",
   "metadata": {},
   "outputs": [
    {
     "data": {
      "text/plain": [
       "8"
      ]
     },
     "execution_count": 124,
     "metadata": {},
     "output_type": "execute_result"
    }
   ],
   "source": [
    "d2[\"class_time\"][\"python\"]"
   ]
  },
  {
   "cell_type": "code",
   "execution_count": 125,
   "id": "7e407d35",
   "metadata": {},
   "outputs": [],
   "source": [
    "d2[\"office_timings\"]=[\"tea\",\"lunch\",\"snaks\"]"
   ]
  },
  {
   "cell_type": "code",
   "execution_count": 126,
   "id": "a3401a38",
   "metadata": {},
   "outputs": [
    {
     "data": {
      "text/plain": [
       "{'numbers': [10, 20, 30, 40, 50, 60],\n",
       " 'assignment': (1, 2, 3, 4, 5),\n",
       " 'lunch_dates': {12, 14, 28},\n",
       " 'class_time': {'webdev': 7, 'python': 8, 'javascript': 6},\n",
       " 'office_timings': ['tea', 'lunch', 'snaks']}"
      ]
     },
     "execution_count": 126,
     "metadata": {},
     "output_type": "execute_result"
    }
   ],
   "source": [
    "d2"
   ]
  },
  {
   "cell_type": "code",
   "execution_count": 127,
   "id": "c7d587d9",
   "metadata": {},
   "outputs": [
    {
     "data": {
      "text/plain": [
       "dict_keys(['numbers', 'assignment', 'lunch_dates', 'class_time', 'office_timings'])"
      ]
     },
     "execution_count": 127,
     "metadata": {},
     "output_type": "execute_result"
    }
   ],
   "source": [
    "d2.keys()"
   ]
  },
  {
   "cell_type": "code",
   "execution_count": 128,
   "id": "0d9a509e",
   "metadata": {},
   "outputs": [
    {
     "data": {
      "text/plain": [
       "['numbers', 'assignment', 'lunch_dates', 'class_time', 'office_timings']"
      ]
     },
     "execution_count": 128,
     "metadata": {},
     "output_type": "execute_result"
    }
   ],
   "source": [
    "list(d2.keys())"
   ]
  },
  {
   "cell_type": "code",
   "execution_count": 129,
   "id": "5c893d67",
   "metadata": {},
   "outputs": [
    {
     "data": {
      "text/plain": [
       "dict_values([[10, 20, 30, 40, 50, 60], (1, 2, 3, 4, 5), {28, 12, 14}, {'webdev': 7, 'python': 8, 'javascript': 6}, ['tea', 'lunch', 'snaks']])"
      ]
     },
     "execution_count": 129,
     "metadata": {},
     "output_type": "execute_result"
    }
   ],
   "source": [
    "d2.values()"
   ]
  },
  {
   "cell_type": "code",
   "execution_count": 130,
   "id": "07f1e06e",
   "metadata": {},
   "outputs": [
    {
     "data": {
      "text/plain": [
       "[[10, 20, 30, 40, 50, 60],\n",
       " (1, 2, 3, 4, 5),\n",
       " {12, 14, 28},\n",
       " {'webdev': 7, 'python': 8, 'javascript': 6},\n",
       " ['tea', 'lunch', 'snaks']]"
      ]
     },
     "execution_count": 130,
     "metadata": {},
     "output_type": "execute_result"
    }
   ],
   "source": [
    "list(d2.values())"
   ]
  },
  {
   "cell_type": "code",
   "execution_count": 131,
   "id": "470a14db",
   "metadata": {},
   "outputs": [
    {
     "data": {
      "text/plain": [
       "dict_items([('numbers', [10, 20, 30, 40, 50, 60]), ('assignment', (1, 2, 3, 4, 5)), ('lunch_dates', {28, 12, 14}), ('class_time', {'webdev': 7, 'python': 8, 'javascript': 6}), ('office_timings', ['tea', 'lunch', 'snaks'])])"
      ]
     },
     "execution_count": 131,
     "metadata": {},
     "output_type": "execute_result"
    }
   ],
   "source": [
    "d2.items()"
   ]
  },
  {
   "cell_type": "code",
   "execution_count": 132,
   "id": "f1330e00",
   "metadata": {},
   "outputs": [
    {
     "data": {
      "text/plain": [
       "[('numbers', [10, 20, 30, 40, 50, 60]),\n",
       " ('assignment', (1, 2, 3, 4, 5)),\n",
       " ('lunch_dates', {12, 14, 28}),\n",
       " ('class_time', {'webdev': 7, 'python': 8, 'javascript': 6}),\n",
       " ('office_timings', ['tea', 'lunch', 'snaks'])]"
      ]
     },
     "execution_count": 132,
     "metadata": {},
     "output_type": "execute_result"
    }
   ],
   "source": [
    "list(d2.items())"
   ]
  },
  {
   "cell_type": "code",
   "execution_count": 133,
   "id": "8ea9c4cf",
   "metadata": {},
   "outputs": [
    {
     "data": {
      "text/plain": [
       "(1, 2, 3, 4, 5)"
      ]
     },
     "execution_count": 133,
     "metadata": {},
     "output_type": "execute_result"
    }
   ],
   "source": [
    "d2.pop('assignment')"
   ]
  },
  {
   "cell_type": "code",
   "execution_count": 134,
   "id": "4f320561",
   "metadata": {},
   "outputs": [
    {
     "data": {
      "text/plain": [
       "{'numbers': [10, 20, 30, 40, 50, 60],\n",
       " 'lunch_dates': {12, 14, 28},\n",
       " 'class_time': {'webdev': 7, 'python': 8, 'javascript': 6},\n",
       " 'office_timings': ['tea', 'lunch', 'snaks']}"
      ]
     },
     "execution_count": 134,
     "metadata": {},
     "output_type": "execute_result"
    }
   ],
   "source": [
    "d2"
   ]
  },
  {
   "cell_type": "code",
   "execution_count": 147,
   "id": "9291696f",
   "metadata": {},
   "outputs": [
    {
     "name": "stdout",
     "output_type": "stream",
     "text": [
      "Enter your marks :99\n",
      "You will be part of A0 Batch\n"
     ]
    }
   ],
   "source": [
    "marks=input(\"Enter your marks :\")\n",
    "marks=int(marks)\n",
    "if marks >= 80:\n",
    "    print(\"You will be part of A0 Batch\")\n",
    "elif marks>=60 and marks<80:\n",
    "    print(\"You will be part of A1 Batch\")\n",
    "elif marks>=40 and marks<60:\n",
    "    print(\"You will be part of A2 Batch\")\n",
    "else:\n",
    "    print(\"You will be part of A3 Batch\")"
   ]
  },
  {
   "cell_type": "code",
   "execution_count": 1,
   "id": "791cf189",
   "metadata": {},
   "outputs": [
    {
     "name": "stdout",
     "output_type": "stream",
     "text": [
      "Enter the price600\n",
      "you will purchase\n"
     ]
    }
   ],
   "source": [
    "price = int(input(\"Enter the price\"))\n",
    "if price>1000:\n",
    "    print(\"you will not purchase\")\n",
    "else:\n",
    "    print(\"you will purchase\")"
   ]
  },
  {
   "cell_type": "code",
   "execution_count": 12,
   "id": "ac47bca5",
   "metadata": {},
   "outputs": [],
   "source": [
    "l10=[1,2,3,4,5,6,7,8,9]"
   ]
  },
  {
   "cell_type": "code",
   "execution_count": 14,
   "id": "b2ead580",
   "metadata": {},
   "outputs": [
    {
     "name": "stdout",
     "output_type": "stream",
     "text": [
      "1\n",
      "2\n",
      "3\n",
      "4\n",
      "5\n",
      "6\n",
      "7\n",
      "8\n",
      "9\n"
     ]
    }
   ],
   "source": [
    "l11=[]\n",
    "for i in l10:\n",
    "    print(i)\n",
    "    l11.append(i+1)"
   ]
  },
  {
   "cell_type": "code",
   "execution_count": 4,
   "id": "525d1a37",
   "metadata": {},
   "outputs": [],
   "source": [
    "courses=[\"khadar\",\"basha\",\"nagoor\"]\n",
    "ncourses=[]\n",
    "for i in courses:\n",
    "    ncourses.append(i.upper())"
   ]
  },
  {
   "cell_type": "code",
   "execution_count": 5,
   "id": "b6277da6",
   "metadata": {},
   "outputs": [
    {
     "data": {
      "text/plain": [
       "['KHADAR', 'BASHA', 'NAGOOR']"
      ]
     },
     "execution_count": 5,
     "metadata": {},
     "output_type": "execute_result"
    }
   ],
   "source": [
    "ncourses"
   ]
  },
  {
   "cell_type": "code",
   "execution_count": 9,
   "id": "257023d1",
   "metadata": {},
   "outputs": [],
   "source": [
    "arr=[1,2,3,5,6,10.5,4.56,\"khadar\",50,\"basha\"]\n",
    "int_arr=[]\n",
    "str_arr=[]\n",
    "\n",
    "for i in arr:\n",
    "    if type(i)==int or type(i)==float:\n",
    "        int_arr.append(i)\n",
    "    else:\n",
    "        str_arr.append(i)"
   ]
  },
  {
   "cell_type": "code",
   "execution_count": 10,
   "id": "3825e60d",
   "metadata": {},
   "outputs": [
    {
     "name": "stdout",
     "output_type": "stream",
     "text": [
      "[1, 2, 3, 5, 6, 10.5, 4.56, 50]\n"
     ]
    }
   ],
   "source": [
    "print(int_arr)"
   ]
  },
  {
   "cell_type": "code",
   "execution_count": 11,
   "id": "a9b397b1",
   "metadata": {},
   "outputs": [
    {
     "name": "stdout",
     "output_type": "stream",
     "text": [
      "['khadar', 'basha']\n"
     ]
    }
   ],
   "source": [
    "print(str_arr)"
   ]
  },
  {
   "cell_type": "code",
   "execution_count": 12,
   "id": "4c5db77b",
   "metadata": {},
   "outputs": [
    {
     "data": {
      "text/plain": [
       "True"
      ]
     },
     "execution_count": 12,
     "metadata": {},
     "output_type": "execute_result"
    }
   ],
   "source": [
    "True or False and True"
   ]
  },
  {
   "cell_type": "code",
   "execution_count": 13,
   "id": "2b9c7238",
   "metadata": {},
   "outputs": [
    {
     "data": {
      "text/plain": [
       "False"
      ]
     },
     "execution_count": 13,
     "metadata": {},
     "output_type": "execute_result"
    }
   ],
   "source": [
    "not(True) or False and True"
   ]
  },
  {
   "cell_type": "code",
   "execution_count": 14,
   "id": "169b1e8f",
   "metadata": {},
   "outputs": [
    {
     "data": {
      "text/plain": [
       "False"
      ]
     },
     "execution_count": 14,
     "metadata": {},
     "output_type": "execute_result"
    }
   ],
   "source": [
    "False or False and not(True)"
   ]
  },
  {
   "cell_type": "code",
   "execution_count": 15,
   "id": "1cf342cd",
   "metadata": {},
   "outputs": [],
   "source": [
    "string = \"p w s k i l l s\""
   ]
  },
  {
   "cell_type": "code",
   "execution_count": 20,
   "id": "77a5f08f",
   "metadata": {},
   "outputs": [
    {
     "data": {
      "text/plain": [
       "'p w s k i l l s'"
      ]
     },
     "execution_count": 20,
     "metadata": {},
     "output_type": "execute_result"
    }
   ],
   "source": [
    "\" \".join(string.replace(\" \",\"\"))"
   ]
  },
  {
   "cell_type": "code",
   "execution_count": 17,
   "id": "9cf78869",
   "metadata": {},
   "outputs": [
    {
     "data": {
      "text/plain": [
       "True"
      ]
     },
     "execution_count": 17,
     "metadata": {},
     "output_type": "execute_result"
    }
   ],
   "source": [
    "\"pwskills\"[::-1].upper().replace(\"SLLIKSWP\", \"pwskills\").islower()"
   ]
  },
  {
   "cell_type": "code",
   "execution_count": 18,
   "id": "61237c9a",
   "metadata": {},
   "outputs": [
    {
     "name": "stdout",
     "output_type": "stream",
     "text": [
      "I\n",
      "Want\n",
      "To\n",
      "Become\n",
      "A\n",
      "Data\n",
      "Scientist\n"
     ]
    }
   ],
   "source": [
    "s = \"I want to become a data scientist\"\n",
    "\n",
    "for i in s.split():\n",
    "\n",
    "    i.capitalize()\n",
    "\n",
    "    print(i.title())"
   ]
  },
  {
   "cell_type": "code",
   "execution_count": 19,
   "id": "05019931",
   "metadata": {},
   "outputs": [
    {
     "ename": "NameError",
     "evalue": "name 'center' is not defined",
     "output_type": "error",
     "traceback": [
      "\u001b[1;31m---------------------------------------------------------------------------\u001b[0m",
      "\u001b[1;31mNameError\u001b[0m                                 Traceback (most recent call last)",
      "\u001b[1;32m~\\AppData\\Local\\Temp\\ipykernel_19588\\720494798.py\u001b[0m in \u001b[0;36m<module>\u001b[1;34m\u001b[0m\n\u001b[1;32m----> 1\u001b[1;33m \u001b[0mcenter\u001b[0m\u001b[1;33m(\u001b[0m\u001b[1;33m)\u001b[0m\u001b[1;33m\u001b[0m\u001b[1;33m\u001b[0m\u001b[0m\n\u001b[0m",
      "\u001b[1;31mNameError\u001b[0m: name 'center' is not defined"
     ]
    }
   ],
   "source": [
    "center()"
   ]
  },
  {
   "cell_type": "code",
   "execution_count": 21,
   "id": "dfe79a4e",
   "metadata": {},
   "outputs": [],
   "source": [
    "l = [1,2,3,4,5]"
   ]
  },
  {
   "cell_type": "code",
   "execution_count": 22,
   "id": "c61dc22f",
   "metadata": {},
   "outputs": [
    {
     "name": "stdout",
     "output_type": "stream",
     "text": [
      "1\n",
      "2\n",
      "3\n",
      "4\n",
      "5\n"
     ]
    }
   ],
   "source": [
    "for i in l:\n",
    "    print(i)"
   ]
  },
  {
   "cell_type": "code",
   "execution_count": 23,
   "id": "6aa14b7e",
   "metadata": {},
   "outputs": [],
   "source": [
    "l1=[\"khadar\",\"basha\",\"nagoor\",\"nawaz\"]"
   ]
  },
  {
   "cell_type": "code",
   "execution_count": 24,
   "id": "86d25ea2",
   "metadata": {},
   "outputs": [
    {
     "name": "stdout",
     "output_type": "stream",
     "text": [
      "khadar\n",
      "basha\n",
      "nagoor\n",
      "nawaz\n"
     ]
    }
   ],
   "source": [
    "for i in l1:\n",
    "    print(i)"
   ]
  },
  {
   "cell_type": "code",
   "execution_count": 25,
   "id": "f9d8e058",
   "metadata": {},
   "outputs": [
    {
     "name": "stdout",
     "output_type": "stream",
     "text": [
      "khadar\n",
      "basha\n",
      "nagoor\n",
      "nawaz\n",
      "if for loop is able to complete itself then else will be execute\n"
     ]
    }
   ],
   "source": [
    "for i in l1:\n",
    "    print(i)\n",
    "else:\n",
    "    print(\"if for loop is able to complete itself then else will be execute\")"
   ]
  },
  {
   "cell_type": "code",
   "execution_count": 29,
   "id": "ee13288d",
   "metadata": {},
   "outputs": [
    {
     "name": "stdout",
     "output_type": "stream",
     "text": [
      "khadar\n"
     ]
    }
   ],
   "source": [
    "for i in l1:\n",
    "    if i == \"basha\":\n",
    "        break\n",
    "    print(i)\n",
    "else:\n",
    "    print(\"execute this for loop able to complete itself\")"
   ]
  },
  {
   "cell_type": "code",
   "execution_count": 30,
   "id": "043d45c6",
   "metadata": {},
   "outputs": [
    {
     "name": "stdout",
     "output_type": "stream",
     "text": [
      "khadar\n",
      "nagoor\n",
      "nawaz\n",
      "execute this for loop able to complete itself\n"
     ]
    }
   ],
   "source": [
    "for i in l1:\n",
    "    if i == \"basha\":\n",
    "        continue\n",
    "    print(i)\n",
    "else:\n",
    "    print(\"execute this for loop able to complete itself\")"
   ]
  },
  {
   "cell_type": "code",
   "execution_count": 31,
   "id": "f9551e20",
   "metadata": {},
   "outputs": [
    {
     "data": {
      "text/plain": [
       "range(0, 5)"
      ]
     },
     "execution_count": 31,
     "metadata": {},
     "output_type": "execute_result"
    }
   ],
   "source": [
    "range(0,5)"
   ]
  },
  {
   "cell_type": "code",
   "execution_count": 32,
   "id": "1442a177",
   "metadata": {},
   "outputs": [
    {
     "data": {
      "text/plain": [
       "[0, 1, 2, 3, 4]"
      ]
     },
     "execution_count": 32,
     "metadata": {},
     "output_type": "execute_result"
    }
   ],
   "source": [
    "list(range(0,5))"
   ]
  },
  {
   "cell_type": "code",
   "execution_count": 33,
   "id": "b900ccd0",
   "metadata": {},
   "outputs": [
    {
     "data": {
      "text/plain": [
       "[0, 2, 4, 6, 8, 10, 12, 14, 16, 18]"
      ]
     },
     "execution_count": 33,
     "metadata": {},
     "output_type": "execute_result"
    }
   ],
   "source": [
    "list(range(0,20,2))"
   ]
  },
  {
   "cell_type": "code",
   "execution_count": 34,
   "id": "c7737b3c",
   "metadata": {},
   "outputs": [
    {
     "data": {
      "text/plain": [
       "[-10, -9, -8, -7, -6, -5, -4, -3, -2, -1]"
      ]
     },
     "execution_count": 34,
     "metadata": {},
     "output_type": "execute_result"
    }
   ],
   "source": [
    "list(range(-10,0))"
   ]
  },
  {
   "cell_type": "code",
   "execution_count": 40,
   "id": "12fddc70",
   "metadata": {},
   "outputs": [
    {
     "data": {
      "text/plain": [
       "4"
      ]
     },
     "execution_count": 40,
     "metadata": {},
     "output_type": "execute_result"
    }
   ],
   "source": [
    "len(l1)"
   ]
  },
  {
   "cell_type": "code",
   "execution_count": 41,
   "id": "1e39245c",
   "metadata": {},
   "outputs": [
    {
     "data": {
      "text/plain": [
       "[0, 1, 2, 3]"
      ]
     },
     "execution_count": 41,
     "metadata": {},
     "output_type": "execute_result"
    }
   ],
   "source": [
    "list(range(len(l1)))"
   ]
  },
  {
   "cell_type": "code",
   "execution_count": 42,
   "id": "c4067b95",
   "metadata": {},
   "outputs": [
    {
     "name": "stdout",
     "output_type": "stream",
     "text": [
      "0\n",
      "1\n",
      "2\n",
      "3\n"
     ]
    }
   ],
   "source": [
    "for i in range(len(l1)):\n",
    "    print(i)"
   ]
  },
  {
   "cell_type": "code",
   "execution_count": 44,
   "id": "c7c181d0",
   "metadata": {},
   "outputs": [
    {
     "name": "stdout",
     "output_type": "stream",
     "text": [
      "radahk\n",
      "ahsab\n",
      "roogan\n",
      "zawan\n"
     ]
    }
   ],
   "source": [
    "for i in range(len(l1)):\n",
    "    print(l1[i][::-1])"
   ]
  },
  {
   "cell_type": "code",
   "execution_count": 45,
   "id": "2a39557a",
   "metadata": {},
   "outputs": [
    {
     "data": {
      "text/plain": [
       "range(4, 0)"
      ]
     },
     "execution_count": 45,
     "metadata": {},
     "output_type": "execute_result"
    }
   ],
   "source": [
    "range(len(l1),0)"
   ]
  },
  {
   "cell_type": "code",
   "execution_count": 47,
   "id": "86991b5c",
   "metadata": {},
   "outputs": [
    {
     "data": {
      "text/plain": [
       "[4, 3, 2, 1]"
      ]
     },
     "execution_count": 47,
     "metadata": {},
     "output_type": "execute_result"
    }
   ],
   "source": [
    "list(range(len(l1),0,-1))"
   ]
  },
  {
   "cell_type": "code",
   "execution_count": 48,
   "id": "18a6992e",
   "metadata": {},
   "outputs": [
    {
     "data": {
      "text/plain": [
       "[3, 2, 1]"
      ]
     },
     "execution_count": 48,
     "metadata": {},
     "output_type": "execute_result"
    }
   ],
   "source": [
    "list(range(len(l1)-1,0,-1))"
   ]
  },
  {
   "cell_type": "code",
   "execution_count": 49,
   "id": "cad8c036",
   "metadata": {},
   "outputs": [
    {
     "data": {
      "text/plain": [
       "[3, 2, 1, 0]"
      ]
     },
     "execution_count": 49,
     "metadata": {},
     "output_type": "execute_result"
    }
   ],
   "source": [
    "list(range(len(l1)-1,-1,-1))"
   ]
  },
  {
   "cell_type": "code",
   "execution_count": 52,
   "id": "54d38ac5",
   "metadata": {},
   "outputs": [
    {
     "name": "stdout",
     "output_type": "stream",
     "text": [
      "nawaz\n",
      "nagoor\n",
      "basha\n",
      "khadar\n"
     ]
    }
   ],
   "source": [
    "for i in range(len(l1)-1,-1,-1):\n",
    "    print(l1[i])"
   ]
  },
  {
   "cell_type": "code",
   "execution_count": 53,
   "id": "168df658",
   "metadata": {},
   "outputs": [],
   "source": [
    "leven=[29,28,19,8,5,36,49,50]"
   ]
  },
  {
   "cell_type": "code",
   "execution_count": 55,
   "id": "ad1e8195",
   "metadata": {},
   "outputs": [
    {
     "data": {
      "text/plain": [
       "[0, 2, 4, 6]"
      ]
     },
     "execution_count": 55,
     "metadata": {},
     "output_type": "execute_result"
    }
   ],
   "source": [
    "list(range(0,len(leven),2))"
   ]
  },
  {
   "cell_type": "code",
   "execution_count": 56,
   "id": "c4586285",
   "metadata": {},
   "outputs": [
    {
     "name": "stdout",
     "output_type": "stream",
     "text": [
      "29\n",
      "19\n",
      "5\n",
      "49\n"
     ]
    }
   ],
   "source": [
    "for i in range(0,len(leven),2):\n",
    "    print(leven[i])"
   ]
  },
  {
   "cell_type": "code",
   "execution_count": 58,
   "id": "9d75044a",
   "metadata": {},
   "outputs": [
    {
     "name": "stdout",
     "output_type": "stream",
     "text": [
      "224\n"
     ]
    }
   ],
   "source": [
    "sum=0\n",
    "for i in range(0,len(leven),1):\n",
    "    sum+=leven[i]\n",
    "\n",
    "print(sum)"
   ]
  },
  {
   "cell_type": "code",
   "execution_count": 62,
   "id": "6b2aadbd",
   "metadata": {},
   "outputs": [],
   "source": [
    "a=1"
   ]
  },
  {
   "cell_type": "code",
   "execution_count": 63,
   "id": "cd213f68",
   "metadata": {},
   "outputs": [
    {
     "name": "stdout",
     "output_type": "stream",
     "text": [
      "1\n",
      "2\n",
      "3\n",
      "4\n",
      "5\n",
      "6\n",
      "7\n",
      "8\n",
      "9\n",
      "10\n"
     ]
    }
   ],
   "source": [
    "while a<=10:\n",
    "    print(a)\n",
    "    a=a+1"
   ]
  },
  {
   "cell_type": "code",
   "execution_count": 64,
   "id": "cc4583bf",
   "metadata": {},
   "outputs": [],
   "source": [
    "#some of the number till sum poing"
   ]
  },
  {
   "cell_type": "code",
   "execution_count": 5,
   "id": "638fe2cc",
   "metadata": {},
   "outputs": [
    {
     "name": "stdout",
     "output_type": "stream",
     "text": [
      "Enter the number :10\n",
      "Total sum of given number is: 55\n"
     ]
    }
   ],
   "source": [
    "n=int(input(\"Enter the number :\"))\n",
    "counter=0\n",
    "somepoint=0\n",
    "while counter<=n:\n",
    "        somepoint=somepoint+counter\n",
    "        counter=counter+1\n",
    "\n",
    "print(\"Total sum of given number is:\",somepoint)"
   ]
  },
  {
   "cell_type": "code",
   "execution_count": 9,
   "id": "7f7f42d0",
   "metadata": {},
   "outputs": [
    {
     "name": "stdout",
     "output_type": "stream",
     "text": [
      "Enter number is:5\n",
      "factorial of  120\n"
     ]
    }
   ],
   "source": [
    "num=int(input(\"Enter number is:\"))\n",
    "factorial=1\n",
    "while num>0:\n",
    "    factorial = factorial * num\n",
    "    num=num-1\n",
    "\n",
    "print(\"factorial of \",factorial)"
   ]
  },
  {
   "cell_type": "code",
   "execution_count": 1,
   "id": "cdfe5991",
   "metadata": {},
   "outputs": [],
   "source": [
    "#Fibonacci number"
   ]
  },
  {
   "cell_type": "code",
   "execution_count": 1,
   "id": "37813f42",
   "metadata": {},
   "outputs": [
    {
     "name": "stdout",
     "output_type": "stream",
     "text": [
      "Enter the element your looking for :10\n",
      "0\n",
      "1\n",
      "1\n",
      "2\n",
      "3\n",
      "5\n",
      "8\n",
      "13\n",
      "21\n",
      "34\n"
     ]
    }
   ],
   "source": [
    "number =int(input(\"Enter the element your looking for :\"))\n",
    "a,b=0,1\n",
    "counter=0\n",
    "\n",
    "while counter<number:\n",
    "    print(a)\n",
    "    c=a+b\n",
    "    a=b\n",
    "    b=c\n",
    "    counter=counter+1"
   ]
  },
  {
   "cell_type": "code",
   "execution_count": 3,
   "id": "f15f9a97",
   "metadata": {},
   "outputs": [
    {
     "name": "stdout",
     "output_type": "stream",
     "text": [
      "0\n",
      "1\n",
      "1\n",
      "2\n",
      "3\n",
      "5\n",
      "8\n",
      "13\n",
      "21\n",
      "34\n"
     ]
    }
   ],
   "source": [
    "a,b=0,1\n",
    "for i in range(10):\n",
    "    print(a)\n",
    "    c=a+b\n",
    "    a=b\n",
    "    b=c"
   ]
  },
  {
   "cell_type": "code",
   "execution_count": 1,
   "id": "f62c5bed",
   "metadata": {},
   "outputs": [
    {
     "name": "stdout",
     "output_type": "stream",
     "text": [
      "enter the word:khadar\n",
      "radahk\n"
     ]
    }
   ],
   "source": [
    "word=input(\"enter the word:\")\n",
    "length=len(word)\n",
    "reverse=\"\"\n",
    "while length>0:\n",
    "    reverse=reverse+word[length-1]\n",
    "    length=length-1\n",
    "\n",
    "print(reverse)"
   ]
  },
  {
   "cell_type": "code",
   "execution_count": 5,
   "id": "6349bc39",
   "metadata": {},
   "outputs": [
    {
     "name": "stdout",
     "output_type": "stream",
     "text": [
      "Enter the number is:9\n",
      "9  *  1 = 9\n",
      "9  *  2 = 18\n",
      "9  *  3 = 27\n",
      "9  *  4 = 36\n",
      "9  *  5 = 45\n",
      "9  *  6 = 54\n",
      "9  *  7 = 63\n",
      "9  *  8 = 72\n",
      "9  *  9 = 81\n",
      "9  *  10 = 90\n"
     ]
    }
   ],
   "source": [
    "n=int(input(\"Enter the number is:\"))\n",
    "i=1\n",
    "while i<=10:\n",
    "    result=n*i\n",
    "    print(n,\" * \",i,\"=\",result)\n",
    "    i=i+1"
   ]
  },
  {
   "cell_type": "code",
   "execution_count": 7,
   "id": "dd1b1b3c",
   "metadata": {
    "scrolled": true
   },
   "outputs": [
    {
     "name": "stdout",
     "output_type": "stream",
     "text": [
      "1\n",
      "2\n",
      "3\n",
      "4\n",
      "5\n",
      "it will be executed once your while it successfully\n"
     ]
    }
   ],
   "source": [
    "n=5\n",
    "i=1\n",
    "while i<=n:\n",
    "    print(i)\n",
    "    i=i+1\n",
    "else:\n",
    "    print(\"it will be executed once your while it successfully\")"
   ]
  },
  {
   "cell_type": "code",
   "execution_count": 8,
   "id": "8c7c5051",
   "metadata": {},
   "outputs": [],
   "source": []
  },
  {
   "cell_type": "code",
   "execution_count": 11,
   "id": "e4e606f9",
   "metadata": {},
   "outputs": [],
   "source": [
    "l=[1,2,3,4,45,5]\n",
    "l1=[]\n",
    "for i in l:\n",
    "    l1.append(i**2)"
   ]
  },
  {
   "cell_type": "code",
   "execution_count": 12,
   "id": "f6bddaca",
   "metadata": {},
   "outputs": [
    {
     "data": {
      "text/plain": [
       "[1, 4, 9, 16, 2025, 25]"
      ]
     },
     "execution_count": 12,
     "metadata": {},
     "output_type": "execute_result"
    }
   ],
   "source": [
    "l1"
   ]
  },
  {
   "cell_type": "code",
   "execution_count": 13,
   "id": "98705323",
   "metadata": {},
   "outputs": [
    {
     "data": {
      "text/plain": [
       "[1, 4, 9, 16, 2025, 25]"
      ]
     },
     "execution_count": 13,
     "metadata": {},
     "output_type": "execute_result"
    }
   ],
   "source": [
    "[i**2 for i in l]"
   ]
  },
  {
   "cell_type": "code",
   "execution_count": 17,
   "id": "cf0e33a3",
   "metadata": {},
   "outputs": [
    {
     "data": {
      "text/plain": [
       "[2, 4]"
      ]
     },
     "execution_count": 17,
     "metadata": {},
     "output_type": "execute_result"
    }
   ],
   "source": [
    "[i for i in l if i%2==0]"
   ]
  },
  {
   "cell_type": "code",
   "execution_count": 18,
   "id": "ec2cb6c0",
   "metadata": {},
   "outputs": [],
   "source": [
    "ll=[\"khadar\",\"basha\",\"nagoor\",\"nawaz\"]"
   ]
  },
  {
   "cell_type": "code",
   "execution_count": 19,
   "id": "963e933a",
   "metadata": {},
   "outputs": [
    {
     "data": {
      "text/plain": [
       "['KHADAR', 'BASHA', 'NAGOOR', 'NAWAZ']"
      ]
     },
     "execution_count": 19,
     "metadata": {},
     "output_type": "execute_result"
    }
   ],
   "source": [
    "[i.upper() for i in ll]"
   ]
  },
  {
   "cell_type": "code",
   "execution_count": 21,
   "id": "f23d3acd",
   "metadata": {},
   "outputs": [
    {
     "data": {
      "text/plain": [
       "[1, 4, 9, 16, 2025, 25]"
      ]
     },
     "execution_count": 21,
     "metadata": {},
     "output_type": "execute_result"
    }
   ],
   "source": [
    "list(i**2 for i in l)"
   ]
  },
  {
   "cell_type": "code",
   "execution_count": 22,
   "id": "9d0a497b",
   "metadata": {},
   "outputs": [],
   "source": [
    "d={\"key1\":1,\"key2\":2,\"key3\":3,\"key4\":4}"
   ]
  },
  {
   "cell_type": "code",
   "execution_count": 23,
   "id": "1ff9ad37",
   "metadata": {},
   "outputs": [
    {
     "data": {
      "text/plain": [
       "{'key1': 1, 'key2': 2, 'key3': 3, 'key4': 4}"
      ]
     },
     "execution_count": 23,
     "metadata": {},
     "output_type": "execute_result"
    }
   ],
   "source": [
    "d"
   ]
  },
  {
   "cell_type": "code",
   "execution_count": 24,
   "id": "0d8d7492",
   "metadata": {},
   "outputs": [
    {
     "data": {
      "text/plain": [
       "{'key1': 1, 'key2': 4, 'key3': 9, 'key4': 16}"
      ]
     },
     "execution_count": 24,
     "metadata": {},
     "output_type": "execute_result"
    }
   ],
   "source": [
    "{k:v**2 for k,v in d.items()}"
   ]
  },
  {
   "cell_type": "code",
   "execution_count": 27,
   "id": "32cb7ceb",
   "metadata": {},
   "outputs": [
    {
     "data": {
      "text/plain": [
       "{'key2': 2}"
      ]
     },
     "execution_count": 27,
     "metadata": {},
     "output_type": "execute_result"
    }
   ],
   "source": [
    "{k:v for k,v in d.items() if v==2}"
   ]
  },
  {
   "cell_type": "code",
   "execution_count": 2,
   "id": "926348ec",
   "metadata": {},
   "outputs": [],
   "source": [
    "def test():\n",
    "    pass"
   ]
  },
  {
   "cell_type": "code",
   "execution_count": 3,
   "id": "aeaac0f8",
   "metadata": {},
   "outputs": [],
   "source": [
    "def test1():\n",
    "    print(\"this is my first function\")"
   ]
  },
  {
   "cell_type": "code",
   "execution_count": 4,
   "id": "cedbb6d2",
   "metadata": {},
   "outputs": [
    {
     "name": "stdout",
     "output_type": "stream",
     "text": [
      "this is my first function\n"
     ]
    }
   ],
   "source": [
    "test1()"
   ]
  },
  {
   "cell_type": "code",
   "execution_count": 5,
   "id": "631e5906",
   "metadata": {},
   "outputs": [],
   "source": [
    "def test2():\n",
    "    return \"This is my very first return\""
   ]
  },
  {
   "cell_type": "code",
   "execution_count": 6,
   "id": "264eb969",
   "metadata": {},
   "outputs": [
    {
     "data": {
      "text/plain": [
       "'This is my very first return'"
      ]
     },
     "execution_count": 6,
     "metadata": {},
     "output_type": "execute_result"
    }
   ],
   "source": [
    "test2()"
   ]
  },
  {
   "cell_type": "code",
   "execution_count": 7,
   "id": "10753eb5",
   "metadata": {},
   "outputs": [
    {
     "data": {
      "text/plain": [
       "'This is my very first return khadar'"
      ]
     },
     "execution_count": 7,
     "metadata": {},
     "output_type": "execute_result"
    }
   ],
   "source": [
    "test2()+\" khadar\""
   ]
  },
  {
   "cell_type": "code",
   "execution_count": 8,
   "id": "5e3dbb2e",
   "metadata": {},
   "outputs": [],
   "source": [
    "def test3():\n",
    "    return \"khadar\",10,10.25,[12,25,33]"
   ]
  },
  {
   "cell_type": "code",
   "execution_count": 9,
   "id": "f43728f1",
   "metadata": {},
   "outputs": [
    {
     "data": {
      "text/plain": [
       "('khadar', 10, 10.25, [12, 25, 33])"
      ]
     },
     "execution_count": 9,
     "metadata": {},
     "output_type": "execute_result"
    }
   ],
   "source": [
    "test3()"
   ]
  },
  {
   "cell_type": "code",
   "execution_count": 10,
   "id": "33a2411f",
   "metadata": {},
   "outputs": [],
   "source": [
    "a,b,c,d=test3()"
   ]
  },
  {
   "cell_type": "code",
   "execution_count": 11,
   "id": "aa19041e",
   "metadata": {},
   "outputs": [
    {
     "data": {
      "text/plain": [
       "'khadar'"
      ]
     },
     "execution_count": 11,
     "metadata": {},
     "output_type": "execute_result"
    }
   ],
   "source": [
    "a"
   ]
  },
  {
   "cell_type": "code",
   "execution_count": 12,
   "id": "a8893e0c",
   "metadata": {},
   "outputs": [
    {
     "data": {
      "text/plain": [
       "10"
      ]
     },
     "execution_count": 12,
     "metadata": {},
     "output_type": "execute_result"
    }
   ],
   "source": [
    "b"
   ]
  },
  {
   "cell_type": "code",
   "execution_count": 13,
   "id": "49bdc3a8",
   "metadata": {},
   "outputs": [
    {
     "data": {
      "text/plain": [
       "10.25"
      ]
     },
     "execution_count": 13,
     "metadata": {},
     "output_type": "execute_result"
    }
   ],
   "source": [
    "c"
   ]
  },
  {
   "cell_type": "code",
   "execution_count": 14,
   "id": "fba71888",
   "metadata": {},
   "outputs": [
    {
     "data": {
      "text/plain": [
       "[12, 25, 33]"
      ]
     },
     "execution_count": 14,
     "metadata": {},
     "output_type": "execute_result"
    }
   ],
   "source": [
    "d"
   ]
  },
  {
   "cell_type": "code",
   "execution_count": 15,
   "id": "1a7911ee",
   "metadata": {},
   "outputs": [],
   "source": [
    "a,b=10,20"
   ]
  },
  {
   "cell_type": "code",
   "execution_count": 16,
   "id": "e01db52c",
   "metadata": {},
   "outputs": [
    {
     "data": {
      "text/plain": [
       "10"
      ]
     },
     "execution_count": 16,
     "metadata": {},
     "output_type": "execute_result"
    }
   ],
   "source": [
    "a"
   ]
  },
  {
   "cell_type": "code",
   "execution_count": 17,
   "id": "36cacf5c",
   "metadata": {},
   "outputs": [
    {
     "data": {
      "text/plain": [
       "20"
      ]
     },
     "execution_count": 17,
     "metadata": {},
     "output_type": "execute_result"
    }
   ],
   "source": [
    "b"
   ]
  },
  {
   "cell_type": "code",
   "execution_count": 20,
   "id": "466b78c5",
   "metadata": {},
   "outputs": [],
   "source": [
    "def test6(a,b):\n",
    "    return a+b"
   ]
  },
  {
   "cell_type": "code",
   "execution_count": 21,
   "id": "4b243595",
   "metadata": {},
   "outputs": [
    {
     "data": {
      "text/plain": [
       "30"
      ]
     },
     "execution_count": 21,
     "metadata": {},
     "output_type": "execute_result"
    }
   ],
   "source": [
    "test6(10,20)"
   ]
  },
  {
   "cell_type": "code",
   "execution_count": 23,
   "id": "ee594603",
   "metadata": {},
   "outputs": [
    {
     "data": {
      "text/plain": [
       "'khadar basha'"
      ]
     },
     "execution_count": 23,
     "metadata": {},
     "output_type": "execute_result"
    }
   ],
   "source": [
    "test6(\"khadar\",\" basha\")"
   ]
  },
  {
   "cell_type": "code",
   "execution_count": 24,
   "id": "cb722061",
   "metadata": {},
   "outputs": [
    {
     "data": {
      "text/plain": [
       "[1, 2, 3, 4, 5, 6, 7, 8]"
      ]
     },
     "execution_count": 24,
     "metadata": {},
     "output_type": "execute_result"
    }
   ],
   "source": [
    "test6([1,2,3,4],[5,6,7,8])"
   ]
  },
  {
   "cell_type": "code",
   "execution_count": 25,
   "id": "a08328be",
   "metadata": {},
   "outputs": [],
   "source": [
    "l=[1,2,3,4,\"khadar\",\"basha\",[1,2,3,4,5]]"
   ]
  },
  {
   "cell_type": "code",
   "execution_count": 30,
   "id": "e90fb0fe",
   "metadata": {},
   "outputs": [],
   "source": [
    "def test7(l):\n",
    "    l1=[]\n",
    "    for i in l:\n",
    "        if type(i) == list:\n",
    "            for j in i:\n",
    "                if type(j) == int or type(j)== float:\n",
    "                    l1.append(j)\n",
    "        else:\n",
    "            if type(i) == int or type(i) == float:\n",
    "                l1.append(i)\n",
    "    return l1"
   ]
  },
  {
   "cell_type": "code",
   "execution_count": 31,
   "id": "34722637",
   "metadata": {},
   "outputs": [
    {
     "data": {
      "text/plain": [
       "[1, 2, 3, 4, 1, 2, 3, 4, 5]"
      ]
     },
     "execution_count": 31,
     "metadata": {},
     "output_type": "execute_result"
    }
   ],
   "source": [
    "test7(l)"
   ]
  },
  {
   "cell_type": "code",
   "execution_count": 33,
   "id": "97751e79",
   "metadata": {},
   "outputs": [],
   "source": [
    "def test8(l):\n",
    "    \"\"\"This is my function to extract from num data\"\"\"\n",
    "    l1=[]\n",
    "    for i in l:\n",
    "        if type(i) == list:\n",
    "            for j in i:\n",
    "                if type(j) == int or type(j)== float:\n",
    "                    l1.append(j)\n",
    "        else:\n",
    "            if type(i) == int or type(i) == float:\n",
    "                l1.append(i)\n",
    "    return l1"
   ]
  },
  {
   "cell_type": "code",
   "execution_count": 35,
   "id": "79ba4158",
   "metadata": {},
   "outputs": [],
   "source": [
    "def test10(*args):\n",
    "    return args"
   ]
  },
  {
   "cell_type": "code",
   "execution_count": 36,
   "id": "321f664e",
   "metadata": {},
   "outputs": [
    {
     "data": {
      "text/plain": [
       "(1, 2, 3, 'khadar basha', [10, 10.25, 99])"
      ]
     },
     "execution_count": 36,
     "metadata": {},
     "output_type": "execute_result"
    }
   ],
   "source": [
    "test10(1,2,3,\"khadar basha\",[10,10.25,99])"
   ]
  },
  {
   "cell_type": "code",
   "execution_count": 38,
   "id": "15ba12a3",
   "metadata": {},
   "outputs": [],
   "source": [
    "def test11(*khadar):\n",
    "    return khadar"
   ]
  },
  {
   "cell_type": "code",
   "execution_count": 39,
   "id": "15b9bd81",
   "metadata": {},
   "outputs": [
    {
     "data": {
      "text/plain": [
       "(1, 2, 3, 4, 'basha')"
      ]
     },
     "execution_count": 39,
     "metadata": {},
     "output_type": "execute_result"
    }
   ],
   "source": [
    "test11(1,2,3,4,\"basha\")"
   ]
  },
  {
   "cell_type": "code",
   "execution_count": 40,
   "id": "7f4855c8",
   "metadata": {},
   "outputs": [],
   "source": [
    "def test12(*args,a):\n",
    "    return args,a"
   ]
  },
  {
   "cell_type": "code",
   "execution_count": 42,
   "id": "ca16e174",
   "metadata": {},
   "outputs": [
    {
     "data": {
      "text/plain": [
       "((1, 2, 3, 4), [10])"
      ]
     },
     "execution_count": 42,
     "metadata": {},
     "output_type": "execute_result"
    }
   ],
   "source": [
    "test12(1,2,3,4,a=[10])"
   ]
  },
  {
   "cell_type": "code",
   "execution_count": 43,
   "id": "c9448634",
   "metadata": {},
   "outputs": [],
   "source": [
    "def test13(c,d,a=10,b=20):\n",
    "    return a,b,c,d"
   ]
  },
  {
   "cell_type": "code",
   "execution_count": 44,
   "id": "20264430",
   "metadata": {},
   "outputs": [
    {
     "ename": "TypeError",
     "evalue": "test13() missing 2 required positional arguments: 'c' and 'd'",
     "output_type": "error",
     "traceback": [
      "\u001b[1;31m---------------------------------------------------------------------------\u001b[0m",
      "\u001b[1;31mTypeError\u001b[0m                                 Traceback (most recent call last)",
      "\u001b[1;32m~\\AppData\\Local\\Temp\\ipykernel_8140\\2550155749.py\u001b[0m in \u001b[0;36m<module>\u001b[1;34m\u001b[0m\n\u001b[1;32m----> 1\u001b[1;33m \u001b[0mtest13\u001b[0m\u001b[1;33m(\u001b[0m\u001b[1;33m)\u001b[0m\u001b[1;33m\u001b[0m\u001b[1;33m\u001b[0m\u001b[0m\n\u001b[0m",
      "\u001b[1;31mTypeError\u001b[0m: test13() missing 2 required positional arguments: 'c' and 'd'"
     ]
    }
   ],
   "source": [
    "test13()"
   ]
  },
  {
   "cell_type": "code",
   "execution_count": 45,
   "id": "af610a84",
   "metadata": {},
   "outputs": [
    {
     "data": {
      "text/plain": [
       "(10, 20, 1, 2)"
      ]
     },
     "execution_count": 45,
     "metadata": {},
     "output_type": "execute_result"
    }
   ],
   "source": [
    "test13(1,2)"
   ]
  },
  {
   "cell_type": "code",
   "execution_count": 47,
   "id": "54244768",
   "metadata": {},
   "outputs": [],
   "source": [
    "def test14(**kwargs):\n",
    "    return kwargs"
   ]
  },
  {
   "cell_type": "code",
   "execution_count": 48,
   "id": "b243cfbf",
   "metadata": {},
   "outputs": [
    {
     "data": {
      "text/plain": [
       "{'a': [1, 2, 3, 5], 'b': 'khadar', 'c': [102.5, 13.56]}"
      ]
     },
     "execution_count": 48,
     "metadata": {},
     "output_type": "execute_result"
    }
   ],
   "source": [
    "test14(a=[1,2,3,5],b=\"khadar\",c=[102.5,13.56])"
   ]
  },
  {
   "cell_type": "raw",
   "id": "c71762c1",
   "metadata": {},
   "source": [
    "Generator Functions"
   ]
  },
  {
   "cell_type": "code",
   "execution_count": 1,
   "id": "2c0a9b9c",
   "metadata": {},
   "outputs": [
    {
     "data": {
      "text/plain": [
       "(-1+3j)"
      ]
     },
     "execution_count": 1,
     "metadata": {},
     "output_type": "execute_result"
    }
   ],
   "source": [
    "num1= 23\n",
    "\n",
    "num2= 44\n",
    "\n",
    "num2= 2+3j\n",
    "\n",
    "num1= num2.imag\n",
    "\n",
    "num2-num1"
   ]
  },
  {
   "cell_type": "code",
   "execution_count": 2,
   "id": "2802bc04",
   "metadata": {},
   "outputs": [
    {
     "data": {
      "text/plain": [
       "'ii'"
      ]
     },
     "execution_count": 2,
     "metadata": {},
     "output_type": "execute_result"
    }
   ],
   "source": [
    "'''ii'''"
   ]
  },
  {
   "cell_type": "code",
   "execution_count": 4,
   "id": "03a24035",
   "metadata": {},
   "outputs": [
    {
     "data": {
      "text/plain": [
       "'ii\\n'"
      ]
     },
     "execution_count": 4,
     "metadata": {},
     "output_type": "execute_result"
    }
   ],
   "source": [
    "\"\"\"ii\n",
    "\"\"\""
   ]
  },
  {
   "cell_type": "code",
   "execution_count": 5,
   "id": "0e4f8b87",
   "metadata": {},
   "outputs": [
    {
     "data": {
      "text/plain": [
       "'\\nThis is a comment\\nwritten in\\nmore than just one line\\n'"
      ]
     },
     "execution_count": 5,
     "metadata": {},
     "output_type": "execute_result"
    }
   ],
   "source": [
    "\"\"\"\n",
    "This is a comment\n",
    "written in\n",
    "more than just one line\n",
    "\"\"\""
   ]
  },
  {
   "cell_type": "code",
   "execution_count": 7,
   "id": "6625e983",
   "metadata": {},
   "outputs": [
    {
     "data": {
      "text/plain": [
       "True"
      ]
     },
     "execution_count": 7,
     "metadata": {},
     "output_type": "execute_result"
    }
   ],
   "source": [
    "'pwskills'.upper().lower().isalnum()"
   ]
  },
  {
   "cell_type": "code",
   "execution_count": 9,
   "id": "f77dbcb9",
   "metadata": {},
   "outputs": [
    {
     "data": {
      "text/plain": [
       "'Pwskills1'"
      ]
     },
     "execution_count": 9,
     "metadata": {},
     "output_type": "execute_result"
    }
   ],
   "source": [
    "'Pwskills' + str(1)"
   ]
  },
  {
   "cell_type": "code",
   "execution_count": 10,
   "id": "791bef5b",
   "metadata": {},
   "outputs": [
    {
     "name": "stdout",
     "output_type": "stream",
     "text": [
      "PwSkills PwSkills "
     ]
    }
   ],
   "source": [
    "for course in ['Data Science Masters', 'ML', 'data science masters', 'DL']:\n",
    "\n",
    "    if len(course)!= 2:\n",
    "\n",
    "        print('PwSkills' , end=' ')"
   ]
  },
  {
   "cell_type": "code",
   "execution_count": 11,
   "id": "7b894248",
   "metadata": {},
   "outputs": [
    {
     "name": "stdout",
     "output_type": "stream",
     "text": [
      "105\n"
     ]
    }
   ],
   "source": [
    "sum = 0\n",
    "\n",
    "for i in range(1,100):\n",
    "\n",
    "    sum += i\n",
    "\n",
    "    if sum > 100:\n",
    "\n",
    "        break\n",
    "\n",
    "print(sum)"
   ]
  },
  {
   "cell_type": "code",
   "execution_count": null,
   "id": "10233c81",
   "metadata": {},
   "outputs": [],
   "source": []
  }
 ],
 "metadata": {
  "kernelspec": {
   "display_name": "Python 3 (ipykernel)",
   "language": "python",
   "name": "python3"
  },
  "language_info": {
   "codemirror_mode": {
    "name": "ipython",
    "version": 3
   },
   "file_extension": ".py",
   "mimetype": "text/x-python",
   "name": "python",
   "nbconvert_exporter": "python",
   "pygments_lexer": "ipython3",
   "version": "3.9.13"
  }
 },
 "nbformat": 4,
 "nbformat_minor": 5
}
