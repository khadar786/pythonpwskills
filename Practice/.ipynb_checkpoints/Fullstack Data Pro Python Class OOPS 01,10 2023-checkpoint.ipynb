{
 "cells": [
  {
   "cell_type": "code",
   "execution_count": 1,
   "id": "b9e20b57",
   "metadata": {},
   "outputs": [],
   "source": [
    "#Agenda :: OOPS"
   ]
  },
  {
   "cell_type": "code",
   "execution_count": 3,
   "id": "fb23a1db",
   "metadata": {},
   "outputs": [],
   "source": [
    "#Class is a classification of real world data\n",
    "#Object is a nothing but a variable of class"
   ]
  },
  {
   "cell_type": "code",
   "execution_count": 5,
   "id": "dda31039",
   "metadata": {},
   "outputs": [],
   "source": [
    "class bankaccount:\n",
    "    \n",
    "    def openaccount(self,name,email_id):\n",
    "        print(\"open an account by taking name and mail id\")\n",
    "        return name+email_id\n",
    "    \n",
    "    def deposite(self,amount):\n",
    "        print(\"i am trying to deposite an amount in my account\")\n",
    "    \n",
    "    def withdraw(self,amt_with):\n",
    "        print(\"withdraw the amount\")\n",
    "    \n",
    "    def update_details(self,name_update,emid_update):\n",
    "        print(\"this function will update my name and mail if for account\")"
   ]
  },
  {
   "cell_type": "code",
   "execution_count": 9,
   "id": "3628caca",
   "metadata": {},
   "outputs": [],
   "source": [
    "sudh=bankaccount()"
   ]
  },
  {
   "cell_type": "code",
   "execution_count": null,
   "id": "9aef5b33",
   "metadata": {},
   "outputs": [],
   "source": []
  }
 ],
 "metadata": {
  "kernelspec": {
   "display_name": "Python 3 (ipykernel)",
   "language": "python",
   "name": "python3"
  },
  "language_info": {
   "codemirror_mode": {
    "name": "ipython",
    "version": 3
   },
   "file_extension": ".py",
   "mimetype": "text/x-python",
   "name": "python",
   "nbconvert_exporter": "python",
   "pygments_lexer": "ipython3",
   "version": "3.9.13"
  }
 },
 "nbformat": 4,
 "nbformat_minor": 5
}
