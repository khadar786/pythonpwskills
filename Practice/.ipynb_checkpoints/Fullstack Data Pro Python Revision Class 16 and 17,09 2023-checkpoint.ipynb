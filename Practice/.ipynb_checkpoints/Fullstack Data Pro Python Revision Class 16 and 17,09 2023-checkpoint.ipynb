{
 "cells": [
  {
   "cell_type": "code",
   "execution_count": 1,
   "id": "f295912f",
   "metadata": {},
   "outputs": [],
   "source": [
    "#conditional statement and loops"
   ]
  },
  {
   "cell_type": "code",
   "execution_count": 2,
   "id": "8905bfbb",
   "metadata": {},
   "outputs": [
    {
     "name": "stdout",
     "output_type": "stream",
     "text": [
      "i wont be able to buy\n"
     ]
    }
   ],
   "source": [
    "a=500\n",
    "price=850\n",
    "\n",
    "if price<=100:\n",
    "    print(\"yes i will able to buy\")\n",
    "else:\n",
    "    print(\"i wont be able to buy\")"
   ]
  },
  {
   "cell_type": "code",
   "execution_count": 4,
   "id": "4d993a4d",
   "metadata": {},
   "outputs": [
    {
     "name": "stdout",
     "output_type": "stream",
     "text": [
      "yes its avaible to my budget\n",
      "i will try to buy shirt\n",
      "My favorite color available\n"
     ]
    }
   ],
   "source": [
    "a=500\n",
    "shirt_price=200\n",
    "pant_price=500\n",
    "coat_price=800\n",
    "\n",
    "my_size='M'\n",
    "size_store=['L','XL','XXL','S','XXXL','M']\n",
    "my_fav_clr='white'\n",
    "store_clr=['white','red','blue']\n",
    "\n",
    "if coat_price <= a:\n",
    "    print(\"i will try to buy coat\")\n",
    "elif pant_price <500:\n",
    "    print(\"i will try to buy pant\")\n",
    "elif shirt_price<500:\n",
    "    print(\"yes its avaible to my budget\")\n",
    "    if my_size in size_store:\n",
    "        print(\"i will try to buy shirt\")\n",
    "        if my_fav_clr in store_clr:\n",
    "            print(\"My favorite color available\")\n",
    "else:\n",
    "    print(\"i wont be able to buy\")"
   ]
  },
  {
   "cell_type": "code",
   "execution_count": 5,
   "id": "b4d81fa8",
   "metadata": {},
   "outputs": [
    {
     "name": "stdout",
     "output_type": "stream",
     "text": [
      "I am doing this course\n"
     ]
    }
   ],
   "source": [
    "course=['DSM','DSA','JAVA','BIG DATA','DA']\n",
    "price=20000\n",
    "mentor='sudhanshu kumar'\n",
    "\n",
    "if 'DSM' in course and price==20000 and 'sudhanshu kumar'==mentor:\n",
    "    print('I am doing this course')"
   ]
  },
  {
   "cell_type": "code",
   "execution_count": 6,
   "id": "41b9e2c3",
   "metadata": {},
   "outputs": [
    {
     "name": "stdout",
     "output_type": "stream",
     "text": [
      "its out of my budget\n"
     ]
    }
   ],
   "source": [
    "course_price=20000\n",
    "if 10000<=course_price<=15000:\n",
    "    print(\"I will try to buy a course\")\n",
    "else:\n",
    "    print(\"its out of my budget\")"
   ]
  },
  {
   "cell_type": "code",
   "execution_count": 8,
   "id": "83ea89ad",
   "metadata": {},
   "outputs": [
    {
     "name": "stdout",
     "output_type": "stream",
     "text": [
      "enter user name :khadar\n",
      "enter password :khadar@123\n",
      "Your login successfully !\n"
     ]
    }
   ],
   "source": [
    "user_name=\"khadar\"\n",
    "password=\"khadar@123\"\n",
    "\n",
    "if user_name==input(\"enter user name :\") and password==input(\"enter password :\"):\n",
    "    print(\"Your login successfully !\")\n",
    "else:\n",
    "    print(\"Invalid user or password\")"
   ]
  },
  {
   "cell_type": "code",
   "execution_count": 13,
   "id": "cb4c1436",
   "metadata": {},
   "outputs": [
    {
     "name": "stdout",
     "output_type": "stream",
     "text": [
      "enter your registered mobile no :9505437866\n",
      "yes you are a registered user\n",
      "enter otp that we have sent on your mobile no :1234\n",
      "you have logged in successfully !\n"
     ]
    }
   ],
   "source": [
    "mobile_no=\"9505437866\"\n",
    "otp=\"1234\"\n",
    "\n",
    "if mobile_no==input(\"enter your registered mobile no :\"):\n",
    "    print(\"yes you are a registered user\")\n",
    "    if otp==input(\"enter otp that we have sent on your mobile no :\"):\n",
    "        print(\"you have logged in successfully !\")\n",
    "    else:\n",
    "        print(\"otp is not correct please try to enter again\")\n",
    "else:\n",
    "    print(\"you have not entered a valid mobile no\")"
   ]
  },
  {
   "cell_type": "code",
   "execution_count": 15,
   "id": "5de74bd3",
   "metadata": {},
   "outputs": [
    {
     "name": "stdout",
     "output_type": "stream",
     "text": [
      "enter your registered mobile no :9100223345\n",
      "yes you are a registered user\n",
      "enter otp that we have sent on your mobile no :123\n",
      "you have logged in successfully !\n"
     ]
    }
   ],
   "source": [
    "mobile_no ={9505437000,9505476000,9234560000,9100223345}\n",
    "otp=123\n",
    "\n",
    "if int(input(\"enter your registered mobile no :\")) in mobile_no:\n",
    "    print(\"yes you are a registered user\")\n",
    "    if otp==int(input(\"enter otp that we have sent on your mobile no :\")):\n",
    "        print(\"you have logged in successfully !\")\n",
    "    else:\n",
    "        print(\"otp is not correct please try to enter again\")\n",
    "else:\n",
    "    print(\"you have not entered a valid mobile no\")\n",
    "    "
   ]
  },
  {
   "cell_type": "code",
   "execution_count": 17,
   "id": "db09c7db",
   "metadata": {},
   "outputs": [
    {
     "name": "stdout",
     "output_type": "stream",
     "text": [
      "12\n",
      "4\n",
      "5\n",
      "6\n",
      "7\n",
      "8\n",
      "9\n"
     ]
    }
   ],
   "source": [
    "l=[12,4,5,6,7,8,9]\n",
    "\n",
    "for i in l:\n",
    "    print(i)"
   ]
  },
  {
   "cell_type": "code",
   "execution_count": 20,
   "id": "3ef5ae6b",
   "metadata": {},
   "outputs": [
    {
     "name": "stdout",
     "output_type": "stream",
     "text": [
      "12\n",
      "4\n",
      "5\n",
      "6\n",
      "7\n",
      "8\n",
      "9\n",
      "it's completed\n"
     ]
    }
   ],
   "source": [
    "for i in range(len(l)):\n",
    "    print(l[i])\n",
    "else:\n",
    "    print(\"it's completed\")"
   ]
  },
  {
   "cell_type": "code",
   "execution_count": 23,
   "id": "1dadad32",
   "metadata": {},
   "outputs": [
    {
     "name": "stdout",
     "output_type": "stream",
     "text": [
      "12\n",
      "4\n",
      "5\n",
      "6\n",
      "7\n",
      "8\n",
      "9\n",
      "while loop completed\n"
     ]
    }
   ],
   "source": [
    "i=0;\n",
    "while i<len(l):\n",
    "    print(l[i])\n",
    "    i+=1\n",
    "else:\n",
    "    print(\"while loop completed\")"
   ]
  },
  {
   "cell_type": "code",
   "execution_count": 34,
   "id": "6a65448a",
   "metadata": {},
   "outputs": [
    {
     "name": "stdout",
     "output_type": "stream",
     "text": [
      "9505437000\n",
      "9234560000\n",
      "yes user registered\n",
      "Yes student details available\n",
      "course access to this user  DSM,DSA,JAVA,BIG DATA,DA\n",
      "9505476000\n",
      "9100223345\n"
     ]
    }
   ],
   "source": [
    "mobile_no ={9505437000,9505476000,9234560000,9100223345}\n",
    "student_mobile_no=9234560000\n",
    "student_details={\n",
    "    'mobile_no':9234560000,\n",
    "    'courses':['DSM','DSA','JAVA','BIG DATA','DA']\n",
    "}\n",
    "for i in mobile_no:\n",
    "    print(i)\n",
    "    if i == student_mobile_no:\n",
    "        print(\"yes user registered\")\n",
    "        if(i==student_details['mobile_no']):\n",
    "            print(\"Yes student details available\")\n",
    "            print(\"course access to this user \",\",\".join(student_details['courses']))"
   ]
  },
  {
   "cell_type": "code",
   "execution_count": 40,
   "id": "95cd63df",
   "metadata": {},
   "outputs": [
    {
     "name": "stdout",
     "output_type": "stream",
     "text": [
      "[12, 3, 4, 5, 56]\n",
      "['sudh', 'kumar']\n"
     ]
    }
   ],
   "source": [
    "t=(12,3,4,5,56,\"sudh\",\"kumar\")\n",
    "\n",
    "list_int=[]\n",
    "list_str=[]\n",
    "for i in t:\n",
    "    if type(i) == str:\n",
    "        #print(i)\n",
    "        list_str.append(i)\n",
    "    elif type(i) == int:\n",
    "        list_int.append(i)\n",
    "\n",
    "print(list_int)\n",
    "print(list_str)"
   ]
  },
  {
   "cell_type": "code",
   "execution_count": 41,
   "id": "93f7e6ab",
   "metadata": {},
   "outputs": [],
   "source": [
    "d={\"name\":\"sudh\",\"class\":['big data','data analytics','data science','DSA','architecture','system design'],'mobile_no':123456,'email_id':'test@gmail.com'}"
   ]
  },
  {
   "cell_type": "code",
   "execution_count": 42,
   "id": "ca06f1e2",
   "metadata": {},
   "outputs": [
    {
     "name": "stdout",
     "output_type": "stream",
     "text": [
      "sudh\n",
      "['big data', 'data analytics', 'data science', 'DSA', 'architecture', 'system design']\n",
      "123456\n",
      "test@gmail.com\n"
     ]
    }
   ],
   "source": [
    "for i in d.values():\n",
    "    print(i)"
   ]
  },
  {
   "cell_type": "code",
   "execution_count": 47,
   "id": "e39d057e",
   "metadata": {},
   "outputs": [
    {
     "name": "stdout",
     "output_type": "stream",
     "text": [
      "sudh\n",
      "sudh\n",
      "sudh\n",
      "sudh\n"
     ]
    }
   ],
   "source": [
    "for i in d.values():\n",
    "    print(d['name'])"
   ]
  },
  {
   "cell_type": "code",
   "execution_count": 48,
   "id": "9c0e78fb",
   "metadata": {},
   "outputs": [
    {
     "name": "stdout",
     "output_type": "stream",
     "text": [
      "['big data', 'data analytics', 'data science', 'DSA', 'architecture', 'system design']\n"
     ]
    }
   ],
   "source": [
    "for i in d.values():\n",
    "    if type(i) == list:\n",
    "        print(i)"
   ]
  },
  {
   "cell_type": "code",
   "execution_count": 51,
   "id": "a9af6bb5",
   "metadata": {},
   "outputs": [
    {
     "name": "stdout",
     "output_type": "stream",
     "text": [
      "yes this mentor teach the sytem design\n"
     ]
    }
   ],
   "source": [
    "for i in d.values():\n",
    "    if type(i) == list:\n",
    "        if 'system design' in i:\n",
    "            print('yes this mentor teach the sytem design')"
   ]
  },
  {
   "cell_type": "markdown",
   "id": "cd8dfa6a",
   "metadata": {},
   "source": [
    "#Functions"
   ]
  },
  {
   "cell_type": "code",
   "execution_count": 2,
   "id": "5c5dcab9",
   "metadata": {},
   "outputs": [],
   "source": [
    "def test4():\n",
    "    return 2,\"khadar\",True,[1,2,3,4,5,6]"
   ]
  },
  {
   "cell_type": "code",
   "execution_count": 3,
   "id": "e9208e7f",
   "metadata": {},
   "outputs": [],
   "source": [
    "a,b,c,d=test4()"
   ]
  },
  {
   "cell_type": "code",
   "execution_count": 4,
   "id": "022d49b2",
   "metadata": {},
   "outputs": [
    {
     "name": "stdout",
     "output_type": "stream",
     "text": [
      "2\n"
     ]
    }
   ],
   "source": [
    "print(a)"
   ]
  },
  {
   "cell_type": "code",
   "execution_count": 5,
   "id": "5856e536",
   "metadata": {},
   "outputs": [
    {
     "name": "stdout",
     "output_type": "stream",
     "text": [
      "[1, 2, 3, 4, 5, 6]\n"
     ]
    }
   ],
   "source": [
    "print(d)"
   ]
  },
  {
   "cell_type": "code",
   "execution_count": 7,
   "id": "44a392b0",
   "metadata": {},
   "outputs": [
    {
     "data": {
      "text/plain": [
       "(2, 'khadar', True, [1, 2, 3, 4, 5, 6])"
      ]
     },
     "execution_count": 7,
     "metadata": {},
     "output_type": "execute_result"
    }
   ],
   "source": [
    "test4()"
   ]
  },
  {
   "cell_type": "code",
   "execution_count": 8,
   "id": "b20065b1",
   "metadata": {},
   "outputs": [
    {
     "data": {
      "text/plain": [
       "tuple"
      ]
     },
     "execution_count": 8,
     "metadata": {},
     "output_type": "execute_result"
    }
   ],
   "source": [
    "type(test4())"
   ]
  },
  {
   "cell_type": "code",
   "execution_count": 9,
   "id": "1e728b7a",
   "metadata": {},
   "outputs": [],
   "source": [
    "def test5(x):\n",
    "    return x"
   ]
  },
  {
   "cell_type": "code",
   "execution_count": 10,
   "id": "8b9a5185",
   "metadata": {},
   "outputs": [
    {
     "data": {
      "text/plain": [
       "10"
      ]
     },
     "execution_count": 10,
     "metadata": {},
     "output_type": "execute_result"
    }
   ],
   "source": [
    "test5(10)"
   ]
  },
  {
   "cell_type": "code",
   "execution_count": 12,
   "id": "8a92e9a1",
   "metadata": {},
   "outputs": [
    {
     "data": {
      "text/plain": [
       "int"
      ]
     },
     "execution_count": 12,
     "metadata": {},
     "output_type": "execute_result"
    }
   ],
   "source": [
    "type(test5(10))"
   ]
  },
  {
   "cell_type": "code",
   "execution_count": null,
   "id": "41d6547a",
   "metadata": {},
   "outputs": [],
   "source": []
  }
 ],
 "metadata": {
  "kernelspec": {
   "display_name": "Python 3 (ipykernel)",
   "language": "python",
   "name": "python3"
  },
  "language_info": {
   "codemirror_mode": {
    "name": "ipython",
    "version": 3
   },
   "file_extension": ".py",
   "mimetype": "text/x-python",
   "name": "python",
   "nbconvert_exporter": "python",
   "pygments_lexer": "ipython3",
   "version": "3.9.13"
  }
 },
 "nbformat": 4,
 "nbformat_minor": 5
}
