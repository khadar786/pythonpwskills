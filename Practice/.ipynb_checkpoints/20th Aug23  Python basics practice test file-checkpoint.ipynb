{
 "cells": [
  {
   "cell_type": "markdown",
   "id": "d34782e8",
   "metadata": {},
   "source": [
    "TOPIC: String Based Assignment Problem"
   ]
  },
  {
   "cell_type": "code",
   "execution_count": 1,
   "id": "0488165b",
   "metadata": {},
   "outputs": [],
   "source": [
    "#1. Write a program to reverse a string."
   ]
  },
  {
   "cell_type": "code",
   "execution_count": 2,
   "id": "720400f2",
   "metadata": {},
   "outputs": [],
   "source": [
    "str1=\"khadar basha\""
   ]
  },
  {
   "cell_type": "code",
   "execution_count": 3,
   "id": "ce1643b1",
   "metadata": {},
   "outputs": [
    {
     "name": "stdout",
     "output_type": "stream",
     "text": [
      "ahsab radahk\n"
     ]
    }
   ],
   "source": [
    "print(str1[::-1])"
   ]
  },
  {
   "cell_type": "code",
   "execution_count": 4,
   "id": "aa0dc2ac",
   "metadata": {},
   "outputs": [],
   "source": [
    "#2. Check if a string is a palindrome."
   ]
  },
  {
   "cell_type": "code",
   "execution_count": 5,
   "id": "4cf6bb60",
   "metadata": {},
   "outputs": [],
   "source": [
    "str2=\"madam\""
   ]
  },
  {
   "cell_type": "code",
   "execution_count": 6,
   "id": "5835cd7e",
   "metadata": {},
   "outputs": [
    {
     "name": "stdout",
     "output_type": "stream",
     "text": [
      "it is a palindrome\n"
     ]
    }
   ],
   "source": [
    "if str2==str2[::-1]:\n",
    "    print(\"it is a palindrome\")\n",
    "else:\n",
    "    print(\"it is not a palindrome\")"
   ]
  },
  {
   "cell_type": "code",
   "execution_count": 7,
   "id": "644fd1b6",
   "metadata": {},
   "outputs": [],
   "source": [
    "#3. Convert a string to uppercase."
   ]
  },
  {
   "cell_type": "code",
   "execution_count": 8,
   "id": "097d30e7",
   "metadata": {},
   "outputs": [],
   "source": [
    "str3=\"khadar\""
   ]
  },
  {
   "cell_type": "code",
   "execution_count": 9,
   "id": "d7300f96",
   "metadata": {},
   "outputs": [
    {
     "data": {
      "text/plain": [
       "'KHADAR'"
      ]
     },
     "execution_count": 9,
     "metadata": {},
     "output_type": "execute_result"
    }
   ],
   "source": [
    "str3.upper()"
   ]
  },
  {
   "cell_type": "code",
   "execution_count": 10,
   "id": "ed7b0a43",
   "metadata": {},
   "outputs": [],
   "source": [
    "#4. Convert a string to lowercase."
   ]
  },
  {
   "cell_type": "code",
   "execution_count": 11,
   "id": "66047b6a",
   "metadata": {},
   "outputs": [],
   "source": [
    "str4=\"KHADAR\""
   ]
  },
  {
   "cell_type": "code",
   "execution_count": 12,
   "id": "efdbb683",
   "metadata": {},
   "outputs": [
    {
     "data": {
      "text/plain": [
       "'khadar'"
      ]
     },
     "execution_count": 12,
     "metadata": {},
     "output_type": "execute_result"
    }
   ],
   "source": [
    "str3.lower()"
   ]
  },
  {
   "cell_type": "code",
   "execution_count": 13,
   "id": "3db3998c",
   "metadata": {},
   "outputs": [],
   "source": [
    "#5. Count the number of vowels in a string."
   ]
  },
  {
   "cell_type": "code",
   "execution_count": 17,
   "id": "78710d50",
   "metadata": {},
   "outputs": [
    {
     "name": "stdout",
     "output_type": "stream",
     "text": [
      "Enter a string \n",
      "khadar basha\n"
     ]
    }
   ],
   "source": [
    "vcount=0\n",
    "userInput=input(\"Enter a string \\n\")"
   ]
  },
  {
   "cell_type": "code",
   "execution_count": 18,
   "id": "3d1f273a",
   "metadata": {},
   "outputs": [],
   "source": [
    "vcount=len([i for i in range(0,len(userInput)) if userInput[i] in [\"a\",\"e\",\"i\",\"o\",\"u\"]])"
   ]
  },
  {
   "cell_type": "code",
   "execution_count": 19,
   "id": "2228a2ec",
   "metadata": {},
   "outputs": [
    {
     "name": "stdout",
     "output_type": "stream",
     "text": [
      "khadar basha no of vowels 4 \n"
     ]
    }
   ],
   "source": [
    "print(\"{} no of vowels {} \".format(userInput,vcount))"
   ]
  },
  {
   "cell_type": "code",
   "execution_count": 1,
   "id": "52056415",
   "metadata": {},
   "outputs": [],
   "source": [
    "#6. Count the number of consonants in a string."
   ]
  },
  {
   "cell_type": "code",
   "execution_count": 2,
   "id": "cd8e8681",
   "metadata": {},
   "outputs": [
    {
     "name": "stdout",
     "output_type": "stream",
     "text": [
      "Enter a string \n",
      "khadar basha\n"
     ]
    }
   ],
   "source": [
    "ccount=0\n",
    "userInput2=input(\"Enter a string \\n\")"
   ]
  },
  {
   "cell_type": "code",
   "execution_count": 7,
   "id": "469a8cca",
   "metadata": {},
   "outputs": [],
   "source": [
    "ccount=len([i for i in range(0,len(userInput2)) if userInput2[i] not in [\"a\",\"e\",\"i\",\"o\",\"u\"]])"
   ]
  },
  {
   "cell_type": "code",
   "execution_count": 8,
   "id": "368a2154",
   "metadata": {},
   "outputs": [
    {
     "name": "stdout",
     "output_type": "stream",
     "text": [
      "khadar basha no of consonants 8 \n"
     ]
    }
   ],
   "source": [
    "print(\"{} no of consonants {} \".format(userInput2,ccount))"
   ]
  },
  {
   "cell_type": "code",
   "execution_count": 9,
   "id": "e5673948",
   "metadata": {},
   "outputs": [],
   "source": [
    "#7. Remove all whitespaces from a string."
   ]
  },
  {
   "cell_type": "code",
   "execution_count": 10,
   "id": "fb887bf4",
   "metadata": {},
   "outputs": [],
   "source": [
    "str3=\" khadar basha \""
   ]
  },
  {
   "cell_type": "code",
   "execution_count": 12,
   "id": "97b4a53e",
   "metadata": {},
   "outputs": [
    {
     "data": {
      "text/plain": [
       "'khadar basha'"
      ]
     },
     "execution_count": 12,
     "metadata": {},
     "output_type": "execute_result"
    }
   ],
   "source": [
    "str3.strip()"
   ]
  },
  {
   "cell_type": "code",
   "execution_count": 13,
   "id": "c50582b5",
   "metadata": {},
   "outputs": [],
   "source": [
    "#8. Find the length of a string without using the `len()` function."
   ]
  },
  {
   "cell_type": "code",
   "execution_count": 14,
   "id": "e9c5cce7",
   "metadata": {},
   "outputs": [],
   "source": [
    "str4=\"khadar basha\""
   ]
  },
  {
   "cell_type": "code",
   "execution_count": 19,
   "id": "6d54e177",
   "metadata": {},
   "outputs": [
    {
     "name": "stdout",
     "output_type": "stream",
     "text": [
      "length of string 12\n"
     ]
    }
   ],
   "source": [
    "print(\"length of string {}\".format(len([i for i in str4])))"
   ]
  },
  {
   "cell_type": "code",
   "execution_count": 20,
   "id": "0615a1b6",
   "metadata": {},
   "outputs": [],
   "source": [
    "#9. Check if a string contains a specific word."
   ]
  },
  {
   "cell_type": "code",
   "execution_count": 21,
   "id": "d4f582dd",
   "metadata": {},
   "outputs": [],
   "source": [
    "str5=\"Hello world khadar basha\""
   ]
  },
  {
   "cell_type": "code",
   "execution_count": 31,
   "id": "1dab632d",
   "metadata": {},
   "outputs": [
    {
     "name": "stdout",
     "output_type": "stream",
     "text": [
      "given word conatains in string\n"
     ]
    }
   ],
   "source": [
    "if str5.find(\"basha\")!=-1:\n",
    "    print(\"given word conatains in string\")\n",
    "else:\n",
    "    print(\"not find out\")"
   ]
  },
  {
   "cell_type": "code",
   "execution_count": 32,
   "id": "bef67c16",
   "metadata": {},
   "outputs": [],
   "source": [
    "#10. Replace a word in a string with another word."
   ]
  },
  {
   "cell_type": "code",
   "execution_count": 33,
   "id": "4eeac20d",
   "metadata": {},
   "outputs": [],
   "source": [
    "str6=\"Hello khadar\""
   ]
  },
  {
   "cell_type": "code",
   "execution_count": 34,
   "id": "defb909c",
   "metadata": {},
   "outputs": [
    {
     "data": {
      "text/plain": [
       "'Hello world'"
      ]
     },
     "execution_count": 34,
     "metadata": {},
     "output_type": "execute_result"
    }
   ],
   "source": [
    "str6.replace(\"khadar\",\"world\")"
   ]
  },
  {
   "cell_type": "code",
   "execution_count": 35,
   "id": "3c1ab0ca",
   "metadata": {},
   "outputs": [],
   "source": [
    "#11. Count the occurrences of a word in a string."
   ]
  },
  {
   "cell_type": "code",
   "execution_count": null,
   "id": "f939057d",
   "metadata": {},
   "outputs": [],
   "source": []
  }
 ],
 "metadata": {
  "kernelspec": {
   "display_name": "Python 3 (ipykernel)",
   "language": "python",
   "name": "python3"
  },
  "language_info": {
   "codemirror_mode": {
    "name": "ipython",
    "version": 3
   },
   "file_extension": ".py",
   "mimetype": "text/x-python",
   "name": "python",
   "nbconvert_exporter": "python",
   "pygments_lexer": "ipython3",
   "version": "3.11.4"
  }
 },
 "nbformat": 4,
 "nbformat_minor": 5
}
