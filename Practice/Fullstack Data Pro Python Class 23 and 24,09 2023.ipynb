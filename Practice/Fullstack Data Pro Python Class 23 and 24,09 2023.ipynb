{
 "cells": [
  {
   "cell_type": "code",
   "execution_count": 1,
   "id": "7d29fd36",
   "metadata": {},
   "outputs": [],
   "source": [
    "#while loop"
   ]
  },
  {
   "cell_type": "code",
   "execution_count": 3,
   "id": "8c39309b",
   "metadata": {},
   "outputs": [
    {
     "name": "stdout",
     "output_type": "stream",
     "text": [
      "100\n",
      "99\n",
      "98\n",
      "97\n",
      "96\n",
      "95\n",
      "94\n",
      "93\n",
      "92\n",
      "91\n",
      "90\n",
      "89\n",
      "88\n",
      "87\n",
      "86\n",
      "85\n",
      "84\n",
      "83\n",
      "82\n",
      "81\n",
      "80\n",
      "79\n",
      "78\n",
      "77\n",
      "76\n",
      "75\n",
      "74\n",
      "73\n",
      "72\n",
      "71\n",
      "70\n",
      "69\n",
      "68\n",
      "67\n",
      "66\n",
      "65\n",
      "64\n",
      "63\n",
      "62\n",
      "61\n",
      "60\n",
      "59\n",
      "58\n",
      "57\n",
      "56\n",
      "55\n",
      "54\n",
      "53\n",
      "52\n",
      "51\n",
      "50\n",
      "49\n",
      "48\n",
      "47\n",
      "46\n",
      "45\n",
      "44\n",
      "43\n",
      "42\n",
      "41\n",
      "40\n",
      "39\n",
      "38\n",
      "37\n",
      "36\n",
      "35\n",
      "34\n",
      "33\n",
      "32\n",
      "31\n",
      "30\n",
      "29\n",
      "28\n",
      "27\n",
      "26\n",
      "25\n",
      "24\n",
      "23\n",
      "22\n",
      "21\n",
      "20\n",
      "19\n",
      "18\n",
      "17\n",
      "16\n",
      "15\n",
      "14\n",
      "13\n",
      "12\n",
      "11\n",
      "10\n",
      "9\n",
      "8\n",
      "7\n",
      "6\n",
      "5\n",
      "4\n",
      "3\n",
      "2\n",
      "1\n"
     ]
    }
   ],
   "source": [
    "a=100\n",
    "\n",
    "while a>=1:\n",
    "    print(a)\n",
    "    a-=1"
   ]
  },
  {
   "cell_type": "code",
   "execution_count": 10,
   "id": "e0312f38",
   "metadata": {},
   "outputs": [
    {
     "name": "stdout",
     "output_type": "stream",
     "text": [
      "1\n",
      "2\n",
      "3\n",
      "4\n",
      "5\n",
      "6\n",
      "7\n",
      "8\n",
      "9\n",
      "10\n",
      "11\n",
      "12\n",
      "13\n",
      "14\n",
      "15\n",
      "16\n",
      "17\n",
      "18\n",
      "19\n",
      "20\n",
      "21\n",
      "22\n",
      "23\n",
      "24\n",
      "25\n",
      "26\n",
      "27\n",
      "28\n",
      "29\n",
      "30\n",
      "31\n",
      "32\n",
      "33\n",
      "34\n",
      "35\n",
      "36\n",
      "37\n",
      "38\n",
      "39\n",
      "40\n",
      "41\n",
      "42\n",
      "43\n",
      "44\n",
      "45\n",
      "46\n",
      "47\n",
      "48\n",
      "49\n",
      "50\n",
      "51\n",
      "52\n",
      "53\n",
      "54\n",
      "55\n",
      "56\n",
      "57\n",
      "58\n",
      "59\n",
      "60\n",
      "61\n",
      "62\n",
      "63\n",
      "64\n",
      "65\n",
      "66\n",
      "67\n",
      "68\n",
      "69\n",
      "70\n",
      "71\n",
      "72\n",
      "73\n",
      "74\n",
      "75\n",
      "76\n",
      "77\n",
      "78\n",
      "79\n",
      "80\n",
      "81\n",
      "82\n",
      "83\n",
      "84\n",
      "85\n",
      "86\n",
      "87\n",
      "88\n",
      "89\n",
      "90\n",
      "91\n",
      "92\n",
      "93\n",
      "94\n",
      "95\n",
      "96\n",
      "97\n",
      "98\n",
      "99\n",
      "100\n",
      "While loop is completed\n"
     ]
    }
   ],
   "source": [
    "a=100\n",
    "i=1\n",
    "while i<=a:\n",
    "    print(i)\n",
    "    i=i+1\n",
    "else:\n",
    "    print(\"While loop is completed\")"
   ]
  },
  {
   "cell_type": "code",
   "execution_count": 11,
   "id": "a0a72bce",
   "metadata": {},
   "outputs": [
    {
     "name": "stdout",
     "output_type": "stream",
     "text": [
      "Sum of values  55\n"
     ]
    }
   ],
   "source": [
    "a=10\n",
    "i=1\n",
    "\n",
    "sum=0\n",
    "while i<=a:\n",
    "    sum+=i\n",
    "    i+=1\n",
    "else:\n",
    "    print(\"Sum of values \",sum)"
   ]
  },
  {
   "cell_type": "code",
   "execution_count": 13,
   "id": "33efb4a6",
   "metadata": {},
   "outputs": [
    {
     "name": "stdout",
     "output_type": "stream",
     "text": [
      "Multiplication sum of values  24\n"
     ]
    }
   ],
   "source": [
    "a=4\n",
    "i=1\n",
    "\n",
    "sum=1\n",
    "while i<=a:\n",
    "    sum*=i\n",
    "    i+=1\n",
    "else:\n",
    "    print(\"Multiplication sum of values \",sum)"
   ]
  },
  {
   "cell_type": "code",
   "execution_count": 15,
   "id": "debbac27",
   "metadata": {},
   "outputs": [
    {
     "name": "stdout",
     "output_type": "stream",
     "text": [
      "Enter a number for which you are looking for table : 19\n",
      "19 * 1 = 19\n",
      "19 * 2 = 38\n",
      "19 * 3 = 57\n",
      "19 * 4 = 76\n",
      "19 * 5 = 95\n",
      "19 * 6 = 114\n",
      "19 * 7 = 133\n",
      "19 * 8 = 152\n",
      "19 * 9 = 171\n",
      "19 * 10 = 190\n",
      "19 * 11 = 209\n",
      "19 * 12 = 228\n",
      "19 * 13 = 247\n",
      "19 * 14 = 266\n",
      "19 * 15 = 285\n",
      "19 * 16 = 304\n",
      "19 * 17 = 323\n",
      "19 * 18 = 342\n",
      "19 * 19 = 361\n",
      "19 * 20 = 380\n"
     ]
    }
   ],
   "source": [
    "table=int(input(\"Enter a number for which you are looking for table : \"))\n",
    "i=1\n",
    "n=20\n",
    "while i<=n:\n",
    "    print(\"{} * {} = {}\".format(table,i,(table*i)))\n",
    "    i+=1"
   ]
  },
  {
   "cell_type": "code",
   "execution_count": 17,
   "id": "320dc6d6",
   "metadata": {},
   "outputs": [
    {
     "name": "stdout",
     "output_type": "stream",
     "text": [
      "5\n",
      "4\n",
      "3\n",
      "2\n",
      "1\n",
      "break time is over\n"
     ]
    }
   ],
   "source": [
    "import time\n",
    "s=5\n",
    "\n",
    "while s>0 :\n",
    "    print(s)\n",
    "    time.sleep(1)\n",
    "    s-=1\n",
    "print(\"break time is over\")"
   ]
  },
  {
   "cell_type": "code",
   "execution_count": 19,
   "id": "396481bb",
   "metadata": {},
   "outputs": [
    {
     "name": "stdout",
     "output_type": "stream",
     "text": [
      "Enter your choice(1.biscuit , 2.chips , 3.redbull 4.coke)4\n",
      "take your coke\n",
      "Enter your choice(1.biscuit , 2.chips , 3.redbull 4.coke)4\n",
      "take your coke\n",
      "you dont have enough blance in your wallet\n"
     ]
    }
   ],
   "source": [
    "money_in_hand=20\n",
    "while money_in_hand>=5:\n",
    "    #print(money_in_hand)\n",
    "    \n",
    "    choice=int(input(\"Enter your choice(1.biscuit , 2.chips , 3.redbull 4.coke)\"))\n",
    "    if choice==1:\n",
    "        print(\"take your bicuit\")\n",
    "        money_in_hand-=4\n",
    "    elif choice==2:\n",
    "        print(\"take your chips\")\n",
    "        money_in_hand-=5\n",
    "    elif choice==3:\n",
    "        print(\"take your redbull\")\n",
    "        money_in_hand-=10\n",
    "    elif choice==4:\n",
    "        print(\"take your coke\")\n",
    "        money_in_hand-=8\n",
    "    else:\n",
    "        print(\"you have not entered the correct choice\")\n",
    "print(\"you dont have enough blance in your wallet\")"
   ]
  },
  {
   "cell_type": "code",
   "execution_count": 21,
   "id": "120b4191",
   "metadata": {},
   "outputs": [
    {
     "name": "stdout",
     "output_type": "stream",
     "text": [
      "5\n",
      "4\n",
      "3\n",
      "break time is over\n"
     ]
    }
   ],
   "source": [
    "import time\n",
    "s=5\n",
    "\n",
    "while s>0 :\n",
    "    print(s)\n",
    "    time.sleep(1)\n",
    "    if(s==3):\n",
    "        print(\"break time is over\")\n",
    "        break\n",
    "    s-=1\n"
   ]
  },
  {
   "cell_type": "code",
   "execution_count": 23,
   "id": "95d71206",
   "metadata": {},
   "outputs": [
    {
     "name": "stdout",
     "output_type": "stream",
     "text": [
      "enter s to stop the timer\n",
      "enter s for stop1\n",
      "enter s to stop the timer\n",
      "enter s for stop5\n",
      "enter s to stop the timer\n",
      "enter s for stops\n",
      "start the class break is over\n"
     ]
    }
   ],
   "source": [
    "import time\n",
    "stop=False\n",
    "\n",
    "while not stop:\n",
    "    print(\"enter s to stop the timer\")\n",
    "    time.sleep(1)\n",
    "    press_stop=input(\"enter s for stop\")\n",
    "    \n",
    "    if press_stop.lower() == 's':\n",
    "        stop=True\n",
    "else:\n",
    "    print(\"start the class break is over\")"
   ]
  },
  {
   "cell_type": "code",
   "execution_count": null,
   "id": "6a40366c",
   "metadata": {},
   "outputs": [],
   "source": [
    "no_of_choice=3\n",
    "\n",
    "pwd=\"12345#\"\n",
    "while no_of_choice>=0:\n",
    "    userId=input(\"Enter your user ID :\")\n",
    "    userPwd=input(\"Enter your Password :\")\n",
    "    \n",
    "    if(userPwd==pwd):\n",
    "        print(\"Login successfully\")\n",
    "        break\n",
    "    else:\n",
    "        print(\"Invalid password\")\n",
    "    \n",
    "    no_of_choice-=1\n",
    "else:\n",
    "    print(\"Your login blocked\")"
   ]
  },
  {
   "cell_type": "code",
   "execution_count": null,
   "id": "55702052",
   "metadata": {},
   "outputs": [],
   "source": [
    "user_id=\"khadar\"\n",
    "password=\"khadar@123\"\n",
    "\n",
    "counter=1\n",
    "user_id_check=False\n",
    "\n",
    "userid=input(\"Enter your id for account :\")\n",
    "while counter<=3:\n",
    "   \n",
    "    if userid==user_id:\n",
    "        user_id_check=True\n",
    "    else:\n",
    "        print(\"Your user id is incorrect. Pls try again\")\n",
    "        break\n",
    "    \n",
    "    if user_id_check == True:\n",
    "        pswd=input(\"Enter your password for respective user id :\")\n",
    "        if pswd==password:\n",
    "            print(\"you have logged in successfully\")\n",
    "            break\n",
    "                \n",
    "        counter+=1\n",
    "else:\n",
    "    print(\"You have attempted maximum times and your account is locked\")"
   ]
  },
  {
   "cell_type": "code",
   "execution_count": 2,
   "id": "bc59f3ff",
   "metadata": {},
   "outputs": [
    {
     "name": "stdout",
     "output_type": "stream",
     "text": [
      "Do you want add the task\n",
      "Enter the task task 1\n",
      "Do you want add the task\n",
      "Enter the task task2\n",
      "Do you want add the task\n",
      "Enter the task task 3\n",
      "Do you want add the task\n",
      "Enter the task no\n",
      "Your dolist complete\n"
     ]
    }
   ],
   "source": [
    "flag=False\n",
    "\n",
    "todo=[]\n",
    "while not flag:\n",
    "    print(\"Do you want add the task\")\n",
    "    task=input(\"Enter the task \")\n",
    "    \n",
    "    if task==\"no\":\n",
    "        flag=True\n",
    "    else:\n",
    "        todo.append(task)\n",
    "else:\n",
    "    print(\"Your dolist complete\")"
   ]
  },
  {
   "cell_type": "code",
   "execution_count": 5,
   "id": "4fe73e16",
   "metadata": {},
   "outputs": [
    {
     "name": "stdout",
     "output_type": "stream",
     "text": [
      "Enter your todo tasktask 1\n",
      "enter n id you want to add in todo list or enter y if you dont want to add :n\n",
      "Enter your todo taskkhadr\n",
      "enter n id you want to add in todo list or enter y if you dont want to add :y\n",
      "my todo list is  ['task 1', 'khadr']\n"
     ]
    }
   ],
   "source": [
    "todo_list=[]\n",
    "end_of_todo='n'\n",
    "\n",
    "while end_of_todo !='y':\n",
    "    todo_item=input(\"Enter your todo task\")\n",
    "    todo_list.append(todo_item)\n",
    "     \n",
    "    end_of_todo=input(\"enter n id you want to add in todo list or enter y if you dont want to add :\")\n",
    "print(\"my todo list is \",todo_list)"
   ]
  },
  {
   "cell_type": "code",
   "execution_count": 6,
   "id": "5980d723",
   "metadata": {},
   "outputs": [],
   "source": [
    "def fact(n):\n",
    "    if n==0:\n",
    "        return 1\n",
    "    else:\n",
    "        return n*fact(n-1)\n",
    "\n",
    "factorial=fact(5)"
   ]
  },
  {
   "cell_type": "code",
   "execution_count": 8,
   "id": "5f9f44fe",
   "metadata": {},
   "outputs": [
    {
     "name": "stdout",
     "output_type": "stream",
     "text": [
      "120\n"
     ]
    }
   ],
   "source": [
    "print(factorial)\n",
    "#5*fact(5-1)\n",
    "#5*4*fact(4-1)\n",
    "#5*4*3*fact(3-1)\n",
    "#5*4*3*2*fact(2-1)\n",
    "#5*4*3*2*1*fact(1-1)\n",
    "#5*4*3*2*1*1\n"
   ]
  },
  {
   "cell_type": "code",
   "execution_count": 15,
   "id": "4e55cd04",
   "metadata": {},
   "outputs": [],
   "source": [
    "def fib(n):\n",
    "    if n<=1:\n",
    "        return  n\n",
    "    else:\n",
    "        return fib(n-2)+fib(n-1)"
   ]
  },
  {
   "cell_type": "code",
   "execution_count": 16,
   "id": "f40e2cc4",
   "metadata": {},
   "outputs": [
    {
     "data": {
      "text/plain": [
       "5"
      ]
     },
     "execution_count": 16,
     "metadata": {},
     "output_type": "execute_result"
    }
   ],
   "source": [
    "fib(5)\n",
    "#3+2\n",
    "#3+2+1+2\n",
    "#3+2+1+1+1"
   ]
  },
  {
   "cell_type": "code",
   "execution_count": 17,
   "id": "064e27c4",
   "metadata": {},
   "outputs": [
    {
     "name": "stdout",
     "output_type": "stream",
     "text": [
      "6\n"
     ]
    }
   ],
   "source": [
    "sum=0\n",
    "n=123\n",
    "while n!=0:\n",
    "    d=n%10\n",
    "    sum+=d\n",
    "    n=n//10\n",
    "\n",
    "print(sum)"
   ]
  },
  {
   "cell_type": "code",
   "execution_count": 3,
   "id": "2fb7ac1e",
   "metadata": {},
   "outputs": [],
   "source": [
    "def sum_of_digit(num):\n",
    "    if num<=9:\n",
    "        return num\n",
    "    else:\n",
    "        return sum_of_digit(num%10)+sum_of_digit(num//10)"
   ]
  },
  {
   "cell_type": "code",
   "execution_count": 4,
   "id": "273d1c7a",
   "metadata": {},
   "outputs": [
    {
     "data": {
      "text/plain": [
       "6"
      ]
     },
     "execution_count": 4,
     "metadata": {},
     "output_type": "execute_result"
    }
   ],
   "source": [
    "sum_of_digit(123)\n",
    "#3+12\n",
    "#3+2+1"
   ]
  },
  {
   "cell_type": "code",
   "execution_count": 5,
   "id": "c8df6dca",
   "metadata": {},
   "outputs": [],
   "source": [
    "l=[3,4,5,6,76]"
   ]
  },
  {
   "cell_type": "code",
   "execution_count": 6,
   "id": "4c00a954",
   "metadata": {},
   "outputs": [],
   "source": [
    "def max_find(l):\n",
    "        if len(l)==1:\n",
    "            return l[0]\n",
    "        else:\n",
    "            return max(l[0],max_find(l[1:]))"
   ]
  },
  {
   "cell_type": "code",
   "execution_count": 7,
   "id": "08206d5e",
   "metadata": {},
   "outputs": [
    {
     "data": {
      "text/plain": [
       "76"
      ]
     },
     "execution_count": 7,
     "metadata": {},
     "output_type": "execute_result"
    }
   ],
   "source": [
    "max_find(l)"
   ]
  },
  {
   "cell_type": "code",
   "execution_count": 17,
   "id": "cd7cc592",
   "metadata": {},
   "outputs": [
    {
     "name": "stdout",
     "output_type": "stream",
     "text": [
      "76\n"
     ]
    }
   ],
   "source": [
    "max_n=0\n",
    "for i in range(0,len(l)):\n",
    "    for j in range(0,i+1):\n",
    "        #print(l[j])\n",
    "        if(l[i]>l[j]):\n",
    "            max_n=l[i]\n",
    "\n",
    "print(max_n)"
   ]
  },
  {
   "cell_type": "code",
   "execution_count": 13,
   "id": "a78ab5c5",
   "metadata": {},
   "outputs": [],
   "source": [
    "def power_fun(n,k):\n",
    "    if k==0:\n",
    "        return 1\n",
    "    else:\n",
    "        return n*power_fun(n,k-1)"
   ]
  },
  {
   "cell_type": "code",
   "execution_count": 14,
   "id": "bbf3315f",
   "metadata": {},
   "outputs": [
    {
     "data": {
      "text/plain": [
       "25"
      ]
     },
     "execution_count": 14,
     "metadata": {},
     "output_type": "execute_result"
    }
   ],
   "source": [
    "power_fun(5,2)"
   ]
  },
  {
   "cell_type": "code",
   "execution_count": 15,
   "id": "35acb353",
   "metadata": {},
   "outputs": [
    {
     "data": {
      "text/plain": [
       "16"
      ]
     },
     "execution_count": 15,
     "metadata": {},
     "output_type": "execute_result"
    }
   ],
   "source": [
    "power_fun(2,4)"
   ]
  },
  {
   "cell_type": "code",
   "execution_count": 18,
   "id": "c7ace1c5",
   "metadata": {},
   "outputs": [],
   "source": [
    "#24-09-2023"
   ]
  },
  {
   "cell_type": "code",
   "execution_count": 19,
   "id": "0a6b09ac",
   "metadata": {},
   "outputs": [
    {
     "data": {
      "text/plain": [
       "9"
      ]
     },
     "execution_count": 19,
     "metadata": {},
     "output_type": "execute_result"
    }
   ],
   "source": [
    "s=\"sudhanshu\"\n",
    "len(s)"
   ]
  },
  {
   "cell_type": "code",
   "execution_count": 20,
   "id": "1c09bc13",
   "metadata": {},
   "outputs": [],
   "source": [
    "def find_len(s):\n",
    "    if s==\"\":\n",
    "        return 0\n",
    "    else:\n",
    "        return 1+find_len(s[1:])"
   ]
  },
  {
   "cell_type": "code",
   "execution_count": 21,
   "id": "23686603",
   "metadata": {},
   "outputs": [
    {
     "data": {
      "text/plain": [
       "8"
      ]
     },
     "execution_count": 21,
     "metadata": {},
     "output_type": "execute_result"
    }
   ],
   "source": [
    "find_len(\"pwskills\")"
   ]
  },
  {
   "cell_type": "code",
   "execution_count": 22,
   "id": "ad8bfb6f",
   "metadata": {},
   "outputs": [
    {
     "data": {
      "text/plain": [
       "'uhsnahdus'"
      ]
     },
     "execution_count": 22,
     "metadata": {},
     "output_type": "execute_result"
    }
   ],
   "source": [
    "s[::-1]"
   ]
  },
  {
   "cell_type": "code",
   "execution_count": 1,
   "id": "bf394dba",
   "metadata": {},
   "outputs": [],
   "source": [
    "def find_reverse(s):\n",
    "    if s==\"\":\n",
    "        return \"\"\n",
    "    else:\n",
    "        return find_reverse(s[1:])+s[0]"
   ]
  },
  {
   "cell_type": "code",
   "execution_count": 2,
   "id": "87cab79e",
   "metadata": {},
   "outputs": [
    {
     "data": {
      "text/plain": [
       "'radahk'"
      ]
     },
     "execution_count": 2,
     "metadata": {},
     "output_type": "execute_result"
    }
   ],
   "source": [
    "find_reverse(\"khadar\")"
   ]
  },
  {
   "cell_type": "code",
   "execution_count": 11,
   "id": "860cc4f2",
   "metadata": {},
   "outputs": [],
   "source": [
    "def find_char_count(s,c):\n",
    "    if s==\"\":\n",
    "        return 0\n",
    "    elif s[0]==c:\n",
    "        return 1+find_char_count(s[1:],c)\n",
    "    else:\n",
    "        return find_char_count(s[1:],c)\n",
    "            "
   ]
  },
  {
   "cell_type": "code",
   "execution_count": 12,
   "id": "056ca70b",
   "metadata": {},
   "outputs": [
    {
     "data": {
      "text/plain": [
       "2"
      ]
     },
     "execution_count": 12,
     "metadata": {},
     "output_type": "execute_result"
    }
   ],
   "source": [
    "find_char_count(\"khadar\",\"a\")"
   ]
  },
  {
   "cell_type": "code",
   "execution_count": 1,
   "id": "af9f284b",
   "metadata": {},
   "outputs": [],
   "source": [
    "l=[4,5,6,3,4,5,6,6,7]"
   ]
  },
  {
   "cell_type": "code",
   "execution_count": 3,
   "id": "26fd066d",
   "metadata": {},
   "outputs": [],
   "source": [
    "def check_sort_list(l):\n",
    "    if len(l)<=1:\n",
    "        return True\n",
    "    elif l[0]>l[1]:\n",
    "        return False\n",
    "    else:\n",
    "        return check_sort_list(l[1:])"
   ]
  },
  {
   "cell_type": "code",
   "execution_count": 4,
   "id": "382bee11",
   "metadata": {},
   "outputs": [
    {
     "data": {
      "text/plain": [
       "False"
      ]
     },
     "execution_count": 4,
     "metadata": {},
     "output_type": "execute_result"
    }
   ],
   "source": [
    "check_sort_list(l)"
   ]
  },
  {
   "cell_type": "code",
   "execution_count": 5,
   "id": "fd2c740b",
   "metadata": {},
   "outputs": [
    {
     "data": {
      "text/plain": [
       "True"
      ]
     },
     "execution_count": 5,
     "metadata": {},
     "output_type": "execute_result"
    }
   ],
   "source": [
    "check_sort_list([4,5,6,9])"
   ]
  },
  {
   "cell_type": "code",
   "execution_count": 6,
   "id": "236a5f8e",
   "metadata": {},
   "outputs": [],
   "source": [
    "def check_per_square(n,start=1):\n",
    "    if n==start**2:\n",
    "        return True\n",
    "    elif n < start**2:\n",
    "        return False\n",
    "    else:\n",
    "        return check_per_square(n,start+1)"
   ]
  },
  {
   "cell_type": "code",
   "execution_count": 7,
   "id": "8ce9ea7a",
   "metadata": {},
   "outputs": [
    {
     "data": {
      "text/plain": [
       "True"
      ]
     },
     "execution_count": 7,
     "metadata": {},
     "output_type": "execute_result"
    }
   ],
   "source": [
    "check_per_square(4)"
   ]
  },
  {
   "cell_type": "code",
   "execution_count": 8,
   "id": "2734fc69",
   "metadata": {},
   "outputs": [
    {
     "data": {
      "text/plain": [
       "False"
      ]
     },
     "execution_count": 8,
     "metadata": {},
     "output_type": "execute_result"
    }
   ],
   "source": [
    "check_per_square(-4)"
   ]
  },
  {
   "cell_type": "code",
   "execution_count": 10,
   "id": "36253ea9",
   "metadata": {},
   "outputs": [],
   "source": [
    "l=[2,3,4,5,6]\n",
    "a=10\n",
    "s=\"sudh\"\n",
    "\n",
    "#iterator - one to another | iterable "
   ]
  },
  {
   "cell_type": "code",
   "execution_count": 11,
   "id": "f2137634",
   "metadata": {},
   "outputs": [
    {
     "ename": "TypeError",
     "evalue": "'int' object is not iterable",
     "output_type": "error",
     "traceback": [
      "\u001b[1;31m---------------------------------------------------------------------------\u001b[0m",
      "\u001b[1;31mTypeError\u001b[0m                                 Traceback (most recent call last)",
      "\u001b[1;32m~\\AppData\\Local\\Temp\\ipykernel_33312\\1225051289.py\u001b[0m in \u001b[0;36m<module>\u001b[1;34m\u001b[0m\n\u001b[1;32m----> 1\u001b[1;33m \u001b[0miter\u001b[0m\u001b[1;33m(\u001b[0m\u001b[1;36m10\u001b[0m\u001b[1;33m)\u001b[0m\u001b[1;33m\u001b[0m\u001b[1;33m\u001b[0m\u001b[0m\n\u001b[0m",
      "\u001b[1;31mTypeError\u001b[0m: 'int' object is not iterable"
     ]
    }
   ],
   "source": [
    "iter(10)"
   ]
  },
  {
   "cell_type": "code",
   "execution_count": 12,
   "id": "1ade8cc6",
   "metadata": {},
   "outputs": [
    {
     "data": {
      "text/plain": [
       "<str_iterator at 0x20d39d22610>"
      ]
     },
     "execution_count": 12,
     "metadata": {},
     "output_type": "execute_result"
    }
   ],
   "source": [
    "iter(\"sudh\")"
   ]
  },
  {
   "cell_type": "code",
   "execution_count": 13,
   "id": "ec003a0a",
   "metadata": {},
   "outputs": [],
   "source": [
    "s1=iter(\"sudh\")"
   ]
  },
  {
   "cell_type": "code",
   "execution_count": 14,
   "id": "71184e2f",
   "metadata": {},
   "outputs": [
    {
     "data": {
      "text/plain": [
       "'s'"
      ]
     },
     "execution_count": 14,
     "metadata": {},
     "output_type": "execute_result"
    }
   ],
   "source": [
    "next(s1)"
   ]
  },
  {
   "cell_type": "code",
   "execution_count": 15,
   "id": "9744ea34",
   "metadata": {},
   "outputs": [
    {
     "data": {
      "text/plain": [
       "'u'"
      ]
     },
     "execution_count": 15,
     "metadata": {},
     "output_type": "execute_result"
    }
   ],
   "source": [
    "next(s1)"
   ]
  },
  {
   "cell_type": "code",
   "execution_count": 17,
   "id": "05b7708e",
   "metadata": {},
   "outputs": [
    {
     "data": {
      "text/plain": [
       "'d'"
      ]
     },
     "execution_count": 17,
     "metadata": {},
     "output_type": "execute_result"
    }
   ],
   "source": [
    "next(s1)"
   ]
  },
  {
   "cell_type": "code",
   "execution_count": 18,
   "id": "56ecb9a5",
   "metadata": {},
   "outputs": [
    {
     "data": {
      "text/plain": [
       "'h'"
      ]
     },
     "execution_count": 18,
     "metadata": {},
     "output_type": "execute_result"
    }
   ],
   "source": [
    "next(s1)"
   ]
  },
  {
   "cell_type": "code",
   "execution_count": 19,
   "id": "d2d363de",
   "metadata": {},
   "outputs": [
    {
     "ename": "StopIteration",
     "evalue": "",
     "output_type": "error",
     "traceback": [
      "\u001b[1;31m---------------------------------------------------------------------------\u001b[0m",
      "\u001b[1;31mStopIteration\u001b[0m                             Traceback (most recent call last)",
      "\u001b[1;32m~\\AppData\\Local\\Temp\\ipykernel_33312\\1205934168.py\u001b[0m in \u001b[0;36m<module>\u001b[1;34m\u001b[0m\n\u001b[1;32m----> 1\u001b[1;33m \u001b[0mnext\u001b[0m\u001b[1;33m(\u001b[0m\u001b[0ms1\u001b[0m\u001b[1;33m)\u001b[0m\u001b[1;33m\u001b[0m\u001b[1;33m\u001b[0m\u001b[0m\n\u001b[0m",
      "\u001b[1;31mStopIteration\u001b[0m: "
     ]
    }
   ],
   "source": [
    "next(s1)"
   ]
  },
  {
   "cell_type": "code",
   "execution_count": 20,
   "id": "867cec40",
   "metadata": {},
   "outputs": [],
   "source": [
    "s2=\"pwskills\""
   ]
  },
  {
   "cell_type": "code",
   "execution_count": 21,
   "id": "57431a74",
   "metadata": {},
   "outputs": [
    {
     "data": {
      "text/plain": [
       "str"
      ]
     },
     "execution_count": 21,
     "metadata": {},
     "output_type": "execute_result"
    }
   ],
   "source": [
    "type(s2)"
   ]
  },
  {
   "cell_type": "code",
   "execution_count": 22,
   "id": "6c2f1935",
   "metadata": {},
   "outputs": [
    {
     "ename": "TypeError",
     "evalue": "'str' object is not an iterator",
     "output_type": "error",
     "traceback": [
      "\u001b[1;31m---------------------------------------------------------------------------\u001b[0m",
      "\u001b[1;31mTypeError\u001b[0m                                 Traceback (most recent call last)",
      "\u001b[1;32m~\\AppData\\Local\\Temp\\ipykernel_33312\\2278749955.py\u001b[0m in \u001b[0;36m<module>\u001b[1;34m\u001b[0m\n\u001b[1;32m----> 1\u001b[1;33m \u001b[0mnext\u001b[0m\u001b[1;33m(\u001b[0m\u001b[0ms2\u001b[0m\u001b[1;33m)\u001b[0m\u001b[1;33m\u001b[0m\u001b[1;33m\u001b[0m\u001b[0m\n\u001b[0m",
      "\u001b[1;31mTypeError\u001b[0m: 'str' object is not an iterator"
     ]
    }
   ],
   "source": [
    "next(s2)"
   ]
  },
  {
   "cell_type": "code",
   "execution_count": 23,
   "id": "b8e8e4a8",
   "metadata": {},
   "outputs": [
    {
     "data": {
      "text/plain": [
       "<str_iterator at 0x20d39d22640>"
      ]
     },
     "execution_count": 23,
     "metadata": {},
     "output_type": "execute_result"
    }
   ],
   "source": [
    "iter(s2)"
   ]
  },
  {
   "cell_type": "code",
   "execution_count": 24,
   "id": "8146ee61",
   "metadata": {},
   "outputs": [
    {
     "ename": "TypeError",
     "evalue": "'str' object is not an iterator",
     "output_type": "error",
     "traceback": [
      "\u001b[1;31m---------------------------------------------------------------------------\u001b[0m",
      "\u001b[1;31mTypeError\u001b[0m                                 Traceback (most recent call last)",
      "\u001b[1;32m~\\AppData\\Local\\Temp\\ipykernel_33312\\2278749955.py\u001b[0m in \u001b[0;36m<module>\u001b[1;34m\u001b[0m\n\u001b[1;32m----> 1\u001b[1;33m \u001b[0mnext\u001b[0m\u001b[1;33m(\u001b[0m\u001b[0ms2\u001b[0m\u001b[1;33m)\u001b[0m\u001b[1;33m\u001b[0m\u001b[1;33m\u001b[0m\u001b[0m\n\u001b[0m",
      "\u001b[1;31mTypeError\u001b[0m: 'str' object is not an iterator"
     ]
    }
   ],
   "source": [
    "next(s2)"
   ]
  },
  {
   "cell_type": "code",
   "execution_count": 26,
   "id": "d22e250f",
   "metadata": {},
   "outputs": [
    {
     "name": "stdout",
     "output_type": "stream",
     "text": [
      "p\n",
      "w\n",
      "s\n",
      "k\n",
      "i\n",
      "l\n",
      "l\n",
      "s\n"
     ]
    }
   ],
   "source": [
    "for i in s2:\n",
    "    print(i)"
   ]
  },
  {
   "cell_type": "code",
   "execution_count": 27,
   "id": "daa385fa",
   "metadata": {},
   "outputs": [
    {
     "name": "stdout",
     "output_type": "stream",
     "text": [
      "2\n",
      "3\n",
      "4\n",
      "5\n"
     ]
    }
   ],
   "source": [
    "for i in {2,3,4,5}:\n",
    "    print(i)"
   ]
  },
  {
   "cell_type": "code",
   "execution_count": 28,
   "id": "a0f00cd4",
   "metadata": {},
   "outputs": [
    {
     "data": {
      "text/plain": [
       "<set_iterator at 0x20d39c01040>"
      ]
     },
     "execution_count": 28,
     "metadata": {},
     "output_type": "execute_result"
    }
   ],
   "source": [
    "iter({2,3,4,5})"
   ]
  },
  {
   "cell_type": "code",
   "execution_count": 29,
   "id": "e961cafb",
   "metadata": {},
   "outputs": [
    {
     "data": {
      "text/plain": [
       "<tuple_iterator at 0x20d39d22be0>"
      ]
     },
     "execution_count": 29,
     "metadata": {},
     "output_type": "execute_result"
    }
   ],
   "source": [
    "iter((2,3,4,5))"
   ]
  },
  {
   "cell_type": "code",
   "execution_count": 31,
   "id": "9dbcd58b",
   "metadata": {},
   "outputs": [],
   "source": [
    "str1=iter(\"kahdar\")"
   ]
  },
  {
   "cell_type": "code",
   "execution_count": 32,
   "id": "d7c01fc5",
   "metadata": {},
   "outputs": [
    {
     "data": {
      "text/plain": [
       "'k'"
      ]
     },
     "execution_count": 32,
     "metadata": {},
     "output_type": "execute_result"
    }
   ],
   "source": [
    "next(str1)"
   ]
  },
  {
   "cell_type": "code",
   "execution_count": 33,
   "id": "724ef69f",
   "metadata": {},
   "outputs": [],
   "source": [
    "str2=\"khadar\""
   ]
  },
  {
   "cell_type": "code",
   "execution_count": 34,
   "id": "2567aa45",
   "metadata": {},
   "outputs": [
    {
     "data": {
      "text/plain": [
       "<str_iterator at 0x20d39d22ac0>"
      ]
     },
     "execution_count": 34,
     "metadata": {},
     "output_type": "execute_result"
    }
   ],
   "source": [
    "iter(str2)"
   ]
  },
  {
   "cell_type": "code",
   "execution_count": 35,
   "id": "c724e61f",
   "metadata": {},
   "outputs": [
    {
     "ename": "TypeError",
     "evalue": "'str' object is not an iterator",
     "output_type": "error",
     "traceback": [
      "\u001b[1;31m---------------------------------------------------------------------------\u001b[0m",
      "\u001b[1;31mTypeError\u001b[0m                                 Traceback (most recent call last)",
      "\u001b[1;32m~\\AppData\\Local\\Temp\\ipykernel_33312\\583148882.py\u001b[0m in \u001b[0;36m<module>\u001b[1;34m\u001b[0m\n\u001b[1;32m----> 1\u001b[1;33m \u001b[0mnext\u001b[0m\u001b[1;33m(\u001b[0m\u001b[0mstr2\u001b[0m\u001b[1;33m)\u001b[0m\u001b[1;33m\u001b[0m\u001b[1;33m\u001b[0m\u001b[0m\n\u001b[0m",
      "\u001b[1;31mTypeError\u001b[0m: 'str' object is not an iterator"
     ]
    }
   ],
   "source": [
    "next(str2)"
   ]
  },
  {
   "cell_type": "code",
   "execution_count": 36,
   "id": "4b060a51",
   "metadata": {},
   "outputs": [],
   "source": [
    "#generator function"
   ]
  },
  {
   "cell_type": "code",
   "execution_count": 37,
   "id": "6a02661b",
   "metadata": {},
   "outputs": [
    {
     "data": {
      "text/plain": [
       "range(0, 5)"
      ]
     },
     "execution_count": 37,
     "metadata": {},
     "output_type": "execute_result"
    }
   ],
   "source": [
    "range(0,5)"
   ]
  },
  {
   "cell_type": "code",
   "execution_count": 38,
   "id": "61bc4296",
   "metadata": {},
   "outputs": [
    {
     "data": {
      "text/plain": [
       "[0, 1, 2, 3, 4]"
      ]
     },
     "execution_count": 38,
     "metadata": {},
     "output_type": "execute_result"
    }
   ],
   "source": [
    "list(range(0,5))"
   ]
  },
  {
   "cell_type": "code",
   "execution_count": 39,
   "id": "449e5de0",
   "metadata": {},
   "outputs": [],
   "source": [
    "i=iter(range(0,5))"
   ]
  },
  {
   "cell_type": "code",
   "execution_count": 40,
   "id": "25092734",
   "metadata": {},
   "outputs": [
    {
     "data": {
      "text/plain": [
       "0"
      ]
     },
     "execution_count": 40,
     "metadata": {},
     "output_type": "execute_result"
    }
   ],
   "source": [
    "next(i)"
   ]
  },
  {
   "cell_type": "code",
   "execution_count": 41,
   "id": "8000d787",
   "metadata": {},
   "outputs": [
    {
     "data": {
      "text/plain": [
       "1"
      ]
     },
     "execution_count": 41,
     "metadata": {},
     "output_type": "execute_result"
    }
   ],
   "source": [
    "next(i)"
   ]
  },
  {
   "cell_type": "code",
   "execution_count": 42,
   "id": "b040a7f4",
   "metadata": {},
   "outputs": [
    {
     "data": {
      "text/plain": [
       "2"
      ]
     },
     "execution_count": 42,
     "metadata": {},
     "output_type": "execute_result"
    }
   ],
   "source": [
    "next(i)"
   ]
  },
  {
   "cell_type": "code",
   "execution_count": 43,
   "id": "6e04511f",
   "metadata": {},
   "outputs": [
    {
     "data": {
      "text/plain": [
       "3"
      ]
     },
     "execution_count": 43,
     "metadata": {},
     "output_type": "execute_result"
    }
   ],
   "source": [
    "next(i)"
   ]
  },
  {
   "cell_type": "code",
   "execution_count": 44,
   "id": "deaeabf1",
   "metadata": {},
   "outputs": [
    {
     "data": {
      "text/plain": [
       "4"
      ]
     },
     "execution_count": 44,
     "metadata": {},
     "output_type": "execute_result"
    }
   ],
   "source": [
    "next(i)"
   ]
  },
  {
   "cell_type": "code",
   "execution_count": 45,
   "id": "c744e52d",
   "metadata": {},
   "outputs": [
    {
     "ename": "StopIteration",
     "evalue": "",
     "output_type": "error",
     "traceback": [
      "\u001b[1;31m---------------------------------------------------------------------------\u001b[0m",
      "\u001b[1;31mStopIteration\u001b[0m                             Traceback (most recent call last)",
      "\u001b[1;32m~\\AppData\\Local\\Temp\\ipykernel_33312\\1939748483.py\u001b[0m in \u001b[0;36m<module>\u001b[1;34m\u001b[0m\n\u001b[1;32m----> 1\u001b[1;33m \u001b[0mnext\u001b[0m\u001b[1;33m(\u001b[0m\u001b[0mi\u001b[0m\u001b[1;33m)\u001b[0m\u001b[1;33m\u001b[0m\u001b[1;33m\u001b[0m\u001b[0m\n\u001b[0m",
      "\u001b[1;31mStopIteration\u001b[0m: "
     ]
    }
   ],
   "source": [
    "next(i)"
   ]
  },
  {
   "cell_type": "code",
   "execution_count": 46,
   "id": "baadd0cf",
   "metadata": {},
   "outputs": [],
   "source": [
    "def count_fun(n):\n",
    "    i=1\n",
    "    while i<=n:\n",
    "        yield i\n",
    "        i=i+1"
   ]
  },
  {
   "cell_type": "code",
   "execution_count": 47,
   "id": "9602a22c",
   "metadata": {},
   "outputs": [
    {
     "data": {
      "text/plain": [
       "<generator object count_fun at 0x0000020D39C5CA50>"
      ]
     },
     "execution_count": 47,
     "metadata": {},
     "output_type": "execute_result"
    }
   ],
   "source": [
    "count_fun(9)"
   ]
  },
  {
   "cell_type": "code",
   "execution_count": 48,
   "id": "80111957",
   "metadata": {},
   "outputs": [
    {
     "name": "stdout",
     "output_type": "stream",
     "text": [
      "1\n",
      "2\n",
      "3\n",
      "4\n",
      "5\n",
      "6\n",
      "7\n",
      "8\n",
      "9\n"
     ]
    }
   ],
   "source": [
    "for i in count_fun(9):\n",
    "    print(i)"
   ]
  },
  {
   "cell_type": "code",
   "execution_count": 49,
   "id": "a664a221",
   "metadata": {},
   "outputs": [],
   "source": [
    "j=iter(count_fun(9))"
   ]
  },
  {
   "cell_type": "code",
   "execution_count": 50,
   "id": "15fe6b2a",
   "metadata": {},
   "outputs": [
    {
     "data": {
      "text/plain": [
       "1"
      ]
     },
     "execution_count": 50,
     "metadata": {},
     "output_type": "execute_result"
    }
   ],
   "source": [
    "next(j)"
   ]
  },
  {
   "cell_type": "code",
   "execution_count": 51,
   "id": "e18ad88d",
   "metadata": {},
   "outputs": [],
   "source": [
    "#yield - producing a sort of result"
   ]
  },
  {
   "cell_type": "code",
   "execution_count": 52,
   "id": "b171fd3e",
   "metadata": {},
   "outputs": [],
   "source": [
    "def fib(n):\n",
    "    a,b=0,1\n",
    "    for i in range(n):\n",
    "        yield a\n",
    "        a,b=b,a+b"
   ]
  },
  {
   "cell_type": "code",
   "execution_count": 53,
   "id": "8aaaeee9",
   "metadata": {},
   "outputs": [
    {
     "name": "stdout",
     "output_type": "stream",
     "text": [
      "0\n",
      "1\n",
      "1\n",
      "2\n",
      "3\n",
      "5\n",
      "8\n",
      "13\n",
      "21\n"
     ]
    }
   ],
   "source": [
    "for i in fib(9):\n",
    "    print(i)"
   ]
  },
  {
   "cell_type": "code",
   "execution_count": 54,
   "id": "8139579a",
   "metadata": {},
   "outputs": [
    {
     "name": "stdout",
     "output_type": "stream",
     "text": [
      " Volume in drive F is New Volume\n",
      " Volume Serial Number is 30F0-305D\n",
      "\n",
      " Directory of F:\\Python\\Jupyter\\Practice\n",
      "\n",
      "24-09-2023  11:53    <DIR>          .\n",
      "23-09-2023  07:13    <DIR>          ..\n",
      "23-09-2023  09:23    <DIR>          .ipynb_checkpoints\n",
      "30-08-2023  22:02            11,053 19th_August_Python_Basics.ipynb\n",
      "05-09-2023  23:22            15,907 20th Aug23  Python basics practice test file.ipynb\n",
      "10-09-2023  11:22            22,498 Fullstack Data Pro 09,Sep 2023.ipynb\n",
      "03-09-2023  11:54            16,479 Fullstack Data Pro input-out-control-statements 02-09-2023.ipynb\n",
      "19-08-2023  11:54            18,261 Fullstack Data Pro Python basic variables.ipynb\n",
      "24-09-2023  11:45            37,508 Fullstack Data Pro Python Class 23 and 24,09 2023.ipynb\n",
      "20-08-2023  11:56            28,162 Fullstack Data Pro Python data types.ipynb\n",
      "17-09-2023  12:52            40,851 Fullstack Data Pro Python Revision Class 16 and 17,09 2023.ipynb\n",
      "24-09-2023  11:53            21,781 Google.txt\n",
      "29-08-2023  08:15             8,736 Untitled.ipynb\n",
      "02-09-2023  15:59            24,749 Week 1 August 08,2023 Python Basics.ipynb\n",
      "30-08-2023  22:02            73,438 Week 3 August 19,2023 Python data types.ipynb\n",
      "02-09-2023  17:22            12,760 Week 5 August 19,2023 Python control statements.ipynb\n",
      "13-09-2023  23:15             7,145 Week 5 August 19,2023 Python functions.ipynb\n",
      "02-09-2023  12:12            15,743 Week 5 August 19,2023 Python operators.ipynb\n",
      "              15 File(s)        355,071 bytes\n",
      "               3 Dir(s)  414,883,545,088 bytes free\n"
     ]
    }
   ],
   "source": [
    "ls"
   ]
  },
  {
   "cell_type": "code",
   "execution_count": 11,
   "id": "49f297e6",
   "metadata": {},
   "outputs": [
    {
     "name": "stdout",
     "output_type": "stream",
     "text": [
      "Google LLC (/ˈɡuːɡəl/ ⓘ) is an American multinational technology company focusing on artificial intelligence,[9] online advertising, search engine technology, cloud computing, computer software, quantum computing, e-commerce, and consumer electronics. It has been referred to as \"the most powerful company in the world\"[10] and as one of the world's most valuable brands due to its market dominance, data collection, and technological advantages in the field of artificial intelligence.[11][12][13] Alongside Amazon, Apple Inc., Meta Platforms, and Microsoft, Google's parent company Alphabet Inc. is one of the five Big Tech companies.\n",
      "\n",
      "\n",
      "\n",
      "Google was founded on September 4, 1998, by American computer scientists Larry Page and Sergey Brin while they were PhD students at Stanford University in California. Together they own about 14% of its publicly listed shares and control 56% of its stockholder voting power through super-voting stock. The company went public via an initial public offering (IPO) in 2004. In 2015, Google was reorganized as a wholly owned subsidiary of Alphabet Inc. Google is Alphabet's largest subsidiary and is a holding company for Alphabet's internet properties and interests. Sundar Pichai was appointed CEO of Google on October 24, 2015, replacing Larry Page, who became the CEO of Alphabet. On December 3, 2019, Pichai also became the CEO of Alphabet.[14]\n",
      "\n",
      "\n",
      "\n",
      "The company has since rapidly grown to offer a multitude of products and services beyond Google Search, many of which hold dominant market positions. These products address a wide range of use cases, including email (Gmail), navigation (Waze & Maps), cloud computing (Cloud), web browsing (Chrome), video sharing (YouTube), productivity (Workspace), operating systems (Android), cloud storage (Drive), language translation (Translate), photo storage (Photos), video calling (Meet), smart home (Nest), smartphones (Pixel), wearable technology (Pixel Watch & Fitbit), music streaming (YouTube Music), video on demand (YouTube TV), artificial intelligence (Google Assistant), machine learning APIs (TensorFlow), AI chips (TPU), and more. Discontinued Google products include gaming (Stadia), Glass, Google+, Reader, Play Music, Nexus, Hangouts, and Inbox by Gmail.[15][16]\n",
      "\n",
      "\n",
      "\n",
      "Google's other ventures outside of Internet services and consumer electronics include quantum computing (Sycamore), self-driving cars (Waymo, formerly the Google Self-Driving Car Project), smart cities (Sidewalk Labs), and transformer models (Google Brain).[17]\n",
      "\n",
      "\n",
      "\n",
      "Google and YouTube are the two most visited websites worldwide followed by Facebook and Twitter. Google is also the largest search engine, mapping and navigation application, email provider, office suite, video sharing platform, photo and cloud storage provider, mobile operating system, web browser, ML framework, and AI virtual assistant provider in the world as measured by market share. On the list of most valuable brands, Google is ranked second by Forbes[18] and fourth by Interbrand.[19] It has received significant criticism involving issues such as privacy concerns, tax avoidance, censorship, search neutrality, antitrust and abuse of its monopoly position.\n"
     ]
    }
   ],
   "source": [
    "for i in open('Google.txt', encoding=\"utf8\"):\n",
    "    print(i)"
   ]
  },
  {
   "cell_type": "code",
   "execution_count": 12,
   "id": "bd65ee7f",
   "metadata": {},
   "outputs": [],
   "source": [
    "def read_file(file_name):\n",
    "    with open(file_name, encoding=\"utf8\") as file:\n",
    "        for i in file:\n",
    "            yield i\n",
    "            "
   ]
  },
  {
   "cell_type": "code",
   "execution_count": 13,
   "id": "2e921d1b",
   "metadata": {},
   "outputs": [
    {
     "data": {
      "text/plain": [
       "<generator object read_file at 0x00000241FF4B9660>"
      ]
     },
     "execution_count": 13,
     "metadata": {},
     "output_type": "execute_result"
    }
   ],
   "source": [
    "read_file('Google.txt')"
   ]
  },
  {
   "cell_type": "code",
   "execution_count": 14,
   "id": "649059cd",
   "metadata": {},
   "outputs": [
    {
     "name": "stdout",
     "output_type": "stream",
     "text": [
      "Google LLC (/ˈɡuːɡəl/ ⓘ) is an American multinational technology company focusing on artificial intelligence,[9] online advertising, search engine technology, cloud computing, computer software, quantum computing, e-commerce, and consumer electronics. It has been referred to as \"the most powerful company in the world\"[10] and as one of the world's most valuable brands due to its market dominance, data collection, and technological advantages in the field of artificial intelligence.[11][12][13] Alongside Amazon, Apple Inc., Meta Platforms, and Microsoft, Google's parent company Alphabet Inc. is one of the five Big Tech companies.\n",
      "\n",
      "\n",
      "\n",
      "Google was founded on September 4, 1998, by American computer scientists Larry Page and Sergey Brin while they were PhD students at Stanford University in California. Together they own about 14% of its publicly listed shares and control 56% of its stockholder voting power through super-voting stock. The company went public via an initial public offering (IPO) in 2004. In 2015, Google was reorganized as a wholly owned subsidiary of Alphabet Inc. Google is Alphabet's largest subsidiary and is a holding company for Alphabet's internet properties and interests. Sundar Pichai was appointed CEO of Google on October 24, 2015, replacing Larry Page, who became the CEO of Alphabet. On December 3, 2019, Pichai also became the CEO of Alphabet.[14]\n",
      "\n",
      "\n",
      "\n",
      "The company has since rapidly grown to offer a multitude of products and services beyond Google Search, many of which hold dominant market positions. These products address a wide range of use cases, including email (Gmail), navigation (Waze & Maps), cloud computing (Cloud), web browsing (Chrome), video sharing (YouTube), productivity (Workspace), operating systems (Android), cloud storage (Drive), language translation (Translate), photo storage (Photos), video calling (Meet), smart home (Nest), smartphones (Pixel), wearable technology (Pixel Watch & Fitbit), music streaming (YouTube Music), video on demand (YouTube TV), artificial intelligence (Google Assistant), machine learning APIs (TensorFlow), AI chips (TPU), and more. Discontinued Google products include gaming (Stadia), Glass, Google+, Reader, Play Music, Nexus, Hangouts, and Inbox by Gmail.[15][16]\n",
      "\n",
      "\n",
      "\n",
      "Google's other ventures outside of Internet services and consumer electronics include quantum computing (Sycamore), self-driving cars (Waymo, formerly the Google Self-Driving Car Project), smart cities (Sidewalk Labs), and transformer models (Google Brain).[17]\n",
      "\n",
      "\n",
      "\n",
      "Google and YouTube are the two most visited websites worldwide followed by Facebook and Twitter. Google is also the largest search engine, mapping and navigation application, email provider, office suite, video sharing platform, photo and cloud storage provider, mobile operating system, web browser, ML framework, and AI virtual assistant provider in the world as measured by market share. On the list of most valuable brands, Google is ranked second by Forbes[18] and fourth by Interbrand.[19] It has received significant criticism involving issues such as privacy concerns, tax avoidance, censorship, search neutrality, antitrust and abuse of its monopoly position.\n"
     ]
    }
   ],
   "source": [
    "for i in read_file('Google.txt'):\n",
    "    print(i)"
   ]
  },
  {
   "cell_type": "code",
   "execution_count": 23,
   "id": "d451b4e6",
   "metadata": {},
   "outputs": [],
   "source": [
    "str4=\"sudh\"\n",
    "str5=iter(str4) # iterator"
   ]
  },
  {
   "cell_type": "code",
   "execution_count": 24,
   "id": "3bb822f5",
   "metadata": {},
   "outputs": [
    {
     "data": {
      "text/plain": [
       "'s'"
      ]
     },
     "execution_count": 24,
     "metadata": {},
     "output_type": "execute_result"
    }
   ],
   "source": [
    "next(str5)"
   ]
  },
  {
   "cell_type": "code",
   "execution_count": null,
   "id": "823c6b24",
   "metadata": {},
   "outputs": [],
   "source": []
  }
 ],
 "metadata": {
  "kernelspec": {
   "display_name": "Python 3 (ipykernel)",
   "language": "python",
   "name": "python3"
  },
  "language_info": {
   "codemirror_mode": {
    "name": "ipython",
    "version": 3
   },
   "file_extension": ".py",
   "mimetype": "text/x-python",
   "name": "python",
   "nbconvert_exporter": "python",
   "pygments_lexer": "ipython3",
   "version": "3.9.13"
  }
 },
 "nbformat": 4,
 "nbformat_minor": 5
}
