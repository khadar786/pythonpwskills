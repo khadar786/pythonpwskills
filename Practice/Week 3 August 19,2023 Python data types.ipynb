{
 "cells": [
  {
   "cell_type": "markdown",
   "id": "84f47ace",
   "metadata": {},
   "source": [
    "Text Type:\tstr <br>\n",
    "Numeric Types:\tint, float, complex <br>\n",
    "Sequence Types:\tlist, tuple, range <br>\n",
    "Mapping Type:\tdict <br>\n",
    "Set Types:\tset, frozenset <br>\n",
    "Boolean Type:\tbool <br>\n",
    "Binary Types:\tbytes, bytearray, memoryview <br>\n",
    "None Type:\tNoneType <br>"
   ]
  },
  {
   "cell_type": "markdown",
   "id": "30d6746e",
   "metadata": {},
   "source": [
    "List <br>\n",
    "Lists are used to store multiple items in a single variable. <br>"
   ]
  },
  {
   "cell_type": "code",
   "execution_count": 40,
   "id": "fa5e285f-04fe-44fe-85bb-f6f3f134596f",
   "metadata": {
    "tags": []
   },
   "outputs": [],
   "source": [
    "#append() - Adds an element at the end of the list\n",
    "#clear() - Removes all the elements from the list\n",
    "#copy() - Returns a copy of the list\n",
    "#count() - Returns the number of elements with the specified value\n",
    "#extend() - Add the elements of a list (or any iterable), to the end of the current list\n",
    "#index() - Returns the index of the first element with the specified value\n",
    "#insert() - Adds an element at the specified position\n",
    "#pop() - Removes the element at the specified position\n",
    "#remove() - Removes the item with the specified value\n",
    "#reverse() - Reverses the order of the list\n",
    "#sort() - Sorts the list"
   ]
  },
  {
   "cell_type": "code",
   "execution_count": 2,
   "id": "fadc40a6",
   "metadata": {},
   "outputs": [],
   "source": [
    "mylist=[10,15.25,\"khadar\",4+5j]"
   ]
  },
  {
   "cell_type": "code",
   "execution_count": 3,
   "id": "c2fefbd2",
   "metadata": {},
   "outputs": [
    {
     "name": "stdout",
     "output_type": "stream",
     "text": [
      "[10, 15.25, 'khadar', (4+5j)]\n"
     ]
    }
   ],
   "source": [
    "print(mylist)"
   ]
  },
  {
   "cell_type": "code",
   "execution_count": 4,
   "id": "978895e0",
   "metadata": {},
   "outputs": [],
   "source": [
    "mylist2=[10,23.23,\"apple\",4+6j]"
   ]
  },
  {
   "cell_type": "code",
   "execution_count": 5,
   "id": "8def3d3a",
   "metadata": {},
   "outputs": [
    {
     "name": "stdout",
     "output_type": "stream",
     "text": [
      "[10, 23.23, 'apple', (4+6j)]\n"
     ]
    }
   ],
   "source": [
    "print(mylist2)"
   ]
  },
  {
   "cell_type": "code",
   "execution_count": 6,
   "id": "04746220",
   "metadata": {},
   "outputs": [
    {
     "data": {
      "text/plain": [
       "10"
      ]
     },
     "execution_count": 6,
     "metadata": {},
     "output_type": "execute_result"
    }
   ],
   "source": [
    "mylist2[0]"
   ]
  },
  {
   "cell_type": "code",
   "execution_count": 7,
   "id": "bfc1a8e9",
   "metadata": {},
   "outputs": [
    {
     "data": {
      "text/plain": [
       "4"
      ]
     },
     "execution_count": 7,
     "metadata": {},
     "output_type": "execute_result"
    }
   ],
   "source": [
    "len(mylist2)"
   ]
  },
  {
   "cell_type": "markdown",
   "id": "42575d38",
   "metadata": {},
   "source": [
    "The list() Constructor"
   ]
  },
  {
   "cell_type": "code",
   "execution_count": 8,
   "id": "a5118a25",
   "metadata": {},
   "outputs": [],
   "source": [
    "listc=list((\"apple\",10.45,78))"
   ]
  },
  {
   "cell_type": "code",
   "execution_count": 9,
   "id": "39dbf65c",
   "metadata": {},
   "outputs": [
    {
     "name": "stdout",
     "output_type": "stream",
     "text": [
      "['apple', 10.45, 78]\n"
     ]
    }
   ],
   "source": [
    "print(listc)"
   ]
  },
  {
   "cell_type": "code",
   "execution_count": 10,
   "id": "40a0c21b",
   "metadata": {},
   "outputs": [],
   "source": [
    "newlist=[10,12.23,\"basha\",3+2j,[\"physics\",\"chemistry\",\"biolozy\"]]"
   ]
  },
  {
   "cell_type": "code",
   "execution_count": 11,
   "id": "16bca71d",
   "metadata": {},
   "outputs": [
    {
     "name": "stdout",
     "output_type": "stream",
     "text": [
      "[10, 12.23, 'basha', (3+2j), ['physics', 'chemistry', 'biolozy']]\n"
     ]
    }
   ],
   "source": [
    "print(newlist)"
   ]
  },
  {
   "cell_type": "code",
   "execution_count": 12,
   "id": "f3660064",
   "metadata": {},
   "outputs": [],
   "source": [
    "#Applying slice"
   ]
  },
  {
   "cell_type": "code",
   "execution_count": 13,
   "id": "16445d71",
   "metadata": {},
   "outputs": [
    {
     "data": {
      "text/plain": [
       "[10, 12.23]"
      ]
     },
     "execution_count": 13,
     "metadata": {},
     "output_type": "execute_result"
    }
   ],
   "source": [
    "newlist[0:2]"
   ]
  },
  {
   "cell_type": "code",
   "execution_count": 14,
   "id": "1ca2b466",
   "metadata": {},
   "outputs": [
    {
     "data": {
      "text/plain": [
       "[10, 12.23, 'basha']"
      ]
     },
     "execution_count": 14,
     "metadata": {},
     "output_type": "execute_result"
    }
   ],
   "source": [
    "newlist[0:3]"
   ]
  },
  {
   "cell_type": "code",
   "execution_count": 15,
   "id": "90eb3340",
   "metadata": {},
   "outputs": [
    {
     "data": {
      "text/plain": [
       "[['physics', 'chemistry', 'biolozy'], (3+2j), 'basha', 12.23, 10]"
      ]
     },
     "execution_count": 15,
     "metadata": {},
     "output_type": "execute_result"
    }
   ],
   "source": [
    "newlist[::-1]"
   ]
  },
  {
   "cell_type": "code",
   "execution_count": 16,
   "id": "418bf158",
   "metadata": {},
   "outputs": [
    {
     "data": {
      "text/plain": [
       "['physics', 'chemistry', 'biolozy']"
      ]
     },
     "execution_count": 16,
     "metadata": {},
     "output_type": "execute_result"
    }
   ],
   "source": [
    "newlist[-1]"
   ]
  },
  {
   "cell_type": "code",
   "execution_count": 17,
   "id": "75a0d280",
   "metadata": {},
   "outputs": [
    {
     "data": {
      "text/plain": [
       "'physics'"
      ]
     },
     "execution_count": 17,
     "metadata": {},
     "output_type": "execute_result"
    }
   ],
   "source": [
    "newlist[-1][0]"
   ]
  },
  {
   "cell_type": "code",
   "execution_count": 18,
   "id": "a6db52f9",
   "metadata": {},
   "outputs": [
    {
     "name": "stdout",
     "output_type": "stream",
     "text": [
      "yes 'biolozy' exist in subjects\n"
     ]
    }
   ],
   "source": [
    "if \"biolozy\" in newlist[-1]:\n",
    "    print(\"yes 'biolozy' exist in subjects\")"
   ]
  },
  {
   "cell_type": "markdown",
   "id": "ee4faeaa",
   "metadata": {},
   "source": [
    "Add List Items <br>\n",
    "append() <br>\n",
    "insert(index position, value) <br>"
   ]
  },
  {
   "cell_type": "code",
   "execution_count": 19,
   "id": "06cab80a",
   "metadata": {},
   "outputs": [],
   "source": [
    "newlist.append(100)"
   ]
  },
  {
   "cell_type": "code",
   "execution_count": 20,
   "id": "4c2759ed",
   "metadata": {},
   "outputs": [
    {
     "name": "stdout",
     "output_type": "stream",
     "text": [
      "[10, 12.23, 'basha', (3+2j), ['physics', 'chemistry', 'biolozy'], 100]\n"
     ]
    }
   ],
   "source": [
    "print(newlist)"
   ]
  },
  {
   "cell_type": "code",
   "execution_count": 21,
   "id": "45be1397",
   "metadata": {},
   "outputs": [],
   "source": [
    "newlist.insert(0,45)"
   ]
  },
  {
   "cell_type": "code",
   "execution_count": 22,
   "id": "78bd7119",
   "metadata": {},
   "outputs": [
    {
     "name": "stdout",
     "output_type": "stream",
     "text": [
      "[45, 10, 12.23, 'basha', (3+2j), ['physics', 'chemistry', 'biolozy'], 100]\n"
     ]
    }
   ],
   "source": [
    "print(newlist)"
   ]
  },
  {
   "cell_type": "markdown",
   "id": "6c542a4e",
   "metadata": {},
   "source": [
    "Extend List <br>\n",
    "To append elements from another list to the current list, use the extend() method.<br>"
   ]
  },
  {
   "cell_type": "code",
   "execution_count": 23,
   "id": "c8e4fc3b",
   "metadata": {},
   "outputs": [],
   "source": [
    "anotherlist=[\"jee\",\"neet\",\"emcet\"]"
   ]
  },
  {
   "cell_type": "code",
   "execution_count": 24,
   "id": "2a5bfe87",
   "metadata": {},
   "outputs": [],
   "source": [
    "newlist.extend(anotherlist)"
   ]
  },
  {
   "cell_type": "code",
   "execution_count": 25,
   "id": "f1bf03da",
   "metadata": {},
   "outputs": [
    {
     "name": "stdout",
     "output_type": "stream",
     "text": [
      "[45, 10, 12.23, 'basha', (3+2j), ['physics', 'chemistry', 'biolozy'], 100, 'jee', 'neet', 'emcet']\n"
     ]
    }
   ],
   "source": [
    "print(newlist)"
   ]
  },
  {
   "cell_type": "markdown",
   "id": "47523852",
   "metadata": {},
   "source": [
    "Remove List Items <br>\n",
    "remove() : removes the specified item<br>\n",
    "del keyword also removes the specified index <br>\n",
    "pop() : removes the last item<br>\n",
    "clear() : empties the list<br>"
   ]
  },
  {
   "cell_type": "code",
   "execution_count": 26,
   "id": "ab0bc24f",
   "metadata": {},
   "outputs": [],
   "source": [
    "newlist.remove(45)"
   ]
  },
  {
   "cell_type": "code",
   "execution_count": 27,
   "id": "0112f29e",
   "metadata": {},
   "outputs": [
    {
     "name": "stdout",
     "output_type": "stream",
     "text": [
      "[10, 12.23, 'basha', (3+2j), ['physics', 'chemistry', 'biolozy'], 100, 'jee', 'neet', 'emcet']\n"
     ]
    }
   ],
   "source": [
    "print(newlist)"
   ]
  },
  {
   "cell_type": "code",
   "execution_count": 28,
   "id": "e37173f7",
   "metadata": {},
   "outputs": [
    {
     "data": {
      "text/plain": [
       "'emcet'"
      ]
     },
     "execution_count": 28,
     "metadata": {},
     "output_type": "execute_result"
    }
   ],
   "source": [
    "newlist.pop()"
   ]
  },
  {
   "cell_type": "code",
   "execution_count": 29,
   "id": "f9096216",
   "metadata": {},
   "outputs": [
    {
     "data": {
      "text/plain": [
       "[10,\n",
       " 12.23,\n",
       " 'basha',\n",
       " (3+2j),\n",
       " ['physics', 'chemistry', 'biolozy'],\n",
       " 100,\n",
       " 'jee',\n",
       " 'neet']"
      ]
     },
     "execution_count": 29,
     "metadata": {},
     "output_type": "execute_result"
    }
   ],
   "source": [
    "newlist"
   ]
  },
  {
   "cell_type": "code",
   "execution_count": 30,
   "id": "d061ee43",
   "metadata": {},
   "outputs": [],
   "source": [
    "clearlist=[10,-2,56]"
   ]
  },
  {
   "cell_type": "code",
   "execution_count": 31,
   "id": "14f5272a",
   "metadata": {},
   "outputs": [],
   "source": [
    "clearlist.clear()"
   ]
  },
  {
   "cell_type": "code",
   "execution_count": 32,
   "id": "84be0b56",
   "metadata": {},
   "outputs": [
    {
     "data": {
      "text/plain": [
       "[]"
      ]
     },
     "execution_count": 32,
     "metadata": {},
     "output_type": "execute_result"
    }
   ],
   "source": [
    "clearlist"
   ]
  },
  {
   "cell_type": "markdown",
   "id": "2d4832a7",
   "metadata": {},
   "source": [
    "Loop Through a List - for <br>\n",
    "Loop Through the Index Numbers <br>\n",
    "Use the range() and len() functions to create a suitable iterable.<br>\n"
   ]
  },
  {
   "cell_type": "code",
   "execution_count": 33,
   "id": "8b6a6463",
   "metadata": {
    "tags": []
   },
   "outputs": [
    {
     "name": "stdout",
     "output_type": "stream",
     "text": [
      "10\n",
      "12.23\n",
      "basha\n",
      "(3+2j)\n",
      "['physics', 'chemistry', 'biolozy']\n",
      "100\n",
      "jee\n",
      "neet\n"
     ]
    }
   ],
   "source": [
    "for i in newlist:\n",
    "    print(i)"
   ]
  },
  {
   "cell_type": "code",
   "execution_count": 35,
   "id": "8c081907",
   "metadata": {
    "tags": []
   },
   "outputs": [
    {
     "name": "stdout",
     "output_type": "stream",
     "text": [
      "10\n",
      "12.23\n",
      "basha\n",
      "(3+2j)\n",
      "['physics', 'chemistry', 'biolozy']\n",
      "100\n",
      "jee\n",
      "neet\n"
     ]
    }
   ],
   "source": [
    "for i in range(len(newlist)):\n",
    "    print(newlist[i])"
   ]
  },
  {
   "cell_type": "code",
   "execution_count": 37,
   "id": "cf6535f7-89de-434f-bfd4-0569cb0ac311",
   "metadata": {
    "tags": []
   },
   "outputs": [
    {
     "name": "stdout",
     "output_type": "stream",
     "text": [
      "5\n",
      "6\n",
      "7\n",
      "8\n",
      "9\n"
     ]
    }
   ],
   "source": [
    "for i in range(5,10):\n",
    "    print(i)"
   ]
  },
  {
   "cell_type": "markdown",
   "id": "056863e2-18d0-4af9-b0a5-c507640881ad",
   "metadata": {},
   "source": [
    "List Comprehension <br>\n",
    "List comprehension offers a shorter syntax when you want to create a new list based on the values of an existing list."
   ]
  },
  {
   "cell_type": "code",
   "execution_count": 2,
   "id": "826719bb-81ae-4444-aca1-e0d87b6e68db",
   "metadata": {
    "tags": []
   },
   "outputs": [],
   "source": [
    "fruits = [\"apple\", \"banana\", \"cherry\", \"kiwi\", \"mango\"]\n",
    "newlist=[]\n",
    "\n",
    "for i in fruits:\n",
    "    if \"a\" in i:\n",
    "        newlist.append(i)"
   ]
  },
  {
   "cell_type": "code",
   "execution_count": 3,
   "id": "b737f935-0c6e-4fdc-89d9-e479301fcebb",
   "metadata": {
    "tags": []
   },
   "outputs": [
    {
     "name": "stdout",
     "output_type": "stream",
     "text": [
      "['apple', 'banana', 'mango']\n"
     ]
    }
   ],
   "source": [
    "print(newlist)"
   ]
  },
  {
   "cell_type": "code",
   "execution_count": 4,
   "id": "240a2b6a-a545-4916-a212-ba4b0b0908b0",
   "metadata": {
    "tags": []
   },
   "outputs": [],
   "source": [
    "#using comprehension\n",
    "newlist=[x for x in fruits if \"a\" in x]"
   ]
  },
  {
   "cell_type": "code",
   "execution_count": 5,
   "id": "d6cb0c2a-0d36-4742-85d8-7a59acf9d666",
   "metadata": {
    "tags": []
   },
   "outputs": [
    {
     "name": "stdout",
     "output_type": "stream",
     "text": [
      "['apple', 'banana', 'mango']\n"
     ]
    }
   ],
   "source": [
    "print(newlist)"
   ]
  },
  {
   "cell_type": "markdown",
   "id": "c7c56290-022c-4333-af42-741f76031338",
   "metadata": {},
   "source": [
    "Syntax :<br>\n",
    "newlist =[expression for item in iterable if condition==True]"
   ]
  },
  {
   "cell_type": "code",
   "execution_count": 7,
   "id": "0c36ce28-6368-4f61-9ed3-ba1aad17a0d2",
   "metadata": {
    "tags": []
   },
   "outputs": [],
   "source": [
    "newlist = [i for i in range(10)]"
   ]
  },
  {
   "cell_type": "code",
   "execution_count": 8,
   "id": "a15c1c2b-4b23-46f4-acc0-541e42b64df0",
   "metadata": {
    "tags": []
   },
   "outputs": [
    {
     "name": "stdout",
     "output_type": "stream",
     "text": [
      "[0, 1, 2, 3, 4, 5, 6, 7, 8, 9]\n"
     ]
    }
   ],
   "source": [
    "print(newlist)"
   ]
  },
  {
   "cell_type": "code",
   "execution_count": 9,
   "id": "e0553511-ade5-4249-a316-80bf114f906f",
   "metadata": {
    "tags": []
   },
   "outputs": [],
   "source": [
    "newlist=[x.upper() for x in fruits]"
   ]
  },
  {
   "cell_type": "code",
   "execution_count": 10,
   "id": "4bb75e6a-bc5c-4dea-a833-813fc24dbc6b",
   "metadata": {
    "tags": []
   },
   "outputs": [
    {
     "name": "stdout",
     "output_type": "stream",
     "text": [
      "['APPLE', 'BANANA', 'CHERRY', 'KIWI', 'MANGO']\n"
     ]
    }
   ],
   "source": [
    "print(newlist)"
   ]
  },
  {
   "cell_type": "code",
   "execution_count": 14,
   "id": "cea231b6-9d98-4327-b2f1-4fad594dd69e",
   "metadata": {
    "tags": []
   },
   "outputs": [],
   "source": [
    "newlist=[x for x in fruits if x!='apple']"
   ]
  },
  {
   "cell_type": "code",
   "execution_count": 15,
   "id": "b899a4a7-5bec-49a3-8cd0-79a33b0cac89",
   "metadata": {
    "tags": []
   },
   "outputs": [
    {
     "name": "stdout",
     "output_type": "stream",
     "text": [
      "['banana', 'cherry', 'kiwi', 'mango']\n"
     ]
    }
   ],
   "source": [
    "print(newlist)"
   ]
  },
  {
   "cell_type": "code",
   "execution_count": 18,
   "id": "0e973c07-bb56-40c5-b0f9-91fc68667dd1",
   "metadata": {
    "tags": []
   },
   "outputs": [],
   "source": [
    "newlist=[x if x!=\"banana\" else \"orange\" for x in fruits]"
   ]
  },
  {
   "cell_type": "code",
   "execution_count": 19,
   "id": "defc4ff9-9910-4888-929e-9cc773cac10f",
   "metadata": {
    "tags": []
   },
   "outputs": [
    {
     "name": "stdout",
     "output_type": "stream",
     "text": [
      "['apple', 'orange', 'cherry', 'kiwi', 'mango']\n"
     ]
    }
   ],
   "source": [
    "print(newlist)"
   ]
  },
  {
   "cell_type": "markdown",
   "id": "b13aeeb6-39d8-4b24-88c3-4dc360d01252",
   "metadata": {},
   "source": [
    "Sort Lists<br>\n",
    "sort() <br>\n",
    "sort(reverse=True)"
   ]
  },
  {
   "cell_type": "code",
   "execution_count": 20,
   "id": "3d031375-5cc4-4dcc-a8fe-8c0db732d9f9",
   "metadata": {
    "tags": []
   },
   "outputs": [],
   "source": [
    "fruits.sort()"
   ]
  },
  {
   "cell_type": "code",
   "execution_count": 21,
   "id": "0592a0f7-4d1b-4f82-b2bb-71db955a039e",
   "metadata": {
    "tags": []
   },
   "outputs": [
    {
     "name": "stdout",
     "output_type": "stream",
     "text": [
      "['apple', 'banana', 'cherry', 'kiwi', 'mango']\n"
     ]
    }
   ],
   "source": [
    "print(fruits)"
   ]
  },
  {
   "cell_type": "code",
   "execution_count": 22,
   "id": "94b2b515-0f0b-4b2c-89bf-e6d32060552e",
   "metadata": {
    "tags": []
   },
   "outputs": [],
   "source": [
    "fruits.sort(reverse=True)"
   ]
  },
  {
   "cell_type": "code",
   "execution_count": 23,
   "id": "f2efda95-7290-4de1-bf53-d34e3026eab4",
   "metadata": {
    "tags": []
   },
   "outputs": [
    {
     "name": "stdout",
     "output_type": "stream",
     "text": [
      "['mango', 'kiwi', 'cherry', 'banana', 'apple']\n"
     ]
    }
   ],
   "source": [
    "print(fruits)"
   ]
  },
  {
   "cell_type": "markdown",
   "id": "c27f2222-5d89-486a-bc54-621aa6de77b4",
   "metadata": {},
   "source": [
    "Copy a List\n",
    "You cannot copy a list simply by typing list2 = list1, because: list2 will only be a reference to list1, and changes made in list1 will automatically also be made in list2.\n",
    "\n",
    "There are ways to make a copy, one way is to use the built-in List method copy()."
   ]
  },
  {
   "cell_type": "code",
   "execution_count": 24,
   "id": "c3990c12-acef-4f66-9b40-bfed571ea368",
   "metadata": {
    "tags": []
   },
   "outputs": [],
   "source": [
    "list1=[10,20,30,40,50]\n",
    "list2=list1"
   ]
  },
  {
   "cell_type": "code",
   "execution_count": 25,
   "id": "4884c4a8-02a2-4ec0-bb25-912e74391e02",
   "metadata": {
    "tags": []
   },
   "outputs": [
    {
     "name": "stdout",
     "output_type": "stream",
     "text": [
      "[10, 20, 30, 40, 50]\n"
     ]
    }
   ],
   "source": [
    "print(list2)"
   ]
  },
  {
   "cell_type": "code",
   "execution_count": 26,
   "id": "3a66f898-5f6c-4844-83c3-03d597ae0c56",
   "metadata": {
    "tags": []
   },
   "outputs": [],
   "source": [
    "list1[0]=100"
   ]
  },
  {
   "cell_type": "code",
   "execution_count": 27,
   "id": "a68443f5-393b-4f8e-b952-3144fd5be1b2",
   "metadata": {
    "tags": []
   },
   "outputs": [
    {
     "name": "stdout",
     "output_type": "stream",
     "text": [
      "[100, 20, 30, 40, 50]\n"
     ]
    }
   ],
   "source": [
    "print(list2)"
   ]
  },
  {
   "cell_type": "code",
   "execution_count": 28,
   "id": "ca3d4275-9421-441c-b794-4641600b1d98",
   "metadata": {
    "tags": []
   },
   "outputs": [
    {
     "name": "stdout",
     "output_type": "stream",
     "text": [
      "[100, 20, 30, 40, 50]\n"
     ]
    }
   ],
   "source": [
    "print(list1)"
   ]
  },
  {
   "cell_type": "code",
   "execution_count": 29,
   "id": "40376697-0b62-4f8a-99d9-26afedcf6b20",
   "metadata": {
    "tags": []
   },
   "outputs": [],
   "source": [
    "list3=[1,2,\"khadar\",20.56]"
   ]
  },
  {
   "cell_type": "code",
   "execution_count": 30,
   "id": "682cfd8f-6449-4ad1-a0ca-c630eaec75f5",
   "metadata": {
    "tags": []
   },
   "outputs": [],
   "source": [
    "list4=list3.copy()"
   ]
  },
  {
   "cell_type": "code",
   "execution_count": 31,
   "id": "64fc7b26-1970-4642-99c0-f4c05de6b354",
   "metadata": {
    "tags": []
   },
   "outputs": [
    {
     "name": "stdout",
     "output_type": "stream",
     "text": [
      "[1, 2, 'khadar', 20.56]\n"
     ]
    }
   ],
   "source": [
    "print(list4)"
   ]
  },
  {
   "cell_type": "code",
   "execution_count": 32,
   "id": "8a686d26-8222-4230-8273-00c923b4010c",
   "metadata": {
    "tags": []
   },
   "outputs": [
    {
     "name": "stdout",
     "output_type": "stream",
     "text": [
      "[1, 2, 'khadar', 20.56]\n"
     ]
    }
   ],
   "source": [
    "print(list3)"
   ]
  },
  {
   "cell_type": "code",
   "execution_count": 33,
   "id": "731f73e4-5978-4415-aee0-b7c141fcd240",
   "metadata": {
    "tags": []
   },
   "outputs": [],
   "source": [
    "list3[0]=11"
   ]
  },
  {
   "cell_type": "code",
   "execution_count": 34,
   "id": "85af2f57-6538-47a7-966b-319523071aca",
   "metadata": {
    "tags": []
   },
   "outputs": [
    {
     "name": "stdout",
     "output_type": "stream",
     "text": [
      "[1, 2, 'khadar', 20.56]\n"
     ]
    }
   ],
   "source": [
    "print(list4)"
   ]
  },
  {
   "cell_type": "code",
   "execution_count": 35,
   "id": "2e641862-7ef2-4dec-a463-d35dc5494121",
   "metadata": {
    "tags": []
   },
   "outputs": [
    {
     "name": "stdout",
     "output_type": "stream",
     "text": [
      "[11, 2, 'khadar', 20.56]\n"
     ]
    }
   ],
   "source": [
    "print(list3)"
   ]
  },
  {
   "cell_type": "code",
   "execution_count": 36,
   "id": "780cd3ab-dce8-43d7-8400-2fa55193983f",
   "metadata": {
    "tags": []
   },
   "outputs": [],
   "source": [
    "#Make a copy of a list with the list() method\n",
    "mylist=list(list4)"
   ]
  },
  {
   "cell_type": "code",
   "execution_count": 37,
   "id": "a4573957-ebe7-454d-9d41-60277d2143e1",
   "metadata": {
    "tags": []
   },
   "outputs": [
    {
     "name": "stdout",
     "output_type": "stream",
     "text": [
      "[1, 2, 'khadar', 20.56]\n"
     ]
    }
   ],
   "source": [
    "print(mylist)"
   ]
  },
  {
   "cell_type": "code",
   "execution_count": 41,
   "id": "42ee2863-6295-4062-a00d-4efb1613674b",
   "metadata": {
    "tags": []
   },
   "outputs": [
    {
     "data": {
      "text/plain": [
       "[11, 2, 'khadar', 20.56, 1, 2, 'khadar', 20.56]"
      ]
     },
     "execution_count": 41,
     "metadata": {},
     "output_type": "execute_result"
    }
   ],
   "source": [
    "#Join Two Lists using `+` operator\n",
    "list3+list4"
   ]
  },
  {
   "cell_type": "code",
   "execution_count": 44,
   "id": "a2195f0c-4643-4e5c-b53d-38d7456f157b",
   "metadata": {
    "tags": []
   },
   "outputs": [
    {
     "data": {
      "text/plain": [
       "' A tuple in Python is similar to a list. \\nThe difference between the two is that we cannot change the elements of \\na tuple once it is assigned whereas we can change the elements of a list. '"
      ]
     },
     "execution_count": 44,
     "metadata": {},
     "output_type": "execute_result"
    }
   ],
   "source": [
    "#### Tuples ####\n",
    "\"\"\" A tuple in Python is similar to a list. \n",
    "The difference between the two is that we cannot change the elements of \n",
    "a tuple once it is assigned whereas we can change the elements of a list. \"\"\""
   ]
  },
  {
   "cell_type": "code",
   "execution_count": 45,
   "id": "54bd7033-bd92-4283-8dcf-2ae309a8384d",
   "metadata": {
    "tags": []
   },
   "outputs": [],
   "source": [
    "#Empty Tuple\n",
    "emptyTuple=()"
   ]
  },
  {
   "cell_type": "code",
   "execution_count": 46,
   "id": "3b1126d8-42a6-403c-9238-b7d6dba9284a",
   "metadata": {
    "tags": []
   },
   "outputs": [
    {
     "name": "stdout",
     "output_type": "stream",
     "text": [
      "()\n"
     ]
    }
   ],
   "source": [
    "print(emptyTuple)"
   ]
  },
  {
   "cell_type": "code",
   "execution_count": 47,
   "id": "56958453-9c69-4e78-ae81-d85f02086dea",
   "metadata": {
    "tags": []
   },
   "outputs": [],
   "source": [
    "#Tuple with mixed content\n",
    "myTuple=(10,\"Hello\",10.5)"
   ]
  },
  {
   "cell_type": "code",
   "execution_count": 48,
   "id": "bd5d6afc-e724-484b-b56d-c6dd7af86501",
   "metadata": {
    "tags": []
   },
   "outputs": [
    {
     "name": "stdout",
     "output_type": "stream",
     "text": [
      "(10, 'Hello', 10.5)\n"
     ]
    }
   ],
   "source": [
    "print(myTuple)"
   ]
  },
  {
   "cell_type": "code",
   "execution_count": 50,
   "id": "731bb221-e91e-42ee-ad39-c43cf66f11b8",
   "metadata": {
    "tags": []
   },
   "outputs": [],
   "source": [
    "#nested Tuple\n",
    "myTuple=(\"Hello\",[8,10,12],(1,2,3))"
   ]
  },
  {
   "cell_type": "code",
   "execution_count": 51,
   "id": "15179da2-c520-4118-8c41-adfda0ee31f4",
   "metadata": {
    "tags": []
   },
   "outputs": [
    {
     "name": "stdout",
     "output_type": "stream",
     "text": [
      "('Hello', [8, 10, 12], (1, 2, 3))\n"
     ]
    }
   ],
   "source": [
    "print(myTuple)"
   ]
  },
  {
   "cell_type": "code",
   "execution_count": 53,
   "id": "16fb9655-2a51-44dd-b957-45c83a68b7c0",
   "metadata": {
    "tags": []
   },
   "outputs": [
    {
     "data": {
      "text/plain": [
       "'Hello'"
      ]
     },
     "execution_count": 53,
     "metadata": {},
     "output_type": "execute_result"
    }
   ],
   "source": [
    "myTuple[0]"
   ]
  },
  {
   "cell_type": "code",
   "execution_count": 54,
   "id": "88467732-31bf-435c-b474-d023772529ab",
   "metadata": {
    "tags": []
   },
   "outputs": [
    {
     "data": {
      "text/plain": [
       "tuple"
      ]
     },
     "execution_count": 54,
     "metadata": {},
     "output_type": "execute_result"
    }
   ],
   "source": [
    "type(myTuple)"
   ]
  },
  {
   "cell_type": "code",
   "execution_count": 56,
   "id": "adbc6d61-c219-4ed4-acb5-309a14e55178",
   "metadata": {
    "tags": []
   },
   "outputs": [
    {
     "data": {
      "text/plain": [
       "('Hello', [8, 10, 12])"
      ]
     },
     "execution_count": 56,
     "metadata": {},
     "output_type": "execute_result"
    }
   ],
   "source": [
    "myTuple[0:2]"
   ]
  },
  {
   "cell_type": "code",
   "execution_count": 61,
   "id": "ee859369-168e-4a8b-b707-0110bc4f40a2",
   "metadata": {
    "tags": []
   },
   "outputs": [],
   "source": [
    "#create tuples without using parentheses\n",
    "myTuple1=20,\"basha\",10.4\n",
    "myTuple2=[10,20,30],(1,2,3)"
   ]
  },
  {
   "cell_type": "code",
   "execution_count": 62,
   "id": "5aa97b14-dc51-471c-9847-2710c52d625b",
   "metadata": {
    "tags": []
   },
   "outputs": [
    {
     "name": "stdout",
     "output_type": "stream",
     "text": [
      "(20, 'basha', 10.4)\n"
     ]
    }
   ],
   "source": [
    "print(myTuple1)"
   ]
  },
  {
   "cell_type": "code",
   "execution_count": 63,
   "id": "a607b531-1429-4ffa-8138-25f3f9c310c1",
   "metadata": {
    "tags": []
   },
   "outputs": [
    {
     "name": "stdout",
     "output_type": "stream",
     "text": [
      "([10, 20, 30], (1, 2, 3))\n"
     ]
    }
   ],
   "source": [
    "print(myTuple2)"
   ]
  },
  {
   "cell_type": "code",
   "execution_count": 64,
   "id": "3b37dee2-f0da-4556-a277-61e8c1d3ba75",
   "metadata": {
    "tags": []
   },
   "outputs": [],
   "source": [
    "var1=(\"Hello\")"
   ]
  },
  {
   "cell_type": "code",
   "execution_count": 65,
   "id": "d83ef9ee-7859-43e7-ac11-a96de2180f34",
   "metadata": {
    "tags": []
   },
   "outputs": [
    {
     "name": "stdout",
     "output_type": "stream",
     "text": [
      "Hello\n"
     ]
    }
   ],
   "source": [
    "print(var1)"
   ]
  },
  {
   "cell_type": "code",
   "execution_count": 66,
   "id": "7a7055c1-c619-4e31-9e7d-0594531fca43",
   "metadata": {
    "tags": []
   },
   "outputs": [
    {
     "data": {
      "text/plain": [
       "str"
      ]
     },
     "execution_count": 66,
     "metadata": {},
     "output_type": "execute_result"
    }
   ],
   "source": [
    "type(var1)"
   ]
  },
  {
   "cell_type": "code",
   "execution_count": 67,
   "id": "a0c9698c-fbb5-4047-8374-b603b95310a6",
   "metadata": {
    "tags": []
   },
   "outputs": [],
   "source": [
    "var2=(\"Hello\",)"
   ]
  },
  {
   "cell_type": "code",
   "execution_count": 68,
   "id": "6763b42a-18ba-4f9b-ba22-50bf23de63bf",
   "metadata": {
    "tags": []
   },
   "outputs": [
    {
     "data": {
      "text/plain": [
       "tuple"
      ]
     },
     "execution_count": 68,
     "metadata": {},
     "output_type": "execute_result"
    }
   ],
   "source": [
    "type(var2)"
   ]
  },
  {
   "cell_type": "code",
   "execution_count": 69,
   "id": "9a773efd-863e-47fd-b300-84888187080c",
   "metadata": {
    "tags": []
   },
   "outputs": [],
   "source": [
    "myTuple3=(10,10,10)"
   ]
  },
  {
   "cell_type": "code",
   "execution_count": 70,
   "id": "8ef63155-67ca-4add-9a51-a27791b68d57",
   "metadata": {
    "tags": []
   },
   "outputs": [
    {
     "name": "stdout",
     "output_type": "stream",
     "text": [
      "(10, 10, 10)\n"
     ]
    }
   ],
   "source": [
    "print(myTuple3)"
   ]
  },
  {
   "cell_type": "code",
   "execution_count": 72,
   "id": "43564fb7-d716-46b6-9096-11fc63dffb00",
   "metadata": {
    "tags": []
   },
   "outputs": [],
   "source": [
    "myTuple3ToList=list(myTuple3)"
   ]
  },
  {
   "cell_type": "code",
   "execution_count": 73,
   "id": "39f6600d-c80d-4db5-af2e-0e069eb2d277",
   "metadata": {
    "tags": []
   },
   "outputs": [
    {
     "name": "stdout",
     "output_type": "stream",
     "text": [
      "[10, 10, 10]\n"
     ]
    }
   ],
   "source": [
    "print(myTuple3ToList)"
   ]
  },
  {
   "cell_type": "code",
   "execution_count": 74,
   "id": "abb51bfb-884a-4424-b31d-ab21c9118864",
   "metadata": {
    "tags": []
   },
   "outputs": [],
   "source": [
    "myTuple3ToList[0]=100"
   ]
  },
  {
   "cell_type": "code",
   "execution_count": 75,
   "id": "89e127f4-c998-4813-8137-7e31a670dbe8",
   "metadata": {
    "tags": []
   },
   "outputs": [
    {
     "name": "stdout",
     "output_type": "stream",
     "text": [
      "[100, 10, 10]\n"
     ]
    }
   ],
   "source": [
    "print(myTuple3ToList)"
   ]
  },
  {
   "cell_type": "code",
   "execution_count": 1,
   "id": "ca085c75-7eaa-423b-abcc-d9438fdad945",
   "metadata": {},
   "outputs": [],
   "source": [
    "var3=\"hello\","
   ]
  },
  {
   "cell_type": "code",
   "execution_count": 2,
   "id": "bffb7b84",
   "metadata": {},
   "outputs": [
    {
     "data": {
      "text/plain": [
       "tuple"
      ]
     },
     "execution_count": 2,
     "metadata": {},
     "output_type": "execute_result"
    }
   ],
   "source": [
    "type(var3)"
   ]
  },
  {
   "cell_type": "code",
   "execution_count": 3,
   "id": "10088099",
   "metadata": {},
   "outputs": [],
   "source": [
    "#Access Python Tuple Elements\n",
    "#1. Indexing,2. Negative Indexing,3. Slicing"
   ]
  },
  {
   "cell_type": "code",
   "execution_count": 4,
   "id": "8bcba11f",
   "metadata": {},
   "outputs": [],
   "source": [
    "myNewTuple=(\"pwskills\",\"udemy\",\"youtube\",\"coursera\")"
   ]
  },
  {
   "cell_type": "code",
   "execution_count": 5,
   "id": "e2c450ba",
   "metadata": {},
   "outputs": [
    {
     "data": {
      "text/plain": [
       "'pwskills'"
      ]
     },
     "execution_count": 5,
     "metadata": {},
     "output_type": "execute_result"
    }
   ],
   "source": [
    "myNewTuple[0]"
   ]
  },
  {
   "cell_type": "code",
   "execution_count": 6,
   "id": "4b9907be",
   "metadata": {},
   "outputs": [
    {
     "data": {
      "text/plain": [
       "'coursera'"
      ]
     },
     "execution_count": 6,
     "metadata": {},
     "output_type": "execute_result"
    }
   ],
   "source": [
    "myNewTuple[-1]"
   ]
  },
  {
   "cell_type": "code",
   "execution_count": 7,
   "id": "26a82b1a",
   "metadata": {},
   "outputs": [
    {
     "data": {
      "text/plain": [
       "('pwskills', 'udemy', 'youtube')"
      ]
     },
     "execution_count": 7,
     "metadata": {},
     "output_type": "execute_result"
    }
   ],
   "source": [
    "myNewTuple[0:3]"
   ]
  },
  {
   "cell_type": "code",
   "execution_count": 9,
   "id": "aea14d4b",
   "metadata": {},
   "outputs": [
    {
     "data": {
      "text/plain": [
       "('pwskills', 'youtube')"
      ]
     },
     "execution_count": 9,
     "metadata": {},
     "output_type": "execute_result"
    }
   ],
   "source": [
    "myNewTuple[0::2]"
   ]
  },
  {
   "cell_type": "code",
   "execution_count": 10,
   "id": "e7f1097e",
   "metadata": {},
   "outputs": [],
   "source": [
    "#Python Tuple Methods\n",
    "# Tuples are unchangeable, or immutable as it also is called\n",
    "#count,index"
   ]
  },
  {
   "cell_type": "code",
   "execution_count": 15,
   "id": "c5dbe225",
   "metadata": {},
   "outputs": [
    {
     "data": {
      "text/plain": [
       "1"
      ]
     },
     "execution_count": 15,
     "metadata": {},
     "output_type": "execute_result"
    }
   ],
   "source": [
    "myNewTuple.count(\"udemy\")"
   ]
  },
  {
   "cell_type": "code",
   "execution_count": 16,
   "id": "1094828f",
   "metadata": {},
   "outputs": [
    {
     "data": {
      "text/plain": [
       "2"
      ]
     },
     "execution_count": 16,
     "metadata": {},
     "output_type": "execute_result"
    }
   ],
   "source": [
    "myNewTuple.index(\"youtube\")"
   ]
  },
  {
   "cell_type": "code",
   "execution_count": 17,
   "id": "3bdf081d",
   "metadata": {},
   "outputs": [],
   "source": [
    "myNewTuple=list(myNewTuple)"
   ]
  },
  {
   "cell_type": "code",
   "execution_count": 18,
   "id": "e40d0d75",
   "metadata": {},
   "outputs": [],
   "source": [
    "myNewTuple.append(\"Naresh\")"
   ]
  },
  {
   "cell_type": "code",
   "execution_count": 19,
   "id": "91fec8be",
   "metadata": {},
   "outputs": [
    {
     "name": "stdout",
     "output_type": "stream",
     "text": [
      "['pwskills', 'udemy', 'youtube', 'coursera', 'Naresh']\n"
     ]
    }
   ],
   "source": [
    "print(myNewTuple)"
   ]
  },
  {
   "cell_type": "code",
   "execution_count": 20,
   "id": "21eef43a",
   "metadata": {},
   "outputs": [],
   "source": [
    "myNewTuple=tuple(myNewTuple)"
   ]
  },
  {
   "cell_type": "code",
   "execution_count": 21,
   "id": "ca447e94",
   "metadata": {},
   "outputs": [
    {
     "name": "stdout",
     "output_type": "stream",
     "text": [
      "('pwskills', 'udemy', 'youtube', 'coursera', 'Naresh')\n"
     ]
    }
   ],
   "source": [
    "print(myNewTuple)"
   ]
  },
  {
   "cell_type": "code",
   "execution_count": 22,
   "id": "ae34d52e",
   "metadata": {},
   "outputs": [],
   "source": [
    "languages=(\"php\",\"ionic\",\"java\",\"python\")"
   ]
  },
  {
   "cell_type": "code",
   "execution_count": 23,
   "id": "a3d8ce9b",
   "metadata": {},
   "outputs": [
    {
     "name": "stdout",
     "output_type": "stream",
     "text": [
      "php\n",
      "ionic\n",
      "java\n",
      "python\n"
     ]
    }
   ],
   "source": [
    "for i in languages:\n",
    "    print(i)"
   ]
  },
  {
   "cell_type": "code",
   "execution_count": 24,
   "id": "1f71949c",
   "metadata": {},
   "outputs": [],
   "source": [
    "nlngs=[x for x in languages if \"python\" in x]"
   ]
  },
  {
   "cell_type": "code",
   "execution_count": 25,
   "id": "70a87e8d",
   "metadata": {},
   "outputs": [
    {
     "name": "stdout",
     "output_type": "stream",
     "text": [
      "['python']\n"
     ]
    }
   ],
   "source": [
    "print(nlngs)"
   ]
  },
  {
   "cell_type": "code",
   "execution_count": 26,
   "id": "e07bd07d",
   "metadata": {},
   "outputs": [
    {
     "name": "stdout",
     "output_type": "stream",
     "text": [
      "True\n"
     ]
    }
   ],
   "source": [
    "print(\"java\" in languages)"
   ]
  },
  {
   "cell_type": "code",
   "execution_count": 28,
   "id": "d8165ee1",
   "metadata": {},
   "outputs": [],
   "source": [
    "#advantages\n",
    "\n",
    "# We generally use tuples for heterogeneous (different) data types and lists for homogeneous (similar) data types.\n",
    "# Since tuples are immutable, iterating through a tuple is faster than with a list. So there is a slight performance boost.\n",
    "# Tuples that contain immutable elements can be used as a key for a dictionary. With lists, this is not possible.\n",
    "# If you have data that doesn't change, implementing it as tuple will guarantee that it remains write-protected.\n"
   ]
  },
  {
   "cell_type": "code",
   "execution_count": null,
   "id": "2320b54e",
   "metadata": {},
   "outputs": [],
   "source": []
  }
 ],
 "metadata": {
  "kernelspec": {
   "display_name": "Python 3 (ipykernel)",
   "language": "python",
   "name": "python3"
  },
  "language_info": {
   "codemirror_mode": {
    "name": "ipython",
    "version": 3
   },
   "file_extension": ".py",
   "mimetype": "text/x-python",
   "name": "python",
   "nbconvert_exporter": "python",
   "pygments_lexer": "ipython3",
   "version": "3.9.13"
  }
 },
 "nbformat": 4,
 "nbformat_minor": 5
}
