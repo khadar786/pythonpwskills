{
 "cells": [
  {
   "cell_type": "markdown",
   "id": "84f47ace",
   "metadata": {},
   "source": [
    "Text Type:\tstr <br>\n",
    "Numeric Types:\tint, float, complex <br>\n",
    "Sequence Types:\tlist, tuple, range <br>\n",
    "Mapping Type:\tdict <br>\n",
    "Set Types:\tset, frozenset <br>\n",
    "Boolean Type:\tbool <br>\n",
    "Binary Types:\tbytes, bytearray, memoryview <br>\n",
    "None Type:\tNoneType <br>"
   ]
  },
  {
   "cell_type": "markdown",
   "id": "30d6746e",
   "metadata": {},
   "source": [
    "List <br>\n",
    "Lists are used to store multiple items in a single variable. <br>"
   ]
  },
  {
   "cell_type": "code",
   "execution_count": 9,
   "id": "fadc40a6",
   "metadata": {},
   "outputs": [],
   "source": [
    "mylist=[10,15.25,\"khadar\",4+5j]"
   ]
  },
  {
   "cell_type": "code",
   "execution_count": 10,
   "id": "c2fefbd2",
   "metadata": {},
   "outputs": [
    {
     "name": "stdout",
     "output_type": "stream",
     "text": [
      "[10, 15.25, 'khadar', (4+5j)]\n"
     ]
    }
   ],
   "source": [
    "print(mylist)"
   ]
  },
  {
   "cell_type": "code",
   "execution_count": 15,
   "id": "978895e0",
   "metadata": {},
   "outputs": [],
   "source": [
    "mylist2=[10,23.23,\"apple\",4+6j]"
   ]
  },
  {
   "cell_type": "code",
   "execution_count": 16,
   "id": "8def3d3a",
   "metadata": {},
   "outputs": [
    {
     "name": "stdout",
     "output_type": "stream",
     "text": [
      "[10, 23.23, 'apple', (4+6j)]\n"
     ]
    }
   ],
   "source": [
    "print(mylist2)"
   ]
  },
  {
   "cell_type": "code",
   "execution_count": 17,
   "id": "04746220",
   "metadata": {},
   "outputs": [
    {
     "data": {
      "text/plain": [
       "10"
      ]
     },
     "execution_count": 17,
     "metadata": {},
     "output_type": "execute_result"
    }
   ],
   "source": [
    "mylist2[0]"
   ]
  },
  {
   "cell_type": "code",
   "execution_count": 18,
   "id": "bfc1a8e9",
   "metadata": {},
   "outputs": [
    {
     "data": {
      "text/plain": [
       "4"
      ]
     },
     "execution_count": 18,
     "metadata": {},
     "output_type": "execute_result"
    }
   ],
   "source": [
    "len(mylist2)"
   ]
  },
  {
   "cell_type": "markdown",
   "id": "42575d38",
   "metadata": {},
   "source": [
    "The list() Constructor"
   ]
  },
  {
   "cell_type": "code",
   "execution_count": 19,
   "id": "a5118a25",
   "metadata": {},
   "outputs": [],
   "source": [
    "listc=list((\"apple\",10.45,78))"
   ]
  },
  {
   "cell_type": "code",
   "execution_count": 20,
   "id": "39dbf65c",
   "metadata": {},
   "outputs": [
    {
     "name": "stdout",
     "output_type": "stream",
     "text": [
      "['apple', 10.45, 78]\n"
     ]
    }
   ],
   "source": [
    "print(listc)"
   ]
  },
  {
   "cell_type": "code",
   "execution_count": 21,
   "id": "40a0c21b",
   "metadata": {},
   "outputs": [],
   "source": [
    "newlist=[10,12.23,\"basha\",3+2j,[\"physics\",\"chemistry\",\"biolozy\"]]"
   ]
  },
  {
   "cell_type": "code",
   "execution_count": 22,
   "id": "16bca71d",
   "metadata": {},
   "outputs": [
    {
     "name": "stdout",
     "output_type": "stream",
     "text": [
      "[10, 12.23, 'basha', (3+2j), ['physics', 'chemistry', 'biolozy']]\n"
     ]
    }
   ],
   "source": [
    "print(newlist)"
   ]
  },
  {
   "cell_type": "code",
   "execution_count": 23,
   "id": "f3660064",
   "metadata": {},
   "outputs": [],
   "source": [
    "#Applying slice"
   ]
  },
  {
   "cell_type": "code",
   "execution_count": 24,
   "id": "16445d71",
   "metadata": {},
   "outputs": [
    {
     "data": {
      "text/plain": [
       "[10, 12.23]"
      ]
     },
     "execution_count": 24,
     "metadata": {},
     "output_type": "execute_result"
    }
   ],
   "source": [
    "newlist[0:2]"
   ]
  },
  {
   "cell_type": "code",
   "execution_count": 25,
   "id": "1ca2b466",
   "metadata": {},
   "outputs": [
    {
     "data": {
      "text/plain": [
       "[10, 12.23, 'basha']"
      ]
     },
     "execution_count": 25,
     "metadata": {},
     "output_type": "execute_result"
    }
   ],
   "source": [
    "newlist[0:3]"
   ]
  },
  {
   "cell_type": "code",
   "execution_count": 26,
   "id": "90eb3340",
   "metadata": {},
   "outputs": [
    {
     "data": {
      "text/plain": [
       "[['physics', 'chemistry', 'biolozy'], (3+2j), 'basha', 12.23, 10]"
      ]
     },
     "execution_count": 26,
     "metadata": {},
     "output_type": "execute_result"
    }
   ],
   "source": [
    "newlist[::-1]"
   ]
  },
  {
   "cell_type": "code",
   "execution_count": 29,
   "id": "418bf158",
   "metadata": {},
   "outputs": [
    {
     "data": {
      "text/plain": [
       "['physics', 'chemistry', 'biolozy']"
      ]
     },
     "execution_count": 29,
     "metadata": {},
     "output_type": "execute_result"
    }
   ],
   "source": [
    "newlist[-1]"
   ]
  },
  {
   "cell_type": "code",
   "execution_count": 30,
   "id": "75a0d280",
   "metadata": {},
   "outputs": [
    {
     "data": {
      "text/plain": [
       "'physics'"
      ]
     },
     "execution_count": 30,
     "metadata": {},
     "output_type": "execute_result"
    }
   ],
   "source": [
    "newlist[-1][0]"
   ]
  },
  {
   "cell_type": "code",
   "execution_count": 32,
   "id": "a6db52f9",
   "metadata": {},
   "outputs": [
    {
     "name": "stdout",
     "output_type": "stream",
     "text": [
      "yes 'biolozy' exist in subjects\n"
     ]
    }
   ],
   "source": [
    "if \"biolozy\" in newlist[-1]:\n",
    "    print(\"yes 'biolozy' exist in subjects\")"
   ]
  },
  {
   "cell_type": "markdown",
   "id": "ee4faeaa",
   "metadata": {},
   "source": [
    "Add List Items <br>\n",
    "append() <br>\n",
    "insert(index position, value) <br>"
   ]
  },
  {
   "cell_type": "code",
   "execution_count": 35,
   "id": "06cab80a",
   "metadata": {},
   "outputs": [],
   "source": [
    "newlist.append(100)"
   ]
  },
  {
   "cell_type": "code",
   "execution_count": 36,
   "id": "4c2759ed",
   "metadata": {},
   "outputs": [
    {
     "name": "stdout",
     "output_type": "stream",
     "text": [
      "[10, 12.23, 'basha', (3+2j), ['physics', 'chemistry', 'biolozy'], 100, 100]\n"
     ]
    }
   ],
   "source": [
    "print(newlist)"
   ]
  },
  {
   "cell_type": "code",
   "execution_count": 37,
   "id": "45be1397",
   "metadata": {},
   "outputs": [],
   "source": [
    "newlist.insert(0,45)"
   ]
  },
  {
   "cell_type": "code",
   "execution_count": 38,
   "id": "78bd7119",
   "metadata": {},
   "outputs": [
    {
     "name": "stdout",
     "output_type": "stream",
     "text": [
      "[45, 10, 12.23, 'basha', (3+2j), ['physics', 'chemistry', 'biolozy'], 100, 100]\n"
     ]
    }
   ],
   "source": [
    "print(newlist)"
   ]
  },
  {
   "cell_type": "markdown",
   "id": "6c542a4e",
   "metadata": {},
   "source": [
    "Extend List <br>\n",
    "To append elements from another list to the current list, use the extend() method.<br>"
   ]
  },
  {
   "cell_type": "code",
   "execution_count": 40,
   "id": "c8e4fc3b",
   "metadata": {},
   "outputs": [],
   "source": [
    "anotherlist=[\"jee\",\"neet\",\"emcet\"]"
   ]
  },
  {
   "cell_type": "code",
   "execution_count": 41,
   "id": "2a5bfe87",
   "metadata": {},
   "outputs": [],
   "source": [
    "newlist.extend(anotherlist)"
   ]
  },
  {
   "cell_type": "code",
   "execution_count": 42,
   "id": "f1bf03da",
   "metadata": {},
   "outputs": [
    {
     "name": "stdout",
     "output_type": "stream",
     "text": [
      "[45, 10, 12.23, 'basha', (3+2j), ['physics', 'chemistry', 'biolozy'], 100, 100, 'jee', 'neet', 'emcet']\n"
     ]
    }
   ],
   "source": [
    "print(newlist)"
   ]
  },
  {
   "cell_type": "markdown",
   "id": "47523852",
   "metadata": {},
   "source": [
    "Remove List Items <br>\n",
    "remove() : removes the specified item<br>\n",
    "del keyword also removes the specified index <br>\n",
    "pop() : removes the last item<br>\n",
    "clear() : empties the list<br>"
   ]
  },
  {
   "cell_type": "code",
   "execution_count": 44,
   "id": "ab0bc24f",
   "metadata": {},
   "outputs": [],
   "source": [
    "newlist.remove(45)"
   ]
  },
  {
   "cell_type": "code",
   "execution_count": 45,
   "id": "0112f29e",
   "metadata": {},
   "outputs": [
    {
     "name": "stdout",
     "output_type": "stream",
     "text": [
      "[10, 12.23, 'basha', (3+2j), ['physics', 'chemistry', 'biolozy'], 100, 100, 'jee', 'neet', 'emcet']\n"
     ]
    }
   ],
   "source": [
    "print(newlist)"
   ]
  },
  {
   "cell_type": "code",
   "execution_count": 46,
   "id": "e37173f7",
   "metadata": {},
   "outputs": [
    {
     "data": {
      "text/plain": [
       "'emcet'"
      ]
     },
     "execution_count": 46,
     "metadata": {},
     "output_type": "execute_result"
    }
   ],
   "source": [
    "newlist.pop()"
   ]
  },
  {
   "cell_type": "code",
   "execution_count": 47,
   "id": "f9096216",
   "metadata": {},
   "outputs": [
    {
     "data": {
      "text/plain": [
       "[10,\n",
       " 12.23,\n",
       " 'basha',\n",
       " (3+2j),\n",
       " ['physics', 'chemistry', 'biolozy'],\n",
       " 100,\n",
       " 100,\n",
       " 'jee',\n",
       " 'neet']"
      ]
     },
     "execution_count": 47,
     "metadata": {},
     "output_type": "execute_result"
    }
   ],
   "source": [
    "newlist"
   ]
  },
  {
   "cell_type": "code",
   "execution_count": 48,
   "id": "d061ee43",
   "metadata": {},
   "outputs": [],
   "source": [
    "clearlist=[10,-2,56]"
   ]
  },
  {
   "cell_type": "code",
   "execution_count": 49,
   "id": "14f5272a",
   "metadata": {},
   "outputs": [],
   "source": [
    "clearlist.clear()"
   ]
  },
  {
   "cell_type": "code",
   "execution_count": 50,
   "id": "84be0b56",
   "metadata": {},
   "outputs": [
    {
     "data": {
      "text/plain": [
       "[]"
      ]
     },
     "execution_count": 50,
     "metadata": {},
     "output_type": "execute_result"
    }
   ],
   "source": [
    "clearlist"
   ]
  },
  {
   "cell_type": "markdown",
   "id": "2d4832a7",
   "metadata": {},
   "source": [
    "Loop Through a List - for <br>\n",
    "Loop Through the Index Numbers <br>\n",
    "Use the range() and len() functions to create a suitable iterable.<br>\n"
   ]
  },
  {
   "cell_type": "code",
   "execution_count": 51,
   "id": "8b6a6463",
   "metadata": {},
   "outputs": [
    {
     "name": "stdout",
     "output_type": "stream",
     "text": [
      "10\n",
      "12.23\n",
      "basha\n",
      "(3+2j)\n",
      "['physics', 'chemistry', 'biolozy']\n",
      "100\n",
      "100\n",
      "jee\n",
      "neet\n"
     ]
    }
   ],
   "source": [
    "for i in newlist:\n",
    "    print(i)"
   ]
  },
  {
   "cell_type": "code",
   "execution_count": null,
   "id": "8c081907",
   "metadata": {},
   "outputs": [],
   "source": []
  }
 ],
 "metadata": {
  "kernelspec": {
   "display_name": "Python 3 (ipykernel)",
   "language": "python",
   "name": "python3"
  },
  "language_info": {
   "codemirror_mode": {
    "name": "ipython",
    "version": 3
   },
   "file_extension": ".py",
   "mimetype": "text/x-python",
   "name": "python",
   "nbconvert_exporter": "python",
   "pygments_lexer": "ipython3",
   "version": "3.9.13"
  }
 },
 "nbformat": 4,
 "nbformat_minor": 5
}
