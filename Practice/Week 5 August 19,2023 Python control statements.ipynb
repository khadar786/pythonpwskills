{
 "cells": [
  {
   "cell_type": "markdown",
   "id": "c6b8ed2a",
   "metadata": {},
   "source": [
    "there are three forms of the if...else statement. <br>\n",
    "if statement <br>\n",
    "if...else statement <br>\n",
    "if...elif...else statement <br>\n",
    "Nested if ...<br>\n",
    "Single statement suites <br>"
   ]
  },
  {
   "cell_type": "code",
   "execution_count": 1,
   "id": "a5bb2da6",
   "metadata": {},
   "outputs": [],
   "source": [
    "number=10"
   ]
  },
  {
   "cell_type": "code",
   "execution_count": 2,
   "id": "294b249f",
   "metadata": {},
   "outputs": [
    {
     "name": "stdout",
     "output_type": "stream",
     "text": [
      "Number is positive\n",
      "if statement is easy\n"
     ]
    }
   ],
   "source": [
    "if number>0:\n",
    "    print(\"Number is positive\")\n",
    "\n",
    "print(\"if statement is easy\")"
   ]
  },
  {
   "cell_type": "code",
   "execution_count": 4,
   "id": "55155268",
   "metadata": {},
   "outputs": [
    {
     "name": "stdout",
     "output_type": "stream",
     "text": [
      "Number is negative\n"
     ]
    }
   ],
   "source": [
    "number=-1\n",
    "if number>0:\n",
    "    print(\"Number is positive\")\n",
    "else:\n",
    "    print(\"Number is negative\")"
   ]
  },
  {
   "cell_type": "code",
   "execution_count": 8,
   "id": "1d146cb0",
   "metadata": {},
   "outputs": [
    {
     "name": "stdout",
     "output_type": "stream",
     "text": [
      "Please enter a number \n",
      "0\n"
     ]
    }
   ],
   "source": [
    "n=int(input(\"Please enter a number \\n\"))"
   ]
  },
  {
   "cell_type": "code",
   "execution_count": 9,
   "id": "91870cce",
   "metadata": {},
   "outputs": [
    {
     "name": "stdout",
     "output_type": "stream",
     "text": [
      "Given number is zero\n"
     ]
    }
   ],
   "source": [
    "if n>0:\n",
    "    print(\"Given number is positive\")\n",
    "elif n==0:\n",
    "    print(\"Given number is zero\")\n",
    "else:\n",
    "    print(\"Given number is negative\")"
   ]
  },
  {
   "cell_type": "code",
   "execution_count": 11,
   "id": "2ad6b7fa",
   "metadata": {},
   "outputs": [
    {
     "name": "stdout",
     "output_type": "stream",
     "text": [
      "Your are eligible to vote\n"
     ]
    }
   ],
   "source": [
    "#if statements\n",
    "age=18\n",
    "if age>=18:\n",
    "    print(\"Your are eligible to vote\")"
   ]
  },
  {
   "cell_type": "code",
   "execution_count": 12,
   "id": "8b9c5242",
   "metadata": {},
   "outputs": [
    {
     "name": "stdout",
     "output_type": "stream",
     "text": [
      "Your are not eligible vote\n"
     ]
    }
   ],
   "source": [
    "age=17\n",
    "if age>=18:\n",
    "    print(\"Your are eligible vote\")\n",
    "else:\n",
    "     print(\"Your are not eligible vote\")"
   ]
  },
  {
   "cell_type": "code",
   "execution_count": 15,
   "id": "e5ad32a4",
   "metadata": {},
   "outputs": [
    {
     "name": "stdout",
     "output_type": "stream",
     "text": [
      "Enter your age \n",
      "18\n"
     ]
    }
   ],
   "source": [
    "age=int(input(\"Enter your age \\n\"))"
   ]
  },
  {
   "cell_type": "code",
   "execution_count": 17,
   "id": "c9a153d5",
   "metadata": {},
   "outputs": [
    {
     "name": "stdout",
     "output_type": "stream",
     "text": [
      "Enter your age :36\n"
     ]
    }
   ],
   "source": [
    "#Task\n",
    "# if the age 18 greater than equal and less tha 45\n",
    "# your a young blood\n",
    "age=int(input(\"Enter your age :\"))"
   ]
  },
  {
   "cell_type": "code",
   "execution_count": 19,
   "id": "c1396951",
   "metadata": {},
   "outputs": [
    {
     "name": "stdout",
     "output_type": "stream",
     "text": [
      "You are a young blood\n"
     ]
    }
   ],
   "source": [
    "if age>=18 and age<=45:\n",
    "    print(\"You are young blood\")"
   ]
  },
  {
   "cell_type": "code",
   "execution_count": 20,
   "id": "176caba9",
   "metadata": {},
   "outputs": [
    {
     "name": "stdout",
     "output_type": "stream",
     "text": [
      "You are young blood\n"
     ]
    }
   ],
   "source": [
    "#if ..else statements\n",
    "if age>=18 and age<=45:\n",
    "    print(\"You are young blood\")\n",
    "else:\n",
    "    print(\"Thank you your we will let you know\")"
   ]
  },
  {
   "cell_type": "code",
   "execution_count": 21,
   "id": "aea97e7a",
   "metadata": {},
   "outputs": [],
   "source": [
    "#mall\n",
    "#product >1000 20% off\n",
    "#product <=1000 30% off\n",
    "#discount 10%"
   ]
  },
  {
   "cell_type": "code",
   "execution_count": 22,
   "id": "20c98cc9",
   "metadata": {},
   "outputs": [
    {
     "name": "stdout",
     "output_type": "stream",
     "text": [
      "Enter a product price :1000\n"
     ]
    }
   ],
   "source": [
    "productPrice=int(input(\"Enter a product price :\"))"
   ]
  },
  {
   "cell_type": "code",
   "execution_count": 25,
   "id": "ef954beb",
   "metadata": {},
   "outputs": [
    {
     "name": "stdout",
     "output_type": "stream",
     "text": [
      "Your are getting 30% offer 699.79\n"
     ]
    }
   ],
   "source": [
    "if productPrice>1000:\n",
    "    productPrice=productPrice-(productPrice*(20/100))\n",
    "    print(f\"Your are getting 20% offer {productPrice}\")\n",
    "elif productPrice<=1000:\n",
    "    productPrice=productPrice-(productPrice*(30/100))\n",
    "    print(f\"Your are getting 30% offer {productPrice}\")\n",
    "else:\n",
    "    productPrice=productPrice-(productPrice*(10/100))\n",
    "    print(f\"Your are getting 10% offer {productPrice}\")"
   ]
  },
  {
   "cell_type": "code",
   "execution_count": 26,
   "id": "7e8f32b2",
   "metadata": {},
   "outputs": [],
   "source": [
    "#looping statements\n",
    "#1.while loop\n",
    "#2.for loop\n",
    "#3.nested loops\n",
    "#4.loop control (break,continue and pass)"
   ]
  },
  {
   "cell_type": "code",
   "execution_count": 27,
   "id": "383da7e8",
   "metadata": {},
   "outputs": [],
   "source": [
    "#while condition:\n",
    "    # body of while loop"
   ]
  },
  {
   "cell_type": "code",
   "execution_count": 31,
   "id": "9f44d800",
   "metadata": {},
   "outputs": [
    {
     "name": "stdout",
     "output_type": "stream",
     "text": [
      "25\n",
      "26\n",
      "27\n",
      "28\n",
      "29\n",
      "30\n",
      "31\n",
      "32\n",
      "33\n",
      "34\n",
      "35\n",
      "36\n",
      "37\n",
      "38\n",
      "39\n",
      "40\n",
      "41\n",
      "42\n",
      "43\n",
      "44\n",
      "45\n",
      "46\n",
      "47\n",
      "48\n",
      "49\n",
      "50\n",
      "51\n",
      "52\n",
      "53\n",
      "54\n",
      "55\n",
      "56\n",
      "57\n",
      "58\n",
      "59\n",
      "60\n",
      "Its time to retirement\n"
     ]
    }
   ],
   "source": [
    "joing_age=25\n",
    "while joing_age<=60:\n",
    "    print(joing_age)\n",
    "    joing_age=joing_age+1\n",
    "else:\n",
    "    print(\"Its time to retirement\")"
   ]
  },
  {
   "cell_type": "code",
   "execution_count": 34,
   "id": "b45a49d4",
   "metadata": {},
   "outputs": [
    {
     "name": "stdout",
     "output_type": "stream",
     "text": [
      "1000\n",
      "900\n",
      "800\n",
      "700\n",
      "600\n",
      "500\n",
      "400\n",
      "300\n",
      "200\n",
      "100\n",
      "put more money for bank people\n"
     ]
    }
   ],
   "source": [
    "#Atm machine with 1000 rs\n",
    "total_amount=1000\n",
    "while total_amount!=0:\n",
    "    print(total_amount)\n",
    "    total_amount=total_amount-100\n",
    "else:\n",
    "    print(\"put more money for bank people\")"
   ]
  },
  {
   "cell_type": "code",
   "execution_count": 35,
   "id": "7c10edce",
   "metadata": {},
   "outputs": [],
   "source": [
    "#for loop statement\n",
    "myList=[1,2,3,\"banana\",\"apple\",\"khadar\"]"
   ]
  },
  {
   "cell_type": "code",
   "execution_count": 36,
   "id": "fb139dc3",
   "metadata": {},
   "outputs": [
    {
     "data": {
      "text/plain": [
       "'banana'"
      ]
     },
     "execution_count": 36,
     "metadata": {},
     "output_type": "execute_result"
    }
   ],
   "source": [
    "myList[3]"
   ]
  },
  {
   "cell_type": "code",
   "execution_count": 38,
   "id": "d25bc6ff",
   "metadata": {},
   "outputs": [
    {
     "name": "stdout",
     "output_type": "stream",
     "text": [
      "1\n",
      "2\n",
      "3\n",
      "banana\n",
      "apple\n",
      "khadar\n"
     ]
    }
   ],
   "source": [
    "for i in myList:\n",
    "    print(i)"
   ]
  },
  {
   "cell_type": "code",
   "execution_count": 39,
   "id": "f53d40da",
   "metadata": {},
   "outputs": [
    {
     "name": "stdout",
     "output_type": "stream",
     "text": [
      "cherry\n",
      "banana\n",
      "mango\n",
      "apple\n"
     ]
    }
   ],
   "source": [
    "fruits_list=[\"cherry\",\"banana\",\"mango\",\"apple\"]\n",
    "for x in fruits_list:\n",
    "    print(x)"
   ]
  },
  {
   "cell_type": "code",
   "execution_count": 42,
   "id": "4c3712db",
   "metadata": {},
   "outputs": [
    {
     "name": "stdout",
     "output_type": "stream",
     "text": [
      "mango"
     ]
    }
   ],
   "source": [
    "fruit='mango'\n",
    "for i in fruit:\n",
    "    print(i,end='')"
   ]
  },
  {
   "cell_type": "code",
   "execution_count": 45,
   "id": "0348f47e",
   "metadata": {},
   "outputs": [
    {
     "name": "stdout",
     "output_type": "stream",
     "text": [
      "1\n",
      "2\n",
      "3\n",
      "4\n",
      "5\n"
     ]
    }
   ],
   "source": [
    "#range(start,stop,step)\n",
    "for i in range(1,6,1):\n",
    "    print(i)"
   ]
  },
  {
   "cell_type": "code",
   "execution_count": 47,
   "id": "a9f66e71",
   "metadata": {},
   "outputs": [
    {
     "name": "stdout",
     "output_type": "stream",
     "text": [
      "1\n",
      "3\n",
      "5\n",
      "7\n",
      "9\n"
     ]
    }
   ],
   "source": [
    "for i in range(1,10,2):\n",
    "    print(i)"
   ]
  },
  {
   "cell_type": "code",
   "execution_count": 54,
   "id": "83a23513",
   "metadata": {},
   "outputs": [
    {
     "name": "stdout",
     "output_type": "stream",
     "text": [
      "*\r\n",
      "**\r\n",
      "***\r\n",
      "****\r\n",
      "*****\r\n",
      "******\r\n",
      "*******\r\n"
     ]
    }
   ],
   "source": [
    "n=7\n",
    "for i in range(0,n):\n",
    "    for j in range(0,i+1):\n",
    "        print(\"*\",end=\"\")\n",
    "    print(\"\\r\")"
   ]
  },
  {
   "cell_type": "code",
   "execution_count": 57,
   "id": "35b24430",
   "metadata": {},
   "outputs": [],
   "source": [
    "#loop controls\n",
    "#break,continue and pass"
   ]
  },
  {
   "cell_type": "code",
   "execution_count": 61,
   "id": "0c248304",
   "metadata": {},
   "outputs": [
    {
     "name": "stdout",
     "output_type": "stream",
     "text": [
      "cherry\n",
      "banana\n",
      "mango\n",
      "it's a fruit\n"
     ]
    }
   ],
   "source": [
    "fruits_list=[\"cherry\",\"banana\",\"mango\",\"apple\"]\n",
    "for i in fruits_list:\n",
    "    if i==\"apple\":\n",
    "        print(\"it's a fruit\")\n",
    "        break\n",
    "    print(i)"
   ]
  },
  {
   "cell_type": "code",
   "execution_count": 62,
   "id": "296868ce",
   "metadata": {},
   "outputs": [
    {
     "name": "stdout",
     "output_type": "stream",
     "text": [
      "cherry\n",
      "banana\n",
      "mango\n",
      "it's a fruit\n",
      "apple\n"
     ]
    }
   ],
   "source": [
    "for i in fruits_list:\n",
    "    if i==\"apple\":\n",
    "        print(\"it's a fruit\")\n",
    "        pass\n",
    "    print(i)"
   ]
  },
  {
   "cell_type": "code",
   "execution_count": 64,
   "id": "78dd735a",
   "metadata": {},
   "outputs": [
    {
     "name": "stdout",
     "output_type": "stream",
     "text": [
      "cherry\n",
      "it's a fruit\n",
      "mango\n",
      "apple\n"
     ]
    }
   ],
   "source": [
    "for i in fruits_list:\n",
    "    if i==\"banana\":\n",
    "        print(\"it's a fruit\")\n",
    "        continue\n",
    "    print(i)"
   ]
  },
  {
   "cell_type": "code",
   "execution_count": null,
   "id": "d460bf7c",
   "metadata": {},
   "outputs": [],
   "source": []
  }
 ],
 "metadata": {
  "kernelspec": {
   "display_name": "Python 3 (ipykernel)",
   "language": "python",
   "name": "python3"
  },
  "language_info": {
   "codemirror_mode": {
    "name": "ipython",
    "version": 3
   },
   "file_extension": ".py",
   "mimetype": "text/x-python",
   "name": "python",
   "nbconvert_exporter": "python",
   "pygments_lexer": "ipython3",
   "version": "3.9.13"
  }
 },
 "nbformat": 4,
 "nbformat_minor": 5
}
