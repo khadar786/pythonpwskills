{
 "cells": [
  {
   "cell_type": "code",
   "execution_count": 1,
   "id": "3e59cb9d",
   "metadata": {},
   "outputs": [],
   "source": [
    "#Agenda :: OOPS"
   ]
  },
  {
   "cell_type": "code",
   "execution_count": 23,
   "id": "e1996f7c",
   "metadata": {},
   "outputs": [],
   "source": [
    "#Class is a classification of real world data\n",
    "#Object is a nothing but a variable of class\n",
    "#__init__ constructor or inbuilt method in function"
   ]
  },
  {
   "cell_type": "code",
   "execution_count": 5,
   "id": "0598000e",
   "metadata": {},
   "outputs": [],
   "source": [
    "class bankaccount:\n",
    "    \n",
    "    def openaccount(self,name,email_id):\n",
    "        print(\"open an account by taking name and mail id\")\n",
    "        return name+email_id\n",
    "    \n",
    "    def deposite(self,amount):\n",
    "        print(\"i am trying to deposite an amount in my account\")\n",
    "    \n",
    "    def withdraw(self,amt_with):\n",
    "        print(\"withdraw the amount\")\n",
    "    \n",
    "    def update_details(self,name_update,emid_update):\n",
    "        print(\"this function will update my name and mail if for account\")"
   ]
  },
  {
   "cell_type": "code",
   "execution_count": 9,
   "id": "476c923a",
   "metadata": {},
   "outputs": [],
   "source": [
    "sudh=bankaccount()"
   ]
  },
  {
   "cell_type": "code",
   "execution_count": 10,
   "id": "9ebdfbcf",
   "metadata": {},
   "outputs": [
    {
     "name": "stdout",
     "output_type": "stream",
     "text": [
      "open an account by taking name and mail id\n"
     ]
    },
    {
     "data": {
      "text/plain": [
       "'khadarkhadar@gmail.com'"
      ]
     },
     "execution_count": 10,
     "metadata": {},
     "output_type": "execute_result"
    }
   ],
   "source": [
    "sudh.openaccount(\"khadar\",\"khadar@gmail.com\")"
   ]
  },
  {
   "cell_type": "code",
   "execution_count": 15,
   "id": "a5fbc498",
   "metadata": {},
   "outputs": [],
   "source": [
    "class list_ops:\n",
    "    #a=10\n",
    "    #l=[1,2,3,4,5,6,7,8,9,10,20,19]\n",
    "    \n",
    "    #inbuilt function or gundar function\n",
    "    def __init__(self,l):\n",
    "        self.l=l\n",
    "        \n",
    "    def extractfromindex(self,l,index):\n",
    "        return l[index]\n",
    "    \n",
    "    def extractrangedata(self,l,start,end):\n",
    "        return l[start:end];\n",
    "    \n",
    "    def extracteven(self,l):\n",
    "        l1=[]\n",
    "        for i in l:\n",
    "            if i%2==0:\n",
    "                l1.append(i)\n",
    "        return l1\n",
    "    \n",
    "    "
   ]
  },
  {
   "cell_type": "code",
   "execution_count": 16,
   "id": "fa40ab9a",
   "metadata": {},
   "outputs": [],
   "source": [
    "second_obj=list_ops([2,3,4,5,6])"
   ]
  },
  {
   "cell_type": "code",
   "execution_count": 17,
   "id": "f032f6b7",
   "metadata": {},
   "outputs": [
    {
     "data": {
      "text/plain": [
       "[2, 3, 4, 5, 6]"
      ]
     },
     "execution_count": 17,
     "metadata": {},
     "output_type": "execute_result"
    }
   ],
   "source": [
    "second_obj.l"
   ]
  },
  {
   "cell_type": "code",
   "execution_count": null,
   "id": "cb102890",
   "metadata": {},
   "outputs": [],
   "source": []
  },
  {
   "cell_type": "code",
   "execution_count": 9,
   "id": "befac16a",
   "metadata": {},
   "outputs": [],
   "source": [
    "l=[4,5,6,7,7]"
   ]
  },
  {
   "cell_type": "code",
   "execution_count": 10,
   "id": "af7b9a87",
   "metadata": {},
   "outputs": [],
   "source": [
    "first_obj=list_ops()"
   ]
  },
  {
   "cell_type": "code",
   "execution_count": 11,
   "id": "795ec11b",
   "metadata": {},
   "outputs": [
    {
     "data": {
      "text/plain": [
       "6"
      ]
     },
     "execution_count": 11,
     "metadata": {},
     "output_type": "execute_result"
    }
   ],
   "source": [
    "first_obj.extractfromindex([2,3,4,5,6],4)"
   ]
  },
  {
   "cell_type": "code",
   "execution_count": 12,
   "id": "7c31197c",
   "metadata": {},
   "outputs": [
    {
     "data": {
      "text/plain": [
       "[2, 34, 5, 6]"
      ]
     },
     "execution_count": 12,
     "metadata": {},
     "output_type": "execute_result"
    }
   ],
   "source": [
    "first_obj.extractrangedata([2,34,5,6,7,8],0,4)"
   ]
  },
  {
   "cell_type": "code",
   "execution_count": 13,
   "id": "d903156d",
   "metadata": {},
   "outputs": [
    {
     "data": {
      "text/plain": [
       "[2, 4, 6, 8, 10, 20]"
      ]
     },
     "execution_count": 13,
     "metadata": {},
     "output_type": "execute_result"
    }
   ],
   "source": [
    "first_obj.extracteven(first_obj.l)"
   ]
  },
  {
   "cell_type": "code",
   "execution_count": 14,
   "id": "8e18b8ec",
   "metadata": {},
   "outputs": [
    {
     "data": {
      "text/plain": [
       "10"
      ]
     },
     "execution_count": 14,
     "metadata": {},
     "output_type": "execute_result"
    }
   ],
   "source": [
    "first_obj.a"
   ]
  },
  {
   "cell_type": "code",
   "execution_count": 24,
   "id": "51116af6",
   "metadata": {},
   "outputs": [],
   "source": [
    "class list_ops:\n",
    "    #a=10\n",
    "    #l=[1,2,3,4,5,6,7,8,9,10,20,19]\n",
    "    \n",
    "    #inbuilt function or gundar function\n",
    "    def __init__(self,l):\n",
    "        self.l=l\n",
    "        self.l2=40\n",
    "        self.l3=\"sudh\"\n",
    "        self.l4=(10,20,30)\n",
    "        self.l5={\"key\":\"value\"}\n",
    "        \n",
    "    def extractfromindex(self,l,index):\n",
    "        return l[index]\n",
    "    \n",
    "    def extractrangedata(self,l,start,end):\n",
    "        return l[start:end];\n",
    "    \n",
    "    def extracteven(self,l):\n",
    "        l1=[]\n",
    "        for i in l:\n",
    "            if i%2==0:\n",
    "                l1.append(i)\n",
    "        return l1"
   ]
  },
  {
   "cell_type": "code",
   "execution_count": 25,
   "id": "8d4a1ebb",
   "metadata": {},
   "outputs": [
    {
     "data": {
      "text/plain": [
       "[2, 3, 4, 5, 6]"
      ]
     },
     "execution_count": 25,
     "metadata": {},
     "output_type": "execute_result"
    }
   ],
   "source": [
    "second_obj=list_ops([2,3,4,5,6])\n",
    "second_obj.l"
   ]
  },
  {
   "cell_type": "code",
   "execution_count": 26,
   "id": "762f6ef2",
   "metadata": {},
   "outputs": [
    {
     "data": {
      "text/plain": [
       "(10, 20, 30)"
      ]
     },
     "execution_count": 26,
     "metadata": {},
     "output_type": "execute_result"
    }
   ],
   "source": [
    "second_obj.l4"
   ]
  },
  {
   "cell_type": "code",
   "execution_count": 27,
   "id": "4ff248a6",
   "metadata": {},
   "outputs": [],
   "source": [
    "class book:\n",
    "    \n",
    "    def __init__(self,name,title,pageno):\n",
    "        self.name_of_book=name\n",
    "        self.title_of_book=title\n",
    "        self.page_no=pageno\n",
    "    \n",
    "    def extract_details(self):\n",
    "        print(self.name_of_book,self.title_of_book)\n",
    "        \n",
    "    def print_page_no(self):\n",
    "        print(self.page_no)\n",
    "    \n",
    "    \n",
    "    "
   ]
  },
  {
   "cell_type": "code",
   "execution_count": 29,
   "id": "5d0ff09c",
   "metadata": {},
   "outputs": [],
   "source": [
    "sudhanshu=book('DSA','practical dsa',456)\n",
    "ronik=book('data science','implementation of data science',345)\n",
    "wasim=book('big data','invention with big data',434)"
   ]
  },
  {
   "cell_type": "code",
   "execution_count": 30,
   "id": "14302329",
   "metadata": {},
   "outputs": [
    {
     "name": "stdout",
     "output_type": "stream",
     "text": [
      "DSA practical dsa\n"
     ]
    }
   ],
   "source": [
    "sudhanshu.extract_details()"
   ]
  },
  {
   "cell_type": "code",
   "execution_count": 31,
   "id": "5e7e544a",
   "metadata": {},
   "outputs": [
    {
     "name": "stdout",
     "output_type": "stream",
     "text": [
      "data science implementation of data science\n"
     ]
    }
   ],
   "source": [
    "ronik.extract_details()"
   ]
  },
  {
   "cell_type": "code",
   "execution_count": 32,
   "id": "96e94249",
   "metadata": {},
   "outputs": [
    {
     "name": "stdout",
     "output_type": "stream",
     "text": [
      "big data invention with big data\n"
     ]
    }
   ],
   "source": [
    "wasim.extract_details()"
   ]
  },
  {
   "cell_type": "code",
   "execution_count": 33,
   "id": "f1575cfd",
   "metadata": {},
   "outputs": [],
   "source": [
    "class gmail_ops:\n",
    "    def __init__(self,userid,password):\n",
    "        self.userid=userid\n",
    "        self.password=password\n",
    "        self.url=\"https://mail.google.com/mail/u/0/#inbox\"\n",
    "        \n",
    "    def login(self):\n",
    "        print(\"take userid \"+self.userid+\" take password \"+self.password+\" hit url \"+self.url)\n",
    "        print(\"login\")\n",
    "    \n",
    "    def read_mail(self):\n",
    "        print(\"read mail for \"+selef.userid+\" \"+self.password)\n",
    "    \n",
    "    def replay_mail(self):\n",
    "        print(\"replay mail for \"+self.userid+\" \"+self.password)"
   ]
  },
  {
   "cell_type": "code",
   "execution_count": 35,
   "id": "43a9aade",
   "metadata": {},
   "outputs": [
    {
     "name": "stdout",
     "output_type": "stream",
     "text": [
      "take userid user1 take password user1pass hit url https://mail.google.com/mail/u/0/#inbox\n",
      "login\n"
     ]
    }
   ],
   "source": [
    "user1=gmail_ops(\"user1\",\"user1pass\")\n",
    "user1.login()"
   ]
  },
  {
   "cell_type": "code",
   "execution_count": 36,
   "id": "cd5845b7",
   "metadata": {},
   "outputs": [
    {
     "name": "stdout",
     "output_type": "stream",
     "text": [
      "take userid user2 take password user2pass hit url https://mail.google.com/mail/u/0/#inbox\n",
      "login\n"
     ]
    }
   ],
   "source": [
    "user2=gmail_ops(\"user2\",\"user2pass\")\n",
    "user2.login()"
   ]
  },
  {
   "cell_type": "code",
   "execution_count": 40,
   "id": "7ae84f05",
   "metadata": {},
   "outputs": [],
   "source": [
    "class calculator:\n",
    "    def __init__(self,a,b):\n",
    "        self.a=a\n",
    "        self.b=b\n",
    "        \n",
    "    def addition(self):\n",
    "        return self.a+self.b\n",
    "    \n",
    "    def multipliation(self):\n",
    "        return self.a*self.b\n",
    "    \n",
    "    def division(self):\n",
    "        return self.a/self.b\n",
    "    \n",
    "    def subtraction(self):\n",
    "        return self.a-self.b\n",
    "    "
   ]
  },
  {
   "cell_type": "code",
   "execution_count": 41,
   "id": "dae46333",
   "metadata": {},
   "outputs": [],
   "source": [
    "user1=calculator(10,5)"
   ]
  },
  {
   "cell_type": "code",
   "execution_count": 42,
   "id": "d3cfc39c",
   "metadata": {},
   "outputs": [
    {
     "data": {
      "text/plain": [
       "15"
      ]
     },
     "execution_count": 42,
     "metadata": {},
     "output_type": "execute_result"
    }
   ],
   "source": [
    "user1.addition()"
   ]
  },
  {
   "cell_type": "code",
   "execution_count": 55,
   "id": "80c9f708",
   "metadata": {},
   "outputs": [],
   "source": [
    "from functools import reduce\n",
    "\n",
    "class calculator:\n",
    "    \n",
    "    def __init__(self,username):\n",
    "        self.username=username\n",
    "        \n",
    "    def add(self,*args):\n",
    "        return self.username,sum(args)\n",
    "    \n",
    "    def subtraction(self,*args):\n",
    "        return self.username,reduce(lambda a,b:a-b,args)\n",
    "    \n",
    "    def mul(self,*args):\n",
    "        return self.username,reduce(lambda a,b:a*b,args)\n",
    "    \n",
    "    def div(self,*args):\n",
    "        return self.username,reduce(lambda a,b:a/b,args)"
   ]
  },
  {
   "cell_type": "code",
   "execution_count": 56,
   "id": "7d805805",
   "metadata": {},
   "outputs": [],
   "source": [
    "khadar=calculator(\"khadar\")\n"
   ]
  },
  {
   "cell_type": "code",
   "execution_count": 57,
   "id": "39180148",
   "metadata": {},
   "outputs": [
    {
     "data": {
      "text/plain": [
       "('khadar', 33)"
      ]
     },
     "execution_count": 57,
     "metadata": {},
     "output_type": "execute_result"
    }
   ],
   "source": [
    "khadar.add(3,4,5,6,7,8)"
   ]
  },
  {
   "cell_type": "code",
   "execution_count": 58,
   "id": "1d34599e",
   "metadata": {},
   "outputs": [
    {
     "data": {
      "text/plain": [
       "('khadar', -12)"
      ]
     },
     "execution_count": 58,
     "metadata": {},
     "output_type": "execute_result"
    }
   ],
   "source": [
    "khadar.subtraction(2,3,5,6)"
   ]
  },
  {
   "cell_type": "code",
   "execution_count": 59,
   "id": "adfeb696",
   "metadata": {},
   "outputs": [
    {
     "data": {
      "text/plain": [
       "('khadar', 6000)"
      ]
     },
     "execution_count": 59,
     "metadata": {},
     "output_type": "execute_result"
    }
   ],
   "source": [
    "khadar.mul(10,20,30)"
   ]
  },
  {
   "cell_type": "code",
   "execution_count": 54,
   "id": "2cdf3f28",
   "metadata": {},
   "outputs": [
    {
     "data": {
      "text/plain": [
       "1.0"
      ]
     },
     "execution_count": 54,
     "metadata": {},
     "output_type": "execute_result"
    }
   ],
   "source": [
    "khadar.div(10,2,5)"
   ]
  },
  {
   "cell_type": "code",
   "execution_count": null,
   "id": "f258c14d",
   "metadata": {},
   "outputs": [],
   "source": []
  }
 ],
 "metadata": {
  "kernelspec": {
   "display_name": "Python 3 (ipykernel)",
   "language": "python",
   "name": "python3"
  },
  "language_info": {
   "codemirror_mode": {
    "name": "ipython",
    "version": 3
   },
   "file_extension": ".py",
   "mimetype": "text/x-python",
   "name": "python",
   "nbconvert_exporter": "python",
   "pygments_lexer": "ipython3",
   "version": "3.9.13"
  }
 },
 "nbformat": 4,
 "nbformat_minor": 5
}
