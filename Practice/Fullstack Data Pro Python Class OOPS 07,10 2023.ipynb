{
 "cells": [
  {
   "cell_type": "code",
   "execution_count": 38,
   "id": "9e23a3f3",
   "metadata": {},
   "outputs": [],
   "source": [
    "#Agenda\n",
    "#inheritance,method overloading,method overriding\n",
    "\n",
    "#Multi label inheritance (Grand Parents ->Parents ->Childrens)\n",
    "#Multiple Inheritance (Father,Mother ->Child)"
   ]
  },
  {
   "cell_type": "code",
   "execution_count": 9,
   "id": "408da47f",
   "metadata": {},
   "outputs": [],
   "source": [
    "class a:\n",
    "    \n",
    "    def test(self):\n",
    "        print(\"this test method is a part of class a\")\n",
    "        \n",
    "    def test1(self):\n",
    "        print(\"this is test1 from class a\")"
   ]
  },
  {
   "cell_type": "code",
   "execution_count": 10,
   "id": "64aeb565",
   "metadata": {},
   "outputs": [],
   "source": [
    "obj_a=a()"
   ]
  },
  {
   "cell_type": "code",
   "execution_count": 11,
   "id": "73389863",
   "metadata": {},
   "outputs": [
    {
     "name": "stdout",
     "output_type": "stream",
     "text": [
      "this test method is a part of class a\n"
     ]
    }
   ],
   "source": [
    "obj_a.test();"
   ]
  },
  {
   "cell_type": "code",
   "execution_count": 16,
   "id": "24152e0a",
   "metadata": {},
   "outputs": [],
   "source": [
    "class b(a):\n",
    "    def test1b(self):\n",
    "        print(\"this is a part of class b\")"
   ]
  },
  {
   "cell_type": "code",
   "execution_count": 17,
   "id": "53e61b0e",
   "metadata": {},
   "outputs": [],
   "source": [
    "obj_b=b()"
   ]
  },
  {
   "cell_type": "code",
   "execution_count": 18,
   "id": "7375295b",
   "metadata": {},
   "outputs": [
    {
     "name": "stdout",
     "output_type": "stream",
     "text": [
      "this test method is a part of class a\n"
     ]
    }
   ],
   "source": [
    "obj_b.test()"
   ]
  },
  {
   "cell_type": "code",
   "execution_count": 19,
   "id": "5a2e1cc0",
   "metadata": {},
   "outputs": [
    {
     "name": "stdout",
     "output_type": "stream",
     "text": [
      "this is test1 from class a\n"
     ]
    }
   ],
   "source": [
    "obj_b.test1()"
   ]
  },
  {
   "cell_type": "code",
   "execution_count": 20,
   "id": "a9ca8fe7",
   "metadata": {},
   "outputs": [
    {
     "name": "stdout",
     "output_type": "stream",
     "text": [
      "this is a part of class b\n"
     ]
    }
   ],
   "source": [
    "obj_b.test1b()"
   ]
  },
  {
   "cell_type": "code",
   "execution_count": 21,
   "id": "575b6ec0",
   "metadata": {},
   "outputs": [],
   "source": [
    "class lecture:\n",
    "    \n",
    "    def topic(self):\n",
    "        print(\"todays class we are discussing about inheritance concept in oops\")\n",
    "    \n",
    "    def timing(self):\n",
    "        print(\"timing for todays class is 9 AM IST\")\n",
    "    \n",
    "    def end_time(self):\n",
    "        print(\"today i will try to end class bit early\")"
   ]
  },
  {
   "cell_type": "code",
   "execution_count": 22,
   "id": "3195be2d",
   "metadata": {},
   "outputs": [],
   "source": [
    "class student(lecture):\n",
    "    \n",
    "    def student_details(self):\n",
    "        print(\"this class will give you a student details\")"
   ]
  },
  {
   "cell_type": "code",
   "execution_count": 23,
   "id": "43e75e01",
   "metadata": {},
   "outputs": [],
   "source": [
    "naval=student()"
   ]
  },
  {
   "cell_type": "code",
   "execution_count": 24,
   "id": "30fb7b74",
   "metadata": {},
   "outputs": [
    {
     "name": "stdout",
     "output_type": "stream",
     "text": [
      "todays class we are discussing about inheritance concept in oops\n"
     ]
    }
   ],
   "source": [
    "naval.topic()"
   ]
  },
  {
   "cell_type": "code",
   "execution_count": 26,
   "id": "a3d5acf2",
   "metadata": {},
   "outputs": [
    {
     "name": "stdout",
     "output_type": "stream",
     "text": [
      "timing for todays class is 9 AM IST\n"
     ]
    }
   ],
   "source": [
    "satish=student()\n",
    "satish.timing()"
   ]
  },
  {
   "cell_type": "code",
   "execution_count": 27,
   "id": "487df6e5",
   "metadata": {},
   "outputs": [],
   "source": [
    "class teacher(student):\n",
    "    \n",
    "    def details(self):\n",
    "        print(\"this class will give you a details about teacher\")"
   ]
  },
  {
   "cell_type": "code",
   "execution_count": 28,
   "id": "d6c07630",
   "metadata": {},
   "outputs": [
    {
     "name": "stdout",
     "output_type": "stream",
     "text": [
      "timing for todays class is 9 AM IST\n"
     ]
    }
   ],
   "source": [
    "sudh=teacher()\n",
    "sudh.timing()"
   ]
  },
  {
   "cell_type": "code",
   "execution_count": 42,
   "id": "a05eedde",
   "metadata": {},
   "outputs": [],
   "source": [
    "#Multiple Inheritance"
   ]
  },
  {
   "cell_type": "code",
   "execution_count": 43,
   "id": "e7ae54dd",
   "metadata": {},
   "outputs": [],
   "source": [
    "class lecture:\n",
    "    \n",
    "    def topic(self):\n",
    "        print(\"todays class we are discussing about inheritance concept in oops\")\n",
    "    \n",
    "    def timing(self):\n",
    "        print(\"timing for todays class is 9 AM IST\")\n",
    "    \n",
    "    def end_time(self):\n",
    "        print(\"today i will try to end class bit early\")"
   ]
  },
  {
   "cell_type": "code",
   "execution_count": 39,
   "id": "ae0b807c",
   "metadata": {},
   "outputs": [],
   "source": [
    "class student:\n",
    "    \n",
    "    def student_details(self):\n",
    "        print(\"this class will give you a student details\")\n",
    "    \n",
    "    def timing(self):\n",
    "        print(\"this is a timing fun from studnet class\")"
   ]
  },
  {
   "cell_type": "code",
   "execution_count": 45,
   "id": "e0d8e75e",
   "metadata": {},
   "outputs": [],
   "source": [
    "class teacher(lecture,student):\n",
    "    \n",
    "    def details(self):\n",
    "        print(\"this class will give you a details about teacher\")"
   ]
  },
  {
   "cell_type": "code",
   "execution_count": 46,
   "id": "dc476bcd",
   "metadata": {},
   "outputs": [],
   "source": [
    "krish=teacher()"
   ]
  },
  {
   "cell_type": "code",
   "execution_count": 47,
   "id": "dcdb8a2d",
   "metadata": {},
   "outputs": [
    {
     "name": "stdout",
     "output_type": "stream",
     "text": [
      "timing for todays class is 9 AM IST\n"
     ]
    }
   ],
   "source": [
    "krish.timing()"
   ]
  },
  {
   "cell_type": "code",
   "execution_count": 37,
   "id": "e47a4975",
   "metadata": {},
   "outputs": [
    {
     "name": "stdout",
     "output_type": "stream",
     "text": [
      "this class will give you a student details\n"
     ]
    }
   ],
   "source": [
    "krish.student_details()"
   ]
  },
  {
   "cell_type": "code",
   "execution_count": 48,
   "id": "d1e47c14",
   "metadata": {},
   "outputs": [],
   "source": [
    "#https://github.com/sudh9931/opps_assignment/tree/main"
   ]
  },
  {
   "cell_type": "code",
   "execution_count": null,
   "id": "e2093b1c",
   "metadata": {},
   "outputs": [],
   "source": []
  }
 ],
 "metadata": {
  "kernelspec": {
   "display_name": "Python 3 (ipykernel)",
   "language": "python",
   "name": "python3"
  },
  "language_info": {
   "codemirror_mode": {
    "name": "ipython",
    "version": 3
   },
   "file_extension": ".py",
   "mimetype": "text/x-python",
   "name": "python",
   "nbconvert_exporter": "python",
   "pygments_lexer": "ipython3",
   "version": "3.9.13"
  }
 },
 "nbformat": 4,
 "nbformat_minor": 5
}
