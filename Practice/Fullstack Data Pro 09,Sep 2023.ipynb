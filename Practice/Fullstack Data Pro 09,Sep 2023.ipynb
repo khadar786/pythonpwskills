{
 "cells": [
  {
   "cell_type": "code",
   "execution_count": 1,
   "id": "c53389a3",
   "metadata": {},
   "outputs": [
    {
     "name": "stdout",
     "output_type": "stream",
     "text": [
      "today is  mon\n",
      "today is  tue\n",
      "today is  wed\n",
      "today is  thu\n",
      "today is  fri\n",
      "today is  sat\n",
      "today is  sun\n"
     ]
    }
   ],
   "source": [
    "days=0\n",
    "week=['mon','tue','wed','thu','fri','sat','sun']\n",
    "while days<7:\n",
    "    print(\"today is \",week[days])\n",
    "    days+=1"
   ]
  },
  {
   "cell_type": "code",
   "execution_count": 2,
   "id": "3dab8509",
   "metadata": {},
   "outputs": [],
   "source": [
    "x,y=10,20"
   ]
  },
  {
   "cell_type": "code",
   "execution_count": 3,
   "id": "7a2a3769",
   "metadata": {},
   "outputs": [
    {
     "name": "stdout",
     "output_type": "stream",
     "text": [
      "20\n"
     ]
    }
   ],
   "source": [
    "print(y)"
   ]
  },
  {
   "cell_type": "code",
   "execution_count": 4,
   "id": "424b8498",
   "metadata": {},
   "outputs": [
    {
     "name": "stdout",
     "output_type": "stream",
     "text": [
      "enter 3 word message \n",
      "welcome to pwskills\n"
     ]
    }
   ],
   "source": [
    "x=input(\"enter 3 word message \\n\")"
   ]
  },
  {
   "cell_type": "code",
   "execution_count": 5,
   "id": "8a7241d7",
   "metadata": {},
   "outputs": [],
   "source": [
    "w1,w2,w3=x.split(\" \")"
   ]
  },
  {
   "cell_type": "code",
   "execution_count": 6,
   "id": "ec7ec799",
   "metadata": {},
   "outputs": [
    {
     "name": "stdout",
     "output_type": "stream",
     "text": [
      "pwskills\n"
     ]
    }
   ],
   "source": [
    "print(w3)"
   ]
  },
  {
   "cell_type": "code",
   "execution_count": 7,
   "id": "5f9ef1c6",
   "metadata": {},
   "outputs": [
    {
     "name": "stdout",
     "output_type": "stream",
     "text": [
      "enter 2 numbers 10 20\n",
      "30\n"
     ]
    }
   ],
   "source": [
    "a,b=input(\"enter 2 numbers \").split()\n",
    "c=int(a)+int(b)\n",
    "print(c)"
   ]
  },
  {
   "cell_type": "code",
   "execution_count": 8,
   "id": "769186a4",
   "metadata": {},
   "outputs": [
    {
     "name": "stdout",
     "output_type": "stream",
     "text": [
      "['A', 'B', 'C D E F']\n"
     ]
    }
   ],
   "source": [
    "s1='A B C D E F'\n",
    "print(s1.split(' ',2))"
   ]
  },
  {
   "cell_type": "code",
   "execution_count": 16,
   "id": "2f15d9b5",
   "metadata": {},
   "outputs": [
    {
     "data": {
      "text/plain": [
       "['HI', 'HI', 'HI', 'HI']"
      ]
     },
     "execution_count": 16,
     "metadata": {},
     "output_type": "execute_result"
    }
   ],
   "source": [
    "s1='HI@HI@HI@HI'\n",
    "s1.split('@')"
   ]
  },
  {
   "cell_type": "code",
   "execution_count": 3,
   "id": "d9e8a3d7",
   "metadata": {},
   "outputs": [
    {
     "name": "stdout",
     "output_type": "stream",
     "text": [
      "10\n",
      "20\n",
      "30\n"
     ]
    }
   ],
   "source": [
    "numbers=[10,20,30,120,230]\n",
    "for i in numbers:\n",
    "    if i>100:\n",
    "        break\n",
    "    print(i)\n",
    "    "
   ]
  },
  {
   "cell_type": "code",
   "execution_count": 13,
   "id": "b18a5348",
   "metadata": {},
   "outputs": [
    {
     "name": "stdout",
     "output_type": "stream",
     "text": [
      "10\n",
      "20\n",
      "30\n"
     ]
    }
   ],
   "source": [
    "i=0\n",
    "while i<len(numbers):\n",
    "    if numbers[i]>100:\n",
    "        break\n",
    "    print(numbers[i])\n",
    "    i+=1\n",
    "else:\n",
    "    print(\"Break\")"
   ]
  },
  {
   "cell_type": "code",
   "execution_count": 11,
   "id": "0c8e2227",
   "metadata": {},
   "outputs": [
    {
     "name": "stdout",
     "output_type": "stream",
     "text": [
      "p\n",
      "w\n",
      "s\n",
      "k\n",
      "i\n",
      "s\n"
     ]
    }
   ],
   "source": [
    "for letter in \"pwskills\":\n",
    "    if letter == 'l':\n",
    "        continue\n",
    "    print(letter)"
   ]
  },
  {
   "cell_type": "code",
   "execution_count": 17,
   "id": "7ef64a1d",
   "metadata": {},
   "outputs": [
    {
     "name": "stdout",
     "output_type": "stream",
     "text": [
      "1\n",
      "3\n",
      "5\n",
      "7\n",
      "9\n"
     ]
    }
   ],
   "source": [
    "for i in range(1,10):\n",
    "    if i%2==0:\n",
    "        continue\n",
    "    print(i)"
   ]
  },
  {
   "cell_type": "code",
   "execution_count": 23,
   "id": "65dbffd2",
   "metadata": {},
   "outputs": [],
   "source": [
    "def fullname(a,b):\n",
    "    return a+\" \"+b"
   ]
  },
  {
   "cell_type": "code",
   "execution_count": 24,
   "id": "96e958f1",
   "metadata": {},
   "outputs": [],
   "source": [
    "fname=fullname('Khadar','Basha')"
   ]
  },
  {
   "cell_type": "code",
   "execution_count": 25,
   "id": "bbc85d9f",
   "metadata": {},
   "outputs": [
    {
     "name": "stdout",
     "output_type": "stream",
     "text": [
      "Khadar Basha\n"
     ]
    }
   ],
   "source": [
    "print(fname)"
   ]
  },
  {
   "cell_type": "code",
   "execution_count": 29,
   "id": "3e4264d4",
   "metadata": {},
   "outputs": [],
   "source": [
    "def findRadiusOfCircle(r):\n",
    "    return 3.14*r*r"
   ]
  },
  {
   "cell_type": "code",
   "execution_count": 30,
   "id": "8a41ceff",
   "metadata": {},
   "outputs": [
    {
     "name": "stdout",
     "output_type": "stream",
     "text": [
      "78.5\n"
     ]
    }
   ],
   "source": [
    "print(findRadiusOfCircle(5))"
   ]
  },
  {
   "cell_type": "code",
   "execution_count": 35,
   "id": "5ec6a0bc",
   "metadata": {},
   "outputs": [
    {
     "name": "stdout",
     "output_type": "stream",
     "text": [
      "Enter start number \n",
      "10\n",
      "Enter ending number \n",
      "100\n",
      "[10, 12, 14, 16, 18, 20, 22, 24, 26, 28, 30, 32, 34, 36, 38, 40, 42, 44, 46, 48, 50, 52, 54, 56, 58, 60, 62, 64, 66, 68, 70, 72, 74, 76, 78, 80, 82, 84, 86, 88, 90, 92, 94, 96, 98]\n"
     ]
    }
   ],
   "source": [
    "def print_even_numbers(start,end):\n",
    "    even_numbers=[]\n",
    "    for i in range(start,end):\n",
    "        if i%2==0:\n",
    "            even_numbers.append(i)\n",
    "    return even_numbers\n",
    "\n",
    "start=int(input(\"Enter start number \\n\"))\n",
    "end=int(input(\"Enter ending number \\n\"))\n",
    "even_numbers=print_even_numbers(start,end)\n",
    "print(even_numbers)"
   ]
  },
  {
   "cell_type": "code",
   "execution_count": 36,
   "id": "adae0ffd",
   "metadata": {},
   "outputs": [],
   "source": [
    "def greet():\n",
    "    message=\"Hello\"\n",
    "    print(\"Local \",message)"
   ]
  },
  {
   "cell_type": "code",
   "execution_count": 37,
   "id": "371630bc",
   "metadata": {},
   "outputs": [
    {
     "name": "stdout",
     "output_type": "stream",
     "text": [
      "Local  Hello\n"
     ]
    }
   ],
   "source": [
    "greet()"
   ]
  },
  {
   "cell_type": "code",
   "execution_count": 17,
   "id": "ec002255",
   "metadata": {},
   "outputs": [],
   "source": [
    "def validPassword(userPwd):\n",
    "    if len(userPwd)>=8 and len(userPwd)<=32 and (userPwd[0].isupper() or userPwd[0].islower()) and len([i for i in userPwd if i in [\"/\",\" \",\"'\",'\"',\"=\",'',\"\\/\"]])==0:\n",
    "        return True\n",
    "    else:\n",
    "        return False"
   ]
  },
  {
   "cell_type": "code",
   "execution_count": 19,
   "id": "08d1ac07",
   "metadata": {},
   "outputs": [
    {
     "data": {
      "text/plain": [
       "True"
      ]
     },
     "execution_count": 19,
     "metadata": {},
     "output_type": "execute_result"
    }
   ],
   "source": [
    "validPassword('gandhi786')"
   ]
  },
  {
   "cell_type": "code",
   "execution_count": 42,
   "id": "365601cc",
   "metadata": {},
   "outputs": [],
   "source": [
    "x=\"awesome\"\n",
    "\n",
    "def myfunc():\n",
    "    x=\"fantastic\"\n",
    "    print(\"python is \",x)"
   ]
  },
  {
   "cell_type": "code",
   "execution_count": 43,
   "id": "bb42f4e4",
   "metadata": {},
   "outputs": [
    {
     "name": "stdout",
     "output_type": "stream",
     "text": [
      "python is  fantastic\n"
     ]
    }
   ],
   "source": [
    "myfunc()"
   ]
  },
  {
   "cell_type": "code",
   "execution_count": 44,
   "id": "b043c607",
   "metadata": {},
   "outputs": [
    {
     "name": "stdout",
     "output_type": "stream",
     "text": [
      "awesome\n"
     ]
    }
   ],
   "source": [
    "print(x)"
   ]
  },
  {
   "cell_type": "code",
   "execution_count": 48,
   "id": "b010c11f",
   "metadata": {},
   "outputs": [],
   "source": [
    "#Python Function Arguments"
   ]
  },
  {
   "cell_type": "code",
   "execution_count": 49,
   "id": "235964d1",
   "metadata": {},
   "outputs": [],
   "source": [
    "def add(a,b):\n",
    "    return a+b"
   ]
  },
  {
   "cell_type": "code",
   "execution_count": 51,
   "id": "8e1045ab",
   "metadata": {},
   "outputs": [
    {
     "name": "stdout",
     "output_type": "stream",
     "text": [
      "Sum  30\n"
     ]
    }
   ],
   "source": [
    "print(\"Sum \",add(10,20))"
   ]
  },
  {
   "cell_type": "code",
   "execution_count": 52,
   "id": "3de437ad",
   "metadata": {},
   "outputs": [],
   "source": [
    "def empName(name):\n",
    "    print(\"My name is \",name)"
   ]
  },
  {
   "cell_type": "code",
   "execution_count": 53,
   "id": "a6f6b7b5",
   "metadata": {},
   "outputs": [
    {
     "name": "stdout",
     "output_type": "stream",
     "text": [
      "My name is  khadar\n"
     ]
    }
   ],
   "source": [
    "empName('khadar')"
   ]
  },
  {
   "cell_type": "code",
   "execution_count": 54,
   "id": "4d685f35",
   "metadata": {},
   "outputs": [],
   "source": [
    "def add_numbers(a=10,b=10):\n",
    "    return a+b"
   ]
  },
  {
   "cell_type": "code",
   "execution_count": 55,
   "id": "167d1189",
   "metadata": {},
   "outputs": [
    {
     "name": "stdout",
     "output_type": "stream",
     "text": [
      "Sum of a and b : 20\n"
     ]
    }
   ],
   "source": [
    "print(\"Sum of a and b :\",add_numbers())"
   ]
  },
  {
   "cell_type": "code",
   "execution_count": 56,
   "id": "8ca20e8a",
   "metadata": {},
   "outputs": [
    {
     "name": "stdout",
     "output_type": "stream",
     "text": [
      "Sum of a and b : 40\n"
     ]
    }
   ],
   "source": [
    "print(\"Sum of a and b :\",add_numbers(15,25))"
   ]
  },
  {
   "cell_type": "code",
   "execution_count": 57,
   "id": "48b95d76",
   "metadata": {},
   "outputs": [],
   "source": [
    "#keyword arguments"
   ]
  },
  {
   "cell_type": "code",
   "execution_count": 58,
   "id": "6f6f3e98",
   "metadata": {},
   "outputs": [],
   "source": [
    "def display_info(fname,lname):\n",
    "    print('First name ',fname)\n",
    "    print('Last name ',lname)"
   ]
  },
  {
   "cell_type": "code",
   "execution_count": 59,
   "id": "dc98c0fb",
   "metadata": {},
   "outputs": [
    {
     "name": "stdout",
     "output_type": "stream",
     "text": [
      "First name  khadar\n",
      "Last name  basha\n"
     ]
    }
   ],
   "source": [
    "display_info(fname='khadar',lname='basha')"
   ]
  },
  {
   "cell_type": "code",
   "execution_count": 60,
   "id": "21657b79",
   "metadata": {},
   "outputs": [],
   "source": [
    "#*args and **kargs"
   ]
  },
  {
   "cell_type": "code",
   "execution_count": 61,
   "id": "5d67a338",
   "metadata": {},
   "outputs": [],
   "source": [
    "def find_num(*numbers):\n",
    "    result=0\n",
    "    \n",
    "    for num in numbers:\n",
    "        result+=num\n",
    "    return result"
   ]
  },
  {
   "cell_type": "code",
   "execution_count": 62,
   "id": "069c9583",
   "metadata": {},
   "outputs": [
    {
     "data": {
      "text/plain": [
       "100"
      ]
     },
     "execution_count": 62,
     "metadata": {},
     "output_type": "execute_result"
    }
   ],
   "source": [
    "find_num(10,20,30,40)"
   ]
  },
  {
   "cell_type": "code",
   "execution_count": 79,
   "id": "05be3f06",
   "metadata": {},
   "outputs": [],
   "source": [
    "def intro(**data):\n",
    "    print(\"data type of argument \",type(data))\n",
    "    \n",
    "    for key,value in data.items():\n",
    "        print(key,value)"
   ]
  },
  {
   "cell_type": "code",
   "execution_count": 81,
   "id": "4161a691",
   "metadata": {},
   "outputs": [
    {
     "name": "stdout",
     "output_type": "stream",
     "text": [
      "data type of argument  <class 'dict'>\n",
      "name khadar\n",
      "age 37\n"
     ]
    }
   ],
   "source": [
    "intro(name='khadar',age=37)"
   ]
  },
  {
   "cell_type": "code",
   "execution_count": 82,
   "id": "582dbd92",
   "metadata": {},
   "outputs": [],
   "source": [
    "def simple(**x):\n",
    "    print(x)"
   ]
  },
  {
   "cell_type": "code",
   "execution_count": 83,
   "id": "6310a05a",
   "metadata": {},
   "outputs": [
    {
     "name": "stdout",
     "output_type": "stream",
     "text": [
      "{'a': 1, 'b': 1}\n"
     ]
    }
   ],
   "source": [
    "simple(a=1,b=1)"
   ]
  },
  {
   "cell_type": "code",
   "execution_count": 125,
   "id": "a5e9f5a8",
   "metadata": {},
   "outputs": [
    {
     "data": {
      "text/plain": [
       "['k', 'h', 'a', 'd', 'a', 'r']"
      ]
     },
     "execution_count": 125,
     "metadata": {},
     "output_type": "execute_result"
    }
   ],
   "source": [
    "userPwd=\"khadar\"\n",
    "[i for i in userPwd  if i not in []]"
   ]
  },
  {
   "cell_type": "code",
   "execution_count": 126,
   "id": "615cc693",
   "metadata": {},
   "outputs": [],
   "source": [
    "#lambda functions are anonymous"
   ]
  },
  {
   "cell_type": "code",
   "execution_count": 127,
   "id": "11a8124b",
   "metadata": {},
   "outputs": [],
   "source": [
    "#lambda arguments(s):expressions"
   ]
  },
  {
   "cell_type": "code",
   "execution_count": 128,
   "id": "c2b63924",
   "metadata": {},
   "outputs": [],
   "source": [
    "greet=lambda:print(\"Hello\")"
   ]
  },
  {
   "cell_type": "code",
   "execution_count": 129,
   "id": "112669cc",
   "metadata": {},
   "outputs": [
    {
     "name": "stdout",
     "output_type": "stream",
     "text": [
      "Hello\n"
     ]
    }
   ],
   "source": [
    "greet()"
   ]
  },
  {
   "cell_type": "code",
   "execution_count": 134,
   "id": "b19d5233",
   "metadata": {},
   "outputs": [],
   "source": [
    "add=lambda a,b:print(a+b)"
   ]
  },
  {
   "cell_type": "code",
   "execution_count": 135,
   "id": "e0ded3d8",
   "metadata": {},
   "outputs": [
    {
     "name": "stdout",
     "output_type": "stream",
     "text": [
      "30\n"
     ]
    }
   ],
   "source": [
    "add(10,20)"
   ]
  },
  {
   "cell_type": "code",
   "execution_count": 136,
   "id": "d0ccc2d4",
   "metadata": {},
   "outputs": [],
   "source": [
    "multi=lambda a,b:print(a*b)"
   ]
  },
  {
   "cell_type": "code",
   "execution_count": 138,
   "id": "5a090fd8",
   "metadata": {},
   "outputs": [
    {
     "name": "stdout",
     "output_type": "stream",
     "text": [
      "30000\n"
     ]
    }
   ],
   "source": [
    "multi(100,300)"
   ]
  },
  {
   "cell_type": "code",
   "execution_count": 139,
   "id": "039c0b59",
   "metadata": {},
   "outputs": [
    {
     "name": "stdout",
     "output_type": "stream",
     "text": [
      "enter first number10\n",
      "enter second number11\n"
     ]
    }
   ],
   "source": [
    "a=int(input(\"enter first number\"))\n",
    "b=int(input(\"enter second number\"))\n",
    "square=lambda a,b:print(a**2,b**2)"
   ]
  },
  {
   "cell_type": "code",
   "execution_count": 140,
   "id": "4f3f371f",
   "metadata": {},
   "outputs": [
    {
     "name": "stdout",
     "output_type": "stream",
     "text": [
      "100 121\n"
     ]
    }
   ],
   "source": [
    "square(a,b)"
   ]
  },
  {
   "cell_type": "code",
   "execution_count": 143,
   "id": "78dc875c",
   "metadata": {},
   "outputs": [],
   "source": [
    "even_odd=lambda n:True if n%2==0 else False"
   ]
  },
  {
   "cell_type": "code",
   "execution_count": 144,
   "id": "bbef7b42",
   "metadata": {},
   "outputs": [
    {
     "data": {
      "text/plain": [
       "True"
      ]
     },
     "execution_count": 144,
     "metadata": {},
     "output_type": "execute_result"
    }
   ],
   "source": [
    "even_odd(10)"
   ]
  },
  {
   "cell_type": "code",
   "execution_count": 145,
   "id": "43137cb2",
   "metadata": {},
   "outputs": [
    {
     "data": {
      "text/plain": [
       "False"
      ]
     },
     "execution_count": 145,
     "metadata": {},
     "output_type": "execute_result"
    }
   ],
   "source": [
    "even_odd(1)"
   ]
  },
  {
   "cell_type": "code",
   "execution_count": 148,
   "id": "67c34e17",
   "metadata": {},
   "outputs": [],
   "source": [
    "checkGreaterNumber=lambda a,b:a if a>b else b"
   ]
  },
  {
   "cell_type": "code",
   "execution_count": 149,
   "id": "ce2100c1",
   "metadata": {},
   "outputs": [
    {
     "data": {
      "text/plain": [
       "8"
      ]
     },
     "execution_count": 149,
     "metadata": {},
     "output_type": "execute_result"
    }
   ],
   "source": [
    "checkGreaterNumber(4,8)"
   ]
  },
  {
   "cell_type": "code",
   "execution_count": 14,
   "id": "87346c8a",
   "metadata": {},
   "outputs": [],
   "source": [
    "userPwd=\"/'\\/\""
   ]
  },
  {
   "cell_type": "code",
   "execution_count": 12,
   "id": "49b36514",
   "metadata": {},
   "outputs": [
    {
     "data": {
      "text/plain": [
       "3"
      ]
     },
     "execution_count": 12,
     "metadata": {},
     "output_type": "execute_result"
    }
   ],
   "source": [
    "len([i for i in userPwd if i in [\"/\",\" \",\"'\",'\"',\"=\",'',\"\\/\"]])"
   ]
  },
  {
   "cell_type": "code",
   "execution_count": 161,
   "id": "541ea147",
   "metadata": {},
   "outputs": [],
   "source": [
    "products=[\n",
    "    {'name':'prod1','price':58},\n",
    "    {'name':'prod2','price':50},\n",
    "    {'name':'prod3','price':40},\n",
    "    {'name':'prod4','price':80}\n",
    "]"
   ]
  },
  {
   "cell_type": "code",
   "execution_count": 162,
   "id": "6343ba06",
   "metadata": {},
   "outputs": [],
   "source": [
    "sorted_products=sorted(products,key=lambda x:x['price'])"
   ]
  },
  {
   "cell_type": "code",
   "execution_count": 164,
   "id": "cac9c25d",
   "metadata": {},
   "outputs": [
    {
     "name": "stdout",
     "output_type": "stream",
     "text": [
      "{'name': 'prod3', 'price': 40}\n",
      "{'name': 'prod2', 'price': 50}\n",
      "{'name': 'prod1', 'price': 58}\n",
      "{'name': 'prod4', 'price': 80}\n"
     ]
    }
   ],
   "source": [
    "for i in sorted_products:\n",
    "    print(i)"
   ]
  },
  {
   "cell_type": "code",
   "execution_count": 165,
   "id": "9ce61987",
   "metadata": {},
   "outputs": [],
   "source": [
    "x={'name':'prod1','price':58}"
   ]
  },
  {
   "cell_type": "code",
   "execution_count": 166,
   "id": "776d6fe7",
   "metadata": {},
   "outputs": [],
   "source": [
    "price=lambda x:x['price']"
   ]
  },
  {
   "cell_type": "code",
   "execution_count": 167,
   "id": "c4b788b8",
   "metadata": {},
   "outputs": [
    {
     "data": {
      "text/plain": [
       "<function __main__.<lambda>(x)>"
      ]
     },
     "execution_count": 167,
     "metadata": {},
     "output_type": "execute_result"
    }
   ],
   "source": [
    "price"
   ]
  },
  {
   "cell_type": "code",
   "execution_count": 168,
   "id": "86035706",
   "metadata": {},
   "outputs": [
    {
     "name": "stdout",
     "output_type": "stream",
     "text": [
      "58\n"
     ]
    }
   ],
   "source": [
    "print(price(x))"
   ]
  },
  {
   "cell_type": "code",
   "execution_count": 4,
   "id": "3d11fd99",
   "metadata": {},
   "outputs": [],
   "source": [
    "checkOvwels=lambda userStr: [i for i in userStr if i in ['a','e','i','o','u']]"
   ]
  },
  {
   "cell_type": "code",
   "execution_count": 5,
   "id": "54c123dd",
   "metadata": {},
   "outputs": [
    {
     "data": {
      "text/plain": [
       "['a', 'a']"
      ]
     },
     "execution_count": 5,
     "metadata": {},
     "output_type": "execute_result"
    }
   ],
   "source": [
    "checkOvwels('khadar')"
   ]
  },
  {
   "cell_type": "code",
   "execution_count": 172,
   "id": "8826968c",
   "metadata": {},
   "outputs": [],
   "source": [
    "language=['python','java','js']"
   ]
  },
  {
   "cell_type": "code",
   "execution_count": 176,
   "id": "d5a3fbaa",
   "metadata": {},
   "outputs": [],
   "source": [
    "enumerate_prime=enumerate(language,5)"
   ]
  },
  {
   "cell_type": "code",
   "execution_count": 177,
   "id": "90606982",
   "metadata": {},
   "outputs": [
    {
     "name": "stdout",
     "output_type": "stream",
     "text": [
      "<enumerate object at 0x00000176A393AEC0>\n"
     ]
    }
   ],
   "source": [
    "print(enumerate_prime)"
   ]
  },
  {
   "cell_type": "code",
   "execution_count": 178,
   "id": "bd1ed0c1",
   "metadata": {},
   "outputs": [
    {
     "data": {
      "text/plain": [
       "[(5, 'python'), (6, 'java'), (7, 'js')]"
      ]
     },
     "execution_count": 178,
     "metadata": {},
     "output_type": "execute_result"
    }
   ],
   "source": [
    "list(enumerate_prime)"
   ]
  },
  {
   "cell_type": "code",
   "execution_count": 20,
   "id": "8025bdd5",
   "metadata": {},
   "outputs": [],
   "source": [
    "lst=[1,2,3,4,5,6,7,8,9,10]\n",
    "outPut=[i if i>4 else 'less than 4' for i in lst]"
   ]
  },
  {
   "cell_type": "code",
   "execution_count": 21,
   "id": "9f90af9c",
   "metadata": {},
   "outputs": [
    {
     "name": "stdout",
     "output_type": "stream",
     "text": [
      "['less than 4', 'less than 4', 'less than 4', 'less than 4', 5, 6, 7, 8, 9, 10]\n"
     ]
    }
   ],
   "source": [
    "print(outPut)"
   ]
  },
  {
   "cell_type": "code",
   "execution_count": null,
   "id": "e837ef70",
   "metadata": {},
   "outputs": [],
   "source": []
  }
 ],
 "metadata": {
  "kernelspec": {
   "display_name": "Python 3 (ipykernel)",
   "language": "python",
   "name": "python3"
  },
  "language_info": {
   "codemirror_mode": {
    "name": "ipython",
    "version": 3
   },
   "file_extension": ".py",
   "mimetype": "text/x-python",
   "name": "python",
   "nbconvert_exporter": "python",
   "pygments_lexer": "ipython3",
   "version": "3.9.13"
  }
 },
 "nbformat": 4,
 "nbformat_minor": 5
}
