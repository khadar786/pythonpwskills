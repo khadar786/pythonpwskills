{
 "cells": [
  {
   "cell_type": "markdown",
   "id": "3cd688a3",
   "metadata": {},
   "source": [
    "TOPIC: Python Basics Variable"
   ]
  },
  {
   "cell_type": "code",
   "execution_count": 1,
   "id": "a7a54f30",
   "metadata": {},
   "outputs": [],
   "source": [
    "#1. Declare two variables, `x` and `y`, and assign them integer values. Swap the\n",
    "#values of these variables without using any temporary variable."
   ]
  },
  {
   "cell_type": "code",
   "execution_count": 2,
   "id": "a2584b72",
   "metadata": {},
   "outputs": [],
   "source": [
    "x=10\n",
    "y=20"
   ]
  },
  {
   "cell_type": "code",
   "execution_count": 5,
   "id": "f423b4a5",
   "metadata": {},
   "outputs": [
    {
     "name": "stdout",
     "output_type": "stream",
     "text": [
      "Before swaping the variables x=20 y=10\n"
     ]
    }
   ],
   "source": [
    "print(\"Before swaping the variables x={} y={}\".format(x,y))\n",
    "x=x+y\n",
    "y=x-y\n",
    "x=x-y"
   ]
  },
  {
   "cell_type": "code",
   "execution_count": 6,
   "id": "e2c4ec63",
   "metadata": {},
   "outputs": [
    {
     "name": "stdout",
     "output_type": "stream",
     "text": [
      "After swaping the variables x=10 y=20\n"
     ]
    }
   ],
   "source": [
    "print(\"After swaping the variables x={} y={}\".format(x,y))"
   ]
  },
  {
   "cell_type": "code",
   "execution_count": 7,
   "id": "4c6ada2f",
   "metadata": {},
   "outputs": [],
   "source": [
    "#2. Create a program that calculates the area of a rectangle. Take the length and\n",
    "#width as inputs from the user and store them in variables. Calculate and\n",
    "#display the area."
   ]
  },
  {
   "cell_type": "code",
   "execution_count": 8,
   "id": "c3f6fc14",
   "metadata": {},
   "outputs": [],
   "source": [
    "#Area of Rectangle = L X W"
   ]
  },
  {
   "cell_type": "code",
   "execution_count": 5,
   "id": "799d9d57",
   "metadata": {},
   "outputs": [
    {
     "name": "stdout",
     "output_type": "stream",
     "text": [
      "Enter the length :10\n",
      "Enter the width :20\n"
     ]
    }
   ],
   "source": [
    "length=int(input(\"Enter the length :\"))\n",
    "width=int(input(\"Enter the width :\"))"
   ]
  },
  {
   "cell_type": "code",
   "execution_count": 6,
   "id": "eff3f710",
   "metadata": {},
   "outputs": [],
   "source": [
    "area_of_reactangle=(length*width)"
   ]
  },
  {
   "cell_type": "code",
   "execution_count": 11,
   "id": "ee9ae4ba",
   "metadata": {},
   "outputs": [
    {
     "name": "stdout",
     "output_type": "stream",
     "text": [
      "The area of rectangle Length 10 width 20 Area of reactangle 200\n"
     ]
    }
   ],
   "source": [
    "print(\"The area of rectangle Length {} width {} Area of reactangle {}\".format(length,width,area_of_reactangle))"
   ]
  },
  {
   "cell_type": "code",
   "execution_count": 12,
   "id": "a88a2342",
   "metadata": {},
   "outputs": [],
   "source": [
    "#3. Write a Python program that converts temperatures from Celsius to\n",
    "#Fahrenheit. Take the temperature in Celsius as input, store it in a variable,\n",
    "#convert it to Fahrenheit, and display the result."
   ]
  },
  {
   "cell_type": "code",
   "execution_count": 13,
   "id": "4f9db71f",
   "metadata": {},
   "outputs": [],
   "source": [
    "#Converting Celsius To Fahrenheit using the first formula f=c*1.8+32 or f=c*5/2+32"
   ]
  },
  {
   "cell_type": "code",
   "execution_count": 14,
   "id": "d4deed80",
   "metadata": {},
   "outputs": [
    {
     "name": "stdout",
     "output_type": "stream",
     "text": [
      "Please enter the celsius \n",
      "45\n"
     ]
    }
   ],
   "source": [
    "celsius_temp=float(input(\"Please enter the celsius \\n\"))"
   ]
  },
  {
   "cell_type": "code",
   "execution_count": 15,
   "id": "a1dffede",
   "metadata": {},
   "outputs": [],
   "source": [
    "f=celsius_temp*1.8+32"
   ]
  },
  {
   "cell_type": "code",
   "execution_count": 18,
   "id": "f688499a",
   "metadata": {},
   "outputs": [
    {
     "name": "stdout",
     "output_type": "stream",
     "text": [
      "The Fahrenheit equivalent of 45.0 celsius = 113.0\n"
     ]
    }
   ],
   "source": [
    "print(\"The Fahrenheit equivalent of {} celsius = {}\".format(celsius_temp,f))"
   ]
  },
  {
   "cell_type": "markdown",
   "id": "4dcc3f2a",
   "metadata": {},
   "source": [
    "TOPIC: String Based Questions"
   ]
  },
  {
   "cell_type": "code",
   "execution_count": 19,
   "id": "449df901",
   "metadata": {},
   "outputs": [],
   "source": [
    "#1. Write a Python program that takes a string as input and prints the length of\n",
    "#the string."
   ]
  },
  {
   "cell_type": "code",
   "execution_count": 20,
   "id": "fd79153b",
   "metadata": {},
   "outputs": [
    {
     "name": "stdout",
     "output_type": "stream",
     "text": [
      "Please enter the name \n",
      "khadar\n"
     ]
    }
   ],
   "source": [
    "userInput=input(\"Please enter the name \\n\")"
   ]
  },
  {
   "cell_type": "code",
   "execution_count": 21,
   "id": "89502b37",
   "metadata": {},
   "outputs": [
    {
     "name": "stdout",
     "output_type": "stream",
     "text": [
      "Length of the string 6 \n"
     ]
    }
   ],
   "source": [
    "print(\"Length of the string {} \".format(len(userInput)))"
   ]
  },
  {
   "cell_type": "code",
   "execution_count": 22,
   "id": "067d2f25",
   "metadata": {},
   "outputs": [],
   "source": [
    "#2. Create a program that takes a sentence from the user and counts the number\n",
    "#of vowels (a, e, i, o, u) in the string."
   ]
  },
  {
   "cell_type": "code",
   "execution_count": 23,
   "id": "e3d2f9b1",
   "metadata": {},
   "outputs": [],
   "source": [
    "vcount=0\n",
    "ccount=0"
   ]
  },
  {
   "cell_type": "code",
   "execution_count": 24,
   "id": "69a7404b",
   "metadata": {},
   "outputs": [
    {
     "name": "stdout",
     "output_type": "stream",
     "text": [
      "Please enter the string \n",
      "khadar basha\n"
     ]
    }
   ],
   "source": [
    "userString=input(\"Please enter the string \\n\")"
   ]
  },
  {
   "cell_type": "code",
   "execution_count": 28,
   "id": "7ad8cb38",
   "metadata": {},
   "outputs": [],
   "source": [
    "for i in range(0,len(userString)):\n",
    "    singleChar=userString[i].lower()\n",
    "    \n",
    "    if singleChar in [\"a\",\"e\",\"i\",\"o\",\"u\"]:\n",
    "        vcount=vcount+1\n",
    "    else:\n",
    "        ccount=ccount+1"
   ]
  },
  {
   "cell_type": "code",
   "execution_count": 29,
   "id": "422843fa",
   "metadata": {},
   "outputs": [
    {
     "name": "stdout",
     "output_type": "stream",
     "text": [
      "khadar basha Count of ovwels 4 and Count of consonants 8\n"
     ]
    }
   ],
   "source": [
    "print(\"{} Count of ovwels {} and Count of consonants {}\".format(userString,vcount,ccount))"
   ]
  },
  {
   "cell_type": "code",
   "execution_count": 30,
   "id": "13f70025",
   "metadata": {},
   "outputs": [],
   "source": [
    "#using comprehension method"
   ]
  },
  {
   "cell_type": "code",
   "execution_count": 39,
   "id": "06a9735d",
   "metadata": {},
   "outputs": [
    {
     "data": {
      "text/plain": [
       "4"
      ]
     },
     "execution_count": 39,
     "metadata": {},
     "output_type": "execute_result"
    }
   ],
   "source": [
    "len([i for i in range(0,len(userString)) if userString[i] in [\"a\",\"e\",\"i\",\"o\",\"u\"]])"
   ]
  },
  {
   "cell_type": "code",
   "execution_count": 40,
   "id": "f7d1f187",
   "metadata": {},
   "outputs": [],
   "source": [
    "#3. Given a string, reverse the order of characters using string slicing and print\n",
    "#the reversed string."
   ]
  },
  {
   "cell_type": "code",
   "execution_count": 41,
   "id": "6c1e93fc",
   "metadata": {},
   "outputs": [],
   "source": [
    "str1=\"khadar basha\""
   ]
  },
  {
   "cell_type": "code",
   "execution_count": 42,
   "id": "6cab9b8a",
   "metadata": {},
   "outputs": [
    {
     "data": {
      "text/plain": [
       "'ahsab radahk'"
      ]
     },
     "execution_count": 42,
     "metadata": {},
     "output_type": "execute_result"
    }
   ],
   "source": [
    "str1[::-1]"
   ]
  },
  {
   "cell_type": "code",
   "execution_count": 43,
   "id": "f4073ba0",
   "metadata": {},
   "outputs": [],
   "source": [
    "#Write a program that takes a string as input and checks if it is a palindrome\n",
    "#(reads the same forwards and backwards)."
   ]
  },
  {
   "cell_type": "code",
   "execution_count": 48,
   "id": "fa5cfbe9",
   "metadata": {},
   "outputs": [
    {
     "name": "stdout",
     "output_type": "stream",
     "text": [
      "Please enter a string \n",
      "malayalam\n"
     ]
    }
   ],
   "source": [
    "inputStr=input(\"Please enter a string \\n\")"
   ]
  },
  {
   "cell_type": "code",
   "execution_count": 49,
   "id": "5cf1f6dc",
   "metadata": {},
   "outputs": [
    {
     "name": "stdout",
     "output_type": "stream",
     "text": [
      "it is a palindrome\n"
     ]
    }
   ],
   "source": [
    "if inputStr==inputStr[::-1]:\n",
    "    print(\"it is a palindrome\")\n",
    "else:\n",
    "    print(\"it is not a palindrome\")"
   ]
  },
  {
   "cell_type": "code",
   "execution_count": 50,
   "id": "a660d5db",
   "metadata": {},
   "outputs": [],
   "source": [
    "#5. Create a program that takes a string as input and removes all the spaces from\n",
    "#it. Print the modified string without spaces."
   ]
  },
  {
   "cell_type": "code",
   "execution_count": 51,
   "id": "4ed5c51f",
   "metadata": {},
   "outputs": [],
   "source": [
    "str2=\" khadar\""
   ]
  },
  {
   "cell_type": "code",
   "execution_count": 52,
   "id": "4a3638f2",
   "metadata": {},
   "outputs": [
    {
     "name": "stdout",
     "output_type": "stream",
     "text": [
      "khadar\n"
     ]
    }
   ],
   "source": [
    "print(str2.strip())"
   ]
  },
  {
   "cell_type": "code",
   "execution_count": null,
   "id": "92019df8",
   "metadata": {},
   "outputs": [],
   "source": []
  }
 ],
 "metadata": {
  "kernelspec": {
   "display_name": "Python 3 (ipykernel)",
   "language": "python",
   "name": "python3"
  },
  "language_info": {
   "codemirror_mode": {
    "name": "ipython",
    "version": 3
   },
   "file_extension": ".py",
   "mimetype": "text/x-python",
   "name": "python",
   "nbconvert_exporter": "python",
   "pygments_lexer": "ipython3",
   "version": "3.11.4"
  }
 },
 "nbformat": 4,
 "nbformat_minor": 5
}
