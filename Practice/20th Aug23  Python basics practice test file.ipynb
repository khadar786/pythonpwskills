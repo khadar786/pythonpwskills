{
 "cells": [
  {
   "cell_type": "markdown",
   "id": "2aff7506",
   "metadata": {},
   "source": [
    "TOPIC: String Based Assignment Problem"
   ]
  },
  {
   "cell_type": "code",
   "execution_count": 1,
   "id": "d23e730a",
   "metadata": {},
   "outputs": [],
   "source": [
    "#1. Write a program to reverse a string."
   ]
  },
  {
   "cell_type": "code",
   "execution_count": 2,
   "id": "41132824",
   "metadata": {},
   "outputs": [],
   "source": [
    "str1=\"khadar basha\""
   ]
  },
  {
   "cell_type": "code",
   "execution_count": 3,
   "id": "5f0c8964",
   "metadata": {},
   "outputs": [
    {
     "name": "stdout",
     "output_type": "stream",
     "text": [
      "ahsab radahk\n"
     ]
    }
   ],
   "source": [
    "print(str1[::-1])"
   ]
  },
  {
   "cell_type": "code",
   "execution_count": 4,
   "id": "c9f15674",
   "metadata": {},
   "outputs": [],
   "source": [
    "#2. Check if a string is a palindrome."
   ]
  },
  {
   "cell_type": "code",
   "execution_count": 5,
   "id": "1fc41ace",
   "metadata": {},
   "outputs": [],
   "source": [
    "str2=\"madam\""
   ]
  },
  {
   "cell_type": "code",
   "execution_count": 6,
   "id": "dad4d3b8",
   "metadata": {},
   "outputs": [
    {
     "name": "stdout",
     "output_type": "stream",
     "text": [
      "it is a palindrome\n"
     ]
    }
   ],
   "source": [
    "if str2==str2[::-1]:\n",
    "    print(\"it is a palindrome\")\n",
    "else:\n",
    "    print(\"it is not a palindrome\")"
   ]
  },
  {
   "cell_type": "code",
   "execution_count": 7,
   "id": "c7da1375",
   "metadata": {},
   "outputs": [],
   "source": [
    "#3. Convert a string to uppercase."
   ]
  },
  {
   "cell_type": "code",
   "execution_count": 8,
   "id": "cb7ad765",
   "metadata": {},
   "outputs": [],
   "source": [
    "str3=\"khadar\""
   ]
  },
  {
   "cell_type": "code",
   "execution_count": 9,
   "id": "8185d393",
   "metadata": {},
   "outputs": [
    {
     "data": {
      "text/plain": [
       "'KHADAR'"
      ]
     },
     "execution_count": 9,
     "metadata": {},
     "output_type": "execute_result"
    }
   ],
   "source": [
    "str3.upper()"
   ]
  },
  {
   "cell_type": "code",
   "execution_count": 10,
   "id": "e8e20c42",
   "metadata": {},
   "outputs": [],
   "source": [
    "#4. Convert a string to lowercase."
   ]
  },
  {
   "cell_type": "code",
   "execution_count": 11,
   "id": "f92a8906",
   "metadata": {},
   "outputs": [],
   "source": [
    "str4=\"KHADAR\""
   ]
  },
  {
   "cell_type": "code",
   "execution_count": 12,
   "id": "d6434937",
   "metadata": {},
   "outputs": [
    {
     "data": {
      "text/plain": [
       "'khadar'"
      ]
     },
     "execution_count": 12,
     "metadata": {},
     "output_type": "execute_result"
    }
   ],
   "source": [
    "str3.lower()"
   ]
  },
  {
   "cell_type": "code",
   "execution_count": 13,
   "id": "04792702",
   "metadata": {},
   "outputs": [],
   "source": [
    "#5. Count the number of vowels in a string."
   ]
  },
  {
   "cell_type": "code",
   "execution_count": 17,
   "id": "6a07a26d",
   "metadata": {},
   "outputs": [
    {
     "name": "stdout",
     "output_type": "stream",
     "text": [
      "Enter a string \n",
      "khadar basha\n"
     ]
    }
   ],
   "source": [
    "vcount=0\n",
    "userInput=input(\"Enter a string \\n\")"
   ]
  },
  {
   "cell_type": "code",
   "execution_count": 18,
   "id": "11ce6a0c",
   "metadata": {},
   "outputs": [],
   "source": [
    "vcount=len([i for i in range(0,len(userInput)) if userInput[i] in [\"a\",\"e\",\"i\",\"o\",\"u\"]])"
   ]
  },
  {
   "cell_type": "code",
   "execution_count": 19,
   "id": "a8295e1b",
   "metadata": {},
   "outputs": [
    {
     "name": "stdout",
     "output_type": "stream",
     "text": [
      "khadar basha no of vowels 4 \n"
     ]
    }
   ],
   "source": [
    "print(\"{} no of vowels {} \".format(userInput,vcount))"
   ]
  },
  {
   "cell_type": "code",
   "execution_count": 1,
   "id": "5b03daac",
   "metadata": {},
   "outputs": [],
   "source": [
    "#6. Count the number of consonants in a string."
   ]
  },
  {
   "cell_type": "code",
   "execution_count": 2,
   "id": "cd452215",
   "metadata": {},
   "outputs": [
    {
     "name": "stdout",
     "output_type": "stream",
     "text": [
      "Enter a string \n",
      "khadar basha\n"
     ]
    }
   ],
   "source": [
    "ccount=0\n",
    "userInput2=input(\"Enter a string \\n\")"
   ]
  },
  {
   "cell_type": "code",
   "execution_count": 7,
   "id": "6fe96488",
   "metadata": {},
   "outputs": [],
   "source": [
    "ccount=len([i for i in range(0,len(userInput2)) if userInput2[i] not in [\"a\",\"e\",\"i\",\"o\",\"u\"]])"
   ]
  },
  {
   "cell_type": "code",
   "execution_count": 8,
   "id": "44029551",
   "metadata": {},
   "outputs": [
    {
     "name": "stdout",
     "output_type": "stream",
     "text": [
      "khadar basha no of consonants 8 \n"
     ]
    }
   ],
   "source": [
    "print(\"{} no of consonants {} \".format(userInput2,ccount))"
   ]
  },
  {
   "cell_type": "code",
   "execution_count": 9,
   "id": "cd50553b",
   "metadata": {},
   "outputs": [],
   "source": [
    "#7. Remove all whitespaces from a string."
   ]
  },
  {
   "cell_type": "code",
   "execution_count": 10,
   "id": "b0cdb079",
   "metadata": {},
   "outputs": [],
   "source": [
    "str3=\" khadar basha \""
   ]
  },
  {
   "cell_type": "code",
   "execution_count": 12,
   "id": "9911146e",
   "metadata": {},
   "outputs": [
    {
     "data": {
      "text/plain": [
       "'khadar basha'"
      ]
     },
     "execution_count": 12,
     "metadata": {},
     "output_type": "execute_result"
    }
   ],
   "source": [
    "str3.strip()"
   ]
  },
  {
   "cell_type": "code",
   "execution_count": 13,
   "id": "ea78cb83",
   "metadata": {},
   "outputs": [],
   "source": [
    "#8. Find the length of a string without using the `len()` function."
   ]
  },
  {
   "cell_type": "code",
   "execution_count": 14,
   "id": "e8890a69",
   "metadata": {},
   "outputs": [],
   "source": [
    "str4=\"khadar basha\""
   ]
  },
  {
   "cell_type": "code",
   "execution_count": 19,
   "id": "d4c25d2d",
   "metadata": {},
   "outputs": [
    {
     "name": "stdout",
     "output_type": "stream",
     "text": [
      "length of string 12\n"
     ]
    }
   ],
   "source": [
    "print(\"length of string {}\".format(len([i for i in str4])))"
   ]
  },
  {
   "cell_type": "code",
   "execution_count": 20,
   "id": "cfee52fa",
   "metadata": {},
   "outputs": [],
   "source": [
    "#9. Check if a string contains a specific word."
   ]
  },
  {
   "cell_type": "code",
   "execution_count": 21,
   "id": "099e8eb8",
   "metadata": {},
   "outputs": [],
   "source": [
    "str5=\"Hello world khadar basha\""
   ]
  },
  {
   "cell_type": "code",
   "execution_count": 31,
   "id": "39c51b0d",
   "metadata": {},
   "outputs": [
    {
     "name": "stdout",
     "output_type": "stream",
     "text": [
      "given word conatains in string\n"
     ]
    }
   ],
   "source": [
    "if str5.find(\"basha\")!=-1:\n",
    "    print(\"given word conatains in string\")\n",
    "else:\n",
    "    print(\"not find out\")"
   ]
  },
  {
   "cell_type": "code",
   "execution_count": 32,
   "id": "fdc389fa",
   "metadata": {},
   "outputs": [],
   "source": [
    "#10. Replace a word in a string with another word."
   ]
  },
  {
   "cell_type": "code",
   "execution_count": 33,
   "id": "f7df64f7",
   "metadata": {},
   "outputs": [],
   "source": [
    "str6=\"Hello khadar\""
   ]
  },
  {
   "cell_type": "code",
   "execution_count": 53,
   "id": "4b2f33fc",
   "metadata": {},
   "outputs": [
    {
     "name": "stdout",
     "output_type": "stream",
     "text": [
      "Hello world\n"
     ]
    }
   ],
   "source": [
    "print(str6.replace(\"khadar\",\"world\"))"
   ]
  },
  {
   "cell_type": "code",
   "execution_count": 35,
   "id": "782da8f9",
   "metadata": {},
   "outputs": [],
   "source": [
    "#11. Count the occurrences of a word in a string."
   ]
  },
  {
   "cell_type": "code",
   "execution_count": 36,
   "id": "d6f2a177",
   "metadata": {},
   "outputs": [],
   "source": [
    "str7=\"Hello basha Hello khadar\""
   ]
  },
  {
   "cell_type": "code",
   "execution_count": 54,
   "id": "35decddf",
   "metadata": {},
   "outputs": [
    {
     "name": "stdout",
     "output_type": "stream",
     "text": [
      "1\n"
     ]
    }
   ],
   "source": [
    "print(str7.count(\"khadar\"))"
   ]
  },
  {
   "cell_type": "code",
   "execution_count": 39,
   "id": "746fec04",
   "metadata": {},
   "outputs": [],
   "source": [
    "#12. Find the first occurrence of a word in a string."
   ]
  },
  {
   "cell_type": "code",
   "execution_count": 40,
   "id": "2d0e64e2",
   "metadata": {},
   "outputs": [],
   "source": [
    "str8=\"Python Language, Java Language\""
   ]
  },
  {
   "cell_type": "code",
   "execution_count": 55,
   "id": "933f1c71",
   "metadata": {},
   "outputs": [
    {
     "name": "stdout",
     "output_type": "stream",
     "text": [
      "7\n"
     ]
    }
   ],
   "source": [
    "print(str8.find(\"Language\"))"
   ]
  },
  {
   "cell_type": "code",
   "execution_count": 42,
   "id": "30b2061a",
   "metadata": {},
   "outputs": [],
   "source": [
    "#13. Find the last occurrence of a word in a string."
   ]
  },
  {
   "cell_type": "code",
   "execution_count": 56,
   "id": "78666615",
   "metadata": {},
   "outputs": [
    {
     "name": "stdout",
     "output_type": "stream",
     "text": [
      "22\n"
     ]
    }
   ],
   "source": [
    "#str8.index(\"Language\")\n",
    "print(str8.rindex(\"Language\"))"
   ]
  },
  {
   "cell_type": "code",
   "execution_count": 48,
   "id": "935aa9a4",
   "metadata": {},
   "outputs": [],
   "source": [
    "#14. Split a string into a list of words."
   ]
  },
  {
   "cell_type": "code",
   "execution_count": 49,
   "id": "f13ca585",
   "metadata": {},
   "outputs": [],
   "source": [
    "str9=\"Python Language, Java Language\""
   ]
  },
  {
   "cell_type": "code",
   "execution_count": 57,
   "id": "c389635f",
   "metadata": {},
   "outputs": [
    {
     "name": "stdout",
     "output_type": "stream",
     "text": [
      "['Python Language', ' Java Language']\n"
     ]
    }
   ],
   "source": [
    "print(str9.split(\",\"))"
   ]
  },
  {
   "cell_type": "code",
   "execution_count": 51,
   "id": "5b411a11",
   "metadata": {},
   "outputs": [],
   "source": [
    "#15. Join a list of words into a string."
   ]
  },
  {
   "cell_type": "code",
   "execution_count": 52,
   "id": "f2898d8b",
   "metadata": {},
   "outputs": [],
   "source": [
    "words=[\"php\",\"javascript\",\"nodejs\",\"mysql\"]"
   ]
  },
  {
   "cell_type": "code",
   "execution_count": 59,
   "id": "f7a7320f",
   "metadata": {},
   "outputs": [
    {
     "name": "stdout",
     "output_type": "stream",
     "text": [
      "php,javascript,nodejs,mysql\n"
     ]
    }
   ],
   "source": [
    "print(\",\".join(words))"
   ]
  },
  {
   "cell_type": "code",
   "execution_count": null,
   "id": "f160aaaa",
   "metadata": {},
   "outputs": [],
   "source": []
  }
 ],
 "metadata": {
  "kernelspec": {
   "display_name": "Python 3 (ipykernel)",
   "language": "python",
   "name": "python3"
  },
  "language_info": {
   "codemirror_mode": {
    "name": "ipython",
    "version": 3
   },
   "file_extension": ".py",
   "mimetype": "text/x-python",
   "name": "python",
   "nbconvert_exporter": "python",
   "pygments_lexer": "ipython3",
   "version": "3.11.4"
  }
 },
 "nbformat": 4,
 "nbformat_minor": 5
}
