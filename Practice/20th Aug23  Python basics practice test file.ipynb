{
 "cells": [
  {
   "cell_type": "markdown",
   "id": "3553d45a",
   "metadata": {},
   "source": [
    "TOPIC: String Based Assignment Problem"
   ]
  },
  {
   "cell_type": "code",
   "execution_count": 1,
   "id": "80c2d8d1",
   "metadata": {},
   "outputs": [],
   "source": [
    "#1. Write a program to reverse a string."
   ]
  },
  {
   "cell_type": "code",
   "execution_count": 2,
   "id": "021e6224",
   "metadata": {},
   "outputs": [],
   "source": [
    "str1=\"khadar basha\""
   ]
  },
  {
   "cell_type": "code",
   "execution_count": 3,
   "id": "63d0f3cb",
   "metadata": {},
   "outputs": [
    {
     "name": "stdout",
     "output_type": "stream",
     "text": [
      "ahsab radahk\n"
     ]
    }
   ],
   "source": [
    "print(str1[::-1])"
   ]
  },
  {
   "cell_type": "code",
   "execution_count": 4,
   "id": "10df80de",
   "metadata": {},
   "outputs": [],
   "source": [
    "#2. Check if a string is a palindrome."
   ]
  },
  {
   "cell_type": "code",
   "execution_count": 5,
   "id": "4b85fd6e",
   "metadata": {},
   "outputs": [],
   "source": [
    "str2=\"madam\""
   ]
  },
  {
   "cell_type": "code",
   "execution_count": 6,
   "id": "ddcfffc4",
   "metadata": {},
   "outputs": [
    {
     "name": "stdout",
     "output_type": "stream",
     "text": [
      "it is a palindrome\n"
     ]
    }
   ],
   "source": [
    "if str2==str2[::-1]:\n",
    "    print(\"it is a palindrome\")\n",
    "else:\n",
    "    print(\"it is not a palindrome\")"
   ]
  },
  {
   "cell_type": "code",
   "execution_count": 7,
   "id": "e8e658d8",
   "metadata": {},
   "outputs": [],
   "source": [
    "#3. Convert a string to uppercase."
   ]
  },
  {
   "cell_type": "code",
   "execution_count": 8,
   "id": "5c1e39c6",
   "metadata": {},
   "outputs": [],
   "source": [
    "str3=\"khadar\""
   ]
  },
  {
   "cell_type": "code",
   "execution_count": 9,
   "id": "de509cac",
   "metadata": {},
   "outputs": [
    {
     "data": {
      "text/plain": [
       "'KHADAR'"
      ]
     },
     "execution_count": 9,
     "metadata": {},
     "output_type": "execute_result"
    }
   ],
   "source": [
    "str3.upper()"
   ]
  },
  {
   "cell_type": "code",
   "execution_count": 10,
   "id": "92e05e06",
   "metadata": {},
   "outputs": [],
   "source": [
    "#4. Convert a string to lowercase."
   ]
  },
  {
   "cell_type": "code",
   "execution_count": 11,
   "id": "efa5f17d",
   "metadata": {},
   "outputs": [],
   "source": [
    "str4=\"KHADAR\""
   ]
  },
  {
   "cell_type": "code",
   "execution_count": 12,
   "id": "f5bf1779",
   "metadata": {},
   "outputs": [
    {
     "data": {
      "text/plain": [
       "'khadar'"
      ]
     },
     "execution_count": 12,
     "metadata": {},
     "output_type": "execute_result"
    }
   ],
   "source": [
    "str3.lower()"
   ]
  },
  {
   "cell_type": "code",
   "execution_count": 13,
   "id": "c9de605a",
   "metadata": {},
   "outputs": [],
   "source": [
    "#5. Count the number of vowels in a string."
   ]
  },
  {
   "cell_type": "code",
   "execution_count": 17,
   "id": "1efea6b3",
   "metadata": {},
   "outputs": [
    {
     "name": "stdout",
     "output_type": "stream",
     "text": [
      "Enter a string \n",
      "khadar basha\n"
     ]
    }
   ],
   "source": [
    "vcount=0\n",
    "userInput=input(\"Enter a string \\n\")"
   ]
  },
  {
   "cell_type": "code",
   "execution_count": 18,
   "id": "761674a8",
   "metadata": {},
   "outputs": [],
   "source": [
    "vcount=len([i for i in range(0,len(userInput)) if userInput[i] in [\"a\",\"e\",\"i\",\"o\",\"u\"]])"
   ]
  },
  {
   "cell_type": "code",
   "execution_count": 19,
   "id": "2bee84ba",
   "metadata": {},
   "outputs": [
    {
     "name": "stdout",
     "output_type": "stream",
     "text": [
      "khadar basha no of vowels 4 \n"
     ]
    }
   ],
   "source": [
    "print(\"{} no of vowels {} \".format(userInput,vcount))"
   ]
  },
  {
   "cell_type": "code",
   "execution_count": 1,
   "id": "ff3193f5",
   "metadata": {},
   "outputs": [],
   "source": [
    "#6. Count the number of consonants in a string."
   ]
  },
  {
   "cell_type": "code",
   "execution_count": 2,
   "id": "fa01f758",
   "metadata": {},
   "outputs": [
    {
     "name": "stdout",
     "output_type": "stream",
     "text": [
      "Enter a string \n",
      "khadar basha\n"
     ]
    }
   ],
   "source": [
    "ccount=0\n",
    "userInput2=input(\"Enter a string \\n\")"
   ]
  },
  {
   "cell_type": "code",
   "execution_count": 7,
   "id": "97c0566a",
   "metadata": {},
   "outputs": [],
   "source": [
    "ccount=len([i for i in range(0,len(userInput2)) if userInput2[i] not in [\"a\",\"e\",\"i\",\"o\",\"u\"]])"
   ]
  },
  {
   "cell_type": "code",
   "execution_count": 8,
   "id": "f5dfc8aa",
   "metadata": {},
   "outputs": [
    {
     "name": "stdout",
     "output_type": "stream",
     "text": [
      "khadar basha no of consonants 8 \n"
     ]
    }
   ],
   "source": [
    "print(\"{} no of consonants {} \".format(userInput2,ccount))"
   ]
  },
  {
   "cell_type": "code",
   "execution_count": 9,
   "id": "c343fd95",
   "metadata": {},
   "outputs": [],
   "source": [
    "#7. Remove all whitespaces from a string."
   ]
  },
  {
   "cell_type": "code",
   "execution_count": 10,
   "id": "908a1f08",
   "metadata": {},
   "outputs": [],
   "source": [
    "str3=\" khadar basha \""
   ]
  },
  {
   "cell_type": "code",
   "execution_count": 12,
   "id": "3f493d57",
   "metadata": {},
   "outputs": [
    {
     "data": {
      "text/plain": [
       "'khadar basha'"
      ]
     },
     "execution_count": 12,
     "metadata": {},
     "output_type": "execute_result"
    }
   ],
   "source": [
    "str3.strip()"
   ]
  },
  {
   "cell_type": "code",
   "execution_count": 13,
   "id": "420dbf41",
   "metadata": {},
   "outputs": [],
   "source": [
    "#8. Find the length of a string without using the `len()` function."
   ]
  },
  {
   "cell_type": "code",
   "execution_count": 14,
   "id": "b7eb275b",
   "metadata": {},
   "outputs": [],
   "source": [
    "str4=\"khadar basha\""
   ]
  },
  {
   "cell_type": "code",
   "execution_count": 19,
   "id": "2de5f5fd",
   "metadata": {},
   "outputs": [
    {
     "name": "stdout",
     "output_type": "stream",
     "text": [
      "length of string 12\n"
     ]
    }
   ],
   "source": [
    "print(\"length of string {}\".format(len([i for i in str4])))"
   ]
  },
  {
   "cell_type": "code",
   "execution_count": 20,
   "id": "75344ff7",
   "metadata": {},
   "outputs": [],
   "source": [
    "#9. Check if a string contains a specific word."
   ]
  },
  {
   "cell_type": "code",
   "execution_count": 21,
   "id": "84513400",
   "metadata": {},
   "outputs": [],
   "source": [
    "str5=\"Hello world khadar basha\""
   ]
  },
  {
   "cell_type": "code",
   "execution_count": 31,
   "id": "635603e5",
   "metadata": {},
   "outputs": [
    {
     "name": "stdout",
     "output_type": "stream",
     "text": [
      "given word conatains in string\n"
     ]
    }
   ],
   "source": [
    "if str5.find(\"basha\")!=-1:\n",
    "    print(\"given word conatains in string\")\n",
    "else:\n",
    "    print(\"not find out\")"
   ]
  },
  {
   "cell_type": "code",
   "execution_count": 32,
   "id": "1b1174a2",
   "metadata": {},
   "outputs": [],
   "source": [
    "#10. Replace a word in a string with another word."
   ]
  },
  {
   "cell_type": "code",
   "execution_count": 33,
   "id": "0486e319",
   "metadata": {},
   "outputs": [],
   "source": [
    "str6=\"Hello khadar\""
   ]
  },
  {
   "cell_type": "code",
   "execution_count": 53,
   "id": "0987d80e",
   "metadata": {},
   "outputs": [
    {
     "name": "stdout",
     "output_type": "stream",
     "text": [
      "Hello world\n"
     ]
    }
   ],
   "source": [
    "print(str6.replace(\"khadar\",\"world\"))"
   ]
  },
  {
   "cell_type": "code",
   "execution_count": 35,
   "id": "1b5d4005",
   "metadata": {},
   "outputs": [],
   "source": [
    "#11. Count the occurrences of a word in a string."
   ]
  },
  {
   "cell_type": "code",
   "execution_count": 36,
   "id": "06399681",
   "metadata": {},
   "outputs": [],
   "source": [
    "str7=\"Hello basha Hello khadar\""
   ]
  },
  {
   "cell_type": "code",
   "execution_count": 54,
   "id": "4c16bbe2",
   "metadata": {},
   "outputs": [
    {
     "name": "stdout",
     "output_type": "stream",
     "text": [
      "1\n"
     ]
    }
   ],
   "source": [
    "print(str7.count(\"khadar\"))"
   ]
  },
  {
   "cell_type": "code",
   "execution_count": 39,
   "id": "40078b9b",
   "metadata": {},
   "outputs": [],
   "source": [
    "#12. Find the first occurrence of a word in a string."
   ]
  },
  {
   "cell_type": "code",
   "execution_count": 40,
   "id": "1a526aa0",
   "metadata": {},
   "outputs": [],
   "source": [
    "str8=\"Python Language, Java Language\""
   ]
  },
  {
   "cell_type": "code",
   "execution_count": 55,
   "id": "3fc1dea8",
   "metadata": {},
   "outputs": [
    {
     "name": "stdout",
     "output_type": "stream",
     "text": [
      "7\n"
     ]
    }
   ],
   "source": [
    "print(str8.find(\"Language\"))"
   ]
  },
  {
   "cell_type": "code",
   "execution_count": 42,
   "id": "a45dfb50",
   "metadata": {},
   "outputs": [],
   "source": [
    "#13. Find the last occurrence of a word in a string."
   ]
  },
  {
   "cell_type": "code",
   "execution_count": 56,
   "id": "342922cc",
   "metadata": {},
   "outputs": [
    {
     "name": "stdout",
     "output_type": "stream",
     "text": [
      "22\n"
     ]
    }
   ],
   "source": [
    "#str8.index(\"Language\")\n",
    "print(str8.rindex(\"Language\"))"
   ]
  },
  {
   "cell_type": "code",
   "execution_count": 48,
   "id": "329074a7",
   "metadata": {},
   "outputs": [],
   "source": [
    "#14. Split a string into a list of words."
   ]
  },
  {
   "cell_type": "code",
   "execution_count": 49,
   "id": "3cf969cb",
   "metadata": {},
   "outputs": [],
   "source": [
    "str9=\"Python Language, Java Language\""
   ]
  },
  {
   "cell_type": "code",
   "execution_count": 57,
   "id": "9e72ecd6",
   "metadata": {},
   "outputs": [
    {
     "name": "stdout",
     "output_type": "stream",
     "text": [
      "['Python Language', ' Java Language']\n"
     ]
    }
   ],
   "source": [
    "print(str9.split(\",\"))"
   ]
  },
  {
   "cell_type": "code",
   "execution_count": 51,
   "id": "d3f35793",
   "metadata": {},
   "outputs": [],
   "source": [
    "#15. Join a list of words into a string."
   ]
  },
  {
   "cell_type": "code",
   "execution_count": 52,
   "id": "1d73a72b",
   "metadata": {},
   "outputs": [],
   "source": [
    "words=[\"php\",\"javascript\",\"nodejs\",\"mysql\"]"
   ]
  },
  {
   "cell_type": "code",
   "execution_count": 59,
   "id": "5e038c47",
   "metadata": {},
   "outputs": [
    {
     "name": "stdout",
     "output_type": "stream",
     "text": [
      "php,javascript,nodejs,mysql\n"
     ]
    }
   ],
   "source": [
    "print(\",\".join(words))"
   ]
  },
  {
   "cell_type": "code",
   "execution_count": 1,
   "id": "b0191083",
   "metadata": {},
   "outputs": [],
   "source": [
    "#16. Convert a string where words are separated by spaces to one where words\n",
    "#are separated by underscores."
   ]
  },
  {
   "cell_type": "code",
   "execution_count": 2,
   "id": "0588d1b1",
   "metadata": {},
   "outputs": [
    {
     "name": "stdout",
     "output_type": "stream",
     "text": [
      "['Python', 'is', 'the', 'best', 'programming', 'language']\n"
     ]
    }
   ],
   "source": [
    "str10=\"Python is the best programming language\"\n",
    "words=str10.split(\" \")\n",
    "print(words)"
   ]
  },
  {
   "cell_type": "code",
   "execution_count": 4,
   "id": "f53c17fc",
   "metadata": {},
   "outputs": [
    {
     "name": "stdout",
     "output_type": "stream",
     "text": [
      "['Python', 'is', 'the', 'best', 'programming', 'language']\n"
     ]
    }
   ],
   "source": [
    "str11=\"Python_is_the_best_programming_language\"\n",
    "words=str11.split(\"_\")\n",
    "print(words)"
   ]
  },
  {
   "cell_type": "code",
   "execution_count": 5,
   "id": "c0e4f3ef",
   "metadata": {},
   "outputs": [],
   "source": [
    "#17. Check if a string starts with a specific word or phrase."
   ]
  },
  {
   "cell_type": "code",
   "execution_count": 8,
   "id": "1f1a6f0a",
   "metadata": {},
   "outputs": [
    {
     "name": "stdout",
     "output_type": "stream",
     "text": [
      "True\n"
     ]
    }
   ],
   "source": [
    "text=\"Python is easy to learn\"\n",
    "print(text.startswith(\"Python\"))"
   ]
  },
  {
   "cell_type": "code",
   "execution_count": 9,
   "id": "5685da6c",
   "metadata": {},
   "outputs": [
    {
     "name": "stdout",
     "output_type": "stream",
     "text": [
      "False\n"
     ]
    }
   ],
   "source": [
    "print(text.startswith(\"easy\",0,len(text)))"
   ]
  },
  {
   "cell_type": "code",
   "execution_count": 10,
   "id": "d7454916",
   "metadata": {},
   "outputs": [
    {
     "name": "stdout",
     "output_type": "stream",
     "text": [
      "True\n"
     ]
    }
   ],
   "source": [
    "print(text.startswith(\"easy\",10,len(text)))"
   ]
  },
  {
   "cell_type": "code",
   "execution_count": 11,
   "id": "1c494071",
   "metadata": {},
   "outputs": [],
   "source": [
    "#18. Check if a string ends with a specific word or phrase."
   ]
  },
  {
   "cell_type": "code",
   "execution_count": 12,
   "id": "595c4fec",
   "metadata": {},
   "outputs": [],
   "source": [
    "text=\"Python is easy to learn\""
   ]
  },
  {
   "cell_type": "code",
   "execution_count": 13,
   "id": "b87e4cad",
   "metadata": {},
   "outputs": [
    {
     "data": {
      "text/plain": [
       "True"
      ]
     },
     "execution_count": 13,
     "metadata": {},
     "output_type": "execute_result"
    }
   ],
   "source": [
    "text.endswith(\"learn\")"
   ]
  },
  {
   "cell_type": "code",
   "execution_count": 14,
   "id": "f2867e09",
   "metadata": {},
   "outputs": [],
   "source": [
    "#19. Convert a string to title case (e.g., \"hello world\" to \"Hello World\")."
   ]
  },
  {
   "cell_type": "code",
   "execution_count": 15,
   "id": "12c444f3",
   "metadata": {},
   "outputs": [
    {
     "name": "stdout",
     "output_type": "stream",
     "text": [
      "Hello world\n"
     ]
    }
   ],
   "source": [
    "strTitle=\"hello world\"\n",
    "print(strTitle.capitalize())"
   ]
  },
  {
   "cell_type": "code",
   "execution_count": null,
   "id": "ebdd1351",
   "metadata": {},
   "outputs": [],
   "source": []
  }
 ],
 "metadata": {
  "kernelspec": {
   "display_name": "Python 3 (ipykernel)",
   "language": "python",
   "name": "python3"
  },
  "language_info": {
   "codemirror_mode": {
    "name": "ipython",
    "version": 3
   },
   "file_extension": ".py",
   "mimetype": "text/x-python",
   "name": "python",
   "nbconvert_exporter": "python",
   "pygments_lexer": "ipython3",
   "version": "3.11.4"
  }
 },
 "nbformat": 4,
 "nbformat_minor": 5
}
