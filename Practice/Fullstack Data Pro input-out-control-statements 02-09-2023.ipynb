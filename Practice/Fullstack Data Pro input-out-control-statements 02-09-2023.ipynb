{
 "cells": [
  {
   "cell_type": "code",
   "execution_count": 1,
   "id": "7d206ac6",
   "metadata": {},
   "outputs": [],
   "source": [
    "# 1.Numeric - int,float,complex\n",
    "# 2.String - str\n",
    "# 3.List\n",
    "# 4.Tuple\n",
    "# 5.Set\n",
    "# 6.Dict"
   ]
  },
  {
   "cell_type": "code",
   "execution_count": 5,
   "id": "ed73e370",
   "metadata": {},
   "outputs": [
    {
     "name": "stdout",
     "output_type": "stream",
     "text": [
      "hi ok pwskills\n"
     ]
    }
   ],
   "source": [
    "#F string format\n",
    "x=\"hi\"\n",
    "y=\"pwskills\"\n",
    "print(f\"{x} ok {y}\")"
   ]
  },
  {
   "cell_type": "code",
   "execution_count": 8,
   "id": "4c4aaa31",
   "metadata": {},
   "outputs": [
    {
     "name": "stdout",
     "output_type": "stream",
     "text": [
      "hi ok pwskills\n",
      "pwskills ok hi\n"
     ]
    }
   ],
   "source": [
    "#dot format method\n",
    "print(\"{} ok {}\".format(x,y))\n",
    "print(\"{1} ok {0}\".format(x,y))"
   ]
  },
  {
   "cell_type": "code",
   "execution_count": 9,
   "id": "0632c727",
   "metadata": {},
   "outputs": [
    {
     "name": "stdout",
     "output_type": "stream",
     "text": [
      "enter a stringcool\n",
      "!cool!\n"
     ]
    }
   ],
   "source": [
    "str1=input(\"enter a string\")\n",
    "print(f\"!{str1}!\")"
   ]
  },
  {
   "cell_type": "code",
   "execution_count": 15,
   "id": "5a83062c",
   "metadata": {},
   "outputs": [],
   "source": [
    "#operators\n",
    "#+,-,*,/,%,=,== (equality operator)\n",
    "#is called a identity operator"
   ]
  },
  {
   "cell_type": "code",
   "execution_count": 16,
   "id": "d4498e63",
   "metadata": {},
   "outputs": [],
   "source": [
    "a=10\n",
    "b=10"
   ]
  },
  {
   "cell_type": "code",
   "execution_count": 14,
   "id": "32ce9ddf",
   "metadata": {},
   "outputs": [
    {
     "data": {
      "text/plain": [
       "True"
      ]
     },
     "execution_count": 14,
     "metadata": {},
     "output_type": "execute_result"
    }
   ],
   "source": [
    "a is b"
   ]
  },
  {
   "cell_type": "code",
   "execution_count": 17,
   "id": "3f07b35f",
   "metadata": {},
   "outputs": [
    {
     "data": {
      "text/plain": [
       "2070930156112"
      ]
     },
     "execution_count": 17,
     "metadata": {},
     "output_type": "execute_result"
    }
   ],
   "source": [
    "id(a)"
   ]
  },
  {
   "cell_type": "code",
   "execution_count": 18,
   "id": "29ac16f0",
   "metadata": {},
   "outputs": [
    {
     "data": {
      "text/plain": [
       "2070930156112"
      ]
     },
     "execution_count": 18,
     "metadata": {},
     "output_type": "execute_result"
    }
   ],
   "source": [
    "id(b)"
   ]
  },
  {
   "cell_type": "code",
   "execution_count": 20,
   "id": "ef419e8c",
   "metadata": {},
   "outputs": [
    {
     "data": {
      "text/plain": [
       "True"
      ]
     },
     "execution_count": 20,
     "metadata": {},
     "output_type": "execute_result"
    }
   ],
   "source": [
    "a=20\n",
    "b=30\n",
    "a!=b"
   ]
  },
  {
   "cell_type": "code",
   "execution_count": 21,
   "id": "ee2921ae",
   "metadata": {},
   "outputs": [
    {
     "name": "stdout",
     "output_type": "stream",
     "text": [
      "enter a number10\n",
      "Result 5003154509899971.0\n"
     ]
    }
   ],
   "source": [
    "num1=int(input(\"enter a number\"))\n",
    "output=3**35/num1\n",
    "print(f\"Result {output}\")"
   ]
  },
  {
   "cell_type": "code",
   "execution_count": 23,
   "id": "0a204bc9",
   "metadata": {},
   "outputs": [],
   "source": [
    "a=10\n",
    "b=20"
   ]
  },
  {
   "cell_type": "code",
   "execution_count": 24,
   "id": "97976e1a",
   "metadata": {},
   "outputs": [
    {
     "data": {
      "text/plain": [
       "'0b1010'"
      ]
     },
     "execution_count": 24,
     "metadata": {},
     "output_type": "execute_result"
    }
   ],
   "source": [
    "bin(a)"
   ]
  },
  {
   "cell_type": "code",
   "execution_count": 25,
   "id": "31358ee0",
   "metadata": {},
   "outputs": [
    {
     "data": {
      "text/plain": [
       "'0b10100'"
      ]
     },
     "execution_count": 25,
     "metadata": {},
     "output_type": "execute_result"
    }
   ],
   "source": [
    "bin(b)"
   ]
  },
  {
   "cell_type": "code",
   "execution_count": 28,
   "id": "453fad90",
   "metadata": {},
   "outputs": [
    {
     "data": {
      "text/plain": [
       "0"
      ]
     },
     "execution_count": 28,
     "metadata": {},
     "output_type": "execute_result"
    }
   ],
   "source": [
    "a & b # & operator"
   ]
  },
  {
   "cell_type": "code",
   "execution_count": 29,
   "id": "c081f2e7",
   "metadata": {},
   "outputs": [
    {
     "data": {
      "text/plain": [
       "30"
      ]
     },
     "execution_count": 29,
     "metadata": {},
     "output_type": "execute_result"
    }
   ],
   "source": [
    "a | b # | operator"
   ]
  },
  {
   "cell_type": "code",
   "execution_count": 2,
   "id": "e4b49d3a",
   "metadata": {},
   "outputs": [
    {
     "name": "stdout",
     "output_type": "stream",
     "text": [
      "Enter a number 1 : 10\n",
      "Enter a number 2 : 2\n",
      "Enter option : /\n",
      "Division : 5.0\n"
     ]
    }
   ],
   "source": [
    "num1=int(input(\"Enter a number 1 : \"))\n",
    "num2=int(input(\"Enter a number 2 : \"))\n",
    "opt=input(\"Enter option : \")\n",
    "if opt==\"+\":\n",
    "    print(\"Addition :\",(num1+num2))\n",
    "elif opt==\"*\":\n",
    "    print(\"Multiplication :\",(num1*num2))\n",
    "elif opt==\"-\":\n",
    "    print(\"Subtraction :\",(num1-num2))\n",
    "elif opt==\"/\":\n",
    "    print(\"Division :\",(num1/num2))\n",
    "else:\n",
    "    print(\"Invalid option\")"
   ]
  },
  {
   "cell_type": "code",
   "execution_count": 4,
   "id": "c4d17b52",
   "metadata": {},
   "outputs": [
    {
     "name": "stdout",
     "output_type": "stream",
     "text": [
      "Please enter time \n",
      "10\n",
      "Morning\n"
     ]
    }
   ],
   "source": [
    "time=int(input(\"Please enter time \\n\"))\n",
    "\n",
    "if time<0:\n",
    "    print(\"Invalid\")\n",
    "elif 0<= time <=5:\n",
    "    print(\"Night\")\n",
    "elif 6<= time <=11:\n",
    "    print(\"Morning\")\n",
    "elif 18<= time <=23:\n",
    "    print(\"Night\")\n",
    "else:\n",
    "    print(\"Invalid\")"
   ]
  },
  {
   "cell_type": "code",
   "execution_count": 5,
   "id": "dfac65cb",
   "metadata": {},
   "outputs": [
    {
     "name": "stdout",
     "output_type": "stream",
     "text": [
      "Number is a positive\n"
     ]
    }
   ],
   "source": [
    "num=10\n",
    "\n",
    "if(num>=0):\n",
    "    if(num==0):\n",
    "        print(\"Number is a zero\")\n",
    "    else:\n",
    "        print(\"Number is a positive\")\n",
    "else:\n",
    "    print(\"Number is a negative\")"
   ]
  },
  {
   "cell_type": "code",
   "execution_count": 6,
   "id": "efcc80a4",
   "metadata": {},
   "outputs": [
    {
     "data": {
      "text/plain": [
       "range(0, 5)"
      ]
     },
     "execution_count": 6,
     "metadata": {},
     "output_type": "execute_result"
    }
   ],
   "source": [
    "range(0,5)"
   ]
  },
  {
   "cell_type": "code",
   "execution_count": 7,
   "id": "712bd0c0",
   "metadata": {},
   "outputs": [
    {
     "data": {
      "text/plain": [
       "[0, 1, 2, 3, 4]"
      ]
     },
     "execution_count": 7,
     "metadata": {},
     "output_type": "execute_result"
    }
   ],
   "source": [
    "list(range(0,5))"
   ]
  },
  {
   "cell_type": "code",
   "execution_count": 8,
   "id": "128b5178",
   "metadata": {},
   "outputs": [],
   "source": [
    "#range(start,stop,step)"
   ]
  },
  {
   "cell_type": "code",
   "execution_count": 9,
   "id": "40e0481b",
   "metadata": {},
   "outputs": [
    {
     "data": {
      "text/plain": [
       "[2, 3, 4, 5, 6, 7, 8, 9]"
      ]
     },
     "execution_count": 9,
     "metadata": {},
     "output_type": "execute_result"
    }
   ],
   "source": [
    "list(range(2,10))"
   ]
  },
  {
   "cell_type": "code",
   "execution_count": 10,
   "id": "a18c719e",
   "metadata": {},
   "outputs": [
    {
     "name": "stdout",
     "output_type": "stream",
     "text": [
      "0\n",
      "1\n",
      "2\n",
      "3\n",
      "4\n"
     ]
    }
   ],
   "source": [
    "for i in range(5):\n",
    "    print(i)"
   ]
  },
  {
   "cell_type": "code",
   "execution_count": 19,
   "id": "fab1337c",
   "metadata": {},
   "outputs": [
    {
     "name": "stdout",
     "output_type": "stream",
     "text": [
      "name\n",
      "city\n"
     ]
    }
   ],
   "source": [
    "x={\"name\":\"khadar basha\",\"city\":\"kakinada\"}\n",
    "for key,item in list(enumerate(x)):\n",
    "    print(item)"
   ]
  },
  {
   "cell_type": "code",
   "execution_count": 20,
   "id": "650e46ab",
   "metadata": {},
   "outputs": [
    {
     "name": "stdout",
     "output_type": "stream",
     "text": [
      "india\n",
      "uk\n",
      "germeny\n"
     ]
    }
   ],
   "source": [
    "country=[\"india\",\"uk\",\"germeny\"]\n",
    "for i in country:\n",
    "    print(i)"
   ]
  },
  {
   "cell_type": "code",
   "execution_count": 21,
   "id": "f59ef36b",
   "metadata": {},
   "outputs": [
    {
     "name": "stdout",
     "output_type": "stream",
     "text": [
      "india\n",
      "uk\n",
      "germeny\n"
     ]
    }
   ],
   "source": [
    "for i in range(len(country)):\n",
    "    print(country[i])"
   ]
  },
  {
   "cell_type": "code",
   "execution_count": 29,
   "id": "20381953",
   "metadata": {},
   "outputs": [
    {
     "name": "stdout",
     "output_type": "stream",
     "text": [
      "name khadar basha\n",
      "city kakinada\n"
     ]
    }
   ],
   "source": [
    "for key in x:\n",
    "    print(key,x[key])"
   ]
  },
  {
   "cell_type": "code",
   "execution_count": 31,
   "id": "abb1b83f",
   "metadata": {},
   "outputs": [
    {
     "name": "stdout",
     "output_type": "stream",
     "text": [
      "0 1 2 3 4 5 6 7 8 9 "
     ]
    }
   ],
   "source": [
    "for i in range(10):\n",
    "    print(i,end=' ')"
   ]
  },
  {
   "cell_type": "code",
   "execution_count": 32,
   "id": "3bd1a561",
   "metadata": {},
   "outputs": [
    {
     "name": "stdout",
     "output_type": "stream",
     "text": [
      "1\n",
      "2\n",
      "3\n",
      "5\n"
     ]
    }
   ],
   "source": [
    "for i in (1,2,3,5):\n",
    "    print(i)"
   ]
  },
  {
   "cell_type": "code",
   "execution_count": 33,
   "id": "e9116d2a",
   "metadata": {},
   "outputs": [
    {
     "name": "stdout",
     "output_type": "stream",
     "text": [
      "10\n",
      "20\n",
      "55\n"
     ]
    }
   ],
   "source": [
    "for i in {10,20,55}:\n",
    "    print(i)"
   ]
  },
  {
   "cell_type": "code",
   "execution_count": 34,
   "id": "a68f734a",
   "metadata": {},
   "outputs": [
    {
     "name": "stdout",
     "output_type": "stream",
     "text": [
      "0\n",
      "1\n",
      "2\n",
      "3\n",
      "4\n",
      "Loop is completed\n"
     ]
    }
   ],
   "source": [
    "for i in range(5):\n",
    "    print(i)\n",
    "else:\n",
    "    print(\"Loop is completed\")"
   ]
  },
  {
   "cell_type": "code",
   "execution_count": 36,
   "id": "817274f4",
   "metadata": {},
   "outputs": [
    {
     "name": "stdout",
     "output_type": "stream",
     "text": [
      "*\r\n",
      "**\r\n",
      "***\r\n",
      "****\r\n",
      "*****\r\n",
      "******\r\n",
      "*******\r\n"
     ]
    }
   ],
   "source": [
    "for i in range(7):\n",
    "    for j in range(0,i+1):\n",
    "        print(\"*\",end=\"\")\n",
    "    print(\"\\r\")"
   ]
  },
  {
   "cell_type": "code",
   "execution_count": 44,
   "id": "58cc74c5",
   "metadata": {},
   "outputs": [
    {
     "name": "stdout",
     "output_type": "stream",
     "text": [
      "* * * * * \r\n",
      "* * * * \r\n",
      "* * * \r\n",
      "* * \r\n",
      "* \r\n"
     ]
    }
   ],
   "source": [
    "for i in range(5,0,-1):\n",
    "    for j in range(i,0,-1):\n",
    "        print(\"*\",end=\" \")\n",
    "    print(\"\\r\")"
   ]
  },
  {
   "cell_type": "code",
   "execution_count": 47,
   "id": "7b446a87",
   "metadata": {},
   "outputs": [
    {
     "name": "stdout",
     "output_type": "stream",
     "text": [
      "\n",
      "*\n",
      "\n",
      "***\n",
      "\n",
      "******\n",
      "\n",
      "**********\n"
     ]
    }
   ],
   "source": [
    "myList=[]\n",
    "for i in range(1,5):\n",
    "    myList.append(\"*\"*i)\n",
    "    print(\"\\n\"+\"\".join(myList))\n",
    "    "
   ]
  },
  {
   "cell_type": "code",
   "execution_count": 55,
   "id": "e27f32f5",
   "metadata": {},
   "outputs": [
    {
     "name": "stdout",
     "output_type": "stream",
     "text": [
      "1 2 3 4 5 \n",
      "2 4 6 8 10 \n",
      "3 6 9 12 15 \n",
      "4 8 12 16 20 \n",
      "5 10 15 20 25 \n"
     ]
    }
   ],
   "source": [
    "for i in range(1,6):\n",
    "    for j in range(1,6):\n",
    "        print(i*j,end=\" \")\n",
    "    print()"
   ]
  },
  {
   "cell_type": "code",
   "execution_count": 57,
   "id": "a15de4bb",
   "metadata": {},
   "outputs": [
    {
     "name": "stdout",
     "output_type": "stream",
     "text": [
      "1\n",
      "2\n",
      "3\n",
      "4\n",
      "5\n"
     ]
    }
   ],
   "source": [
    "count=1\n",
    "\n",
    "while count<=5:\n",
    "    print(count)\n",
    "    count+=1"
   ]
  },
  {
   "cell_type": "code",
   "execution_count": 65,
   "id": "d8bcba87",
   "metadata": {},
   "outputs": [
    {
     "name": "stdout",
     "output_type": "stream",
     "text": [
      "1 2 3 4 5 6 \n",
      "2 4 6 8 10 12 \n",
      "3 6 9 12 15 18 \n",
      "4 8 12 16 20 24 \n",
      "5 10 15 20 25 30 \n",
      "6 12 18 24 30 36 \n"
     ]
    }
   ],
   "source": [
    "ocount=1\n",
    "while ocount<=6:\n",
    "        incount=1\n",
    "        while incount<=6:\n",
    "            print(ocount*incount,end=\" \")\n",
    "            incount+=1\n",
    "        print()\n",
    "        ocount+=1"
   ]
  },
  {
   "cell_type": "code",
   "execution_count": 66,
   "id": "4032d4da",
   "metadata": {},
   "outputs": [
    {
     "name": "stdout",
     "output_type": "stream",
     "text": [
      "enter a wordhi\n",
      "You entered hi\n",
      "enter a wordkhadar\n",
      "You entered khadar\n",
      "enter a wordbasha\n",
      "You entered basha\n",
      "enter a wordnagoor\n",
      "You entered nagoor\n",
      "enter a wordquit\n",
      "You entered quit\n"
     ]
    }
   ],
   "source": [
    "text=\" \"\n",
    "while text!=\"quit\":\n",
    "    text=input(\"enter a word\")\n",
    "    print(\"You entered\",text)"
   ]
  },
  {
   "cell_type": "code",
   "execution_count": 67,
   "id": "9b9b19e1",
   "metadata": {},
   "outputs": [],
   "source": [
    "#if you know how many times you will iterate go with for loop\n",
    "#if you don't know how many time you will iterate go with for while"
   ]
  },
  {
   "cell_type": "code",
   "execution_count": 68,
   "id": "1f968c7a",
   "metadata": {},
   "outputs": [],
   "source": [
    "#break,continue and pass"
   ]
  },
  {
   "cell_type": "code",
   "execution_count": 71,
   "id": "8a7f800c",
   "metadata": {},
   "outputs": [
    {
     "name": "stdout",
     "output_type": "stream",
     "text": [
      "Enter age 21\n",
      "Entered age is  21\n",
      "Enter age 25\n",
      "Entered age is  25\n",
      "Enter age 45\n",
      "Entered age is  45\n",
      "Enter age 23\n",
      "Entered age is  23\n",
      "Invalid\n"
     ]
    }
   ],
   "source": [
    "#guess age\n",
    "age=0\n",
    "while age!=23:\n",
    "    age=int(input(\"Enter age \"))\n",
    "    print(\"Entered age is \",age)\n",
    "else:\n",
    "    print(\"Invalid\")"
   ]
  },
  {
   "cell_type": "code",
   "execution_count": null,
   "id": "b65a0d55",
   "metadata": {},
   "outputs": [],
   "source": []
  }
 ],
 "metadata": {
  "kernelspec": {
   "display_name": "Python 3 (ipykernel)",
   "language": "python",
   "name": "python3"
  },
  "language_info": {
   "codemirror_mode": {
    "name": "ipython",
    "version": 3
   },
   "file_extension": ".py",
   "mimetype": "text/x-python",
   "name": "python",
   "nbconvert_exporter": "python",
   "pygments_lexer": "ipython3",
   "version": "3.9.13"
  }
 },
 "nbformat": 4,
 "nbformat_minor": 5
}
