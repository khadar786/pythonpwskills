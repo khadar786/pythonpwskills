{
 "cells": [
  {
   "cell_type": "markdown",
   "id": "c6b8ed2a",
   "metadata": {},
   "source": [
    "#Types of function <br>\n",
    "Standard library functions <br>\n",
    "User-defined functions <br>"
   ]
  },
  {
   "cell_type": "code",
   "execution_count": 2,
   "id": "81c66d47",
   "metadata": {},
   "outputs": [],
   "source": [
    "#def function_name(arguments):\n",
    "    # function body \n",
    "\n",
    "#    return\n",
    "\n",
    "# def - keyword used to declare a function\n",
    "# function_name - any name given to the function\n",
    "# arguments - any value passed to function\n",
    "# return (optional) - returns value from a function"
   ]
  },
  {
   "cell_type": "code",
   "execution_count": 1,
   "id": "38c92101",
   "metadata": {},
   "outputs": [],
   "source": [
    "def greetName():\n",
    "    print(\"Hello\")"
   ]
  },
  {
   "cell_type": "code",
   "execution_count": 2,
   "id": "7d90fb44",
   "metadata": {},
   "outputs": [
    {
     "name": "stdout",
     "output_type": "stream",
     "text": [
      "Hello\n"
     ]
    }
   ],
   "source": [
    "greetName()"
   ]
  },
  {
   "cell_type": "code",
   "execution_count": 3,
   "id": "477ed5c3",
   "metadata": {},
   "outputs": [],
   "source": [
    "#Python Function Arguments"
   ]
  },
  {
   "cell_type": "code",
   "execution_count": 9,
   "id": "af791fc3",
   "metadata": {},
   "outputs": [],
   "source": [
    "def add_numbers(num1,num2):\n",
    "    print(\"Sum of {n1} and {n2} = {sum} \".format(n1=num1,n2=num2,sum=(num1+num2)))"
   ]
  },
  {
   "cell_type": "code",
   "execution_count": 10,
   "id": "ace2979e",
   "metadata": {},
   "outputs": [
    {
     "name": "stdout",
     "output_type": "stream",
     "text": [
      "Sum of 10 and 20 = 30 \n"
     ]
    }
   ],
   "source": [
    "add_numbers(10,20)"
   ]
  },
  {
   "cell_type": "code",
   "execution_count": 11,
   "id": "12ad9387",
   "metadata": {},
   "outputs": [],
   "source": [
    "#The return Statement in Python"
   ]
  },
  {
   "cell_type": "code",
   "execution_count": 12,
   "id": "e6fe48b0",
   "metadata": {},
   "outputs": [],
   "source": [
    "def find_square(num):\n",
    "    return num*num;"
   ]
  },
  {
   "cell_type": "code",
   "execution_count": 13,
   "id": "c9946d80",
   "metadata": {},
   "outputs": [
    {
     "name": "stdout",
     "output_type": "stream",
     "text": [
      "Square of 10 = 100 \n"
     ]
    }
   ],
   "source": [
    "n=10\n",
    "print(\"Square of {} = {} \".format(n,find_square(n)))"
   ]
  },
  {
   "cell_type": "code",
   "execution_count": 14,
   "id": "d9a0adf7",
   "metadata": {},
   "outputs": [],
   "source": [
    "def addNumbers(num1,num2):\n",
    "    sum=num1+num2\n",
    "    return sum;"
   ]
  },
  {
   "cell_type": "code",
   "execution_count": 15,
   "id": "ec6f3bc8",
   "metadata": {},
   "outputs": [
    {
     "data": {
      "text/plain": [
       "50"
      ]
     },
     "execution_count": 15,
     "metadata": {},
     "output_type": "execute_result"
    }
   ],
   "source": [
    "addNumbers(20,30)"
   ]
  },
  {
   "cell_type": "code",
   "execution_count": 17,
   "id": "1f99b08f",
   "metadata": {},
   "outputs": [],
   "source": [
    "def miniCalculator(num1,num2,opt):\n",
    "    result='';\n",
    "    if opt=='+':\n",
    "        result=num1+num2;\n",
    "    elif opt=='-':\n",
    "        result=num1-num2;\n",
    "    elif opt=='*':\n",
    "        result=num1*num2;\n",
    "    elif opt=='/':\n",
    "        result=num1/num2;\n",
    "    else:\n",
    "        result='Error'\n",
    "    return result\n",
    "        "
   ]
  },
  {
   "cell_type": "code",
   "execution_count": 18,
   "id": "8a2fbc0b",
   "metadata": {},
   "outputs": [
    {
     "data": {
      "text/plain": [
       "95"
      ]
     },
     "execution_count": 18,
     "metadata": {},
     "output_type": "execute_result"
    }
   ],
   "source": [
    "miniCalculator(45,50,'+')"
   ]
  },
  {
   "cell_type": "code",
   "execution_count": 19,
   "id": "c8062a57",
   "metadata": {},
   "outputs": [
    {
     "data": {
      "text/plain": [
       "5"
      ]
     },
     "execution_count": 19,
     "metadata": {},
     "output_type": "execute_result"
    }
   ],
   "source": [
    "miniCalculator(55,50,'-')"
   ]
  },
  {
   "cell_type": "code",
   "execution_count": 20,
   "id": "202ea086",
   "metadata": {},
   "outputs": [
    {
     "data": {
      "text/plain": [
       "2250"
      ]
     },
     "execution_count": 20,
     "metadata": {},
     "output_type": "execute_result"
    }
   ],
   "source": [
    "miniCalculator(45,50,'*')"
   ]
  },
  {
   "cell_type": "code",
   "execution_count": 21,
   "id": "649cfe5a",
   "metadata": {},
   "outputs": [
    {
     "data": {
      "text/plain": [
       "0.9"
      ]
     },
     "execution_count": 21,
     "metadata": {},
     "output_type": "execute_result"
    }
   ],
   "source": [
    "miniCalculator(45,50,'/')"
   ]
  },
  {
   "cell_type": "code",
   "execution_count": 22,
   "id": "c4cc7447",
   "metadata": {},
   "outputs": [
    {
     "data": {
      "text/plain": [
       "'Error'"
      ]
     },
     "execution_count": 22,
     "metadata": {},
     "output_type": "execute_result"
    }
   ],
   "source": [
    "miniCalculator(45,50,'')"
   ]
  },
  {
   "cell_type": "code",
   "execution_count": 24,
   "id": "9422d621",
   "metadata": {},
   "outputs": [],
   "source": [
    "#Python Library Functions\n",
    "#print(),sqrt(),pow()"
   ]
  },
  {
   "cell_type": "code",
   "execution_count": 27,
   "id": "1b00719b",
   "metadata": {},
   "outputs": [
    {
     "name": "stdout",
     "output_type": "stream",
     "text": [
      "2.0\n"
     ]
    }
   ],
   "source": [
    "#Python Library Function\n",
    "import math\n",
    "square_root=math.sqrt(4)\n",
    "print(square_root)"
   ]
  },
  {
   "cell_type": "code",
   "execution_count": 30,
   "id": "1c910176",
   "metadata": {},
   "outputs": [
    {
     "name": "stdout",
     "output_type": "stream",
     "text": [
      "256.0\n"
     ]
    }
   ],
   "source": [
    "power=math.pow(4,4)\n",
    "print(power)"
   ]
  },
  {
   "cell_type": "code",
   "execution_count": null,
   "id": "dcedd9be",
   "metadata": {},
   "outputs": [],
   "source": []
  }
 ],
 "metadata": {
  "kernelspec": {
   "display_name": "Python 3 (ipykernel)",
   "language": "python",
   "name": "python3"
  },
  "language_info": {
   "codemirror_mode": {
    "name": "ipython",
    "version": 3
   },
   "file_extension": ".py",
   "mimetype": "text/x-python",
   "name": "python",
   "nbconvert_exporter": "python",
   "pygments_lexer": "ipython3",
   "version": "3.11.4"
  }
 },
 "nbformat": 4,
 "nbformat_minor": 5
}
