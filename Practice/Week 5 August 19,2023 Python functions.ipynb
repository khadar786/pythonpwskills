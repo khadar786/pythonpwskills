{
 "cells": [
  {
   "cell_type": "markdown",
   "id": "c6b8ed2a",
   "metadata": {},
   "source": [
    "#Types of function <br>\n",
    "Standard library functions <br>\n",
    "User-defined functions <br>"
   ]
  },
  {
   "cell_type": "code",
   "execution_count": 2,
   "id": "81c66d47",
   "metadata": {},
   "outputs": [],
   "source": [
    "#def function_name(arguments):\n",
    "    # function body \n",
    "\n",
    "#    return\n",
    "\n",
    "# def - keyword used to declare a function\n",
    "# function_name - any name given to the function\n",
    "# arguments - any value passed to function\n",
    "# return (optional) - returns value from a function"
   ]
  },
  {
   "cell_type": "code",
   "execution_count": null,
   "id": "38c92101",
   "metadata": {},
   "outputs": [],
   "source": [
    "def "
   ]
  }
 ],
 "metadata": {
  "kernelspec": {
   "display_name": "Python 3 (ipykernel)",
   "language": "python",
   "name": "python3"
  },
  "language_info": {
   "codemirror_mode": {
    "name": "ipython",
    "version": 3
   },
   "file_extension": ".py",
   "mimetype": "text/x-python",
   "name": "python",
   "nbconvert_exporter": "python",
   "pygments_lexer": "ipython3",
   "version": "3.9.13"
  }
 },
 "nbformat": 4,
 "nbformat_minor": 5
}
