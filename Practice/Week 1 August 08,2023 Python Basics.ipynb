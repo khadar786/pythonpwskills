{
 "cells": [
  {
   "cell_type": "markdown",
   "id": "4746ea1c",
   "metadata": {},
   "source": [
    "12-08-2023"
   ]
  },
  {
   "cell_type": "markdown",
   "id": "30730cf3",
   "metadata": {},
   "source": [
    "Data Types<br>\n",
    "Integers - int  :Whole numbers such as : 3,100,200<br>\n",
    "Floating Point - float :Numbers with decimal point : 2.3,4.6,100.0<br>\n",
    "Strings - str :Ordered sequence of characters \"Hello\",\"Khadar\"<br>\n",
    "Lists - list :Ordered sequence of objects [10,\"hello\",12.30]<br>\n",
    "Dictionaries - dict :Unordered key:value pairs {key:value}<br>\n",
    "Tuples - tup :Ordered immutable sequence of objects (10,\"hello\",200.30)<br>\n",
    "Sets - set :Unordered collection of unique objects {\"a\",\"b\"}<br>\n",
    "Boolean - bool :Logical value indicating True or False<br>"
   ]
  },
  {
   "cell_type": "code",
   "execution_count": 1,
   "id": "ef8a6848",
   "metadata": {
    "scrolled": true
   },
   "outputs": [
    {
     "data": {
      "text/plain": [
       "2"
      ]
     },
     "execution_count": 1,
     "metadata": {},
     "output_type": "execute_result"
    }
   ],
   "source": [
    "1+1"
   ]
  },
  {
   "cell_type": "code",
   "execution_count": 2,
   "id": "a69ed0f6",
   "metadata": {},
   "outputs": [
    {
     "data": {
      "text/plain": [
       "2.3333333333333335"
      ]
     },
     "execution_count": 2,
     "metadata": {},
     "output_type": "execute_result"
    }
   ],
   "source": [
    "7/3"
   ]
  },
  {
   "cell_type": "code",
   "execution_count": 3,
   "id": "06c9cf69",
   "metadata": {},
   "outputs": [
    {
     "data": {
      "text/plain": [
       "20"
      ]
     },
     "execution_count": 3,
     "metadata": {},
     "output_type": "execute_result"
    }
   ],
   "source": [
    "10 * 2"
   ]
  },
  {
   "cell_type": "code",
   "execution_count": 4,
   "id": "7795ec80",
   "metadata": {},
   "outputs": [
    {
     "data": {
      "text/plain": [
       "'hihihihihihihihihihi'"
      ]
     },
     "execution_count": 4,
     "metadata": {},
     "output_type": "execute_result"
    }
   ],
   "source": [
    "10 * \"hi\""
   ]
  },
  {
   "cell_type": "code",
   "execution_count": 5,
   "id": "b1dc8360",
   "metadata": {},
   "outputs": [
    {
     "data": {
      "text/plain": [
       "1"
      ]
     },
     "execution_count": 5,
     "metadata": {},
     "output_type": "execute_result"
    }
   ],
   "source": [
    "7 % 3"
   ]
  },
  {
   "cell_type": "code",
   "execution_count": 6,
   "id": "eb7e4cd4",
   "metadata": {},
   "outputs": [
    {
     "data": {
      "text/plain": [
       "0"
      ]
     },
     "execution_count": 6,
     "metadata": {},
     "output_type": "execute_result"
    }
   ],
   "source": [
    "50%10"
   ]
  },
  {
   "cell_type": "code",
   "execution_count": 7,
   "id": "b8dd80ed",
   "metadata": {},
   "outputs": [
    {
     "data": {
      "text/plain": [
       "8"
      ]
     },
     "execution_count": 7,
     "metadata": {},
     "output_type": "execute_result"
    }
   ],
   "source": [
    "2 ** 3"
   ]
  },
  {
   "cell_type": "code",
   "execution_count": 8,
   "id": "230d6220",
   "metadata": {},
   "outputs": [
    {
     "data": {
      "text/plain": [
       "105"
      ]
     },
     "execution_count": 8,
     "metadata": {},
     "output_type": "execute_result"
    }
   ],
   "source": [
    "2 + 10 * 10 +3"
   ]
  },
  {
   "cell_type": "code",
   "execution_count": 9,
   "id": "c44057a3",
   "metadata": {},
   "outputs": [
    {
     "data": {
      "text/plain": [
       "156"
      ]
     },
     "execution_count": 9,
     "metadata": {},
     "output_type": "execute_result"
    }
   ],
   "source": [
    "(2+10) * (10+3)"
   ]
  },
  {
   "cell_type": "code",
   "execution_count": 10,
   "id": "2598b048",
   "metadata": {},
   "outputs": [],
   "source": [
    "## Check data type"
   ]
  },
  {
   "cell_type": "code",
   "execution_count": 11,
   "id": "ea51b8f0",
   "metadata": {},
   "outputs": [],
   "source": [
    "a=10"
   ]
  },
  {
   "cell_type": "code",
   "execution_count": 12,
   "id": "117769a5",
   "metadata": {},
   "outputs": [
    {
     "data": {
      "text/plain": [
       "int"
      ]
     },
     "execution_count": 12,
     "metadata": {},
     "output_type": "execute_result"
    }
   ],
   "source": [
    "type(a)"
   ]
  },
  {
   "cell_type": "code",
   "execution_count": 13,
   "id": "b881f74e",
   "metadata": {},
   "outputs": [],
   "source": [
    "a=10.5*2"
   ]
  },
  {
   "cell_type": "code",
   "execution_count": 14,
   "id": "acd0cb0e",
   "metadata": {},
   "outputs": [
    {
     "data": {
      "text/plain": [
       "float"
      ]
     },
     "execution_count": 14,
     "metadata": {},
     "output_type": "execute_result"
    }
   ],
   "source": [
    "type(a)"
   ]
  },
  {
   "cell_type": "code",
   "execution_count": 15,
   "id": "622c5609",
   "metadata": {},
   "outputs": [],
   "source": [
    "fname=\"khadar\""
   ]
  },
  {
   "cell_type": "code",
   "execution_count": 16,
   "id": "3669ac13",
   "metadata": {},
   "outputs": [
    {
     "data": {
      "text/plain": [
       "str"
      ]
     },
     "execution_count": 16,
     "metadata": {},
     "output_type": "execute_result"
    }
   ],
   "source": [
    "type(fname)"
   ]
  },
  {
   "cell_type": "code",
   "execution_count": 17,
   "id": "4bb0062e",
   "metadata": {},
   "outputs": [],
   "source": [
    "c=10+5j"
   ]
  },
  {
   "cell_type": "code",
   "execution_count": 18,
   "id": "8379ce41",
   "metadata": {},
   "outputs": [
    {
     "data": {
      "text/plain": [
       "complex"
      ]
     },
     "execution_count": 18,
     "metadata": {},
     "output_type": "execute_result"
    }
   ],
   "source": [
    "type(c)"
   ]
  },
  {
   "cell_type": "code",
   "execution_count": 19,
   "id": "e87fd6ae",
   "metadata": {},
   "outputs": [
    {
     "data": {
      "text/plain": [
       "10.0"
      ]
     },
     "execution_count": 19,
     "metadata": {},
     "output_type": "execute_result"
    }
   ],
   "source": [
    "c.real"
   ]
  },
  {
   "cell_type": "code",
   "execution_count": 20,
   "id": "a04aa75b",
   "metadata": {
    "scrolled": true
   },
   "outputs": [
    {
     "data": {
      "text/plain": [
       "5.0"
      ]
     },
     "execution_count": 20,
     "metadata": {},
     "output_type": "execute_result"
    }
   ],
   "source": [
    "c.imag"
   ]
  },
  {
   "cell_type": "markdown",
   "id": "ae90e8c5",
   "metadata": {},
   "source": [
    "Strings\n",
    "slice syntax : [start:stop:step]\n",
    "len : length"
   ]
  },
  {
   "cell_type": "code",
   "execution_count": 21,
   "id": "56e182f2",
   "metadata": {},
   "outputs": [
    {
     "data": {
      "text/plain": [
       "'Hello'"
      ]
     },
     "execution_count": 21,
     "metadata": {},
     "output_type": "execute_result"
    }
   ],
   "source": [
    "\"Hello\""
   ]
  },
  {
   "cell_type": "code",
   "execution_count": 23,
   "id": "0c00014b",
   "metadata": {},
   "outputs": [
    {
     "name": "stdout",
     "output_type": "stream",
     "text": [
      "Hi \n",
      "khadar\n"
     ]
    }
   ],
   "source": [
    "print(\"Hi \\nkhadar\")"
   ]
  },
  {
   "cell_type": "code",
   "execution_count": 24,
   "id": "9955611a",
   "metadata": {},
   "outputs": [
    {
     "name": "stdout",
     "output_type": "stream",
     "text": [
      "Hi \thello\n"
     ]
    }
   ],
   "source": [
    "print(\"Hi \\thello\")"
   ]
  },
  {
   "cell_type": "code",
   "execution_count": 25,
   "id": "790be53b",
   "metadata": {},
   "outputs": [
    {
     "data": {
      "text/plain": [
       "6"
      ]
     },
     "execution_count": 25,
     "metadata": {},
     "output_type": "execute_result"
    }
   ],
   "source": [
    "len(\"khadar\")"
   ]
  },
  {
   "cell_type": "code",
   "execution_count": 26,
   "id": "38f635bb",
   "metadata": {},
   "outputs": [],
   "source": [
    "myString=\"Hello World\""
   ]
  },
  {
   "cell_type": "code",
   "execution_count": 28,
   "id": "34d30aa1",
   "metadata": {},
   "outputs": [
    {
     "name": "stdout",
     "output_type": "stream",
     "text": [
      "Hello World\n"
     ]
    }
   ],
   "source": [
    "print(myString)"
   ]
  },
  {
   "cell_type": "code",
   "execution_count": 29,
   "id": "c1bb08a3",
   "metadata": {},
   "outputs": [
    {
     "data": {
      "text/plain": [
       "'Hello'"
      ]
     },
     "execution_count": 29,
     "metadata": {},
     "output_type": "execute_result"
    }
   ],
   "source": [
    "myString[0:5]"
   ]
  },
  {
   "cell_type": "code",
   "execution_count": 30,
   "id": "8e3a4c8b",
   "metadata": {},
   "outputs": [
    {
     "data": {
      "text/plain": [
       "'d'"
      ]
     },
     "execution_count": 30,
     "metadata": {},
     "output_type": "execute_result"
    }
   ],
   "source": [
    "myString[-1]"
   ]
  },
  {
   "cell_type": "code",
   "execution_count": 31,
   "id": "881e186a",
   "metadata": {},
   "outputs": [
    {
     "data": {
      "text/plain": [
       "''"
      ]
     },
     "execution_count": 31,
     "metadata": {},
     "output_type": "execute_result"
    }
   ],
   "source": [
    "myString[-1:4]"
   ]
  },
  {
   "cell_type": "code",
   "execution_count": 32,
   "id": "d1bc40c2",
   "metadata": {},
   "outputs": [
    {
     "data": {
      "text/plain": [
       "''"
      ]
     },
     "execution_count": 32,
     "metadata": {},
     "output_type": "execute_result"
    }
   ],
   "source": [
    "myString[-1:-5]"
   ]
  },
  {
   "cell_type": "code",
   "execution_count": 33,
   "id": "46d1b59c",
   "metadata": {},
   "outputs": [
    {
     "data": {
      "text/plain": [
       "''"
      ]
     },
     "execution_count": 33,
     "metadata": {},
     "output_type": "execute_result"
    }
   ],
   "source": [
    "myString[-1:0]"
   ]
  },
  {
   "cell_type": "code",
   "execution_count": 34,
   "id": "7ef0b880",
   "metadata": {},
   "outputs": [
    {
     "data": {
      "text/plain": [
       "'r'"
      ]
     },
     "execution_count": 34,
     "metadata": {},
     "output_type": "execute_result"
    }
   ],
   "source": [
    "myString[-3]"
   ]
  },
  {
   "cell_type": "code",
   "execution_count": 2,
   "id": "b64e1d3c",
   "metadata": {},
   "outputs": [],
   "source": [
    "myString=\"Hello World\""
   ]
  },
  {
   "cell_type": "code",
   "execution_count": 13,
   "id": "9337f272",
   "metadata": {},
   "outputs": [
    {
     "data": {
      "text/plain": [
       "'H'"
      ]
     },
     "execution_count": 13,
     "metadata": {},
     "output_type": "execute_result"
    }
   ],
   "source": [
    "myString[0::-1]"
   ]
  },
  {
   "cell_type": "code",
   "execution_count": 14,
   "id": "aeaab754",
   "metadata": {},
   "outputs": [
    {
     "data": {
      "text/plain": [
       "'HloWrd'"
      ]
     },
     "execution_count": 14,
     "metadata": {},
     "output_type": "execute_result"
    }
   ],
   "source": [
    "myString[0::2]"
   ]
  },
  {
   "cell_type": "code",
   "execution_count": 15,
   "id": "e763a809",
   "metadata": {},
   "outputs": [
    {
     "data": {
      "text/plain": [
       "'Hello'"
      ]
     },
     "execution_count": 15,
     "metadata": {},
     "output_type": "execute_result"
    }
   ],
   "source": [
    "myString[:5]"
   ]
  },
  {
   "cell_type": "markdown",
   "id": "e7ac2d0d",
   "metadata": {},
   "source": [
    "Immutability"
   ]
  },
  {
   "cell_type": "code",
   "execution_count": 16,
   "id": "1052f8d4",
   "metadata": {},
   "outputs": [],
   "source": [
    "name=\"khadar\""
   ]
  },
  {
   "cell_type": "code",
   "execution_count": 18,
   "id": "259f8c1d",
   "metadata": {},
   "outputs": [],
   "source": [
    "last_letters=name[3:]"
   ]
  },
  {
   "cell_type": "code",
   "execution_count": 19,
   "id": "8cca41f6",
   "metadata": {},
   "outputs": [
    {
     "data": {
      "text/plain": [
       "'Bdar'"
      ]
     },
     "execution_count": 19,
     "metadata": {},
     "output_type": "execute_result"
    }
   ],
   "source": [
    "\"B\"+last_letters"
   ]
  },
  {
   "cell_type": "code",
   "execution_count": 20,
   "id": "78e0c61c",
   "metadata": {},
   "outputs": [],
   "source": [
    "x=\"Hello World\""
   ]
  },
  {
   "cell_type": "code",
   "execution_count": 21,
   "id": "8b13cf36",
   "metadata": {},
   "outputs": [
    {
     "data": {
      "text/plain": [
       "'Hello World it is beautiful place'"
      ]
     },
     "execution_count": 21,
     "metadata": {},
     "output_type": "execute_result"
    }
   ],
   "source": [
    "x+\" it is beautiful place\""
   ]
  },
  {
   "cell_type": "markdown",
   "id": "19c98771",
   "metadata": {},
   "source": [
    "len() - lenght of the string <br>\n",
    "find() - search the character of the string or string<br>\n",
    "count() <br>\n",
    "capitalize <br>\n",
    "lower,uppler <br>"
   ]
  },
  {
   "cell_type": "code",
   "execution_count": 22,
   "id": "f19ce906",
   "metadata": {},
   "outputs": [
    {
     "data": {
      "text/plain": [
       "11"
      ]
     },
     "execution_count": 22,
     "metadata": {},
     "output_type": "execute_result"
    }
   ],
   "source": [
    "len(x)"
   ]
  },
  {
   "cell_type": "code",
   "execution_count": 25,
   "id": "2c9be071",
   "metadata": {},
   "outputs": [
    {
     "data": {
      "text/plain": [
       "4"
      ]
     },
     "execution_count": 25,
     "metadata": {},
     "output_type": "execute_result"
    }
   ],
   "source": [
    "x.find(\"o\")"
   ]
  },
  {
   "cell_type": "code",
   "execution_count": 26,
   "id": "63eda427",
   "metadata": {},
   "outputs": [
    {
     "data": {
      "text/plain": [
       "9"
      ]
     },
     "execution_count": 26,
     "metadata": {},
     "output_type": "execute_result"
    }
   ],
   "source": [
    "x.find(\"ld\")"
   ]
  },
  {
   "cell_type": "code",
   "execution_count": 27,
   "id": "88189888",
   "metadata": {},
   "outputs": [
    {
     "data": {
      "text/plain": [
       "2"
      ]
     },
     "execution_count": 27,
     "metadata": {},
     "output_type": "execute_result"
    }
   ],
   "source": [
    "x.count(\"o\")"
   ]
  },
  {
   "cell_type": "code",
   "execution_count": 28,
   "id": "388ac972",
   "metadata": {},
   "outputs": [
    {
     "data": {
      "text/plain": [
       "'Hello world'"
      ]
     },
     "execution_count": 28,
     "metadata": {},
     "output_type": "execute_result"
    }
   ],
   "source": [
    "x.capitalize()"
   ]
  },
  {
   "cell_type": "code",
   "execution_count": 29,
   "id": "337b5ccc",
   "metadata": {},
   "outputs": [
    {
     "data": {
      "text/plain": [
       "'HELLO WORLD'"
      ]
     },
     "execution_count": 29,
     "metadata": {},
     "output_type": "execute_result"
    }
   ],
   "source": [
    "x.upper()"
   ]
  },
  {
   "cell_type": "code",
   "execution_count": 30,
   "id": "fe375144",
   "metadata": {},
   "outputs": [
    {
     "data": {
      "text/plain": [
       "False"
      ]
     },
     "execution_count": 30,
     "metadata": {},
     "output_type": "execute_result"
    }
   ],
   "source": [
    "x.isupper()"
   ]
  },
  {
   "cell_type": "code",
   "execution_count": 31,
   "id": "70114589",
   "metadata": {},
   "outputs": [
    {
     "data": {
      "text/plain": [
       "'Hello WorldHello WorldHello World'"
      ]
     },
     "execution_count": 31,
     "metadata": {},
     "output_type": "execute_result"
    }
   ],
   "source": [
    "x * 3"
   ]
  },
  {
   "cell_type": "code",
   "execution_count": 32,
   "id": "044724d3",
   "metadata": {},
   "outputs": [],
   "source": [
    "python_basics=\"\"\"\n",
    "             This is my first class of python basics\n",
    "             i have learn variable declaration,type,mathematical operations,print format and \n",
    "             strings and with methods\n",
    "\"\"\""
   ]
  },
  {
   "cell_type": "code",
   "execution_count": 33,
   "id": "f18aad4a",
   "metadata": {},
   "outputs": [
    {
     "name": "stdout",
     "output_type": "stream",
     "text": [
      "\n",
      "             This is my first class of python basics\n",
      "             i have learn variable declaration,type,mathematical operations,print format and \n",
      "             strings and with methods\n",
      "\n"
     ]
    }
   ],
   "source": [
    "print(python_basics)"
   ]
  },
  {
   "cell_type": "code",
   "execution_count": 34,
   "id": "bc0b9548",
   "metadata": {},
   "outputs": [
    {
     "name": "stdout",
     "output_type": "stream",
     "text": [
      "Hello World\n"
     ]
    }
   ],
   "source": [
    "print(x)"
   ]
  },
  {
   "cell_type": "code",
   "execution_count": 37,
   "id": "5f9e7d0d",
   "metadata": {},
   "outputs": [
    {
     "data": {
      "text/plain": [
       "'W OLLEH'"
      ]
     },
     "execution_count": 37,
     "metadata": {},
     "output_type": "execute_result"
    }
   ],
   "source": [
    "x[-5::-1].upper()"
   ]
  },
  {
   "cell_type": "code",
   "execution_count": 45,
   "id": "1f6c1d11",
   "metadata": {},
   "outputs": [
    {
     "data": {
      "text/plain": [
       "'dlroW olle'"
      ]
     },
     "execution_count": 45,
     "metadata": {},
     "output_type": "execute_result"
    }
   ],
   "source": [
    "x[:-11:-1]"
   ]
  },
  {
   "cell_type": "code",
   "execution_count": 46,
   "id": "9cc20acd",
   "metadata": {},
   "outputs": [],
   "source": [
    "# This is my first class of python basics\n",
    "# This is my first class of python basics\n",
    "# This is my first class of python basics\n",
    "# This is my first class of python basics\n",
    "# This is my first class of python basics\n",
    "# This is my first class of python basics\n",
    "# This is my first class of python basics\n",
    "# This is my first class of python basics"
   ]
  },
  {
   "cell_type": "code",
   "execution_count": 3,
   "id": "04d0bcd7",
   "metadata": {},
   "outputs": [],
   "source": [
    "str1=\"Hello World\""
   ]
  },
  {
   "cell_type": "code",
   "execution_count": 4,
   "id": "3287efa9",
   "metadata": {},
   "outputs": [
    {
     "data": {
      "text/plain": [
       "['Hello', 'World']"
      ]
     },
     "execution_count": 4,
     "metadata": {},
     "output_type": "execute_result"
    }
   ],
   "source": [
    "str1.split()"
   ]
  },
  {
   "cell_type": "code",
   "execution_count": 5,
   "id": "fb89ff52",
   "metadata": {},
   "outputs": [],
   "source": [
    "str2=\"100,105,106\""
   ]
  },
  {
   "cell_type": "code",
   "execution_count": 12,
   "id": "db198898",
   "metadata": {},
   "outputs": [],
   "source": [
    "qlist=str2.split(\",\")"
   ]
  },
  {
   "cell_type": "code",
   "execution_count": 13,
   "id": "b011cd06",
   "metadata": {},
   "outputs": [
    {
     "data": {
      "text/plain": [
       "['100', '105', '106']"
      ]
     },
     "execution_count": 13,
     "metadata": {},
     "output_type": "execute_result"
    }
   ],
   "source": [
    "qlist"
   ]
  },
  {
   "cell_type": "code",
   "execution_count": 16,
   "id": "bd62f184",
   "metadata": {},
   "outputs": [],
   "source": [
    "qlist.sort(reverse=True)"
   ]
  },
  {
   "cell_type": "markdown",
   "id": "594901a0",
   "metadata": {},
   "source": [
    "Strings are not mutable! (meaning you can't use indexing to change individual elements of a string)"
   ]
  },
  {
   "cell_type": "markdown",
   "id": "5839c882",
   "metadata": {},
   "source": [
    "String Operations <br>\n",
    "1.Compare Two Strings"
   ]
  },
  {
   "cell_type": "code",
   "execution_count": 17,
   "id": "4f0ee20e",
   "metadata": {},
   "outputs": [],
   "source": [
    "str1=\"Hello, world!\""
   ]
  },
  {
   "cell_type": "code",
   "execution_count": 18,
   "id": "98700b4f",
   "metadata": {},
   "outputs": [],
   "source": [
    "str2=\"I love Python.\""
   ]
  },
  {
   "cell_type": "code",
   "execution_count": 19,
   "id": "7f13f693",
   "metadata": {},
   "outputs": [],
   "source": [
    "str3=\"Hello, world!\""
   ]
  },
  {
   "cell_type": "code",
   "execution_count": 20,
   "id": "b8ad54d4",
   "metadata": {},
   "outputs": [
    {
     "name": "stdout",
     "output_type": "stream",
     "text": [
      "True\n"
     ]
    }
   ],
   "source": [
    "print(str1==str3)"
   ]
  },
  {
   "cell_type": "code",
   "execution_count": 21,
   "id": "9a07a12b",
   "metadata": {},
   "outputs": [
    {
     "name": "stdout",
     "output_type": "stream",
     "text": [
      "False\n"
     ]
    }
   ],
   "source": [
    "print(str1==str2)"
   ]
  },
  {
   "cell_type": "markdown",
   "id": "37a497bc",
   "metadata": {},
   "source": [
    "2. Join Two or More Strings"
   ]
  },
  {
   "cell_type": "code",
   "execution_count": 22,
   "id": "301f1577",
   "metadata": {},
   "outputs": [
    {
     "data": {
      "text/plain": [
       "'Hello, world! I love Python. Hello, world!'"
      ]
     },
     "execution_count": 22,
     "metadata": {},
     "output_type": "execute_result"
    }
   ],
   "source": [
    "str1+' '+str2+' '+str3"
   ]
  },
  {
   "cell_type": "markdown",
   "id": "b0f03a4b",
   "metadata": {},
   "source": [
    "String Length (len())"
   ]
  },
  {
   "cell_type": "code",
   "execution_count": 23,
   "id": "01656dd7",
   "metadata": {},
   "outputs": [
    {
     "data": {
      "text/plain": [
       "13"
      ]
     },
     "execution_count": 23,
     "metadata": {},
     "output_type": "execute_result"
    }
   ],
   "source": [
    "len(str1)"
   ]
  },
  {
   "cell_type": "markdown",
   "id": "a2a5c524",
   "metadata": {},
   "source": [
    "String Membership Test <br>\n",
    "We can test if a substring exists within a string or not, using the keyword in."
   ]
  },
  {
   "cell_type": "code",
   "execution_count": 24,
   "id": "a2f2162c",
   "metadata": {},
   "outputs": [
    {
     "name": "stdout",
     "output_type": "stream",
     "text": [
      "True\n"
     ]
    }
   ],
   "source": [
    "print('a' in 'program')"
   ]
  },
  {
   "cell_type": "code",
   "execution_count": 26,
   "id": "518c877a",
   "metadata": {},
   "outputs": [
    {
     "name": "stdout",
     "output_type": "stream",
     "text": [
      "False\n"
     ]
    }
   ],
   "source": [
    "print('at' not in 'battle')"
   ]
  },
  {
   "cell_type": "markdown",
   "id": "f46f37c8",
   "metadata": {},
   "source": [
    "Methods of Python String <br>\n",
    "upper(),lower(),partition(),replace(),find(),rstrip(),split(),startswith(),isnumeric(),index() "
   ]
  },
  {
   "cell_type": "markdown",
   "id": "5cc2cf03",
   "metadata": {},
   "source": [
    "Python String Formatting (f-Strings) <br>\n",
    "f-Strings"
   ]
  },
  {
   "cell_type": "code",
   "execution_count": 2,
   "id": "bd2727e8",
   "metadata": {},
   "outputs": [
    {
     "name": "stdout",
     "output_type": "stream",
     "text": [
      "khadar is from kakinada\n"
     ]
    }
   ],
   "source": [
    "name=\"khadar\"\n",
    "city=\"kakinada\"\n",
    "print(f'{name} is from {city}')"
   ]
  },
  {
   "cell_type": "markdown",
   "id": "151cbf8e",
   "metadata": {},
   "source": [
    "<h3>Formatting with the .format() method</h3>\n",
    "'Strings here {} then also {}'.format('string1','string2')"
   ]
  },
  {
   "cell_type": "code",
   "execution_count": 3,
   "id": "a5d25719",
   "metadata": {},
   "outputs": [
    {
     "name": "stdout",
     "output_type": "stream",
     "text": [
      "My hobbies are cricket,watching movies and music\n"
     ]
    }
   ],
   "source": [
    "print('My hobbies are {},{} and {}'.format('cricket','watching movies','music'))"
   ]
  },
  {
   "cell_type": "code",
   "execution_count": 4,
   "id": "b05c0364",
   "metadata": {},
   "outputs": [
    {
     "name": "stdout",
     "output_type": "stream",
     "text": [
      "My name is khadar and i am from kakinada\n"
     ]
    }
   ],
   "source": [
    "#placeholders\n",
    "print(\"My name is {myname} and i am from {city}\".format(myname=name,city=city))"
   ]
  },
  {
   "cell_type": "code",
   "execution_count": null,
   "id": "1fe26b9c",
   "metadata": {},
   "outputs": [],
   "source": []
  }
 ],
 "metadata": {
  "kernelspec": {
   "display_name": "Python 3 (ipykernel)",
   "language": "python",
   "name": "python3"
  },
  "language_info": {
   "codemirror_mode": {
    "name": "ipython",
    "version": 3
   },
   "file_extension": ".py",
   "mimetype": "text/x-python",
   "name": "python",
   "nbconvert_exporter": "python",
   "pygments_lexer": "ipython3",
   "version": "3.9.13"
  }
 },
 "nbformat": 4,
 "nbformat_minor": 5
}
