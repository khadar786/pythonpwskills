{
 "cells": [
  {
   "cell_type": "markdown",
   "id": "4746ea1c",
   "metadata": {},
   "source": [
    "12-08-2023"
   ]
  },
  {
   "cell_type": "markdown",
   "id": "30730cf3",
   "metadata": {},
   "source": [
    "Data Types\n",
    "Integers - int  :Whole numbers such as : 3,100,200\n",
    "Floating Point - float :Numbers with decimal point : 2.3,4.6,100.0\n",
    "Strings - str :Ordered sequence of characters \"Hello\",\"Khadar\"\n",
    "Lists - list :Ordered sequence of objects [10,\"hello\",12.30]\n",
    "Dictionaries - dict :Unordered key:value pairs {key:value}\n",
    "Tuples - tup :Ordered immutable sequence of objects (10,\"hello\",200.30)\n",
    "Sets - set :Unordered collection of unique objects {\"a\",\"b\"}\n",
    "Boolean - bool :Logical value indicating True or False"
   ]
  },
  {
   "cell_type": "code",
   "execution_count": 1,
   "id": "ef8a6848",
   "metadata": {
    "scrolled": true
   },
   "outputs": [
    {
     "data": {
      "text/plain": [
       "2"
      ]
     },
     "execution_count": 1,
     "metadata": {},
     "output_type": "execute_result"
    }
   ],
   "source": [
    "1+1"
   ]
  },
  {
   "cell_type": "code",
   "execution_count": 2,
   "id": "a69ed0f6",
   "metadata": {},
   "outputs": [
    {
     "data": {
      "text/plain": [
       "2.3333333333333335"
      ]
     },
     "execution_count": 2,
     "metadata": {},
     "output_type": "execute_result"
    }
   ],
   "source": [
    "7/3"
   ]
  },
  {
   "cell_type": "code",
   "execution_count": 3,
   "id": "06c9cf69",
   "metadata": {},
   "outputs": [
    {
     "data": {
      "text/plain": [
       "20"
      ]
     },
     "execution_count": 3,
     "metadata": {},
     "output_type": "execute_result"
    }
   ],
   "source": [
    "10 * 2"
   ]
  },
  {
   "cell_type": "code",
   "execution_count": 4,
   "id": "7795ec80",
   "metadata": {},
   "outputs": [
    {
     "data": {
      "text/plain": [
       "'hihihihihihihihihihi'"
      ]
     },
     "execution_count": 4,
     "metadata": {},
     "output_type": "execute_result"
    }
   ],
   "source": [
    "10 * \"hi\""
   ]
  },
  {
   "cell_type": "code",
   "execution_count": 5,
   "id": "b1dc8360",
   "metadata": {},
   "outputs": [
    {
     "data": {
      "text/plain": [
       "1"
      ]
     },
     "execution_count": 5,
     "metadata": {},
     "output_type": "execute_result"
    }
   ],
   "source": [
    "7 % 3"
   ]
  },
  {
   "cell_type": "code",
   "execution_count": 6,
   "id": "eb7e4cd4",
   "metadata": {},
   "outputs": [
    {
     "data": {
      "text/plain": [
       "0"
      ]
     },
     "execution_count": 6,
     "metadata": {},
     "output_type": "execute_result"
    }
   ],
   "source": [
    "50%10"
   ]
  },
  {
   "cell_type": "code",
   "execution_count": 7,
   "id": "b8dd80ed",
   "metadata": {},
   "outputs": [
    {
     "data": {
      "text/plain": [
       "8"
      ]
     },
     "execution_count": 7,
     "metadata": {},
     "output_type": "execute_result"
    }
   ],
   "source": [
    "2 ** 3"
   ]
  },
  {
   "cell_type": "code",
   "execution_count": 8,
   "id": "230d6220",
   "metadata": {},
   "outputs": [
    {
     "data": {
      "text/plain": [
       "105"
      ]
     },
     "execution_count": 8,
     "metadata": {},
     "output_type": "execute_result"
    }
   ],
   "source": [
    "2 + 10 * 10 +3"
   ]
  },
  {
   "cell_type": "code",
   "execution_count": 9,
   "id": "c44057a3",
   "metadata": {},
   "outputs": [
    {
     "data": {
      "text/plain": [
       "156"
      ]
     },
     "execution_count": 9,
     "metadata": {},
     "output_type": "execute_result"
    }
   ],
   "source": [
    "(2+10) * (10+3)"
   ]
  },
  {
   "cell_type": "code",
   "execution_count": 10,
   "id": "2598b048",
   "metadata": {},
   "outputs": [],
   "source": [
    "## Check data type"
   ]
  },
  {
   "cell_type": "code",
   "execution_count": 11,
   "id": "ea51b8f0",
   "metadata": {},
   "outputs": [],
   "source": [
    "a=10"
   ]
  },
  {
   "cell_type": "code",
   "execution_count": 12,
   "id": "117769a5",
   "metadata": {},
   "outputs": [
    {
     "data": {
      "text/plain": [
       "int"
      ]
     },
     "execution_count": 12,
     "metadata": {},
     "output_type": "execute_result"
    }
   ],
   "source": [
    "type(a)"
   ]
  },
  {
   "cell_type": "code",
   "execution_count": 13,
   "id": "b881f74e",
   "metadata": {},
   "outputs": [],
   "source": [
    "a=10.5*2"
   ]
  },
  {
   "cell_type": "code",
   "execution_count": 14,
   "id": "acd0cb0e",
   "metadata": {},
   "outputs": [
    {
     "data": {
      "text/plain": [
       "float"
      ]
     },
     "execution_count": 14,
     "metadata": {},
     "output_type": "execute_result"
    }
   ],
   "source": [
    "type(a)"
   ]
  },
  {
   "cell_type": "code",
   "execution_count": 15,
   "id": "622c5609",
   "metadata": {},
   "outputs": [],
   "source": [
    "fname=\"khadar\""
   ]
  },
  {
   "cell_type": "code",
   "execution_count": 16,
   "id": "3669ac13",
   "metadata": {},
   "outputs": [
    {
     "data": {
      "text/plain": [
       "str"
      ]
     },
     "execution_count": 16,
     "metadata": {},
     "output_type": "execute_result"
    }
   ],
   "source": [
    "type(fname)"
   ]
  },
  {
   "cell_type": "code",
   "execution_count": 17,
   "id": "4bb0062e",
   "metadata": {},
   "outputs": [],
   "source": [
    "c=10+5j"
   ]
  },
  {
   "cell_type": "code",
   "execution_count": 18,
   "id": "8379ce41",
   "metadata": {},
   "outputs": [
    {
     "data": {
      "text/plain": [
       "complex"
      ]
     },
     "execution_count": 18,
     "metadata": {},
     "output_type": "execute_result"
    }
   ],
   "source": [
    "type(c)"
   ]
  },
  {
   "cell_type": "code",
   "execution_count": 19,
   "id": "e87fd6ae",
   "metadata": {},
   "outputs": [
    {
     "data": {
      "text/plain": [
       "10.0"
      ]
     },
     "execution_count": 19,
     "metadata": {},
     "output_type": "execute_result"
    }
   ],
   "source": [
    "c.real"
   ]
  },
  {
   "cell_type": "code",
   "execution_count": 20,
   "id": "a04aa75b",
   "metadata": {
    "scrolled": true
   },
   "outputs": [
    {
     "data": {
      "text/plain": [
       "5.0"
      ]
     },
     "execution_count": 20,
     "metadata": {},
     "output_type": "execute_result"
    }
   ],
   "source": [
    "c.imag"
   ]
  },
  {
   "cell_type": "markdown",
   "id": "ae90e8c5",
   "metadata": {},
   "source": [
    "Strings\n",
    "slice syntax : [start:stop:step]\n",
    "len : length"
   ]
  },
  {
   "cell_type": "code",
   "execution_count": 21,
   "id": "56e182f2",
   "metadata": {},
   "outputs": [
    {
     "data": {
      "text/plain": [
       "'Hello'"
      ]
     },
     "execution_count": 21,
     "metadata": {},
     "output_type": "execute_result"
    }
   ],
   "source": [
    "\"Hello\""
   ]
  },
  {
   "cell_type": "code",
   "execution_count": 23,
   "id": "0c00014b",
   "metadata": {},
   "outputs": [
    {
     "name": "stdout",
     "output_type": "stream",
     "text": [
      "Hi \n",
      "khadar\n"
     ]
    }
   ],
   "source": [
    "print(\"Hi \\nkhadar\")"
   ]
  },
  {
   "cell_type": "code",
   "execution_count": 24,
   "id": "9955611a",
   "metadata": {},
   "outputs": [
    {
     "name": "stdout",
     "output_type": "stream",
     "text": [
      "Hi \thello\n"
     ]
    }
   ],
   "source": [
    "print(\"Hi \\thello\")"
   ]
  },
  {
   "cell_type": "code",
   "execution_count": 25,
   "id": "790be53b",
   "metadata": {},
   "outputs": [
    {
     "data": {
      "text/plain": [
       "6"
      ]
     },
     "execution_count": 25,
     "metadata": {},
     "output_type": "execute_result"
    }
   ],
   "source": [
    "len(\"khadar\")"
   ]
  },
  {
   "cell_type": "code",
   "execution_count": 26,
   "id": "38f635bb",
   "metadata": {},
   "outputs": [],
   "source": [
    "myString=\"Hello World\""
   ]
  },
  {
   "cell_type": "code",
   "execution_count": 28,
   "id": "34d30aa1",
   "metadata": {},
   "outputs": [
    {
     "name": "stdout",
     "output_type": "stream",
     "text": [
      "Hello World\n"
     ]
    }
   ],
   "source": [
    "print(myString)"
   ]
  },
  {
   "cell_type": "code",
   "execution_count": 29,
   "id": "c1bb08a3",
   "metadata": {},
   "outputs": [
    {
     "data": {
      "text/plain": [
       "'Hello'"
      ]
     },
     "execution_count": 29,
     "metadata": {},
     "output_type": "execute_result"
    }
   ],
   "source": [
    "myString[0:5]"
   ]
  },
  {
   "cell_type": "code",
   "execution_count": 30,
   "id": "8e3a4c8b",
   "metadata": {},
   "outputs": [
    {
     "data": {
      "text/plain": [
       "'d'"
      ]
     },
     "execution_count": 30,
     "metadata": {},
     "output_type": "execute_result"
    }
   ],
   "source": [
    "myString[-1]"
   ]
  },
  {
   "cell_type": "code",
   "execution_count": 31,
   "id": "881e186a",
   "metadata": {},
   "outputs": [
    {
     "data": {
      "text/plain": [
       "''"
      ]
     },
     "execution_count": 31,
     "metadata": {},
     "output_type": "execute_result"
    }
   ],
   "source": [
    "myString[-1:4]"
   ]
  },
  {
   "cell_type": "code",
   "execution_count": 32,
   "id": "d1bc40c2",
   "metadata": {},
   "outputs": [
    {
     "data": {
      "text/plain": [
       "''"
      ]
     },
     "execution_count": 32,
     "metadata": {},
     "output_type": "execute_result"
    }
   ],
   "source": [
    "myString[-1:-5]"
   ]
  },
  {
   "cell_type": "code",
   "execution_count": 33,
   "id": "46d1b59c",
   "metadata": {},
   "outputs": [
    {
     "data": {
      "text/plain": [
       "''"
      ]
     },
     "execution_count": 33,
     "metadata": {},
     "output_type": "execute_result"
    }
   ],
   "source": [
    "myString[-1:0]"
   ]
  },
  {
   "cell_type": "code",
   "execution_count": 34,
   "id": "7ef0b880",
   "metadata": {},
   "outputs": [
    {
     "data": {
      "text/plain": [
       "'r'"
      ]
     },
     "execution_count": 34,
     "metadata": {},
     "output_type": "execute_result"
    }
   ],
   "source": [
    "myString[-3]"
   ]
  },
  {
   "cell_type": "code",
   "execution_count": null,
   "id": "b64e1d3c",
   "metadata": {},
   "outputs": [],
   "source": []
  }
 ],
 "metadata": {
  "kernelspec": {
   "display_name": "Python 3 (ipykernel)",
   "language": "python",
   "name": "python3"
  },
  "language_info": {
   "codemirror_mode": {
    "name": "ipython",
    "version": 3
   },
   "file_extension": ".py",
   "mimetype": "text/x-python",
   "name": "python",
   "nbconvert_exporter": "python",
   "pygments_lexer": "ipython3",
   "version": "3.9.13"
  }
 },
 "nbformat": 4,
 "nbformat_minor": 5
}
