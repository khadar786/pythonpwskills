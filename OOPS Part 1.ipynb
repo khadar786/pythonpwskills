{
 "cells": [
  {
   "cell_type": "code",
   "execution_count": 1,
   "id": "fbe816ed",
   "metadata": {},
   "outputs": [],
   "source": [
    "a=1"
   ]
  },
  {
   "cell_type": "code",
   "execution_count": 2,
   "id": "5b8a461e",
   "metadata": {},
   "outputs": [
    {
     "data": {
      "text/plain": [
       "int"
      ]
     },
     "execution_count": 2,
     "metadata": {},
     "output_type": "execute_result"
    }
   ],
   "source": [
    "type(a)"
   ]
  },
  {
   "cell_type": "code",
   "execution_count": 3,
   "id": "cf692a92",
   "metadata": {},
   "outputs": [
    {
     "name": "stdout",
     "output_type": "stream",
     "text": [
      "<class 'int'>\n"
     ]
    }
   ],
   "source": [
    "print(type(a))"
   ]
  },
  {
   "cell_type": "code",
   "execution_count": 4,
   "id": "ea0df0bd",
   "metadata": {},
   "outputs": [
    {
     "name": "stdout",
     "output_type": "stream",
     "text": [
      "<class 'str'>\n"
     ]
    }
   ],
   "source": [
    "print(type(\"pwskills\"))"
   ]
  },
  {
   "cell_type": "code",
   "execution_count": 9,
   "id": "88b3f0f4",
   "metadata": {},
   "outputs": [],
   "source": [
    "class test:\n",
    "    pass"
   ]
  },
  {
   "cell_type": "code",
   "execution_count": 11,
   "id": "7e8e5e6d",
   "metadata": {},
   "outputs": [],
   "source": [
    "testobj=test()"
   ]
  },
  {
   "cell_type": "code",
   "execution_count": 12,
   "id": "87c3d593",
   "metadata": {},
   "outputs": [
    {
     "data": {
      "text/plain": [
       "__main__.test"
      ]
     },
     "execution_count": 12,
     "metadata": {},
     "output_type": "execute_result"
    }
   ],
   "source": [
    "type(testobj)"
   ]
  },
  {
   "cell_type": "code",
   "execution_count": 18,
   "id": "3e92e11a",
   "metadata": {},
   "outputs": [],
   "source": [
    "class pwskills:\n",
    "    def hello_world(self):\n",
    "        print(\"Hello world\")"
   ]
  },
  {
   "cell_type": "code",
   "execution_count": 19,
   "id": "7dedbf51",
   "metadata": {},
   "outputs": [],
   "source": [
    "pwsobj=pwskills()"
   ]
  },
  {
   "cell_type": "code",
   "execution_count": 20,
   "id": "2b7c39fe",
   "metadata": {},
   "outputs": [
    {
     "data": {
      "text/plain": [
       "__main__.pwskills"
      ]
     },
     "execution_count": 20,
     "metadata": {},
     "output_type": "execute_result"
    }
   ],
   "source": [
    "type(pwsobj)"
   ]
  },
  {
   "cell_type": "code",
   "execution_count": 21,
   "id": "ba987e27",
   "metadata": {},
   "outputs": [
    {
     "name": "stdout",
     "output_type": "stream",
     "text": [
      "Hello world\n"
     ]
    }
   ],
   "source": [
    "pwsobj.hello_world()"
   ]
  },
  {
   "cell_type": "code",
   "execution_count": 25,
   "id": "8531427d",
   "metadata": {},
   "outputs": [],
   "source": [
    "class pwskills1:\n",
    "    def __init__(self,phone_number,email_id,student_id):\n",
    "        self.phone_number=phone_number\n",
    "        self.email_id=email_id\n",
    "        self.student_id=student_id\n",
    "    \n",
    "    def return_student_details(self):\n",
    "        return self.phone_number,self.email_id,self.student_id"
   ]
  },
  {
   "cell_type": "code",
   "execution_count": 26,
   "id": "b08d5834",
   "metadata": {},
   "outputs": [],
   "source": [
    "pws1=pwskills1(9505437866,\"khadar@gmail.com\",2205)"
   ]
  },
  {
   "cell_type": "code",
   "execution_count": 27,
   "id": "0f0f86d0",
   "metadata": {},
   "outputs": [
    {
     "data": {
      "text/plain": [
       "(9505437866, 'khadar@gmail.com', 2205)"
      ]
     },
     "execution_count": 27,
     "metadata": {},
     "output_type": "execute_result"
    }
   ],
   "source": [
    "pws1.return_student_details()"
   ]
  },
  {
   "cell_type": "code",
   "execution_count": 28,
   "id": "76c389e6",
   "metadata": {},
   "outputs": [],
   "source": [
    "class pwskills2:\n",
    "    def __init__(khadar,phone_number,email_id,student_id):\n",
    "        khadar.phone_number=phone_number\n",
    "        khadar.email_id=email_id\n",
    "        khadar.student_id=student_id\n",
    "    \n",
    "    def return_student_details(self):\n",
    "        return khadar.phone_number,khadar.email_id,khadar.student_id"
   ]
  },
  {
   "cell_type": "code",
   "execution_count": 29,
   "id": "fb47dbbc",
   "metadata": {},
   "outputs": [],
   "source": [
    "pws2=pwskills1(9505437866,\"khadar@gmail.com\",2205)"
   ]
  },
  {
   "cell_type": "code",
   "execution_count": 30,
   "id": "11f20c79",
   "metadata": {},
   "outputs": [
    {
     "data": {
      "text/plain": [
       "'khadar@gmail.com'"
      ]
     },
     "execution_count": 30,
     "metadata": {},
     "output_type": "execute_result"
    }
   ],
   "source": [
    "pws2.email_id"
   ]
  },
  {
   "cell_type": "code",
   "execution_count": null,
   "id": "cb7086a6",
   "metadata": {},
   "outputs": [],
   "source": []
  }
 ],
 "metadata": {
  "kernelspec": {
   "display_name": "Python 3 (ipykernel)",
   "language": "python",
   "name": "python3"
  },
  "language_info": {
   "codemirror_mode": {
    "name": "ipython",
    "version": 3
   },
   "file_extension": ".py",
   "mimetype": "text/x-python",
   "name": "python",
   "nbconvert_exporter": "python",
   "pygments_lexer": "ipython3",
   "version": "3.9.13"
  }
 },
 "nbformat": 4,
 "nbformat_minor": 5
}
