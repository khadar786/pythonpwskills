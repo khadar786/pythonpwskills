{
 "cells": [
  {
   "cell_type": "raw",
   "id": "9b64cfde",
   "metadata": {},
   "source": [
    "# Q1. Explain with an example each when to use a for loop and a while loop."
   ]
  },
  {
   "cell_type": "raw",
   "id": "255c523f",
   "metadata": {},
   "source": [
    "When the number of iterations is already known,the for loop is used."
   ]
  },
  {
   "cell_type": "code",
   "execution_count": 2,
   "id": "b4eadfc1",
   "metadata": {},
   "outputs": [
    {
     "name": "stdout",
     "output_type": "stream",
     "text": [
      "0\n",
      "1\n",
      "2\n",
      "3\n",
      "4\n",
      "5\n",
      "6\n",
      "7\n",
      "8\n",
      "9\n"
     ]
    }
   ],
   "source": [
    "for i in range(10):\n",
    "    print(i)"
   ]
  },
  {
   "cell_type": "raw",
   "id": "2e3a8973",
   "metadata": {},
   "source": [
    "When the number of iterations unknown,a \"while\" loop is used."
   ]
  },
  {
   "cell_type": "code",
   "execution_count": 5,
   "id": "6e7dbf1f",
   "metadata": {},
   "outputs": [
    {
     "name": "stdout",
     "output_type": "stream",
     "text": [
      "Enter the number is :12\n",
      "0\n",
      "1\n",
      "2\n",
      "3\n",
      "4\n",
      "5\n",
      "6\n",
      "7\n",
      "8\n",
      "9\n",
      "10\n"
     ]
    }
   ],
   "source": [
    "n=int(input(\"Enter the number is :\"))\n",
    "i=0\n",
    "while i<=10:\n",
    "    print(i)\n",
    "    i=i+1"
   ]
  },
  {
   "cell_type": "raw",
   "id": "485aeecb",
   "metadata": {},
   "source": [
    "# Q2. Write a python program to print the sum and product of the first 10 natural numbers using for and while loop."
   ]
  },
  {
   "cell_type": "code",
   "execution_count": 8,
   "id": "17c4b0bf",
   "metadata": {},
   "outputs": [
    {
     "name": "stdout",
     "output_type": "stream",
     "text": [
      "Sum of 10 natural numbers is : 45\n"
     ]
    }
   ],
   "source": [
    "sum=0\n",
    "for i in range(10):\n",
    "    sum=sum+i\n",
    "\n",
    "print(\"Sum of 10 natural numbers is :\",sum)"
   ]
  },
  {
   "cell_type": "raw",
   "id": "6135f10a",
   "metadata": {},
   "source": [
    "# Q3. Create a python program to compute the electricity bill for a household.\n",
    "The per-unit charges in rupees are as follows: For the first 100 units, the user will be charged Rs. 4.5 per\n",
    "unit, for the next 100 units, the user will be charged Rs. 6 per unit, and for the next 100 units, the user will\n",
    "be charged Rs. 10 per unit, After 300 units and above the user will be charged Rs. 20 per unit.\n",
    "You are required to take the units of electricity consumed in a month from the user as input.\n",
    "Your program must pass this test case: when the unit of electricity consumed by the user in a month iW\n",
    "310, the total electricity bill should be 2250."
   ]
  },
  {
   "cell_type": "code",
   "execution_count": 12,
   "id": "9071859d",
   "metadata": {},
   "outputs": [
    {
     "name": "stdout",
     "output_type": "stream",
     "text": [
      "Please enter number of units you consumed :310\n",
      "the total electricity bill : 2250\n"
     ]
    }
   ],
   "source": [
    "units=int(input(\"Please enter number of units you consumed :\"))\n",
    "total_bill=0\n",
    "\n",
    "if units<=100:\n",
    "    total_bill=units*4.5\n",
    "elif units>100 and units<=200:\n",
    "    total_bill=450+((units-100)*6)\n",
    "elif units>200 and units<=300:\n",
    "    total_bill=450+600+((units-200)*10)\n",
    "else:\n",
    "    total_bill=450+600+1000+((units-300)*20)\n",
    "\n",
    "print(\"the total electricity bill :\",total_bill)"
   ]
  },
  {
   "cell_type": "raw",
   "id": "de55452d",
   "metadata": {},
   "source": [
    "Q4. Create a list of numbers from 1 to 100. Use for loop and while loop to calculate the cube of each\n",
    "number and if the cube of that number is divisible by 4 or 5 then append that number in a list and print\n",
    "that list."
   ]
  },
  {
   "cell_type": "code",
   "execution_count": 21,
   "id": "7f07b81e",
   "metadata": {},
   "outputs": [
    {
     "name": "stdout",
     "output_type": "stream",
     "text": [
      "[8, 64, 125, 216, 512, 1000, 1728, 2744, 3375, 4096, 5832, 8000, 10648, 13824, 15625, 17576, 21952, 27000, 32768, 39304, 42875, 46656, 54872, 64000, 74088, 85184, 91125, 97336, 110592, 125000, 140608, 157464, 166375, 175616, 195112, 216000, 238328, 262144, 274625, 287496, 314432, 343000, 373248, 405224, 421875, 438976, 474552, 512000, 551368, 592704, 614125, 636056, 681472, 729000, 778688, 830584, 857375, 884736, 941192, 1000000]\n"
     ]
    }
   ],
   "source": [
    "lst=list(range(1,101))\n",
    "result_lst=[]\n",
    "for i in lst:\n",
    "    cube=i**3\n",
    "    if cube%4==0 or cube%5==0:\n",
    "        result_lst.append(cube)\n",
    "\n",
    "print(result_lst)"
   ]
  },
  {
   "cell_type": "raw",
   "id": "329eb87f",
   "metadata": {},
   "source": [
    "Q5. Write a program to filter count vowels in the below-given string.\n",
    "string = \"I want to become a data scientist\""
   ]
  },
  {
   "cell_type": "code",
   "execution_count": 26,
   "id": "7fb2c9b2",
   "metadata": {},
   "outputs": [
    {
     "name": "stdout",
     "output_type": "stream",
     "text": [
      "vowels count : 12\n"
     ]
    }
   ],
   "source": [
    "string=\"I want to become a data scientist\"\n",
    "vowels_count=0\n",
    "for i in string:\n",
    "    char_lwr=i.lower()\n",
    "    if char_lwr=='a' or char_lwr=='e' or char_lwr=='i' or char_lwr=='o' or char_lwr=='u':\n",
    "        vowels_count=vowels_count+1\n",
    "\n",
    "print(\"vowels count :\",vowels_count)"
   ]
  },
  {
   "cell_type": "code",
   "execution_count": null,
   "id": "3be62e85",
   "metadata": {},
   "outputs": [],
   "source": []
  }
 ],
 "metadata": {
  "kernelspec": {
   "display_name": "Python 3 (ipykernel)",
   "language": "python",
   "name": "python3"
  },
  "language_info": {
   "codemirror_mode": {
    "name": "ipython",
    "version": 3
   },
   "file_extension": ".py",
   "mimetype": "text/x-python",
   "name": "python",
   "nbconvert_exporter": "python",
   "pygments_lexer": "ipython3",
   "version": "3.9.13"
  }
 },
 "nbformat": 4,
 "nbformat_minor": 5
}
