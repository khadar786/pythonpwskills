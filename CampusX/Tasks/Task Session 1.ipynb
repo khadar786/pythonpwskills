{
 "cells": [
  {
   "cell_type": "markdown",
   "id": "5312e3c5",
   "metadata": {},
   "source": [
    "### Q1 :- Print the given strings as per stated format.\n",
    "\n",
    "**Given strings**: \n",
    "```\n",
    "\"Data\" \"Science\" \"Mentorship\" \"Program\" \n",
    "\"By\" \"CampusX\"\n",
    "```\n",
    "**Output**: \n",
    "``` \n",
    "Data-Science-Mentorship-Program-started-By-CampusX\n",
    "```\n",
    "\n",
    "Concept- [Seperator and End]"
   ]
  },
  {
   "cell_type": "code",
   "execution_count": 1,
   "id": "3bb4ef2c",
   "metadata": {},
   "outputs": [
    {
     "name": "stdout",
     "output_type": "stream",
     "text": [
      "Data-Science-Mentorship-ProgramBy-CampusX\n"
     ]
    }
   ],
   "source": [
    "print(\"Data\",\"Science\",\"Mentorship\",\"Program\" \n",
    "\"By\",\"CampusX\",sep=\"-\")"
   ]
  },
  {
   "cell_type": "markdown",
   "id": "08f9357b",
   "metadata": {},
   "source": [
    "### Q2:- Write a program that will convert celsius value to fahrenheit."
   ]
  },
  {
   "cell_type": "code",
   "execution_count": 2,
   "id": "04be375e",
   "metadata": {},
   "outputs": [
    {
     "name": "stdout",
     "output_type": "stream",
     "text": [
      "41.2 degree Celsius is equal to 106.2 degress Fahrenheit\n"
     ]
    }
   ],
   "source": [
    "# fahrenheit = celsius * 1.8 + 32\n",
    "celsius=41.2\n",
    "fahrenheit=(celsius * 1.8)+32\n",
    "\n",
    "print('%0.1f degree Celsius is equal to %0.1f degress Fahrenheit'%(celsius,fahrenheit))"
   ]
  },
  {
   "cell_type": "markdown",
   "id": "149a9ebe",
   "metadata": {},
   "source": [
    "### Q3:- Take 2 numbers as input from the user.Write a program to swap the numbers without using any special python syntax."
   ]
  },
  {
   "cell_type": "code",
   "execution_count": 3,
   "id": "18f39ae6",
   "metadata": {},
   "outputs": [
    {
     "name": "stdout",
     "output_type": "stream",
     "text": [
      "Enter the value of a :10\n",
      "Enter the value of b :20\n",
      "Before swaping a=10,b=20\n",
      "After swaping a=20,b=10\n"
     ]
    }
   ],
   "source": [
    "a=int(input(\"Enter the value of a :\"))\n",
    "b=int(input(\"Enter the value of b :\"))\n",
    "\n",
    "print(\"Before swaping a={},b={}\".format(a,b))\n",
    "a,b=b,a\n",
    "print(\"After swaping a={},b={}\".format(a,b))\n"
   ]
  },
  {
   "cell_type": "markdown",
   "id": "a9909c56",
   "metadata": {},
   "source": [
    "### Q4:- Write a program to find the euclidean distance between two coordinates.Take both the coordinates from the user as input."
   ]
  },
  {
   "cell_type": "markdown",
   "id": "4033c9fe",
   "metadata": {},
   "source": [
    "<img src=\"https://images.shiksha.com/mediadata/ugcDocuments/images/wordpressImages/2022_12_MicrosoftTeams-image-91.jpg\"/>"
   ]
  },
  {
   "cell_type": "code",
   "execution_count": 4,
   "id": "b60bc31a",
   "metadata": {},
   "outputs": [
    {
     "name": "stdout",
     "output_type": "stream",
     "text": [
      "Enter a x1 value :4\n",
      "Enter a y1 value :0\n",
      "Enter a x2 value :6\n",
      "Enter a y2 value :6\n",
      "distance : 6.324555320336759\n"
     ]
    }
   ],
   "source": [
    "x1=int(input(\"Enter a x1 value :\"))\n",
    "y1=int(input(\"Enter a y1 value :\"))\n",
    "x2=int(input(\"Enter a x2 value :\"))\n",
    "y2=int(input(\"Enter a y2 value :\"))\n",
    "\n",
    "import math\n",
    "\n",
    "# The formula computes the Euclidean distance in a 2D space.\n",
    "distance=math.sqrt(((x2-x1)**2)+((y2-y1)**2))\n",
    "\n",
    "print(\"distance :\",distance)"
   ]
  },
  {
   "cell_type": "markdown",
   "id": "4d0cbb80",
   "metadata": {},
   "source": [
    "### Q5:- Write a program to find the simple interest when the value of principle,rate of interest and time period is provided by the user."
   ]
  },
  {
   "cell_type": "code",
   "execution_count": 5,
   "id": "ea8d3f83",
   "metadata": {},
   "outputs": [
    {
     "name": "stdout",
     "output_type": "stream",
     "text": [
      "Enter the principal amount :10000\n",
      "Enter the time period :6\n",
      "Enter the rate of interest :2\n",
      "Simple Interest :  1200.0\n"
     ]
    }
   ],
   "source": [
    "#Simple interest formula is given by: Simple Interest = (P x T x R)/100 \n",
    "# Where, P is the principal amount \n",
    "# T is the time \n",
    "# and R is the rate\n",
    "\n",
    "P=int(input(\"Enter the principal amount :\"))\n",
    "T=int(input(\"Enter the time period :\"))\n",
    "R=int(input(\"Enter the rate of interest :\"))\n",
    "\n",
    "si=(P*T*R)/100\n",
    "\n",
    "print(\"Simple Interest : \",si)"
   ]
  },
  {
   "cell_type": "markdown",
   "id": "eacc6d58",
   "metadata": {},
   "source": [
    "### Q6:- Write a program that will tell the number of dogs and chicken are there when the user will provide the value of total heads and legs.\n",
    "\n",
    "For example:\n",
    "Input:\n",
    "heads -> 4\n",
    "legs -> 12\n",
    "<br>\n",
    "Output:\n",
    "dogs -> 2\n",
    "chicken -> 2\n"
   ]
  },
  {
   "cell_type": "code",
   "execution_count": 6,
   "id": "60b5f986",
   "metadata": {},
   "outputs": [
    {
     "name": "stdout",
     "output_type": "stream",
     "text": [
      "Enter a no of heads:4\n",
      "Enter a no of legs:12\n",
      "dogs ->  2.0\n",
      "chicken ->  2.0\n"
     ]
    }
   ],
   "source": [
    "# checken -> x\n",
    "# dog -> y\n",
    "\n",
    "# 1. 2x+4y=legs\n",
    "# 2. x+y=heads\n",
    "\n",
    "# 1-> 2x=legs-4y\n",
    "# 2-> y=heads-x\n",
    "# in eq 1 subtitute eq 2\n",
    "\n",
    "# 2x=legs-4(heads-4x)\n",
    "# 2x=legs-4heads+4x\n",
    "# 4heads-legs=4x-2x\n",
    "# x=2heads-1/2legs ======> Checken\n",
    "# y=heads-x =============> Dogs\n",
    "\n",
    "heads=int(input(\"Enter a no of heads:\"))\n",
    "legs=int(input(\"Enter a no of legs:\"))\n",
    "\n",
    "chicken=2*heads-1/2*legs\n",
    "dogs=heads-chicken\n",
    "print(\"dogs -> \",dogs)\n",
    "print(\"chicken -> \",chicken)"
   ]
  },
  {
   "cell_type": "markdown",
   "id": "a30ad554",
   "metadata": {},
   "source": [
    "### Q7:- Write a program to find the sum of squares of first n natural numbers where n will be provided by the user."
   ]
  },
  {
   "cell_type": "code",
   "execution_count": 15,
   "id": "d4d8f50d",
   "metadata": {},
   "outputs": [
    {
     "name": "stdout",
     "output_type": "stream",
     "text": [
      "Enter a number : 16\n",
      "The sum is 136\n",
      "The sum is 136.0\n"
     ]
    }
   ],
   "source": [
    "num=int(input(\"Enter a number : \"))\n",
    "newnum=num\n",
    "if num<0:\n",
    "    print(\"Enter a positive number\")\n",
    "else:\n",
    "    sum=0\n",
    "    while num>0:\n",
    "        sum=sum+num\n",
    "        num=num-1\n",
    "    print(\"The sum is\", sum)\n",
    "    \n",
    "## OR\n",
    "#n*(n+1)/2\n",
    "print(\"The sum is\", (newnum*(newnum+1))/2)"
   ]
  },
  {
   "cell_type": "markdown",
   "id": "df1cf6db",
   "metadata": {},
   "source": [
    "Q8:- Given the first 2 terms of an Arithmetic Series.Find the Nth term of the series. Assume all inputs are provided by the user."
   ]
  },
  {
   "cell_type": "code",
   "execution_count": 17,
   "id": "47f9d2c1",
   "metadata": {},
   "outputs": [
    {
     "name": "stdout",
     "output_type": "stream",
     "text": [
      "Enter the first term :2\n",
      "Second the first term :5\n",
      "Enter the position of the term in the series4\n",
      "The 4th term of the arithmetic series is: 11.0\n"
     ]
    }
   ],
   "source": [
    "# Identify the first term (a): This is the first term of the series.\n",
    "# Identify the common difference (d): This is the difference between the second term and the first term.\n",
    "# Calculate the Nth term using the formula for the Nth term of an arithmetic series:\n",
    "\n",
    "# a base n=a+(n−1)⋅d\n",
    "# a base n is the Nth term.\n",
    "# a is the first term.\n",
    "# d is the common difference.\n",
    "# n is the position of the term in the series.\n",
    "\n",
    "first_term=float(input(\"Enter the first term :\"))\n",
    "second_term=float(input(\"Second the first term :\"))\n",
    "n=int(input(\"Enter the position of the term in the series\"))\n",
    "\n",
    "d=second_term-first_term\n",
    "# Calculate the Nth term\n",
    "nth_term=first_term+(n-1)*d\n",
    "\n",
    "print(f\"The {n}th term of the arithmetic series is: {nth_term}\")"
   ]
  },
  {
   "cell_type": "markdown",
   "id": "b7558ede",
   "metadata": {},
   "source": [
    "### Q9:- Given 2 fractions, find the sum of those 2 fractions.Take the numerator and denominator values of the fractions from the user."
   ]
  },
  {
   "cell_type": "code",
   "execution_count": null,
   "id": "08a9b64f",
   "metadata": {},
   "outputs": [],
   "source": []
  },
  {
   "cell_type": "code",
   "execution_count": null,
   "id": "e0c10556",
   "metadata": {},
   "outputs": [],
   "source": []
  },
  {
   "cell_type": "code",
   "execution_count": null,
   "id": "5146d84c",
   "metadata": {},
   "outputs": [],
   "source": []
  },
  {
   "cell_type": "code",
   "execution_count": null,
   "id": "c0a24eb0",
   "metadata": {},
   "outputs": [],
   "source": []
  },
  {
   "cell_type": "code",
   "execution_count": null,
   "id": "a8c5e181",
   "metadata": {},
   "outputs": [],
   "source": []
  },
  {
   "cell_type": "code",
   "execution_count": null,
   "id": "3037003f",
   "metadata": {},
   "outputs": [],
   "source": []
  },
  {
   "cell_type": "code",
   "execution_count": null,
   "id": "510e21a2",
   "metadata": {},
   "outputs": [],
   "source": []
  },
  {
   "cell_type": "markdown",
   "id": "25d3ddcb",
   "metadata": {},
   "source": [
    "### Q10:- Given the height, width and breadth of a milk tank, you have to find out how many glasses of milk can be obtained? Assume all the inputs are provided by the user.\n",
    "\n",
    "Input:<br>\n",
    "Dimensions of the milk tank<br>\n",
    "H = 20cm, L = 20cm, B = 20cm\n",
    "<br><br>\n",
    "Dimensions of the glass<br>\n",
    "h = 3cm, r = 1cm"
   ]
  },
  {
   "cell_type": "code",
   "execution_count": 18,
   "id": "e6c55c3e",
   "metadata": {},
   "outputs": [
    {
     "name": "stdout",
     "output_type": "stream",
     "text": [
      "Enter the milk tank height in units :20\n",
      "Enter the milk tank width in units :20\n",
      "Enter the milk tank breadth in units :20\n",
      "Enter the glass height in cm :3\n",
      "Enter the glass radius in cm :1\n",
      "The milk tank no of glasses of milk obtained :  849.2569002123142\n"
     ]
    }
   ],
   "source": [
    "# Calculate the volume of the milk tank.\n",
    "# Calculate the volume of a single glass.\n",
    "# Divide the volume of the tank by the volume of a single glass to get the number of glasses.\n",
    "\n",
    "# 1.Volume of the milk tank: The volume is calculated using the formula for the volume of a rectangular prism:\n",
    "# Volume of tank=height×width×breadth\n",
    "\n",
    "# 2.Volume of a glass: Assume the user will provide the radius and height of the glass. The volume of a cylindrical glass is calculated using the formula for the volume of a cylinder:\n",
    "# Volume of glass=π×radius**2×height\n",
    "\n",
    "# Calculate the number of glasses:\n",
    "# Number of glasses=Volume of tank/Volume of glass\n",
    "\n",
    "milk_tank_h=float(input(\"Enter the milk tank height in units :\"))\n",
    "milk_tank_w=float(input(\"Enter the milk tank width in units :\"))\n",
    "milk_tank_b=float(input(\"Enter the milk tank breadth in units :\"))\n",
    "\n",
    "glass_h=float(input(\"Enter the glass height in cm :\"))\n",
    "glass_r=float(input(\"Enter the glass radius in cm :\"))\n",
    "\n",
    "volume_of_tank=milk_tank_h*milk_tank_w*milk_tank_b\n",
    "volume_of_glass=3.14*glass_r**2*glass_h\n",
    "\n",
    "# Calculate the number of glasses:\n",
    "Number_of_glasses=volume_of_tank/volume_of_glass\n",
    "\n",
    "print(\"The milk tank no of glasses of milk obtained : \",Number_of_glasses)\n"
   ]
  },
  {
   "cell_type": "code",
   "execution_count": null,
   "id": "c655042d",
   "metadata": {},
   "outputs": [],
   "source": []
  }
 ],
 "metadata": {
  "kernelspec": {
   "display_name": "Python 3 (ipykernel)",
   "language": "python",
   "name": "python3"
  },
  "language_info": {
   "codemirror_mode": {
    "name": "ipython",
    "version": 3
   },
   "file_extension": ".py",
   "mimetype": "text/x-python",
   "name": "python",
   "nbconvert_exporter": "python",
   "pygments_lexer": "ipython3",
   "version": "3.11.4"
  }
 },
 "nbformat": 4,
 "nbformat_minor": 5
}
