{
 "cells": [
  {
   "cell_type": "code",
   "execution_count": 1,
   "id": "3a1e9c69",
   "metadata": {},
   "outputs": [],
   "source": [
    "#http://localhost:8888/notebooks/DS/Nov26%202023%20TimeComplexity.ipynb"
   ]
  },
  {
   "cell_type": "code",
   "execution_count": 2,
   "id": "82a2eb7e",
   "metadata": {},
   "outputs": [],
   "source": [
    "#http://localhost:8888/notebooks/DS/Dec9%202023%20SearchNSortProblems.ipynb#"
   ]
  },
  {
   "cell_type": "code",
   "execution_count": null,
   "id": "ffd52c7b",
   "metadata": {},
   "outputs": [],
   "source": []
  }
 ],
 "metadata": {
  "kernelspec": {
   "display_name": "Python 3 (ipykernel)",
   "language": "python",
   "name": "python3"
  },
  "language_info": {
   "codemirror_mode": {
    "name": "ipython",
    "version": 3
   },
   "file_extension": ".py",
   "mimetype": "text/x-python",
   "name": "python",
   "nbconvert_exporter": "python",
   "pygments_lexer": "ipython3",
   "version": "3.9.13"
  }
 },
 "nbformat": 4,
 "nbformat_minor": 5
}
