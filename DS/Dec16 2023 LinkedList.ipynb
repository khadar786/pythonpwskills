{
 "cells": [
  {
   "cell_type": "code",
   "execution_count": 1,
   "id": "4600808a",
   "metadata": {},
   "outputs": [],
   "source": [
    "#Define the ListNode\n",
    "\n",
    "class Node:\n",
    "    \n",
    "    def __init__(self,data=None,next=None):\n",
    "        self.data=data\n",
    "        self.next=next\n",
    "    \n",
    "    #Method to set the data value\n",
    "    def setData(self,data):\n",
    "        self.data=data\n",
    "    \n",
    "    #Method to get the data value\n",
    "    def getData(self):\n",
    "        return self.data\n",
    "    \n",
    "    #Method to set the next\n",
    "    def setNext(self,next):\n",
    "        self.next=next\n",
    "    \n",
    "    #Method to get the next\n",
    "    def getNext(self):\n",
    "        return self.next"
   ]
  },
  {
   "cell_type": "code",
   "execution_count": 2,
   "id": "a8c2cd1d",
   "metadata": {},
   "outputs": [
    {
     "name": "stdout",
     "output_type": "stream",
     "text": [
      "1->2->3->4->"
     ]
    }
   ],
   "source": [
    "#Create a linked list -> collection of list nodes\n",
    "head = Node(1)\n",
    "node2 = Node(2)\n",
    "node3 = Node(3)\n",
    "node4 = Node(4)\n",
    "\n",
    "#Creating the linkage\n",
    "head.setNext(node2)\n",
    "node2.setNext(node3)\n",
    "node3.setNext(node4)\n",
    "\n",
    "def traverse(head):\n",
    "    temp=head\n",
    "    while temp:\n",
    "        print(temp.getData(),end=\"->\")\n",
    "        temp=temp.getNext() #jump to the next node\n",
    "\n",
    "traverse(head)"
   ]
  },
  {
   "cell_type": "code",
   "execution_count": 3,
   "id": "aadbb24d",
   "metadata": {},
   "outputs": [
    {
     "name": "stdout",
     "output_type": "stream",
     "text": [
      "1->2->3->4->"
     ]
    }
   ],
   "source": [
    "def traverseRec(head):\n",
    "    temp=head\n",
    "    #Base condition\n",
    "    if temp==None:\n",
    "        return\n",
    "    else:\n",
    "        #Logic\n",
    "        print(temp.getData(),end=\"->\")\n",
    "        #Recursion\n",
    "        traverseRec(temp.getNext())\n",
    "        \n",
    "traverseRec(head)"
   ]
  },
  {
   "cell_type": "code",
   "execution_count": 4,
   "id": "cbb3e432",
   "metadata": {},
   "outputs": [
    {
     "data": {
      "text/plain": [
       "4"
      ]
     },
     "execution_count": 4,
     "metadata": {},
     "output_type": "execute_result"
    }
   ],
   "source": [
    "def length(head):\n",
    "    ll_length=0\n",
    "    temp=head\n",
    "    while temp:\n",
    "        temp=temp.getNext() #jump to the next node\n",
    "        ll_length+=1\n",
    "    return ll_length\n",
    "\n",
    "length(head)\n",
    "        "
   ]
  },
  {
   "cell_type": "code",
   "execution_count": 5,
   "id": "9f8fc4c7",
   "metadata": {},
   "outputs": [
    {
     "data": {
      "text/plain": [
       "4"
      ]
     },
     "execution_count": 5,
     "metadata": {},
     "output_type": "execute_result"
    }
   ],
   "source": [
    "def length_rec(head):\n",
    "    if not head:\n",
    "        return 0\n",
    "    return 1+length_rec(head.getNext())\n",
    "\n",
    "length_rec(head)"
   ]
  },
  {
   "cell_type": "code",
   "execution_count": 6,
   "id": "d885d333",
   "metadata": {},
   "outputs": [],
   "source": [
    "# case 1:insert at the start 7\n",
    "# 7->3->2->5->1->\n",
    "# case 2: insert at the end\n",
    "# 3->2->5->1->7->\n",
    "# case 3:Add somewhere in middle 8 //Insert at the kth position\n",
    "# 3->2->5->1->7->\n",
    "\n",
    "\n",
    "def insertNode(head,data,k):\n",
    "    #If the k is valid\n",
    "    if k>length(head) or k<0:\n",
    "        print(\"Argument k passed is not valid\")\n",
    "        return head\n",
    "    \n",
    "    #Create new node for data\n",
    "    newNode=Node(data) #Create the new node object\n",
    "    \n",
    "    if k==0:\n",
    "        #We need to insert at the begining\n",
    "        #We need to update the head\n",
    "        newNode.setNext(head)\n",
    "        head=newNode\n",
    "    else:\n",
    "        #When not in begining\n",
    "        #We need to jump to the prev node of the position\n",
    "        prev=head\n",
    "        i=0\n",
    "        while i<k-1:\n",
    "            prev=prev.getNext()\n",
    "            i+=1\n",
    "        \n",
    "        #prev will be on position left of kth position\n",
    "        newNode.setNext(prev.getNext())\n",
    "        prev.setNext(newNode)\n",
    "    return head\n"
   ]
  },
  {
   "cell_type": "code",
   "execution_count": 7,
   "id": "2213fd2b",
   "metadata": {},
   "outputs": [
    {
     "name": "stdout",
     "output_type": "stream",
     "text": [
      "1->2->3->4->5->\n",
      "1->2->3->8->4->5->"
     ]
    }
   ],
   "source": [
    "head = Node(1)\n",
    "node2 = Node(2)\n",
    "node3 = Node(3)\n",
    "node4 = Node(4)\n",
    "node5 = Node(5)\n",
    "\n",
    "#Creating the linkage\n",
    "head.setNext(node2)\n",
    "node2.setNext(node3)\n",
    "node3.setNext(node4)\n",
    "node4.setNext(node5)\n",
    "\n",
    "traverse(head)\n",
    "print()\n",
    "\n",
    "head = insertNode(head,8,3)\n",
    "\n",
    "traverse(head)"
   ]
  },
  {
   "cell_type": "code",
   "execution_count": 12,
   "id": "35fe9176",
   "metadata": {},
   "outputs": [
    {
     "name": "stdout",
     "output_type": "stream",
     "text": [
      "1->2->3->4->5->6->7->\n",
      "1->2->3->5->6->7->"
     ]
    }
   ],
   "source": [
    "#3->2->1->4->9->5->None\n",
    "#Delete at 3rd position\n",
    "#3->2->1->9->5->None\n",
    "\n",
    "#Code for deleting/removing the Node from the LinkedList\n",
    "#Delete a node at kth position\n",
    "def remove(head,k):\n",
    "    #Check if k is valid\n",
    "    if k<0 or k>=length(head) or not head:\n",
    "        return head\n",
    "    \n",
    "    \n",
    "    if k==0:\n",
    "        #We are removing the first element\n",
    "        head=head.getNext()\n",
    "    else:\n",
    "        #We jump to k-1th position\n",
    "        i=0\n",
    "        prev=head\n",
    "        while i<k-1:\n",
    "            prev=prev.getNext()\n",
    "            i+=1\n",
    "        \n",
    "        #prev will be pointing to the node left of the kth position\n",
    "        prev.setNext(prev.getNext().getNext())\n",
    "    \n",
    "    return head\n",
    "\n",
    "head = Node(1)\n",
    "node2 = Node(2)\n",
    "node3 = Node(3)\n",
    "node4 = Node(4)\n",
    "node5 = Node(5)\n",
    "node6 = Node(6)\n",
    "node7 = Node(7)\n",
    "\n",
    "#Creating the linkage\n",
    "head.setNext(node2)\n",
    "node2.setNext(node3)\n",
    "node3.setNext(node4)\n",
    "node4.setNext(node5)\n",
    "node5.setNext(node6)\n",
    "node6.setNext(node7)\n",
    "\n",
    "traverse(head)\n",
    "print()\n",
    "head = remove(head,3)\n",
    "traverse(head)"
   ]
  },
  {
   "cell_type": "code",
   "execution_count": 17,
   "id": "d706ffcc",
   "metadata": {},
   "outputs": [
    {
     "name": "stdout",
     "output_type": "stream",
     "text": [
      "1->2->3->4->5->6->7->\n",
      "4\n"
     ]
    }
   ],
   "source": [
    "#Find the middle element in the linkedlist\n",
    "\n",
    "#3->5->1->2->9->None\n",
    "#1.Approach \n",
    "#Find the length\n",
    "#Middle position : 5/2=2nd element\n",
    "#Write loop to reach 2nd element and return it\n",
    "\n",
    "#2.2 Pointer approach\n",
    "\n",
    "def findMidPoint(head):\n",
    "    slow=head\n",
    "    fast=head\n",
    "    \n",
    "    while(fast!=None and fast.getNext()!=None):\n",
    "        slow=slow.getNext()\n",
    "        fast=fast.getNext().getNext()\n",
    "    \n",
    "    return slow.getData()\n",
    "\n",
    "\n",
    "\n",
    "head = Node(1)\n",
    "node2 = Node(2)\n",
    "node3 = Node(3)\n",
    "node4 = Node(4)\n",
    "node5 = Node(5)\n",
    "node6 = Node(6)\n",
    "node7 = Node(7)\n",
    "\n",
    "#Creating the linkage\n",
    "head.setNext(node2)\n",
    "node2.setNext(node3)\n",
    "node3.setNext(node4)\n",
    "node4.setNext(node5)\n",
    "node5.setNext(node6)\n",
    "node6.setNext(node7)\n",
    "\n",
    "traverse(head)\n",
    "print()\n",
    "print(findMidPoint(head))"
   ]
  },
  {
   "cell_type": "code",
   "execution_count": null,
   "id": "981aa71b",
   "metadata": {},
   "outputs": [],
   "source": []
  },
  {
   "cell_type": "code",
   "execution_count": null,
   "id": "91705d50",
   "metadata": {},
   "outputs": [],
   "source": []
  }
 ],
 "metadata": {
  "kernelspec": {
   "display_name": "Python 3 (ipykernel)",
   "language": "python",
   "name": "python3"
  },
  "language_info": {
   "codemirror_mode": {
    "name": "ipython",
    "version": 3
   },
   "file_extension": ".py",
   "mimetype": "text/x-python",
   "name": "python",
   "nbconvert_exporter": "python",
   "pygments_lexer": "ipython3",
   "version": "3.9.13"
  }
 },
 "nbformat": 4,
 "nbformat_minor": 5
}
