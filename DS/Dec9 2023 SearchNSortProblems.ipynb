{
 "cells": [
  {
   "cell_type": "code",
   "execution_count": 1,
   "id": "a3d10521",
   "metadata": {},
   "outputs": [],
   "source": [
    "# Problem 1 : Find the Rotation Count in Rotated Sorted array Input: arr[] = {15, 18, 2, 3, 6, 12} Output: 2 \n",
    "# Explanation: Initial array must be {2, 3, 6, 12, 15, 18}. We get the given array after rotating the initial array twice."
   ]
  },
  {
   "cell_type": "code",
   "execution_count": 5,
   "id": "bb282286",
   "metadata": {},
   "outputs": [],
   "source": [
    "# {3,9,12,16,17,18}\n",
    "# {18,3,9,12,16,17}\n",
    "# {17,18,3,9,12,16}\n",
    "# {16,17,18,3,9,12}\n",
    "#no of rotations = index of smallest element\n",
    "#43 times\n",
    "#43%6 =1"
   ]
  },
  {
   "cell_type": "code",
   "execution_count": 6,
   "id": "36eb54bb",
   "metadata": {},
   "outputs": [
    {
     "name": "stdout",
     "output_type": "stream",
     "text": [
      "2\n"
     ]
    }
   ],
   "source": [
    "def countRotations(arr):\n",
    "    min=arr[0]\n",
    "    min_index=0\n",
    "    \n",
    "    for i in range(len(arr)):\n",
    "        if min>arr[i]:\n",
    "            min=arr[i]\n",
    "            min_index=i\n",
    "    return min_index\n",
    "\n",
    "\n",
    "print(countRotations([15,18,2,3,6,12]))"
   ]
  },
  {
   "cell_type": "code",
   "execution_count": 4,
   "id": "a338f04c",
   "metadata": {},
   "outputs": [],
   "source": [
    "#search an element\n",
    "#smallest element\n",
    "#smaller than left<number<smaller than right"
   ]
  },
  {
   "cell_type": "code",
   "execution_count": 8,
   "id": "bcf9dec6",
   "metadata": {},
   "outputs": [],
   "source": [
    "# Problem 2 : Given an array of integers, print the array in such a way that \n",
    "# the first element is first maximum and second element is first minimum and so on. \n",
    "# Examples : Input : arr[] = {7, 1, 2, 3, 4, 5, 6} Output : 7 1 6 2 5 3 4\n",
    "#{3,5,1,2,8,6,4} output {8,1,6,2,5,3}\n",
    "#step 1:sorted using buble,selection,insertion {1,2,3,4,5,6,8}\n",
    "#step 2:startIndex=0 largestIndex=6\n",
    "#step 3:(6,0),(5,1),(4,2),(3) output {8,1,6,2,5,3}"
   ]
  },
  {
   "cell_type": "code",
   "execution_count": 9,
   "id": "42079276",
   "metadata": {},
   "outputs": [
    {
     "name": "stdout",
     "output_type": "stream",
     "text": [
      "8 1 6 2 5 3 4 "
     ]
    }
   ],
   "source": [
    "def bubbleSort(arr):\n",
    "    for i in range(len(arr)-1,0,-1):\n",
    "        for j in range(i):\n",
    "            if arr[j]>arr[j+1]:\n",
    "                arr[j],arr[j+1]=arr[j+1],arr[j]\n",
    "\n",
    "def printInOrder(arr):\n",
    "    bubbleSort(arr)\n",
    "    left=0\n",
    "    right=len(arr)-1\n",
    "    while left<=right:\n",
    "        if left == right :\n",
    "            print(arr[left], end=\" \")\n",
    "        else :\n",
    "            print(arr[right], end=\" \")\n",
    "            print(arr[left], end=\" \")\n",
    "        left+=1\n",
    "        right-=1\n",
    "\n",
    "printInOrder([3,5,1,2,8,6,4])"
   ]
  },
  {
   "cell_type": "code",
   "execution_count": 10,
   "id": "41a65741",
   "metadata": {},
   "outputs": [],
   "source": [
    "# Problem 3 : Sort an array in wave form Given an unsorted array of integers, sort the array into a wave like array. \n",
    "# An array ‘arr[0..n-1]’ is sorted in wave form if arr[0] >= arr[1] <= arr[2] >= arr[3] <= arr[4] >= ….. \n",
    "# Examples: Input: arr[] = {10, 5, 6, 3, 2, 20, 100, 80} \n",
    "# Output: arr[] = {10, 5, 6, 2, 20, 3, 100, 80} OR {20, 5, 10, 2, 80, 6, 100, 3} OR any other array that is in wave form\n",
    "#{1,2,5,10,23,49,90}\n",
    "#{1,5,2,10,23,49,90}\n",
    "#{1,5,2,23,10,49,90}\n",
    "#{1,5,2,23,10,90,49} wave form"
   ]
  },
  {
   "cell_type": "code",
   "execution_count": 11,
   "id": "deda9dab",
   "metadata": {},
   "outputs": [],
   "source": [
    "#[10,90,49,2,1,5,23] if the numer at even index,is smaller than left and right\n",
    "#[90,10,49,2,1,5,23] even Index=0 condition left<number<right 10<90\n",
    "#[] even Index=2 condition left<number<right 10<49<2"
   ]
  },
  {
   "cell_type": "code",
   "execution_count": 13,
   "id": "f4d38eef",
   "metadata": {},
   "outputs": [
    {
     "name": "stdout",
     "output_type": "stream",
     "text": [
      "[10, 90, 2, 49, 1, 5, 23]\n"
     ]
    }
   ],
   "source": [
    "def sortInWave(arr):\n",
    "    for i in range(0,len(arr)-1,2):\n",
    "        #Comparing with left element\n",
    "        if i>0 and arr[i]>arr[i-1]:\n",
    "            arr[i],arr[i-1]=arr[i-1],arr[i]\n",
    "        \n",
    "        #Comparing with right element\n",
    "        if i<len(arr)-1 and arr[i]>arr[i+1]:\n",
    "            arr[i],arr[i+1]=arr[i+1],arr[i]\n",
    "\n",
    "arr=[10,90,49,2,1,5,23]\n",
    "sortInWave(arr)\n",
    "print(arr)"
   ]
  },
  {
   "cell_type": "code",
   "execution_count": 14,
   "id": "a0f1f9b8",
   "metadata": {},
   "outputs": [],
   "source": [
    "#Problem 4 : Merge an array of size n into another array of size m+n in sorted order"
   ]
  },
  {
   "cell_type": "code",
   "execution_count": 15,
   "id": "9d3458ab",
   "metadata": {},
   "outputs": [],
   "source": [
    "#arr1=[3,6,9]\n",
    "#arr2=[2,7]\n",
    "#ouput=[2,3,6,7,9] "
   ]
  },
  {
   "cell_type": "code",
   "execution_count": 45,
   "id": "e78e2e37",
   "metadata": {},
   "outputs": [
    {
     "name": "stdout",
     "output_type": "stream",
     "text": [
      "[2, 6, 8, -1, -1]\n",
      "[1, 7]\n",
      "[1, 2, 6, 7, 8]\n",
      "[1, 2, 6, 7, 8]\n"
     ]
    }
   ],
   "source": [
    "def mergeArrays(arr1,m, arr2,n):\n",
    "  #Size of the arr1 is m+n and it's first m elements are having numbers\n",
    "\n",
    "    i= m-1\n",
    "    j= n-1\n",
    "    k= m+n-1\n",
    "\n",
    "    while(i>=0 and j>=0):\n",
    "        if(arr1[i]>arr2[j]):\n",
    "            arr1[k]=arr1[i]\n",
    "            i -=1\n",
    "        else :\n",
    "            arr1[k]=arr2[j]\n",
    "            j -=1\n",
    "        k -=1\n",
    "\n",
    "    while(i>=0):\n",
    "        arr1[k]=arr1[i]\n",
    "        k -= 1\n",
    "        i -= 1\n",
    "\n",
    "    while(j>=0):\n",
    "        arr1[k]=arr2[j]\n",
    "        k -=1\n",
    "        j -=1\n",
    "\n",
    "    print(arr1)\n",
    "\n",
    "arr1 = [2,6,8,-1,-1]\n",
    "print(arr1)\n",
    "arr2 = [1,7]\n",
    "print(arr2)\n",
    "mergeArrays(arr1,3, arr2,2)\n",
    "\n",
    "print(arr1)"
   ]
  },
  {
   "cell_type": "code",
   "execution_count": null,
   "id": "9f4daffb",
   "metadata": {},
   "outputs": [],
   "source": []
  }
 ],
 "metadata": {
  "kernelspec": {
   "display_name": "Python 3 (ipykernel)",
   "language": "python",
   "name": "python3"
  },
  "language_info": {
   "codemirror_mode": {
    "name": "ipython",
    "version": 3
   },
   "file_extension": ".py",
   "mimetype": "text/x-python",
   "name": "python",
   "nbconvert_exporter": "python",
   "pygments_lexer": "ipython3",
   "version": "3.9.13"
  }
 },
 "nbformat": 4,
 "nbformat_minor": 5
}
