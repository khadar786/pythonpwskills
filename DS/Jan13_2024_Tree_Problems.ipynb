{
 "cells": [
  {
   "cell_type": "code",
   "execution_count": 1,
   "id": "9502fbc9",
   "metadata": {},
   "outputs": [],
   "source": [
    "class Node :\n",
    "\n",
    "    def __init__(self, data, next=None):\n",
    "        self.data = data\n",
    "        self.next = next\n",
    "\n",
    "    def getData(self):\n",
    "        return self.data\n",
    "\n",
    "    def setData(self, data):\n",
    "        self.data = data\n",
    "\n",
    "    def setNext(self, next):\n",
    "        self.next = next\n",
    "\n",
    "    def getNext(self):\n",
    "        return self.next"
   ]
  },
  {
   "cell_type": "code",
   "execution_count": 5,
   "id": "18fbb32f",
   "metadata": {},
   "outputs": [],
   "source": [
    "class Queue :\n",
    "    def __init__(self):\n",
    "        self.head = None\n",
    "        self.tail = None\n",
    "        self.size =0\n",
    "\n",
    "    def isEmpty(self):\n",
    "        return self.head == None # self.tail == None\n",
    "\n",
    "    def enQue(self, data):\n",
    "        node = Node(data)\n",
    "\n",
    "        if self.isEmpty():\n",
    "            self.head = node\n",
    "            self.tail = node\n",
    "        else :\n",
    "            self.tail.setNext(node)\n",
    "            self.tail = self.tail.getNext()\n",
    "            self.size +=1\n",
    "\n",
    "    def deQueue(self):\n",
    "        if self.isEmpty():\n",
    "            print(\"Queue underflow\")\n",
    "            return\n",
    "        data = self.head.getData()\n",
    "\n",
    "        #chek if it's the only element\n",
    "        if(self.head == self.tail):\n",
    "            self.head = None\n",
    "            self.tail= None #Becase after deQue, Queue will be empty\n",
    "        else:\n",
    "            self.head = self.head.getNext()\n",
    "        self.size -= 1\n",
    "        return data\n",
    "\n",
    "    def traverse(self):\n",
    "        temp = self.head\n",
    "        while(temp ):\n",
    "            print(temp.getData(), end=\"->\")\n",
    "            temp = temp.getNext()\n",
    "        print()"
   ]
  },
  {
   "cell_type": "code",
   "execution_count": 12,
   "id": "fcca3081",
   "metadata": {},
   "outputs": [],
   "source": [
    "#Implement Stack using Queue\n",
    "class stackQ :\n",
    "    def __init__(self):\n",
    "        self.q1 = Queue() # it will act as the main queue\n",
    "        self.q2 = Queue()\n",
    "\n",
    "    def isEmpty(self):\n",
    "        return self.q1.isEmpty()\n",
    "\n",
    "    def push(self , data):\n",
    "        self.q1.enQue(data)\n",
    "\n",
    "    def pop(self):\n",
    "        if self.isEmpty():\n",
    "            print(\"Stack underflow error\")\n",
    "        # We need to pick the last element added\n",
    "        data = None\n",
    "        while not self.q1.isEmpty():\n",
    "            data = self.q1.deQueue()\n",
    "            if(not self.q1.isEmpty()):\n",
    "                self.q2.enQue(data)\n",
    "            self.q1, self.q2 = self.q2,self.q1\n",
    "            return data\n",
    "\n",
    "    def traverse(self):\n",
    "        self.q1.traverse()"
   ]
  },
  {
   "cell_type": "code",
   "execution_count": 13,
   "id": "41376afe",
   "metadata": {},
   "outputs": [],
   "source": [
    "s = stackQ()"
   ]
  },
  {
   "cell_type": "code",
   "execution_count": 14,
   "id": "07efe71e",
   "metadata": {},
   "outputs": [
    {
     "name": "stdout",
     "output_type": "stream",
     "text": [
      "True\n"
     ]
    }
   ],
   "source": [
    "print(s.isEmpty())"
   ]
  },
  {
   "cell_type": "code",
   "execution_count": 15,
   "id": "0b0a476a",
   "metadata": {},
   "outputs": [],
   "source": [
    "s.push(5)\n",
    "s.push(9)\n",
    "s.push(3)\n",
    "s.push(2)"
   ]
  },
  {
   "cell_type": "code",
   "execution_count": 16,
   "id": "e877f644",
   "metadata": {},
   "outputs": [
    {
     "name": "stdout",
     "output_type": "stream",
     "text": [
      "5->9->3->2->\n"
     ]
    }
   ],
   "source": [
    "s.traverse()"
   ]
  },
  {
   "cell_type": "code",
   "execution_count": 17,
   "id": "50cb4aea",
   "metadata": {},
   "outputs": [
    {
     "name": "stdout",
     "output_type": "stream",
     "text": [
      "5\n"
     ]
    }
   ],
   "source": [
    "print(s.pop())"
   ]
  },
  {
   "cell_type": "code",
   "execution_count": 18,
   "id": "4adeb039",
   "metadata": {},
   "outputs": [],
   "source": [
    "#Implement Queue using Stack\n",
    "class QueueS:\n",
    "    def __init__(self):\n",
    "        self.s1=stackQ()\n",
    "        self.s2=stackQ()\n",
    "    \n",
    "    def enQue(self,data):\n",
    "        return self.s1.push(data)\n",
    "    \n",
    "    def isEmpty(self):\n",
    "        return self.s1.isEmpty()\n",
    "    \n",
    "    def delQue(self):\n",
    "        if(self.isEmpty()):\n",
    "            print(\"Queue underflow exception\")\n",
    "            return\n",
    "        data=None\n",
    "        while not self.s1.isEmpty():\n",
    "            data=self.s1.pop()\n",
    "            if(not self.s1.isEmpty()):\n",
    "                self.s2.push(data)\n",
    "            self.s1,self.s2=self.s2,self.s1\n",
    "            return data\n",
    "        \n",
    "    def traverse(self):\n",
    "        self.s1.traverse()"
   ]
  },
  {
   "cell_type": "code",
   "execution_count": null,
   "id": "8ef3bb9f",
   "metadata": {},
   "outputs": [],
   "source": []
  }
 ],
 "metadata": {
  "kernelspec": {
   "display_name": "Python 3 (ipykernel)",
   "language": "python",
   "name": "python3"
  },
  "language_info": {
   "codemirror_mode": {
    "name": "ipython",
    "version": 3
   },
   "file_extension": ".py",
   "mimetype": "text/x-python",
   "name": "python",
   "nbconvert_exporter": "python",
   "pygments_lexer": "ipython3",
   "version": "3.9.13"
  }
 },
 "nbformat": 4,
 "nbformat_minor": 5
}
