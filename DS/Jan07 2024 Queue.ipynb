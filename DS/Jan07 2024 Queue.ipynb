{
 "cells": [
  {
   "cell_type": "markdown",
   "id": "d3c5d60c",
   "metadata": {},
   "source": [
    "Queue DS : FIFO / LILO\n",
    "1. OS Resource scheduling\n",
    "2. Load balancers\n",
    "   Round Robin Algorithm using Queue\n",
    "\n",
    "Data : Kafka distributed messaging system\n",
    "maintain the order of message -> Queue datastructure\n",
    "\n",
    "Stack :Nomenclature\n",
    "Queue: in Queue\n",
    "insert : enQueue\n",
    "remove : deQueue\n",
    "\n",
    "#rear / front \n",
    "front inde where we enQueue\n"
   ]
  },
  {
   "cell_type": "code",
   "execution_count": 37,
   "id": "07423fa6",
   "metadata": {},
   "outputs": [],
   "source": [
    "class Queue:\n",
    "    def __init__(self,capacity):\n",
    "        self.arr=[None]*capacity\n",
    "        self.capacity=capacity\n",
    "        self.front=-1\n",
    "        self.rear=-1 #in the begining both front and rear should be -1\n",
    "        self.size=0\n",
    "        \n",
    "    def isEmpty(self):\n",
    "        return self.front == -1\n",
    "    \n",
    "    def isFull(self):\n",
    "        return (self.front+1)%self.capacity == self.rear\n",
    "    \n",
    "    def enQueue(self,data):\n",
    "        if self.isFull():\n",
    "            print(\"Queue overflow\")\n",
    "            return\n",
    "        \n",
    "        #Move the fron to the right one position\n",
    "        self.front=(self.front+1)%self.capacity # ensure index is correct\n",
    "        self.arr[self.front]=data\n",
    "        \n",
    "        if self.rear == -1: # when the first element is inserted\n",
    "            self.rear=0\n",
    "        self.size+=1\n",
    "    \n",
    "    def deQueue(self):\n",
    "        if self.isEmpty():\n",
    "            print(\"Queue underflow\")\n",
    "            return\n",
    "        \n",
    "        data=self.arr[self.rear]\n",
    "        #Check is this was the only element\n",
    "        if self.rear == self.front:\n",
    "            self.rear=-1\n",
    "            self.front=-1\n",
    "            #Beacause it was the only element, and after removal it's empty\n",
    "        else:\n",
    "            self.rear=(self.rear+1)%self.capacity # ensure we are in correct index range\n",
    "            \n",
    "        self.size-=1\n",
    "        return data\n",
    "    \n",
    "    def length(self):\n",
    "        return self.size\n",
    "    \n",
    "    def traverse(self):\n",
    "        for i in range(self.size):\n",
    "            print(self.arr[(self.rear+i)%self.capacity],end=\" , \")\n",
    "    "
   ]
  },
  {
   "cell_type": "code",
   "execution_count": 38,
   "id": "26a6efc8",
   "metadata": {},
   "outputs": [],
   "source": [
    "q=Queue(5)"
   ]
  },
  {
   "cell_type": "code",
   "execution_count": 39,
   "id": "0630fb4e",
   "metadata": {},
   "outputs": [
    {
     "name": "stdout",
     "output_type": "stream",
     "text": [
      "True\n"
     ]
    }
   ],
   "source": [
    "print(q.isEmpty())"
   ]
  },
  {
   "cell_type": "code",
   "execution_count": 40,
   "id": "ebbd9297",
   "metadata": {},
   "outputs": [
    {
     "name": "stdout",
     "output_type": "stream",
     "text": [
      "False\n"
     ]
    }
   ],
   "source": [
    "print(q.isFull())"
   ]
  },
  {
   "cell_type": "code",
   "execution_count": 41,
   "id": "e2e841ef",
   "metadata": {},
   "outputs": [],
   "source": [
    "q.enQueue(4)\n",
    "q.enQueue(5)\n",
    "q.enQueue(3)"
   ]
  },
  {
   "cell_type": "code",
   "execution_count": 42,
   "id": "6a21d341",
   "metadata": {},
   "outputs": [
    {
     "name": "stdout",
     "output_type": "stream",
     "text": [
      "4 , 5 , 3 , "
     ]
    }
   ],
   "source": [
    "q.traverse()"
   ]
  },
  {
   "cell_type": "code",
   "execution_count": 43,
   "id": "bf3966ff",
   "metadata": {},
   "outputs": [
    {
     "name": "stdout",
     "output_type": "stream",
     "text": [
      "4\n"
     ]
    }
   ],
   "source": [
    "print(q.deQueue())"
   ]
  },
  {
   "cell_type": "code",
   "execution_count": 44,
   "id": "519a4640",
   "metadata": {},
   "outputs": [
    {
     "name": "stdout",
     "output_type": "stream",
     "text": [
      "5 , 3 , "
     ]
    }
   ],
   "source": [
    "q.traverse()"
   ]
  },
  {
   "cell_type": "code",
   "execution_count": null,
   "id": "6fff445d",
   "metadata": {},
   "outputs": [],
   "source": []
  }
 ],
 "metadata": {
  "kernelspec": {
   "display_name": "Python 3 (ipykernel)",
   "language": "python",
   "name": "python3"
  },
  "language_info": {
   "codemirror_mode": {
    "name": "ipython",
    "version": 3
   },
   "file_extension": ".py",
   "mimetype": "text/x-python",
   "name": "python",
   "nbconvert_exporter": "python",
   "pygments_lexer": "ipython3",
   "version": "3.9.13"
  }
 },
 "nbformat": 4,
 "nbformat_minor": 5
}
