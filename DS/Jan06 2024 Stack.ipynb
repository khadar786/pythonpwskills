{
 "cells": [
  {
   "cell_type": "code",
   "execution_count": 1,
   "id": "a6fe32a6",
   "metadata": {},
   "outputs": [],
   "source": [
    "#Stack\n",
    "#Arrange data (store,computation)\n",
    "#LD(Linear ds),Non-linear\n",
    "\n",
    "#FILO/LIFO\n",
    "#First In Last Out\n",
    "#Last In First Out\n",
    "#https://colab.research.google.com/drive/1cqxCngDj7Ab2ii945_c19TtnPC4gyVf-?usp=sharing\n"
   ]
  },
  {
   "cell_type": "code",
   "execution_count": 2,
   "id": "8ea9e244",
   "metadata": {},
   "outputs": [],
   "source": [
    "class Stack:\n",
    "    def __init__(self,capacity=1):\n",
    "        self.top=-1 # in the begining the stack will be empty\n",
    "        self.arr=[None]*capacity\n",
    "        self.capacity=capacity\n",
    "\n",
    "    def isEmpty(self):\n",
    "        return self.top==-1\n",
    "    \n",
    "    def isFull(self):\n",
    "        return self.top==self.capacity-1\n",
    "    \n",
    "    def push(self,data):\n",
    "        if self.isFull():\n",
    "            print(\"Stack overflow\")\n",
    "            return\n",
    "        self.top+=1\n",
    "        self.arr[self.top]=data\n",
    "    \n",
    "    def pop(self):\n",
    "        #Check it it's empty\n",
    "        if self.isEmpty():\n",
    "            print(\"Stack underflow\")\n",
    "            return\n",
    "        data=self.arr[self.top]\n",
    "        self.top-=1\n",
    "        return data\n",
    "     \n",
    "    def traverse(self):\n",
    "        for i in range(self.top+1):\n",
    "            print(self.arr[i],end=\",\")\n",
    "    \n",
    "    def peek(self):\n",
    "        #Check if it's empty\n",
    "        if self.isEmpty():\n",
    "            print(\"Stack underflow\")\n",
    "            return\n",
    "        data=self.arr[self.top]\n",
    "        return data #not decrementing the top value\n",
    "        \n",
    "stack=Stack(5)"
   ]
  },
  {
   "cell_type": "code",
   "execution_count": 3,
   "id": "b5c1e038",
   "metadata": {},
   "outputs": [
    {
     "name": "stdout",
     "output_type": "stream",
     "text": [
      "True\n"
     ]
    }
   ],
   "source": [
    "print(stack.isEmpty())"
   ]
  },
  {
   "cell_type": "code",
   "execution_count": 4,
   "id": "0aed5acb",
   "metadata": {},
   "outputs": [],
   "source": [
    "stack.push(3)"
   ]
  },
  {
   "cell_type": "code",
   "execution_count": 5,
   "id": "0d88694c",
   "metadata": {},
   "outputs": [],
   "source": [
    "stack.push(8)"
   ]
  },
  {
   "cell_type": "code",
   "execution_count": 6,
   "id": "6edb61e4",
   "metadata": {},
   "outputs": [],
   "source": [
    "stack.push(5)"
   ]
  },
  {
   "cell_type": "code",
   "execution_count": 7,
   "id": "e4fb0b50",
   "metadata": {},
   "outputs": [
    {
     "name": "stdout",
     "output_type": "stream",
     "text": [
      "3,8,5,"
     ]
    }
   ],
   "source": [
    "stack.traverse()"
   ]
  },
  {
   "cell_type": "code",
   "execution_count": 8,
   "id": "bf0a6aed",
   "metadata": {},
   "outputs": [
    {
     "data": {
      "text/plain": [
       "5"
      ]
     },
     "execution_count": 8,
     "metadata": {},
     "output_type": "execute_result"
    }
   ],
   "source": [
    "stack.peek()"
   ]
  },
  {
   "cell_type": "code",
   "execution_count": 9,
   "id": "7a1bacd5",
   "metadata": {},
   "outputs": [
    {
     "name": "stdout",
     "output_type": "stream",
     "text": [
      "False\n"
     ]
    }
   ],
   "source": [
    "print(stack.isEmpty())"
   ]
  },
  {
   "cell_type": "code",
   "execution_count": 10,
   "id": "5f247192",
   "metadata": {},
   "outputs": [
    {
     "name": "stdout",
     "output_type": "stream",
     "text": [
      "5\n"
     ]
    }
   ],
   "source": [
    "print(stack.pop())"
   ]
  },
  {
   "cell_type": "code",
   "execution_count": 11,
   "id": "2e58e01c",
   "metadata": {},
   "outputs": [
    {
     "name": "stdout",
     "output_type": "stream",
     "text": [
      "8\n"
     ]
    }
   ],
   "source": [
    "print(stack.pop())"
   ]
  },
  {
   "cell_type": "code",
   "execution_count": 12,
   "id": "13f15e44",
   "metadata": {},
   "outputs": [
    {
     "name": "stdout",
     "output_type": "stream",
     "text": [
      "3\n"
     ]
    }
   ],
   "source": [
    "print(stack.pop())"
   ]
  },
  {
   "cell_type": "code",
   "execution_count": 13,
   "id": "da6a8e5b",
   "metadata": {},
   "outputs": [
    {
     "name": "stdout",
     "output_type": "stream",
     "text": [
      "Stack underflow\n",
      "None\n"
     ]
    }
   ],
   "source": [
    "print(stack.pop())"
   ]
  },
  {
   "cell_type": "code",
   "execution_count": 14,
   "id": "f0f10fe4",
   "metadata": {},
   "outputs": [
    {
     "name": "stdout",
     "output_type": "stream",
     "text": [
      "True\n"
     ]
    }
   ],
   "source": [
    "print(stack.isEmpty())"
   ]
  },
  {
   "cell_type": "code",
   "execution_count": 15,
   "id": "63707dd6",
   "metadata": {},
   "outputs": [],
   "source": [
    "stack.push(20)"
   ]
  },
  {
   "cell_type": "code",
   "execution_count": 16,
   "id": "c5809c01",
   "metadata": {},
   "outputs": [],
   "source": [
    "stack.push(30)"
   ]
  },
  {
   "cell_type": "code",
   "execution_count": 17,
   "id": "49767152",
   "metadata": {},
   "outputs": [
    {
     "name": "stdout",
     "output_type": "stream",
     "text": [
      "20,30,"
     ]
    }
   ],
   "source": [
    "stack.traverse()"
   ]
  },
  {
   "cell_type": "code",
   "execution_count": 18,
   "id": "f78b742f",
   "metadata": {},
   "outputs": [],
   "source": [
    "#Linked List\n",
    "class Node:\n",
    "    \n",
    "    def __init__(self,data,next=None):\n",
    "        self.data = data\n",
    "        self.next = next\n",
    "    \n",
    "    def getData(self):\n",
    "        return self.data\n",
    "    \n",
    "    def setData(self,data):\n",
    "        self.data=data\n",
    "    \n",
    "    def setNext(self, next):\n",
    "        self.next = next\n",
    "    \n",
    "    def getNext(self):\n",
    "        return self.next"
   ]
  },
  {
   "cell_type": "code",
   "execution_count": 19,
   "id": "6213ceec",
   "metadata": {},
   "outputs": [],
   "source": [
    "class StackLL:\n",
    "    def __init__(self):\n",
    "        self.head=None # in the begining stack is empty so head is None\n",
    "    \n",
    "    def isEmpty(self):\n",
    "        return self.head==None #in the begining,head is None\n",
    "    \n",
    "    def push(self,data):\n",
    "        node=Node(data) # create a new node with the given data\n",
    "        node.setNext(self.head)\n",
    "        self.head=node\n",
    "    \n",
    "    def pop(self):\n",
    "        if(self.isEmpty()):\n",
    "            print(\"Stack underflow\")\n",
    "            return\n",
    "        data=self.head.getData()\n",
    "        self.head=self.head.getNext()\n",
    "        return data\n",
    "    \n",
    "    def peek(self):\n",
    "        if(self.isEmpty()):\n",
    "            print(\"Stack underflow\")\n",
    "            return\n",
    "        data = self.head.getData() #No changes in the head\n",
    "        return data\n",
    "    \n",
    "    def size(self): #Find the current size of stack\n",
    "        size=0\n",
    "        temp=self.head\n",
    "        while temp:\n",
    "            size+=1\n",
    "            temp=temp.getNext()\n",
    "        return size\n",
    "    \n",
    "    def traverse(self):  #Traverse the elements of the stac\n",
    "        temp = self.head\n",
    "        while(temp):\n",
    "            print(temp.getData(), end=\" -> \")\n",
    "            temp = temp.getNext()"
   ]
  },
  {
   "cell_type": "code",
   "execution_count": 20,
   "id": "cd255ad9",
   "metadata": {},
   "outputs": [],
   "source": [
    "#Problem statements\n",
    "#Expression of parnthesis -> \"[{()}]  {}\""
   ]
  },
  {
   "cell_type": "code",
   "execution_count": 21,
   "id": "66d884ed",
   "metadata": {},
   "outputs": [],
   "source": [
    "stack = StackLL()\n",
    "stack.push(7)\n",
    "stack.push(9)\n",
    "stack.push(6)"
   ]
  },
  {
   "cell_type": "code",
   "execution_count": 22,
   "id": "2556abfd",
   "metadata": {},
   "outputs": [
    {
     "name": "stdout",
     "output_type": "stream",
     "text": [
      "6 -> 9 -> 7 -> "
     ]
    }
   ],
   "source": [
    "stack.traverse()"
   ]
  },
  {
   "cell_type": "code",
   "execution_count": 23,
   "id": "971a7d7c",
   "metadata": {},
   "outputs": [],
   "source": [
    "#Balance paranthesis problem\n",
    "\n",
    "def areBracketsBalanced(exp):\n",
    "\n",
    "  #Define a stack object\n",
    "  stack = StackLL()\n",
    "\n",
    "  #iterate through each bracket in the given exp\n",
    "  for c in exp :\n",
    "    if c in ['(','{','['] :\n",
    "        stack.push(c)  #if c is one of the opening bracket, then push to the stack\n",
    "    else :\n",
    "        if stack.isEmpty():\n",
    "            return False\n",
    "        char = stack.pop()\n",
    "        if  char == \"(\" and c != \")\":\n",
    "            return False\n",
    "        elif char == \"{\" and c != \"}\":\n",
    "            return False\n",
    "        elif char == \"[\" and c != \"]\":\n",
    "            return False\n",
    "    return stack.isEmpty()"
   ]
  },
  {
   "cell_type": "code",
   "execution_count": 24,
   "id": "cefba541",
   "metadata": {},
   "outputs": [
    {
     "name": "stdout",
     "output_type": "stream",
     "text": [
      "False\n"
     ]
    }
   ],
   "source": [
    "print(areBracketsBalanced(\"{[]}\"))"
   ]
  },
  {
   "cell_type": "markdown",
   "id": "f7269181",
   "metadata": {},
   "source": [
    "Assignment Problem :\n",
    "\n",
    "Delete the middle element of the stack. And you are allowed to use only the push and pop methods of the stack. \n",
    "you can't manipulate the internal DS used to store the data"
   ]
  },
  {
   "cell_type": "code",
   "execution_count": 34,
   "id": "59523a69",
   "metadata": {},
   "outputs": [],
   "source": [
    "def deleteMiddle(stack):\n",
    "    #Implement this method -> push/pop/peek\n",
    "    s2=StackLL()\n",
    "    \n",
    "    size=stack.size()\n",
    "    \n",
    "    count=0\n",
    "    \n",
    "    while count<int(size/2):\n",
    "        s2.push(stack.pop())\n",
    "        count+=1\n",
    "        \n",
    "    stack.pop()\n",
    "    while not s2.isEmpty():\n",
    "        stack.push(s2.pop())"
   ]
  },
  {
   "cell_type": "code",
   "execution_count": 38,
   "id": "15fde8f6",
   "metadata": {},
   "outputs": [],
   "source": [
    "s=StackLL()\n",
    "s.push(5)\n",
    "s.push(9)\n",
    "s.push(1)\n",
    "s.push(4)\n",
    "s.push(3)"
   ]
  },
  {
   "cell_type": "code",
   "execution_count": 39,
   "id": "e7eeaaaf",
   "metadata": {},
   "outputs": [
    {
     "name": "stdout",
     "output_type": "stream",
     "text": [
      "3 -> 4 -> 1 -> 9 -> 5 -> "
     ]
    }
   ],
   "source": [
    "s.traverse()"
   ]
  },
  {
   "cell_type": "code",
   "execution_count": 41,
   "id": "19b84603",
   "metadata": {},
   "outputs": [],
   "source": [
    "deleteMiddle(s)"
   ]
  },
  {
   "cell_type": "code",
   "execution_count": 42,
   "id": "f2266d3b",
   "metadata": {},
   "outputs": [
    {
     "name": "stdout",
     "output_type": "stream",
     "text": [
      "3 -> 4 -> 9 -> 5 -> "
     ]
    }
   ],
   "source": [
    "s.traverse()"
   ]
  },
  {
   "cell_type": "code",
   "execution_count": 43,
   "id": "3619abc4",
   "metadata": {},
   "outputs": [],
   "source": [
    "#Additional Stack\n",
    "#No stack allowed"
   ]
  },
  {
   "cell_type": "code",
   "execution_count": 44,
   "id": "71e63169",
   "metadata": {},
   "outputs": [],
   "source": [
    "#*****\n",
    "def deleteMiddleRecursion(s,sizeOfStack,curr):\n",
    "    if s.isEmpty() or curr==sizeOfStack:\n",
    "        return\n",
    "    \n",
    "    #Remove the current item\n",
    "    x=s.pop()\n",
    "    \n",
    "    #Recursively call the fn\n",
    "    deleteMiddleRecursion(s,sizeOfStack,curr+1)\n",
    "    \n",
    "    #Put the item back\n",
    "    if curr!=int(sizeOfStack/2):\n",
    "        s.push(x)"
   ]
  },
  {
   "cell_type": "code",
   "execution_count": null,
   "id": "1cd4ea8d",
   "metadata": {},
   "outputs": [],
   "source": []
  }
 ],
 "metadata": {
  "kernelspec": {
   "display_name": "Python 3 (ipykernel)",
   "language": "python",
   "name": "python3"
  },
  "language_info": {
   "codemirror_mode": {
    "name": "ipython",
    "version": 3
   },
   "file_extension": ".py",
   "mimetype": "text/x-python",
   "name": "python",
   "nbconvert_exporter": "python",
   "pygments_lexer": "ipython3",
   "version": "3.9.13"
  }
 },
 "nbformat": 4,
 "nbformat_minor": 5
}
