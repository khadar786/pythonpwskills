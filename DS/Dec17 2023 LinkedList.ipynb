{
 "cells": [
  {
   "cell_type": "code",
   "execution_count": 1,
   "id": "bd022fb8",
   "metadata": {},
   "outputs": [],
   "source": [
    "#Cycle detection algorithm\n",
    "#1->2->3->4->5->6->3\n",
    "\n",
    "#Define the ListNode\n",
    "\n",
    "class Node:\n",
    "    \n",
    "    def __init__(self,data=None,next=None):\n",
    "        self.data=data\n",
    "        self.next=next\n",
    "    \n",
    "    #Method to set the data value\n",
    "    def setData(self,data):\n",
    "        self.data=data\n",
    "    \n",
    "    #Method to get the data value\n",
    "    def getData(self):\n",
    "        return self.data\n",
    "    \n",
    "    #Method to set the next\n",
    "    def setNext(self,next):\n",
    "        self.next=next\n",
    "    \n",
    "    #Method to get the next\n",
    "    def getNext(self):\n",
    "        return self.next"
   ]
  },
  {
   "cell_type": "code",
   "execution_count": 9,
   "id": "6cfe3ba3",
   "metadata": {},
   "outputs": [],
   "source": [
    "#Create a linked list -> collection of list nodes\n",
    "head = Node(1)\n",
    "node2 = Node(2)\n",
    "node3 = Node(3)\n",
    "node4 = Node(4)\n",
    "node5 = Node(5)\n",
    "node6 = Node(6)\n",
    "\n",
    "#Creating the linkage\n",
    "head.setNext(node2)\n",
    "node2.setNext(node3)\n",
    "node3.setNext(node4)\n",
    "node4.setNext(node5)\n",
    "node5.setNext(node6)\n",
    "node6.setNext(node3)"
   ]
  },
  {
   "cell_type": "code",
   "execution_count": 10,
   "id": "9caa3a4b",
   "metadata": {},
   "outputs": [
    {
     "name": "stdout",
     "output_type": "stream",
     "text": [
      "True\n"
     ]
    }
   ],
   "source": [
    "#Detect the cycle in the loop\n",
    "def isCyclePresent(head):\n",
    "    slow=head\n",
    "    fast=head\n",
    "    \n",
    "    while fast and fast.getNext():\n",
    "        slow=slow.getNext()\n",
    "        fast=fast.getNext().getNext()\n",
    "        \n",
    "        if fast and slow.getData()==fast.getData():\n",
    "            #print(fast,slow)\n",
    "            return True #cycle exists\n",
    "    \n",
    "    return False #Cycle doesn't exist\n",
    "\n",
    "\n",
    "print(isCyclePresent(head))"
   ]
  },
  {
   "cell_type": "code",
   "execution_count": 7,
   "id": "a31ed456",
   "metadata": {},
   "outputs": [],
   "source": [
    "#Handle duplicate data elements\n",
    "#Create a linked list -> collection of list nodes"
   ]
  },
  {
   "cell_type": "code",
   "execution_count": 11,
   "id": "df269ef9",
   "metadata": {},
   "outputs": [
    {
     "name": "stdout",
     "output_type": "stream",
     "text": [
      "3\n"
     ]
    }
   ],
   "source": [
    "#What is the starting point of cycle\n",
    "def startingPointOfCycle(head):\n",
    "    slow=head\n",
    "    fast=head\n",
    "    isCyclePresent=False\n",
    "    \n",
    "    while fast and fast.getNext():\n",
    "        slow=slow.getNext()\n",
    "        fast=fast.getNext().getNext()\n",
    "        \n",
    "        if fast and slow.getData()==fast.getData():\n",
    "            isCyclePresent=True\n",
    "            break\n",
    "    \n",
    "    if not isCyclePresent:\n",
    "        return None\n",
    "    \n",
    "    temp=head\n",
    "    while temp.getData()!=slow.getData():\n",
    "        temp=temp.getNext()\n",
    "        slow=slow.getNext()\n",
    "    \n",
    "    return temp.getData()\n",
    "\n",
    "\n",
    "\n",
    "head = Node(1)\n",
    "node2 = Node(2)\n",
    "node3 = Node(3)\n",
    "node4 = Node(4)\n",
    "node5 = Node(5)\n",
    "node6 = Node(6)\n",
    "\n",
    "#Creating the linkage\n",
    "head.setNext(node2)\n",
    "node2.setNext(node3)\n",
    "node3.setNext(node4)\n",
    "node4.setNext(node5)\n",
    "node5.setNext(node6)\n",
    "node6.setNext(node3)\n",
    "print(startingPointOfCycle(head))"
   ]
  },
  {
   "cell_type": "code",
   "execution_count": 12,
   "id": "d97c1060",
   "metadata": {},
   "outputs": [],
   "source": [
    "#Make the above code for finding loop work for duplicate nodes\n",
    "#def reverse(head):\n",
    "#    pass\n",
    "#1->2->3->4->5, 5->4->3->2->1"
   ]
  },
  {
   "cell_type": "code",
   "execution_count": null,
   "id": "2bc58014",
   "metadata": {},
   "outputs": [],
   "source": []
  }
 ],
 "metadata": {
  "kernelspec": {
   "display_name": "Python 3 (ipykernel)",
   "language": "python",
   "name": "python3"
  },
  "language_info": {
   "codemirror_mode": {
    "name": "ipython",
    "version": 3
   },
   "file_extension": ".py",
   "mimetype": "text/x-python",
   "name": "python",
   "nbconvert_exporter": "python",
   "pygments_lexer": "ipython3",
   "version": "3.9.13"
  }
 },
 "nbformat": 4,
 "nbformat_minor": 5
}
