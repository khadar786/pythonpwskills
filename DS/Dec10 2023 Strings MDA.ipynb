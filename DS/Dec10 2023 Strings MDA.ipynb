{
 "cells": [
  {
   "cell_type": "code",
   "execution_count": 1,
   "id": "a324f18e",
   "metadata": {},
   "outputs": [],
   "source": [
    "str = \"Python\"\n",
    "#String is basically a collection of words\n",
    "\n",
    "#Python doesn't support character -> 'a' is considered as string of length 1"
   ]
  },
  {
   "cell_type": "code",
   "execution_count": 2,
   "id": "6d7c3f00",
   "metadata": {},
   "outputs": [
    {
     "name": "stdout",
     "output_type": "stream",
     "text": [
      "Python\n"
     ]
    }
   ],
   "source": [
    "print(str)"
   ]
  },
  {
   "cell_type": "code",
   "execution_count": 3,
   "id": "2e215e02",
   "metadata": {},
   "outputs": [
    {
     "data": {
      "text/plain": [
       "'n'"
      ]
     },
     "execution_count": 3,
     "metadata": {},
     "output_type": "execute_result"
    }
   ],
   "source": [
    "str[-1]"
   ]
  },
  {
   "cell_type": "code",
   "execution_count": 4,
   "id": "43dad700",
   "metadata": {},
   "outputs": [
    {
     "ename": "IndexError",
     "evalue": "string index out of range",
     "output_type": "error",
     "traceback": [
      "\u001b[1;31m---------------------------------------------------------------------------\u001b[0m",
      "\u001b[1;31mIndexError\u001b[0m                                Traceback (most recent call last)",
      "\u001b[1;32m~\\AppData\\Local\\Temp\\ipykernel_13916\\3169254934.py\u001b[0m in \u001b[0;36m<module>\u001b[1;34m\u001b[0m\n\u001b[1;32m----> 1\u001b[1;33m \u001b[0mstr\u001b[0m\u001b[1;33m[\u001b[0m\u001b[1;36m10\u001b[0m\u001b[1;33m]\u001b[0m\u001b[1;33m\u001b[0m\u001b[1;33m\u001b[0m\u001b[0m\n\u001b[0m",
      "\u001b[1;31mIndexError\u001b[0m: string index out of range"
     ]
    }
   ],
   "source": [
    "str[10]"
   ]
  },
  {
   "cell_type": "code",
   "execution_count": 5,
   "id": "17bf9271",
   "metadata": {},
   "outputs": [
    {
     "name": "stdout",
     "output_type": "stream",
     "text": [
      "th\n"
     ]
    }
   ],
   "source": [
    "print(str[2:4])"
   ]
  },
  {
   "cell_type": "code",
   "execution_count": 6,
   "id": "7196394b",
   "metadata": {},
   "outputs": [
    {
     "name": "stdout",
     "output_type": "stream",
     "text": [
      "noht\n"
     ]
    }
   ],
   "source": [
    "print(str[-1:1:-1])"
   ]
  },
  {
   "cell_type": "code",
   "execution_count": 7,
   "id": "78d60af7",
   "metadata": {},
   "outputs": [
    {
     "name": "stdout",
     "output_type": "stream",
     "text": [
      "oh\n"
     ]
    }
   ],
   "source": [
    "print(str[-2:2:-1])\n",
    "#P0y1t2h3o4n5 reverse: P-6y-5t-4h-3o-2n-1"
   ]
  },
  {
   "cell_type": "code",
   "execution_count": 8,
   "id": "b4a45317",
   "metadata": {},
   "outputs": [],
   "source": [
    "#String is im-mutable"
   ]
  },
  {
   "cell_type": "code",
   "execution_count": 9,
   "id": "4b1643f6",
   "metadata": {},
   "outputs": [
    {
     "name": "stdout",
     "output_type": "stream",
     "text": [
      "P\n",
      "y\n",
      "t\n",
      "h\n",
      "o\n",
      "n\n"
     ]
    }
   ],
   "source": [
    "#Iterate through the string the same way\n",
    "for c in str:\n",
    "    print(c)"
   ]
  },
  {
   "cell_type": "code",
   "execution_count": 12,
   "id": "811bf17e",
   "metadata": {},
   "outputs": [
    {
     "name": "stdout",
     "output_type": "stream",
     "text": [
      "['H', 'e', 'l', 'l', 'o', ' ', 'S', 't', 'u', 'd', 'e', 'n', 't', 's']\n",
      "['H', 'e', 'l', 'l', 'o', ' ', 'S', 't', 'u', 'd', 'e', 'n', 't', 's']\n"
     ]
    }
   ],
   "source": [
    "#Convert the string to the character array\n",
    "str=\"Hello Students\"\n",
    "str_arr=[char for char in str]\n",
    "print(str_arr)\n",
    "\n",
    "str_list=list(str)\n",
    "print(str_list)"
   ]
  },
  {
   "cell_type": "code",
   "execution_count": 17,
   "id": "20d390a1",
   "metadata": {},
   "outputs": [
    {
     "name": "stdout",
     "output_type": "stream",
     "text": [
      "['H', 'E', 'L', 'L', 'O']\n",
      "HELLO\n"
     ]
    }
   ],
   "source": [
    "#Converting the list to string\n",
    "chr_list=['H','E','L','L','O']\n",
    "print(chr_list)\n",
    "\n",
    "str=\"\".join(chr_list)\n",
    "print(str)"
   ]
  },
  {
   "cell_type": "code",
   "execution_count": 18,
   "id": "9db8e26c",
   "metadata": {},
   "outputs": [],
   "source": [
    "#Question\n",
    "#1.string\n",
    "#2.recursion\n",
    "#3.back tracking"
   ]
  },
  {
   "cell_type": "code",
   "execution_count": 19,
   "id": "d4369f26",
   "metadata": {},
   "outputs": [],
   "source": [
    "#ABC -> All the permutations of ABC ->3!=6\n",
    "#ABC,ACB,BAC,BCA,CAB,CBA\n",
    "#['A','B','C']\n",
    "#A B C ->[ABC] [ACB]\n",
    "#B A C ->[BAC][BCA]\n",
    "#C B A ->[CBA][CAB]"
   ]
  },
  {
   "cell_type": "code",
   "execution_count": 27,
   "id": "670d948f",
   "metadata": {},
   "outputs": [
    {
     "name": "stdout",
     "output_type": "stream",
     "text": [
      "ABC\n",
      "ACB\n",
      "BAC\n",
      "BCA\n",
      "CBA\n",
      "CAB\n"
     ]
    }
   ],
   "source": [
    "# Permutations of given String\n",
    "# A permutation also called an “arrangement number” or “order,” is a rearrangement of the elements of an ordered list S into \n",
    "# a one-to-one correspondence with S itself. A string of length N has N! permutations.\n",
    "# Input: S = “ABC”\n",
    "# Output: “ABC”, “ACB”, “BAC”, “BCA”, “CBA”, “CAB”\n",
    "\n",
    "#Recursion\n",
    "#arguments\n",
    "#list of characters\n",
    "#startIndex\n",
    "#endIndex\n",
    "\n",
    "#Base condition\n",
    "#startIndex=endIndex\n",
    "#logic\n",
    "#['A','B','C']\n",
    "#A B C ->[ABC] [ACB]\n",
    "#B A C ->[BAC][BCA]\n",
    "#C B A ->[CBA][CAB]\n",
    "\n",
    "#Recursion + Back tracking approach(Algorithm)\n",
    "#callstack ->memory and excecustion,infastructure\n",
    "\n",
    "def permute(chr_arr,left,right):\n",
    "    #Base condition\n",
    "    if left==right:\n",
    "        print(\"\".join(chr_arr))\n",
    "        return\n",
    "    else:\n",
    "        # takes care of each character one after another\n",
    "        for i in range(left,right+1): \n",
    "            chr_arr[left],chr_arr[i]=chr_arr[i],chr_arr[left]\n",
    "            permute(chr_arr,left+1,right)\n",
    "            chr_arr[left],chr_arr[i]=chr_arr[i],chr_arr[left] #Go to the previous stage BackTracking\n",
    "\n",
    "permute(list(\"ABC\"),0,2)"
   ]
  },
  {
   "cell_type": "code",
   "execution_count": null,
   "id": "b4465752",
   "metadata": {},
   "outputs": [],
   "source": []
  }
 ],
 "metadata": {
  "kernelspec": {
   "display_name": "Python 3 (ipykernel)",
   "language": "python",
   "name": "python3"
  },
  "language_info": {
   "codemirror_mode": {
    "name": "ipython",
    "version": 3
   },
   "file_extension": ".py",
   "mimetype": "text/x-python",
   "name": "python",
   "nbconvert_exporter": "python",
   "pygments_lexer": "ipython3",
   "version": "3.9.13"
  }
 },
 "nbformat": 4,
 "nbformat_minor": 5
}
