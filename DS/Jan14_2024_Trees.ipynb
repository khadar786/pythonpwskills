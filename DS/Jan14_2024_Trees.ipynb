{
 "cells": [
  {
   "cell_type": "code",
   "execution_count": 1,
   "id": "93fc89ce",
   "metadata": {},
   "outputs": [],
   "source": [
    "class TreeNode :\n",
    "    def __init__(self, data):\n",
    "        self.data = data\n",
    "        self.left = None #represents the left child\n",
    "        self.right = None # represents the right child\n",
    "\n",
    "    def setData(self, data):\n",
    "        self.data = data\n",
    "\n",
    "    def getData(self):\n",
    "        return self.data\n",
    "\n",
    "    def setLeft(self, node):\n",
    "        self.left = node\n",
    "        \n",
    "    def getLeft(self):\n",
    "        return self.left\n",
    "    \n",
    "    def setRight(self,node):\n",
    "        self.right = node\n",
    "    \n",
    "    def getRight(self):\n",
    "        return self.right"
   ]
  },
  {
   "cell_type": "code",
   "execution_count": 3,
   "id": "20cb86a3",
   "metadata": {},
   "outputs": [],
   "source": [
    "# Constructing the tree\n",
    "root = TreeNode(1)\n",
    "\n",
    "#Left SubTree\n",
    "leftR = TreeNode(2)\n",
    "leftR.setLeft(TreeNode(3))\n",
    "leftR.setRight(TreeNode(4))\n",
    "root.setLeft(leftR)\n",
    "\n",
    "#Right SubTree\n",
    "rightR = TreeNode(5)\n",
    "rightR.setLeft(TreeNode(6))\n",
    "rightR.setRight(TreeNode(7))\n",
    "root.setRight(rightR)"
   ]
  },
  {
   "cell_type": "code",
   "execution_count": 7,
   "id": "d417a73a",
   "metadata": {},
   "outputs": [],
   "source": [
    "#Pre Order traversal\n",
    "\n",
    "def preOrder(root):\n",
    "    \n",
    "    #Base Condition\n",
    "    if not root:\n",
    "        return\n",
    "    \n",
    "    print(root.getData(),end=\"->\")\n",
    "    \n",
    "    #preOrder traversal of the left subtree\n",
    "    preOrder(root.getLeft())\n",
    "    \n",
    "    #preOrder traversal of the rigth subtree\n",
    "    preOrder(root.getRight())"
   ]
  },
  {
   "cell_type": "code",
   "execution_count": 8,
   "id": "371e25fe",
   "metadata": {},
   "outputs": [
    {
     "name": "stdout",
     "output_type": "stream",
     "text": [
      "1->2->3->4->5->6->7->"
     ]
    }
   ],
   "source": [
    "preOrder(root)"
   ]
  },
  {
   "cell_type": "code",
   "execution_count": 9,
   "id": "836ec349",
   "metadata": {},
   "outputs": [],
   "source": [
    "#In Order traversal\n",
    "def inOrder(root):\n",
    "    #Base Condition\n",
    "    if not root:\n",
    "        return\n",
    "    \n",
    "    #traverse the left subtree\n",
    "    inOrder(root.getLeft())\n",
    "    \n",
    "    #Print the root\n",
    "    print(root.getData(),end=\"->\")\n",
    "    \n",
    "    #traverse the right subtree\n",
    "    inOrder(root.getRight())"
   ]
  },
  {
   "cell_type": "code",
   "execution_count": 10,
   "id": "d45f9619",
   "metadata": {},
   "outputs": [
    {
     "name": "stdout",
     "output_type": "stream",
     "text": [
      "3->2->4->1->6->5->7->"
     ]
    }
   ],
   "source": [
    "inOrder(root)"
   ]
  },
  {
   "cell_type": "code",
   "execution_count": 11,
   "id": "3e8bba24",
   "metadata": {},
   "outputs": [],
   "source": [
    "def postOrder(root):\n",
    "    #Base Condition\n",
    "    if not root:\n",
    "        return\n",
    "    \n",
    "    #traverse the left subtree\n",
    "    postOrder(root.getLeft())\n",
    "    \n",
    "    #traverse the right subtree\n",
    "    postOrder(root.getRight())\n",
    "    \n",
    "    #Print the root\n",
    "    print(root.getData(),end=\"->\")"
   ]
  },
  {
   "cell_type": "code",
   "execution_count": 12,
   "id": "0b3ca0ad",
   "metadata": {},
   "outputs": [
    {
     "name": "stdout",
     "output_type": "stream",
     "text": [
      "3->4->2->6->7->5->1->"
     ]
    }
   ],
   "source": [
    "postOrder(root)"
   ]
  },
  {
   "cell_type": "code",
   "execution_count": 13,
   "id": "c3d86de7",
   "metadata": {},
   "outputs": [],
   "source": [
    "class QueueLL :\n",
    "    def __init__(self):\n",
    "        self.head = None\n",
    "        self.tail = None\n",
    "        self.size =0\n",
    "\n",
    "    def isEmpty(self):\n",
    "        return self.head == None # self.tail == None\n",
    "\n",
    "    def enQue(self, data):\n",
    "        node = Node(data)\n",
    "\n",
    "        if self.isEmpty():\n",
    "            self.head = node\n",
    "            self.tail = node\n",
    "        else :\n",
    "            self.tail.setNext(node)\n",
    "            self.tail = self.tail.getNext()\n",
    "            self.size +=1\n",
    "\n",
    "    def deQueue(self):\n",
    "        if self.isEmpty():\n",
    "            print(\"Queue underflow\")\n",
    "            return\n",
    "        data = self.head.getData()\n",
    "\n",
    "        #chek if it's the only element\n",
    "        if(self.head == self.tail):\n",
    "            self.head = None\n",
    "            self.tail= None #Becase after deQue, Queue will be empty\n",
    "        else:\n",
    "            self.head = self.head.getNext()\n",
    "        self.size -= 1\n",
    "        return data\n",
    "\n",
    "    def traverse(self):\n",
    "        temp = self.head\n",
    "        while(temp ):\n",
    "            print(temp.getData(), end=\"->\")\n",
    "            temp = temp.getNext()\n",
    "        print()"
   ]
  },
  {
   "cell_type": "code",
   "execution_count": 16,
   "id": "4a2a1c61",
   "metadata": {},
   "outputs": [],
   "source": [
    "class Node :\n",
    "\n",
    "    def __init__(self, data, next=None):\n",
    "        self.data = data\n",
    "        self.next = next\n",
    "\n",
    "    def getData(self):\n",
    "        return self.data\n",
    "\n",
    "    def setData(self, data):\n",
    "        self.data = data\n",
    "\n",
    "    def setNext(self, next):\n",
    "        self.next = next\n",
    "\n",
    "    def getNext(self):\n",
    "        return self.next"
   ]
  },
  {
   "cell_type": "code",
   "execution_count": 17,
   "id": "dfd60bcd",
   "metadata": {},
   "outputs": [],
   "source": [
    "def levelOrder(root):\n",
    "    if not root:\n",
    "        return\n",
    "    \n",
    "    q=QueueLL()\n",
    "    q.enQue(root)\n",
    "    \n",
    "    while not q.isEmpty():\n",
    "        #Deque the element from the queue\n",
    "        temp=q.deQueue()\n",
    "        print(temp.getData(),end=\"->\")\n",
    "        \n",
    "        if temp.getLeft():\n",
    "            q.enQue(temp.getLeft())\n",
    "        \n",
    "        if temp.getRight():\n",
    "            q.enQue(temp.getRight())"
   ]
  },
  {
   "cell_type": "code",
   "execution_count": 18,
   "id": "420ab9ee",
   "metadata": {},
   "outputs": [
    {
     "name": "stdout",
     "output_type": "stream",
     "text": [
      "1->2->5->3->4->6->7->"
     ]
    }
   ],
   "source": [
    "levelOrder(root)"
   ]
  },
  {
   "cell_type": "code",
   "execution_count": 21,
   "id": "1de3428d",
   "metadata": {},
   "outputs": [],
   "source": [
    "#Find the maximum element of tree\n",
    "def max(root):\n",
    "    if not root:\n",
    "        return\n",
    "    \n",
    "    q=QueueLL()\n",
    "    q.enQue(root)\n",
    "    maxElement=root.getData()\n",
    "    \n",
    "    while not q.isEmpty():\n",
    "        #Deque the element from the queue\n",
    "        temp=q.deQueue()\n",
    "        if temp.getData()>maxElement:\n",
    "            maxElement=temp.getData()\n",
    "            \n",
    "        print(temp.getData(),end=\"->\")\n",
    "        \n",
    "        if temp.getLeft():\n",
    "            q.enQue(temp.getLeft())\n",
    "        \n",
    "        if temp.getRight():\n",
    "            q.enQue(temp.getRight())\n",
    "    return maxElement"
   ]
  },
  {
   "cell_type": "code",
   "execution_count": 22,
   "id": "697a38bc",
   "metadata": {},
   "outputs": [
    {
     "name": "stdout",
     "output_type": "stream",
     "text": [
      "1->2->5->3->4->6->7->"
     ]
    },
    {
     "data": {
      "text/plain": [
       "7"
      ]
     },
     "execution_count": 22,
     "metadata": {},
     "output_type": "execute_result"
    }
   ],
   "source": [
    "max(root)"
   ]
  },
  {
   "cell_type": "code",
   "execution_count": 25,
   "id": "090da0bf",
   "metadata": {},
   "outputs": [],
   "source": [
    "def maximum(a,b,c):\n",
    "    if a>=b :\n",
    "        if a>=c :\n",
    "            return a\n",
    "        else :\n",
    "            return c\n",
    "    else :\n",
    "        if b >=c :\n",
    "            return b\n",
    "        else :\n",
    "            return c"
   ]
  },
  {
   "cell_type": "code",
   "execution_count": 26,
   "id": "c55bcf48",
   "metadata": {},
   "outputs": [],
   "source": [
    "def maxRec(root):\n",
    "    if not root:\n",
    "        return float(\"-inf\") # represents the num smaller than all other numbers\n",
    "    \n",
    "    max_left = maxRec(root.getLeft())\n",
    "    max_right = maxRec(root.getRight())\n",
    "    return maximum(max_left, max_right, root.getData())"
   ]
  },
  {
   "cell_type": "code",
   "execution_count": 27,
   "id": "a95762c1",
   "metadata": {},
   "outputs": [
    {
     "data": {
      "text/plain": [
       "7"
      ]
     },
     "execution_count": 27,
     "metadata": {},
     "output_type": "execute_result"
    }
   ],
   "source": [
    "maxRec(root)"
   ]
  },
  {
   "cell_type": "code",
   "execution_count": 28,
   "id": "c0513700",
   "metadata": {},
   "outputs": [],
   "source": [
    "def minimum(a,b,c):\n",
    "    if a<=b :\n",
    "        if a<=c :\n",
    "            return a\n",
    "        else :\n",
    "            return c\n",
    "    else :\n",
    "        if b <=c :\n",
    "            return b\n",
    "        else :\n",
    "            return c"
   ]
  },
  {
   "cell_type": "code",
   "execution_count": 31,
   "id": "eb3945e0",
   "metadata": {},
   "outputs": [],
   "source": [
    "def miniRec(root):\n",
    "    if not root:\n",
    "        return float(\"-inf\") # represents the num smaller than all other numbers\n",
    "    \n",
    "    max_left = maxRec(root.getLeft())\n",
    "    max_right = maxRec(root.getRight())\n",
    "    return minimum(max_left, max_right, root.getData())"
   ]
  },
  {
   "cell_type": "code",
   "execution_count": 32,
   "id": "4d97c8f1",
   "metadata": {},
   "outputs": [
    {
     "data": {
      "text/plain": [
       "1"
      ]
     },
     "execution_count": 32,
     "metadata": {},
     "output_type": "execute_result"
    }
   ],
   "source": [
    "miniRec(root)"
   ]
  },
  {
   "cell_type": "code",
   "execution_count": null,
   "id": "091c6731",
   "metadata": {},
   "outputs": [],
   "source": []
  }
 ],
 "metadata": {
  "kernelspec": {
   "display_name": "Python 3 (ipykernel)",
   "language": "python",
   "name": "python3"
  },
  "language_info": {
   "codemirror_mode": {
    "name": "ipython",
    "version": 3
   },
   "file_extension": ".py",
   "mimetype": "text/x-python",
   "name": "python",
   "nbconvert_exporter": "python",
   "pygments_lexer": "ipython3",
   "version": "3.9.13"
  }
 },
 "nbformat": 4,
 "nbformat_minor": 5
}
